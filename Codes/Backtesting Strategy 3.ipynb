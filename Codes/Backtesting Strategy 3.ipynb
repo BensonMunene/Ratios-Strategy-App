{
 "cells": [
  {
   "cell_type": "code",
   "execution_count": 2,
   "metadata": {},
   "outputs": [],
   "source": [
    "import pandas as pd\n",
    "import numpy as np\n",
    "import os\n",
    "import matplotlib.pyplot as plt\n",
    "import seaborn as sns\n",
    "import matplotlib.dates as mdates\n",
    "import matplotlib.ticker as mticker\n",
    "import yfinance as yf\n",
    "from datetime import datetime"
   ]
  },
  {
   "cell_type": "code",
   "execution_count": 3,
   "metadata": {},
   "outputs": [],
   "source": [
    "# Suppress all warnings\n",
    "import warnings\n",
    "warnings.simplefilter(action='ignore', category=Warning)"
   ]
  },
  {
   "cell_type": "code",
   "execution_count": 4,
   "metadata": {},
   "outputs": [],
   "source": [
    "# Set the working directory\n",
    "os.chdir(r\"D:\\Benson\\aUpWork\\Douglas Backtester Algo\\Backtester Algorithm\\Data\")"
   ]
  },
  {
   "cell_type": "markdown",
   "metadata": {},
   "source": [
    "## STRATEGY 3 INVESTMENT RULES"
   ]
  },
  {
   "cell_type": "markdown",
   "metadata": {},
   "source": [
    "- enter when vix is less than 20 (range is 0 to 20) and VVIX is less than 95 (range is 95 to 0)\n",
    "\n",
    "- exit if VVIX goes above 100, or VIX goes above 20\n",
    "\n"
   ]
  },
  {
   "cell_type": "code",
   "execution_count": 5,
   "metadata": {},
   "outputs": [
    {
     "data": {
      "application/vnd.microsoft.datawrangler.viewer.v0+json": {
       "columns": [
        {
         "name": "index",
         "rawType": "int64",
         "type": "integer"
        },
        {
         "name": "Date",
         "rawType": "datetime64[ns]",
         "type": "datetime"
        },
        {
         "name": "YMAX",
         "rawType": "float64",
         "type": "float"
        },
        {
         "name": "YMAX Dividends",
         "rawType": "float64",
         "type": "float"
        },
        {
         "name": "YMAG",
         "rawType": "float64",
         "type": "float"
        },
        {
         "name": "YMAG Dividends",
         "rawType": "float64",
         "type": "float"
        },
        {
         "name": "VIX",
         "rawType": "float64",
         "type": "float"
        },
        {
         "name": "VVIX",
         "rawType": "float64",
         "type": "float"
        },
        {
         "name": "QQQ",
         "rawType": "float64",
         "type": "float"
        }
       ],
       "conversionMethod": "pd.DataFrame",
       "ref": "73580c73-a2ea-4205-ad8e-c7c3214cb383",
       "rows": [
        [
         "0",
         "2024-01-31 00:00:00",
         "20.2",
         "0.0",
         "19.49",
         "0.0",
         "14.350000381469728",
         "87.55999755859375",
         "414.5067443847656"
        ],
        [
         "1",
         "2024-02-01 00:00:00",
         "20.39",
         "0.0",
         "19.75",
         "0.0",
         "13.880000114440918",
         "84.83000183105469",
         "419.3877258300781"
        ],
        [
         "2",
         "2024-02-02 00:00:00",
         "20.7",
         "0.0",
         "20.3",
         "0.0",
         "13.850000381469728",
         "83.30999755859375",
         "426.4755859375"
        ],
        [
         "3",
         "2024-02-05 00:00:00",
         "20.44",
         "0.0",
         "20.19",
         "0.0",
         "13.670000076293944",
         "79.58000183105469",
         "425.9189453125"
        ],
        [
         "4",
         "2024-02-06 00:00:00",
         "20.61",
         "0.0",
         "20.2",
         "0.0",
         "13.0600004196167",
         "76.97000122070312",
         "425.0639953613281"
        ]
       ],
       "shape": {
        "columns": 8,
        "rows": 5
       }
      },
      "text/html": [
       "<div>\n",
       "<style scoped>\n",
       "    .dataframe tbody tr th:only-of-type {\n",
       "        vertical-align: middle;\n",
       "    }\n",
       "\n",
       "    .dataframe tbody tr th {\n",
       "        vertical-align: top;\n",
       "    }\n",
       "\n",
       "    .dataframe thead th {\n",
       "        text-align: right;\n",
       "    }\n",
       "</style>\n",
       "<table border=\"1\" class=\"dataframe\">\n",
       "  <thead>\n",
       "    <tr style=\"text-align: right;\">\n",
       "      <th></th>\n",
       "      <th>Date</th>\n",
       "      <th>YMAX</th>\n",
       "      <th>YMAX Dividends</th>\n",
       "      <th>YMAG</th>\n",
       "      <th>YMAG Dividends</th>\n",
       "      <th>VIX</th>\n",
       "      <th>VVIX</th>\n",
       "      <th>QQQ</th>\n",
       "    </tr>\n",
       "  </thead>\n",
       "  <tbody>\n",
       "    <tr>\n",
       "      <th>0</th>\n",
       "      <td>2024-01-31</td>\n",
       "      <td>20.20</td>\n",
       "      <td>0.0</td>\n",
       "      <td>19.49</td>\n",
       "      <td>0.0</td>\n",
       "      <td>14.35</td>\n",
       "      <td>87.559998</td>\n",
       "      <td>414.506744</td>\n",
       "    </tr>\n",
       "    <tr>\n",
       "      <th>1</th>\n",
       "      <td>2024-02-01</td>\n",
       "      <td>20.39</td>\n",
       "      <td>0.0</td>\n",
       "      <td>19.75</td>\n",
       "      <td>0.0</td>\n",
       "      <td>13.88</td>\n",
       "      <td>84.830002</td>\n",
       "      <td>419.387726</td>\n",
       "    </tr>\n",
       "    <tr>\n",
       "      <th>2</th>\n",
       "      <td>2024-02-02</td>\n",
       "      <td>20.70</td>\n",
       "      <td>0.0</td>\n",
       "      <td>20.30</td>\n",
       "      <td>0.0</td>\n",
       "      <td>13.85</td>\n",
       "      <td>83.309998</td>\n",
       "      <td>426.475586</td>\n",
       "    </tr>\n",
       "    <tr>\n",
       "      <th>3</th>\n",
       "      <td>2024-02-05</td>\n",
       "      <td>20.44</td>\n",
       "      <td>0.0</td>\n",
       "      <td>20.19</td>\n",
       "      <td>0.0</td>\n",
       "      <td>13.67</td>\n",
       "      <td>79.580002</td>\n",
       "      <td>425.918945</td>\n",
       "    </tr>\n",
       "    <tr>\n",
       "      <th>4</th>\n",
       "      <td>2024-02-06</td>\n",
       "      <td>20.61</td>\n",
       "      <td>0.0</td>\n",
       "      <td>20.20</td>\n",
       "      <td>0.0</td>\n",
       "      <td>13.06</td>\n",
       "      <td>76.970001</td>\n",
       "      <td>425.063995</td>\n",
       "    </tr>\n",
       "  </tbody>\n",
       "</table>\n",
       "</div>"
      ],
      "text/plain": [
       "        Date   YMAX  YMAX Dividends   YMAG  YMAG Dividends    VIX       VVIX  \\\n",
       "0 2024-01-31  20.20             0.0  19.49             0.0  14.35  87.559998   \n",
       "1 2024-02-01  20.39             0.0  19.75             0.0  13.88  84.830002   \n",
       "2 2024-02-02  20.70             0.0  20.30             0.0  13.85  83.309998   \n",
       "3 2024-02-05  20.44             0.0  20.19             0.0  13.67  79.580002   \n",
       "4 2024-02-06  20.61             0.0  20.20             0.0  13.06  76.970001   \n",
       "\n",
       "          QQQ  \n",
       "0  414.506744  \n",
       "1  419.387726  \n",
       "2  426.475586  \n",
       "3  425.918945  \n",
       "4  425.063995  "
      ]
     },
     "execution_count": 5,
     "metadata": {},
     "output_type": "execute_result"
    }
   ],
   "source": [
    "# Load the data\n",
    "data = pd.read_csv(\"All Assets and Dividends.csv\")\n",
    "\n",
    "# Convert the Date column to datetime format\n",
    "data[\"Date\"] = pd.to_datetime(data[\"Date\"])\n",
    "\n",
    "# reorder the position of columns\n",
    "data = data[['Date', 'YMAX', 'YMAX Dividends', 'YMAG', 'YMAG Dividends', 'VIX', 'VVIX', 'QQQ']]\n",
    "\n",
    "\n",
    "#view the data\n",
    "data.head()\n"
   ]
  },
  {
   "cell_type": "markdown",
   "metadata": {},
   "source": [
    "# YMAX STRATEGY 3 BACKTEST"
   ]
  },
  {
   "cell_type": "code",
   "execution_count": 6,
   "metadata": {},
   "outputs": [
    {
     "data": {
      "image/png": "[encoded data removed]",
      "text/plain": [
       "<Figure size 1200x600 with 1 Axes>"
      ]
     },
     "metadata": {},
     "output_type": "display_data"
    },
    {
     "data": {
      "image/png": "[encoded data removed]",
      "text/plain": [
       "<Figure size 1200x400 with 1 Axes>"
      ]
     },
     "metadata": {},
     "output_type": "display_data"
    }
   ],
   "source": [
    "# ------------------------------------------------------------\n",
    "# 1) PREPARE THE DATA\n",
    "# ------------------------------------------------------------\n",
    "ymax_df = data.copy()\n",
    "\n",
    "# Define initial portfolio value\n",
    "initial_investment = 10000.0  # $10,000 starting capital\n",
    "\n",
    "# Sort by date to ensure chronological order\n",
    "ymax_df.sort_values(\"Date\", inplace=True)\n",
    "ymax_df.reset_index(drop=True, inplace=True)\n",
    "\n",
    "# ------------------------------------------------------------\n",
    "# 2) DEFINE HELPER FUNCTIONS FOR CONDITIONS\n",
    "# ------------------------------------------------------------\n",
    "# Function to check if we are in the market (entry/in-market condition)\n",
    "def in_market_condition(vix, vvix):\n",
    "    \"\"\"\n",
    "    Condition for entering or remaining in the market:\n",
    "    Enter when VIX < 20 and VVIX < 95.\n",
    "    \"\"\"\n",
    "    return (vix < 20) and (vvix < 95)\n",
    "\n",
    "# Function to check the exit condition\n",
    "def exit_condition(vix, vvix):\n",
    "    \"\"\"\n",
    "    Exit the market if:\n",
    "    VIX > 20 or VVIX > 100.\n",
    "    \"\"\"\n",
    "    return (vix > 20) or (vvix > 100)\n",
    "\n",
    "# ------------------------------------------------------------\n",
    "# 3) SET UP BACKTEST COLUMNS AND INITIAL VALUES\n",
    "# ------------------------------------------------------------\n",
    "ymax_df[\"Portfolio_Value\"] = np.nan\n",
    "ymax_df.loc[0, \"Portfolio_Value\"] = initial_investment\n",
    "\n",
    "# Boolean: are we currently invested?\n",
    "ymax_df[\"In_Market\"] = False\n",
    "ymax_df.loc[0, \"In_Market\"] = False\n",
    "\n",
    "# Track how many shares of YMAX we hold\n",
    "ymax_df[\"Shares_Held\"] = 0.0\n",
    "ymax_df.loc[0, \"Shares_Held\"] = 0.0\n",
    "\n",
    "# Strategy label for each day\n",
    "ymax_df[\"Strategy\"] = \"No Investment\"\n",
    "\n",
    "# ------------------------------------------------------------\n",
    "# 4) BACKTEST LOOP\n",
    "# ------------------------------------------------------------\n",
    "for i in range(1, len(ymax_df)):\n",
    "    # Carry forward the previous day's portfolio value, in-market status, and shares held\n",
    "    ymax_df.loc[i, \"Portfolio_Value\"] = ymax_df.loc[i-1, \"Portfolio_Value\"]\n",
    "    ymax_df.loc[i, \"In_Market\"] = ymax_df.loc[i-1, \"In_Market\"]\n",
    "    ymax_df.loc[i, \"Shares_Held\"] = ymax_df.loc[i-1, \"Shares_Held\"]\n",
    "\n",
    "    # Current day data\n",
    "    vix_today = ymax_df.loc[i, \"VIX\"]\n",
    "    vvix_today = ymax_df.loc[i, \"VVIX\"]\n",
    "    ymax_price_today = ymax_df.loc[i, \"YMAX\"]\n",
    "    ymax_div_today = ymax_df.loc[i, \"YMAX Dividends\"]\n",
    "\n",
    "    # Are we in the market at the start of today?\n",
    "    currently_in_market = ymax_df.loc[i-1, \"In_Market\"]\n",
    "\n",
    "    if currently_in_market:\n",
    "        # If in the market, check if we need to exit\n",
    "        if exit_condition(vix_today, vvix_today):\n",
    "            # EXIT: close position -> set shares to 0, remain in cash\n",
    "            ymax_df.loc[i, \"In_Market\"] = False\n",
    "            ymax_df.loc[i, \"Shares_Held\"] = 0.0\n",
    "            ymax_df.loc[i, \"Strategy\"] = \"No Investment\"\n",
    "            # Portfolio_Value remains the same (carried forward)\n",
    "        else:\n",
    "            # REMAIN IN MARKET: update portfolio value based on today's price and dividend\n",
    "            shares_held = ymax_df.loc[i, \"Shares_Held\"]\n",
    "            new_portfolio_value = shares_held * (ymax_price_today + ymax_div_today)\n",
    "            ymax_df.loc[i, \"Portfolio_Value\"] = new_portfolio_value\n",
    "            ymax_df.loc[i, \"Strategy\"] = \"Long YMAX\"\n",
    "    else:\n",
    "        # If currently out of the market, check if entry (in-market) condition is met\n",
    "        if in_market_condition(vix_today, vvix_today):\n",
    "            # ENTER: buy shares with all available cash\n",
    "            cash_available = ymax_df.loc[i, \"Portfolio_Value\"]\n",
    "            if ymax_price_today > 0:\n",
    "                shares_bought = cash_available / ymax_price_today\n",
    "                ymax_df.loc[i, \"Shares_Held\"] = shares_bought\n",
    "                ymax_df.loc[i, \"In_Market\"] = True\n",
    "                ymax_df.loc[i, \"Strategy\"] = \"Long YMAX\"\n",
    "                # Immediately update portfolio value with today's price and dividend\n",
    "                new_portfolio_value = shares_bought * (ymax_price_today + ymax_div_today)\n",
    "                ymax_df.loc[i, \"Portfolio_Value\"] = new_portfolio_value\n",
    "            else:\n",
    "                # If the price is 0 or invalid, skip entry\n",
    "                ymax_df.loc[i, \"Strategy\"] = \"No Investment\"\n",
    "        else:\n",
    "            # Remain out of the market\n",
    "            ymax_df.loc[i, \"Strategy\"] = \"No Investment\"\n",
    "\n",
    "# ------------------------------------------------------------\n",
    "# 5) COMPUTE DAILY RETURNS\n",
    "# ------------------------------------------------------------\n",
    "ymax_df[\"Portfolio_Return\"] = ymax_df[\"Portfolio_Value\"].pct_change()\n",
    "\n",
    "# ------------------------------------------------------------\n",
    "# 6) VISUALIZE RESULTS\n",
    "# ------------------------------------------------------------\n",
    "sns.set_style(\"whitegrid\")\n",
    "\n",
    "# (A) Portfolio Performance Plot\n",
    "plt.figure(figsize=(12, 6))\n",
    "ax = sns.lineplot(\n",
    "    x=ymax_df[\"Date\"],\n",
    "    y=ymax_df[\"Portfolio_Value\"],\n",
    "    color=\"blue\",\n",
    "    linewidth=2.5,\n",
    "    label=\"Portfolio Value (YMAX)\"\n",
    ")\n",
    "ax.xaxis.set_major_locator(mdates.MonthLocator())\n",
    "ax.xaxis.set_major_formatter(mdates.DateFormatter(\"%Y-%m\"))\n",
    "plt.xlabel(\"Date\", fontsize=14, fontweight=\"bold\")\n",
    "plt.ylabel(\"Portfolio Value ($)\", fontsize=14, fontweight=\"bold\")\n",
    "plt.title(\"📈 Portfolio Performance for YMAX (Strategy 3)\", fontsize=16, fontweight=\"bold\", color=\"darkblue\")\n",
    "plt.xticks(rotation=45, fontsize=12)\n",
    "plt.yticks(fontsize=12)\n",
    "plt.grid(True, linestyle=\"--\", linewidth=1.2, color=\"gray\")\n",
    "plt.legend(fontsize=12, loc=\"upper left\", frameon=True, shadow=True, edgecolor=\"black\")\n",
    "plt.show()\n",
    "\n",
    "# (B) Strategy Usage Over Time\n",
    "plt.figure(figsize=(12, 4))\n",
    "ax = sns.barplot(\n",
    "    x=ymax_df[\"Strategy\"].value_counts().index,\n",
    "    y=ymax_df[\"Strategy\"].value_counts().values,\n",
    "    palette=[\"royalblue\", \"red\", \"green\"]\n",
    ")\n",
    "plt.xlabel(\"Strategy\", fontsize=14, fontweight=\"bold\")\n",
    "plt.ylabel(\"Number of Days\", fontsize=14, fontweight=\"bold\")\n",
    "plt.title(\"📊 Strategy 3 Distribution Over Time (YMAX)\", fontsize=16, fontweight=\"bold\", color=\"navy\")\n",
    "plt.xticks(rotation=45, fontsize=12)\n",
    "plt.grid(axis=\"y\", linestyle=\"--\", linewidth=1.2, color=\"gray\")\n",
    "plt.show()\n"
   ]
  },
  {
   "cell_type": "code",
   "execution_count": 7,
   "metadata": {},
   "outputs": [
    {
     "data": {
      "image/png": "[encoded data removed]",
      "text/plain": [
       "<Figure size 1200x600 with 2 Axes>"
      ]
     },
     "metadata": {},
     "output_type": "display_data"
    }
   ],
   "source": [
    "# ---------------------------------------------\n",
    "# STEP A: Identify Entry and Exit Days\n",
    "# ---------------------------------------------\n",
    "# Entry Day = Yesterday was out of market, today is in market\n",
    "ymax_df[\"Entry\"] = (ymax_df[\"In_Market\"].shift(1) == False) & (ymax_df[\"In_Market\"] == True)\n",
    "\n",
    "# Exit Day = Yesterday was in market, today is out of market\n",
    "ymax_df[\"Exit\"] = (ymax_df[\"In_Market\"].shift(1) == True) & (ymax_df[\"In_Market\"] == False)\n",
    "\n",
    "# ---------------------------------------------\n",
    "# STEP B: Prepare Data for Plotting\n",
    "# ---------------------------------------------\n",
    "entry_days = ymax_df[ymax_df[\"Entry\"] == True]\n",
    "exit_days  = ymax_df[ymax_df[\"Exit\"] == True]\n",
    "\n",
    "# Sort data by date (just to be safe)\n",
    "ymax_df.sort_values(\"Date\", inplace=True)\n",
    "ymax_df.reset_index(drop=True, inplace=True)\n",
    "\n",
    "# ---------------------------------------------\n",
    "# STEP C: Create the Dual-Axis Plot\n",
    "# ---------------------------------------------\n",
    "sns.set_style(\"whitegrid\")\n",
    "fig, ax1 = plt.subplots(figsize=(12, 6))\n",
    "\n",
    "# LEFT Y-AXIS: Plot YMAX Price\n",
    "ax1.set_xlabel(\"Date\", fontsize=14, fontweight=\"bold\")\n",
    "ax1.set_ylabel(\"YMAX Price ($)\", fontsize=14, fontweight=\"bold\", color=\"blue\")\n",
    "\n",
    "# Plot YMAX Price line\n",
    "line1, = ax1.plot(ymax_df[\"Date\"], ymax_df[\"YMAX\"], color=\"blue\", linewidth=2, label=\"YMAX Price\")\n",
    "\n",
    "# Add entry (^) and exit (v) markers on YMAX\n",
    "ax1.scatter(entry_days[\"Date\"], entry_days[\"YMAX\"], marker=\"^\", color=\"blue\", s=100, label=\"Entry\")\n",
    "ax1.scatter(exit_days[\"Date\"], exit_days[\"YMAX\"], marker=\"v\", color=\"red\", s=100, label=\"Exit\")\n",
    "\n",
    "# Make the left y-axis text blue for clarity\n",
    "ax1.tick_params(axis='y', labelcolor=\"blue\")\n",
    "\n",
    "# Format the date axis\n",
    "ax1.xaxis.set_major_locator(mdates.MonthLocator())\n",
    "ax1.xaxis.set_major_formatter(mdates.DateFormatter(\"%Y-%m\"))\n",
    "plt.xticks(rotation=45, fontsize=11)\n",
    "plt.yticks(fontsize=11)\n",
    "\n",
    "# ---------------------------------------------\n",
    "# RIGHT Y-AXIS: Plot Portfolio Value\n",
    "# ---------------------------------------------\n",
    "ax2 = ax1.twinx()  # share the same x-axis\n",
    "ax2.set_ylabel(\"Portfolio Value ($)\", fontsize=14, fontweight=\"bold\", color=\"red\")\n",
    "\n",
    "line2, = ax2.plot(\n",
    "    ymax_df[\"Date\"],\n",
    "    ymax_df[\"Portfolio_Value\"],\n",
    "    color=\"red\",\n",
    "    linewidth=2,\n",
    "    label=\"Portfolio Value\"\n",
    ")\n",
    "ax2.tick_params(axis='y', labelcolor=\"red\")\n",
    "plt.yticks(fontsize=11)\n",
    "\n",
    "# ---------------------------------------------\n",
    "# STEP D: Enhance the Plot\n",
    "# ---------------------------------------------\n",
    "plt.title(\"YMAX Price (Left Axis) vs. Portfolio Value (Right Axis)\", fontsize=16, fontweight=\"bold\")\n",
    "plt.grid(True, linestyle=\"--\", linewidth=1.2, color=\"gray\")\n",
    "\n",
    "# Combine legends from both axes\n",
    "lines_1, labels_1 = ax1.get_legend_handles_labels()\n",
    "lines_2, labels_2 = ax2.get_legend_handles_labels()\n",
    "ax1.legend(lines_1 + lines_2, labels_1 + labels_2, loc=\"upper center\", frameon=True, shadow=True)\n",
    "\n",
    "plt.tight_layout()\n",
    "plt.show()\n"
   ]
  },
  {
   "cell_type": "code",
   "execution_count": 8,
   "metadata": {},
   "outputs": [
    {
     "data": {
      "application/vnd.plotly.v1+json": {
       "config": {
        "plotlyServerURL": "https://plot.ly"
       },
       "data": [
        {
         "line": {
          "color": "blue",
          "width": 2
         },
         "mode": "lines",
         "name": "YMAX Price",
         "type": "scatter",
         "x": [
          "2024-01-31T00:00:00.000000000",
          "2024-02-01T00:00:00.000000000",
          "2024-02-02T00:00:00.000000000",
          "2024-02-05T00:00:00.000000000",
          "2024-02-06T00:00:00.000000000",
          "2024-02-07T00:00:00.000000000",
          "2024-02-08T00:00:00.000000000",
          "2024-02-09T00:00:00.000000000",
          "2024-02-12T00:00:00.000000000",
          "2024-02-13T00:00:00.000000000",
          "2024-02-14T00:00:00.000000000",
          "2024-02-15T00:00:00.000000000",
          "2024-02-16T00:00:00.000000000",
          "2024-02-20T00:00:00.000000000",
          "2024-02-21T00:00:00.000000000",
          "2024-02-22T00:00:00.000000000",
          "2024-02-23T00:00:00.000000000",
          "2024-02-26T00:00:00.000000000",
          "2024-02-27T00:00:00.000000000",
          "2024-02-28T00:00:00.000000000",
          "2024-02-29T00:00:00.000000000",
          "2024-03-01T00:00:00.000000000",
          "2024-03-04T00:00:00.000000000",
          "2024-03-05T00:00:00.000000000",
          "2024-03-06T00:00:00.000000000",
          "2024-03-07T00:00:00.000000000",
          "2024-03-08T00:00:00.000000000",
          "2024-03-11T00:00:00.000000000",
          "2024-03-12T00:00:00.000000000",
          "2024-03-13T00:00:00.000000000",
          "2024-03-14T00:00:00.000000000",
          "2024-03-15T00:00:00.000000000",
          "2024-03-18T00:00:00.000000000",
          "2024-03-19T00:00:00.000000000",
          "2024-03-20T00:00:00.000000000",
          "2024-03-21T00:00:00.000000000",
          "2024-03-22T00:00:00.000000000",
          "2024-03-25T00:00:00.000000000",
          "2024-03-26T00:00:00.000000000",
          "2024-03-27T00:00:00.000000000",
          "2024-03-28T00:00:00.000000000",
          "2024-04-01T00:00:00.000000000",
          "2024-04-02T00:00:00.000000000",
          "2024-04-03T00:00:00.000000000",
          "2024-04-04T00:00:00.000000000",
          "2024-04-05T00:00:00.000000000",
          "2024-04-08T00:00:00.000000000",
          "2024-04-09T00:00:00.000000000",
          "2024-04-10T00:00:00.000000000",
          "2024-04-11T00:00:00.000000000",
          "2024-04-12T00:00:00.000000000",
          "2024-04-15T00:00:00.000000000",
          "2024-04-16T00:00:00.000000000",
          "2024-04-17T00:00:00.000000000",
          "2024-04-18T00:00:00.000000000",
          "2024-04-19T00:00:00.000000000",
          "2024-04-22T00:00:00.000000000",
          "2024-04-23T00:00:00.000000000",
          "2024-04-24T00:00:00.000000000",
          "2024-04-25T00:00:00.000000000",
          "2024-04-26T00:00:00.000000000",
          "2024-04-29T00:00:00.000000000",
          "2024-04-30T00:00:00.000000000",
          "2024-05-01T00:00:00.000000000",
          "2024-05-02T00:00:00.000000000",
          "2024-05-03T00:00:00.000000000",
          "2024-05-06T00:00:00.000000000",
          "2024-05-07T00:00:00.000000000",
          "2024-05-08T00:00:00.000000000",
          "2024-05-09T00:00:00.000000000",
          "2024-05-10T00:00:00.000000000",
          "2024-05-13T00:00:00.000000000",
          "2024-05-14T00:00:00.000000000",
          "2024-05-15T00:00:00.000000000",
          "2024-05-16T00:00:00.000000000",
          "2024-05-17T00:00:00.000000000",
          "2024-05-20T00:00:00.000000000",
          "2024-05-21T00:00:00.000000000",
          "2024-05-22T00:00:00.000000000",
          "2024-05-23T00:00:00.000000000",
          "2024-05-24T00:00:00.000000000",
          "2024-05-28T00:00:00.000000000",
          "2024-05-29T00:00:00.000000000",
          "2024-05-30T00:00:00.000000000",
          "2024-05-31T00:00:00.000000000",
          "2024-06-03T00:00:00.000000000",
          "2024-06-04T00:00:00.000000000",
          "2024-06-05T00:00:00.000000000",
          "2024-06-06T00:00:00.000000000",
          "2024-06-07T00:00:00.000000000",
          "2024-06-10T00:00:00.000000000",
          "2024-06-11T00:00:00.000000000",
          "2024-06-12T00:00:00.000000000",
          "2024-06-13T00:00:00.000000000",
          "2024-06-14T00:00:00.000000000",
          "2024-06-17T00:00:00.000000000",
          "2024-06-18T00:00:00.000000000",
          "2024-06-20T00:00:00.000000000",
          "2024-06-21T00:00:00.000000000",
          "2024-06-24T00:00:00.000000000",
          "2024-06-25T00:00:00.000000000",
          "2024-06-26T00:00:00.000000000",
          "2024-06-27T00:00:00.000000000",
          "2024-06-28T00:00:00.000000000",
          "2024-07-01T00:00:00.000000000",
          "2024-07-02T00:00:00.000000000",
          "2024-07-03T00:00:00.000000000",
          "2024-07-05T00:00:00.000000000",
          "2024-07-08T00:00:00.000000000",
          "2024-07-09T00:00:00.000000000",
          "2024-07-10T00:00:00.000000000",
          "2024-07-11T00:00:00.000000000",
          "2024-07-12T00:00:00.000000000",
          "2024-07-15T00:00:00.000000000",
          "2024-07-16T00:00:00.000000000",
          "2024-07-17T00:00:00.000000000",
          "2024-07-18T00:00:00.000000000",
          "2024-07-19T00:00:00.000000000",
          "2024-07-22T00:00:00.000000000",
          "2024-07-23T00:00:00.000000000",
          "2024-07-24T00:00:00.000000000",
          "2024-07-25T00:00:00.000000000",
          "2024-07-26T00:00:00.000000000",
          "2024-07-29T00:00:00.000000000",
          "2024-07-30T00:00:00.000000000",
          "2024-07-31T00:00:00.000000000",
          "2024-08-01T00:00:00.000000000",
          "2024-08-02T00:00:00.000000000",
          "2024-08-05T00:00:00.000000000",
          "2024-08-06T00:00:00.000000000",
          "2024-08-07T00:00:00.000000000",
          "2024-08-08T00:00:00.000000000",
          "2024-08-09T00:00:00.000000000",
          "2024-08-12T00:00:00.000000000",
          "2024-08-13T00:00:00.000000000",
          "2024-08-14T00:00:00.000000000",
          "2024-08-15T00:00:00.000000000",
          "2024-08-16T00:00:00.000000000",
          "2024-08-19T00:00:00.000000000",
          "2024-08-20T00:00:00.000000000",
          "2024-08-21T00:00:00.000000000",
          "2024-08-22T00:00:00.000000000",
          "2024-08-23T00:00:00.000000000",
          "2024-08-26T00:00:00.000000000",
          "2024-08-27T00:00:00.000000000",
          "2024-08-28T00:00:00.000000000",
          "2024-08-29T00:00:00.000000000",
          "2024-08-30T00:00:00.000000000",
          "2024-09-03T00:00:00.000000000",
          "2024-09-04T00:00:00.000000000",
          "2024-09-05T00:00:00.000000000",
          "2024-09-06T00:00:00.000000000",
          "2024-09-09T00:00:00.000000000",
          "2024-09-10T00:00:00.000000000",
          "2024-09-11T00:00:00.000000000",
          "2024-09-12T00:00:00.000000000",
          "2024-09-13T00:00:00.000000000",
          "2024-09-16T00:00:00.000000000",
          "2024-09-17T00:00:00.000000000",
          "2024-09-18T00:00:00.000000000",
          "2024-09-19T00:00:00.000000000",
          "2024-09-20T00:00:00.000000000",
          "2024-09-23T00:00:00.000000000",
          "2024-09-24T00:00:00.000000000",
          "2024-09-25T00:00:00.000000000",
          "2024-09-26T00:00:00.000000000",
          "2024-09-27T00:00:00.000000000",
          "2024-09-30T00:00:00.000000000",
          "2024-10-01T00:00:00.000000000",
          "2024-10-02T00:00:00.000000000",
          "2024-10-03T00:00:00.000000000",
          "2024-10-04T00:00:00.000000000",
          "2024-10-07T00:00:00.000000000",
          "2024-10-08T00:00:00.000000000",
          "2024-10-09T00:00:00.000000000",
          "2024-10-10T00:00:00.000000000",
          "2024-10-11T00:00:00.000000000",
          "2024-10-14T00:00:00.000000000",
          "2024-10-15T00:00:00.000000000",
          "2024-10-16T00:00:00.000000000",
          "2024-10-17T00:00:00.000000000",
          "2024-10-18T00:00:00.000000000",
          "2024-10-21T00:00:00.000000000",
          "2024-10-22T00:00:00.000000000",
          "2024-10-23T00:00:00.000000000",
          "2024-10-24T00:00:00.000000000",
          "2024-10-25T00:00:00.000000000",
          "2024-10-28T00:00:00.000000000",
          "2024-10-29T00:00:00.000000000",
          "2024-10-30T00:00:00.000000000",
          "2024-10-31T00:00:00.000000000",
          "2024-11-01T00:00:00.000000000",
          "2024-11-04T00:00:00.000000000",
          "2024-11-05T00:00:00.000000000",
          "2024-11-06T00:00:00.000000000",
          "2024-11-07T00:00:00.000000000",
          "2024-11-08T00:00:00.000000000",
          "2024-11-11T00:00:00.000000000",
          "2024-11-12T00:00:00.000000000",
          "2024-11-13T00:00:00.000000000",
          "2024-11-14T00:00:00.000000000",
          "2024-11-15T00:00:00.000000000",
          "2024-11-18T00:00:00.000000000",
          "2024-11-19T00:00:00.000000000",
          "2024-11-20T00:00:00.000000000",
          "2024-11-21T00:00:00.000000000",
          "2024-11-22T00:00:00.000000000",
          "2024-11-25T00:00:00.000000000",
          "2024-11-26T00:00:00.000000000",
          "2024-11-27T00:00:00.000000000",
          "2024-11-29T00:00:00.000000000",
          "2024-12-02T00:00:00.000000000",
          "2024-12-03T00:00:00.000000000",
          "2024-12-04T00:00:00.000000000",
          "2024-12-05T00:00:00.000000000",
          "2024-12-06T00:00:00.000000000",
          "2024-12-09T00:00:00.000000000",
          "2024-12-10T00:00:00.000000000",
          "2024-12-11T00:00:00.000000000",
          "2024-12-12T00:00:00.000000000",
          "2024-12-13T00:00:00.000000000",
          "2024-12-16T00:00:00.000000000",
          "2024-12-17T00:00:00.000000000",
          "2024-12-18T00:00:00.000000000",
          "2024-12-19T00:00:00.000000000",
          "2024-12-20T00:00:00.000000000",
          "2024-12-23T00:00:00.000000000",
          "2024-12-24T00:00:00.000000000",
          "2024-12-26T00:00:00.000000000",
          "2024-12-27T00:00:00.000000000",
          "2024-12-30T00:00:00.000000000",
          "2024-12-31T00:00:00.000000000",
          "2025-01-02T00:00:00.000000000",
          "2025-01-03T00:00:00.000000000",
          "2025-01-06T00:00:00.000000000",
          "2025-01-07T00:00:00.000000000",
          "2025-01-08T00:00:00.000000000",
          "2025-01-10T00:00:00.000000000",
          "2025-01-13T00:00:00.000000000",
          "2025-01-14T00:00:00.000000000",
          "2025-01-15T00:00:00.000000000",
          "2025-01-16T00:00:00.000000000",
          "2025-01-17T00:00:00.000000000",
          "2025-01-21T00:00:00.000000000",
          "2025-01-22T00:00:00.000000000",
          "2025-01-23T00:00:00.000000000",
          "2025-01-24T00:00:00.000000000",
          "2025-01-27T00:00:00.000000000",
          "2025-01-28T00:00:00.000000000",
          "2025-01-29T00:00:00.000000000",
          "2025-01-30T00:00:00.000000000",
          "2025-01-31T00:00:00.000000000",
          "2025-02-03T00:00:00.000000000",
          "2025-02-04T00:00:00.000000000",
          "2025-02-05T00:00:00.000000000",
          "2025-02-06T00:00:00.000000000",
          "2025-02-07T00:00:00.000000000",
          "2025-02-10T00:00:00.000000000",
          "2025-02-11T00:00:00.000000000",
          "2025-02-12T00:00:00.000000000",
          "2025-02-13T00:00:00.000000000"
         ],
         "y": {
          "bdata": "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",
          "dtype": "f8"
         },
         "yaxis": "y"
        },
        {
         "marker": {
          "color": "blue",
          "size": 12,
          "symbol": "triangle-up"
         },
         "mode": "markers",
         "name": "Entry",
         "type": "scatter",
         "x": [
          "2024-02-01T00:00:00.000000000",
          "2024-04-22T00:00:00.000000000",
          "2024-07-26T00:00:00.000000000",
          "2024-08-27T00:00:00.000000000",
          "2024-08-30T00:00:00.000000000",
          "2024-09-20T00:00:00.000000000",
          "2024-11-07T00:00:00.000000000",
          "2024-11-25T00:00:00.000000000",
          "2024-12-24T00:00:00.000000000",
          "2025-01-03T00:00:00.000000000"
         ],
         "y": {
          "bdata": "pHA9CtdjNEBxPQrXo7AzQBSuR+F6lDJAmpmZmZnZMUA9CtejcL0xQKRwPQrXozFA9ihcj8K1MUAzMzMzM3MyQJqZmZmZ2TFAAAAAAABAMUA=",
          "dtype": "f8"
         },
         "yaxis": "y"
        },
        {
         "marker": {
          "color": "red",
          "size": 12,
          "symbol": "triangle-down"
         },
         "mode": "markers",
         "name": "Exit",
         "type": "scatter",
         "x": [
          "2024-04-12T00:00:00.000000000",
          "2024-07-24T00:00:00.000000000",
          "2024-08-01T00:00:00.000000000",
          "2024-08-28T00:00:00.000000000",
          "2024-09-03T00:00:00.000000000",
          "2024-09-27T00:00:00.000000000",
          "2024-11-20T00:00:00.000000000",
          "2024-12-17T00:00:00.000000000",
          "2024-12-30T00:00:00.000000000",
          "2025-01-07T00:00:00.000000000"
         ],
         "y": {
          "bdata": "SOF6FK5HNUA9CtejcH0yQDMzMzMzMzJAUrgeheuRMUB7FK5H4ToxQKRwPQrX4zFAcT0K16MwMkDD9Shcj0IyQBSuR+F6FDFAXI/C9SgcMUA=",
          "dtype": "f8"
         },
         "yaxis": "y"
        },
        {
         "line": {
          "color": "red",
          "width": 2
         },
         "mode": "lines",
         "name": "Portfolio Value",
         "type": "scatter",
         "x": [
          "2024-01-31T00:00:00.000000000",
          "2024-02-01T00:00:00.000000000",
          "2024-02-02T00:00:00.000000000",
          "2024-02-05T00:00:00.000000000",
          "2024-02-06T00:00:00.000000000",
          "2024-02-07T00:00:00.000000000",
          "2024-02-08T00:00:00.000000000",
          "2024-02-09T00:00:00.000000000",
          "2024-02-12T00:00:00.000000000",
          "2024-02-13T00:00:00.000000000",
          "2024-02-14T00:00:00.000000000",
          "2024-02-15T00:00:00.000000000",
          "2024-02-16T00:00:00.000000000",
          "2024-02-20T00:00:00.000000000",
          "2024-02-21T00:00:00.000000000",
          "2024-02-22T00:00:00.000000000",
          "2024-02-23T00:00:00.000000000",
          "2024-02-26T00:00:00.000000000",
          "2024-02-27T00:00:00.000000000",
          "2024-02-28T00:00:00.000000000",
          "2024-02-29T00:00:00.000000000",
          "2024-03-01T00:00:00.000000000",
          "2024-03-04T00:00:00.000000000",
          "2024-03-05T00:00:00.000000000",
          "2024-03-06T00:00:00.000000000",
          "2024-03-07T00:00:00.000000000",
          "2024-03-08T00:00:00.000000000",
          "2024-03-11T00:00:00.000000000",
          "2024-03-12T00:00:00.000000000",
          "2024-03-13T00:00:00.000000000",
          "2024-03-14T00:00:00.000000000",
          "2024-03-15T00:00:00.000000000",
          "2024-03-18T00:00:00.000000000",
          "2024-03-19T00:00:00.000000000",
          "2024-03-20T00:00:00.000000000",
          "2024-03-21T00:00:00.000000000",
          "2024-03-22T00:00:00.000000000",
          "2024-03-25T00:00:00.000000000",
          "2024-03-26T00:00:00.000000000",
          "2024-03-27T00:00:00.000000000",
          "2024-03-28T00:00:00.000000000",
          "2024-04-01T00:00:00.000000000",
          "2024-04-02T00:00:00.000000000",
          "2024-04-03T00:00:00.000000000",
          "2024-04-04T00:00:00.000000000",
          "2024-04-05T00:00:00.000000000",
          "2024-04-08T00:00:00.000000000",
          "2024-04-09T00:00:00.000000000",
          "2024-04-10T00:00:00.000000000",
          "2024-04-11T00:00:00.000000000",
          "2024-04-12T00:00:00.000000000",
          "2024-04-15T00:00:00.000000000",
          "2024-04-16T00:00:00.000000000",
          "2024-04-17T00:00:00.000000000",
          "2024-04-18T00:00:00.000000000",
          "2024-04-19T00:00:00.000000000",
          "2024-04-22T00:00:00.000000000",
          "2024-04-23T00:00:00.000000000",
          "2024-04-24T00:00:00.000000000",
          "2024-04-25T00:00:00.000000000",
          "2024-04-26T00:00:00.000000000",
          "2024-04-29T00:00:00.000000000",
          "2024-04-30T00:00:00.000000000",
          "2024-05-01T00:00:00.000000000",
          "2024-05-02T00:00:00.000000000",
          "2024-05-03T00:00:00.000000000",
          "2024-05-06T00:00:00.000000000",
          "2024-05-07T00:00:00.000000000",
          "2024-05-08T00:00:00.000000000",
          "2024-05-09T00:00:00.000000000",
          "2024-05-10T00:00:00.000000000",
          "2024-05-13T00:00:00.000000000",
          "2024-05-14T00:00:00.000000000",
          "2024-05-15T00:00:00.000000000",
          "2024-05-16T00:00:00.000000000",
          "2024-05-17T00:00:00.000000000",
          "2024-05-20T00:00:00.000000000",
          "2024-05-21T00:00:00.000000000",
          "2024-05-22T00:00:00.000000000",
          "2024-05-23T00:00:00.000000000",
          "2024-05-24T00:00:00.000000000",
          "2024-05-28T00:00:00.000000000",
          "2024-05-29T00:00:00.000000000",
          "2024-05-30T00:00:00.000000000",
          "2024-05-31T00:00:00.000000000",
          "2024-06-03T00:00:00.000000000",
          "2024-06-04T00:00:00.000000000",
          "2024-06-05T00:00:00.000000000",
          "2024-06-06T00:00:00.000000000",
          "2024-06-07T00:00:00.000000000",
          "2024-06-10T00:00:00.000000000",
          "2024-06-11T00:00:00.000000000",
          "2024-06-12T00:00:00.000000000",
          "2024-06-13T00:00:00.000000000",
          "2024-06-14T00:00:00.000000000",
          "2024-06-17T00:00:00.000000000",
          "2024-06-18T00:00:00.000000000",
          "2024-06-20T00:00:00.000000000",
          "2024-06-21T00:00:00.000000000",
          "2024-06-24T00:00:00.000000000",
          "2024-06-25T00:00:00.000000000",
          "2024-06-26T00:00:00.000000000",
          "2024-06-27T00:00:00.000000000",
          "2024-06-28T00:00:00.000000000",
          "2024-07-01T00:00:00.000000000",
          "2024-07-02T00:00:00.000000000",
          "2024-07-03T00:00:00.000000000",
          "2024-07-05T00:00:00.000000000",
          "2024-07-08T00:00:00.000000000",
          "2024-07-09T00:00:00.000000000",
          "2024-07-10T00:00:00.000000000",
          "2024-07-11T00:00:00.000000000",
          "2024-07-12T00:00:00.000000000",
          "2024-07-15T00:00:00.000000000",
          "2024-07-16T00:00:00.000000000",
          "2024-07-17T00:00:00.000000000",
          "2024-07-18T00:00:00.000000000",
          "2024-07-19T00:00:00.000000000",
          "2024-07-22T00:00:00.000000000",
          "2024-07-23T00:00:00.000000000",
          "2024-07-24T00:00:00.000000000",
          "2024-07-25T00:00:00.000000000",
          "2024-07-26T00:00:00.000000000",
          "2024-07-29T00:00:00.000000000",
          "2024-07-30T00:00:00.000000000",
          "2024-07-31T00:00:00.000000000",
          "2024-08-01T00:00:00.000000000",
          "2024-08-02T00:00:00.000000000",
          "2024-08-05T00:00:00.000000000",
          "2024-08-06T00:00:00.000000000",
          "2024-08-07T00:00:00.000000000",
          "2024-08-08T00:00:00.000000000",
          "2024-08-09T00:00:00.000000000",
          "2024-08-12T00:00:00.000000000",
          "2024-08-13T00:00:00.000000000",
          "2024-08-14T00:00:00.000000000",
          "2024-08-15T00:00:00.000000000",
          "2024-08-16T00:00:00.000000000",
          "2024-08-19T00:00:00.000000000",
          "2024-08-20T00:00:00.000000000",
          "2024-08-21T00:00:00.000000000",
          "2024-08-22T00:00:00.000000000",
          "2024-08-23T00:00:00.000000000",
          "2024-08-26T00:00:00.000000000",
          "2024-08-27T00:00:00.000000000",
          "2024-08-28T00:00:00.000000000",
          "2024-08-29T00:00:00.000000000",
          "2024-08-30T00:00:00.000000000",
          "2024-09-03T00:00:00.000000000",
          "2024-09-04T00:00:00.000000000",
          "2024-09-05T00:00:00.000000000",
          "2024-09-06T00:00:00.000000000",
          "2024-09-09T00:00:00.000000000",
          "2024-09-10T00:00:00.000000000",
          "2024-09-11T00:00:00.000000000",
          "2024-09-12T00:00:00.000000000",
          "2024-09-13T00:00:00.000000000",
          "2024-09-16T00:00:00.000000000",
          "2024-09-17T00:00:00.000000000",
          "2024-09-18T00:00:00.000000000",
          "2024-09-19T00:00:00.000000000",
          "2024-09-20T00:00:00.000000000",
          "2024-09-23T00:00:00.000000000",
          "2024-09-24T00:00:00.000000000",
          "2024-09-25T00:00:00.000000000",
          "2024-09-26T00:00:00.000000000",
          "2024-09-27T00:00:00.000000000",
          "2024-09-30T00:00:00.000000000",
          "2024-10-01T00:00:00.000000000",
          "2024-10-02T00:00:00.000000000",
          "2024-10-03T00:00:00.000000000",
          "2024-10-04T00:00:00.000000000",
          "2024-10-07T00:00:00.000000000",
          "2024-10-08T00:00:00.000000000",
          "2024-10-09T00:00:00.000000000",
          "2024-10-10T00:00:00.000000000",
          "2024-10-11T00:00:00.000000000",
          "2024-10-14T00:00:00.000000000",
          "2024-10-15T00:00:00.000000000",
          "2024-10-16T00:00:00.000000000",
          "2024-10-17T00:00:00.000000000",
          "2024-10-18T00:00:00.000000000",
          "2024-10-21T00:00:00.000000000",
          "2024-10-22T00:00:00.000000000",
          "2024-10-23T00:00:00.000000000",
          "2024-10-24T00:00:00.000000000",
          "2024-10-25T00:00:00.000000000",
          "2024-10-28T00:00:00.000000000",
          "2024-10-29T00:00:00.000000000",
          "2024-10-30T00:00:00.000000000",
          "2024-10-31T00:00:00.000000000",
          "2024-11-01T00:00:00.000000000",
          "2024-11-04T00:00:00.000000000",
          "2024-11-05T00:00:00.000000000",
          "2024-11-06T00:00:00.000000000",
          "2024-11-07T00:00:00.000000000",
          "2024-11-08T00:00:00.000000000",
          "2024-11-11T00:00:00.000000000",
          "2024-11-12T00:00:00.000000000",
          "2024-11-13T00:00:00.000000000",
          "2024-11-14T00:00:00.000000000",
          "2024-11-15T00:00:00.000000000",
          "2024-11-18T00:00:00.000000000",
          "2024-11-19T00:00:00.000000000",
          "2024-11-20T00:00:00.000000000",
          "2024-11-21T00:00:00.000000000",
          "2024-11-22T00:00:00.000000000",
          "2024-11-25T00:00:00.000000000",
          "2024-11-26T00:00:00.000000000",
          "2024-11-27T00:00:00.000000000",
          "2024-11-29T00:00:00.000000000",
          "2024-12-02T00:00:00.000000000",
          "2024-12-03T00:00:00.000000000",
          "2024-12-04T00:00:00.000000000",
          "2024-12-05T00:00:00.000000000",
          "2024-12-06T00:00:00.000000000",
          "2024-12-09T00:00:00.000000000",
          "2024-12-10T00:00:00.000000000",
          "2024-12-11T00:00:00.000000000",
          "2024-12-12T00:00:00.000000000",
          "2024-12-13T00:00:00.000000000",
          "2024-12-16T00:00:00.000000000",
          "2024-12-17T00:00:00.000000000",
          "2024-12-18T00:00:00.000000000",
          "2024-12-19T00:00:00.000000000",
          "2024-12-20T00:00:00.000000000",
          "2024-12-23T00:00:00.000000000",
          "2024-12-24T00:00:00.000000000",
          "2024-12-26T00:00:00.000000000",
          "2024-12-27T00:00:00.000000000",
          "2024-12-30T00:00:00.000000000",
          "2024-12-31T00:00:00.000000000",
          "2025-01-02T00:00:00.000000000",
          "2025-01-03T00:00:00.000000000",
          "2025-01-06T00:00:00.000000000",
          "2025-01-07T00:00:00.000000000",
          "2025-01-08T00:00:00.000000000",
          "2025-01-10T00:00:00.000000000",
          "2025-01-13T00:00:00.000000000",
          "2025-01-14T00:00:00.000000000",
          "2025-01-15T00:00:00.000000000",
          "2025-01-16T00:00:00.000000000",
          "2025-01-17T00:00:00.000000000",
          "2025-01-21T00:00:00.000000000",
          "2025-01-22T00:00:00.000000000",
          "2025-01-23T00:00:00.000000000",
          "2025-01-24T00:00:00.000000000",
          "2025-01-27T00:00:00.000000000",
          "2025-01-28T00:00:00.000000000",
          "2025-01-29T00:00:00.000000000",
          "2025-01-30T00:00:00.000000000",
          "2025-01-31T00:00:00.000000000",
          "2025-02-03T00:00:00.000000000",
          "2025-02-04T00:00:00.000000000",
          "2025-02-05T00:00:00.000000000",
          "2025-02-06T00:00:00.000000000",
          "2025-02-07T00:00:00.000000000",
          "2025-02-10T00:00:00.000000000",
          "2025-02-11T00:00:00.000000000",
          "2025-02-12T00:00:00.000000000",
          "2025-02-13T00:00:00.000000000"
         ],
         "y": {
          "bdata": "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",
          "dtype": "f8"
         },
         "yaxis": "y2"
        }
       ],
       "layout": {
        "hovermode": "x unified",
        "legend": {
         "bgcolor": "rgba(255,255,255,0.7)",
         "bordercolor": "black",
         "borderwidth": 1,
         "x": 1,
         "xanchor": "center",
         "y": 1,
         "yanchor": "top"
        },
        "template": {
         "data": {
          "bar": [
           {
            "error_x": {
             "color": "#2a3f5f"
            },
            "error_y": {
             "color": "#2a3f5f"
            },
            "marker": {
             "line": {
              "color": "#E5ECF6",
              "width": 0.5
             },
             "pattern": {
              "fillmode": "overlay",
              "size": 10,
              "solidity": 0.2
             }
            },
            "type": "bar"
           }
          ],
          "barpolar": [
           {
            "marker": {
             "line": {
              "color": "#E5ECF6",
              "width": 0.5
             },
             "pattern": {
              "fillmode": "overlay",
              "size": 10,
              "solidity": 0.2
             }
            },
            "type": "barpolar"
           }
          ],
          "carpet": [
           {
            "aaxis": {
             "endlinecolor": "#2a3f5f",
             "gridcolor": "white",
             "linecolor": "white",
             "minorgridcolor": "white",
             "startlinecolor": "#2a3f5f"
            },
            "baxis": {
             "endlinecolor": "#2a3f5f",
             "gridcolor": "white",
             "linecolor": "white",
             "minorgridcolor": "white",
             "startlinecolor": "#2a3f5f"
            },
            "type": "carpet"
           }
          ],
          "choropleth": [
           {
            "colorbar": {
             "outlinewidth": 0,
             "ticks": ""
            },
            "type": "choropleth"
           }
          ],
          "contour": [
           {
            "colorbar": {
             "outlinewidth": 0,
             "ticks": ""
            },
            "colorscale": [
             [
              0,
              "#0d0887"
             ],
             [
              0.1111111111111111,
              "#46039f"
             ],
             [
              0.2222222222222222,
              "#7201a8"
             ],
             [
              0.3333333333333333,
              "#9c179e"
             ],
             [
              0.4444444444444444,
              "#bd3786"
             ],
             [
              0.5555555555555556,
              "#d8576b"
             ],
             [
              0.6666666666666666,
              "#ed7953"
             ],
             [
              0.7777777777777778,
              "#fb9f3a"
             ],
             [
              0.8888888888888888,
              "#fdca26"
             ],
             [
              1,
              "#f0f921"
             ]
            ],
            "type": "contour"
           }
          ],
          "contourcarpet": [
           {
            "colorbar": {
             "outlinewidth": 0,
             "ticks": ""
            },
            "type": "contourcarpet"
           }
          ],
          "heatmap": [
           {
            "colorbar": {
             "outlinewidth": 0,
             "ticks": ""
            },
            "colorscale": [
             [
              0,
              "#0d0887"
             ],
             [
              0.1111111111111111,
              "#46039f"
             ],
             [
              0.2222222222222222,
              "#7201a8"
             ],
             [
              0.3333333333333333,
              "#9c179e"
             ],
             [
              0.4444444444444444,
              "#bd3786"
             ],
             [
              0.5555555555555556,
              "#d8576b"
             ],
             [
              0.6666666666666666,
              "#ed7953"
             ],
             [
              0.7777777777777778,
              "#fb9f3a"
             ],
             [
              0.8888888888888888,
              "#fdca26"
             ],
             [
              1,
              "#f0f921"
             ]
            ],
            "type": "heatmap"
           }
          ],
          "histogram": [
           {
            "marker": {
             "pattern": {
              "fillmode": "overlay",
              "size": 10,
              "solidity": 0.2
             }
            },
            "type": "histogram"
           }
          ],
          "histogram2d": [
           {
            "colorbar": {
             "outlinewidth": 0,
             "ticks": ""
            },
            "colorscale": [
             [
              0,
              "#0d0887"
             ],
             [
              0.1111111111111111,
              "#46039f"
             ],
             [
              0.2222222222222222,
              "#7201a8"
             ],
             [
              0.3333333333333333,
              "#9c179e"
             ],
             [
              0.4444444444444444,
              "#bd3786"
             ],
             [
              0.5555555555555556,
              "#d8576b"
             ],
             [
              0.6666666666666666,
              "#ed7953"
             ],
             [
              0.7777777777777778,
              "#fb9f3a"
             ],
             [
              0.8888888888888888,
              "#fdca26"
             ],
             [
              1,
              "#f0f921"
             ]
            ],
            "type": "histogram2d"
           }
          ],
          "histogram2dcontour": [
           {
            "colorbar": {
             "outlinewidth": 0,
             "ticks": ""
            },
            "colorscale": [
             [
              0,
              "#0d0887"
             ],
             [
              0.1111111111111111,
              "#46039f"
             ],
             [
              0.2222222222222222,
              "#7201a8"
             ],
             [
              0.3333333333333333,
              "#9c179e"
             ],
             [
              0.4444444444444444,
              "#bd3786"
             ],
             [
              0.5555555555555556,
              "#d8576b"
             ],
             [
              0.6666666666666666,
              "#ed7953"
             ],
             [
              0.7777777777777778,
              "#fb9f3a"
             ],
             [
              0.8888888888888888,
              "#fdca26"
             ],
             [
              1,
              "#f0f921"
             ]
            ],
            "type": "histogram2dcontour"
           }
          ],
          "mesh3d": [
           {
            "colorbar": {
             "outlinewidth": 0,
             "ticks": ""
            },
            "type": "mesh3d"
           }
          ],
          "parcoords": [
           {
            "line": {
             "colorbar": {
              "outlinewidth": 0,
              "ticks": ""
             }
            },
            "type": "parcoords"
           }
          ],
          "pie": [
           {
            "automargin": true,
            "type": "pie"
           }
          ],
          "scatter": [
           {
            "fillpattern": {
             "fillmode": "overlay",
             "size": 10,
             "solidity": 0.2
            },
            "type": "scatter"
           }
          ],
          "scatter3d": [
           {
            "line": {
             "colorbar": {
              "outlinewidth": 0,
              "ticks": ""
             }
            },
            "marker": {
             "colorbar": {
              "outlinewidth": 0,
              "ticks": ""
             }
            },
            "type": "scatter3d"
           }
          ],
          "scattercarpet": [
           {
            "marker": {
             "colorbar": {
              "outlinewidth": 0,
              "ticks": ""
             }
            },
            "type": "scattercarpet"
           }
          ],
          "scattergeo": [
           {
            "marker": {
             "colorbar": {
              "outlinewidth": 0,
              "ticks": ""
             }
            },
            "type": "scattergeo"
           }
          ],
          "scattergl": [
           {
            "marker": {
             "colorbar": {
              "outlinewidth": 0,
              "ticks": ""
             }
            },
            "type": "scattergl"
           }
          ],
          "scattermap": [
           {
            "marker": {
             "colorbar": {
              "outlinewidth": 0,
              "ticks": ""
             }
            },
            "type": "scattermap"
           }
          ],
          "scattermapbox": [
           {
            "marker": {
             "colorbar": {
              "outlinewidth": 0,
              "ticks": ""
             }
            },
            "type": "scattermapbox"
           }
          ],
          "scatterpolar": [
           {
            "marker": {
             "colorbar": {
              "outlinewidth": 0,
              "ticks": ""
             }
            },
            "type": "scatterpolar"
           }
          ],
          "scatterpolargl": [
           {
            "marker": {
             "colorbar": {
              "outlinewidth": 0,
              "ticks": ""
             }
            },
            "type": "scatterpolargl"
           }
          ],
          "scatterternary": [
           {
            "marker": {
             "colorbar": {
              "outlinewidth": 0,
              "ticks": ""
             }
            },
            "type": "scatterternary"
           }
          ],
          "surface": [
           {
            "colorbar": {
             "outlinewidth": 0,
             "ticks": ""
            },
            "colorscale": [
             [
              0,
              "#0d0887"
             ],
             [
              0.1111111111111111,
              "#46039f"
             ],
             [
              0.2222222222222222,
              "#7201a8"
             ],
             [
              0.3333333333333333,
              "#9c179e"
             ],
             [
              0.4444444444444444,
              "#bd3786"
             ],
             [
              0.5555555555555556,
              "#d8576b"
             ],
             [
              0.6666666666666666,
              "#ed7953"
             ],
             [
              0.7777777777777778,
              "#fb9f3a"
             ],
             [
              0.8888888888888888,
              "#fdca26"
             ],
             [
              1,
              "#f0f921"
             ]
            ],
            "type": "surface"
           }
          ],
          "table": [
           {
            "cells": {
             "fill": {
              "color": "#EBF0F8"
             },
             "line": {
              "color": "white"
             }
            },
            "header": {
             "fill": {
              "color": "#C8D4E3"
             },
             "line": {
              "color": "white"
             }
            },
            "type": "table"
           }
          ]
         },
         "layout": {
          "annotationdefaults": {
           "arrowcolor": "#2a3f5f",
           "arrowhead": 0,
           "arrowwidth": 1
          },
          "autotypenumbers": "strict",
          "coloraxis": {
           "colorbar": {
            "outlinewidth": 0,
            "ticks": ""
           }
          },
          "colorscale": {
           "diverging": [
            [
             0,
             "#8e0152"
            ],
            [
             0.1,
             "#c51b7d"
            ],
            [
             0.2,
             "#de77ae"
            ],
            [
             0.3,
             "#f1b6da"
            ],
            [
             0.4,
             "#fde0ef"
            ],
            [
             0.5,
             "#f7f7f7"
            ],
            [
             0.6,
             "#e6f5d0"
            ],
            [
             0.7,
             "#b8e186"
            ],
            [
             0.8,
             "#7fbc41"
            ],
            [
             0.9,
             "#4d9221"
            ],
            [
             1,
             "#276419"
            ]
           ],
           "sequential": [
            [
             0,
             "#0d0887"
            ],
            [
             0.1111111111111111,
             "#46039f"
            ],
            [
             0.2222222222222222,
             "#7201a8"
            ],
            [
             0.3333333333333333,
             "#9c179e"
            ],
            [
             0.4444444444444444,
             "#bd3786"
            ],
            [
             0.5555555555555556,
             "#d8576b"
            ],
            [
             0.6666666666666666,
             "#ed7953"
            ],
            [
             0.7777777777777778,
             "#fb9f3a"
            ],
            [
             0.8888888888888888,
             "#fdca26"
            ],
            [
             1,
             "#f0f921"
            ]
           ],
           "sequentialminus": [
            [
             0,
             "#0d0887"
            ],
            [
             0.1111111111111111,
             "#46039f"
            ],
            [
             0.2222222222222222,
             "#7201a8"
            ],
            [
             0.3333333333333333,
             "#9c179e"
            ],
            [
             0.4444444444444444,
             "#bd3786"
            ],
            [
             0.5555555555555556,
             "#d8576b"
            ],
            [
             0.6666666666666666,
             "#ed7953"
            ],
            [
             0.7777777777777778,
             "#fb9f3a"
            ],
            [
             0.8888888888888888,
             "#fdca26"
            ],
            [
             1,
             "#f0f921"
            ]
           ]
          },
          "colorway": [
           "#636efa",
           "#EF553B",
           "#00cc96",
           "#ab63fa",
           "#FFA15A",
           "#19d3f3",
           "#FF6692",
           "#B6E880",
           "#FF97FF",
           "#FECB52"
          ],
          "font": {
           "color": "#2a3f5f"
          },
          "geo": {
           "bgcolor": "white",
           "lakecolor": "white",
           "landcolor": "#E5ECF6",
           "showlakes": true,
           "showland": true,
           "subunitcolor": "white"
          },
          "hoverlabel": {
           "align": "left"
          },
          "hovermode": "closest",
          "mapbox": {
           "style": "light"
          },
          "paper_bgcolor": "white",
          "plot_bgcolor": "#E5ECF6",
          "polar": {
           "angularaxis": {
            "gridcolor": "white",
            "linecolor": "white",
            "ticks": ""
           },
           "bgcolor": "#E5ECF6",
           "radialaxis": {
            "gridcolor": "white",
            "linecolor": "white",
            "ticks": ""
           }
          },
          "scene": {
           "xaxis": {
            "backgroundcolor": "#E5ECF6",
            "gridcolor": "white",
            "gridwidth": 2,
            "linecolor": "white",
            "showbackground": true,
            "ticks": "",
            "zerolinecolor": "white"
           },
           "yaxis": {
            "backgroundcolor": "#E5ECF6",
            "gridcolor": "white",
            "gridwidth": 2,
            "linecolor": "white",
            "showbackground": true,
            "ticks": "",
            "zerolinecolor": "white"
           },
           "zaxis": {
            "backgroundcolor": "#E5ECF6",
            "gridcolor": "white",
            "gridwidth": 2,
            "linecolor": "white",
            "showbackground": true,
            "ticks": "",
            "zerolinecolor": "white"
           }
          },
          "shapedefaults": {
           "line": {
            "color": "#2a3f5f"
           }
          },
          "ternary": {
           "aaxis": {
            "gridcolor": "white",
            "linecolor": "white",
            "ticks": ""
           },
           "baxis": {
            "gridcolor": "white",
            "linecolor": "white",
            "ticks": ""
           },
           "bgcolor": "#E5ECF6",
           "caxis": {
            "gridcolor": "white",
            "linecolor": "white",
            "ticks": ""
           }
          },
          "title": {
           "x": 0.05
          },
          "xaxis": {
           "automargin": true,
           "gridcolor": "white",
           "linecolor": "white",
           "ticks": "",
           "title": {
            "standoff": 15
           },
           "zerolinecolor": "white",
           "zerolinewidth": 2
          },
          "yaxis": {
           "automargin": true,
           "gridcolor": "white",
           "linecolor": "white",
           "ticks": "",
           "title": {
            "standoff": 15
           },
           "zerolinecolor": "white",
           "zerolinewidth": 2
          }
         }
        },
        "title": {
         "text": "YMAX Price (Left Axis) vs. Portfolio Value (Right Axis) - Interactive Plotly"
        },
        "xaxis": {
         "tickangle": 45,
         "tickformat": "%Y-%m",
         "title": {
          "text": "Date"
         },
         "type": "date"
        },
        "yaxis": {
         "color": "blue",
         "showgrid": false,
         "side": "left",
         "title": {
          "text": "YMAX Price ($)"
         }
        },
        "yaxis2": {
         "color": "red",
         "gridcolor": "lightgray",
         "gridwidth": 1,
         "overlaying": "y",
         "position": 1,
         "showgrid": true,
         "side": "right",
         "title": {
          "text": "Portfolio Value ($)"
         }
        }
       }
      }
     },
     "metadata": {},
     "output_type": "display_data"
    }
   ],
   "source": [
    "import plotly.graph_objects as go\n",
    "\n",
    "# ---------------------------------------------\n",
    "# STEP A: Identify Entry and Exit Days\n",
    "# ---------------------------------------------\n",
    "ymax_df[\"Entry\"] = (ymax_df[\"In_Market\"].shift(1) == False) & (ymax_df[\"In_Market\"] == True)\n",
    "ymax_df[\"Exit\"]  = (ymax_df[\"In_Market\"].shift(1) == True) & (ymax_df[\"In_Market\"] == False)\n",
    "\n",
    "# ---------------------------------------------\n",
    "# STEP B: Prepare Data for Plotting\n",
    "# ---------------------------------------------\n",
    "entry_days = ymax_df[ymax_df[\"Entry\"] == True]\n",
    "exit_days  = ymax_df[ymax_df[\"Exit\"] == True]\n",
    "\n",
    "# Sort data by date\n",
    "ymax_df.sort_values(\"Date\", inplace=True)\n",
    "ymax_df.reset_index(drop=True, inplace=True)\n",
    "\n",
    "# ---------------------------------------------\n",
    "# STEP C: Create Plotly Figure\n",
    "# ---------------------------------------------\n",
    "fig = go.Figure()\n",
    "\n",
    "# 1) YMAX Price (Left Axis)\n",
    "fig.add_trace(\n",
    "    go.Scatter(\n",
    "        x=ymax_df[\"Date\"],\n",
    "        y=ymax_df[\"YMAX\"],\n",
    "        mode=\"lines\",\n",
    "        line=dict(color=\"blue\", width=2),\n",
    "        name=\"YMAX Price\",\n",
    "        yaxis=\"y1\"\n",
    "    )\n",
    ")\n",
    "\n",
    "# 2) Entry Markers (triangle-up)\n",
    "fig.add_trace(\n",
    "    go.Scatter(\n",
    "        x=entry_days[\"Date\"],\n",
    "        y=entry_days[\"YMAX\"],\n",
    "        mode=\"markers\",\n",
    "        marker=dict(symbol=\"triangle-up\", color=\"blue\", size=12),\n",
    "        name=\"Entry\",\n",
    "        yaxis=\"y1\"\n",
    "    )\n",
    ")\n",
    "\n",
    "# 3) Exit Markers (triangle-down)\n",
    "fig.add_trace(\n",
    "    go.Scatter(\n",
    "        x=exit_days[\"Date\"],\n",
    "        y=exit_days[\"YMAX\"],\n",
    "        mode=\"markers\",\n",
    "        marker=dict(symbol=\"triangle-down\", color=\"red\", size=12),\n",
    "        name=\"Exit\",\n",
    "        yaxis=\"y1\"\n",
    "    )\n",
    ")\n",
    "\n",
    "# 4) Portfolio Value (Right Axis)\n",
    "fig.add_trace(\n",
    "    go.Scatter(\n",
    "        x=ymax_df[\"Date\"],\n",
    "        y=ymax_df[\"Portfolio_Value\"],\n",
    "        mode=\"lines\",\n",
    "        line=dict(color=\"red\", width=2),\n",
    "        name=\"Portfolio Value\",\n",
    "        yaxis=\"y2\"\n",
    "    )\n",
    ")\n",
    "\n",
    "# ---------------------------------------------\n",
    "# STEP D: Configure Layout for Dual Axis\n",
    "# ---------------------------------------------\n",
    "fig.update_layout(\n",
    "    title=\"YMAX Price (Left Axis) vs. Portfolio Value (Right Axis) - Interactive Plotly\",\n",
    "    xaxis=dict(\n",
    "        title=\"Date\",\n",
    "        type=\"date\",\n",
    "        tickformat=\"%Y-%m\",\n",
    "        tickangle=45\n",
    "    ),\n",
    "    yaxis=dict(\n",
    "        title=\"YMAX Price ($)\",\n",
    "        side=\"left\",\n",
    "        showgrid=False,\n",
    "        color=\"blue\"\n",
    "    ),\n",
    "    yaxis2=dict(\n",
    "        title=\"Portfolio Value ($)\",\n",
    "        side=\"right\",\n",
    "        overlaying=\"y\",\n",
    "        position=1.0,\n",
    "        showgrid=True,\n",
    "        gridwidth=1,\n",
    "        gridcolor=\"lightgray\",\n",
    "        color=\"red\"\n",
    "    ),\n",
    "    legend=dict(\n",
    "        x=1.0,\n",
    "        y=1.0,\n",
    "        xanchor='center',\n",
    "        yanchor='top',\n",
    "        bgcolor=\"rgba(255,255,255,0.7)\",\n",
    "        bordercolor=\"black\",\n",
    "        borderwidth=1\n",
    "    ),\n",
    "    hovermode=\"x unified\"\n",
    ")\n",
    "\n",
    "# ---------------------------------------------\n",
    "# STEP E: Show Interactive Figure\n",
    "# ---------------------------------------------\n",
    "fig.show()\n"
   ]
  },
  {
   "cell_type": "code",
   "execution_count": 9,
   "metadata": {},
   "outputs": [
    {
     "name": "stdout",
     "output_type": "stream",
     "text": [
      "5.10.4\n"
     ]
    }
   ],
   "source": [
    "import nbformat\n",
    "print(nbformat.__version__)\n"
   ]
  },
  {
   "cell_type": "markdown",
   "metadata": {},
   "source": [
    "## Performance Metrics for Strategy 2 on YMAX"
   ]
  },
  {
   "cell_type": "code",
   "execution_count": 10,
   "metadata": {},
   "outputs": [],
   "source": [
    "# ---------------------------------------------\n",
    "# STEP 1: Compute Performance Metrics for Strategy 2 on YMAX\n",
    "# ---------------------------------------------\n",
    "# Compute daily returns from portfolio value (if not already computed)\n",
    "ymax_df[\"Portfolio_Return\"] = ymax_df[\"Portfolio_Value\"].pct_change()\n",
    "\n",
    "performance_metrics = {}\n",
    "\n",
    "# Total Return (%)\n",
    "performance_metrics[\"Total Return (%)\"] = (ymax_df[\"Portfolio_Value\"].iloc[-1] / ymax_df[\"Portfolio_Value\"].iloc[0] - 1) * 100\n",
    "\n",
    "# CAGR (Compounded Annual Growth Rate) (%)\n",
    "num_days = (ymax_df[\"Date\"].iloc[-1] - ymax_df[\"Date\"].iloc[0]).days\n",
    "years = num_days / 365\n",
    "performance_metrics[\"CAGR (%)\"] = ((ymax_df[\"Portfolio_Value\"].iloc[-1] / ymax_df[\"Portfolio_Value\"].iloc[0]) ** (1 / years) - 1) * 100\n",
    "\n",
    "# Annualized Volatility (%)\n",
    "performance_metrics[\"Annualized Volatility (%)\"] = ymax_df[\"Portfolio_Return\"].std() * np.sqrt(252) * 100\n",
    "\n",
    "# Sharpe Ratio (assuming risk-free rate = 2%)\n",
    "risk_free_rate = 0.02\n",
    "sharpe_ratio = (performance_metrics[\"CAGR (%)\"] / 100 - risk_free_rate) / (performance_metrics[\"Annualized Volatility (%)\"] / 100)\n",
    "performance_metrics[\"Sharpe Ratio\"] = sharpe_ratio\n",
    "\n",
    "# Max Drawdown (%) Calculation\n",
    "rolling_max = ymax_df[\"Portfolio_Value\"].cummax()\n",
    "drawdown = (ymax_df[\"Portfolio_Value\"] / rolling_max) - 1  # Decimal values (e.g., -0.10 for -10%)\n",
    "drawdown_percentage = drawdown * 100  # Convert to percentage\n",
    "performance_metrics[\"Max Drawdown (%)\"] = drawdown_percentage.min()  # Most negative value\n",
    "\n",
    "# Calmar Ratio (CAGR / |Max Drawdown|)\n",
    "max_drawdown_abs = abs(performance_metrics[\"Max Drawdown (%)\"])\n",
    "performance_metrics[\"Calmar Ratio\"] = performance_metrics[\"CAGR (%)\"] / max_drawdown_abs if max_drawdown_abs != 0 else np.nan\n",
    "\n",
    "# Convert metrics to a DataFrame for display\n",
    "performance_df = pd.DataFrame(performance_metrics, index=[\"YMAX Strategy 2\"])"
   ]
  },
  {
   "cell_type": "code",
   "execution_count": 21,
   "metadata": {},
   "outputs": [
    {
     "data": {
      "image/png": "[encoded data removed]",
      "text/plain": [
       "<Figure size 1200x600 with 1 Axes>"
      ]
     },
     "metadata": {},
     "output_type": "display_data"
    }
   ],
   "source": [
    "# ---------------------------------------------\n",
    "# STEP 2: Plot Drawdown Over Time (Improved)\n",
    "# ---------------------------------------------\n",
    "import matplotlib.ticker as mticker\n",
    "import matplotlib.dates as mdates\n",
    "\n",
    "sns.set_style(\"darkgrid\")\n",
    "sns.set_context(\"talk\")  # Larger labels and a more \"presentation-friendly\" look\n",
    "\n",
    "plt.figure(figsize=(12, 6))\n",
    "\n",
    "# Draw the main drawdown line\n",
    "ax = sns.lineplot(x=ymax_df[\"Date\"],  y=drawdown_percentage, color=\"red\",  linewidth=2, label=\"Drawdown (%)\", alpha=0.8)\n",
    "\n",
    "# Fill the area under the curve from drawdown to 0% (for negative drawdowns)\n",
    "plt.fill_between(\n",
    "    ymax_df[\"Date\"],\n",
    "    drawdown_percentage,\n",
    "    0,\n",
    "    where=(drawdown_percentage <= 0),\n",
    "    interpolate=True,\n",
    "    color=\"red\",\n",
    "    alpha=0.2\n",
    ")\n",
    "\n",
    "# Format the X-axis to display months\n",
    "ax.xaxis.set_major_locator(mdates.MonthLocator())\n",
    "ax.xaxis.set_major_formatter(mdates.DateFormatter(\"%Y-%m\"))\n",
    "plt.xticks(rotation=45, fontsize=12)\n",
    "plt.yticks(fontsize=12)\n",
    "\n",
    "# Format Y-axis labels as percentages\n",
    "ax.yaxis.set_major_formatter(mticker.FuncFormatter(lambda y, pos: f\"{y:.2f}%\"))\n",
    "\n",
    "# Add a horizontal line at 0% for reference\n",
    "ax.axhline(0, color=\"black\", linewidth=1.2, linestyle=\"--\", alpha=0.7)\n",
    "\n",
    "# Labels and title\n",
    "plt.xlabel(\"Date\", fontsize=14, fontweight=\"bold\")\n",
    "plt.ylabel(\"Drawdown (%)\", fontsize=14, fontweight=\"bold\")\n",
    "plt.title(\n",
    "    \"📉 Drawdowns of YMAX Strategy 2 Over Time\",\n",
    "    fontsize=16,\n",
    "    fontweight=\"bold\",\n",
    "    color=\"darkred\"\n",
    ")\n",
    "\n",
    "# Improved grid style\n",
    "plt.grid(True, linestyle=\"--\", linewidth=1.0, color=\"gray\", alpha=0.7)\n",
    "\n",
    "# Legend\n",
    "plt.legend(fontsize=12, loc=\"best\", frameon=True, shadow=True)\n",
    "\n",
    "plt.tight_layout()\n",
    "plt.show()\n"
   ]
  },
  {
   "cell_type": "code",
   "execution_count": 12,
   "metadata": {},
   "outputs": [
    {
     "data": {
      "application/vnd.microsoft.datawrangler.viewer.v0+json": {
       "columns": [
        {
         "name": "index",
         "rawType": "object",
         "type": "string"
        },
        {
         "name": "Total Return (%)",
         "rawType": "float64",
         "type": "float"
        },
        {
         "name": "CAGR (%)",
         "rawType": "float64",
         "type": "float"
        },
        {
         "name": "Annualized Volatility (%)",
         "rawType": "float64",
         "type": "float"
        },
        {
         "name": "Sharpe Ratio",
         "rawType": "float64",
         "type": "float"
        },
        {
         "name": "Max Drawdown (%)",
         "rawType": "float64",
         "type": "float"
        },
        {
         "name": "Calmar Ratio",
         "rawType": "float64",
         "type": "float"
        }
       ],
       "conversionMethod": "pd.DataFrame",
       "ref": "e73ce991-5514-4fab-be39-1d554738e0a7",
       "rows": [
        [
         "YMAX Strategy 2",
         "8.78",
         "8.45",
         "13.55",
         "0.48",
         "-8.85",
         "0.95"
        ]
       ],
       "shape": {
        "columns": 6,
        "rows": 1
       }
      },
      "text/html": [
       "<div>\n",
       "<style scoped>\n",
       "    .dataframe tbody tr th:only-of-type {\n",
       "        vertical-align: middle;\n",
       "    }\n",
       "\n",
       "    .dataframe tbody tr th {\n",
       "        vertical-align: top;\n",
       "    }\n",
       "\n",
       "    .dataframe thead th {\n",
       "        text-align: right;\n",
       "    }\n",
       "</style>\n",
       "<table border=\"1\" class=\"dataframe\">\n",
       "  <thead>\n",
       "    <tr style=\"text-align: right;\">\n",
       "      <th></th>\n",
       "      <th>Total Return (%)</th>\n",
       "      <th>CAGR (%)</th>\n",
       "      <th>Annualized Volatility (%)</th>\n",
       "      <th>Sharpe Ratio</th>\n",
       "      <th>Max Drawdown (%)</th>\n",
       "      <th>Calmar Ratio</th>\n",
       "    </tr>\n",
       "  </thead>\n",
       "  <tbody>\n",
       "    <tr>\n",
       "      <th>YMAX Strategy 2</th>\n",
       "      <td>8.78</td>\n",
       "      <td>8.45</td>\n",
       "      <td>13.55</td>\n",
       "      <td>0.48</td>\n",
       "      <td>-8.85</td>\n",
       "      <td>0.95</td>\n",
       "    </tr>\n",
       "  </tbody>\n",
       "</table>\n",
       "</div>"
      ],
      "text/plain": [
       "                 Total Return (%)  CAGR (%)  Annualized Volatility (%)  \\\n",
       "YMAX Strategy 2              8.78      8.45                      13.55   \n",
       "\n",
       "                 Sharpe Ratio  Max Drawdown (%)  Calmar Ratio  \n",
       "YMAX Strategy 2          0.48             -8.85          0.95  "
      ]
     },
     "execution_count": 12,
     "metadata": {},
     "output_type": "execute_result"
    }
   ],
   "source": [
    "# Display the performance metrics for YMAX\n",
    "performance_df_ymax = performance_df\n",
    "performance_df_ymax = performance_df_ymax.round(2)\n",
    "performance_df_ymax"
   ]
  },
  {
   "cell_type": "markdown",
   "metadata": {},
   "source": [
    "# YMAG STRATEGY 3 BACKTEST"
   ]
  },
  {
   "cell_type": "code",
   "execution_count": 13,
   "metadata": {},
   "outputs": [
    {
     "data": {
      "image/png": "[encoded data removed]",
      "text/plain": [
       "<Figure size 1200x600 with 1 Axes>"
      ]
     },
     "metadata": {},
     "output_type": "display_data"
    },
    {
     "data": {
      "image/png": "[encoded data removed]",
      "text/plain": [
       "<Figure size 1200x400 with 1 Axes>"
      ]
     },
     "metadata": {},
     "output_type": "display_data"
    }
   ],
   "source": [
    "# ------------------------------------------------------------\n",
    "# 1) PREPARE THE DATA\n",
    "# ------------------------------------------------------------\n",
    "ymag_df = data.copy()\n",
    "\n",
    "# Define initial portfolio value\n",
    "initial_investment = 10000.0  # $10,000 starting capital\n",
    "\n",
    "# Sort by date to ensure chronological order\n",
    "ymag_df.sort_values(\"Date\", inplace=True)\n",
    "ymag_df.reset_index(drop=True, inplace=True)\n",
    "\n",
    "# ------------------------------------------------------------\n",
    "# 2) DEFINE HELPER FUNCTIONS FOR CONDITIONS\n",
    "# ------------------------------------------------------------\n",
    "# Function to check if we are in the market (entry/in-market condition)\n",
    "def in_market_condition(vix, vvix):\n",
    "    \"\"\"\n",
    "    Enter (or remain in) the market when:\n",
    "    VIX < 20 and VVIX < 95.\n",
    "    \"\"\"\n",
    "    return (vix < 20) and (vvix < 95)\n",
    "\n",
    "# Function to check the exit condition\n",
    "def exit_condition(vix, vvix):\n",
    "    \"\"\"\n",
    "    Exit the market if either:\n",
    "    VIX > 20 or VVIX > 100.\n",
    "    \"\"\"\n",
    "    return (vix > 20) or (vvix > 100)\n",
    "\n",
    "# ------------------------------------------------------------\n",
    "# 3) SET UP BACKTEST COLUMNS AND INITIAL VALUES\n",
    "# ------------------------------------------------------------\n",
    "ymag_df[\"Portfolio_Value\"] = np.nan\n",
    "ymag_df.loc[0, \"Portfolio_Value\"] = initial_investment\n",
    "\n",
    "# Boolean: are we currently invested?\n",
    "ymag_df[\"In_Market\"] = False\n",
    "ymag_df.loc[0, \"In_Market\"] = False\n",
    "\n",
    "# Track how many shares of YMAG we hold\n",
    "ymag_df[\"Shares_Held\"] = 0.0\n",
    "ymag_df.loc[0, \"Shares_Held\"] = 0.0\n",
    "\n",
    "# Strategy label for each day\n",
    "ymag_df[\"Strategy\"] = \"No Investment\"\n",
    "\n",
    "# ------------------------------------------------------------\n",
    "# 4) BACKTEST LOOP\n",
    "# ------------------------------------------------------------\n",
    "for i in range(1, len(ymag_df)):\n",
    "    # Carry forward previous day's portfolio value, in-market status, and shares held\n",
    "    ymag_df.loc[i, \"Portfolio_Value\"] = ymag_df.loc[i-1, \"Portfolio_Value\"]\n",
    "    ymag_df.loc[i, \"In_Market\"] = ymag_df.loc[i-1, \"In_Market\"]\n",
    "    ymag_df.loc[i, \"Shares_Held\"] = ymag_df.loc[i-1, \"Shares_Held\"]\n",
    "\n",
    "    # Current day data\n",
    "    vix_today = ymag_df.loc[i, \"VIX\"]\n",
    "    vvix_today = ymag_df.loc[i, \"VVIX\"]\n",
    "    ymag_price_today = ymag_df.loc[i, \"YMAG\"]\n",
    "    ymag_div_today = ymag_df.loc[i, \"YMAG Dividends\"]\n",
    "\n",
    "    # Are we in the market at the start of today?\n",
    "    currently_in_market = ymag_df.loc[i-1, \"In_Market\"]\n",
    "\n",
    "    if currently_in_market:\n",
    "        # If in the market, check if we need to exit\n",
    "        if exit_condition(vix_today, vvix_today):\n",
    "            # EXIT: close position -> set shares to 0, remain in cash\n",
    "            ymag_df.loc[i, \"In_Market\"] = False\n",
    "            ymag_df.loc[i, \"Shares_Held\"] = 0.0\n",
    "            ymag_df.loc[i, \"Strategy\"] = \"No Investment\"\n",
    "            # Portfolio_Value remains unchanged (carried forward)\n",
    "        else:\n",
    "            # REMAIN IN MARKET: update portfolio value based on today's price and dividend\n",
    "            shares_held = ymag_df.loc[i, \"Shares_Held\"]\n",
    "            new_portfolio_value = shares_held * (ymag_price_today + ymag_div_today)\n",
    "            ymag_df.loc[i, \"Portfolio_Value\"] = new_portfolio_value\n",
    "            ymag_df.loc[i, \"Strategy\"] = \"Long YMAG\"\n",
    "    else:\n",
    "        # If currently out of the market, check if entry (in-market) condition is met\n",
    "        if in_market_condition(vix_today, vvix_today):\n",
    "            # ENTER: buy shares with all available cash\n",
    "            cash_available = ymag_df.loc[i, \"Portfolio_Value\"]\n",
    "            if ymag_price_today > 0:\n",
    "                shares_bought = cash_available / ymag_price_today\n",
    "                ymag_df.loc[i, \"Shares_Held\"] = shares_bought\n",
    "                ymag_df.loc[i, \"In_Market\"] = True\n",
    "                ymag_df.loc[i, \"Strategy\"] = \"Long YMAG\"\n",
    "                # Immediately update portfolio value with today's price and dividend\n",
    "                new_portfolio_value = shares_bought * (ymag_price_today + ymag_div_today)\n",
    "                ymag_df.loc[i, \"Portfolio_Value\"] = new_portfolio_value\n",
    "            else:\n",
    "                # If price is 0 or invalid, skip entry\n",
    "                ymag_df.loc[i, \"Strategy\"] = \"No Investment\"\n",
    "        else:\n",
    "            # Remain out of the market\n",
    "            ymag_df.loc[i, \"Strategy\"] = \"No Investment\"\n",
    "\n",
    "# ------------------------------------------------------------\n",
    "# 5) COMPUTE DAILY RETURNS\n",
    "# ------------------------------------------------------------\n",
    "ymag_df[\"Portfolio_Return\"] = ymag_df[\"Portfolio_Value\"].pct_change()\n",
    "\n",
    "# ------------------------------------------------------------\n",
    "# 6) VISUALIZE RESULTS\n",
    "# ------------------------------------------------------------\n",
    "sns.set_style(\"whitegrid\")\n",
    "\n",
    "# (A) Portfolio Performance Plot\n",
    "plt.figure(figsize=(12, 6))\n",
    "ax = sns.lineplot(\n",
    "    x=ymag_df[\"Date\"],\n",
    "    y=ymag_df[\"Portfolio_Value\"],\n",
    "    color=\"blue\",\n",
    "    linewidth=2.5,\n",
    "    label=\"Portfolio Value (YMAG)\"\n",
    ")\n",
    "ax.xaxis.set_major_locator(mdates.MonthLocator())\n",
    "ax.xaxis.set_major_formatter(mdates.DateFormatter(\"%Y-%m\"))\n",
    "plt.xlabel(\"Date\", fontsize=14, fontweight=\"bold\")\n",
    "plt.ylabel(\"Portfolio Value ($)\", fontsize=14, fontweight=\"bold\")\n",
    "plt.title(\"📈 Portfolio Performance for YMAG (Strategy 3)\", fontsize=16, fontweight=\"bold\", color=\"darkblue\")\n",
    "plt.xticks(rotation=45, fontsize=12)\n",
    "plt.yticks(fontsize=12)\n",
    "plt.grid(True, linestyle=\"--\", linewidth=1.2, color=\"gray\")\n",
    "plt.legend(fontsize=12, loc=\"upper left\", frameon=True, shadow=True, edgecolor=\"black\")\n",
    "plt.show()\n",
    "\n",
    "# (B) Strategy Usage Over Time\n",
    "plt.figure(figsize=(12, 4))\n",
    "ax = sns.barplot(\n",
    "    x=ymag_df[\"Strategy\"].value_counts().index,\n",
    "    y=ymag_df[\"Strategy\"].value_counts().values,\n",
    "    palette=[\"royalblue\", \"red\", \"green\"]\n",
    ")\n",
    "plt.xlabel(\"Strategy\", fontsize=14, fontweight=\"bold\")\n",
    "plt.ylabel(\"Number of Days\", fontsize=14, fontweight=\"bold\")\n",
    "plt.title(\"📊 Strategy 3 Distribution Over Time (YMAG)\", fontsize=16, fontweight=\"bold\", color=\"navy\")\n",
    "plt.xticks(rotation=45, fontsize=12)\n",
    "plt.grid(axis=\"y\", linestyle=\"--\", linewidth=1.2, color=\"gray\")\n",
    "plt.show()\n"
   ]
  },
  {
   "cell_type": "code",
   "execution_count": 14,
   "metadata": {},
   "outputs": [
    {
     "data": {
      "image/png": "[encoded data removed]",
      "text/plain": [
       "<Figure size 1200x600 with 2 Axes>"
      ]
     },
     "metadata": {},
     "output_type": "display_data"
    }
   ],
   "source": [
    "# ---------------------------------------------\n",
    "# STEP A: Identify Entry and Exit Days for YMAG\n",
    "# ---------------------------------------------\n",
    "# Entry Day = Yesterday was out of market, today is in market\n",
    "ymag_df[\"Entry\"] = (ymag_df[\"In_Market\"].shift(1) == False) & (ymag_df[\"In_Market\"] == True)\n",
    "\n",
    "# Exit Day = Yesterday was in market, today is out of market\n",
    "ymag_df[\"Exit\"] = (ymag_df[\"In_Market\"].shift(1) == True) & (ymag_df[\"In_Market\"] == False)\n",
    "\n",
    "# ---------------------------------------------\n",
    "# STEP B: Prepare Data for Plotting\n",
    "# ---------------------------------------------\n",
    "entry_days = ymag_df[ymag_df[\"Entry\"] == True]\n",
    "exit_days  = ymag_df[ymag_df[\"Exit\"] == True]\n",
    "\n",
    "# Sort data by date (just to be safe)\n",
    "ymag_df.sort_values(\"Date\", inplace=True)\n",
    "ymag_df.reset_index(drop=True, inplace=True)\n",
    "\n",
    "# ---------------------------------------------\n",
    "# STEP C: Create the Dual-Axis Plot for YMAG\n",
    "# ---------------------------------------------\n",
    "sns.set_style(\"whitegrid\")\n",
    "fig, ax1 = plt.subplots(figsize=(12, 6))\n",
    "\n",
    "# LEFT Y-AXIS: Plot YMAG Price\n",
    "ax1.set_xlabel(\"Date\", fontsize=14, fontweight=\"bold\")\n",
    "ax1.set_ylabel(\"YMAG Price ($)\", fontsize=14, fontweight=\"bold\", color=\"blue\")\n",
    "\n",
    "# Plot YMAG Price line\n",
    "line1, = ax1.plot(\n",
    "    ymag_df[\"Date\"],\n",
    "    ymag_df[\"YMAG\"],\n",
    "    color=\"blue\",\n",
    "    linewidth=2,\n",
    "    label=\"YMAG Price\"\n",
    ")\n",
    "\n",
    "# Add entry (^) and exit (v) markers on YMAG Price\n",
    "ax1.scatter(\n",
    "    entry_days[\"Date\"], \n",
    "    entry_days[\"YMAG\"], \n",
    "    marker=\"^\", \n",
    "    color=\"blue\", \n",
    "    s=100, \n",
    "    label=\"Entry\"\n",
    ")\n",
    "ax1.scatter(\n",
    "    exit_days[\"Date\"], \n",
    "    exit_days[\"YMAG\"], \n",
    "    marker=\"v\", \n",
    "    color=\"red\",\n",
    "    s=100, \n",
    "    label=\"Exit\"\n",
    ")\n",
    "\n",
    "# Make the left y-axis text blue for clarity\n",
    "ax1.tick_params(axis='y', labelcolor=\"blue\")\n",
    "\n",
    "# Format the date axis on x-axis\n",
    "ax1.xaxis.set_major_locator(mdates.MonthLocator())\n",
    "ax1.xaxis.set_major_formatter(mdates.DateFormatter(\"%Y-%m\"))\n",
    "plt.xticks(rotation=45, fontsize=11)\n",
    "plt.yticks(fontsize=11)\n",
    "\n",
    "# ---------------------------------------------\n",
    "# RIGHT Y-AXIS: Plot Portfolio Value\n",
    "# ---------------------------------------------\n",
    "ax2 = ax1.twinx()  # share the same x-axis\n",
    "ax2.set_ylabel(\"Portfolio Value ($)\", fontsize=14, fontweight=\"bold\", color=\"red\")\n",
    "\n",
    "line2, = ax2.plot(\n",
    "    ymag_df[\"Date\"],\n",
    "    ymag_df[\"Portfolio_Value\"],\n",
    "    color=\"red\",\n",
    "    linewidth=2,\n",
    "    label=\"Portfolio Value\"\n",
    ")\n",
    "ax2.tick_params(axis='y', labelcolor=\"red\")\n",
    "plt.yticks(fontsize=11)\n",
    "\n",
    "# ---------------------------------------------\n",
    "# STEP D: Enhance the Plot\n",
    "# ---------------------------------------------\n",
    "plt.title(\"YMAG Price (Left Axis) vs. Portfolio Value (Right Axis)\", fontsize=16, fontweight=\"bold\")\n",
    "plt.grid(True, linestyle=\"--\", linewidth=1.2, color=\"gray\")\n",
    "\n",
    "# Combine legends from both axes\n",
    "lines_1, labels_1 = ax1.get_legend_handles_labels()\n",
    "lines_2, labels_2 = ax2.get_legend_handles_labels()\n",
    "ax1.legend(lines_1 + lines_2, labels_1 + labels_2, loc=\"upper center\", frameon=True, shadow=True)\n",
    "\n",
    "plt.tight_layout()\n",
    "plt.show()\n"
   ]
  },
  {
   "cell_type": "code",
   "execution_count": 15,
   "metadata": {},
   "outputs": [
    {
     "data": {
      "application/vnd.plotly.v1+json": {
       "config": {
        "plotlyServerURL": "https://plot.ly"
       },
       "data": [
        {
         "line": {
          "color": "blue",
          "width": 2
         },
         "mode": "lines",
         "name": "YMAG Price",
         "type": "scatter",
         "x": [
          "2024-01-31T00:00:00.000000000",
          "2024-02-01T00:00:00.000000000",
          "2024-02-02T00:00:00.000000000",
          "2024-02-05T00:00:00.000000000",
          "2024-02-06T00:00:00.000000000",
          "2024-02-07T00:00:00.000000000",
          "2024-02-08T00:00:00.000000000",
          "2024-02-09T00:00:00.000000000",
          "2024-02-12T00:00:00.000000000",
          "2024-02-13T00:00:00.000000000",
          "2024-02-14T00:00:00.000000000",
          "2024-02-15T00:00:00.000000000",
          "2024-02-16T00:00:00.000000000",
          "2024-02-20T00:00:00.000000000",
          "2024-02-21T00:00:00.000000000",
          "2024-02-22T00:00:00.000000000",
          "2024-02-23T00:00:00.000000000",
          "2024-02-26T00:00:00.000000000",
          "2024-02-27T00:00:00.000000000",
          "2024-02-28T00:00:00.000000000",
          "2024-02-29T00:00:00.000000000",
          "2024-03-01T00:00:00.000000000",
          "2024-03-04T00:00:00.000000000",
          "2024-03-05T00:00:00.000000000",
          "2024-03-06T00:00:00.000000000",
          "2024-03-07T00:00:00.000000000",
          "2024-03-08T00:00:00.000000000",
          "2024-03-11T00:00:00.000000000",
          "2024-03-12T00:00:00.000000000",
          "2024-03-13T00:00:00.000000000",
          "2024-03-14T00:00:00.000000000",
          "2024-03-15T00:00:00.000000000",
          "2024-03-18T00:00:00.000000000",
          "2024-03-19T00:00:00.000000000",
          "2024-03-20T00:00:00.000000000",
          "2024-03-21T00:00:00.000000000",
          "2024-03-22T00:00:00.000000000",
          "2024-03-25T00:00:00.000000000",
          "2024-03-26T00:00:00.000000000",
          "2024-03-27T00:00:00.000000000",
          "2024-03-28T00:00:00.000000000",
          "2024-04-01T00:00:00.000000000",
          "2024-04-02T00:00:00.000000000",
          "2024-04-03T00:00:00.000000000",
          "2024-04-04T00:00:00.000000000",
          "2024-04-05T00:00:00.000000000",
          "2024-04-08T00:00:00.000000000",
          "2024-04-09T00:00:00.000000000",
          "2024-04-10T00:00:00.000000000",
          "2024-04-11T00:00:00.000000000",
          "2024-04-12T00:00:00.000000000",
          "2024-04-15T00:00:00.000000000",
          "2024-04-16T00:00:00.000000000",
          "2024-04-17T00:00:00.000000000",
          "2024-04-18T00:00:00.000000000",
          "2024-04-19T00:00:00.000000000",
          "2024-04-22T00:00:00.000000000",
          "2024-04-23T00:00:00.000000000",
          "2024-04-24T00:00:00.000000000",
          "2024-04-25T00:00:00.000000000",
          "2024-04-26T00:00:00.000000000",
          "2024-04-29T00:00:00.000000000",
          "2024-04-30T00:00:00.000000000",
          "2024-05-01T00:00:00.000000000",
          "2024-05-02T00:00:00.000000000",
          "2024-05-03T00:00:00.000000000",
          "2024-05-06T00:00:00.000000000",
          "2024-05-07T00:00:00.000000000",
          "2024-05-08T00:00:00.000000000",
          "2024-05-09T00:00:00.000000000",
          "2024-05-10T00:00:00.000000000",
          "2024-05-13T00:00:00.000000000",
          "2024-05-14T00:00:00.000000000",
          "2024-05-15T00:00:00.000000000",
          "2024-05-16T00:00:00.000000000",
          "2024-05-17T00:00:00.000000000",
          "2024-05-20T00:00:00.000000000",
          "2024-05-21T00:00:00.000000000",
          "2024-05-22T00:00:00.000000000",
          "2024-05-23T00:00:00.000000000",
          "2024-05-24T00:00:00.000000000",
          "2024-05-28T00:00:00.000000000",
          "2024-05-29T00:00:00.000000000",
          "2024-05-30T00:00:00.000000000",
          "2024-05-31T00:00:00.000000000",
          "2024-06-03T00:00:00.000000000",
          "2024-06-04T00:00:00.000000000",
          "2024-06-05T00:00:00.000000000",
          "2024-06-06T00:00:00.000000000",
          "2024-06-07T00:00:00.000000000",
          "2024-06-10T00:00:00.000000000",
          "2024-06-11T00:00:00.000000000",
          "2024-06-12T00:00:00.000000000",
          "2024-06-13T00:00:00.000000000",
          "2024-06-14T00:00:00.000000000",
          "2024-06-17T00:00:00.000000000",
          "2024-06-18T00:00:00.000000000",
          "2024-06-20T00:00:00.000000000",
          "2024-06-21T00:00:00.000000000",
          "2024-06-24T00:00:00.000000000",
          "2024-06-25T00:00:00.000000000",
          "2024-06-26T00:00:00.000000000",
          "2024-06-27T00:00:00.000000000",
          "2024-06-28T00:00:00.000000000",
          "2024-07-01T00:00:00.000000000",
          "2024-07-02T00:00:00.000000000",
          "2024-07-03T00:00:00.000000000",
          "2024-07-05T00:00:00.000000000",
          "2024-07-08T00:00:00.000000000",
          "2024-07-09T00:00:00.000000000",
          "2024-07-10T00:00:00.000000000",
          "2024-07-11T00:00:00.000000000",
          "2024-07-12T00:00:00.000000000",
          "2024-07-15T00:00:00.000000000",
          "2024-07-16T00:00:00.000000000",
          "2024-07-17T00:00:00.000000000",
          "2024-07-18T00:00:00.000000000",
          "2024-07-19T00:00:00.000000000",
          "2024-07-22T00:00:00.000000000",
          "2024-07-23T00:00:00.000000000",
          "2024-07-24T00:00:00.000000000",
          "2024-07-25T00:00:00.000000000",
          "2024-07-26T00:00:00.000000000",
          "2024-07-29T00:00:00.000000000",
          "2024-07-30T00:00:00.000000000",
          "2024-07-31T00:00:00.000000000",
          "2024-08-01T00:00:00.000000000",
          "2024-08-02T00:00:00.000000000",
          "2024-08-05T00:00:00.000000000",
          "2024-08-06T00:00:00.000000000",
          "2024-08-07T00:00:00.000000000",
          "2024-08-08T00:00:00.000000000",
          "2024-08-09T00:00:00.000000000",
          "2024-08-12T00:00:00.000000000",
          "2024-08-13T00:00:00.000000000",
          "2024-08-14T00:00:00.000000000",
          "2024-08-15T00:00:00.000000000",
          "2024-08-16T00:00:00.000000000",
          "2024-08-19T00:00:00.000000000",
          "2024-08-20T00:00:00.000000000",
          "2024-08-21T00:00:00.000000000",
          "2024-08-22T00:00:00.000000000",
          "2024-08-23T00:00:00.000000000",
          "2024-08-26T00:00:00.000000000",
          "2024-08-27T00:00:00.000000000",
          "2024-08-28T00:00:00.000000000",
          "2024-08-29T00:00:00.000000000",
          "2024-08-30T00:00:00.000000000",
          "2024-09-03T00:00:00.000000000",
          "2024-09-04T00:00:00.000000000",
          "2024-09-05T00:00:00.000000000",
          "2024-09-06T00:00:00.000000000",
          "2024-09-09T00:00:00.000000000",
          "2024-09-10T00:00:00.000000000",
          "2024-09-11T00:00:00.000000000",
          "2024-09-12T00:00:00.000000000",
          "2024-09-13T00:00:00.000000000",
          "2024-09-16T00:00:00.000000000",
          "2024-09-17T00:00:00.000000000",
          "2024-09-18T00:00:00.000000000",
          "2024-09-19T00:00:00.000000000",
          "2024-09-20T00:00:00.000000000",
          "2024-09-23T00:00:00.000000000",
          "2024-09-24T00:00:00.000000000",
          "2024-09-25T00:00:00.000000000",
          "2024-09-26T00:00:00.000000000",
          "2024-09-27T00:00:00.000000000",
          "2024-09-30T00:00:00.000000000",
          "2024-10-01T00:00:00.000000000",
          "2024-10-02T00:00:00.000000000",
          "2024-10-03T00:00:00.000000000",
          "2024-10-04T00:00:00.000000000",
          "2024-10-07T00:00:00.000000000",
          "2024-10-08T00:00:00.000000000",
          "2024-10-09T00:00:00.000000000",
          "2024-10-10T00:00:00.000000000",
          "2024-10-11T00:00:00.000000000",
          "2024-10-14T00:00:00.000000000",
          "2024-10-15T00:00:00.000000000",
          "2024-10-16T00:00:00.000000000",
          "2024-10-17T00:00:00.000000000",
          "2024-10-18T00:00:00.000000000",
          "2024-10-21T00:00:00.000000000",
          "2024-10-22T00:00:00.000000000",
          "2024-10-23T00:00:00.000000000",
          "2024-10-24T00:00:00.000000000",
          "2024-10-25T00:00:00.000000000",
          "2024-10-28T00:00:00.000000000",
          "2024-10-29T00:00:00.000000000",
          "2024-10-30T00:00:00.000000000",
          "2024-10-31T00:00:00.000000000",
          "2024-11-01T00:00:00.000000000",
          "2024-11-04T00:00:00.000000000",
          "2024-11-05T00:00:00.000000000",
          "2024-11-06T00:00:00.000000000",
          "2024-11-07T00:00:00.000000000",
          "2024-11-08T00:00:00.000000000",
          "2024-11-11T00:00:00.000000000",
          "2024-11-12T00:00:00.000000000",
          "2024-11-13T00:00:00.000000000",
          "2024-11-14T00:00:00.000000000",
          "2024-11-15T00:00:00.000000000",
          "2024-11-18T00:00:00.000000000",
          "2024-11-19T00:00:00.000000000",
          "2024-11-20T00:00:00.000000000",
          "2024-11-21T00:00:00.000000000",
          "2024-11-22T00:00:00.000000000",
          "2024-11-25T00:00:00.000000000",
          "2024-11-26T00:00:00.000000000",
          "2024-11-27T00:00:00.000000000",
          "2024-11-29T00:00:00.000000000",
          "2024-12-02T00:00:00.000000000",
          "2024-12-03T00:00:00.000000000",
          "2024-12-04T00:00:00.000000000",
          "2024-12-05T00:00:00.000000000",
          "2024-12-06T00:00:00.000000000",
          "2024-12-09T00:00:00.000000000",
          "2024-12-10T00:00:00.000000000",
          "2024-12-11T00:00:00.000000000",
          "2024-12-12T00:00:00.000000000",
          "2024-12-13T00:00:00.000000000",
          "2024-12-16T00:00:00.000000000",
          "2024-12-17T00:00:00.000000000",
          "2024-12-18T00:00:00.000000000",
          "2024-12-19T00:00:00.000000000",
          "2024-12-20T00:00:00.000000000",
          "2024-12-23T00:00:00.000000000",
          "2024-12-24T00:00:00.000000000",
          "2024-12-26T00:00:00.000000000",
          "2024-12-27T00:00:00.000000000",
          "2024-12-30T00:00:00.000000000",
          "2024-12-31T00:00:00.000000000",
          "2025-01-02T00:00:00.000000000",
          "2025-01-03T00:00:00.000000000",
          "2025-01-06T00:00:00.000000000",
          "2025-01-07T00:00:00.000000000",
          "2025-01-08T00:00:00.000000000",
          "2025-01-10T00:00:00.000000000",
          "2025-01-13T00:00:00.000000000",
          "2025-01-14T00:00:00.000000000",
          "2025-01-15T00:00:00.000000000",
          "2025-01-16T00:00:00.000000000",
          "2025-01-17T00:00:00.000000000",
          "2025-01-21T00:00:00.000000000",
          "2025-01-22T00:00:00.000000000",
          "2025-01-23T00:00:00.000000000",
          "2025-01-24T00:00:00.000000000",
          "2025-01-27T00:00:00.000000000",
          "2025-01-28T00:00:00.000000000",
          "2025-01-29T00:00:00.000000000",
          "2025-01-30T00:00:00.000000000",
          "2025-01-31T00:00:00.000000000",
          "2025-02-03T00:00:00.000000000",
          "2025-02-04T00:00:00.000000000",
          "2025-02-05T00:00:00.000000000",
          "2025-02-06T00:00:00.000000000",
          "2025-02-07T00:00:00.000000000",
          "2025-02-10T00:00:00.000000000",
          "2025-02-11T00:00:00.000000000",
          "2025-02-12T00:00:00.000000000",
          "2025-02-13T00:00:00.000000000"
         ],
         "y": {
          "bdata": "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",
          "dtype": "f8"
         },
         "yaxis": "y"
        },
        {
         "marker": {
          "color": "blue",
          "size": 12,
          "symbol": "triangle-up"
         },
         "mode": "markers",
         "name": "Entry",
         "type": "scatter",
         "x": [
          "2024-02-01T00:00:00.000000000",
          "2024-04-22T00:00:00.000000000",
          "2024-07-26T00:00:00.000000000",
          "2024-08-27T00:00:00.000000000",
          "2024-08-30T00:00:00.000000000",
          "2024-09-20T00:00:00.000000000",
          "2024-11-07T00:00:00.000000000",
          "2024-11-25T00:00:00.000000000",
          "2024-12-24T00:00:00.000000000",
          "2025-01-03T00:00:00.000000000"
         ],
         "y": {
          "bdata": "AAAAAADAM0BxPQrXo/AyQD0K16NwPTNAhetRuB4FM0AfhetRuB4zQD0K16NwPTNA4XoUrkehM0AK16NwPUozQPYoXI/CNTRAMzMzMzMzM0A=",
          "dtype": "f8"
         },
         "yaxis": "y"
        },
        {
         "marker": {
          "color": "red",
          "size": 12,
          "symbol": "triangle-down"
         },
         "mode": "markers",
         "name": "Exit",
         "type": "scatter",
         "x": [
          "2024-04-12T00:00:00.000000000",
          "2024-07-24T00:00:00.000000000",
          "2024-08-01T00:00:00.000000000",
          "2024-08-28T00:00:00.000000000",
          "2024-09-03T00:00:00.000000000",
          "2024-09-27T00:00:00.000000000",
          "2024-11-20T00:00:00.000000000",
          "2024-12-17T00:00:00.000000000",
          "2024-12-30T00:00:00.000000000",
          "2025-01-07T00:00:00.000000000"
         ],
         "y": {
          "bdata": "rkfhehSuNEDD9Shcj0IzQPYoXI/CdTNAmpmZmZnZMkAfhetRuJ4yQJqZmZmZWTNAhetRuB6FM0CamZmZmVk0QMP1KFyPgjNA16NwPQoXM0A=",
          "dtype": "f8"
         },
         "yaxis": "y"
        },
        {
         "line": {
          "color": "red",
          "width": 2
         },
         "mode": "lines",
         "name": "Portfolio Value",
         "type": "scatter",
         "x": [
          "2024-01-31T00:00:00.000000000",
          "2024-02-01T00:00:00.000000000",
          "2024-02-02T00:00:00.000000000",
          "2024-02-05T00:00:00.000000000",
          "2024-02-06T00:00:00.000000000",
          "2024-02-07T00:00:00.000000000",
          "2024-02-08T00:00:00.000000000",
          "2024-02-09T00:00:00.000000000",
          "2024-02-12T00:00:00.000000000",
          "2024-02-13T00:00:00.000000000",
          "2024-02-14T00:00:00.000000000",
          "2024-02-15T00:00:00.000000000",
          "2024-02-16T00:00:00.000000000",
          "2024-02-20T00:00:00.000000000",
          "2024-02-21T00:00:00.000000000",
          "2024-02-22T00:00:00.000000000",
          "2024-02-23T00:00:00.000000000",
          "2024-02-26T00:00:00.000000000",
          "2024-02-27T00:00:00.000000000",
          "2024-02-28T00:00:00.000000000",
          "2024-02-29T00:00:00.000000000",
          "2024-03-01T00:00:00.000000000",
          "2024-03-04T00:00:00.000000000",
          "2024-03-05T00:00:00.000000000",
          "2024-03-06T00:00:00.000000000",
          "2024-03-07T00:00:00.000000000",
          "2024-03-08T00:00:00.000000000",
          "2024-03-11T00:00:00.000000000",
          "2024-03-12T00:00:00.000000000",
          "2024-03-13T00:00:00.000000000",
          "2024-03-14T00:00:00.000000000",
          "2024-03-15T00:00:00.000000000",
          "2024-03-18T00:00:00.000000000",
          "2024-03-19T00:00:00.000000000",
          "2024-03-20T00:00:00.000000000",
          "2024-03-21T00:00:00.000000000",
          "2024-03-22T00:00:00.000000000",
          "2024-03-25T00:00:00.000000000",
          "2024-03-26T00:00:00.000000000",
          "2024-03-27T00:00:00.000000000",
          "2024-03-28T00:00:00.000000000",
          "2024-04-01T00:00:00.000000000",
          "2024-04-02T00:00:00.000000000",
          "2024-04-03T00:00:00.000000000",
          "2024-04-04T00:00:00.000000000",
          "2024-04-05T00:00:00.000000000",
          "2024-04-08T00:00:00.000000000",
          "2024-04-09T00:00:00.000000000",
          "2024-04-10T00:00:00.000000000",
          "2024-04-11T00:00:00.000000000",
          "2024-04-12T00:00:00.000000000",
          "2024-04-15T00:00:00.000000000",
          "2024-04-16T00:00:00.000000000",
          "2024-04-17T00:00:00.000000000",
          "2024-04-18T00:00:00.000000000",
          "2024-04-19T00:00:00.000000000",
          "2024-04-22T00:00:00.000000000",
          "2024-04-23T00:00:00.000000000",
          "2024-04-24T00:00:00.000000000",
          "2024-04-25T00:00:00.000000000",
          "2024-04-26T00:00:00.000000000",
          "2024-04-29T00:00:00.000000000",
          "2024-04-30T00:00:00.000000000",
          "2024-05-01T00:00:00.000000000",
          "2024-05-02T00:00:00.000000000",
          "2024-05-03T00:00:00.000000000",
          "2024-05-06T00:00:00.000000000",
          "2024-05-07T00:00:00.000000000",
          "2024-05-08T00:00:00.000000000",
          "2024-05-09T00:00:00.000000000",
          "2024-05-10T00:00:00.000000000",
          "2024-05-13T00:00:00.000000000",
          "2024-05-14T00:00:00.000000000",
          "2024-05-15T00:00:00.000000000",
          "2024-05-16T00:00:00.000000000",
          "2024-05-17T00:00:00.000000000",
          "2024-05-20T00:00:00.000000000",
          "2024-05-21T00:00:00.000000000",
          "2024-05-22T00:00:00.000000000",
          "2024-05-23T00:00:00.000000000",
          "2024-05-24T00:00:00.000000000",
          "2024-05-28T00:00:00.000000000",
          "2024-05-29T00:00:00.000000000",
          "2024-05-30T00:00:00.000000000",
          "2024-05-31T00:00:00.000000000",
          "2024-06-03T00:00:00.000000000",
          "2024-06-04T00:00:00.000000000",
          "2024-06-05T00:00:00.000000000",
          "2024-06-06T00:00:00.000000000",
          "2024-06-07T00:00:00.000000000",
          "2024-06-10T00:00:00.000000000",
          "2024-06-11T00:00:00.000000000",
          "2024-06-12T00:00:00.000000000",
          "2024-06-13T00:00:00.000000000",
          "2024-06-14T00:00:00.000000000",
          "2024-06-17T00:00:00.000000000",
          "2024-06-18T00:00:00.000000000",
          "2024-06-20T00:00:00.000000000",
          "2024-06-21T00:00:00.000000000",
          "2024-06-24T00:00:00.000000000",
          "2024-06-25T00:00:00.000000000",
          "2024-06-26T00:00:00.000000000",
          "2024-06-27T00:00:00.000000000",
          "2024-06-28T00:00:00.000000000",
          "2024-07-01T00:00:00.000000000",
          "2024-07-02T00:00:00.000000000",
          "2024-07-03T00:00:00.000000000",
          "2024-07-05T00:00:00.000000000",
          "2024-07-08T00:00:00.000000000",
          "2024-07-09T00:00:00.000000000",
          "2024-07-10T00:00:00.000000000",
          "2024-07-11T00:00:00.000000000",
          "2024-07-12T00:00:00.000000000",
          "2024-07-15T00:00:00.000000000",
          "2024-07-16T00:00:00.000000000",
          "2024-07-17T00:00:00.000000000",
          "2024-07-18T00:00:00.000000000",
          "2024-07-19T00:00:00.000000000",
          "2024-07-22T00:00:00.000000000",
          "2024-07-23T00:00:00.000000000",
          "2024-07-24T00:00:00.000000000",
          "2024-07-25T00:00:00.000000000",
          "2024-07-26T00:00:00.000000000",
          "2024-07-29T00:00:00.000000000",
          "2024-07-30T00:00:00.000000000",
          "2024-07-31T00:00:00.000000000",
          "2024-08-01T00:00:00.000000000",
          "2024-08-02T00:00:00.000000000",
          "2024-08-05T00:00:00.000000000",
          "2024-08-06T00:00:00.000000000",
          "2024-08-07T00:00:00.000000000",
          "2024-08-08T00:00:00.000000000",
          "2024-08-09T00:00:00.000000000",
          "2024-08-12T00:00:00.000000000",
          "2024-08-13T00:00:00.000000000",
          "2024-08-14T00:00:00.000000000",
          "2024-08-15T00:00:00.000000000",
          "2024-08-16T00:00:00.000000000",
          "2024-08-19T00:00:00.000000000",
          "2024-08-20T00:00:00.000000000",
          "2024-08-21T00:00:00.000000000",
          "2024-08-22T00:00:00.000000000",
          "2024-08-23T00:00:00.000000000",
          "2024-08-26T00:00:00.000000000",
          "2024-08-27T00:00:00.000000000",
          "2024-08-28T00:00:00.000000000",
          "2024-08-29T00:00:00.000000000",
          "2024-08-30T00:00:00.000000000",
          "2024-09-03T00:00:00.000000000",
          "2024-09-04T00:00:00.000000000",
          "2024-09-05T00:00:00.000000000",
          "2024-09-06T00:00:00.000000000",
          "2024-09-09T00:00:00.000000000",
          "2024-09-10T00:00:00.000000000",
          "2024-09-11T00:00:00.000000000",
          "2024-09-12T00:00:00.000000000",
          "2024-09-13T00:00:00.000000000",
          "2024-09-16T00:00:00.000000000",
          "2024-09-17T00:00:00.000000000",
          "2024-09-18T00:00:00.000000000",
          "2024-09-19T00:00:00.000000000",
          "2024-09-20T00:00:00.000000000",
          "2024-09-23T00:00:00.000000000",
          "2024-09-24T00:00:00.000000000",
          "2024-09-25T00:00:00.000000000",
          "2024-09-26T00:00:00.000000000",
          "2024-09-27T00:00:00.000000000",
          "2024-09-30T00:00:00.000000000",
          "2024-10-01T00:00:00.000000000",
          "2024-10-02T00:00:00.000000000",
          "2024-10-03T00:00:00.000000000",
          "2024-10-04T00:00:00.000000000",
          "2024-10-07T00:00:00.000000000",
          "2024-10-08T00:00:00.000000000",
          "2024-10-09T00:00:00.000000000",
          "2024-10-10T00:00:00.000000000",
          "2024-10-11T00:00:00.000000000",
          "2024-10-14T00:00:00.000000000",
          "2024-10-15T00:00:00.000000000",
          "2024-10-16T00:00:00.000000000",
          "2024-10-17T00:00:00.000000000",
          "2024-10-18T00:00:00.000000000",
          "2024-10-21T00:00:00.000000000",
          "2024-10-22T00:00:00.000000000",
          "2024-10-23T00:00:00.000000000",
          "2024-10-24T00:00:00.000000000",
          "2024-10-25T00:00:00.000000000",
          "2024-10-28T00:00:00.000000000",
          "2024-10-29T00:00:00.000000000",
          "2024-10-30T00:00:00.000000000",
          "2024-10-31T00:00:00.000000000",
          "2024-11-01T00:00:00.000000000",
          "2024-11-04T00:00:00.000000000",
          "2024-11-05T00:00:00.000000000",
          "2024-11-06T00:00:00.000000000",
          "2024-11-07T00:00:00.000000000",
          "2024-11-08T00:00:00.000000000",
          "2024-11-11T00:00:00.000000000",
          "2024-11-12T00:00:00.000000000",
          "2024-11-13T00:00:00.000000000",
          "2024-11-14T00:00:00.000000000",
          "2024-11-15T00:00:00.000000000",
          "2024-11-18T00:00:00.000000000",
          "2024-11-19T00:00:00.000000000",
          "2024-11-20T00:00:00.000000000",
          "2024-11-21T00:00:00.000000000",
          "2024-11-22T00:00:00.000000000",
          "2024-11-25T00:00:00.000000000",
          "2024-11-26T00:00:00.000000000",
          "2024-11-27T00:00:00.000000000",
          "2024-11-29T00:00:00.000000000",
          "2024-12-02T00:00:00.000000000",
          "2024-12-03T00:00:00.000000000",
          "2024-12-04T00:00:00.000000000",
          "2024-12-05T00:00:00.000000000",
          "2024-12-06T00:00:00.000000000",
          "2024-12-09T00:00:00.000000000",
          "2024-12-10T00:00:00.000000000",
          "2024-12-11T00:00:00.000000000",
          "2024-12-12T00:00:00.000000000",
          "2024-12-13T00:00:00.000000000",
          "2024-12-16T00:00:00.000000000",
          "2024-12-17T00:00:00.000000000",
          "2024-12-18T00:00:00.000000000",
          "2024-12-19T00:00:00.000000000",
          "2024-12-20T00:00:00.000000000",
          "2024-12-23T00:00:00.000000000",
          "2024-12-24T00:00:00.000000000",
          "2024-12-26T00:00:00.000000000",
          "2024-12-27T00:00:00.000000000",
          "2024-12-30T00:00:00.000000000",
          "2024-12-31T00:00:00.000000000",
          "2025-01-02T00:00:00.000000000",
          "2025-01-03T00:00:00.000000000",
          "2025-01-06T00:00:00.000000000",
          "2025-01-07T00:00:00.000000000",
          "2025-01-08T00:00:00.000000000",
          "2025-01-10T00:00:00.000000000",
          "2025-01-13T00:00:00.000000000",
          "2025-01-14T00:00:00.000000000",
          "2025-01-15T00:00:00.000000000",
          "2025-01-16T00:00:00.000000000",
          "2025-01-17T00:00:00.000000000",
          "2025-01-21T00:00:00.000000000",
          "2025-01-22T00:00:00.000000000",
          "2025-01-23T00:00:00.000000000",
          "2025-01-24T00:00:00.000000000",
          "2025-01-27T00:00:00.000000000",
          "2025-01-28T00:00:00.000000000",
          "2025-01-29T00:00:00.000000000",
          "2025-01-30T00:00:00.000000000",
          "2025-01-31T00:00:00.000000000",
          "2025-02-03T00:00:00.000000000",
          "2025-02-04T00:00:00.000000000",
          "2025-02-05T00:00:00.000000000",
          "2025-02-06T00:00:00.000000000",
          "2025-02-07T00:00:00.000000000",
          "2025-02-10T00:00:00.000000000",
          "2025-02-11T00:00:00.000000000",
          "2025-02-12T00:00:00.000000000",
          "2025-02-13T00:00:00.000000000"
         ],
         "y": {
          "bdata": "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",
          "dtype": "f8"
         },
         "yaxis": "y2"
        }
       ],
       "layout": {
        "hovermode": "x unified",
        "legend": {
         "bgcolor": "rgba(255,255,255,0.7)",
         "bordercolor": "black",
         "borderwidth": 1,
         "x": 0.5,
         "xanchor": "center",
         "y": 1,
         "yanchor": "top"
        },
        "template": {
         "data": {
          "bar": [
           {
            "error_x": {
             "color": "#2a3f5f"
            },
            "error_y": {
             "color": "#2a3f5f"
            },
            "marker": {
             "line": {
              "color": "#E5ECF6",
              "width": 0.5
             },
             "pattern": {
              "fillmode": "overlay",
              "size": 10,
              "solidity": 0.2
             }
            },
            "type": "bar"
           }
          ],
          "barpolar": [
           {
            "marker": {
             "line": {
              "color": "#E5ECF6",
              "width": 0.5
             },
             "pattern": {
              "fillmode": "overlay",
              "size": 10,
              "solidity": 0.2
             }
            },
            "type": "barpolar"
           }
          ],
          "carpet": [
           {
            "aaxis": {
             "endlinecolor": "#2a3f5f",
             "gridcolor": "white",
             "linecolor": "white",
             "minorgridcolor": "white",
             "startlinecolor": "#2a3f5f"
            },
            "baxis": {
             "endlinecolor": "#2a3f5f",
             "gridcolor": "white",
             "linecolor": "white",
             "minorgridcolor": "white",
             "startlinecolor": "#2a3f5f"
            },
            "type": "carpet"
           }
          ],
          "choropleth": [
           {
            "colorbar": {
             "outlinewidth": 0,
             "ticks": ""
            },
            "type": "choropleth"
           }
          ],
          "contour": [
           {
            "colorbar": {
             "outlinewidth": 0,
             "ticks": ""
            },
            "colorscale": [
             [
              0,
              "#0d0887"
             ],
             [
              0.1111111111111111,
              "#46039f"
             ],
             [
              0.2222222222222222,
              "#7201a8"
             ],
             [
              0.3333333333333333,
              "#9c179e"
             ],
             [
              0.4444444444444444,
              "#bd3786"
             ],
             [
              0.5555555555555556,
              "#d8576b"
             ],
             [
              0.6666666666666666,
              "#ed7953"
             ],
             [
              0.7777777777777778,
              "#fb9f3a"
             ],
             [
              0.8888888888888888,
              "#fdca26"
             ],
             [
              1,
              "#f0f921"
             ]
            ],
            "type": "contour"
           }
          ],
          "contourcarpet": [
           {
            "colorbar": {
             "outlinewidth": 0,
             "ticks": ""
            },
            "type": "contourcarpet"
           }
          ],
          "heatmap": [
           {
            "colorbar": {
             "outlinewidth": 0,
             "ticks": ""
            },
            "colorscale": [
             [
              0,
              "#0d0887"
             ],
             [
              0.1111111111111111,
              "#46039f"
             ],
             [
              0.2222222222222222,
              "#7201a8"
             ],
             [
              0.3333333333333333,
              "#9c179e"
             ],
             [
              0.4444444444444444,
              "#bd3786"
             ],
             [
              0.5555555555555556,
              "#d8576b"
             ],
             [
              0.6666666666666666,
              "#ed7953"
             ],
             [
              0.7777777777777778,
              "#fb9f3a"
             ],
             [
              0.8888888888888888,
              "#fdca26"
             ],
             [
              1,
              "#f0f921"
             ]
            ],
            "type": "heatmap"
           }
          ],
          "histogram": [
           {
            "marker": {
             "pattern": {
              "fillmode": "overlay",
              "size": 10,
              "solidity": 0.2
             }
            },
            "type": "histogram"
           }
          ],
          "histogram2d": [
           {
            "colorbar": {
             "outlinewidth": 0,
             "ticks": ""
            },
            "colorscale": [
             [
              0,
              "#0d0887"
             ],
             [
              0.1111111111111111,
              "#46039f"
             ],
             [
              0.2222222222222222,
              "#7201a8"
             ],
             [
              0.3333333333333333,
              "#9c179e"
             ],
             [
              0.4444444444444444,
              "#bd3786"
             ],
             [
              0.5555555555555556,
              "#d8576b"
             ],
             [
              0.6666666666666666,
              "#ed7953"
             ],
             [
              0.7777777777777778,
              "#fb9f3a"
             ],
             [
              0.8888888888888888,
              "#fdca26"
             ],
             [
              1,
              "#f0f921"
             ]
            ],
            "type": "histogram2d"
           }
          ],
          "histogram2dcontour": [
           {
            "colorbar": {
             "outlinewidth": 0,
             "ticks": ""
            },
            "colorscale": [
             [
              0,
              "#0d0887"
             ],
             [
              0.1111111111111111,
              "#46039f"
             ],
             [
              0.2222222222222222,
              "#7201a8"
             ],
             [
              0.3333333333333333,
              "#9c179e"
             ],
             [
              0.4444444444444444,
              "#bd3786"
             ],
             [
              0.5555555555555556,
              "#d8576b"
             ],
             [
              0.6666666666666666,
              "#ed7953"
             ],
             [
              0.7777777777777778,
              "#fb9f3a"
             ],
             [
              0.8888888888888888,
              "#fdca26"
             ],
             [
              1,
              "#f0f921"
             ]
            ],
            "type": "histogram2dcontour"
           }
          ],
          "mesh3d": [
           {
            "colorbar": {
             "outlinewidth": 0,
             "ticks": ""
            },
            "type": "mesh3d"
           }
          ],
          "parcoords": [
           {
            "line": {
             "colorbar": {
              "outlinewidth": 0,
              "ticks": ""
             }
            },
            "type": "parcoords"
           }
          ],
          "pie": [
           {
            "automargin": true,
            "type": "pie"
           }
          ],
          "scatter": [
           {
            "fillpattern": {
             "fillmode": "overlay",
             "size": 10,
             "solidity": 0.2
            },
            "type": "scatter"
           }
          ],
          "scatter3d": [
           {
            "line": {
             "colorbar": {
              "outlinewidth": 0,
              "ticks": ""
             }
            },
            "marker": {
             "colorbar": {
              "outlinewidth": 0,
              "ticks": ""
             }
            },
            "type": "scatter3d"
           }
          ],
          "scattercarpet": [
           {
            "marker": {
             "colorbar": {
              "outlinewidth": 0,
              "ticks": ""
             }
            },
            "type": "scattercarpet"
           }
          ],
          "scattergeo": [
           {
            "marker": {
             "colorbar": {
              "outlinewidth": 0,
              "ticks": ""
             }
            },
            "type": "scattergeo"
           }
          ],
          "scattergl": [
           {
            "marker": {
             "colorbar": {
              "outlinewidth": 0,
              "ticks": ""
             }
            },
            "type": "scattergl"
           }
          ],
          "scattermap": [
           {
            "marker": {
             "colorbar": {
              "outlinewidth": 0,
              "ticks": ""
             }
            },
            "type": "scattermap"
           }
          ],
          "scattermapbox": [
           {
            "marker": {
             "colorbar": {
              "outlinewidth": 0,
              "ticks": ""
             }
            },
            "type": "scattermapbox"
           }
          ],
          "scatterpolar": [
           {
            "marker": {
             "colorbar": {
              "outlinewidth": 0,
              "ticks": ""
             }
            },
            "type": "scatterpolar"
           }
          ],
          "scatterpolargl": [
           {
            "marker": {
             "colorbar": {
              "outlinewidth": 0,
              "ticks": ""
             }
            },
            "type": "scatterpolargl"
           }
          ],
          "scatterternary": [
           {
            "marker": {
             "colorbar": {
              "outlinewidth": 0,
              "ticks": ""
             }
            },
            "type": "scatterternary"
           }
          ],
          "surface": [
           {
            "colorbar": {
             "outlinewidth": 0,
             "ticks": ""
            },
            "colorscale": [
             [
              0,
              "#0d0887"
             ],
             [
              0.1111111111111111,
              "#46039f"
             ],
             [
              0.2222222222222222,
              "#7201a8"
             ],
             [
              0.3333333333333333,
              "#9c179e"
             ],
             [
              0.4444444444444444,
              "#bd3786"
             ],
             [
              0.5555555555555556,
              "#d8576b"
             ],
             [
              0.6666666666666666,
              "#ed7953"
             ],
             [
              0.7777777777777778,
              "#fb9f3a"
             ],
             [
              0.8888888888888888,
              "#fdca26"
             ],
             [
              1,
              "#f0f921"
             ]
            ],
            "type": "surface"
           }
          ],
          "table": [
           {
            "cells": {
             "fill": {
              "color": "#EBF0F8"
             },
             "line": {
              "color": "white"
             }
            },
            "header": {
             "fill": {
              "color": "#C8D4E3"
             },
             "line": {
              "color": "white"
             }
            },
            "type": "table"
           }
          ]
         },
         "layout": {
          "annotationdefaults": {
           "arrowcolor": "#2a3f5f",
           "arrowhead": 0,
           "arrowwidth": 1
          },
          "autotypenumbers": "strict",
          "coloraxis": {
           "colorbar": {
            "outlinewidth": 0,
            "ticks": ""
           }
          },
          "colorscale": {
           "diverging": [
            [
             0,
             "#8e0152"
            ],
            [
             0.1,
             "#c51b7d"
            ],
            [
             0.2,
             "#de77ae"
            ],
            [
             0.3,
             "#f1b6da"
            ],
            [
             0.4,
             "#fde0ef"
            ],
            [
             0.5,
             "#f7f7f7"
            ],
            [
             0.6,
             "#e6f5d0"
            ],
            [
             0.7,
             "#b8e186"
            ],
            [
             0.8,
             "#7fbc41"
            ],
            [
             0.9,
             "#4d9221"
            ],
            [
             1,
             "#276419"
            ]
           ],
           "sequential": [
            [
             0,
             "#0d0887"
            ],
            [
             0.1111111111111111,
             "#46039f"
            ],
            [
             0.2222222222222222,
             "#7201a8"
            ],
            [
             0.3333333333333333,
             "#9c179e"
            ],
            [
             0.4444444444444444,
             "#bd3786"
            ],
            [
             0.5555555555555556,
             "#d8576b"
            ],
            [
             0.6666666666666666,
             "#ed7953"
            ],
            [
             0.7777777777777778,
             "#fb9f3a"
            ],
            [
             0.8888888888888888,
             "#fdca26"
            ],
            [
             1,
             "#f0f921"
            ]
           ],
           "sequentialminus": [
            [
             0,
             "#0d0887"
            ],
            [
             0.1111111111111111,
             "#46039f"
            ],
            [
             0.2222222222222222,
             "#7201a8"
            ],
            [
             0.3333333333333333,
             "#9c179e"
            ],
            [
             0.4444444444444444,
             "#bd3786"
            ],
            [
             0.5555555555555556,
             "#d8576b"
            ],
            [
             0.6666666666666666,
             "#ed7953"
            ],
            [
             0.7777777777777778,
             "#fb9f3a"
            ],
            [
             0.8888888888888888,
             "#fdca26"
            ],
            [
             1,
             "#f0f921"
            ]
           ]
          },
          "colorway": [
           "#636efa",
           "#EF553B",
           "#00cc96",
           "#ab63fa",
           "#FFA15A",
           "#19d3f3",
           "#FF6692",
           "#B6E880",
           "#FF97FF",
           "#FECB52"
          ],
          "font": {
           "color": "#2a3f5f"
          },
          "geo": {
           "bgcolor": "white",
           "lakecolor": "white",
           "landcolor": "#E5ECF6",
           "showlakes": true,
           "showland": true,
           "subunitcolor": "white"
          },
          "hoverlabel": {
           "align": "left"
          },
          "hovermode": "closest",
          "mapbox": {
           "style": "light"
          },
          "paper_bgcolor": "white",
          "plot_bgcolor": "#E5ECF6",
          "polar": {
           "angularaxis": {
            "gridcolor": "white",
            "linecolor": "white",
            "ticks": ""
           },
           "bgcolor": "#E5ECF6",
           "radialaxis": {
            "gridcolor": "white",
            "linecolor": "white",
            "ticks": ""
           }
          },
          "scene": {
           "xaxis": {
            "backgroundcolor": "#E5ECF6",
            "gridcolor": "white",
            "gridwidth": 2,
            "linecolor": "white",
            "showbackground": true,
            "ticks": "",
            "zerolinecolor": "white"
           },
           "yaxis": {
            "backgroundcolor": "#E5ECF6",
            "gridcolor": "white",
            "gridwidth": 2,
            "linecolor": "white",
            "showbackground": true,
            "ticks": "",
            "zerolinecolor": "white"
           },
           "zaxis": {
            "backgroundcolor": "#E5ECF6",
            "gridcolor": "white",
            "gridwidth": 2,
            "linecolor": "white",
            "showbackground": true,
            "ticks": "",
            "zerolinecolor": "white"
           }
          },
          "shapedefaults": {
           "line": {
            "color": "#2a3f5f"
           }
          },
          "ternary": {
           "aaxis": {
            "gridcolor": "white",
            "linecolor": "white",
            "ticks": ""
           },
           "baxis": {
            "gridcolor": "white",
            "linecolor": "white",
            "ticks": ""
           },
           "bgcolor": "#E5ECF6",
           "caxis": {
            "gridcolor": "white",
            "linecolor": "white",
            "ticks": ""
           }
          },
          "title": {
           "x": 0.05
          },
          "xaxis": {
           "automargin": true,
           "gridcolor": "white",
           "linecolor": "white",
           "ticks": "",
           "title": {
            "standoff": 15
           },
           "zerolinecolor": "white",
           "zerolinewidth": 2
          },
          "yaxis": {
           "automargin": true,
           "gridcolor": "white",
           "linecolor": "white",
           "ticks": "",
           "title": {
            "standoff": 15
           },
           "zerolinecolor": "white",
           "zerolinewidth": 2
          }
         }
        },
        "title": {
         "text": "YMAG Price (Left Axis) vs. Portfolio Value (Right Axis) - Interactive Plotly"
        },
        "xaxis": {
         "tickangle": 45,
         "tickformat": "%Y-%m",
         "title": {
          "text": "Date"
         },
         "type": "date"
        },
        "yaxis": {
         "color": "blue",
         "showgrid": false,
         "side": "left",
         "title": {
          "text": "YMAG Price ($)"
         }
        },
        "yaxis2": {
         "color": "red",
         "gridcolor": "lightgray",
         "gridwidth": 1,
         "overlaying": "y",
         "position": 1,
         "showgrid": true,
         "side": "right",
         "title": {
          "text": "Portfolio Value ($)"
         }
        }
       }
      }
     },
     "metadata": {},
     "output_type": "display_data"
    }
   ],
   "source": [
    "# ---------------------------------------------\n",
    "# STEP A: Identify Entry and Exit Days for YMAG\n",
    "# ---------------------------------------------\n",
    "ymag_df[\"Entry\"] = (ymag_df[\"In_Market\"].shift(1) == False) & (ymag_df[\"In_Market\"] == True)\n",
    "ymag_df[\"Exit\"]  = (ymag_df[\"In_Market\"].shift(1) == True) & (ymag_df[\"In_Market\"] == False)\n",
    "\n",
    "# ---------------------------------------------\n",
    "# STEP B: Prepare Data for Plotting\n",
    "# ---------------------------------------------\n",
    "entry_days = ymag_df[ymag_df[\"Entry\"] == True]\n",
    "exit_days  = ymag_df[ymag_df[\"Exit\"] == True]\n",
    "\n",
    "# Sort data by date (just to be safe)\n",
    "ymag_df.sort_values(\"Date\", inplace=True)\n",
    "ymag_df.reset_index(drop=True, inplace=True)\n",
    "\n",
    "# ---------------------------------------------\n",
    "# STEP C: Create the Plotly Figure for YMAG\n",
    "# ---------------------------------------------\n",
    "fig = go.Figure()\n",
    "\n",
    "# 1) YMAG Price (Left Axis)\n",
    "fig.add_trace(\n",
    "    go.Scatter(\n",
    "        x=ymag_df[\"Date\"],\n",
    "        y=ymag_df[\"YMAG\"],\n",
    "        mode=\"lines\",\n",
    "        line=dict(color=\"blue\", width=2),\n",
    "        name=\"YMAG Price\",\n",
    "        yaxis=\"y1\"\n",
    "    )\n",
    ")\n",
    "\n",
    "# 2) Entry Markers (triangle-up)\n",
    "fig.add_trace(\n",
    "    go.Scatter(\n",
    "        x=entry_days[\"Date\"],\n",
    "        y=entry_days[\"YMAG\"],\n",
    "        mode=\"markers\",\n",
    "        marker=dict(symbol=\"triangle-up\", color=\"blue\", size=12),\n",
    "        name=\"Entry\",\n",
    "        yaxis=\"y1\"\n",
    "    )\n",
    ")\n",
    "\n",
    "# 3) Exit Markers (triangle-down)\n",
    "fig.add_trace(\n",
    "    go.Scatter(\n",
    "        x=exit_days[\"Date\"],\n",
    "        y=exit_days[\"YMAG\"],\n",
    "        mode=\"markers\",\n",
    "        marker=dict(symbol=\"triangle-down\", color=\"red\", size=12),\n",
    "        name=\"Exit\",\n",
    "        yaxis=\"y1\"\n",
    "    )\n",
    ")\n",
    "\n",
    "# 4) Portfolio Value (Right Axis)\n",
    "fig.add_trace(\n",
    "    go.Scatter(\n",
    "        x=ymag_df[\"Date\"],\n",
    "        y=ymag_df[\"Portfolio_Value\"],\n",
    "        mode=\"lines\",\n",
    "        line=dict(color=\"red\", width=2),\n",
    "        name=\"Portfolio Value\",\n",
    "        yaxis=\"y2\"\n",
    "    )\n",
    ")\n",
    "\n",
    "# ---------------------------------------------\n",
    "# STEP D: Configure Layout for Dual Axis and Legend Position\n",
    "# ---------------------------------------------\n",
    "fig.update_layout(\n",
    "    title=\"YMAG Price (Left Axis) vs. Portfolio Value (Right Axis) - Interactive Plotly\",\n",
    "    xaxis=dict(\n",
    "        title=\"Date\",\n",
    "        type=\"date\",\n",
    "        tickformat=\"%Y-%m\",\n",
    "        tickangle=45\n",
    "    ),\n",
    "    yaxis=dict(\n",
    "        title=\"YMAG Price ($)\",\n",
    "        side=\"left\",\n",
    "        showgrid=False,\n",
    "        color=\"blue\"\n",
    "    ),\n",
    "    yaxis2=dict(\n",
    "        title=\"Portfolio Value ($)\",\n",
    "        side=\"right\",\n",
    "        overlaying=\"y\",\n",
    "        position=1.0,\n",
    "        showgrid=True,\n",
    "        gridwidth=1,\n",
    "        gridcolor=\"lightgray\",\n",
    "        color=\"red\"\n",
    "    ),\n",
    "    legend=dict(\n",
    "        x=0.5,\n",
    "        y=1.0,\n",
    "        xanchor='center',\n",
    "        yanchor='top',\n",
    "        bgcolor=\"rgba(255,255,255,0.7)\",\n",
    "        bordercolor=\"black\",\n",
    "        borderwidth=1\n",
    "    ),\n",
    "    hovermode=\"x unified\"\n",
    ")\n",
    "\n",
    "# ---------------------------------------------\n",
    "# STEP E: Show Interactive Figure\n",
    "# ---------------------------------------------\n",
    "fig.show()\n"
   ]
  },
  {
   "cell_type": "code",
   "execution_count": 16,
   "metadata": {},
   "outputs": [],
   "source": [
    "# ------------------------------------------------------------\n",
    "# 1) COMPUTE PERFORMANCE METRICS FOR YMAG\n",
    "# ------------------------------------------------------------\n",
    "\n",
    "# Compute daily returns from portfolio value for YMAG\n",
    "ymag_df[\"Portfolio_Return\"] = ymag_df[\"Portfolio_Value\"].pct_change()\n",
    "\n",
    "performance_metrics_ymag = {}\n",
    "\n",
    "# Total Return (%) for YMAG\n",
    "performance_metrics_ymag[\"Total Return (%)\"] = (ymag_df[\"Portfolio_Value\"].iloc[-1] / ymag_df[\"Portfolio_Value\"].iloc[0] - 1) * 100\n",
    "\n",
    "# CAGR (Compounded Annual Growth Rate) for YMAG\n",
    "num_days = (ymag_df[\"Date\"].iloc[-1] - ymag_df[\"Date\"].iloc[0]).days\n",
    "years = num_days / 365\n",
    "performance_metrics_ymag[\"CAGR (%)\"] = ((ymag_df[\"Portfolio_Value\"].iloc[-1] / ymag_df[\"Portfolio_Value\"].iloc[0]) ** (1 / years) - 1) * 100\n",
    "\n",
    "# Annualized Volatility (%) for YMAG\n",
    "performance_metrics_ymag[\"Annualized Volatility (%)\"] = ymag_df[\"Portfolio_Return\"].std() * np.sqrt(252) * 100\n",
    "\n",
    "# Sharpe Ratio for YMAG (assuming risk-free rate = 2%)\n",
    "risk_free_rate = 0.02\n",
    "sharpe_ratio_ymag = (performance_metrics_ymag[\"CAGR (%)\"] / 100 - risk_free_rate) / (performance_metrics_ymag[\"Annualized Volatility (%)\"] / 100)\n",
    "performance_metrics_ymag[\"Sharpe Ratio\"] = sharpe_ratio_ymag\n",
    "\n",
    "# Max Drawdown (%) Calculation for YMAG\n",
    "rolling_max_ymag = ymag_df[\"Portfolio_Value\"].cummax()\n",
    "drawdown_ymag = (ymag_df[\"Portfolio_Value\"] / rolling_max_ymag) - 1  # Decimal values\n",
    "drawdown_percentage_ymag = drawdown_ymag * 100  # Convert to percentage\n",
    "performance_metrics_ymag[\"Max Drawdown (%)\"] = drawdown_percentage_ymag.min()  # Most negative value\n",
    "\n",
    "# Calmar Ratio for YMAG (CAGR divided by absolute Max Drawdown)\n",
    "max_drawdown_abs_ymag = abs(performance_metrics_ymag[\"Max Drawdown (%)\"])\n",
    "performance_metrics_ymag[\"Calmar Ratio\"] = performance_metrics_ymag[\"CAGR (%)\"] / max_drawdown_abs_ymag if max_drawdown_abs_ymag != 0 else np.nan\n",
    "\n",
    "# Convert performance metrics to a DataFrame for display\n",
    "performance_df_ymag = pd.DataFrame(performance_metrics_ymag, index=[\"YMAG Strategy 2\"])\n"
   ]
  },
  {
   "cell_type": "code",
   "execution_count": 17,
   "metadata": {},
   "outputs": [
    {
     "data": {
      "image/png": "[encoded data removed]",
      "text/plain": [
       "<Figure size 1200x600 with 1 Axes>"
      ]
     },
     "metadata": {},
     "output_type": "display_data"
    }
   ],
   "source": [
    "# ------------------------------------------------------------\n",
    "# 2) PLOT DRAWDOWNS OVER TIME FOR YMAG\n",
    "# ------------------------------------------------------------\n",
    "sns.set_style(\"darkgrid\")\n",
    "plt.figure(figsize=(12, 6))\n",
    "\n",
    "ax = sns.lineplot(\n",
    "    x=ymag_df[\"Date\"],\n",
    "    y=drawdown_percentage_ymag,\n",
    "    color=\"red\",\n",
    "    linewidth=2,\n",
    "    label=\"Drawdown (%)\"\n",
    ")\n",
    "\n",
    "# Format X-axis to display one tick per month\n",
    "ax.xaxis.set_major_locator(mdates.MonthLocator())\n",
    "ax.xaxis.set_major_formatter(mdates.DateFormatter(\"%Y-%m\"))\n",
    "plt.xticks(rotation=45, fontsize=12)\n",
    "plt.yticks(fontsize=12)\n",
    "\n",
    "# Format Y-axis labels to show percentages with two decimal places\n",
    "ax.yaxis.set_major_formatter(mticker.FuncFormatter(lambda y, pos: f\"{y:.2f}%\"))\n",
    "\n",
    "plt.xlabel(\"Date\", fontsize=14, fontweight=\"bold\")\n",
    "plt.ylabel(\"Drawdown (%)\", fontsize=14, fontweight=\"bold\")\n",
    "plt.title(\"📉 Drawdowns of YMAG Strategy 2 Over Time\", fontsize=16, fontweight=\"bold\", color=\"darkred\")\n",
    "\n",
    "# Add thicker, colored grid lines for better visibility\n",
    "plt.grid(True, linestyle=\"--\", linewidth=1.2, color=\"gray\")\n",
    "plt.legend(fontsize=12, loc=\"upper left\", frameon=True, shadow=True)\n",
    "plt.tight_layout()\n",
    "plt.show()\n"
   ]
  },
  {
   "cell_type": "code",
   "execution_count": 18,
   "metadata": {},
   "outputs": [
    {
     "data": {
      "application/vnd.microsoft.datawrangler.viewer.v0+json": {
       "columns": [
        {
         "name": "index",
         "rawType": "object",
         "type": "string"
        },
        {
         "name": "Total Return (%)",
         "rawType": "float64",
         "type": "float"
        },
        {
         "name": "CAGR (%)",
         "rawType": "float64",
         "type": "float"
        },
        {
         "name": "Annualized Volatility (%)",
         "rawType": "float64",
         "type": "float"
        },
        {
         "name": "Sharpe Ratio",
         "rawType": "float64",
         "type": "float"
        },
        {
         "name": "Max Drawdown (%)",
         "rawType": "float64",
         "type": "float"
        },
        {
         "name": "Calmar Ratio",
         "rawType": "float64",
         "type": "float"
        }
       ],
       "conversionMethod": "pd.DataFrame",
       "ref": "66e978d7-7c05-48d1-ad1d-7dbd7d47d686",
       "rows": [
        [
         "YMAG Strategy 2",
         "23.43",
         "22.47",
         "14.03",
         "1.46",
         "-9.47",
         "2.37"
        ]
       ],
       "shape": {
        "columns": 6,
        "rows": 1
       }
      },
      "text/html": [
       "<div>\n",
       "<style scoped>\n",
       "    .dataframe tbody tr th:only-of-type {\n",
       "        vertical-align: middle;\n",
       "    }\n",
       "\n",
       "    .dataframe tbody tr th {\n",
       "        vertical-align: top;\n",
       "    }\n",
       "\n",
       "    .dataframe thead th {\n",
       "        text-align: right;\n",
       "    }\n",
       "</style>\n",
       "<table border=\"1\" class=\"dataframe\">\n",
       "  <thead>\n",
       "    <tr style=\"text-align: right;\">\n",
       "      <th></th>\n",
       "      <th>Total Return (%)</th>\n",
       "      <th>CAGR (%)</th>\n",
       "      <th>Annualized Volatility (%)</th>\n",
       "      <th>Sharpe Ratio</th>\n",
       "      <th>Max Drawdown (%)</th>\n",
       "      <th>Calmar Ratio</th>\n",
       "    </tr>\n",
       "  </thead>\n",
       "  <tbody>\n",
       "    <tr>\n",
       "      <th>YMAG Strategy 2</th>\n",
       "      <td>23.43</td>\n",
       "      <td>22.47</td>\n",
       "      <td>14.03</td>\n",
       "      <td>1.46</td>\n",
       "      <td>-9.47</td>\n",
       "      <td>2.37</td>\n",
       "    </tr>\n",
       "  </tbody>\n",
       "</table>\n",
       "</div>"
      ],
      "text/plain": [
       "                 Total Return (%)  CAGR (%)  Annualized Volatility (%)  \\\n",
       "YMAG Strategy 2             23.43     22.47                      14.03   \n",
       "\n",
       "                 Sharpe Ratio  Max Drawdown (%)  Calmar Ratio  \n",
       "YMAG Strategy 2          1.46             -9.47          2.37  "
      ]
     },
     "execution_count": 18,
     "metadata": {},
     "output_type": "execute_result"
    }
   ],
   "source": [
    "# Display the performance metrics for YMAX\n",
    "performance_df_ymag = performance_df_ymag.round(2)\n",
    "performance_df_ymag"
   ]
  },
  {
   "cell_type": "markdown",
   "metadata": {},
   "source": [
    "## Export DataFrames to Excel"
   ]
  },
  {
   "cell_type": "code",
   "execution_count": 19,
   "metadata": {},
   "outputs": [
    {
     "name": "stdout",
     "output_type": "stream",
     "text": [
      "✅ All DataFrames successfully saved to 'Strategy 3 Performance.xlsx'\n"
     ]
    }
   ],
   "source": [
    "# 1️⃣ Convert portfolio returns to 2-decimal percentage\n",
    "ymax_df[\"Portfolio_Return\"] = (ymax_df[\"Portfolio_Return\"] * 100).round(2)\n",
    "ymag_df[\"Portfolio_Return\"] = (ymag_df[\"Portfolio_Return\"] * 100).round(2)\n",
    "\n",
    "# 2️⃣ Rename the 'Portfolio_Return' column to 'Portfolio_Return (%)'\n",
    "ymax_df.rename(columns={\"Portfolio_Return\": \"Portfolio_Return (%)\"}, inplace=True)\n",
    "ymag_df.rename(columns={\"Portfolio_Return\": \"Portfolio_Return (%)\"}, inplace=True)\n",
    "\n",
    "# 3️⃣ Export the data to Excel\n",
    "output_filename = \"Strategy 3 Performance.xlsx\"\n",
    "\n",
    "with pd.ExcelWriter(output_filename, engine=\"xlsxwriter\") as writer:\n",
    "    # Sheet 1: Raw data (Prices_and_stats_df)\n",
    "    data.to_excel(writer, sheet_name=\"Prices Data\", index=False)\n",
    "    \n",
    "    # Sheet 2: YMAX trading results\n",
    "    ymax_df.to_excel(writer, sheet_name=\"Ymax Trading Results\", index=False)\n",
    "    \n",
    "    # Sheet 3: YMAG trading results\n",
    "    ymag_df.to_excel(writer, sheet_name=\"YMAG Trading Results\", index=False)\n",
    "    \n",
    "    # Sheet 4: YMAX Performance Metrics\n",
    "    performance_df_ymax.to_excel(writer, sheet_name=\"YMAX Performance\", index=True)\n",
    "\n",
    "    # Sheet 5: YMAG Performance Metrics\n",
    "    performance_df_ymag.to_excel(writer, sheet_name=\"YMAG Performance\", index=True)\n",
    "\n",
    "print(f\"✅ All DataFrames successfully saved to '{output_filename}'\")\n"
   ]
  },
  {
   "cell_type": "code",
   "execution_count": null,
   "metadata": {},
   "outputs": [],
   "source": []
  },
  {
   "cell_type": "code",
   "execution_count": null,
   "metadata": {},
   "outputs": [],
   "source": []
  }
 ],
 "metadata": {
  "kernelspec": {
   "display_name": "Python 3",
   "language": "python",
   "name": "python3"
  },
  "language_info": {
   "codemirror_mode": {
    "name": "ipython",
    "version": 3
   },
   "file_extension": ".py",
   "mimetype": "text/x-python",
   "name": "python",
   "nbconvert_exporter": "python",
   "pygments_lexer": "ipython3",
   "version": "3.13.2"
  }
 },
 "nbformat": 4,
 "nbformat_minor": 2
}
