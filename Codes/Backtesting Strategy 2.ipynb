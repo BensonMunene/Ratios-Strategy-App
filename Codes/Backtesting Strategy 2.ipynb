{
 "cells": [
  {
   "cell_type": "code",
   "execution_count": 1,
   "metadata": {},
   "outputs": [],
   "source": [
    "import pandas as pd\n",
    "import numpy as np\n",
    "import os\n",
    "import matplotlib.pyplot as plt\n",
    "import matplotlib.dates as mdates\n",
    "import matplotlib.ticker as mticker\n",
    "import yfinance as yf\n",
    "import seaborn as sns\n"
   ]
  },
  {
   "cell_type": "code",
   "execution_count": 2,
   "metadata": {},
   "outputs": [],
   "source": [
    "# Suppress all warnings\n",
    "import warnings\n",
    "warnings.simplefilter(action='ignore', category=Warning)"
   ]
  },
  {
   "cell_type": "code",
   "execution_count": 3,
   "metadata": {},
   "outputs": [],
   "source": [
    "# Set the working directory\n",
    "os.chdir(r\"D:\\Benson\\aUpWork\\Douglas Backtester Algo\\Backtester Algorithm\\Data\")"
   ]
  },
  {
   "cell_type": "code",
   "execution_count": 4,
   "metadata": {},
   "outputs": [
    {
     "name": "stdout",
     "output_type": "stream",
     "text": [
      "Display set to show all rows and columns.\n",
      "Display options reset to default.\n"
     ]
    }
   ],
   "source": [
    "# Function to view all rows and columns\n",
    "def view_all():\n",
    "    pd.set_option('display.max_rows', None)  # Show all rows\n",
    "    pd.set_option('display.max_columns', None)  # Show all columns\n",
    "    print(\"Display set to show all rows and columns.\")\n",
    "\n",
    "# Function to reset display options to default\n",
    "def reset_display():\n",
    "    pd.reset_option('display.max_rows')\n",
    "    pd.reset_option('display.max_columns')\n",
    "    print(\"Display options reset to default.\")\n",
    "\n",
    "# Example Usage\n",
    "view_all()  # Set to view all rows and columns\n",
    "reset_display()  # Reset to default display settings\n"
   ]
  },
  {
   "cell_type": "code",
   "execution_count": 5,
   "metadata": {},
   "outputs": [
    {
     "data": {
      "text/html": [
       "<div>\n",
       "<style scoped>\n",
       "    .dataframe tbody tr th:only-of-type {\n",
       "        vertical-align: middle;\n",
       "    }\n",
       "\n",
       "    .dataframe tbody tr th {\n",
       "        vertical-align: top;\n",
       "    }\n",
       "\n",
       "    .dataframe thead th {\n",
       "        text-align: right;\n",
       "    }\n",
       "</style>\n",
       "<table border=\"1\" class=\"dataframe\">\n",
       "  <thead>\n",
       "    <tr style=\"text-align: right;\">\n",
       "      <th></th>\n",
       "      <th>Date</th>\n",
       "      <th>Price</th>\n",
       "      <th>Open</th>\n",
       "      <th>High</th>\n",
       "      <th>Low</th>\n",
       "    </tr>\n",
       "  </thead>\n",
       "  <tbody>\n",
       "    <tr>\n",
       "      <th>0</th>\n",
       "      <td>2025-02-13</td>\n",
       "      <td>0.05</td>\n",
       "      <td>NaN</td>\n",
       "      <td>NaN</td>\n",
       "      <td>NaN</td>\n",
       "    </tr>\n",
       "    <tr>\n",
       "      <th>1</th>\n",
       "      <td>2025-02-13</td>\n",
       "      <td>18.19</td>\n",
       "      <td>18.05</td>\n",
       "      <td>18.20</td>\n",
       "      <td>18.00</td>\n",
       "    </tr>\n",
       "    <tr>\n",
       "      <th>2</th>\n",
       "      <td>2025-02-12</td>\n",
       "      <td>18.04</td>\n",
       "      <td>17.91</td>\n",
       "      <td>18.08</td>\n",
       "      <td>17.85</td>\n",
       "    </tr>\n",
       "    <tr>\n",
       "      <th>3</th>\n",
       "      <td>2025-02-11</td>\n",
       "      <td>18.01</td>\n",
       "      <td>18.07</td>\n",
       "      <td>18.12</td>\n",
       "      <td>17.95</td>\n",
       "    </tr>\n",
       "    <tr>\n",
       "      <th>4</th>\n",
       "      <td>2025-02-10</td>\n",
       "      <td>18.07</td>\n",
       "      <td>18.13</td>\n",
       "      <td>18.21</td>\n",
       "      <td>18.07</td>\n",
       "    </tr>\n",
       "    <tr>\n",
       "      <th>...</th>\n",
       "      <td>...</td>\n",
       "      <td>...</td>\n",
       "      <td>...</td>\n",
       "      <td>...</td>\n",
       "      <td>...</td>\n",
       "    </tr>\n",
       "    <tr>\n",
       "      <th>284</th>\n",
       "      <td>2024-02-06</td>\n",
       "      <td>20.20</td>\n",
       "      <td>20.16</td>\n",
       "      <td>20.28</td>\n",
       "      <td>20.05</td>\n",
       "    </tr>\n",
       "    <tr>\n",
       "      <th>285</th>\n",
       "      <td>2024-02-05</td>\n",
       "      <td>20.19</td>\n",
       "      <td>20.34</td>\n",
       "      <td>20.34</td>\n",
       "      <td>19.95</td>\n",
       "    </tr>\n",
       "    <tr>\n",
       "      <th>286</th>\n",
       "      <td>2024-02-02</td>\n",
       "      <td>20.30</td>\n",
       "      <td>20.18</td>\n",
       "      <td>20.32</td>\n",
       "      <td>19.99</td>\n",
       "    </tr>\n",
       "    <tr>\n",
       "      <th>287</th>\n",
       "      <td>2024-02-01</td>\n",
       "      <td>19.75</td>\n",
       "      <td>19.68</td>\n",
       "      <td>19.76</td>\n",
       "      <td>19.60</td>\n",
       "    </tr>\n",
       "    <tr>\n",
       "      <th>288</th>\n",
       "      <td>2024-01-31</td>\n",
       "      <td>19.49</td>\n",
       "      <td>19.69</td>\n",
       "      <td>19.69</td>\n",
       "      <td>19.45</td>\n",
       "    </tr>\n",
       "  </tbody>\n",
       "</table>\n",
       "<p>289 rows × 5 columns</p>\n",
       "</div>"
      ],
      "text/plain": [
       "          Date  Price   Open   High    Low\n",
       "0   2025-02-13   0.05    NaN    NaN    NaN\n",
       "1   2025-02-13  18.19  18.05  18.20  18.00\n",
       "2   2025-02-12  18.04  17.91  18.08  17.85\n",
       "3   2025-02-11  18.01  18.07  18.12  17.95\n",
       "4   2025-02-10  18.07  18.13  18.21  18.07\n",
       "..         ...    ...    ...    ...    ...\n",
       "284 2024-02-06  20.20  20.16  20.28  20.05\n",
       "285 2024-02-05  20.19  20.34  20.34  19.95\n",
       "286 2024-02-02  20.30  20.18  20.32  19.99\n",
       "287 2024-02-01  19.75  19.68  19.76  19.60\n",
       "288 2024-01-31  19.49  19.69  19.69  19.45\n",
       "\n",
       "[289 rows x 5 columns]"
      ]
     },
     "execution_count": 5,
     "metadata": {},
     "output_type": "execute_result"
    }
   ],
   "source": [
    "# Load the excel data file\n",
    "file_path = r\"YMAG ETF Price & Dividends.xlsx\"\n",
    "YMAG = pd.read_excel(file_path)\n",
    "\n",
    "# Convert 'Date' column to datetime\n",
    "YMAG[\"Date\"] = pd.to_datetime(YMAG[\"Date\"])\n",
    "\n",
    "# Drop unnecessary columns\n",
    "YMAG = YMAG.drop(columns=['Vol.', 'Change %'])\n",
    "\n",
    "# Display the first few rows\n",
    "YMAG"
   ]
  },
  {
   "cell_type": "code",
   "execution_count": 6,
   "metadata": {},
   "outputs": [
    {
     "data": {
      "text/plain": [
       "Date      0\n",
       "Price     0\n",
       "Open     28\n",
       "High     28\n",
       "Low      28\n",
       "dtype: int64"
      ]
     },
     "execution_count": 6,
     "metadata": {},
     "output_type": "execute_result"
    }
   ],
   "source": [
    "# check for missing values in YMAX\n",
    "YMAG.isnull().sum()"
   ]
  },
  {
   "cell_type": "code",
   "execution_count": 7,
   "metadata": {},
   "outputs": [
    {
     "data": {
      "text/html": [
       "<div>\n",
       "<style scoped>\n",
       "    .dataframe tbody tr th:only-of-type {\n",
       "        vertical-align: middle;\n",
       "    }\n",
       "\n",
       "    .dataframe tbody tr th {\n",
       "        vertical-align: top;\n",
       "    }\n",
       "\n",
       "    .dataframe thead th {\n",
       "        text-align: right;\n",
       "    }\n",
       "</style>\n",
       "<table border=\"1\" class=\"dataframe\">\n",
       "  <thead>\n",
       "    <tr style=\"text-align: right;\">\n",
       "      <th></th>\n",
       "      <th>Date</th>\n",
       "      <th>Price</th>\n",
       "      <th>Open</th>\n",
       "      <th>High</th>\n",
       "      <th>Low</th>\n",
       "    </tr>\n",
       "  </thead>\n",
       "  <tbody>\n",
       "    <tr>\n",
       "      <th>0</th>\n",
       "      <td>2025-02-13</td>\n",
       "      <td>0.15</td>\n",
       "      <td>NaN</td>\n",
       "      <td>NaN</td>\n",
       "      <td>NaN</td>\n",
       "    </tr>\n",
       "    <tr>\n",
       "      <th>1</th>\n",
       "      <td>2025-02-13</td>\n",
       "      <td>16.64</td>\n",
       "      <td>16.47</td>\n",
       "      <td>16.64</td>\n",
       "      <td>16.38</td>\n",
       "    </tr>\n",
       "    <tr>\n",
       "      <th>2</th>\n",
       "      <td>2025-02-12</td>\n",
       "      <td>16.60</td>\n",
       "      <td>16.39</td>\n",
       "      <td>16.62</td>\n",
       "      <td>16.33</td>\n",
       "    </tr>\n",
       "    <tr>\n",
       "      <th>3</th>\n",
       "      <td>2025-02-11</td>\n",
       "      <td>16.41</td>\n",
       "      <td>16.57</td>\n",
       "      <td>16.63</td>\n",
       "      <td>16.39</td>\n",
       "    </tr>\n",
       "    <tr>\n",
       "      <th>4</th>\n",
       "      <td>2025-02-10</td>\n",
       "      <td>16.67</td>\n",
       "      <td>16.53</td>\n",
       "      <td>16.68</td>\n",
       "      <td>16.53</td>\n",
       "    </tr>\n",
       "    <tr>\n",
       "      <th>...</th>\n",
       "      <td>...</td>\n",
       "      <td>...</td>\n",
       "      <td>...</td>\n",
       "      <td>...</td>\n",
       "      <td>...</td>\n",
       "    </tr>\n",
       "    <tr>\n",
       "      <th>294</th>\n",
       "      <td>2024-01-24</td>\n",
       "      <td>20.36</td>\n",
       "      <td>20.51</td>\n",
       "      <td>20.53</td>\n",
       "      <td>20.35</td>\n",
       "    </tr>\n",
       "    <tr>\n",
       "      <th>295</th>\n",
       "      <td>2024-01-23</td>\n",
       "      <td>20.27</td>\n",
       "      <td>20.21</td>\n",
       "      <td>20.28</td>\n",
       "      <td>20.17</td>\n",
       "    </tr>\n",
       "    <tr>\n",
       "      <th>296</th>\n",
       "      <td>2024-01-22</td>\n",
       "      <td>20.18</td>\n",
       "      <td>20.13</td>\n",
       "      <td>20.31</td>\n",
       "      <td>20.11</td>\n",
       "    </tr>\n",
       "    <tr>\n",
       "      <th>297</th>\n",
       "      <td>2024-01-19</td>\n",
       "      <td>20.12</td>\n",
       "      <td>20.03</td>\n",
       "      <td>20.12</td>\n",
       "      <td>19.88</td>\n",
       "    </tr>\n",
       "    <tr>\n",
       "      <th>298</th>\n",
       "      <td>2024-01-18</td>\n",
       "      <td>19.92</td>\n",
       "      <td>21.00</td>\n",
       "      <td>21.35</td>\n",
       "      <td>19.82</td>\n",
       "    </tr>\n",
       "  </tbody>\n",
       "</table>\n",
       "<p>299 rows × 5 columns</p>\n",
       "</div>"
      ],
      "text/plain": [
       "          Date  Price   Open   High    Low\n",
       "0   2025-02-13   0.15    NaN    NaN    NaN\n",
       "1   2025-02-13  16.64  16.47  16.64  16.38\n",
       "2   2025-02-12  16.60  16.39  16.62  16.33\n",
       "3   2025-02-11  16.41  16.57  16.63  16.39\n",
       "4   2025-02-10  16.67  16.53  16.68  16.53\n",
       "..         ...    ...    ...    ...    ...\n",
       "294 2024-01-24  20.36  20.51  20.53  20.35\n",
       "295 2024-01-23  20.27  20.21  20.28  20.17\n",
       "296 2024-01-22  20.18  20.13  20.31  20.11\n",
       "297 2024-01-19  20.12  20.03  20.12  19.88\n",
       "298 2024-01-18  19.92  21.00  21.35  19.82\n",
       "\n",
       "[299 rows x 5 columns]"
      ]
     },
     "execution_count": 7,
     "metadata": {},
     "output_type": "execute_result"
    }
   ],
   "source": [
    "# Load the Excel data file\n",
    "file_path = r\"YMAX ETF Price & Dividends.xlsx\"\n",
    "YMAX = pd.read_excel(file_path)\n",
    "\n",
    "# Convert 'Date' column to datetime\n",
    "YMAX[\"Date\"] = pd.to_datetime(YMAX[\"Date\"])\n",
    "\n",
    "# Drop unnecessary columns\n",
    "YMAX = YMAX.drop(columns=['Vol.', 'Change %'])\n",
    "\n",
    "# Display the first few rows\n",
    "YMAX"
   ]
  },
  {
   "cell_type": "code",
   "execution_count": 8,
   "metadata": {},
   "outputs": [
    {
     "data": {
      "text/plain": [
       "Date      0\n",
       "Price     0\n",
       "Open     29\n",
       "High     29\n",
       "Low      29\n",
       "dtype: int64"
      ]
     },
     "execution_count": 8,
     "metadata": {},
     "output_type": "execute_result"
    }
   ],
   "source": [
    "# Check for missing values in YMAX\n",
    "YMAX.isnull().sum()"
   ]
  },
  {
   "cell_type": "code",
   "execution_count": 9,
   "metadata": {},
   "outputs": [
    {
     "data": {
      "text/html": [
       "<div>\n",
       "<style scoped>\n",
       "    .dataframe tbody tr th:only-of-type {\n",
       "        vertical-align: middle;\n",
       "    }\n",
       "\n",
       "    .dataframe tbody tr th {\n",
       "        vertical-align: top;\n",
       "    }\n",
       "\n",
       "    .dataframe thead th {\n",
       "        text-align: right;\n",
       "    }\n",
       "</style>\n",
       "<table border=\"1\" class=\"dataframe\">\n",
       "  <thead>\n",
       "    <tr style=\"text-align: right;\">\n",
       "      <th></th>\n",
       "      <th>Date</th>\n",
       "      <th>YMAX Dividends</th>\n",
       "    </tr>\n",
       "  </thead>\n",
       "  <tbody>\n",
       "    <tr>\n",
       "      <th>0</th>\n",
       "      <td>2025-02-13</td>\n",
       "      <td>0.15</td>\n",
       "    </tr>\n",
       "    <tr>\n",
       "      <th>6</th>\n",
       "      <td>2025-02-06</td>\n",
       "      <td>0.19</td>\n",
       "    </tr>\n",
       "    <tr>\n",
       "      <th>12</th>\n",
       "      <td>2025-01-30</td>\n",
       "      <td>0.15</td>\n",
       "    </tr>\n",
       "    <tr>\n",
       "      <th>18</th>\n",
       "      <td>2025-01-23</td>\n",
       "      <td>0.17</td>\n",
       "    </tr>\n",
       "    <tr>\n",
       "      <th>23</th>\n",
       "      <td>2025-01-16</td>\n",
       "      <td>0.11</td>\n",
       "    </tr>\n",
       "    <tr>\n",
       "      <th>29</th>\n",
       "      <td>2025-01-08</td>\n",
       "      <td>0.14</td>\n",
       "    </tr>\n",
       "    <tr>\n",
       "      <th>33</th>\n",
       "      <td>2025-01-03</td>\n",
       "      <td>0.18</td>\n",
       "    </tr>\n",
       "    <tr>\n",
       "      <th>38</th>\n",
       "      <td>2024-12-27</td>\n",
       "      <td>0.25</td>\n",
       "    </tr>\n",
       "    <tr>\n",
       "      <th>44</th>\n",
       "      <td>2024-12-19</td>\n",
       "      <td>0.14</td>\n",
       "    </tr>\n",
       "    <tr>\n",
       "      <th>50</th>\n",
       "      <td>2024-12-12</td>\n",
       "      <td>0.12</td>\n",
       "    </tr>\n",
       "    <tr>\n",
       "      <th>56</th>\n",
       "      <td>2024-12-05</td>\n",
       "      <td>0.24</td>\n",
       "    </tr>\n",
       "    <tr>\n",
       "      <th>61</th>\n",
       "      <td>2024-11-29</td>\n",
       "      <td>0.31</td>\n",
       "    </tr>\n",
       "    <tr>\n",
       "      <th>67</th>\n",
       "      <td>2024-11-21</td>\n",
       "      <td>0.24</td>\n",
       "    </tr>\n",
       "    <tr>\n",
       "      <th>73</th>\n",
       "      <td>2024-11-14</td>\n",
       "      <td>0.15</td>\n",
       "    </tr>\n",
       "    <tr>\n",
       "      <th>79</th>\n",
       "      <td>2024-11-07</td>\n",
       "      <td>0.12</td>\n",
       "    </tr>\n",
       "    <tr>\n",
       "      <th>85</th>\n",
       "      <td>2024-10-31</td>\n",
       "      <td>0.23</td>\n",
       "    </tr>\n",
       "    <tr>\n",
       "      <th>91</th>\n",
       "      <td>2024-10-24</td>\n",
       "      <td>0.23</td>\n",
       "    </tr>\n",
       "    <tr>\n",
       "      <th>97</th>\n",
       "      <td>2024-10-17</td>\n",
       "      <td>0.18</td>\n",
       "    </tr>\n",
       "    <tr>\n",
       "      <th>103</th>\n",
       "      <td>2024-10-10</td>\n",
       "      <td>0.20</td>\n",
       "    </tr>\n",
       "    <tr>\n",
       "      <th>109</th>\n",
       "      <td>2024-10-03</td>\n",
       "      <td>0.21</td>\n",
       "    </tr>\n",
       "    <tr>\n",
       "      <th>115</th>\n",
       "      <td>2024-09-26</td>\n",
       "      <td>0.22</td>\n",
       "    </tr>\n",
       "    <tr>\n",
       "      <th>121</th>\n",
       "      <td>2024-09-19</td>\n",
       "      <td>0.23</td>\n",
       "    </tr>\n",
       "    <tr>\n",
       "      <th>146</th>\n",
       "      <td>2024-08-15</td>\n",
       "      <td>0.59</td>\n",
       "    </tr>\n",
       "    <tr>\n",
       "      <th>168</th>\n",
       "      <td>2024-07-17</td>\n",
       "      <td>0.65</td>\n",
       "    </tr>\n",
       "    <tr>\n",
       "      <th>190</th>\n",
       "      <td>2024-06-14</td>\n",
       "      <td>0.73</td>\n",
       "    </tr>\n",
       "    <tr>\n",
       "      <th>212</th>\n",
       "      <td>2024-05-15</td>\n",
       "      <td>0.73</td>\n",
       "    </tr>\n",
       "    <tr>\n",
       "      <th>233</th>\n",
       "      <td>2024-04-17</td>\n",
       "      <td>0.63</td>\n",
       "    </tr>\n",
       "    <tr>\n",
       "      <th>257</th>\n",
       "      <td>2024-03-14</td>\n",
       "      <td>0.57</td>\n",
       "    </tr>\n",
       "    <tr>\n",
       "      <th>277</th>\n",
       "      <td>2024-02-15</td>\n",
       "      <td>0.53</td>\n",
       "    </tr>\n",
       "  </tbody>\n",
       "</table>\n",
       "</div>"
      ],
      "text/plain": [
       "          Date  YMAX Dividends\n",
       "0   2025-02-13            0.15\n",
       "6   2025-02-06            0.19\n",
       "12  2025-01-30            0.15\n",
       "18  2025-01-23            0.17\n",
       "23  2025-01-16            0.11\n",
       "29  2025-01-08            0.14\n",
       "33  2025-01-03            0.18\n",
       "38  2024-12-27            0.25\n",
       "44  2024-12-19            0.14\n",
       "50  2024-12-12            0.12\n",
       "56  2024-12-05            0.24\n",
       "61  2024-11-29            0.31\n",
       "67  2024-11-21            0.24\n",
       "73  2024-11-14            0.15\n",
       "79  2024-11-07            0.12\n",
       "85  2024-10-31            0.23\n",
       "91  2024-10-24            0.23\n",
       "97  2024-10-17            0.18\n",
       "103 2024-10-10            0.20\n",
       "109 2024-10-03            0.21\n",
       "115 2024-09-26            0.22\n",
       "121 2024-09-19            0.23\n",
       "146 2024-08-15            0.59\n",
       "168 2024-07-17            0.65\n",
       "190 2024-06-14            0.73\n",
       "212 2024-05-15            0.73\n",
       "233 2024-04-17            0.63\n",
       "257 2024-03-14            0.57\n",
       "277 2024-02-15            0.53"
      ]
     },
     "execution_count": 9,
     "metadata": {},
     "output_type": "execute_result"
    }
   ],
   "source": [
    "#Extracting the Dividends data\n",
    "# Create a new DataFrame with only rows where 'Open' is NaN\n",
    "YMAX_Dividends = YMAX[YMAX['Open'].isna()].copy()\n",
    "\n",
    "# Drop unnecessary columns\n",
    "YMAX_Dividends = YMAX_Dividends.drop(columns=['Open', 'High', 'Low'])\n",
    "\n",
    "# Rename 'Price' column to 'Dividends'\n",
    "YMAX_Dividends = YMAX_Dividends.rename(columns={'Price': 'YMAX Dividends'})\n",
    "\n",
    "# Export the YMAX_Dividends DataFrame to a CSV file\n",
    "YMAX_Dividends.to_csv(\"YMAX_Dividends.csv\", index=False)\n",
    "\n",
    "# Display the new DataFrame\n",
    "YMAX_Dividends"
   ]
  },
  {
   "cell_type": "code",
   "execution_count": 10,
   "metadata": {},
   "outputs": [
    {
     "data": {
      "text/html": [
       "<div>\n",
       "<style scoped>\n",
       "    .dataframe tbody tr th:only-of-type {\n",
       "        vertical-align: middle;\n",
       "    }\n",
       "\n",
       "    .dataframe tbody tr th {\n",
       "        vertical-align: top;\n",
       "    }\n",
       "\n",
       "    .dataframe thead th {\n",
       "        text-align: right;\n",
       "    }\n",
       "</style>\n",
       "<table border=\"1\" class=\"dataframe\">\n",
       "  <thead>\n",
       "    <tr style=\"text-align: right;\">\n",
       "      <th></th>\n",
       "      <th>Date</th>\n",
       "      <th>YMAG Dividends</th>\n",
       "    </tr>\n",
       "  </thead>\n",
       "  <tbody>\n",
       "    <tr>\n",
       "      <th>0</th>\n",
       "      <td>2025-02-13</td>\n",
       "      <td>0.05</td>\n",
       "    </tr>\n",
       "    <tr>\n",
       "      <th>6</th>\n",
       "      <td>2025-02-06</td>\n",
       "      <td>0.19</td>\n",
       "    </tr>\n",
       "    <tr>\n",
       "      <th>12</th>\n",
       "      <td>2025-01-30</td>\n",
       "      <td>0.19</td>\n",
       "    </tr>\n",
       "    <tr>\n",
       "      <th>18</th>\n",
       "      <td>2025-01-23</td>\n",
       "      <td>0.10</td>\n",
       "    </tr>\n",
       "    <tr>\n",
       "      <th>23</th>\n",
       "      <td>2025-01-16</td>\n",
       "      <td>0.05</td>\n",
       "    </tr>\n",
       "    <tr>\n",
       "      <th>29</th>\n",
       "      <td>2025-01-08</td>\n",
       "      <td>0.16</td>\n",
       "    </tr>\n",
       "    <tr>\n",
       "      <th>33</th>\n",
       "      <td>2025-01-03</td>\n",
       "      <td>0.31</td>\n",
       "    </tr>\n",
       "    <tr>\n",
       "      <th>38</th>\n",
       "      <td>2024-12-27</td>\n",
       "      <td>0.17</td>\n",
       "    </tr>\n",
       "    <tr>\n",
       "      <th>44</th>\n",
       "      <td>2024-12-19</td>\n",
       "      <td>0.06</td>\n",
       "    </tr>\n",
       "    <tr>\n",
       "      <th>55</th>\n",
       "      <td>2024-12-05</td>\n",
       "      <td>0.28</td>\n",
       "    </tr>\n",
       "    <tr>\n",
       "      <th>60</th>\n",
       "      <td>2024-11-29</td>\n",
       "      <td>0.20</td>\n",
       "    </tr>\n",
       "    <tr>\n",
       "      <th>66</th>\n",
       "      <td>2024-11-21</td>\n",
       "      <td>0.06</td>\n",
       "    </tr>\n",
       "    <tr>\n",
       "      <th>72</th>\n",
       "      <td>2024-11-14</td>\n",
       "      <td>0.21</td>\n",
       "    </tr>\n",
       "    <tr>\n",
       "      <th>78</th>\n",
       "      <td>2024-11-07</td>\n",
       "      <td>0.21</td>\n",
       "    </tr>\n",
       "    <tr>\n",
       "      <th>84</th>\n",
       "      <td>2024-10-31</td>\n",
       "      <td>0.15</td>\n",
       "    </tr>\n",
       "    <tr>\n",
       "      <th>90</th>\n",
       "      <td>2024-10-24</td>\n",
       "      <td>0.06</td>\n",
       "    </tr>\n",
       "    <tr>\n",
       "      <th>96</th>\n",
       "      <td>2024-10-17</td>\n",
       "      <td>0.23</td>\n",
       "    </tr>\n",
       "    <tr>\n",
       "      <th>102</th>\n",
       "      <td>2024-10-10</td>\n",
       "      <td>0.28</td>\n",
       "    </tr>\n",
       "    <tr>\n",
       "      <th>108</th>\n",
       "      <td>2024-10-03</td>\n",
       "      <td>0.16</td>\n",
       "    </tr>\n",
       "    <tr>\n",
       "      <th>114</th>\n",
       "      <td>2024-09-26</td>\n",
       "      <td>0.17</td>\n",
       "    </tr>\n",
       "    <tr>\n",
       "      <th>120</th>\n",
       "      <td>2024-09-19</td>\n",
       "      <td>0.20</td>\n",
       "    </tr>\n",
       "    <tr>\n",
       "      <th>145</th>\n",
       "      <td>2024-08-15</td>\n",
       "      <td>0.58</td>\n",
       "    </tr>\n",
       "    <tr>\n",
       "      <th>167</th>\n",
       "      <td>2024-07-17</td>\n",
       "      <td>0.64</td>\n",
       "    </tr>\n",
       "    <tr>\n",
       "      <th>189</th>\n",
       "      <td>2024-06-14</td>\n",
       "      <td>0.68</td>\n",
       "    </tr>\n",
       "    <tr>\n",
       "      <th>211</th>\n",
       "      <td>2024-05-15</td>\n",
       "      <td>0.64</td>\n",
       "    </tr>\n",
       "    <tr>\n",
       "      <th>232</th>\n",
       "      <td>2024-04-17</td>\n",
       "      <td>0.62</td>\n",
       "    </tr>\n",
       "    <tr>\n",
       "      <th>256</th>\n",
       "      <td>2024-03-14</td>\n",
       "      <td>0.59</td>\n",
       "    </tr>\n",
       "    <tr>\n",
       "      <th>276</th>\n",
       "      <td>2024-02-15</td>\n",
       "      <td>0.43</td>\n",
       "    </tr>\n",
       "  </tbody>\n",
       "</table>\n",
       "</div>"
      ],
      "text/plain": [
       "          Date  YMAG Dividends\n",
       "0   2025-02-13            0.05\n",
       "6   2025-02-06            0.19\n",
       "12  2025-01-30            0.19\n",
       "18  2025-01-23            0.10\n",
       "23  2025-01-16            0.05\n",
       "29  2025-01-08            0.16\n",
       "33  2025-01-03            0.31\n",
       "38  2024-12-27            0.17\n",
       "44  2024-12-19            0.06\n",
       "55  2024-12-05            0.28\n",
       "60  2024-11-29            0.20\n",
       "66  2024-11-21            0.06\n",
       "72  2024-11-14            0.21\n",
       "78  2024-11-07            0.21\n",
       "84  2024-10-31            0.15\n",
       "90  2024-10-24            0.06\n",
       "96  2024-10-17            0.23\n",
       "102 2024-10-10            0.28\n",
       "108 2024-10-03            0.16\n",
       "114 2024-09-26            0.17\n",
       "120 2024-09-19            0.20\n",
       "145 2024-08-15            0.58\n",
       "167 2024-07-17            0.64\n",
       "189 2024-06-14            0.68\n",
       "211 2024-05-15            0.64\n",
       "232 2024-04-17            0.62\n",
       "256 2024-03-14            0.59\n",
       "276 2024-02-15            0.43"
      ]
     },
     "execution_count": 10,
     "metadata": {},
     "output_type": "execute_result"
    }
   ],
   "source": [
    "#Extracting the Dividends data\n",
    "# Create a new DataFrame with only rows where 'Open' is NaN\n",
    "YMAG_Dividends = YMAG[YMAG['Open'].isna()].copy()\n",
    "\n",
    "# Drop unnecessary columns\n",
    "YMAG_Dividends = YMAG_Dividends.drop(columns=['Open', 'High', 'Low'])\n",
    "\n",
    "# Rename 'Price' column to 'Dividends'\n",
    "YMAG_Dividends = YMAG_Dividends.rename(columns={'Price': 'YMAG Dividends'})\n",
    "\n",
    "# Export the YMAG_Dividends DataFrame to a CSV file\n",
    "YMAG_Dividends.to_csv(\"YMAG_Dividends.csv\", index=False)\n",
    "\n",
    "# Display the new DataFrame\n",
    "YMAG_Dividends"
   ]
  },
  {
   "cell_type": "code",
   "execution_count": 11,
   "metadata": {},
   "outputs": [
    {
     "name": "stdout",
     "output_type": "stream",
     "text": [
      "Date              0\n",
      "YMAG Dividends    0\n",
      "dtype: int64\n",
      "Date              0\n",
      "YMAX Dividends    0\n",
      "dtype: int64\n"
     ]
    }
   ],
   "source": [
    "#check for missing values in YMAG_Dividends\n",
    "print(YMAG_Dividends.isnull().sum())\n",
    "print(YMAX_Dividends.isnull().sum())"
   ]
  },
  {
   "cell_type": "code",
   "execution_count": 12,
   "metadata": {},
   "outputs": [],
   "source": [
    "# Drop all rows with NaN values in YMAX and YMAG, to remove the duplicate rows where dividends were\n",
    "YMAX = YMAX.dropna()\n",
    "YMAG = YMAG.dropna()"
   ]
  },
  {
   "cell_type": "code",
   "execution_count": 13,
   "metadata": {},
   "outputs": [
    {
     "data": {
      "text/html": [
       "<div>\n",
       "<style scoped>\n",
       "    .dataframe tbody tr th:only-of-type {\n",
       "        vertical-align: middle;\n",
       "    }\n",
       "\n",
       "    .dataframe tbody tr th {\n",
       "        vertical-align: top;\n",
       "    }\n",
       "\n",
       "    .dataframe thead th {\n",
       "        text-align: right;\n",
       "    }\n",
       "</style>\n",
       "<table border=\"1\" class=\"dataframe\">\n",
       "  <thead>\n",
       "    <tr style=\"text-align: right;\">\n",
       "      <th></th>\n",
       "      <th>Date</th>\n",
       "      <th>YMAX</th>\n",
       "      <th>Open</th>\n",
       "      <th>High</th>\n",
       "      <th>Low</th>\n",
       "      <th>YMAX Dividends</th>\n",
       "    </tr>\n",
       "  </thead>\n",
       "  <tbody>\n",
       "    <tr>\n",
       "      <th>0</th>\n",
       "      <td>2025-02-13</td>\n",
       "      <td>16.64</td>\n",
       "      <td>16.47</td>\n",
       "      <td>16.64</td>\n",
       "      <td>16.38</td>\n",
       "      <td>0.15</td>\n",
       "    </tr>\n",
       "    <tr>\n",
       "      <th>1</th>\n",
       "      <td>2025-02-12</td>\n",
       "      <td>16.60</td>\n",
       "      <td>16.39</td>\n",
       "      <td>16.62</td>\n",
       "      <td>16.33</td>\n",
       "      <td>0.00</td>\n",
       "    </tr>\n",
       "    <tr>\n",
       "      <th>2</th>\n",
       "      <td>2025-02-11</td>\n",
       "      <td>16.41</td>\n",
       "      <td>16.57</td>\n",
       "      <td>16.63</td>\n",
       "      <td>16.39</td>\n",
       "      <td>0.00</td>\n",
       "    </tr>\n",
       "    <tr>\n",
       "      <th>3</th>\n",
       "      <td>2025-02-10</td>\n",
       "      <td>16.67</td>\n",
       "      <td>16.53</td>\n",
       "      <td>16.68</td>\n",
       "      <td>16.53</td>\n",
       "      <td>0.00</td>\n",
       "    </tr>\n",
       "    <tr>\n",
       "      <th>4</th>\n",
       "      <td>2025-02-07</td>\n",
       "      <td>16.44</td>\n",
       "      <td>16.51</td>\n",
       "      <td>16.69</td>\n",
       "      <td>16.40</td>\n",
       "      <td>0.00</td>\n",
       "    </tr>\n",
       "  </tbody>\n",
       "</table>\n",
       "</div>"
      ],
      "text/plain": [
       "        Date   YMAX   Open   High    Low  YMAX Dividends\n",
       "0 2025-02-13  16.64  16.47  16.64  16.38            0.15\n",
       "1 2025-02-12  16.60  16.39  16.62  16.33            0.00\n",
       "2 2025-02-11  16.41  16.57  16.63  16.39            0.00\n",
       "3 2025-02-10  16.67  16.53  16.68  16.53            0.00\n",
       "4 2025-02-07  16.44  16.51  16.69  16.40            0.00"
      ]
     },
     "execution_count": 13,
     "metadata": {},
     "output_type": "execute_result"
    }
   ],
   "source": [
    "# Merge dividends with YMAX price data\n",
    "YMAX = YMAX.merge(YMAX_Dividends, on=\"Date\", how=\"left\")\n",
    "YMAX[\"YMAX Dividends\"].fillna(0, inplace=True)  # Fill missing dividends with 0\n",
    "\n",
    "# Merge dividends with YMAG price data\n",
    "YMAG = YMAG.merge(YMAG_Dividends, on=\"Date\", how=\"left\")\n",
    "YMAG[\"YMAG Dividends\"].fillna(0, inplace=True)  # Fill missing dividends with 0\n",
    "\n",
    "# Rename price in YMAX to YMAX\n",
    "YMAX = YMAX.rename(columns={'Price': 'YMAX'})\n",
    "\n",
    "# Rename price in YMAG to YMAG\n",
    "YMAG = YMAG.rename(columns={'Price': 'YMAG'})\n",
    "\n",
    "# Display merged data\n",
    "YMAX.head()\n"
   ]
  },
  {
   "cell_type": "code",
   "execution_count": 14,
   "metadata": {},
   "outputs": [
    {
     "data": {
      "text/html": [
       "<div>\n",
       "<style scoped>\n",
       "    .dataframe tbody tr th:only-of-type {\n",
       "        vertical-align: middle;\n",
       "    }\n",
       "\n",
       "    .dataframe tbody tr th {\n",
       "        vertical-align: top;\n",
       "    }\n",
       "\n",
       "    .dataframe thead th {\n",
       "        text-align: right;\n",
       "    }\n",
       "</style>\n",
       "<table border=\"1\" class=\"dataframe\">\n",
       "  <thead>\n",
       "    <tr style=\"text-align: right;\">\n",
       "      <th></th>\n",
       "      <th>Date</th>\n",
       "      <th>YMAG</th>\n",
       "      <th>Open</th>\n",
       "      <th>High</th>\n",
       "      <th>Low</th>\n",
       "      <th>YMAG Dividends</th>\n",
       "    </tr>\n",
       "  </thead>\n",
       "  <tbody>\n",
       "    <tr>\n",
       "      <th>0</th>\n",
       "      <td>2025-02-13</td>\n",
       "      <td>18.19</td>\n",
       "      <td>18.05</td>\n",
       "      <td>18.20</td>\n",
       "      <td>18.00</td>\n",
       "      <td>0.05</td>\n",
       "    </tr>\n",
       "    <tr>\n",
       "      <th>1</th>\n",
       "      <td>2025-02-12</td>\n",
       "      <td>18.04</td>\n",
       "      <td>17.91</td>\n",
       "      <td>18.08</td>\n",
       "      <td>17.85</td>\n",
       "      <td>0.00</td>\n",
       "    </tr>\n",
       "    <tr>\n",
       "      <th>2</th>\n",
       "      <td>2025-02-11</td>\n",
       "      <td>18.01</td>\n",
       "      <td>18.07</td>\n",
       "      <td>18.12</td>\n",
       "      <td>17.95</td>\n",
       "      <td>0.00</td>\n",
       "    </tr>\n",
       "    <tr>\n",
       "      <th>3</th>\n",
       "      <td>2025-02-10</td>\n",
       "      <td>18.07</td>\n",
       "      <td>18.13</td>\n",
       "      <td>18.21</td>\n",
       "      <td>18.07</td>\n",
       "      <td>0.00</td>\n",
       "    </tr>\n",
       "    <tr>\n",
       "      <th>4</th>\n",
       "      <td>2025-02-07</td>\n",
       "      <td>18.07</td>\n",
       "      <td>18.24</td>\n",
       "      <td>18.34</td>\n",
       "      <td>18.00</td>\n",
       "      <td>0.00</td>\n",
       "    </tr>\n",
       "  </tbody>\n",
       "</table>\n",
       "</div>"
      ],
      "text/plain": [
       "        Date   YMAG   Open   High    Low  YMAG Dividends\n",
       "0 2025-02-13  18.19  18.05  18.20  18.00            0.05\n",
       "1 2025-02-12  18.04  17.91  18.08  17.85            0.00\n",
       "2 2025-02-11  18.01  18.07  18.12  17.95            0.00\n",
       "3 2025-02-10  18.07  18.13  18.21  18.07            0.00\n",
       "4 2025-02-07  18.07  18.24  18.34  18.00            0.00"
      ]
     },
     "execution_count": 14,
     "metadata": {},
     "output_type": "execute_result"
    }
   ],
   "source": [
    "# Display merged data\n",
    "YMAG.head()"
   ]
  },
  {
   "cell_type": "code",
   "execution_count": 15,
   "metadata": {},
   "outputs": [
    {
     "name": "stdout",
     "output_type": "stream",
     "text": [
      "Date              0\n",
      "YMAX              0\n",
      "Open              0\n",
      "High              0\n",
      "Low               0\n",
      "YMAX Dividends    0\n",
      "dtype: int64\n",
      "Date              0\n",
      "YMAG              0\n",
      "Open              0\n",
      "High              0\n",
      "Low               0\n",
      "YMAG Dividends    0\n",
      "dtype: int64\n"
     ]
    }
   ],
   "source": [
    "# check and print sum of missing values in YMAX\n",
    "print(YMAX.isnull().sum())\n",
    "\n",
    "# check and print sum of missing values in YMAG\n",
    "print(YMAG.isnull().sum())"
   ]
  },
  {
   "cell_type": "code",
   "execution_count": 16,
   "metadata": {},
   "outputs": [
    {
     "name": "stdout",
     "output_type": "stream",
     "text": [
      "Date              0\n",
      "YMAX              0\n",
      "YMAX Dividends    0\n",
      "YMAG              9\n",
      "YMAG Dividends    9\n",
      "dtype: int64\n",
      "sum of missing values after dropping them\n",
      "Date              0\n",
      "YMAX              0\n",
      "YMAX Dividends    0\n",
      "YMAG              0\n",
      "YMAG Dividends    0\n",
      "dtype: int64\n"
     ]
    }
   ],
   "source": [
    "# Merge dividends with YMAX price data\n",
    "YMAG_YMAX_Divs_n_prices = YMAX[[\"Date\", \"YMAX\", \"YMAX Dividends\"]].merge(YMAG[[\"Date\", \"YMAG\", \"YMAG Dividends\"]],\n",
    "                                                                         on=\"Date\", how=\"left\")\n",
    "\n",
    "#check and print the sum of missing values\n",
    "print(YMAG_YMAX_Divs_n_prices.isna().sum())\n",
    "\n",
    "# Drop all rows with NaN values in YMAG_YMAX_Divs_n_prices\n",
    "YMAG_YMAX_Divs_n_prices = YMAG_YMAX_Divs_n_prices.dropna()\n",
    "print(\"sum of missing values after dropping them\")\n",
    "print(YMAG_YMAX_Divs_n_prices.isna().sum())\n"
   ]
  },
  {
   "cell_type": "code",
   "execution_count": 17,
   "metadata": {},
   "outputs": [
    {
     "data": {
      "text/html": [
       "<div>\n",
       "<style scoped>\n",
       "    .dataframe tbody tr th:only-of-type {\n",
       "        vertical-align: middle;\n",
       "    }\n",
       "\n",
       "    .dataframe tbody tr th {\n",
       "        vertical-align: top;\n",
       "    }\n",
       "\n",
       "    .dataframe thead th {\n",
       "        text-align: right;\n",
       "    }\n",
       "</style>\n",
       "<table border=\"1\" class=\"dataframe\">\n",
       "  <thead>\n",
       "    <tr style=\"text-align: right;\">\n",
       "      <th></th>\n",
       "      <th>YMAX</th>\n",
       "      <th>YMAX Dividends</th>\n",
       "      <th>YMAG</th>\n",
       "      <th>YMAG Dividends</th>\n",
       "    </tr>\n",
       "    <tr>\n",
       "      <th>Date</th>\n",
       "      <th></th>\n",
       "      <th></th>\n",
       "      <th></th>\n",
       "      <th></th>\n",
       "    </tr>\n",
       "  </thead>\n",
       "  <tbody>\n",
       "    <tr>\n",
       "      <th>2025-02-13</th>\n",
       "      <td>16.64</td>\n",
       "      <td>0.15</td>\n",
       "      <td>18.19</td>\n",
       "      <td>0.05</td>\n",
       "    </tr>\n",
       "    <tr>\n",
       "      <th>2025-02-12</th>\n",
       "      <td>16.60</td>\n",
       "      <td>0.00</td>\n",
       "      <td>18.04</td>\n",
       "      <td>0.00</td>\n",
       "    </tr>\n",
       "    <tr>\n",
       "      <th>2025-02-11</th>\n",
       "      <td>16.41</td>\n",
       "      <td>0.00</td>\n",
       "      <td>18.01</td>\n",
       "      <td>0.00</td>\n",
       "    </tr>\n",
       "    <tr>\n",
       "      <th>2025-02-10</th>\n",
       "      <td>16.67</td>\n",
       "      <td>0.00</td>\n",
       "      <td>18.07</td>\n",
       "      <td>0.00</td>\n",
       "    </tr>\n",
       "    <tr>\n",
       "      <th>2025-02-07</th>\n",
       "      <td>16.44</td>\n",
       "      <td>0.00</td>\n",
       "      <td>18.07</td>\n",
       "      <td>0.00</td>\n",
       "    </tr>\n",
       "    <tr>\n",
       "      <th>...</th>\n",
       "      <td>...</td>\n",
       "      <td>...</td>\n",
       "      <td>...</td>\n",
       "      <td>...</td>\n",
       "    </tr>\n",
       "    <tr>\n",
       "      <th>2024-02-06</th>\n",
       "      <td>20.61</td>\n",
       "      <td>0.00</td>\n",
       "      <td>20.20</td>\n",
       "      <td>0.00</td>\n",
       "    </tr>\n",
       "    <tr>\n",
       "      <th>2024-02-05</th>\n",
       "      <td>20.44</td>\n",
       "      <td>0.00</td>\n",
       "      <td>20.19</td>\n",
       "      <td>0.00</td>\n",
       "    </tr>\n",
       "    <tr>\n",
       "      <th>2024-02-02</th>\n",
       "      <td>20.70</td>\n",
       "      <td>0.00</td>\n",
       "      <td>20.30</td>\n",
       "      <td>0.00</td>\n",
       "    </tr>\n",
       "    <tr>\n",
       "      <th>2024-02-01</th>\n",
       "      <td>20.39</td>\n",
       "      <td>0.00</td>\n",
       "      <td>19.75</td>\n",
       "      <td>0.00</td>\n",
       "    </tr>\n",
       "    <tr>\n",
       "      <th>2024-01-31</th>\n",
       "      <td>20.20</td>\n",
       "      <td>0.00</td>\n",
       "      <td>19.49</td>\n",
       "      <td>0.00</td>\n",
       "    </tr>\n",
       "  </tbody>\n",
       "</table>\n",
       "<p>261 rows × 4 columns</p>\n",
       "</div>"
      ],
      "text/plain": [
       "             YMAX  YMAX Dividends   YMAG  YMAG Dividends\n",
       "Date                                                    \n",
       "2025-02-13  16.64            0.15  18.19            0.05\n",
       "2025-02-12  16.60            0.00  18.04            0.00\n",
       "2025-02-11  16.41            0.00  18.01            0.00\n",
       "2025-02-10  16.67            0.00  18.07            0.00\n",
       "2025-02-07  16.44            0.00  18.07            0.00\n",
       "...           ...             ...    ...             ...\n",
       "2024-02-06  20.61            0.00  20.20            0.00\n",
       "2024-02-05  20.44            0.00  20.19            0.00\n",
       "2024-02-02  20.70            0.00  20.30            0.00\n",
       "2024-02-01  20.39            0.00  19.75            0.00\n",
       "2024-01-31  20.20            0.00  19.49            0.00\n",
       "\n",
       "[261 rows x 4 columns]"
      ]
     },
     "execution_count": 17,
     "metadata": {},
     "output_type": "execute_result"
    }
   ],
   "source": [
    "# Convert 'Date' column to datetime format\n",
    "YMAG_YMAX_Divs_n_prices['Date'] = pd.to_datetime(YMAG_YMAX_Divs_n_prices['Date'])\n",
    "\n",
    "# Set 'Date' as the index\n",
    "YMAG_YMAX_Divs_n_prices.set_index('Date', inplace=True)\n",
    "\n",
    "YMAG_YMAX_Divs_n_prices \n"
   ]
  },
  {
   "cell_type": "code",
   "execution_count": 18,
   "metadata": {},
   "outputs": [
    {
     "name": "stdout",
     "output_type": "stream",
     "text": [
      "YF.download() has changed argument auto_adjust default to True\n"
     ]
    },
    {
     "name": "stderr",
     "output_type": "stream",
     "text": [
      "[*********************100%***********************]  1 of 1 completed\n",
      "[*********************100%***********************]  1 of 1 completed\n",
      "[*********************100%***********************]  1 of 1 completed\n"
     ]
    }
   ],
   "source": [
    "# Download the data of VIX, VVIX, and QQQ ETF\n",
    "VIX = yf.download('^VIX', start='2024-01-01', end='2025-02-14')\n",
    "VVIX = yf.download('^VVIX', start='2024-01-01', end='2025-02-14')\n",
    "QQQ = yf.download('QQQ', start='2024-01-01', end='2025-02-14')\n",
    "\n",
    "# Rename the columns\n",
    "VIX.columns = ['Close', 'High', 'Low', 'Open', 'Volume']\n",
    "VVIX.columns = ['Close', 'High', 'Low', 'Open', 'Volume']\n",
    "QQQ.columns = ['Close', 'High', 'Low', 'Open', 'Volume']\n",
    "\n",
    "# Rename \"Close\" column and drop other columns\n",
    "VIX = VIX[['Close']].rename(columns={'Close': 'VIX'})\n",
    "VVIX = VVIX[['Close']].rename(columns={'Close': 'VVIX'})\n",
    "QQQ = QQQ[['Close']].rename(columns={'Close': 'QQQ'})"
   ]
  },
  {
   "cell_type": "code",
   "execution_count": 19,
   "metadata": {},
   "outputs": [
    {
     "name": "stdout",
     "output_type": "stream",
     "text": [
      "The sum of missing values in each column:\n",
      "YMAX              0\n",
      "YMAX Dividends    0\n",
      "YMAG              0\n",
      "YMAG Dividends    0\n",
      "VIX               0\n",
      "VVIX              0\n",
      "QQQ               0\n",
      "dtype: int64\n"
     ]
    }
   ],
   "source": [
    "# Merge VIX, VVIX, and QQQ DataFrames on the Date index\n",
    "merged_vix_vvix_qqq_df = VIX \\\n",
    "    .merge(VVIX, left_index=True, right_index=True, how='outer') \\\n",
    "    .merge(QQQ, left_index=True, right_index=True, how='outer')\n",
    "\n",
    "# Merge the VIX, VVIX, and QQQ DataFrames with the YMAG_YMAX_Divs_n_prices DataFrame\n",
    "All_Assets = YMAG_YMAX_Divs_n_prices.merge(merged_vix_vvix_qqq_df, left_index=True, right_index=True, how='outer')\n",
    "\n",
    "#Drop the NaN values\n",
    "All_Assets = All_Assets.dropna()\n",
    "\n",
    "# Sort the DataFrame by 'Date' in descending order\n",
    "All_Assets = All_Assets.sort_values(by='Date', ascending=True)\n",
    "\n",
    "# Print the sum of missing values in each column\n",
    "print(\"The sum of missing values in each column:\")\n",
    "print(All_Assets.isnull().sum())"
   ]
  },
  {
   "cell_type": "code",
   "execution_count": 20,
   "metadata": {},
   "outputs": [
    {
     "name": "stdout",
     "output_type": "stream",
     "text": [
      "<class 'pandas.core.frame.DataFrame'>\n",
      "DatetimeIndex: 261 entries, 2024-01-31 to 2025-02-13\n",
      "Data columns (total 7 columns):\n",
      " #   Column          Non-Null Count  Dtype  \n",
      "---  ------          --------------  -----  \n",
      " 0   YMAX            261 non-null    float64\n",
      " 1   YMAX Dividends  261 non-null    float64\n",
      " 2   YMAG            261 non-null    float64\n",
      " 3   YMAG Dividends  261 non-null    float64\n",
      " 4   VIX             261 non-null    float64\n",
      " 5   VVIX            261 non-null    float64\n",
      " 6   QQQ             261 non-null    float64\n",
      "dtypes: float64(7)\n",
      "memory usage: 16.3 KB\n"
     ]
    }
   ],
   "source": [
    "# print rhe info of the merged DataFrame\n",
    "All_Assets.info()"
   ]
  },
  {
   "cell_type": "code",
   "execution_count": 21,
   "metadata": {},
   "outputs": [
    {
     "data": {
      "text/html": [
       "<div>\n",
       "<style scoped>\n",
       "    .dataframe tbody tr th:only-of-type {\n",
       "        vertical-align: middle;\n",
       "    }\n",
       "\n",
       "    .dataframe tbody tr th {\n",
       "        vertical-align: top;\n",
       "    }\n",
       "\n",
       "    .dataframe thead th {\n",
       "        text-align: right;\n",
       "    }\n",
       "</style>\n",
       "<table border=\"1\" class=\"dataframe\">\n",
       "  <thead>\n",
       "    <tr style=\"text-align: right;\">\n",
       "      <th></th>\n",
       "      <th>YMAX</th>\n",
       "      <th>YMAX Dividends</th>\n",
       "      <th>YMAG</th>\n",
       "      <th>YMAG Dividends</th>\n",
       "      <th>VIX</th>\n",
       "      <th>VVIX</th>\n",
       "      <th>QQQ</th>\n",
       "    </tr>\n",
       "    <tr>\n",
       "      <th>Date</th>\n",
       "      <th></th>\n",
       "      <th></th>\n",
       "      <th></th>\n",
       "      <th></th>\n",
       "      <th></th>\n",
       "      <th></th>\n",
       "      <th></th>\n",
       "    </tr>\n",
       "  </thead>\n",
       "  <tbody>\n",
       "    <tr>\n",
       "      <th>2024-01-31</th>\n",
       "      <td>20.20</td>\n",
       "      <td>0.00</td>\n",
       "      <td>19.49</td>\n",
       "      <td>0.00</td>\n",
       "      <td>14.350000</td>\n",
       "      <td>87.559998</td>\n",
       "      <td>414.506744</td>\n",
       "    </tr>\n",
       "    <tr>\n",
       "      <th>2024-02-01</th>\n",
       "      <td>20.39</td>\n",
       "      <td>0.00</td>\n",
       "      <td>19.75</td>\n",
       "      <td>0.00</td>\n",
       "      <td>13.880000</td>\n",
       "      <td>84.830002</td>\n",
       "      <td>419.387695</td>\n",
       "    </tr>\n",
       "    <tr>\n",
       "      <th>2024-02-02</th>\n",
       "      <td>20.70</td>\n",
       "      <td>0.00</td>\n",
       "      <td>20.30</td>\n",
       "      <td>0.00</td>\n",
       "      <td>13.850000</td>\n",
       "      <td>83.309998</td>\n",
       "      <td>426.475616</td>\n",
       "    </tr>\n",
       "    <tr>\n",
       "      <th>2024-02-05</th>\n",
       "      <td>20.44</td>\n",
       "      <td>0.00</td>\n",
       "      <td>20.19</td>\n",
       "      <td>0.00</td>\n",
       "      <td>13.670000</td>\n",
       "      <td>79.580002</td>\n",
       "      <td>425.918915</td>\n",
       "    </tr>\n",
       "    <tr>\n",
       "      <th>2024-02-06</th>\n",
       "      <td>20.61</td>\n",
       "      <td>0.00</td>\n",
       "      <td>20.20</td>\n",
       "      <td>0.00</td>\n",
       "      <td>13.060000</td>\n",
       "      <td>76.970001</td>\n",
       "      <td>425.063995</td>\n",
       "    </tr>\n",
       "    <tr>\n",
       "      <th>...</th>\n",
       "      <td>...</td>\n",
       "      <td>...</td>\n",
       "      <td>...</td>\n",
       "      <td>...</td>\n",
       "      <td>...</td>\n",
       "      <td>...</td>\n",
       "      <td>...</td>\n",
       "    </tr>\n",
       "    <tr>\n",
       "      <th>2025-02-07</th>\n",
       "      <td>16.44</td>\n",
       "      <td>0.00</td>\n",
       "      <td>18.07</td>\n",
       "      <td>0.00</td>\n",
       "      <td>16.540001</td>\n",
       "      <td>101.489998</td>\n",
       "      <td>522.919983</td>\n",
       "    </tr>\n",
       "    <tr>\n",
       "      <th>2025-02-10</th>\n",
       "      <td>16.67</td>\n",
       "      <td>0.00</td>\n",
       "      <td>18.07</td>\n",
       "      <td>0.00</td>\n",
       "      <td>15.810000</td>\n",
       "      <td>99.150002</td>\n",
       "      <td>529.250000</td>\n",
       "    </tr>\n",
       "    <tr>\n",
       "      <th>2025-02-11</th>\n",
       "      <td>16.41</td>\n",
       "      <td>0.00</td>\n",
       "      <td>18.01</td>\n",
       "      <td>0.00</td>\n",
       "      <td>16.020000</td>\n",
       "      <td>99.820000</td>\n",
       "      <td>527.989990</td>\n",
       "    </tr>\n",
       "    <tr>\n",
       "      <th>2025-02-12</th>\n",
       "      <td>16.60</td>\n",
       "      <td>0.00</td>\n",
       "      <td>18.04</td>\n",
       "      <td>0.00</td>\n",
       "      <td>15.890000</td>\n",
       "      <td>98.739998</td>\n",
       "      <td>528.299988</td>\n",
       "    </tr>\n",
       "    <tr>\n",
       "      <th>2025-02-13</th>\n",
       "      <td>16.64</td>\n",
       "      <td>0.15</td>\n",
       "      <td>18.19</td>\n",
       "      <td>0.05</td>\n",
       "      <td>15.100000</td>\n",
       "      <td>95.480003</td>\n",
       "      <td>535.900024</td>\n",
       "    </tr>\n",
       "  </tbody>\n",
       "</table>\n",
       "<p>261 rows × 7 columns</p>\n",
       "</div>"
      ],
      "text/plain": [
       "             YMAX  YMAX Dividends   YMAG  YMAG Dividends        VIX  \\\n",
       "Date                                                                  \n",
       "2024-01-31  20.20            0.00  19.49            0.00  14.350000   \n",
       "2024-02-01  20.39            0.00  19.75            0.00  13.880000   \n",
       "2024-02-02  20.70            0.00  20.30            0.00  13.850000   \n",
       "2024-02-05  20.44            0.00  20.19            0.00  13.670000   \n",
       "2024-02-06  20.61            0.00  20.20            0.00  13.060000   \n",
       "...           ...             ...    ...             ...        ...   \n",
       "2025-02-07  16.44            0.00  18.07            0.00  16.540001   \n",
       "2025-02-10  16.67            0.00  18.07            0.00  15.810000   \n",
       "2025-02-11  16.41            0.00  18.01            0.00  16.020000   \n",
       "2025-02-12  16.60            0.00  18.04            0.00  15.890000   \n",
       "2025-02-13  16.64            0.15  18.19            0.05  15.100000   \n",
       "\n",
       "                  VVIX         QQQ  \n",
       "Date                                \n",
       "2024-01-31   87.559998  414.506744  \n",
       "2024-02-01   84.830002  419.387695  \n",
       "2024-02-02   83.309998  426.475616  \n",
       "2024-02-05   79.580002  425.918915  \n",
       "2024-02-06   76.970001  425.063995  \n",
       "...                ...         ...  \n",
       "2025-02-07  101.489998  522.919983  \n",
       "2025-02-10   99.150002  529.250000  \n",
       "2025-02-11   99.820000  527.989990  \n",
       "2025-02-12   98.739998  528.299988  \n",
       "2025-02-13   95.480003  535.900024  \n",
       "\n",
       "[261 rows x 7 columns]"
      ]
     },
     "execution_count": 21,
     "metadata": {},
     "output_type": "execute_result"
    }
   ],
   "source": [
    "# Display the first few rows of the merged DataFrame\n",
    "All_Assets"
   ]
  },
  {
   "cell_type": "code",
   "execution_count": 22,
   "metadata": {},
   "outputs": [
    {
     "data": {
      "text/html": [
       "<div>\n",
       "<style scoped>\n",
       "    .dataframe tbody tr th:only-of-type {\n",
       "        vertical-align: middle;\n",
       "    }\n",
       "\n",
       "    .dataframe tbody tr th {\n",
       "        vertical-align: top;\n",
       "    }\n",
       "\n",
       "    .dataframe thead th {\n",
       "        text-align: right;\n",
       "    }\n",
       "</style>\n",
       "<table border=\"1\" class=\"dataframe\">\n",
       "  <thead>\n",
       "    <tr style=\"text-align: right;\">\n",
       "      <th></th>\n",
       "      <th>Date</th>\n",
       "      <th>YMAX</th>\n",
       "      <th>YMAX Dividends</th>\n",
       "      <th>YMAG</th>\n",
       "      <th>YMAG Dividends</th>\n",
       "      <th>VIX</th>\n",
       "      <th>VVIX</th>\n",
       "      <th>QQQ</th>\n",
       "      <th>YMAX-VIX Correlation</th>\n",
       "      <th>YMAX-VVIX Correlation</th>\n",
       "      <th>YMAG-VIX Correlation</th>\n",
       "      <th>YMAG-VVIX Correlation</th>\n",
       "    </tr>\n",
       "  </thead>\n",
       "  <tbody>\n",
       "    <tr>\n",
       "      <th>0</th>\n",
       "      <td>2024-03-01</td>\n",
       "      <td>21.67</td>\n",
       "      <td>0.00</td>\n",
       "      <td>21.00</td>\n",
       "      <td>0.00</td>\n",
       "      <td>13.110000</td>\n",
       "      <td>77.680000</td>\n",
       "      <td>442.977509</td>\n",
       "      <td>-0.626499</td>\n",
       "      <td>-0.549622</td>\n",
       "      <td>-0.508677</td>\n",
       "      <td>-0.456559</td>\n",
       "    </tr>\n",
       "    <tr>\n",
       "      <th>1</th>\n",
       "      <td>2024-03-04</td>\n",
       "      <td>21.60</td>\n",
       "      <td>0.00</td>\n",
       "      <td>20.74</td>\n",
       "      <td>0.00</td>\n",
       "      <td>13.490000</td>\n",
       "      <td>79.410004</td>\n",
       "      <td>441.396912</td>\n",
       "      <td>-0.626533</td>\n",
       "      <td>-0.549422</td>\n",
       "      <td>-0.510632</td>\n",
       "      <td>-0.458702</td>\n",
       "    </tr>\n",
       "    <tr>\n",
       "      <th>2</th>\n",
       "      <td>2024-03-05</td>\n",
       "      <td>21.17</td>\n",
       "      <td>0.00</td>\n",
       "      <td>20.41</td>\n",
       "      <td>0.00</td>\n",
       "      <td>14.460000</td>\n",
       "      <td>83.910004</td>\n",
       "      <td>433.473999</td>\n",
       "      <td>-0.675417</td>\n",
       "      <td>-0.589907</td>\n",
       "      <td>-0.593275</td>\n",
       "      <td>-0.510036</td>\n",
       "    </tr>\n",
       "    <tr>\n",
       "      <th>3</th>\n",
       "      <td>2024-03-06</td>\n",
       "      <td>21.38</td>\n",
       "      <td>0.00</td>\n",
       "      <td>20.37</td>\n",
       "      <td>0.00</td>\n",
       "      <td>14.500000</td>\n",
       "      <td>83.110001</td>\n",
       "      <td>436.197845</td>\n",
       "      <td>-0.706867</td>\n",
       "      <td>-0.681932</td>\n",
       "      <td>-0.603820</td>\n",
       "      <td>-0.546858</td>\n",
       "    </tr>\n",
       "    <tr>\n",
       "      <th>4</th>\n",
       "      <td>2024-03-07</td>\n",
       "      <td>21.65</td>\n",
       "      <td>0.00</td>\n",
       "      <td>20.65</td>\n",
       "      <td>0.00</td>\n",
       "      <td>14.440000</td>\n",
       "      <td>82.129997</td>\n",
       "      <td>442.818481</td>\n",
       "      <td>-0.700723</td>\n",
       "      <td>-0.679942</td>\n",
       "      <td>-0.611949</td>\n",
       "      <td>-0.559811</td>\n",
       "    </tr>\n",
       "    <tr>\n",
       "      <th>...</th>\n",
       "      <td>...</td>\n",
       "      <td>...</td>\n",
       "      <td>...</td>\n",
       "      <td>...</td>\n",
       "      <td>...</td>\n",
       "      <td>...</td>\n",
       "      <td>...</td>\n",
       "      <td>...</td>\n",
       "      <td>...</td>\n",
       "      <td>...</td>\n",
       "      <td>...</td>\n",
       "      <td>...</td>\n",
       "    </tr>\n",
       "    <tr>\n",
       "      <th>235</th>\n",
       "      <td>2025-02-07</td>\n",
       "      <td>16.44</td>\n",
       "      <td>0.00</td>\n",
       "      <td>18.07</td>\n",
       "      <td>0.00</td>\n",
       "      <td>16.540001</td>\n",
       "      <td>101.489998</td>\n",
       "      <td>522.919983</td>\n",
       "      <td>-0.720658</td>\n",
       "      <td>-0.588653</td>\n",
       "      <td>-0.744953</td>\n",
       "      <td>-0.612972</td>\n",
       "    </tr>\n",
       "    <tr>\n",
       "      <th>236</th>\n",
       "      <td>2025-02-10</td>\n",
       "      <td>16.67</td>\n",
       "      <td>0.00</td>\n",
       "      <td>18.07</td>\n",
       "      <td>0.00</td>\n",
       "      <td>15.810000</td>\n",
       "      <td>99.150002</td>\n",
       "      <td>529.250000</td>\n",
       "      <td>-0.776437</td>\n",
       "      <td>-0.666927</td>\n",
       "      <td>-0.760448</td>\n",
       "      <td>-0.645467</td>\n",
       "    </tr>\n",
       "    <tr>\n",
       "      <th>237</th>\n",
       "      <td>2025-02-11</td>\n",
       "      <td>16.41</td>\n",
       "      <td>0.00</td>\n",
       "      <td>18.01</td>\n",
       "      <td>0.00</td>\n",
       "      <td>16.020000</td>\n",
       "      <td>99.820000</td>\n",
       "      <td>527.989990</td>\n",
       "      <td>-0.749829</td>\n",
       "      <td>-0.646186</td>\n",
       "      <td>-0.772829</td>\n",
       "      <td>-0.689207</td>\n",
       "    </tr>\n",
       "    <tr>\n",
       "      <th>238</th>\n",
       "      <td>2025-02-12</td>\n",
       "      <td>16.60</td>\n",
       "      <td>0.00</td>\n",
       "      <td>18.04</td>\n",
       "      <td>0.00</td>\n",
       "      <td>15.890000</td>\n",
       "      <td>98.739998</td>\n",
       "      <td>528.299988</td>\n",
       "      <td>-0.779082</td>\n",
       "      <td>-0.724501</td>\n",
       "      <td>-0.777147</td>\n",
       "      <td>-0.713569</td>\n",
       "    </tr>\n",
       "    <tr>\n",
       "      <th>239</th>\n",
       "      <td>2025-02-13</td>\n",
       "      <td>16.64</td>\n",
       "      <td>0.15</td>\n",
       "      <td>18.19</td>\n",
       "      <td>0.05</td>\n",
       "      <td>15.100000</td>\n",
       "      <td>95.480003</td>\n",
       "      <td>535.900024</td>\n",
       "      <td>-0.775152</td>\n",
       "      <td>-0.720788</td>\n",
       "      <td>-0.796683</td>\n",
       "      <td>-0.745236</td>\n",
       "    </tr>\n",
       "  </tbody>\n",
       "</table>\n",
       "<p>240 rows × 12 columns</p>\n",
       "</div>"
      ],
      "text/plain": [
       "          Date   YMAX  YMAX Dividends   YMAG  YMAG Dividends        VIX  \\\n",
       "0   2024-03-01  21.67            0.00  21.00            0.00  13.110000   \n",
       "1   2024-03-04  21.60            0.00  20.74            0.00  13.490000   \n",
       "2   2024-03-05  21.17            0.00  20.41            0.00  14.460000   \n",
       "3   2024-03-06  21.38            0.00  20.37            0.00  14.500000   \n",
       "4   2024-03-07  21.65            0.00  20.65            0.00  14.440000   \n",
       "..         ...    ...             ...    ...             ...        ...   \n",
       "235 2025-02-07  16.44            0.00  18.07            0.00  16.540001   \n",
       "236 2025-02-10  16.67            0.00  18.07            0.00  15.810000   \n",
       "237 2025-02-11  16.41            0.00  18.01            0.00  16.020000   \n",
       "238 2025-02-12  16.60            0.00  18.04            0.00  15.890000   \n",
       "239 2025-02-13  16.64            0.15  18.19            0.05  15.100000   \n",
       "\n",
       "           VVIX         QQQ  YMAX-VIX Correlation  YMAX-VVIX Correlation  \\\n",
       "0     77.680000  442.977509             -0.626499              -0.549622   \n",
       "1     79.410004  441.396912             -0.626533              -0.549422   \n",
       "2     83.910004  433.473999             -0.675417              -0.589907   \n",
       "3     83.110001  436.197845             -0.706867              -0.681932   \n",
       "4     82.129997  442.818481             -0.700723              -0.679942   \n",
       "..          ...         ...                   ...                    ...   \n",
       "235  101.489998  522.919983             -0.720658              -0.588653   \n",
       "236   99.150002  529.250000             -0.776437              -0.666927   \n",
       "237   99.820000  527.989990             -0.749829              -0.646186   \n",
       "238   98.739998  528.299988             -0.779082              -0.724501   \n",
       "239   95.480003  535.900024             -0.775152              -0.720788   \n",
       "\n",
       "     YMAG-VIX Correlation  YMAG-VVIX Correlation  \n",
       "0               -0.508677              -0.456559  \n",
       "1               -0.510632              -0.458702  \n",
       "2               -0.593275              -0.510036  \n",
       "3               -0.603820              -0.546858  \n",
       "4               -0.611949              -0.559811  \n",
       "..                    ...                    ...  \n",
       "235             -0.744953              -0.612972  \n",
       "236             -0.760448              -0.645467  \n",
       "237             -0.772829              -0.689207  \n",
       "238             -0.777147              -0.713569  \n",
       "239             -0.796683              -0.745236  \n",
       "\n",
       "[240 rows x 12 columns]"
      ]
     },
     "execution_count": 22,
     "metadata": {},
     "output_type": "execute_result"
    }
   ],
   "source": [
    "# Define rolling window size (e.g., 21 days)\n",
    "window_size = 21\n",
    "\n",
    "# Compute daily returns for each asset in All_Assets, excluding dividends columns\n",
    "returns = All_Assets.loc[:, ~All_Assets.columns.str.contains('Dividends')].pct_change().dropna()\n",
    "\n",
    "# Initialize stats_df with rolling volatilities\n",
    "Prices_and_stats_df = pd.DataFrame(index=returns.index)\n",
    "\n",
    "# Compute rolling correlations\n",
    "Prices_and_stats_df[\"YMAX-VIX Correlation\"] = returns[\"YMAX\"].rolling(window=window_size).corr(returns[\"VIX\"])\n",
    "Prices_and_stats_df[\"YMAX-VVIX Correlation\"] = returns[\"YMAX\"].rolling(window=window_size).corr(returns[\"VVIX\"])\n",
    "Prices_and_stats_df[\"YMAG-VIX Correlation\"] = returns[\"YMAG\"].rolling(window=window_size).corr(returns[\"VIX\"])\n",
    "Prices_and_stats_df[\"YMAG-VVIX Correlation\"] = returns[\"YMAG\"].rolling(window=window_size).corr(returns[\"VVIX\"])\n",
    "\n",
    "#Merge the prices and stats data\n",
    "Prices_and_stats_df = All_Assets.merge(Prices_and_stats_df, left_index=True, right_index=True)\n",
    "\n",
    "# Drop NaN values resulting from rolling calculations\n",
    "Prices_and_stats_df = Prices_and_stats_df.dropna()\n",
    "\n",
    "# Rest the prices and stats data index\n",
    "Prices_and_stats_df.reset_index(inplace=True)\n",
    "\n",
    "# Display the first and last few rows of Prices_and_stats_df\n",
    "Prices_and_stats_df"
   ]
  },
  {
   "cell_type": "code",
   "execution_count": 23,
   "metadata": {},
   "outputs": [
    {
     "name": "stdout",
     "output_type": "stream",
     "text": [
      "✅ Performance DataFrames successfully saved to 'Prices_and_stats_df.xlsx'\n"
     ]
    }
   ],
   "source": [
    "# Export the data to excel\n",
    "# Create a Pandas Excel writer using XlsxWriter as the engine\n",
    "with pd.ExcelWriter('Strategy 2 Prices and Statistics.xlsx', engine='xlsxwriter') as writer:\n",
    "    # Write Prices_and_stats_df to the first sheet\n",
    "    Prices_and_stats_df.to_excel(writer, sheet_name='Prices and Correlations', index=False)\n",
    "    \n",
    "print(f\"✅ Performance DataFrames successfully saved to 'Prices_and_stats_df.xlsx'\")"
   ]
  },
  {
   "cell_type": "markdown",
   "metadata": {},
   "source": [
    "## BACKTESTING THE INVESTMENT RULES\n",
    "\n",
    "### **📌 Investment Rules for Strategy 2**\n",
    "\n",
    "1. **Invest Only If:**\n",
    "   - **VIX is between 15 and 20** (inclusive), **AND**\n",
    "   - **VVIX is between 90 and 100** (i.e., VVIX is below 100 but not less than 90).\n",
    "\n",
    "   > **Interpretation**: Go long on YMAX/YMAG (without a hedge) **only** when both conditions are met.\n",
    "\n",
    "2. **Exit the Market If:**\n",
    "   - **VIX drops below 15** or **rises above 20**, **OR**\n",
    "   - **VVIX goes above or equal to 100, or falls below 90**.\n",
    "\n",
    "   > **Interpretation**: If either VIX or VVIX is outside the desired range, close all positions and remain in cash.\n",
    "\n",
    "3. **Re-Enter the Market When:**\n",
    "   - **VIX is again within 15–20**, **AND**\n",
    "   - **VVIX has stabilized in a tighter range – specifically, between 90 and 95 (inclusive).**\n",
    "\n",
    "   > **Interpretation**: Re-enter only when both VIX is back in the 15–20 range and VVIX has come back to a “safe zone” (90–95).\n",
    "\n",
    "---\n",
    "\n",
    "### **🚀 Summary of Logic**\n",
    "\n",
    "1. **In-Market Condition**:  \n",
    "   $15 \\leq \\text{VIX} \\leq 20$ **AND** $90 \\leq \\text{VVIX} < 100$.\n",
    "\n",
    "2. **Exit Condition**:  \n",
    "   $\\text{VIX} < 15$ **OR** $\\text{VIX} > 20$ **OR** $\\text{VVIX} < 90$ **OR** $\\text{VVIX} \\geq 100$.\n",
    "\n",
    "3. **Re-Entry Condition**:  \n",
    "   $\\text{VIX}$ returns to $[15,20]$ **AND** $\\text{VVIX}$ is in the range $[90,95]$.\n"
   ]
  },
  {
   "cell_type": "markdown",
   "metadata": {},
   "source": [
    "#### YMAX BACKTEST:"
   ]
  },
  {
   "cell_type": "code",
   "execution_count": 24,
   "metadata": {},
   "outputs": [
    {
     "data": {
      "image/png": "[encoded data removed]",
      "text/plain": [
       "<Figure size 1200x600 with 1 Axes>"
      ]
     },
     "metadata": {},
     "output_type": "display_data"
    },
    {
     "data": {
      "image/png": "[encoded data removed]",
      "text/plain": [
       "<Figure size 1200x400 with 1 Axes>"
      ]
     },
     "metadata": {},
     "output_type": "display_data"
    }
   ],
   "source": [
    "# ------------------------------------------------------------\n",
    "# 1) PREPARE THE DATA\n",
    "# ------------------------------------------------------------\n",
    "# DataFrame \"Prices_and_stats_df\" with Columns: [\"Date\", \"YMAX\", \"YMAX Dividends\", \"VIX\", \"VVIX\", ...]\n",
    "# We copy it for this strategy's backtest on YMAX.\n",
    "ymax_df = Prices_and_stats_df.copy()\n",
    "\n",
    "# Define initial portfolio value\n",
    "initial_investment = 10000.0  # $10,000 starting capital\n",
    "\n",
    "# Sort by date to ensure chronological order\n",
    "ymax_df.sort_values(\"Date\", inplace=True)\n",
    "ymax_df.reset_index(drop=True, inplace=True)\n",
    "\n",
    "# ------------------------------------------------------------\n",
    "# 2) DEFINE HELPER FUNCTIONS FOR CONDITIONS\n",
    "# ------------------------------------------------------------\n",
    "# function to check if it is time to enter the market or not\n",
    "def in_market_condition(vix, vvix):\n",
    "    \"\"\"\n",
    "    Condition for staying in the market once we're already invested:\n",
    "    15 <= VIX <= 20, 90 <= VVIX < 100\n",
    "    \"\"\"\n",
    "    return (15 <= vix <= 20) and (90 <= vvix < 100)\n",
    "\n",
    "#function to check if it is time to re-enter the market or not\n",
    "def reentry_condition(vix, vvix):\n",
    "    \"\"\"\n",
    "    Stricter condition for re-entering the market after an exit:\n",
    "    15 <= VIX <= 20, 90 <= VVIX <= 95\n",
    "    \"\"\"\n",
    "    return (15 <= vix <= 20) and (90 <= vvix <= 95)\n",
    "\n",
    "# function to check the exit condition if it is time to exit the market or not to exit\n",
    "def exit_condition(vix, vvix):\n",
    "    \"\"\"\n",
    "    If VIX < 15 or VIX > 20, or VVIX < 90 or VVIX >= 100 -> EXIT\n",
    "    \"\"\"\n",
    "    return (vix < 15) or (vix > 20) or (vvix < 90) or (vvix >= 100)\n",
    "\n",
    "# ------------------------------------------------------------\n",
    "# 3) SET UP BACKTEST COLUMNS AND INITIAL VALUES\n",
    "# ------------------------------------------------------------\n",
    "ymax_df[\"Portfolio_Value\"] = np.nan\n",
    "ymax_df.loc[0, \"Portfolio_Value\"] = initial_investment\n",
    "\n",
    "# Boolean: are we currently invested?\n",
    "ymax_df[\"In_Market\"] = False\n",
    "ymax_df.loc[0, \"In_Market\"] = False\n",
    "\n",
    "# Track how many shares of YMAX we hold\n",
    "ymax_df[\"Shares_Held\"] = 0.0\n",
    "ymax_df.loc[0, \"Shares_Held\"] = 0.0\n",
    "\n",
    "# Strategy label for each day\n",
    "ymax_df[\"Strategy\"] = \"No Investment\"\n",
    "\n",
    "# ------------------------------------------------------------\n",
    "# 4) BACKTEST LOOP\n",
    "# ------------------------------------------------------------\n",
    "for i in range(1, len(ymax_df)):\n",
    "    # Copy forward previous day's portfolio value, in_market status, and shares\n",
    "    ymax_df.loc[i, \"Portfolio_Value\"] = ymax_df.loc[i-1, \"Portfolio_Value\"]\n",
    "    ymax_df.loc[i, \"In_Market\"] = ymax_df.loc[i-1, \"In_Market\"]\n",
    "    ymax_df.loc[i, \"Shares_Held\"] = ymax_df.loc[i-1, \"Shares_Held\"]\n",
    "\n",
    "    # Current day data\n",
    "    vix_today = ymax_df.loc[i, \"VIX\"]\n",
    "    vvix_today = ymax_df.loc[i, \"VVIX\"]\n",
    "    ymax_price_today = ymax_df.loc[i, \"YMAX\"]\n",
    "    ymax_div_today = ymax_df.loc[i, \"YMAX Dividends\"]\n",
    "\n",
    "    # Are we in the market at the start of today?\n",
    "    currently_in_market = ymax_df.loc[i-1, \"In_Market\"]\n",
    "\n",
    "    if currently_in_market:\n",
    "        # Check if we remain in the market or exit\n",
    "        if exit_condition(vix_today, vvix_today):\n",
    "            # EXIT: close position -> shares = 0, remain in cash\n",
    "            ymax_df.loc[i, \"In_Market\"] = False\n",
    "            ymax_df.loc[i, \"Shares_Held\"] = 0.0\n",
    "            ymax_df.loc[i, \"Strategy\"] = \"No Investment\"\n",
    "            # Portfolio_Value stays the same as yesterday's (carried forward)\n",
    "        else:\n",
    "            # REMAIN IN MARKET: update portfolio value based on today's price + dividend\n",
    "            shares_held = ymax_df.loc[i, \"Shares_Held\"]\n",
    "            new_portfolio_value = shares_held * (ymax_price_today + ymax_div_today)\n",
    "            ymax_df.loc[i, \"Portfolio_Value\"] = new_portfolio_value\n",
    "            ymax_df.loc[i, \"Strategy\"] = \"Long YMAX\"\n",
    "    else:\n",
    "        # currently out of market, check re-entry condition\n",
    "        if reentry_condition(vix_today, vvix_today):\n",
    "            # ENTER: buy shares with all capital\n",
    "            cash_available = ymax_df.loc[i, \"Portfolio_Value\"]\n",
    "            if ymax_price_today > 0:\n",
    "                shares_bought = cash_available / ymax_price_today\n",
    "                ymax_df.loc[i, \"Shares_Held\"] = shares_bought\n",
    "                ymax_df.loc[i, \"In_Market\"] = True\n",
    "                ymax_df.loc[i, \"Strategy\"] = \"Long YMAX\"\n",
    "                # Immediately compute today's new portfolio value\n",
    "                new_portfolio_value = shares_bought * (ymax_price_today + ymax_div_today)\n",
    "                ymax_df.loc[i, \"Portfolio_Value\"] = new_portfolio_value\n",
    "            else:\n",
    "                # If price is 0 or invalid, skip\n",
    "                ymax_df.loc[i, \"Strategy\"] = \"No Investment\"\n",
    "        else:\n",
    "            # Stay in cash\n",
    "            ymax_df.loc[i, \"Strategy\"] = \"No Investment\"\n",
    "\n",
    "# ------------------------------------------------------------\n",
    "# 5) COMPUTE DAILY RETURNS\n",
    "# ------------------------------------------------------------\n",
    "ymax_df[\"Portfolio_Return\"] = ymax_df[\"Portfolio_Value\"].pct_change()\n",
    "\n",
    "# ------------------------------------------------------------\n",
    "# 6) VISUALIZE RESULTS\n",
    "# ------------------------------------------------------------\n",
    "sns.set_style(\"whitegrid\")\n",
    "\n",
    "# (A) Portfolio Performance Plot\n",
    "plt.figure(figsize=(12, 6))\n",
    "ax = sns.lineplot(\n",
    "    x=ymax_df[\"Date\"],\n",
    "    y=ymax_df[\"Portfolio_Value\"],\n",
    "    color=\"blue\",\n",
    "    linewidth=2.5,\n",
    "    label=\"Portfolio Value (YMAX)\"\n",
    ")\n",
    "\n",
    "ax.xaxis.set_major_locator(mdates.MonthLocator())\n",
    "ax.xaxis.set_major_formatter(mdates.DateFormatter(\"%Y-%m\"))\n",
    "\n",
    "plt.xlabel(\"Date\", fontsize=14, fontweight=\"bold\")\n",
    "plt.ylabel(\"Portfolio Value ($)\", fontsize=14, fontweight=\"bold\")\n",
    "plt.title(\"📈 Portfolio Performance for YMAX (Strategy 2)\", fontsize=16, fontweight=\"bold\", color=\"darkblue\")\n",
    "plt.xticks(rotation=45, fontsize=12)\n",
    "plt.yticks(fontsize=12)\n",
    "plt.grid(True, linestyle=\"--\", linewidth=1.2, color=\"gray\")\n",
    "plt.legend(fontsize=12, loc=\"upper left\", frameon=True, shadow=True, edgecolor=\"black\")\n",
    "plt.show()\n",
    "\n",
    "# (B) Strategy Usage Over Time\n",
    "plt.figure(figsize=(12, 4))\n",
    "ax = sns.barplot(\n",
    "    x=ymax_df[\"Strategy\"].value_counts().index,\n",
    "    y=ymax_df[\"Strategy\"].value_counts().values,\n",
    "    palette=[\"royalblue\", \"red\", \"green\"]\n",
    ")\n",
    "plt.xlabel(\"Strategy\", fontsize=14, fontweight=\"bold\")\n",
    "plt.ylabel(\"Number of Days\", fontsize=14, fontweight=\"bold\")\n",
    "plt.title(\"📊 Strategy 2 Distribution Over Time (YMAX)\", fontsize=16, fontweight=\"bold\", color=\"navy\")\n",
    "plt.xticks(rotation=45, fontsize=12)\n",
    "plt.grid(axis=\"y\", linestyle=\"--\", linewidth=1.2, color=\"gray\")\n",
    "plt.show()\n"
   ]
  },
  {
   "cell_type": "code",
   "execution_count": 25,
   "metadata": {},
   "outputs": [
    {
     "data": {
      "image/png": "[encoded data removed]",
      "text/plain": [
       "<Figure size 1200x600 with 2 Axes>"
      ]
     },
     "metadata": {},
     "output_type": "display_data"
    }
   ],
   "source": [
    "# ---------------------------------------------\n",
    "# STEP A: Identify Entry and Exit Days\n",
    "# ---------------------------------------------\n",
    "# Entry Day = Yesterday was out of market, today is in market\n",
    "ymax_df[\"Entry\"] = (ymax_df[\"In_Market\"].shift(1) == False) & (ymax_df[\"In_Market\"] == True)\n",
    "\n",
    "# Exit Day = Yesterday was in market, today is out of market\n",
    "ymax_df[\"Exit\"] = (ymax_df[\"In_Market\"].shift(1) == True) & (ymax_df[\"In_Market\"] == False)\n",
    "\n",
    "# ---------------------------------------------\n",
    "# STEP B: Prepare Data for Plotting\n",
    "# ---------------------------------------------\n",
    "entry_days = ymax_df[ymax_df[\"Entry\"] == True]\n",
    "exit_days  = ymax_df[ymax_df[\"Exit\"] == True]\n",
    "\n",
    "# Sort data by date (just to be safe)\n",
    "ymax_df.sort_values(\"Date\", inplace=True)\n",
    "ymax_df.reset_index(drop=True, inplace=True)\n",
    "\n",
    "# ---------------------------------------------\n",
    "# STEP C: Create the Dual-Axis Plot\n",
    "# ---------------------------------------------\n",
    "sns.set_style(\"whitegrid\")\n",
    "fig, ax1 = plt.subplots(figsize=(12, 6))\n",
    "\n",
    "# LEFT Y-AXIS: Plot YMAX Price\n",
    "ax1.set_xlabel(\"Date\", fontsize=14, fontweight=\"bold\")\n",
    "ax1.set_ylabel(\"YMAX Price ($)\", fontsize=14, fontweight=\"bold\", color=\"blue\")\n",
    "\n",
    "# Plot YMAX Price line\n",
    "line1, = ax1.plot(ymax_df[\"Date\"], ymax_df[\"YMAX\"], color=\"blue\", linewidth=2, label=\"YMAX Price\")\n",
    "\n",
    "# Add entry (^) and exit (v) markers on YMAX\n",
    "ax1.scatter(entry_days[\"Date\"], entry_days[\"YMAX\"], marker=\"^\", color=\"blue\", s=100, label=\"Entry\")\n",
    "ax1.scatter(exit_days[\"Date\"], exit_days[\"YMAX\"], marker=\"v\", color=\"red\", s=100, label=\"Exit\")\n",
    "\n",
    "# Make the left y-axis text blue for clarity\n",
    "ax1.tick_params(axis='y', labelcolor=\"blue\")\n",
    "\n",
    "# Format the date axis\n",
    "ax1.xaxis.set_major_locator(mdates.MonthLocator())\n",
    "ax1.xaxis.set_major_formatter(mdates.DateFormatter(\"%Y-%m\"))\n",
    "plt.xticks(rotation=45, fontsize=11)\n",
    "plt.yticks(fontsize=11)\n",
    "\n",
    "# ---------------------------------------------\n",
    "# RIGHT Y-AXIS: Plot Portfolio Value\n",
    "# ---------------------------------------------\n",
    "ax2 = ax1.twinx()  # share the same x-axis\n",
    "ax2.set_ylabel(\"Portfolio Value ($)\", fontsize=14, fontweight=\"bold\", color=\"red\")\n",
    "\n",
    "line2, = ax2.plot(\n",
    "    ymax_df[\"Date\"],\n",
    "    ymax_df[\"Portfolio_Value\"],\n",
    "    color=\"red\",\n",
    "    linewidth=2,\n",
    "    label=\"Portfolio Value\"\n",
    ")\n",
    "ax2.tick_params(axis='y', labelcolor=\"red\")\n",
    "plt.yticks(fontsize=11)\n",
    "\n",
    "# ---------------------------------------------\n",
    "# STEP D: Enhance the Plot\n",
    "# ---------------------------------------------\n",
    "plt.title(\"YMAX Price (Left Axis) vs. Portfolio Value (Right Axis)\", fontsize=16, fontweight=\"bold\")\n",
    "plt.grid(True, linestyle=\"--\", linewidth=1.2, color=\"gray\")\n",
    "\n",
    "# Combine legends from both axes\n",
    "lines_1, labels_1 = ax1.get_legend_handles_labels()\n",
    "lines_2, labels_2 = ax2.get_legend_handles_labels()\n",
    "ax1.legend(lines_1 + lines_2, labels_1 + labels_2, loc=\"upper center\", frameon=True, shadow=True)\n",
    "\n",
    "plt.tight_layout()\n",
    "plt.show()\n"
   ]
  },
  {
   "cell_type": "code",
   "execution_count": 26,
   "metadata": {},
   "outputs": [
    {
     "data": {
      "application/vnd.plotly.v1+json": {
       "config": {
        "plotlyServerURL": "https://plot.ly"
       },
       "data": [
        {
         "line": {
          "color": "blue",
          "width": 2
         },
         "mode": "lines",
         "name": "YMAX Price",
         "type": "scatter",
         "x": [
          "2024-03-01T00:00:00.000000000",
          "2024-03-04T00:00:00.000000000",
          "2024-03-05T00:00:00.000000000",
          "2024-03-06T00:00:00.000000000",
          "2024-03-07T00:00:00.000000000",
          "2024-03-08T00:00:00.000000000",
          "2024-03-11T00:00:00.000000000",
          "2024-03-12T00:00:00.000000000",
          "2024-03-13T00:00:00.000000000",
          "2024-03-14T00:00:00.000000000",
          "2024-03-15T00:00:00.000000000",
          "2024-03-18T00:00:00.000000000",
          "2024-03-19T00:00:00.000000000",
          "2024-03-20T00:00:00.000000000",
          "2024-03-21T00:00:00.000000000",
          "2024-03-22T00:00:00.000000000",
          "2024-03-25T00:00:00.000000000",
          "2024-03-26T00:00:00.000000000",
          "2024-03-27T00:00:00.000000000",
          "2024-03-28T00:00:00.000000000",
          "2024-04-01T00:00:00.000000000",
          "2024-04-02T00:00:00.000000000",
          "2024-04-03T00:00:00.000000000",
          "2024-04-04T00:00:00.000000000",
          "2024-04-05T00:00:00.000000000",
          "2024-04-08T00:00:00.000000000",
          "2024-04-09T00:00:00.000000000",
          "2024-04-10T00:00:00.000000000",
          "2024-04-11T00:00:00.000000000",
          "2024-04-12T00:00:00.000000000",
          "2024-04-15T00:00:00.000000000",
          "2024-04-16T00:00:00.000000000",
          "2024-04-17T00:00:00.000000000",
          "2024-04-18T00:00:00.000000000",
          "2024-04-19T00:00:00.000000000",
          "2024-04-22T00:00:00.000000000",
          "2024-04-23T00:00:00.000000000",
          "2024-04-24T00:00:00.000000000",
          "2024-04-25T00:00:00.000000000",
          "2024-04-26T00:00:00.000000000",
          "2024-04-29T00:00:00.000000000",
          "2024-04-30T00:00:00.000000000",
          "2024-05-01T00:00:00.000000000",
          "2024-05-02T00:00:00.000000000",
          "2024-05-03T00:00:00.000000000",
          "2024-05-06T00:00:00.000000000",
          "2024-05-07T00:00:00.000000000",
          "2024-05-08T00:00:00.000000000",
          "2024-05-09T00:00:00.000000000",
          "2024-05-10T00:00:00.000000000",
          "2024-05-13T00:00:00.000000000",
          "2024-05-14T00:00:00.000000000",
          "2024-05-15T00:00:00.000000000",
          "2024-05-16T00:00:00.000000000",
          "2024-05-17T00:00:00.000000000",
          "2024-05-20T00:00:00.000000000",
          "2024-05-21T00:00:00.000000000",
          "2024-05-22T00:00:00.000000000",
          "2024-05-23T00:00:00.000000000",
          "2024-05-24T00:00:00.000000000",
          "2024-05-28T00:00:00.000000000",
          "2024-05-29T00:00:00.000000000",
          "2024-05-30T00:00:00.000000000",
          "2024-05-31T00:00:00.000000000",
          "2024-06-03T00:00:00.000000000",
          "2024-06-04T00:00:00.000000000",
          "2024-06-05T00:00:00.000000000",
          "2024-06-06T00:00:00.000000000",
          "2024-06-07T00:00:00.000000000",
          "2024-06-10T00:00:00.000000000",
          "2024-06-11T00:00:00.000000000",
          "2024-06-12T00:00:00.000000000",
          "2024-06-13T00:00:00.000000000",
          "2024-06-14T00:00:00.000000000",
          "2024-06-17T00:00:00.000000000",
          "2024-06-18T00:00:00.000000000",
          "2024-06-20T00:00:00.000000000",
          "2024-06-21T00:00:00.000000000",
          "2024-06-24T00:00:00.000000000",
          "2024-06-25T00:00:00.000000000",
          "2024-06-26T00:00:00.000000000",
          "2024-06-27T00:00:00.000000000",
          "2024-06-28T00:00:00.000000000",
          "2024-07-01T00:00:00.000000000",
          "2024-07-02T00:00:00.000000000",
          "2024-07-03T00:00:00.000000000",
          "2024-07-05T00:00:00.000000000",
          "2024-07-08T00:00:00.000000000",
          "2024-07-09T00:00:00.000000000",
          "2024-07-10T00:00:00.000000000",
          "2024-07-11T00:00:00.000000000",
          "2024-07-12T00:00:00.000000000",
          "2024-07-15T00:00:00.000000000",
          "2024-07-16T00:00:00.000000000",
          "2024-07-17T00:00:00.000000000",
          "2024-07-18T00:00:00.000000000",
          "2024-07-19T00:00:00.000000000",
          "2024-07-22T00:00:00.000000000",
          "2024-07-23T00:00:00.000000000",
          "2024-07-24T00:00:00.000000000",
          "2024-07-25T00:00:00.000000000",
          "2024-07-26T00:00:00.000000000",
          "2024-07-29T00:00:00.000000000",
          "2024-07-30T00:00:00.000000000",
          "2024-07-31T00:00:00.000000000",
          "2024-08-01T00:00:00.000000000",
          "2024-08-02T00:00:00.000000000",
          "2024-08-05T00:00:00.000000000",
          "2024-08-06T00:00:00.000000000",
          "2024-08-07T00:00:00.000000000",
          "2024-08-08T00:00:00.000000000",
          "2024-08-09T00:00:00.000000000",
          "2024-08-12T00:00:00.000000000",
          "2024-08-13T00:00:00.000000000",
          "2024-08-14T00:00:00.000000000",
          "2024-08-15T00:00:00.000000000",
          "2024-08-16T00:00:00.000000000",
          "2024-08-19T00:00:00.000000000",
          "2024-08-20T00:00:00.000000000",
          "2024-08-21T00:00:00.000000000",
          "2024-08-22T00:00:00.000000000",
          "2024-08-23T00:00:00.000000000",
          "2024-08-26T00:00:00.000000000",
          "2024-08-27T00:00:00.000000000",
          "2024-08-28T00:00:00.000000000",
          "2024-08-29T00:00:00.000000000",
          "2024-08-30T00:00:00.000000000",
          "2024-09-03T00:00:00.000000000",
          "2024-09-04T00:00:00.000000000",
          "2024-09-05T00:00:00.000000000",
          "2024-09-06T00:00:00.000000000",
          "2024-09-09T00:00:00.000000000",
          "2024-09-10T00:00:00.000000000",
          "2024-09-11T00:00:00.000000000",
          "2024-09-12T00:00:00.000000000",
          "2024-09-13T00:00:00.000000000",
          "2024-09-16T00:00:00.000000000",
          "2024-09-17T00:00:00.000000000",
          "2024-09-18T00:00:00.000000000",
          "2024-09-19T00:00:00.000000000",
          "2024-09-20T00:00:00.000000000",
          "2024-09-23T00:00:00.000000000",
          "2024-09-24T00:00:00.000000000",
          "2024-09-25T00:00:00.000000000",
          "2024-09-26T00:00:00.000000000",
          "2024-09-27T00:00:00.000000000",
          "2024-09-30T00:00:00.000000000",
          "2024-10-01T00:00:00.000000000",
          "2024-10-02T00:00:00.000000000",
          "2024-10-03T00:00:00.000000000",
          "2024-10-04T00:00:00.000000000",
          "2024-10-07T00:00:00.000000000",
          "2024-10-08T00:00:00.000000000",
          "2024-10-09T00:00:00.000000000",
          "2024-10-10T00:00:00.000000000",
          "2024-10-11T00:00:00.000000000",
          "2024-10-14T00:00:00.000000000",
          "2024-10-15T00:00:00.000000000",
          "2024-10-16T00:00:00.000000000",
          "2024-10-17T00:00:00.000000000",
          "2024-10-18T00:00:00.000000000",
          "2024-10-21T00:00:00.000000000",
          "2024-10-22T00:00:00.000000000",
          "2024-10-23T00:00:00.000000000",
          "2024-10-24T00:00:00.000000000",
          "2024-10-25T00:00:00.000000000",
          "2024-10-28T00:00:00.000000000",
          "2024-10-29T00:00:00.000000000",
          "2024-10-30T00:00:00.000000000",
          "2024-10-31T00:00:00.000000000",
          "2024-11-01T00:00:00.000000000",
          "2024-11-04T00:00:00.000000000",
          "2024-11-05T00:00:00.000000000",
          "2024-11-06T00:00:00.000000000",
          "2024-11-07T00:00:00.000000000",
          "2024-11-08T00:00:00.000000000",
          "2024-11-11T00:00:00.000000000",
          "2024-11-12T00:00:00.000000000",
          "2024-11-13T00:00:00.000000000",
          "2024-11-14T00:00:00.000000000",
          "2024-11-15T00:00:00.000000000",
          "2024-11-18T00:00:00.000000000",
          "2024-11-19T00:00:00.000000000",
          "2024-11-20T00:00:00.000000000",
          "2024-11-21T00:00:00.000000000",
          "2024-11-22T00:00:00.000000000",
          "2024-11-25T00:00:00.000000000",
          "2024-11-26T00:00:00.000000000",
          "2024-11-27T00:00:00.000000000",
          "2024-11-29T00:00:00.000000000",
          "2024-12-02T00:00:00.000000000",
          "2024-12-03T00:00:00.000000000",
          "2024-12-04T00:00:00.000000000",
          "2024-12-05T00:00:00.000000000",
          "2024-12-06T00:00:00.000000000",
          "2024-12-09T00:00:00.000000000",
          "2024-12-10T00:00:00.000000000",
          "2024-12-11T00:00:00.000000000",
          "2024-12-12T00:00:00.000000000",
          "2024-12-13T00:00:00.000000000",
          "2024-12-16T00:00:00.000000000",
          "2024-12-17T00:00:00.000000000",
          "2024-12-18T00:00:00.000000000",
          "2024-12-19T00:00:00.000000000",
          "2024-12-20T00:00:00.000000000",
          "2024-12-23T00:00:00.000000000",
          "2024-12-24T00:00:00.000000000",
          "2024-12-26T00:00:00.000000000",
          "2024-12-27T00:00:00.000000000",
          "2024-12-30T00:00:00.000000000",
          "2024-12-31T00:00:00.000000000",
          "2025-01-02T00:00:00.000000000",
          "2025-01-03T00:00:00.000000000",
          "2025-01-06T00:00:00.000000000",
          "2025-01-07T00:00:00.000000000",
          "2025-01-08T00:00:00.000000000",
          "2025-01-10T00:00:00.000000000",
          "2025-01-13T00:00:00.000000000",
          "2025-01-14T00:00:00.000000000",
          "2025-01-15T00:00:00.000000000",
          "2025-01-16T00:00:00.000000000",
          "2025-01-17T00:00:00.000000000",
          "2025-01-21T00:00:00.000000000",
          "2025-01-22T00:00:00.000000000",
          "2025-01-23T00:00:00.000000000",
          "2025-01-24T00:00:00.000000000",
          "2025-01-27T00:00:00.000000000",
          "2025-01-28T00:00:00.000000000",
          "2025-01-29T00:00:00.000000000",
          "2025-01-30T00:00:00.000000000",
          "2025-01-31T00:00:00.000000000",
          "2025-02-03T00:00:00.000000000",
          "2025-02-04T00:00:00.000000000",
          "2025-02-05T00:00:00.000000000",
          "2025-02-06T00:00:00.000000000",
          "2025-02-07T00:00:00.000000000",
          "2025-02-10T00:00:00.000000000",
          "2025-02-11T00:00:00.000000000",
          "2025-02-12T00:00:00.000000000",
          "2025-02-13T00:00:00.000000000"
         ],
         "y": {
          "bdata": "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",
          "dtype": "f8"
         },
         "yaxis": "y"
        },
        {
         "marker": {
          "color": "blue",
          "size": 12,
          "symbol": "triangle-up"
         },
         "mode": "markers",
         "name": "Entry",
         "type": "scatter",
         "x": [
          "2024-04-04T00:00:00.000000000",
          "2024-04-10T00:00:00.000000000",
          "2024-07-18T00:00:00.000000000",
          "2024-07-26T00:00:00.000000000",
          "2024-08-27T00:00:00.000000000",
          "2024-08-30T00:00:00.000000000",
          "2024-09-20T00:00:00.000000000",
          "2024-11-18T00:00:00.000000000",
          "2025-01-03T00:00:00.000000000"
         ],
         "y": {
          "bdata": "7FG4HoUrNUCuR+F6FG41QDMzMzMz8zJAFK5H4XqUMkCamZmZmdkxQD0K16NwvTFApHA9CtejMUBcj8L1KNwxQAAAAAAAQDFA",
          "dtype": "f8"
         },
         "yaxis": "y"
        },
        {
         "marker": {
          "color": "red",
          "size": 12,
          "symbol": "triangle-down"
         },
         "mode": "markers",
         "name": "Exit",
         "type": "scatter",
         "x": [
          "2024-04-08T00:00:00.000000000",
          "2024-04-11T00:00:00.000000000",
          "2024-07-22T00:00:00.000000000",
          "2024-08-01T00:00:00.000000000",
          "2024-08-28T00:00:00.000000000",
          "2024-09-03T00:00:00.000000000",
          "2024-09-26T00:00:00.000000000",
          "2024-11-20T00:00:00.000000000",
          "2025-01-07T00:00:00.000000000"
         ],
         "y": {
          "bdata": "PQrXo3B9NUCuR+F6FK41QD0K16NwPTNAMzMzMzMzMkBSuB6F65ExQHsUrkfhOjFAj8L1KFzPMUBxPQrXozAyQFyPwvUoHDFA",
          "dtype": "f8"
         },
         "yaxis": "y"
        },
        {
         "line": {
          "color": "red",
          "width": 2
         },
         "mode": "lines",
         "name": "Portfolio Value",
         "type": "scatter",
         "x": [
          "2024-03-01T00:00:00.000000000",
          "2024-03-04T00:00:00.000000000",
          "2024-03-05T00:00:00.000000000",
          "2024-03-06T00:00:00.000000000",
          "2024-03-07T00:00:00.000000000",
          "2024-03-08T00:00:00.000000000",
          "2024-03-11T00:00:00.000000000",
          "2024-03-12T00:00:00.000000000",
          "2024-03-13T00:00:00.000000000",
          "2024-03-14T00:00:00.000000000",
          "2024-03-15T00:00:00.000000000",
          "2024-03-18T00:00:00.000000000",
          "2024-03-19T00:00:00.000000000",
          "2024-03-20T00:00:00.000000000",
          "2024-03-21T00:00:00.000000000",
          "2024-03-22T00:00:00.000000000",
          "2024-03-25T00:00:00.000000000",
          "2024-03-26T00:00:00.000000000",
          "2024-03-27T00:00:00.000000000",
          "2024-03-28T00:00:00.000000000",
          "2024-04-01T00:00:00.000000000",
          "2024-04-02T00:00:00.000000000",
          "2024-04-03T00:00:00.000000000",
          "2024-04-04T00:00:00.000000000",
          "2024-04-05T00:00:00.000000000",
          "2024-04-08T00:00:00.000000000",
          "2024-04-09T00:00:00.000000000",
          "2024-04-10T00:00:00.000000000",
          "2024-04-11T00:00:00.000000000",
          "2024-04-12T00:00:00.000000000",
          "2024-04-15T00:00:00.000000000",
          "2024-04-16T00:00:00.000000000",
          "2024-04-17T00:00:00.000000000",
          "2024-04-18T00:00:00.000000000",
          "2024-04-19T00:00:00.000000000",
          "2024-04-22T00:00:00.000000000",
          "2024-04-23T00:00:00.000000000",
          "2024-04-24T00:00:00.000000000",
          "2024-04-25T00:00:00.000000000",
          "2024-04-26T00:00:00.000000000",
          "2024-04-29T00:00:00.000000000",
          "2024-04-30T00:00:00.000000000",
          "2024-05-01T00:00:00.000000000",
          "2024-05-02T00:00:00.000000000",
          "2024-05-03T00:00:00.000000000",
          "2024-05-06T00:00:00.000000000",
          "2024-05-07T00:00:00.000000000",
          "2024-05-08T00:00:00.000000000",
          "2024-05-09T00:00:00.000000000",
          "2024-05-10T00:00:00.000000000",
          "2024-05-13T00:00:00.000000000",
          "2024-05-14T00:00:00.000000000",
          "2024-05-15T00:00:00.000000000",
          "2024-05-16T00:00:00.000000000",
          "2024-05-17T00:00:00.000000000",
          "2024-05-20T00:00:00.000000000",
          "2024-05-21T00:00:00.000000000",
          "2024-05-22T00:00:00.000000000",
          "2024-05-23T00:00:00.000000000",
          "2024-05-24T00:00:00.000000000",
          "2024-05-28T00:00:00.000000000",
          "2024-05-29T00:00:00.000000000",
          "2024-05-30T00:00:00.000000000",
          "2024-05-31T00:00:00.000000000",
          "2024-06-03T00:00:00.000000000",
          "2024-06-04T00:00:00.000000000",
          "2024-06-05T00:00:00.000000000",
          "2024-06-06T00:00:00.000000000",
          "2024-06-07T00:00:00.000000000",
          "2024-06-10T00:00:00.000000000",
          "2024-06-11T00:00:00.000000000",
          "2024-06-12T00:00:00.000000000",
          "2024-06-13T00:00:00.000000000",
          "2024-06-14T00:00:00.000000000",
          "2024-06-17T00:00:00.000000000",
          "2024-06-18T00:00:00.000000000",
          "2024-06-20T00:00:00.000000000",
          "2024-06-21T00:00:00.000000000",
          "2024-06-24T00:00:00.000000000",
          "2024-06-25T00:00:00.000000000",
          "2024-06-26T00:00:00.000000000",
          "2024-06-27T00:00:00.000000000",
          "2024-06-28T00:00:00.000000000",
          "2024-07-01T00:00:00.000000000",
          "2024-07-02T00:00:00.000000000",
          "2024-07-03T00:00:00.000000000",
          "2024-07-05T00:00:00.000000000",
          "2024-07-08T00:00:00.000000000",
          "2024-07-09T00:00:00.000000000",
          "2024-07-10T00:00:00.000000000",
          "2024-07-11T00:00:00.000000000",
          "2024-07-12T00:00:00.000000000",
          "2024-07-15T00:00:00.000000000",
          "2024-07-16T00:00:00.000000000",
          "2024-07-17T00:00:00.000000000",
          "2024-07-18T00:00:00.000000000",
          "2024-07-19T00:00:00.000000000",
          "2024-07-22T00:00:00.000000000",
          "2024-07-23T00:00:00.000000000",
          "2024-07-24T00:00:00.000000000",
          "2024-07-25T00:00:00.000000000",
          "2024-07-26T00:00:00.000000000",
          "2024-07-29T00:00:00.000000000",
          "2024-07-30T00:00:00.000000000",
          "2024-07-31T00:00:00.000000000",
          "2024-08-01T00:00:00.000000000",
          "2024-08-02T00:00:00.000000000",
          "2024-08-05T00:00:00.000000000",
          "2024-08-06T00:00:00.000000000",
          "2024-08-07T00:00:00.000000000",
          "2024-08-08T00:00:00.000000000",
          "2024-08-09T00:00:00.000000000",
          "2024-08-12T00:00:00.000000000",
          "2024-08-13T00:00:00.000000000",
          "2024-08-14T00:00:00.000000000",
          "2024-08-15T00:00:00.000000000",
          "2024-08-16T00:00:00.000000000",
          "2024-08-19T00:00:00.000000000",
          "2024-08-20T00:00:00.000000000",
          "2024-08-21T00:00:00.000000000",
          "2024-08-22T00:00:00.000000000",
          "2024-08-23T00:00:00.000000000",
          "2024-08-26T00:00:00.000000000",
          "2024-08-27T00:00:00.000000000",
          "2024-08-28T00:00:00.000000000",
          "2024-08-29T00:00:00.000000000",
          "2024-08-30T00:00:00.000000000",
          "2024-09-03T00:00:00.000000000",
          "2024-09-04T00:00:00.000000000",
          "2024-09-05T00:00:00.000000000",
          "2024-09-06T00:00:00.000000000",
          "2024-09-09T00:00:00.000000000",
          "2024-09-10T00:00:00.000000000",
          "2024-09-11T00:00:00.000000000",
          "2024-09-12T00:00:00.000000000",
          "2024-09-13T00:00:00.000000000",
          "2024-09-16T00:00:00.000000000",
          "2024-09-17T00:00:00.000000000",
          "2024-09-18T00:00:00.000000000",
          "2024-09-19T00:00:00.000000000",
          "2024-09-20T00:00:00.000000000",
          "2024-09-23T00:00:00.000000000",
          "2024-09-24T00:00:00.000000000",
          "2024-09-25T00:00:00.000000000",
          "2024-09-26T00:00:00.000000000",
          "2024-09-27T00:00:00.000000000",
          "2024-09-30T00:00:00.000000000",
          "2024-10-01T00:00:00.000000000",
          "2024-10-02T00:00:00.000000000",
          "2024-10-03T00:00:00.000000000",
          "2024-10-04T00:00:00.000000000",
          "2024-10-07T00:00:00.000000000",
          "2024-10-08T00:00:00.000000000",
          "2024-10-09T00:00:00.000000000",
          "2024-10-10T00:00:00.000000000",
          "2024-10-11T00:00:00.000000000",
          "2024-10-14T00:00:00.000000000",
          "2024-10-15T00:00:00.000000000",
          "2024-10-16T00:00:00.000000000",
          "2024-10-17T00:00:00.000000000",
          "2024-10-18T00:00:00.000000000",
          "2024-10-21T00:00:00.000000000",
          "2024-10-22T00:00:00.000000000",
          "2024-10-23T00:00:00.000000000",
          "2024-10-24T00:00:00.000000000",
          "2024-10-25T00:00:00.000000000",
          "2024-10-28T00:00:00.000000000",
          "2024-10-29T00:00:00.000000000",
          "2024-10-30T00:00:00.000000000",
          "2024-10-31T00:00:00.000000000",
          "2024-11-01T00:00:00.000000000",
          "2024-11-04T00:00:00.000000000",
          "2024-11-05T00:00:00.000000000",
          "2024-11-06T00:00:00.000000000",
          "2024-11-07T00:00:00.000000000",
          "2024-11-08T00:00:00.000000000",
          "2024-11-11T00:00:00.000000000",
          "2024-11-12T00:00:00.000000000",
          "2024-11-13T00:00:00.000000000",
          "2024-11-14T00:00:00.000000000",
          "2024-11-15T00:00:00.000000000",
          "2024-11-18T00:00:00.000000000",
          "2024-11-19T00:00:00.000000000",
          "2024-11-20T00:00:00.000000000",
          "2024-11-21T00:00:00.000000000",
          "2024-11-22T00:00:00.000000000",
          "2024-11-25T00:00:00.000000000",
          "2024-11-26T00:00:00.000000000",
          "2024-11-27T00:00:00.000000000",
          "2024-11-29T00:00:00.000000000",
          "2024-12-02T00:00:00.000000000",
          "2024-12-03T00:00:00.000000000",
          "2024-12-04T00:00:00.000000000",
          "2024-12-05T00:00:00.000000000",
          "2024-12-06T00:00:00.000000000",
          "2024-12-09T00:00:00.000000000",
          "2024-12-10T00:00:00.000000000",
          "2024-12-11T00:00:00.000000000",
          "2024-12-12T00:00:00.000000000",
          "2024-12-13T00:00:00.000000000",
          "2024-12-16T00:00:00.000000000",
          "2024-12-17T00:00:00.000000000",
          "2024-12-18T00:00:00.000000000",
          "2024-12-19T00:00:00.000000000",
          "2024-12-20T00:00:00.000000000",
          "2024-12-23T00:00:00.000000000",
          "2024-12-24T00:00:00.000000000",
          "2024-12-26T00:00:00.000000000",
          "2024-12-27T00:00:00.000000000",
          "2024-12-30T00:00:00.000000000",
          "2024-12-31T00:00:00.000000000",
          "2025-01-02T00:00:00.000000000",
          "2025-01-03T00:00:00.000000000",
          "2025-01-06T00:00:00.000000000",
          "2025-01-07T00:00:00.000000000",
          "2025-01-08T00:00:00.000000000",
          "2025-01-10T00:00:00.000000000",
          "2025-01-13T00:00:00.000000000",
          "2025-01-14T00:00:00.000000000",
          "2025-01-15T00:00:00.000000000",
          "2025-01-16T00:00:00.000000000",
          "2025-01-17T00:00:00.000000000",
          "2025-01-21T00:00:00.000000000",
          "2025-01-22T00:00:00.000000000",
          "2025-01-23T00:00:00.000000000",
          "2025-01-24T00:00:00.000000000",
          "2025-01-27T00:00:00.000000000",
          "2025-01-28T00:00:00.000000000",
          "2025-01-29T00:00:00.000000000",
          "2025-01-30T00:00:00.000000000",
          "2025-01-31T00:00:00.000000000",
          "2025-02-03T00:00:00.000000000",
          "2025-02-04T00:00:00.000000000",
          "2025-02-05T00:00:00.000000000",
          "2025-02-06T00:00:00.000000000",
          "2025-02-07T00:00:00.000000000",
          "2025-02-10T00:00:00.000000000",
          "2025-02-11T00:00:00.000000000",
          "2025-02-12T00:00:00.000000000",
          "2025-02-13T00:00:00.000000000"
         ],
         "y": {
          "bdata": "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",
          "dtype": "f8"
         },
         "yaxis": "y2"
        }
       ],
       "layout": {
        "hovermode": "x unified",
        "legend": {
         "bgcolor": "rgba(255,255,255,0.7)",
         "bordercolor": "black",
         "borderwidth": 1,
         "x": 1,
         "xanchor": "center",
         "y": 1,
         "yanchor": "top"
        },
        "template": {
         "data": {
          "bar": [
           {
            "error_x": {
             "color": "#2a3f5f"
            },
            "error_y": {
             "color": "#2a3f5f"
            },
            "marker": {
             "line": {
              "color": "#E5ECF6",
              "width": 0.5
             },
             "pattern": {
              "fillmode": "overlay",
              "size": 10,
              "solidity": 0.2
             }
            },
            "type": "bar"
           }
          ],
          "barpolar": [
           {
            "marker": {
             "line": {
              "color": "#E5ECF6",
              "width": 0.5
             },
             "pattern": {
              "fillmode": "overlay",
              "size": 10,
              "solidity": 0.2
             }
            },
            "type": "barpolar"
           }
          ],
          "carpet": [
           {
            "aaxis": {
             "endlinecolor": "#2a3f5f",
             "gridcolor": "white",
             "linecolor": "white",
             "minorgridcolor": "white",
             "startlinecolor": "#2a3f5f"
            },
            "baxis": {
             "endlinecolor": "#2a3f5f",
             "gridcolor": "white",
             "linecolor": "white",
             "minorgridcolor": "white",
             "startlinecolor": "#2a3f5f"
            },
            "type": "carpet"
           }
          ],
          "choropleth": [
           {
            "colorbar": {
             "outlinewidth": 0,
             "ticks": ""
            },
            "type": "choropleth"
           }
          ],
          "contour": [
           {
            "colorbar": {
             "outlinewidth": 0,
             "ticks": ""
            },
            "colorscale": [
             [
              0,
              "#0d0887"
             ],
             [
              0.1111111111111111,
              "#46039f"
             ],
             [
              0.2222222222222222,
              "#7201a8"
             ],
             [
              0.3333333333333333,
              "#9c179e"
             ],
             [
              0.4444444444444444,
              "#bd3786"
             ],
             [
              0.5555555555555556,
              "#d8576b"
             ],
             [
              0.6666666666666666,
              "#ed7953"
             ],
             [
              0.7777777777777778,
              "#fb9f3a"
             ],
             [
              0.8888888888888888,
              "#fdca26"
             ],
             [
              1,
              "#f0f921"
             ]
            ],
            "type": "contour"
           }
          ],
          "contourcarpet": [
           {
            "colorbar": {
             "outlinewidth": 0,
             "ticks": ""
            },
            "type": "contourcarpet"
           }
          ],
          "heatmap": [
           {
            "colorbar": {
             "outlinewidth": 0,
             "ticks": ""
            },
            "colorscale": [
             [
              0,
              "#0d0887"
             ],
             [
              0.1111111111111111,
              "#46039f"
             ],
             [
              0.2222222222222222,
              "#7201a8"
             ],
             [
              0.3333333333333333,
              "#9c179e"
             ],
             [
              0.4444444444444444,
              "#bd3786"
             ],
             [
              0.5555555555555556,
              "#d8576b"
             ],
             [
              0.6666666666666666,
              "#ed7953"
             ],
             [
              0.7777777777777778,
              "#fb9f3a"
             ],
             [
              0.8888888888888888,
              "#fdca26"
             ],
             [
              1,
              "#f0f921"
             ]
            ],
            "type": "heatmap"
           }
          ],
          "histogram": [
           {
            "marker": {
             "pattern": {
              "fillmode": "overlay",
              "size": 10,
              "solidity": 0.2
             }
            },
            "type": "histogram"
           }
          ],
          "histogram2d": [
           {
            "colorbar": {
             "outlinewidth": 0,
             "ticks": ""
            },
            "colorscale": [
             [
              0,
              "#0d0887"
             ],
             [
              0.1111111111111111,
              "#46039f"
             ],
             [
              0.2222222222222222,
              "#7201a8"
             ],
             [
              0.3333333333333333,
              "#9c179e"
             ],
             [
              0.4444444444444444,
              "#bd3786"
             ],
             [
              0.5555555555555556,
              "#d8576b"
             ],
             [
              0.6666666666666666,
              "#ed7953"
             ],
             [
              0.7777777777777778,
              "#fb9f3a"
             ],
             [
              0.8888888888888888,
              "#fdca26"
             ],
             [
              1,
              "#f0f921"
             ]
            ],
            "type": "histogram2d"
           }
          ],
          "histogram2dcontour": [
           {
            "colorbar": {
             "outlinewidth": 0,
             "ticks": ""
            },
            "colorscale": [
             [
              0,
              "#0d0887"
             ],
             [
              0.1111111111111111,
              "#46039f"
             ],
             [
              0.2222222222222222,
              "#7201a8"
             ],
             [
              0.3333333333333333,
              "#9c179e"
             ],
             [
              0.4444444444444444,
              "#bd3786"
             ],
             [
              0.5555555555555556,
              "#d8576b"
             ],
             [
              0.6666666666666666,
              "#ed7953"
             ],
             [
              0.7777777777777778,
              "#fb9f3a"
             ],
             [
              0.8888888888888888,
              "#fdca26"
             ],
             [
              1,
              "#f0f921"
             ]
            ],
            "type": "histogram2dcontour"
           }
          ],
          "mesh3d": [
           {
            "colorbar": {
             "outlinewidth": 0,
             "ticks": ""
            },
            "type": "mesh3d"
           }
          ],
          "parcoords": [
           {
            "line": {
             "colorbar": {
              "outlinewidth": 0,
              "ticks": ""
             }
            },
            "type": "parcoords"
           }
          ],
          "pie": [
           {
            "automargin": true,
            "type": "pie"
           }
          ],
          "scatter": [
           {
            "fillpattern": {
             "fillmode": "overlay",
             "size": 10,
             "solidity": 0.2
            },
            "type": "scatter"
           }
          ],
          "scatter3d": [
           {
            "line": {
             "colorbar": {
              "outlinewidth": 0,
              "ticks": ""
             }
            },
            "marker": {
             "colorbar": {
              "outlinewidth": 0,
              "ticks": ""
             }
            },
            "type": "scatter3d"
           }
          ],
          "scattercarpet": [
           {
            "marker": {
             "colorbar": {
              "outlinewidth": 0,
              "ticks": ""
             }
            },
            "type": "scattercarpet"
           }
          ],
          "scattergeo": [
           {
            "marker": {
             "colorbar": {
              "outlinewidth": 0,
              "ticks": ""
             }
            },
            "type": "scattergeo"
           }
          ],
          "scattergl": [
           {
            "marker": {
             "colorbar": {
              "outlinewidth": 0,
              "ticks": ""
             }
            },
            "type": "scattergl"
           }
          ],
          "scattermap": [
           {
            "marker": {
             "colorbar": {
              "outlinewidth": 0,
              "ticks": ""
             }
            },
            "type": "scattermap"
           }
          ],
          "scattermapbox": [
           {
            "marker": {
             "colorbar": {
              "outlinewidth": 0,
              "ticks": ""
             }
            },
            "type": "scattermapbox"
           }
          ],
          "scatterpolar": [
           {
            "marker": {
             "colorbar": {
              "outlinewidth": 0,
              "ticks": ""
             }
            },
            "type": "scatterpolar"
           }
          ],
          "scatterpolargl": [
           {
            "marker": {
             "colorbar": {
              "outlinewidth": 0,
              "ticks": ""
             }
            },
            "type": "scatterpolargl"
           }
          ],
          "scatterternary": [
           {
            "marker": {
             "colorbar": {
              "outlinewidth": 0,
              "ticks": ""
             }
            },
            "type": "scatterternary"
           }
          ],
          "surface": [
           {
            "colorbar": {
             "outlinewidth": 0,
             "ticks": ""
            },
            "colorscale": [
             [
              0,
              "#0d0887"
             ],
             [
              0.1111111111111111,
              "#46039f"
             ],
             [
              0.2222222222222222,
              "#7201a8"
             ],
             [
              0.3333333333333333,
              "#9c179e"
             ],
             [
              0.4444444444444444,
              "#bd3786"
             ],
             [
              0.5555555555555556,
              "#d8576b"
             ],
             [
              0.6666666666666666,
              "#ed7953"
             ],
             [
              0.7777777777777778,
              "#fb9f3a"
             ],
             [
              0.8888888888888888,
              "#fdca26"
             ],
             [
              1,
              "#f0f921"
             ]
            ],
            "type": "surface"
           }
          ],
          "table": [
           {
            "cells": {
             "fill": {
              "color": "#EBF0F8"
             },
             "line": {
              "color": "white"
             }
            },
            "header": {
             "fill": {
              "color": "#C8D4E3"
             },
             "line": {
              "color": "white"
             }
            },
            "type": "table"
           }
          ]
         },
         "layout": {
          "annotationdefaults": {
           "arrowcolor": "#2a3f5f",
           "arrowhead": 0,
           "arrowwidth": 1
          },
          "autotypenumbers": "strict",
          "coloraxis": {
           "colorbar": {
            "outlinewidth": 0,
            "ticks": ""
           }
          },
          "colorscale": {
           "diverging": [
            [
             0,
             "#8e0152"
            ],
            [
             0.1,
             "#c51b7d"
            ],
            [
             0.2,
             "#de77ae"
            ],
            [
             0.3,
             "#f1b6da"
            ],
            [
             0.4,
             "#fde0ef"
            ],
            [
             0.5,
             "#f7f7f7"
            ],
            [
             0.6,
             "#e6f5d0"
            ],
            [
             0.7,
             "#b8e186"
            ],
            [
             0.8,
             "#7fbc41"
            ],
            [
             0.9,
             "#4d9221"
            ],
            [
             1,
             "#276419"
            ]
           ],
           "sequential": [
            [
             0,
             "#0d0887"
            ],
            [
             0.1111111111111111,
             "#46039f"
            ],
            [
             0.2222222222222222,
             "#7201a8"
            ],
            [
             0.3333333333333333,
             "#9c179e"
            ],
            [
             0.4444444444444444,
             "#bd3786"
            ],
            [
             0.5555555555555556,
             "#d8576b"
            ],
            [
             0.6666666666666666,
             "#ed7953"
            ],
            [
             0.7777777777777778,
             "#fb9f3a"
            ],
            [
             0.8888888888888888,
             "#fdca26"
            ],
            [
             1,
             "#f0f921"
            ]
           ],
           "sequentialminus": [
            [
             0,
             "#0d0887"
            ],
            [
             0.1111111111111111,
             "#46039f"
            ],
            [
             0.2222222222222222,
             "#7201a8"
            ],
            [
             0.3333333333333333,
             "#9c179e"
            ],
            [
             0.4444444444444444,
             "#bd3786"
            ],
            [
             0.5555555555555556,
             "#d8576b"
            ],
            [
             0.6666666666666666,
             "#ed7953"
            ],
            [
             0.7777777777777778,
             "#fb9f3a"
            ],
            [
             0.8888888888888888,
             "#fdca26"
            ],
            [
             1,
             "#f0f921"
            ]
           ]
          },
          "colorway": [
           "#636efa",
           "#EF553B",
           "#00cc96",
           "#ab63fa",
           "#FFA15A",
           "#19d3f3",
           "#FF6692",
           "#B6E880",
           "#FF97FF",
           "#FECB52"
          ],
          "font": {
           "color": "#2a3f5f"
          },
          "geo": {
           "bgcolor": "white",
           "lakecolor": "white",
           "landcolor": "#E5ECF6",
           "showlakes": true,
           "showland": true,
           "subunitcolor": "white"
          },
          "hoverlabel": {
           "align": "left"
          },
          "hovermode": "closest",
          "mapbox": {
           "style": "light"
          },
          "paper_bgcolor": "white",
          "plot_bgcolor": "#E5ECF6",
          "polar": {
           "angularaxis": {
            "gridcolor": "white",
            "linecolor": "white",
            "ticks": ""
           },
           "bgcolor": "#E5ECF6",
           "radialaxis": {
            "gridcolor": "white",
            "linecolor": "white",
            "ticks": ""
           }
          },
          "scene": {
           "xaxis": {
            "backgroundcolor": "#E5ECF6",
            "gridcolor": "white",
            "gridwidth": 2,
            "linecolor": "white",
            "showbackground": true,
            "ticks": "",
            "zerolinecolor": "white"
           },
           "yaxis": {
            "backgroundcolor": "#E5ECF6",
            "gridcolor": "white",
            "gridwidth": 2,
            "linecolor": "white",
            "showbackground": true,
            "ticks": "",
            "zerolinecolor": "white"
           },
           "zaxis": {
            "backgroundcolor": "#E5ECF6",
            "gridcolor": "white",
            "gridwidth": 2,
            "linecolor": "white",
            "showbackground": true,
            "ticks": "",
            "zerolinecolor": "white"
           }
          },
          "shapedefaults": {
           "line": {
            "color": "#2a3f5f"
           }
          },
          "ternary": {
           "aaxis": {
            "gridcolor": "white",
            "linecolor": "white",
            "ticks": ""
           },
           "baxis": {
            "gridcolor": "white",
            "linecolor": "white",
            "ticks": ""
           },
           "bgcolor": "#E5ECF6",
           "caxis": {
            "gridcolor": "white",
            "linecolor": "white",
            "ticks": ""
           }
          },
          "title": {
           "x": 0.05
          },
          "xaxis": {
           "automargin": true,
           "gridcolor": "white",
           "linecolor": "white",
           "ticks": "",
           "title": {
            "standoff": 15
           },
           "zerolinecolor": "white",
           "zerolinewidth": 2
          },
          "yaxis": {
           "automargin": true,
           "gridcolor": "white",
           "linecolor": "white",
           "ticks": "",
           "title": {
            "standoff": 15
           },
           "zerolinecolor": "white",
           "zerolinewidth": 2
          }
         }
        },
        "title": {
         "text": "YMAX Price (Left Axis) vs. Portfolio Value (Right Axis) - Interactive Plotly"
        },
        "xaxis": {
         "tickangle": 45,
         "tickformat": "%Y-%m",
         "title": {
          "text": "Date"
         },
         "type": "date"
        },
        "yaxis": {
         "color": "blue",
         "showgrid": false,
         "side": "left",
         "title": {
          "text": "YMAX Price ($)"
         }
        },
        "yaxis2": {
         "color": "red",
         "gridcolor": "lightgray",
         "gridwidth": 1,
         "overlaying": "y",
         "position": 1,
         "showgrid": true,
         "side": "right",
         "title": {
          "text": "Portfolio Value ($)"
         }
        }
       }
      }
     },
     "metadata": {},
     "output_type": "display_data"
    }
   ],
   "source": [
    "import plotly.graph_objects as go\n",
    "\n",
    "# ---------------------------------------------\n",
    "# STEP A: Identify Entry and Exit Days\n",
    "# ---------------------------------------------\n",
    "ymax_df[\"Entry\"] = (ymax_df[\"In_Market\"].shift(1) == False) & (ymax_df[\"In_Market\"] == True)\n",
    "ymax_df[\"Exit\"]  = (ymax_df[\"In_Market\"].shift(1) == True) & (ymax_df[\"In_Market\"] == False)\n",
    "\n",
    "# ---------------------------------------------\n",
    "# STEP B: Prepare Data for Plotting\n",
    "# ---------------------------------------------\n",
    "entry_days = ymax_df[ymax_df[\"Entry\"] == True]\n",
    "exit_days  = ymax_df[ymax_df[\"Exit\"] == True]\n",
    "\n",
    "# Sort data by date\n",
    "ymax_df.sort_values(\"Date\", inplace=True)\n",
    "ymax_df.reset_index(drop=True, inplace=True)\n",
    "\n",
    "# ---------------------------------------------\n",
    "# STEP C: Create Plotly Figure\n",
    "# ---------------------------------------------\n",
    "fig = go.Figure()\n",
    "\n",
    "# 1) YMAX Price (Left Axis)\n",
    "fig.add_trace(\n",
    "    go.Scatter(\n",
    "        x=ymax_df[\"Date\"],\n",
    "        y=ymax_df[\"YMAX\"],\n",
    "        mode=\"lines\",\n",
    "        line=dict(color=\"blue\", width=2),\n",
    "        name=\"YMAX Price\",\n",
    "        yaxis=\"y1\"\n",
    "    )\n",
    ")\n",
    "\n",
    "# 2) Entry Markers (triangle-up)\n",
    "fig.add_trace(\n",
    "    go.Scatter(\n",
    "        x=entry_days[\"Date\"],\n",
    "        y=entry_days[\"YMAX\"],\n",
    "        mode=\"markers\",\n",
    "        marker=dict(symbol=\"triangle-up\", color=\"blue\", size=12),\n",
    "        name=\"Entry\",\n",
    "        yaxis=\"y1\"\n",
    "    )\n",
    ")\n",
    "\n",
    "# 3) Exit Markers (triangle-down)\n",
    "fig.add_trace(\n",
    "    go.Scatter(\n",
    "        x=exit_days[\"Date\"],\n",
    "        y=exit_days[\"YMAX\"],\n",
    "        mode=\"markers\",\n",
    "        marker=dict(symbol=\"triangle-down\", color=\"red\", size=12),\n",
    "        name=\"Exit\",\n",
    "        yaxis=\"y1\"\n",
    "    )\n",
    ")\n",
    "\n",
    "# 4) Portfolio Value (Right Axis)\n",
    "fig.add_trace(\n",
    "    go.Scatter(\n",
    "        x=ymax_df[\"Date\"],\n",
    "        y=ymax_df[\"Portfolio_Value\"],\n",
    "        mode=\"lines\",\n",
    "        line=dict(color=\"red\", width=2),\n",
    "        name=\"Portfolio Value\",\n",
    "        yaxis=\"y2\"\n",
    "    )\n",
    ")\n",
    "\n",
    "# ---------------------------------------------\n",
    "# STEP D: Configure Layout for Dual Axis\n",
    "# ---------------------------------------------\n",
    "fig.update_layout(\n",
    "    title=\"YMAX Price (Left Axis) vs. Portfolio Value (Right Axis) - Interactive Plotly\",\n",
    "    xaxis=dict(\n",
    "        title=\"Date\",\n",
    "        type=\"date\",\n",
    "        tickformat=\"%Y-%m\",\n",
    "        tickangle=45\n",
    "    ),\n",
    "    yaxis=dict(\n",
    "        title=\"YMAX Price ($)\",\n",
    "        side=\"left\",\n",
    "        showgrid=False,\n",
    "        color=\"blue\"\n",
    "    ),\n",
    "    yaxis2=dict(\n",
    "        title=\"Portfolio Value ($)\",\n",
    "        side=\"right\",\n",
    "        overlaying=\"y\",\n",
    "        position=1.0,\n",
    "        showgrid=True,\n",
    "        gridwidth=1,\n",
    "        gridcolor=\"lightgray\",\n",
    "        color=\"red\"\n",
    "    ),\n",
    "    legend=dict(\n",
    "        x=1.0,\n",
    "        y=1.0,\n",
    "        xanchor='center',\n",
    "        yanchor='top',\n",
    "        bgcolor=\"rgba(255,255,255,0.7)\",\n",
    "        bordercolor=\"black\",\n",
    "        borderwidth=1\n",
    "    ),\n",
    "    hovermode=\"x unified\"\n",
    ")\n",
    "\n",
    "# ---------------------------------------------\n",
    "# STEP E: Show Interactive Figure\n",
    "# ---------------------------------------------\n",
    "fig.show()\n"
   ]
  },
  {
   "cell_type": "markdown",
   "metadata": {},
   "source": [
    "#### Performance Metrics for Strategy 2 on YMAX"
   ]
  },
  {
   "cell_type": "code",
   "execution_count": 27,
   "metadata": {},
   "outputs": [],
   "source": [
    "# ---------------------------------------------\n",
    "# STEP 1: Compute Performance Metrics for Strategy 2 on YMAX\n",
    "# ---------------------------------------------\n",
    "# Compute daily returns from portfolio value (if not already computed)\n",
    "ymax_df[\"Portfolio_Return\"] = ymax_df[\"Portfolio_Value\"].pct_change()\n",
    "\n",
    "performance_metrics = {}\n",
    "\n",
    "# Total Return (%)\n",
    "performance_metrics[\"Total Return (%)\"] = (ymax_df[\"Portfolio_Value\"].iloc[-1] / ymax_df[\"Portfolio_Value\"].iloc[0] - 1) * 100\n",
    "\n",
    "# CAGR (Compounded Annual Growth Rate) (%)\n",
    "num_days = (ymax_df[\"Date\"].iloc[-1] - ymax_df[\"Date\"].iloc[0]).days\n",
    "years = num_days / 365\n",
    "performance_metrics[\"CAGR (%)\"] = ((ymax_df[\"Portfolio_Value\"].iloc[-1] / ymax_df[\"Portfolio_Value\"].iloc[0]) ** (1 / years) - 1) * 100\n",
    "\n",
    "# Annualized Volatility (%)\n",
    "performance_metrics[\"Annualized Volatility (%)\"] = ymax_df[\"Portfolio_Return\"].std() * np.sqrt(252) * 100\n",
    "\n",
    "# Sharpe Ratio (assuming risk-free rate = 2%)\n",
    "risk_free_rate = 0.02\n",
    "sharpe_ratio = (performance_metrics[\"CAGR (%)\"] / 100 - risk_free_rate) / (performance_metrics[\"Annualized Volatility (%)\"] / 100)\n",
    "performance_metrics[\"Sharpe Ratio\"] = sharpe_ratio\n",
    "\n",
    "# Max Drawdown (%) Calculation\n",
    "rolling_max = ymax_df[\"Portfolio_Value\"].cummax()\n",
    "drawdown = (ymax_df[\"Portfolio_Value\"] / rolling_max) - 1  # Decimal values (e.g., -0.10 for -10%)\n",
    "drawdown_percentage = drawdown * 100  # Convert to percentage\n",
    "performance_metrics[\"Max Drawdown (%)\"] = drawdown_percentage.min()  # Most negative value\n",
    "\n",
    "# Calmar Ratio (CAGR / |Max Drawdown|)\n",
    "max_drawdown_abs = abs(performance_metrics[\"Max Drawdown (%)\"])\n",
    "performance_metrics[\"Calmar Ratio\"] = performance_metrics[\"CAGR (%)\"] / max_drawdown_abs if max_drawdown_abs != 0 else np.nan\n",
    "\n",
    "# Convert metrics to a DataFrame for display\n",
    "performance_df = pd.DataFrame(performance_metrics, index=[\"YMAX Strategy 2\"])"
   ]
  },
  {
   "cell_type": "code",
   "execution_count": 28,
   "metadata": {},
   "outputs": [
    {
     "data": {
      "image/png": "[encoded data removed]",
      "text/plain": [
       "<Figure size 1200x600 with 1 Axes>"
      ]
     },
     "metadata": {},
     "output_type": "display_data"
    }
   ],
   "source": [
    "# ---------------------------------------------\n",
    "# STEP 2: Plot Drawdown Over Time\n",
    "# ---------------------------------------------\n",
    "sns.set_style(\"whitegrid\")\n",
    "plt.figure(figsize=(12, 6))\n",
    "\n",
    "ax = sns.lineplot(\n",
    "    x=ymax_df[\"Date\"],\n",
    "    y=drawdown_percentage,\n",
    "    color=\"red\",\n",
    "    linewidth=2,\n",
    "    label=\"Drawdown (%)\"\n",
    ")\n",
    "\n",
    "# Format X-axis to display months\n",
    "ax.xaxis.set_major_locator(mdates.MonthLocator())\n",
    "ax.xaxis.set_major_formatter(mdates.DateFormatter(\"%Y-%m\"))\n",
    "plt.xticks(rotation=45, fontsize=12)\n",
    "plt.yticks(fontsize=12)\n",
    "\n",
    "# Format Y-axis labels as percentages (e.g., -1.00%, -2.00%)\n",
    "ax.yaxis.set_major_formatter(mticker.FuncFormatter(lambda y, pos: f\"{y:.2f}%\"))\n",
    "\n",
    "plt.xlabel(\"Date\", fontsize=14, fontweight=\"bold\")\n",
    "plt.ylabel(\"Drawdown (%)\", fontsize=14, fontweight=\"bold\")\n",
    "plt.title(\"📉 Drawdowns of YMAX Strategy 2 Over Time\", fontsize=16, fontweight=\"bold\", color=\"darkred\")\n",
    "\n",
    "# Add thick, colored grid lines\n",
    "plt.grid(True, linestyle=\"--\", linewidth=1.2, color=\"gray\")\n",
    "\n",
    "plt.legend(fontsize=12, loc=\"upper left\", frameon=True, shadow=True)\n",
    "plt.tight_layout()\n",
    "plt.show()\n"
   ]
  },
  {
   "cell_type": "code",
   "execution_count": 29,
   "metadata": {},
   "outputs": [
    {
     "data": {
      "text/html": [
       "<div>\n",
       "<style scoped>\n",
       "    .dataframe tbody tr th:only-of-type {\n",
       "        vertical-align: middle;\n",
       "    }\n",
       "\n",
       "    .dataframe tbody tr th {\n",
       "        vertical-align: top;\n",
       "    }\n",
       "\n",
       "    .dataframe thead th {\n",
       "        text-align: right;\n",
       "    }\n",
       "</style>\n",
       "<table border=\"1\" class=\"dataframe\">\n",
       "  <thead>\n",
       "    <tr style=\"text-align: right;\">\n",
       "      <th></th>\n",
       "      <th>Total Return (%)</th>\n",
       "      <th>CAGR (%)</th>\n",
       "      <th>Annualized Volatility (%)</th>\n",
       "      <th>Sharpe Ratio</th>\n",
       "      <th>Max Drawdown (%)</th>\n",
       "      <th>Calmar Ratio</th>\n",
       "    </tr>\n",
       "  </thead>\n",
       "  <tbody>\n",
       "    <tr>\n",
       "      <th>YMAX Strategy 2</th>\n",
       "      <td>7.09</td>\n",
       "      <td>7.43</td>\n",
       "      <td>3.26</td>\n",
       "      <td>1.67</td>\n",
       "      <td>-0.54</td>\n",
       "      <td>13.83</td>\n",
       "    </tr>\n",
       "  </tbody>\n",
       "</table>\n",
       "</div>"
      ],
      "text/plain": [
       "                 Total Return (%)  CAGR (%)  Annualized Volatility (%)  \\\n",
       "YMAX Strategy 2              7.09      7.43                       3.26   \n",
       "\n",
       "                 Sharpe Ratio  Max Drawdown (%)  Calmar Ratio  \n",
       "YMAX Strategy 2          1.67             -0.54         13.83  "
      ]
     },
     "execution_count": 29,
     "metadata": {},
     "output_type": "execute_result"
    }
   ],
   "source": [
    "# Display the performance metrics for YMAX\n",
    "performance_df_ymax = performance_df\n",
    "performance_df_ymax = performance_df_ymax.round(2)\n",
    "performance_df_ymax"
   ]
  },
  {
   "cell_type": "markdown",
   "metadata": {},
   "source": [
    "## YMAG BACKTEST"
   ]
  },
  {
   "cell_type": "code",
   "execution_count": 30,
   "metadata": {},
   "outputs": [
    {
     "data": {
      "image/png": "[encoded data removed]",
      "text/plain": [
       "<Figure size 1200x600 with 1 Axes>"
      ]
     },
     "metadata": {},
     "output_type": "display_data"
    },
    {
     "data": {
      "image/png": "[encoded data removed]",
      "text/plain": [
       "<Figure size 1200x400 with 1 Axes>"
      ]
     },
     "metadata": {},
     "output_type": "display_data"
    }
   ],
   "source": [
    "# ------------------------------------------------------------\n",
    "# 1) PREPARE THE DATA\n",
    "# ------------------------------------------------------------\n",
    "# Copy the cleaned DataFrame for YMAG backtesting.\n",
    "ymag_df = Prices_and_stats_df.copy()\n",
    "\n",
    "# Define initial portfolio value\n",
    "initial_investment = 10000.0  # $10,000 starting capital\n",
    "\n",
    "# Sort by date to ensure chronological order\n",
    "ymag_df.sort_values(\"Date\", inplace=True)\n",
    "ymag_df.reset_index(drop=True, inplace=True)\n",
    "\n",
    "# ------------------------------------------------------------\n",
    "# 2) DEFINE HELPER FUNCTIONS FOR CONDITIONS\n",
    "# ------------------------------------------------------------\n",
    "def in_market_condition(vix, vvix):\n",
    "    \"\"\"\n",
    "    Condition for staying in the market once we're already invested:\n",
    "    15 <= VIX <= 20, and 90 <= VVIX < 100.\n",
    "    \"\"\"\n",
    "    return (15 <= vix <= 20) and (90 <= vvix < 100)\n",
    "\n",
    "def reentry_condition(vix, vvix):\n",
    "    \"\"\"\n",
    "    Stricter condition for re-entering the market after an exit:\n",
    "    15 <= VIX <= 20, and 90 <= VVIX <= 95.\n",
    "    \"\"\"\n",
    "    return (15 <= vix <= 20) and (90 <= vvix <= 95)\n",
    "\n",
    "def exit_condition(vix, vvix):\n",
    "    \"\"\"\n",
    "    Exit the market if VIX < 15 or VIX > 20, or if VVIX < 90 or VVIX >= 100.\n",
    "    \"\"\"\n",
    "    return (vix < 15) or (vix > 20) or (vvix < 90) or (vvix >= 100)\n",
    "\n",
    "# ------------------------------------------------------------\n",
    "# 3) SET UP BACKTEST COLUMNS AND INITIAL VALUES\n",
    "# ------------------------------------------------------------\n",
    "ymag_df[\"Portfolio_Value\"] = np.nan\n",
    "ymag_df.loc[0, \"Portfolio_Value\"] = initial_investment\n",
    "\n",
    "# Boolean: are we currently invested?\n",
    "ymag_df[\"In_Market\"] = False\n",
    "ymag_df.loc[0, \"In_Market\"] = False\n",
    "\n",
    "# Track how many shares of YMAG we hold\n",
    "ymag_df[\"Shares_Held\"] = 0.0\n",
    "ymag_df.loc[0, \"Shares_Held\"] = 0.0\n",
    "\n",
    "# Strategy label for each day\n",
    "ymag_df[\"Strategy\"] = \"No Investment\"\n",
    "\n",
    "# ------------------------------------------------------------\n",
    "# 4) BACKTEST LOOP\n",
    "# ------------------------------------------------------------\n",
    "for i in range(1, len(ymag_df)):\n",
    "    # Carry forward previous day's portfolio value, in_market status, and shares\n",
    "    ymag_df.loc[i, \"Portfolio_Value\"] = ymag_df.loc[i-1, \"Portfolio_Value\"]\n",
    "    ymag_df.loc[i, \"In_Market\"] = ymag_df.loc[i-1, \"In_Market\"]\n",
    "    ymag_df.loc[i, \"Shares_Held\"] = ymag_df.loc[i-1, \"Shares_Held\"]\n",
    "    \n",
    "    # Current day data\n",
    "    vix_today = ymag_df.loc[i, \"VIX\"]\n",
    "    vvix_today = ymag_df.loc[i, \"VVIX\"]\n",
    "    ymag_price_today = ymag_df.loc[i, \"YMAG\"]\n",
    "    ymag_div_today = ymag_df.loc[i, \"YMAG Dividends\"]\n",
    "    \n",
    "    # Check if we are currently in the market\n",
    "    currently_in_market = ymag_df.loc[i-1, \"In_Market\"]\n",
    "    \n",
    "    if currently_in_market:\n",
    "        # If in the market, check if exit condition is met\n",
    "        if exit_condition(vix_today, vvix_today):\n",
    "            # EXIT: close position -> set shares to 0, mark as not in market\n",
    "            ymag_df.loc[i, \"In_Market\"] = False\n",
    "            ymag_df.loc[i, \"Shares_Held\"] = 0.0\n",
    "            ymag_df.loc[i, \"Strategy\"] = \"No Investment\"\n",
    "            # Portfolio value is carried forward (no update)\n",
    "        else:\n",
    "            # REMAIN IN MARKET: update portfolio value based on today's YMAG price and dividend\n",
    "            shares_held = ymag_df.loc[i, \"Shares_Held\"]\n",
    "            new_portfolio_value = shares_held * (ymag_price_today + ymag_div_today)\n",
    "            ymag_df.loc[i, \"Portfolio_Value\"] = new_portfolio_value\n",
    "            ymag_df.loc[i, \"Strategy\"] = \"Long YMAG\"\n",
    "    else:\n",
    "        # If not in the market, check re-entry condition\n",
    "        if reentry_condition(vix_today, vvix_today):\n",
    "            # ENTER: invest all available cash\n",
    "            cash_available = ymag_df.loc[i, \"Portfolio_Value\"]\n",
    "            if ymag_price_today > 0:\n",
    "                shares_bought = cash_available / ymag_price_today\n",
    "                ymag_df.loc[i, \"Shares_Held\"] = shares_bought\n",
    "                ymag_df.loc[i, \"In_Market\"] = True\n",
    "                ymag_df.loc[i, \"Strategy\"] = \"Long YMAG\"\n",
    "                # Update portfolio value immediately with today's price and dividend\n",
    "                new_portfolio_value = shares_bought * (ymag_price_today + ymag_div_today)\n",
    "                ymag_df.loc[i, \"Portfolio_Value\"] = new_portfolio_value\n",
    "            else:\n",
    "                ymag_df.loc[i, \"Strategy\"] = \"No Investment\"\n",
    "        else:\n",
    "            # Otherwise, remain out of the market\n",
    "            ymag_df.loc[i, \"Strategy\"] = \"No Investment\"\n",
    "\n",
    "# ------------------------------------------------------------\n",
    "# 5) COMPUTE DAILY RETURNS\n",
    "# ------------------------------------------------------------\n",
    "ymag_df[\"Portfolio_Return\"] = ymag_df[\"Portfolio_Value\"].pct_change()\n",
    "\n",
    "# ------------------------------------------------------------\n",
    "# 6) VISUALIZE RESULTS\n",
    "# ------------------------------------------------------------\n",
    "sns.set_style(\"whitegrid\")\n",
    "\n",
    "# (A) Portfolio Performance Plot for YMAG\n",
    "plt.figure(figsize=(12, 6))\n",
    "ax = sns.lineplot(\n",
    "    x=ymag_df[\"Date\"],\n",
    "    y=ymag_df[\"Portfolio_Value\"],\n",
    "    color=\"green\",\n",
    "    linewidth=2.5,\n",
    "    label=\"Portfolio Value (YMAG)\"\n",
    ")\n",
    "ax.xaxis.set_major_locator(mdates.MonthLocator())\n",
    "ax.xaxis.set_major_formatter(mdates.DateFormatter(\"%Y-%m\"))\n",
    "plt.xlabel(\"Date\", fontsize=14, fontweight=\"bold\")\n",
    "plt.ylabel(\"Portfolio Value ($)\", fontsize=14, fontweight=\"bold\")\n",
    "plt.title(\"📈 Portfolio Performance for YMAG (Strategy 2)\", fontsize=16, fontweight=\"bold\", color=\"darkgreen\")\n",
    "plt.xticks(rotation=45, fontsize=12)\n",
    "plt.yticks(fontsize=12)\n",
    "plt.grid(True, linestyle=\"--\", linewidth=1.2, color=\"gray\")\n",
    "plt.legend(fontsize=12, loc=\"upper left\", frameon=True, shadow=True, edgecolor=\"black\")\n",
    "plt.show()\n",
    "\n",
    "# (B) Strategy Usage Over Time for YMAG\n",
    "plt.figure(figsize=(12, 4))\n",
    "ax = sns.barplot(\n",
    "    x=ymag_df[\"Strategy\"].value_counts().index,\n",
    "    y=ymag_df[\"Strategy\"].value_counts().values,\n",
    "    palette=[\"green\", \"red\", \"blue\"]\n",
    ")\n",
    "plt.xlabel(\"Strategy\", fontsize=14, fontweight=\"bold\")\n",
    "plt.ylabel(\"Number of Days\", fontsize=14, fontweight=\"bold\")\n",
    "plt.title(\"📊 Strategy 2 Distribution Over Time (YMAG)\", fontsize=16, fontweight=\"bold\", color=\"navy\")\n",
    "plt.xticks(rotation=45, fontsize=12)\n",
    "plt.grid(axis=\"y\", linestyle=\"--\", linewidth=1.2, color=\"gray\")\n",
    "plt.show()\n"
   ]
  },
  {
   "cell_type": "code",
   "execution_count": 31,
   "metadata": {},
   "outputs": [
    {
     "data": {
      "image/png": "[encoded data removed]",
      "text/plain": [
       "<Figure size 1200x600 with 2 Axes>"
      ]
     },
     "metadata": {},
     "output_type": "display_data"
    }
   ],
   "source": [
    "# ---------------------------------------------\n",
    "# STEP A: Identify Entry and Exit Days for YMAG\n",
    "# ---------------------------------------------\n",
    "# Entry Day = Yesterday was out of market, today is in market\n",
    "ymag_df[\"Entry\"] = (ymag_df[\"In_Market\"].shift(1) == False) & (ymag_df[\"In_Market\"] == True)\n",
    "\n",
    "# Exit Day = Yesterday was in market, today is out of market\n",
    "ymag_df[\"Exit\"] = (ymag_df[\"In_Market\"].shift(1) == True) & (ymag_df[\"In_Market\"] == False)\n",
    "\n",
    "# ---------------------------------------------\n",
    "# STEP B: Prepare Data for Plotting\n",
    "# ---------------------------------------------\n",
    "entry_days = ymag_df[ymag_df[\"Entry\"] == True]\n",
    "exit_days  = ymag_df[ymag_df[\"Exit\"] == True]\n",
    "\n",
    "# Sort data by date (just to be safe)\n",
    "ymag_df.sort_values(\"Date\", inplace=True)\n",
    "ymag_df.reset_index(drop=True, inplace=True)\n",
    "\n",
    "# ---------------------------------------------\n",
    "# STEP C: Create the Dual-Axis Plot for YMAG\n",
    "# ---------------------------------------------\n",
    "sns.set_style(\"whitegrid\")\n",
    "fig, ax1 = plt.subplots(figsize=(12, 6))\n",
    "\n",
    "# LEFT Y-AXIS: Plot YMAG Price\n",
    "ax1.set_xlabel(\"Date\", fontsize=14, fontweight=\"bold\")\n",
    "ax1.set_ylabel(\"YMAG Price ($)\", fontsize=14, fontweight=\"bold\", color=\"blue\")\n",
    "\n",
    "# Plot YMAG Price line\n",
    "line1, = ax1.plot(\n",
    "    ymag_df[\"Date\"],\n",
    "    ymag_df[\"YMAG\"],\n",
    "    color=\"blue\",\n",
    "    linewidth=2,\n",
    "    label=\"YMAG Price\"\n",
    ")\n",
    "\n",
    "# Add entry (^) and exit (v) markers on YMAG Price\n",
    "ax1.scatter(\n",
    "    entry_days[\"Date\"], \n",
    "    entry_days[\"YMAG\"], \n",
    "    marker=\"^\", \n",
    "    color=\"blue\", \n",
    "    s=100, \n",
    "    label=\"Entry\"\n",
    ")\n",
    "ax1.scatter(\n",
    "    exit_days[\"Date\"], \n",
    "    exit_days[\"YMAG\"], \n",
    "    marker=\"v\", \n",
    "    color=\"red\",\n",
    "    s=100, \n",
    "    label=\"Exit\"\n",
    ")\n",
    "\n",
    "# Make the left y-axis text blue for clarity\n",
    "ax1.tick_params(axis='y', labelcolor=\"blue\")\n",
    "\n",
    "# Format the date axis on x-axis\n",
    "ax1.xaxis.set_major_locator(mdates.MonthLocator())\n",
    "ax1.xaxis.set_major_formatter(mdates.DateFormatter(\"%Y-%m\"))\n",
    "plt.xticks(rotation=45, fontsize=11)\n",
    "plt.yticks(fontsize=11)\n",
    "\n",
    "# ---------------------------------------------\n",
    "# RIGHT Y-AXIS: Plot Portfolio Value\n",
    "# ---------------------------------------------\n",
    "ax2 = ax1.twinx()  # share the same x-axis\n",
    "ax2.set_ylabel(\"Portfolio Value ($)\", fontsize=14, fontweight=\"bold\", color=\"red\")\n",
    "\n",
    "line2, = ax2.plot(\n",
    "    ymag_df[\"Date\"],\n",
    "    ymag_df[\"Portfolio_Value\"],\n",
    "    color=\"red\",\n",
    "    linewidth=2,\n",
    "    label=\"Portfolio Value\"\n",
    ")\n",
    "ax2.tick_params(axis='y', labelcolor=\"red\")\n",
    "plt.yticks(fontsize=11)\n",
    "\n",
    "# ---------------------------------------------\n",
    "# STEP D: Enhance the Plot\n",
    "# ---------------------------------------------\n",
    "plt.title(\"YMAG Price (Left Axis) vs. Portfolio Value (Right Axis)\", fontsize=16, fontweight=\"bold\")\n",
    "plt.grid(True, linestyle=\"--\", linewidth=1.2, color=\"gray\")\n",
    "\n",
    "# Combine legends from both axes\n",
    "lines_1, labels_1 = ax1.get_legend_handles_labels()\n",
    "lines_2, labels_2 = ax2.get_legend_handles_labels()\n",
    "ax1.legend(lines_1 + lines_2, labels_1 + labels_2, loc=\"upper center\", frameon=True, shadow=True)\n",
    "\n",
    "plt.tight_layout()\n",
    "plt.show()\n"
   ]
  },
  {
   "cell_type": "code",
   "execution_count": 32,
   "metadata": {},
   "outputs": [
    {
     "data": {
      "application/vnd.plotly.v1+json": {
       "config": {
        "plotlyServerURL": "https://plot.ly"
       },
       "data": [
        {
         "line": {
          "color": "blue",
          "width": 2
         },
         "mode": "lines",
         "name": "YMAG Price",
         "type": "scatter",
         "x": [
          "2024-03-01T00:00:00.000000000",
          "2024-03-04T00:00:00.000000000",
          "2024-03-05T00:00:00.000000000",
          "2024-03-06T00:00:00.000000000",
          "2024-03-07T00:00:00.000000000",
          "2024-03-08T00:00:00.000000000",
          "2024-03-11T00:00:00.000000000",
          "2024-03-12T00:00:00.000000000",
          "2024-03-13T00:00:00.000000000",
          "2024-03-14T00:00:00.000000000",
          "2024-03-15T00:00:00.000000000",
          "2024-03-18T00:00:00.000000000",
          "2024-03-19T00:00:00.000000000",
          "2024-03-20T00:00:00.000000000",
          "2024-03-21T00:00:00.000000000",
          "2024-03-22T00:00:00.000000000",
          "2024-03-25T00:00:00.000000000",
          "2024-03-26T00:00:00.000000000",
          "2024-03-27T00:00:00.000000000",
          "2024-03-28T00:00:00.000000000",
          "2024-04-01T00:00:00.000000000",
          "2024-04-02T00:00:00.000000000",
          "2024-04-03T00:00:00.000000000",
          "2024-04-04T00:00:00.000000000",
          "2024-04-05T00:00:00.000000000",
          "2024-04-08T00:00:00.000000000",
          "2024-04-09T00:00:00.000000000",
          "2024-04-10T00:00:00.000000000",
          "2024-04-11T00:00:00.000000000",
          "2024-04-12T00:00:00.000000000",
          "2024-04-15T00:00:00.000000000",
          "2024-04-16T00:00:00.000000000",
          "2024-04-17T00:00:00.000000000",
          "2024-04-18T00:00:00.000000000",
          "2024-04-19T00:00:00.000000000",
          "2024-04-22T00:00:00.000000000",
          "2024-04-23T00:00:00.000000000",
          "2024-04-24T00:00:00.000000000",
          "2024-04-25T00:00:00.000000000",
          "2024-04-26T00:00:00.000000000",
          "2024-04-29T00:00:00.000000000",
          "2024-04-30T00:00:00.000000000",
          "2024-05-01T00:00:00.000000000",
          "2024-05-02T00:00:00.000000000",
          "2024-05-03T00:00:00.000000000",
          "2024-05-06T00:00:00.000000000",
          "2024-05-07T00:00:00.000000000",
          "2024-05-08T00:00:00.000000000",
          "2024-05-09T00:00:00.000000000",
          "2024-05-10T00:00:00.000000000",
          "2024-05-13T00:00:00.000000000",
          "2024-05-14T00:00:00.000000000",
          "2024-05-15T00:00:00.000000000",
          "2024-05-16T00:00:00.000000000",
          "2024-05-17T00:00:00.000000000",
          "2024-05-20T00:00:00.000000000",
          "2024-05-21T00:00:00.000000000",
          "2024-05-22T00:00:00.000000000",
          "2024-05-23T00:00:00.000000000",
          "2024-05-24T00:00:00.000000000",
          "2024-05-28T00:00:00.000000000",
          "2024-05-29T00:00:00.000000000",
          "2024-05-30T00:00:00.000000000",
          "2024-05-31T00:00:00.000000000",
          "2024-06-03T00:00:00.000000000",
          "2024-06-04T00:00:00.000000000",
          "2024-06-05T00:00:00.000000000",
          "2024-06-06T00:00:00.000000000",
          "2024-06-07T00:00:00.000000000",
          "2024-06-10T00:00:00.000000000",
          "2024-06-11T00:00:00.000000000",
          "2024-06-12T00:00:00.000000000",
          "2024-06-13T00:00:00.000000000",
          "2024-06-14T00:00:00.000000000",
          "2024-06-17T00:00:00.000000000",
          "2024-06-18T00:00:00.000000000",
          "2024-06-20T00:00:00.000000000",
          "2024-06-21T00:00:00.000000000",
          "2024-06-24T00:00:00.000000000",
          "2024-06-25T00:00:00.000000000",
          "2024-06-26T00:00:00.000000000",
          "2024-06-27T00:00:00.000000000",
          "2024-06-28T00:00:00.000000000",
          "2024-07-01T00:00:00.000000000",
          "2024-07-02T00:00:00.000000000",
          "2024-07-03T00:00:00.000000000",
          "2024-07-05T00:00:00.000000000",
          "2024-07-08T00:00:00.000000000",
          "2024-07-09T00:00:00.000000000",
          "2024-07-10T00:00:00.000000000",
          "2024-07-11T00:00:00.000000000",
          "2024-07-12T00:00:00.000000000",
          "2024-07-15T00:00:00.000000000",
          "2024-07-16T00:00:00.000000000",
          "2024-07-17T00:00:00.000000000",
          "2024-07-18T00:00:00.000000000",
          "2024-07-19T00:00:00.000000000",
          "2024-07-22T00:00:00.000000000",
          "2024-07-23T00:00:00.000000000",
          "2024-07-24T00:00:00.000000000",
          "2024-07-25T00:00:00.000000000",
          "2024-07-26T00:00:00.000000000",
          "2024-07-29T00:00:00.000000000",
          "2024-07-30T00:00:00.000000000",
          "2024-07-31T00:00:00.000000000",
          "2024-08-01T00:00:00.000000000",
          "2024-08-02T00:00:00.000000000",
          "2024-08-05T00:00:00.000000000",
          "2024-08-06T00:00:00.000000000",
          "2024-08-07T00:00:00.000000000",
          "2024-08-08T00:00:00.000000000",
          "2024-08-09T00:00:00.000000000",
          "2024-08-12T00:00:00.000000000",
          "2024-08-13T00:00:00.000000000",
          "2024-08-14T00:00:00.000000000",
          "2024-08-15T00:00:00.000000000",
          "2024-08-16T00:00:00.000000000",
          "2024-08-19T00:00:00.000000000",
          "2024-08-20T00:00:00.000000000",
          "2024-08-21T00:00:00.000000000",
          "2024-08-22T00:00:00.000000000",
          "2024-08-23T00:00:00.000000000",
          "2024-08-26T00:00:00.000000000",
          "2024-08-27T00:00:00.000000000",
          "2024-08-28T00:00:00.000000000",
          "2024-08-29T00:00:00.000000000",
          "2024-08-30T00:00:00.000000000",
          "2024-09-03T00:00:00.000000000",
          "2024-09-04T00:00:00.000000000",
          "2024-09-05T00:00:00.000000000",
          "2024-09-06T00:00:00.000000000",
          "2024-09-09T00:00:00.000000000",
          "2024-09-10T00:00:00.000000000",
          "2024-09-11T00:00:00.000000000",
          "2024-09-12T00:00:00.000000000",
          "2024-09-13T00:00:00.000000000",
          "2024-09-16T00:00:00.000000000",
          "2024-09-17T00:00:00.000000000",
          "2024-09-18T00:00:00.000000000",
          "2024-09-19T00:00:00.000000000",
          "2024-09-20T00:00:00.000000000",
          "2024-09-23T00:00:00.000000000",
          "2024-09-24T00:00:00.000000000",
          "2024-09-25T00:00:00.000000000",
          "2024-09-26T00:00:00.000000000",
          "2024-09-27T00:00:00.000000000",
          "2024-09-30T00:00:00.000000000",
          "2024-10-01T00:00:00.000000000",
          "2024-10-02T00:00:00.000000000",
          "2024-10-03T00:00:00.000000000",
          "2024-10-04T00:00:00.000000000",
          "2024-10-07T00:00:00.000000000",
          "2024-10-08T00:00:00.000000000",
          "2024-10-09T00:00:00.000000000",
          "2024-10-10T00:00:00.000000000",
          "2024-10-11T00:00:00.000000000",
          "2024-10-14T00:00:00.000000000",
          "2024-10-15T00:00:00.000000000",
          "2024-10-16T00:00:00.000000000",
          "2024-10-17T00:00:00.000000000",
          "2024-10-18T00:00:00.000000000",
          "2024-10-21T00:00:00.000000000",
          "2024-10-22T00:00:00.000000000",
          "2024-10-23T00:00:00.000000000",
          "2024-10-24T00:00:00.000000000",
          "2024-10-25T00:00:00.000000000",
          "2024-10-28T00:00:00.000000000",
          "2024-10-29T00:00:00.000000000",
          "2024-10-30T00:00:00.000000000",
          "2024-10-31T00:00:00.000000000",
          "2024-11-01T00:00:00.000000000",
          "2024-11-04T00:00:00.000000000",
          "2024-11-05T00:00:00.000000000",
          "2024-11-06T00:00:00.000000000",
          "2024-11-07T00:00:00.000000000",
          "2024-11-08T00:00:00.000000000",
          "2024-11-11T00:00:00.000000000",
          "2024-11-12T00:00:00.000000000",
          "2024-11-13T00:00:00.000000000",
          "2024-11-14T00:00:00.000000000",
          "2024-11-15T00:00:00.000000000",
          "2024-11-18T00:00:00.000000000",
          "2024-11-19T00:00:00.000000000",
          "2024-11-20T00:00:00.000000000",
          "2024-11-21T00:00:00.000000000",
          "2024-11-22T00:00:00.000000000",
          "2024-11-25T00:00:00.000000000",
          "2024-11-26T00:00:00.000000000",
          "2024-11-27T00:00:00.000000000",
          "2024-11-29T00:00:00.000000000",
          "2024-12-02T00:00:00.000000000",
          "2024-12-03T00:00:00.000000000",
          "2024-12-04T00:00:00.000000000",
          "2024-12-05T00:00:00.000000000",
          "2024-12-06T00:00:00.000000000",
          "2024-12-09T00:00:00.000000000",
          "2024-12-10T00:00:00.000000000",
          "2024-12-11T00:00:00.000000000",
          "2024-12-12T00:00:00.000000000",
          "2024-12-13T00:00:00.000000000",
          "2024-12-16T00:00:00.000000000",
          "2024-12-17T00:00:00.000000000",
          "2024-12-18T00:00:00.000000000",
          "2024-12-19T00:00:00.000000000",
          "2024-12-20T00:00:00.000000000",
          "2024-12-23T00:00:00.000000000",
          "2024-12-24T00:00:00.000000000",
          "2024-12-26T00:00:00.000000000",
          "2024-12-27T00:00:00.000000000",
          "2024-12-30T00:00:00.000000000",
          "2024-12-31T00:00:00.000000000",
          "2025-01-02T00:00:00.000000000",
          "2025-01-03T00:00:00.000000000",
          "2025-01-06T00:00:00.000000000",
          "2025-01-07T00:00:00.000000000",
          "2025-01-08T00:00:00.000000000",
          "2025-01-10T00:00:00.000000000",
          "2025-01-13T00:00:00.000000000",
          "2025-01-14T00:00:00.000000000",
          "2025-01-15T00:00:00.000000000",
          "2025-01-16T00:00:00.000000000",
          "2025-01-17T00:00:00.000000000",
          "2025-01-21T00:00:00.000000000",
          "2025-01-22T00:00:00.000000000",
          "2025-01-23T00:00:00.000000000",
          "2025-01-24T00:00:00.000000000",
          "2025-01-27T00:00:00.000000000",
          "2025-01-28T00:00:00.000000000",
          "2025-01-29T00:00:00.000000000",
          "2025-01-30T00:00:00.000000000",
          "2025-01-31T00:00:00.000000000",
          "2025-02-03T00:00:00.000000000",
          "2025-02-04T00:00:00.000000000",
          "2025-02-05T00:00:00.000000000",
          "2025-02-06T00:00:00.000000000",
          "2025-02-07T00:00:00.000000000",
          "2025-02-10T00:00:00.000000000",
          "2025-02-11T00:00:00.000000000",
          "2025-02-12T00:00:00.000000000",
          "2025-02-13T00:00:00.000000000"
         ],
         "y": {
          "bdata": "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",
          "dtype": "f8"
         },
         "yaxis": "y"
        },
        {
         "marker": {
          "color": "blue",
          "size": 12,
          "symbol": "triangle-up"
         },
         "mode": "markers",
         "name": "Entry",
         "type": "scatter",
         "x": [
          "2024-04-04T00:00:00.000000000",
          "2024-04-10T00:00:00.000000000",
          "2024-07-18T00:00:00.000000000",
          "2024-07-26T00:00:00.000000000",
          "2024-08-27T00:00:00.000000000",
          "2024-08-30T00:00:00.000000000",
          "2024-09-20T00:00:00.000000000",
          "2024-11-18T00:00:00.000000000",
          "2025-01-03T00:00:00.000000000"
         ],
         "y": {
          "bdata": "FK5H4XpUNEDhehSuR6E0QIXrUbgeBTRAPQrXo3A9M0CF61G4HgUzQB+F61G4HjNAPQrXo3A9M0Bcj8L1KFwzQDMzMzMzMzNA",
          "dtype": "f8"
         },
         "yaxis": "y"
        },
        {
         "marker": {
          "color": "red",
          "size": 12,
          "symbol": "triangle-down"
         },
         "mode": "markers",
         "name": "Exit",
         "type": "scatter",
         "x": [
          "2024-04-08T00:00:00.000000000",
          "2024-04-11T00:00:00.000000000",
          "2024-07-22T00:00:00.000000000",
          "2024-08-01T00:00:00.000000000",
          "2024-08-28T00:00:00.000000000",
          "2024-09-03T00:00:00.000000000",
          "2024-09-26T00:00:00.000000000",
          "2024-11-20T00:00:00.000000000",
          "2025-01-07T00:00:00.000000000"
         ],
         "y": {
          "bdata": "XI/C9SicNEAzMzMzM/M0QDMzMzMzMzRA9ihcj8J1M0CamZmZmdkyQB+F61G4njJA4XoUrkdhM0CF61G4HoUzQNejcD0KFzNA",
          "dtype": "f8"
         },
         "yaxis": "y"
        },
        {
         "line": {
          "color": "red",
          "width": 2
         },
         "mode": "lines",
         "name": "Portfolio Value",
         "type": "scatter",
         "x": [
          "2024-03-01T00:00:00.000000000",
          "2024-03-04T00:00:00.000000000",
          "2024-03-05T00:00:00.000000000",
          "2024-03-06T00:00:00.000000000",
          "2024-03-07T00:00:00.000000000",
          "2024-03-08T00:00:00.000000000",
          "2024-03-11T00:00:00.000000000",
          "2024-03-12T00:00:00.000000000",
          "2024-03-13T00:00:00.000000000",
          "2024-03-14T00:00:00.000000000",
          "2024-03-15T00:00:00.000000000",
          "2024-03-18T00:00:00.000000000",
          "2024-03-19T00:00:00.000000000",
          "2024-03-20T00:00:00.000000000",
          "2024-03-21T00:00:00.000000000",
          "2024-03-22T00:00:00.000000000",
          "2024-03-25T00:00:00.000000000",
          "2024-03-26T00:00:00.000000000",
          "2024-03-27T00:00:00.000000000",
          "2024-03-28T00:00:00.000000000",
          "2024-04-01T00:00:00.000000000",
          "2024-04-02T00:00:00.000000000",
          "2024-04-03T00:00:00.000000000",
          "2024-04-04T00:00:00.000000000",
          "2024-04-05T00:00:00.000000000",
          "2024-04-08T00:00:00.000000000",
          "2024-04-09T00:00:00.000000000",
          "2024-04-10T00:00:00.000000000",
          "2024-04-11T00:00:00.000000000",
          "2024-04-12T00:00:00.000000000",
          "2024-04-15T00:00:00.000000000",
          "2024-04-16T00:00:00.000000000",
          "2024-04-17T00:00:00.000000000",
          "2024-04-18T00:00:00.000000000",
          "2024-04-19T00:00:00.000000000",
          "2024-04-22T00:00:00.000000000",
          "2024-04-23T00:00:00.000000000",
          "2024-04-24T00:00:00.000000000",
          "2024-04-25T00:00:00.000000000",
          "2024-04-26T00:00:00.000000000",
          "2024-04-29T00:00:00.000000000",
          "2024-04-30T00:00:00.000000000",
          "2024-05-01T00:00:00.000000000",
          "2024-05-02T00:00:00.000000000",
          "2024-05-03T00:00:00.000000000",
          "2024-05-06T00:00:00.000000000",
          "2024-05-07T00:00:00.000000000",
          "2024-05-08T00:00:00.000000000",
          "2024-05-09T00:00:00.000000000",
          "2024-05-10T00:00:00.000000000",
          "2024-05-13T00:00:00.000000000",
          "2024-05-14T00:00:00.000000000",
          "2024-05-15T00:00:00.000000000",
          "2024-05-16T00:00:00.000000000",
          "2024-05-17T00:00:00.000000000",
          "2024-05-20T00:00:00.000000000",
          "2024-05-21T00:00:00.000000000",
          "2024-05-22T00:00:00.000000000",
          "2024-05-23T00:00:00.000000000",
          "2024-05-24T00:00:00.000000000",
          "2024-05-28T00:00:00.000000000",
          "2024-05-29T00:00:00.000000000",
          "2024-05-30T00:00:00.000000000",
          "2024-05-31T00:00:00.000000000",
          "2024-06-03T00:00:00.000000000",
          "2024-06-04T00:00:00.000000000",
          "2024-06-05T00:00:00.000000000",
          "2024-06-06T00:00:00.000000000",
          "2024-06-07T00:00:00.000000000",
          "2024-06-10T00:00:00.000000000",
          "2024-06-11T00:00:00.000000000",
          "2024-06-12T00:00:00.000000000",
          "2024-06-13T00:00:00.000000000",
          "2024-06-14T00:00:00.000000000",
          "2024-06-17T00:00:00.000000000",
          "2024-06-18T00:00:00.000000000",
          "2024-06-20T00:00:00.000000000",
          "2024-06-21T00:00:00.000000000",
          "2024-06-24T00:00:00.000000000",
          "2024-06-25T00:00:00.000000000",
          "2024-06-26T00:00:00.000000000",
          "2024-06-27T00:00:00.000000000",
          "2024-06-28T00:00:00.000000000",
          "2024-07-01T00:00:00.000000000",
          "2024-07-02T00:00:00.000000000",
          "2024-07-03T00:00:00.000000000",
          "2024-07-05T00:00:00.000000000",
          "2024-07-08T00:00:00.000000000",
          "2024-07-09T00:00:00.000000000",
          "2024-07-10T00:00:00.000000000",
          "2024-07-11T00:00:00.000000000",
          "2024-07-12T00:00:00.000000000",
          "2024-07-15T00:00:00.000000000",
          "2024-07-16T00:00:00.000000000",
          "2024-07-17T00:00:00.000000000",
          "2024-07-18T00:00:00.000000000",
          "2024-07-19T00:00:00.000000000",
          "2024-07-22T00:00:00.000000000",
          "2024-07-23T00:00:00.000000000",
          "2024-07-24T00:00:00.000000000",
          "2024-07-25T00:00:00.000000000",
          "2024-07-26T00:00:00.000000000",
          "2024-07-29T00:00:00.000000000",
          "2024-07-30T00:00:00.000000000",
          "2024-07-31T00:00:00.000000000",
          "2024-08-01T00:00:00.000000000",
          "2024-08-02T00:00:00.000000000",
          "2024-08-05T00:00:00.000000000",
          "2024-08-06T00:00:00.000000000",
          "2024-08-07T00:00:00.000000000",
          "2024-08-08T00:00:00.000000000",
          "2024-08-09T00:00:00.000000000",
          "2024-08-12T00:00:00.000000000",
          "2024-08-13T00:00:00.000000000",
          "2024-08-14T00:00:00.000000000",
          "2024-08-15T00:00:00.000000000",
          "2024-08-16T00:00:00.000000000",
          "2024-08-19T00:00:00.000000000",
          "2024-08-20T00:00:00.000000000",
          "2024-08-21T00:00:00.000000000",
          "2024-08-22T00:00:00.000000000",
          "2024-08-23T00:00:00.000000000",
          "2024-08-26T00:00:00.000000000",
          "2024-08-27T00:00:00.000000000",
          "2024-08-28T00:00:00.000000000",
          "2024-08-29T00:00:00.000000000",
          "2024-08-30T00:00:00.000000000",
          "2024-09-03T00:00:00.000000000",
          "2024-09-04T00:00:00.000000000",
          "2024-09-05T00:00:00.000000000",
          "2024-09-06T00:00:00.000000000",
          "2024-09-09T00:00:00.000000000",
          "2024-09-10T00:00:00.000000000",
          "2024-09-11T00:00:00.000000000",
          "2024-09-12T00:00:00.000000000",
          "2024-09-13T00:00:00.000000000",
          "2024-09-16T00:00:00.000000000",
          "2024-09-17T00:00:00.000000000",
          "2024-09-18T00:00:00.000000000",
          "2024-09-19T00:00:00.000000000",
          "2024-09-20T00:00:00.000000000",
          "2024-09-23T00:00:00.000000000",
          "2024-09-24T00:00:00.000000000",
          "2024-09-25T00:00:00.000000000",
          "2024-09-26T00:00:00.000000000",
          "2024-09-27T00:00:00.000000000",
          "2024-09-30T00:00:00.000000000",
          "2024-10-01T00:00:00.000000000",
          "2024-10-02T00:00:00.000000000",
          "2024-10-03T00:00:00.000000000",
          "2024-10-04T00:00:00.000000000",
          "2024-10-07T00:00:00.000000000",
          "2024-10-08T00:00:00.000000000",
          "2024-10-09T00:00:00.000000000",
          "2024-10-10T00:00:00.000000000",
          "2024-10-11T00:00:00.000000000",
          "2024-10-14T00:00:00.000000000",
          "2024-10-15T00:00:00.000000000",
          "2024-10-16T00:00:00.000000000",
          "2024-10-17T00:00:00.000000000",
          "2024-10-18T00:00:00.000000000",
          "2024-10-21T00:00:00.000000000",
          "2024-10-22T00:00:00.000000000",
          "2024-10-23T00:00:00.000000000",
          "2024-10-24T00:00:00.000000000",
          "2024-10-25T00:00:00.000000000",
          "2024-10-28T00:00:00.000000000",
          "2024-10-29T00:00:00.000000000",
          "2024-10-30T00:00:00.000000000",
          "2024-10-31T00:00:00.000000000",
          "2024-11-01T00:00:00.000000000",
          "2024-11-04T00:00:00.000000000",
          "2024-11-05T00:00:00.000000000",
          "2024-11-06T00:00:00.000000000",
          "2024-11-07T00:00:00.000000000",
          "2024-11-08T00:00:00.000000000",
          "2024-11-11T00:00:00.000000000",
          "2024-11-12T00:00:00.000000000",
          "2024-11-13T00:00:00.000000000",
          "2024-11-14T00:00:00.000000000",
          "2024-11-15T00:00:00.000000000",
          "2024-11-18T00:00:00.000000000",
          "2024-11-19T00:00:00.000000000",
          "2024-11-20T00:00:00.000000000",
          "2024-11-21T00:00:00.000000000",
          "2024-11-22T00:00:00.000000000",
          "2024-11-25T00:00:00.000000000",
          "2024-11-26T00:00:00.000000000",
          "2024-11-27T00:00:00.000000000",
          "2024-11-29T00:00:00.000000000",
          "2024-12-02T00:00:00.000000000",
          "2024-12-03T00:00:00.000000000",
          "2024-12-04T00:00:00.000000000",
          "2024-12-05T00:00:00.000000000",
          "2024-12-06T00:00:00.000000000",
          "2024-12-09T00:00:00.000000000",
          "2024-12-10T00:00:00.000000000",
          "2024-12-11T00:00:00.000000000",
          "2024-12-12T00:00:00.000000000",
          "2024-12-13T00:00:00.000000000",
          "2024-12-16T00:00:00.000000000",
          "2024-12-17T00:00:00.000000000",
          "2024-12-18T00:00:00.000000000",
          "2024-12-19T00:00:00.000000000",
          "2024-12-20T00:00:00.000000000",
          "2024-12-23T00:00:00.000000000",
          "2024-12-24T00:00:00.000000000",
          "2024-12-26T00:00:00.000000000",
          "2024-12-27T00:00:00.000000000",
          "2024-12-30T00:00:00.000000000",
          "2024-12-31T00:00:00.000000000",
          "2025-01-02T00:00:00.000000000",
          "2025-01-03T00:00:00.000000000",
          "2025-01-06T00:00:00.000000000",
          "2025-01-07T00:00:00.000000000",
          "2025-01-08T00:00:00.000000000",
          "2025-01-10T00:00:00.000000000",
          "2025-01-13T00:00:00.000000000",
          "2025-01-14T00:00:00.000000000",
          "2025-01-15T00:00:00.000000000",
          "2025-01-16T00:00:00.000000000",
          "2025-01-17T00:00:00.000000000",
          "2025-01-21T00:00:00.000000000",
          "2025-01-22T00:00:00.000000000",
          "2025-01-23T00:00:00.000000000",
          "2025-01-24T00:00:00.000000000",
          "2025-01-27T00:00:00.000000000",
          "2025-01-28T00:00:00.000000000",
          "2025-01-29T00:00:00.000000000",
          "2025-01-30T00:00:00.000000000",
          "2025-01-31T00:00:00.000000000",
          "2025-02-03T00:00:00.000000000",
          "2025-02-04T00:00:00.000000000",
          "2025-02-05T00:00:00.000000000",
          "2025-02-06T00:00:00.000000000",
          "2025-02-07T00:00:00.000000000",
          "2025-02-10T00:00:00.000000000",
          "2025-02-11T00:00:00.000000000",
          "2025-02-12T00:00:00.000000000",
          "2025-02-13T00:00:00.000000000"
         ],
         "y": {
          "bdata": "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",
          "dtype": "f8"
         },
         "yaxis": "y2"
        }
       ],
       "layout": {
        "hovermode": "x unified",
        "legend": {
         "bgcolor": "rgba(255,255,255,0.7)",
         "bordercolor": "black",
         "borderwidth": 1,
         "x": 0.5,
         "xanchor": "center",
         "y": 1,
         "yanchor": "top"
        },
        "template": {
         "data": {
          "bar": [
           {
            "error_x": {
             "color": "#2a3f5f"
            },
            "error_y": {
             "color": "#2a3f5f"
            },
            "marker": {
             "line": {
              "color": "#E5ECF6",
              "width": 0.5
             },
             "pattern": {
              "fillmode": "overlay",
              "size": 10,
              "solidity": 0.2
             }
            },
            "type": "bar"
           }
          ],
          "barpolar": [
           {
            "marker": {
             "line": {
              "color": "#E5ECF6",
              "width": 0.5
             },
             "pattern": {
              "fillmode": "overlay",
              "size": 10,
              "solidity": 0.2
             }
            },
            "type": "barpolar"
           }
          ],
          "carpet": [
           {
            "aaxis": {
             "endlinecolor": "#2a3f5f",
             "gridcolor": "white",
             "linecolor": "white",
             "minorgridcolor": "white",
             "startlinecolor": "#2a3f5f"
            },
            "baxis": {
             "endlinecolor": "#2a3f5f",
             "gridcolor": "white",
             "linecolor": "white",
             "minorgridcolor": "white",
             "startlinecolor": "#2a3f5f"
            },
            "type": "carpet"
           }
          ],
          "choropleth": [
           {
            "colorbar": {
             "outlinewidth": 0,
             "ticks": ""
            },
            "type": "choropleth"
           }
          ],
          "contour": [
           {
            "colorbar": {
             "outlinewidth": 0,
             "ticks": ""
            },
            "colorscale": [
             [
              0,
              "#0d0887"
             ],
             [
              0.1111111111111111,
              "#46039f"
             ],
             [
              0.2222222222222222,
              "#7201a8"
             ],
             [
              0.3333333333333333,
              "#9c179e"
             ],
             [
              0.4444444444444444,
              "#bd3786"
             ],
             [
              0.5555555555555556,
              "#d8576b"
             ],
             [
              0.6666666666666666,
              "#ed7953"
             ],
             [
              0.7777777777777778,
              "#fb9f3a"
             ],
             [
              0.8888888888888888,
              "#fdca26"
             ],
             [
              1,
              "#f0f921"
             ]
            ],
            "type": "contour"
           }
          ],
          "contourcarpet": [
           {
            "colorbar": {
             "outlinewidth": 0,
             "ticks": ""
            },
            "type": "contourcarpet"
           }
          ],
          "heatmap": [
           {
            "colorbar": {
             "outlinewidth": 0,
             "ticks": ""
            },
            "colorscale": [
             [
              0,
              "#0d0887"
             ],
             [
              0.1111111111111111,
              "#46039f"
             ],
             [
              0.2222222222222222,
              "#7201a8"
             ],
             [
              0.3333333333333333,
              "#9c179e"
             ],
             [
              0.4444444444444444,
              "#bd3786"
             ],
             [
              0.5555555555555556,
              "#d8576b"
             ],
             [
              0.6666666666666666,
              "#ed7953"
             ],
             [
              0.7777777777777778,
              "#fb9f3a"
             ],
             [
              0.8888888888888888,
              "#fdca26"
             ],
             [
              1,
              "#f0f921"
             ]
            ],
            "type": "heatmap"
           }
          ],
          "histogram": [
           {
            "marker": {
             "pattern": {
              "fillmode": "overlay",
              "size": 10,
              "solidity": 0.2
             }
            },
            "type": "histogram"
           }
          ],
          "histogram2d": [
           {
            "colorbar": {
             "outlinewidth": 0,
             "ticks": ""
            },
            "colorscale": [
             [
              0,
              "#0d0887"
             ],
             [
              0.1111111111111111,
              "#46039f"
             ],
             [
              0.2222222222222222,
              "#7201a8"
             ],
             [
              0.3333333333333333,
              "#9c179e"
             ],
             [
              0.4444444444444444,
              "#bd3786"
             ],
             [
              0.5555555555555556,
              "#d8576b"
             ],
             [
              0.6666666666666666,
              "#ed7953"
             ],
             [
              0.7777777777777778,
              "#fb9f3a"
             ],
             [
              0.8888888888888888,
              "#fdca26"
             ],
             [
              1,
              "#f0f921"
             ]
            ],
            "type": "histogram2d"
           }
          ],
          "histogram2dcontour": [
           {
            "colorbar": {
             "outlinewidth": 0,
             "ticks": ""
            },
            "colorscale": [
             [
              0,
              "#0d0887"
             ],
             [
              0.1111111111111111,
              "#46039f"
             ],
             [
              0.2222222222222222,
              "#7201a8"
             ],
             [
              0.3333333333333333,
              "#9c179e"
             ],
             [
              0.4444444444444444,
              "#bd3786"
             ],
             [
              0.5555555555555556,
              "#d8576b"
             ],
             [
              0.6666666666666666,
              "#ed7953"
             ],
             [
              0.7777777777777778,
              "#fb9f3a"
             ],
             [
              0.8888888888888888,
              "#fdca26"
             ],
             [
              1,
              "#f0f921"
             ]
            ],
            "type": "histogram2dcontour"
           }
          ],
          "mesh3d": [
           {
            "colorbar": {
             "outlinewidth": 0,
             "ticks": ""
            },
            "type": "mesh3d"
           }
          ],
          "parcoords": [
           {
            "line": {
             "colorbar": {
              "outlinewidth": 0,
              "ticks": ""
             }
            },
            "type": "parcoords"
           }
          ],
          "pie": [
           {
            "automargin": true,
            "type": "pie"
           }
          ],
          "scatter": [
           {
            "fillpattern": {
             "fillmode": "overlay",
             "size": 10,
             "solidity": 0.2
            },
            "type": "scatter"
           }
          ],
          "scatter3d": [
           {
            "line": {
             "colorbar": {
              "outlinewidth": 0,
              "ticks": ""
             }
            },
            "marker": {
             "colorbar": {
              "outlinewidth": 0,
              "ticks": ""
             }
            },
            "type": "scatter3d"
           }
          ],
          "scattercarpet": [
           {
            "marker": {
             "colorbar": {
              "outlinewidth": 0,
              "ticks": ""
             }
            },
            "type": "scattercarpet"
           }
          ],
          "scattergeo": [
           {
            "marker": {
             "colorbar": {
              "outlinewidth": 0,
              "ticks": ""
             }
            },
            "type": "scattergeo"
           }
          ],
          "scattergl": [
           {
            "marker": {
             "colorbar": {
              "outlinewidth": 0,
              "ticks": ""
             }
            },
            "type": "scattergl"
           }
          ],
          "scattermap": [
           {
            "marker": {
             "colorbar": {
              "outlinewidth": 0,
              "ticks": ""
             }
            },
            "type": "scattermap"
           }
          ],
          "scattermapbox": [
           {
            "marker": {
             "colorbar": {
              "outlinewidth": 0,
              "ticks": ""
             }
            },
            "type": "scattermapbox"
           }
          ],
          "scatterpolar": [
           {
            "marker": {
             "colorbar": {
              "outlinewidth": 0,
              "ticks": ""
             }
            },
            "type": "scatterpolar"
           }
          ],
          "scatterpolargl": [
           {
            "marker": {
             "colorbar": {
              "outlinewidth": 0,
              "ticks": ""
             }
            },
            "type": "scatterpolargl"
           }
          ],
          "scatterternary": [
           {
            "marker": {
             "colorbar": {
              "outlinewidth": 0,
              "ticks": ""
             }
            },
            "type": "scatterternary"
           }
          ],
          "surface": [
           {
            "colorbar": {
             "outlinewidth": 0,
             "ticks": ""
            },
            "colorscale": [
             [
              0,
              "#0d0887"
             ],
             [
              0.1111111111111111,
              "#46039f"
             ],
             [
              0.2222222222222222,
              "#7201a8"
             ],
             [
              0.3333333333333333,
              "#9c179e"
             ],
             [
              0.4444444444444444,
              "#bd3786"
             ],
             [
              0.5555555555555556,
              "#d8576b"
             ],
             [
              0.6666666666666666,
              "#ed7953"
             ],
             [
              0.7777777777777778,
              "#fb9f3a"
             ],
             [
              0.8888888888888888,
              "#fdca26"
             ],
             [
              1,
              "#f0f921"
             ]
            ],
            "type": "surface"
           }
          ],
          "table": [
           {
            "cells": {
             "fill": {
              "color": "#EBF0F8"
             },
             "line": {
              "color": "white"
             }
            },
            "header": {
             "fill": {
              "color": "#C8D4E3"
             },
             "line": {
              "color": "white"
             }
            },
            "type": "table"
           }
          ]
         },
         "layout": {
          "annotationdefaults": {
           "arrowcolor": "#2a3f5f",
           "arrowhead": 0,
           "arrowwidth": 1
          },
          "autotypenumbers": "strict",
          "coloraxis": {
           "colorbar": {
            "outlinewidth": 0,
            "ticks": ""
           }
          },
          "colorscale": {
           "diverging": [
            [
             0,
             "#8e0152"
            ],
            [
             0.1,
             "#c51b7d"
            ],
            [
             0.2,
             "#de77ae"
            ],
            [
             0.3,
             "#f1b6da"
            ],
            [
             0.4,
             "#fde0ef"
            ],
            [
             0.5,
             "#f7f7f7"
            ],
            [
             0.6,
             "#e6f5d0"
            ],
            [
             0.7,
             "#b8e186"
            ],
            [
             0.8,
             "#7fbc41"
            ],
            [
             0.9,
             "#4d9221"
            ],
            [
             1,
             "#276419"
            ]
           ],
           "sequential": [
            [
             0,
             "#0d0887"
            ],
            [
             0.1111111111111111,
             "#46039f"
            ],
            [
             0.2222222222222222,
             "#7201a8"
            ],
            [
             0.3333333333333333,
             "#9c179e"
            ],
            [
             0.4444444444444444,
             "#bd3786"
            ],
            [
             0.5555555555555556,
             "#d8576b"
            ],
            [
             0.6666666666666666,
             "#ed7953"
            ],
            [
             0.7777777777777778,
             "#fb9f3a"
            ],
            [
             0.8888888888888888,
             "#fdca26"
            ],
            [
             1,
             "#f0f921"
            ]
           ],
           "sequentialminus": [
            [
             0,
             "#0d0887"
            ],
            [
             0.1111111111111111,
             "#46039f"
            ],
            [
             0.2222222222222222,
             "#7201a8"
            ],
            [
             0.3333333333333333,
             "#9c179e"
            ],
            [
             0.4444444444444444,
             "#bd3786"
            ],
            [
             0.5555555555555556,
             "#d8576b"
            ],
            [
             0.6666666666666666,
             "#ed7953"
            ],
            [
             0.7777777777777778,
             "#fb9f3a"
            ],
            [
             0.8888888888888888,
             "#fdca26"
            ],
            [
             1,
             "#f0f921"
            ]
           ]
          },
          "colorway": [
           "#636efa",
           "#EF553B",
           "#00cc96",
           "#ab63fa",
           "#FFA15A",
           "#19d3f3",
           "#FF6692",
           "#B6E880",
           "#FF97FF",
           "#FECB52"
          ],
          "font": {
           "color": "#2a3f5f"
          },
          "geo": {
           "bgcolor": "white",
           "lakecolor": "white",
           "landcolor": "#E5ECF6",
           "showlakes": true,
           "showland": true,
           "subunitcolor": "white"
          },
          "hoverlabel": {
           "align": "left"
          },
          "hovermode": "closest",
          "mapbox": {
           "style": "light"
          },
          "paper_bgcolor": "white",
          "plot_bgcolor": "#E5ECF6",
          "polar": {
           "angularaxis": {
            "gridcolor": "white",
            "linecolor": "white",
            "ticks": ""
           },
           "bgcolor": "#E5ECF6",
           "radialaxis": {
            "gridcolor": "white",
            "linecolor": "white",
            "ticks": ""
           }
          },
          "scene": {
           "xaxis": {
            "backgroundcolor": "#E5ECF6",
            "gridcolor": "white",
            "gridwidth": 2,
            "linecolor": "white",
            "showbackground": true,
            "ticks": "",
            "zerolinecolor": "white"
           },
           "yaxis": {
            "backgroundcolor": "#E5ECF6",
            "gridcolor": "white",
            "gridwidth": 2,
            "linecolor": "white",
            "showbackground": true,
            "ticks": "",
            "zerolinecolor": "white"
           },
           "zaxis": {
            "backgroundcolor": "#E5ECF6",
            "gridcolor": "white",
            "gridwidth": 2,
            "linecolor": "white",
            "showbackground": true,
            "ticks": "",
            "zerolinecolor": "white"
           }
          },
          "shapedefaults": {
           "line": {
            "color": "#2a3f5f"
           }
          },
          "ternary": {
           "aaxis": {
            "gridcolor": "white",
            "linecolor": "white",
            "ticks": ""
           },
           "baxis": {
            "gridcolor": "white",
            "linecolor": "white",
            "ticks": ""
           },
           "bgcolor": "#E5ECF6",
           "caxis": {
            "gridcolor": "white",
            "linecolor": "white",
            "ticks": ""
           }
          },
          "title": {
           "x": 0.05
          },
          "xaxis": {
           "automargin": true,
           "gridcolor": "white",
           "linecolor": "white",
           "ticks": "",
           "title": {
            "standoff": 15
           },
           "zerolinecolor": "white",
           "zerolinewidth": 2
          },
          "yaxis": {
           "automargin": true,
           "gridcolor": "white",
           "linecolor": "white",
           "ticks": "",
           "title": {
            "standoff": 15
           },
           "zerolinecolor": "white",
           "zerolinewidth": 2
          }
         }
        },
        "title": {
         "text": "YMAG Price (Left Axis) vs. Portfolio Value (Right Axis) - Interactive Plotly"
        },
        "xaxis": {
         "tickangle": 45,
         "tickformat": "%Y-%m",
         "title": {
          "text": "Date"
         },
         "type": "date"
        },
        "yaxis": {
         "color": "blue",
         "showgrid": false,
         "side": "left",
         "title": {
          "text": "YMAG Price ($)"
         }
        },
        "yaxis2": {
         "color": "red",
         "gridcolor": "lightgray",
         "gridwidth": 1,
         "overlaying": "y",
         "position": 1,
         "showgrid": true,
         "side": "right",
         "title": {
          "text": "Portfolio Value ($)"
         }
        }
       }
      }
     },
     "metadata": {},
     "output_type": "display_data"
    }
   ],
   "source": [
    "# ---------------------------------------------\n",
    "# STEP A: Identify Entry and Exit Days for YMAG\n",
    "# ---------------------------------------------\n",
    "ymag_df[\"Entry\"] = (ymag_df[\"In_Market\"].shift(1) == False) & (ymag_df[\"In_Market\"] == True)\n",
    "ymag_df[\"Exit\"]  = (ymag_df[\"In_Market\"].shift(1) == True) & (ymag_df[\"In_Market\"] == False)\n",
    "\n",
    "# ---------------------------------------------\n",
    "# STEP B: Prepare Data for Plotting\n",
    "# ---------------------------------------------\n",
    "entry_days = ymag_df[ymag_df[\"Entry\"] == True]\n",
    "exit_days  = ymag_df[ymag_df[\"Exit\"] == True]\n",
    "\n",
    "# Sort data by date (just to be safe)\n",
    "ymag_df.sort_values(\"Date\", inplace=True)\n",
    "ymag_df.reset_index(drop=True, inplace=True)\n",
    "\n",
    "# ---------------------------------------------\n",
    "# STEP C: Create the Plotly Figure for YMAG\n",
    "# ---------------------------------------------\n",
    "fig = go.Figure()\n",
    "\n",
    "# 1) YMAG Price (Left Axis)\n",
    "fig.add_trace(\n",
    "    go.Scatter(\n",
    "        x=ymag_df[\"Date\"],\n",
    "        y=ymag_df[\"YMAG\"],\n",
    "        mode=\"lines\",\n",
    "        line=dict(color=\"blue\", width=2),\n",
    "        name=\"YMAG Price\",\n",
    "        yaxis=\"y1\"\n",
    "    )\n",
    ")\n",
    "\n",
    "# 2) Entry Markers (triangle-up)\n",
    "fig.add_trace(\n",
    "    go.Scatter(\n",
    "        x=entry_days[\"Date\"],\n",
    "        y=entry_days[\"YMAG\"],\n",
    "        mode=\"markers\",\n",
    "        marker=dict(symbol=\"triangle-up\", color=\"blue\", size=12),\n",
    "        name=\"Entry\",\n",
    "        yaxis=\"y1\"\n",
    "    )\n",
    ")\n",
    "\n",
    "# 3) Exit Markers (triangle-down)\n",
    "fig.add_trace(\n",
    "    go.Scatter(\n",
    "        x=exit_days[\"Date\"],\n",
    "        y=exit_days[\"YMAG\"],\n",
    "        mode=\"markers\",\n",
    "        marker=dict(symbol=\"triangle-down\", color=\"red\", size=12),\n",
    "        name=\"Exit\",\n",
    "        yaxis=\"y1\"\n",
    "    )\n",
    ")\n",
    "\n",
    "# 4) Portfolio Value (Right Axis)\n",
    "fig.add_trace(\n",
    "    go.Scatter(\n",
    "        x=ymag_df[\"Date\"],\n",
    "        y=ymag_df[\"Portfolio_Value\"],\n",
    "        mode=\"lines\",\n",
    "        line=dict(color=\"red\", width=2),\n",
    "        name=\"Portfolio Value\",\n",
    "        yaxis=\"y2\"\n",
    "    )\n",
    ")\n",
    "\n",
    "# ---------------------------------------------\n",
    "# STEP D: Configure Layout for Dual Axis and Legend Position\n",
    "# ---------------------------------------------\n",
    "fig.update_layout(\n",
    "    title=\"YMAG Price (Left Axis) vs. Portfolio Value (Right Axis) - Interactive Plotly\",\n",
    "    xaxis=dict(\n",
    "        title=\"Date\",\n",
    "        type=\"date\",\n",
    "        tickformat=\"%Y-%m\",\n",
    "        tickangle=45\n",
    "    ),\n",
    "    yaxis=dict(\n",
    "        title=\"YMAG Price ($)\",\n",
    "        side=\"left\",\n",
    "        showgrid=False,\n",
    "        color=\"blue\"\n",
    "    ),\n",
    "    yaxis2=dict(\n",
    "        title=\"Portfolio Value ($)\",\n",
    "        side=\"right\",\n",
    "        overlaying=\"y\",\n",
    "        position=1.0,\n",
    "        showgrid=True,\n",
    "        gridwidth=1,\n",
    "        gridcolor=\"lightgray\",\n",
    "        color=\"red\"\n",
    "    ),\n",
    "    legend=dict(\n",
    "        x=0.5,\n",
    "        y=1.0,\n",
    "        xanchor='center',\n",
    "        yanchor='top',\n",
    "        bgcolor=\"rgba(255,255,255,0.7)\",\n",
    "        bordercolor=\"black\",\n",
    "        borderwidth=1\n",
    "    ),\n",
    "    hovermode=\"x unified\"\n",
    ")\n",
    "\n",
    "# ---------------------------------------------\n",
    "# STEP E: Show Interactive Figure\n",
    "# ---------------------------------------------\n",
    "fig.show()\n"
   ]
  },
  {
   "cell_type": "markdown",
   "metadata": {},
   "source": [
    "#####  PERFORMANCE METRICS FOR YMAG"
   ]
  },
  {
   "cell_type": "code",
   "execution_count": 33,
   "metadata": {},
   "outputs": [],
   "source": [
    "# ------------------------------------------------------------\n",
    "# 1) COMPUTE PERFORMANCE METRICS FOR YMAG\n",
    "# ------------------------------------------------------------\n",
    "\n",
    "# Compute daily returns from portfolio value for YMAG\n",
    "ymag_df[\"Portfolio_Return\"] = ymag_df[\"Portfolio_Value\"].pct_change()\n",
    "\n",
    "performance_metrics_ymag = {}\n",
    "\n",
    "# Total Return (%) for YMAG\n",
    "performance_metrics_ymag[\"Total Return (%)\"] = (ymag_df[\"Portfolio_Value\"].iloc[-1] / ymag_df[\"Portfolio_Value\"].iloc[0] - 1) * 100\n",
    "\n",
    "# CAGR (Compounded Annual Growth Rate) for YMAG\n",
    "num_days = (ymag_df[\"Date\"].iloc[-1] - ymag_df[\"Date\"].iloc[0]).days\n",
    "years = num_days / 365\n",
    "performance_metrics_ymag[\"CAGR (%)\"] = ((ymag_df[\"Portfolio_Value\"].iloc[-1] / ymag_df[\"Portfolio_Value\"].iloc[0]) ** (1 / years) - 1) * 100\n",
    "\n",
    "# Annualized Volatility (%) for YMAG\n",
    "performance_metrics_ymag[\"Annualized Volatility (%)\"] = ymag_df[\"Portfolio_Return\"].std() * np.sqrt(252) * 100\n",
    "\n",
    "# Sharpe Ratio for YMAG (assuming risk-free rate = 2%)\n",
    "risk_free_rate = 0.02\n",
    "sharpe_ratio_ymag = (performance_metrics_ymag[\"CAGR (%)\"] / 100 - risk_free_rate) / (performance_metrics_ymag[\"Annualized Volatility (%)\"] / 100)\n",
    "performance_metrics_ymag[\"Sharpe Ratio\"] = sharpe_ratio_ymag\n",
    "\n",
    "# Max Drawdown (%) Calculation for YMAG\n",
    "rolling_max_ymag = ymag_df[\"Portfolio_Value\"].cummax()\n",
    "drawdown_ymag = (ymag_df[\"Portfolio_Value\"] / rolling_max_ymag) - 1  # Decimal values\n",
    "drawdown_percentage_ymag = drawdown_ymag * 100  # Convert to percentage\n",
    "performance_metrics_ymag[\"Max Drawdown (%)\"] = drawdown_percentage_ymag.min()  # Most negative value\n",
    "\n",
    "# Calmar Ratio for YMAG (CAGR divided by absolute Max Drawdown)\n",
    "max_drawdown_abs_ymag = abs(performance_metrics_ymag[\"Max Drawdown (%)\"])\n",
    "performance_metrics_ymag[\"Calmar Ratio\"] = performance_metrics_ymag[\"CAGR (%)\"] / max_drawdown_abs_ymag if max_drawdown_abs_ymag != 0 else np.nan\n",
    "\n",
    "# Convert performance metrics to a DataFrame for display\n",
    "performance_df_ymag = pd.DataFrame(performance_metrics_ymag, index=[\"YMAG Strategy 2\"])\n"
   ]
  },
  {
   "cell_type": "code",
   "execution_count": 34,
   "metadata": {},
   "outputs": [
    {
     "data": {
      "image/png": "[encoded data removed]",
      "text/plain": [
       "<Figure size 1200x600 with 1 Axes>"
      ]
     },
     "metadata": {},
     "output_type": "display_data"
    }
   ],
   "source": [
    "# ------------------------------------------------------------\n",
    "# 2) PLOT DRAWDOWNS OVER TIME FOR YMAG\n",
    "# ------------------------------------------------------------\n",
    "sns.set_style(\"darkgrid\")\n",
    "plt.figure(figsize=(12, 6))\n",
    "\n",
    "ax = sns.lineplot(\n",
    "    x=ymag_df[\"Date\"],\n",
    "    y=drawdown_percentage_ymag,\n",
    "    color=\"red\",\n",
    "    linewidth=2,\n",
    "    label=\"Drawdown (%)\"\n",
    ")\n",
    "\n",
    "# Format X-axis to display one tick per month\n",
    "ax.xaxis.set_major_locator(mdates.MonthLocator())\n",
    "ax.xaxis.set_major_formatter(mdates.DateFormatter(\"%Y-%m\"))\n",
    "plt.xticks(rotation=45, fontsize=12)\n",
    "plt.yticks(fontsize=12)\n",
    "\n",
    "# Format Y-axis labels to show percentages with two decimal places\n",
    "ax.yaxis.set_major_formatter(mticker.FuncFormatter(lambda y, pos: f\"{y:.2f}%\"))\n",
    "\n",
    "plt.xlabel(\"Date\", fontsize=14, fontweight=\"bold\")\n",
    "plt.ylabel(\"Drawdown (%)\", fontsize=14, fontweight=\"bold\")\n",
    "plt.title(\"📉 Drawdowns of YMAG Strategy 2 Over Time\", fontsize=16, fontweight=\"bold\", color=\"darkred\")\n",
    "\n",
    "# Add thicker, colored grid lines for better visibility\n",
    "plt.grid(True, linestyle=\"--\", linewidth=1.2, color=\"gray\")\n",
    "plt.legend(fontsize=12, loc=\"upper left\", frameon=True, shadow=True)\n",
    "plt.tight_layout()\n",
    "plt.show()\n"
   ]
  },
  {
   "cell_type": "code",
   "execution_count": 35,
   "metadata": {},
   "outputs": [
    {
     "data": {
      "text/html": [
       "<div>\n",
       "<style scoped>\n",
       "    .dataframe tbody tr th:only-of-type {\n",
       "        vertical-align: middle;\n",
       "    }\n",
       "\n",
       "    .dataframe tbody tr th {\n",
       "        vertical-align: top;\n",
       "    }\n",
       "\n",
       "    .dataframe thead th {\n",
       "        text-align: right;\n",
       "    }\n",
       "</style>\n",
       "<table border=\"1\" class=\"dataframe\">\n",
       "  <thead>\n",
       "    <tr style=\"text-align: right;\">\n",
       "      <th></th>\n",
       "      <th>Total Return (%)</th>\n",
       "      <th>CAGR (%)</th>\n",
       "      <th>Annualized Volatility (%)</th>\n",
       "      <th>Sharpe Ratio</th>\n",
       "      <th>Max Drawdown (%)</th>\n",
       "      <th>Calmar Ratio</th>\n",
       "    </tr>\n",
       "  </thead>\n",
       "  <tbody>\n",
       "    <tr>\n",
       "      <th>YMAG Strategy 2</th>\n",
       "      <td>6.26</td>\n",
       "      <td>6.55</td>\n",
       "      <td>4.37</td>\n",
       "      <td>1.04</td>\n",
       "      <td>-1.77</td>\n",
       "      <td>3.71</td>\n",
       "    </tr>\n",
       "  </tbody>\n",
       "</table>\n",
       "</div>"
      ],
      "text/plain": [
       "                 Total Return (%)  CAGR (%)  Annualized Volatility (%)  \\\n",
       "YMAG Strategy 2              6.26      6.55                       4.37   \n",
       "\n",
       "                 Sharpe Ratio  Max Drawdown (%)  Calmar Ratio  \n",
       "YMAG Strategy 2          1.04             -1.77          3.71  "
      ]
     },
     "execution_count": 35,
     "metadata": {},
     "output_type": "execute_result"
    }
   ],
   "source": [
    "# Display the performance metrics for YMAX\n",
    "performance_df_ymag = performance_df_ymag.round(2)\n",
    "performance_df_ymag"
   ]
  },
  {
   "cell_type": "code",
   "execution_count": 36,
   "metadata": {},
   "outputs": [
    {
     "name": "stdout",
     "output_type": "stream",
     "text": [
      "✅ All DataFrames successfully saved to 'Strategy 2 Performance.xlsx'\n"
     ]
    }
   ],
   "source": [
    "# 1️⃣ Convert portfolio returns to 2-decimal percentage\n",
    "ymax_df[\"Portfolio_Return\"] = (ymax_df[\"Portfolio_Return\"] * 100).round(2)\n",
    "ymag_df[\"Portfolio_Return\"] = (ymag_df[\"Portfolio_Return\"] * 100).round(2)\n",
    "\n",
    "# 2️⃣ Rename the 'Portfolio_Return' column to 'Portfolio_Return (%)'\n",
    "ymax_df.rename(columns={\"Portfolio_Return\": \"Portfolio_Return (%)\"}, inplace=True)\n",
    "ymag_df.rename(columns={\"Portfolio_Return\": \"Portfolio_Return (%)\"}, inplace=True)\n",
    "\n",
    "# 3️⃣ Export the data to Excel\n",
    "output_filename = \"Strategy 2 Performance.xlsx\"\n",
    "\n",
    "with pd.ExcelWriter(output_filename, engine=\"xlsxwriter\") as writer:\n",
    "    # Sheet 1: Raw data (Prices_and_stats_df)\n",
    "    Prices_and_stats_df.to_excel(writer, sheet_name=\"Sheet1\", index=False)\n",
    "    \n",
    "    # Sheet 2: YMAX trading results\n",
    "    ymax_df.to_excel(writer, sheet_name=\"Ymax Trading Results\", index=False)\n",
    "    \n",
    "    # Sheet 3: YMAG trading results\n",
    "    ymag_df.to_excel(writer, sheet_name=\"YMAG Trading Results\", index=False)\n",
    "    \n",
    "    # Sheet 4: YMAX Performance Metrics\n",
    "    performance_df_ymax.to_excel(writer, sheet_name=\"YMAX Performance\", index=True)\n",
    "\n",
    "    # Sheet 5: YMAG Performance Metrics\n",
    "    performance_df_ymag.to_excel(writer, sheet_name=\"YMAG Performance\", index=True)\n",
    "\n",
    "print(f\"✅ All DataFrames successfully saved to '{output_filename}'\")\n"
   ]
  },
  {
   "cell_type": "code",
   "execution_count": null,
   "metadata": {},
   "outputs": [],
   "source": []
  },
  {
   "cell_type": "code",
   "execution_count": null,
   "metadata": {},
   "outputs": [],
   "source": []
  },
  {
   "cell_type": "markdown",
   "metadata": {},
   "source": [
    "### **📌 Investment Rules for Strategy 3:**\n",
    "1. **Rule 2**: If **VIX is above 20**, **Long YMAX/YMAG (no hedge)** and remain fully invested.\n",
    "2. **Rule 4**: If **VVIX goes above 100**, **exit the market** (close all positions).\n",
    "3. **Rule 5**: Re-enter the market when **VVIX drops back below 95 or 90** (to avoid losses and whipsaws).\n",
    "\n",
    "##### **📌 Summary**\n",
    "- **Exit conditions** are based on **VVIX spikes above 100**.\n",
    "- **Re-entry conditions** trigger only when **VVIX stabilizes under 95-90**.\n"
   ]
  },
  {
   "cell_type": "markdown",
   "metadata": {},
   "source": [
    "### **📌 Investment Rules for Strategy 4:**\n",
    "1. **Rule 1**: If **VIX is under 15**, **Long YMAX/YMAG (no hedge)** and backtest separately to analyze performance.\n",
    "2. **Rule 2**: If **VVIX goes above 100**, **exit the market** (close all positions).\n",
    "3. **Rule 3**: Re-enter the market when **VVIX drops back below 95 or 90** (to avoid losses and whipsaws).\n",
    "\n",
    "##### **📌 Summary**\n",
    "- **Exit conditions** are based on **VVIX spikes above 100**.\n",
    "- **Re-entry conditions** trigger only when **VVIX stabilizes under 95-90**.\n"
   ]
  },
  {
   "cell_type": "code",
   "execution_count": null,
   "metadata": {},
   "outputs": [],
   "source": []
  },
  {
   "cell_type": "code",
   "execution_count": null,
   "metadata": {},
   "outputs": [],
   "source": []
  },
  {
   "cell_type": "markdown",
   "metadata": {},
   "source": [
    "\n",
    "# Design of the web app. \n",
    "Have a header, header 1.\n",
    "- Have a list of strategies, strategy 1 is the correlation strategy, 2 is the indicator ranges strategy, 3 is another indicator strategy with different conditions 4 is the option to combine strategies\n",
    "- In the option to combine strategies, this is how we are going to do it, begin with strategy 1 for example, and if there is no investment in strategy 1 anymore, and there is investment in strategy 2, go to strategy 2, trade until, it closes by itself, that is it reaches a day/period of no investmnent, then checks back again if strategy 1 allows to investment under that condition and switches to it else closes it.\n",
    "\n",
    "- Under header 1, what we have is just description of the strategies, not the option to select the strategies yet.\n",
    "\n",
    "Have a Header 2 called Backtester\n",
    "- First option have the option to specify which asset/assets to backtest. User will select YMAX or YMAG, or Both. If user selects both, there will be side by side tabs to view their plots, and performace measures will be displayed together, eg YMAX in row 1 YMAG in row 2, etc\n",
    "- Next the user will specify which strategy to backtest, either strategy 1, 2, 3 or 4. If both, have been specified, have the option of which strategy will be prioritized as number 1, and which as 2, and so on\n",
    "\n",
    "\n",
    "after selecting the Assets, \n",
    "In strategy 1 of correlation, I need the following:\n",
    "- A slider to set the correlation window from 1 to 30, increments of 1,2,3, and so on.\n",
    "- plotly plot of Portfolio performance over time\n",
    "- plotly plot of the Entry and Exit plot\n",
    "- bar chart of strategy distribution over time\n",
    "- Plotly plot of Drawdwon over time\n",
    "- diplay performance summary results: Total Return (%), CAGR (%), Annualized Volatility (%), Sharpe Ratio, Max Drawdown (%), Calmar Ratio\n",
    "\n",
    "In strategy 2 and all the others, the visuals will be as above.\n",
    "\n",
    "\n",
    "\n",
    "the backtester will be in page called Backtester, these are the other pages with their content available from the sidebar navigation, (note the notes are placeholders, you will need to fill in the content where it says \"make a summary for me\").:"
   ]
  },
  {
   "cell_type": "code",
   "execution_count": null,
   "metadata": {},
   "outputs": [],
   "source": []
  },
  {
   "cell_type": "markdown",
   "metadata": {},
   "source": [
    "---\n",
    "the data being supplied is the prices of YMAX and YMAG and their dividends, then VIX, VVIX and QQQ Prices.\n",
    "\n",
    "Another feature of the web app is to have a different markdown page explaining updating of dividends and portfolio values, detailed description of the strategies like strategy 2, and much more other descriptions.\n",
    "\n",
    "Or maybe it can be a page with table of contents and headings."
   ]
  },
  {
   "cell_type": "code",
   "execution_count": null,
   "metadata": {},
   "outputs": [],
   "source": []
  },
  {
   "cell_type": "code",
   "execution_count": null,
   "metadata": {},
   "outputs": [],
   "source": []
  },
  {
   "cell_type": "code",
   "execution_count": null,
   "metadata": {},
   "outputs": [],
   "source": []
  },
  {
   "cell_type": "code",
   "execution_count": 41,
   "metadata": {},
   "outputs": [
    {
     "name": "stdout",
     "output_type": "stream",
     "text": [
      "<class 'pandas.core.frame.DataFrame'>\n",
      "RangeIndex: 1416 entries, 0 to 1415\n",
      "Data columns (total 6 columns):\n",
      " #   Column          Non-Null Count  Dtype         \n",
      "---  ------          --------------  -----         \n",
      " 0   Date            1416 non-null   datetime64[ns]\n",
      " 1   YMAX            1416 non-null   float64       \n",
      " 2   YMAX Dividends  1416 non-null   float64       \n",
      " 3   QQQ             1416 non-null   float64       \n",
      " 4   VVIX            1416 non-null   float64       \n",
      " 5   VIX             1416 non-null   float64       \n",
      "dtypes: datetime64[ns](1), float64(5)\n",
      "memory usage: 66.5 KB\n"
     ]
    }
   ],
   "source": [
    "# Import and prepare hourly data and drop the index column\n",
    "import pandas as pd\n",
    "hourly_data = pd.read_csv('YMAX_VIX_VVIX_QQQ_1H.csv')\n",
    "hourly_data['Date'] = pd.to_datetime(hourly_data['Date'])\n",
    "\n",
    "# drop the first column\n",
    "hourly_data = hourly_data.drop(columns=['Unnamed: 0'])\n",
    "hourly_data.info()\n"
   ]
  },
  {
   "cell_type": "code",
   "execution_count": null,
   "metadata": {},
   "outputs": [],
   "source": []
  },
  {
   "cell_type": "code",
   "execution_count": null,
   "metadata": {},
   "outputs": [],
   "source": []
  },
  {
   "cell_type": "code",
   "execution_count": null,
   "metadata": {},
   "outputs": [],
   "source": []
  },
  {
   "cell_type": "code",
   "execution_count": null,
   "metadata": {},
   "outputs": [],
   "source": []
  },
  {
   "cell_type": "code",
   "execution_count": 42,
   "metadata": {},
   "outputs": [
    {
     "data": {
      "application/vnd.plotly.v1+json": {
       "config": {
        "plotlyServerURL": "https://plot.ly"
       },
       "data": [
        {
         "hovertemplate": "Date=%{x}<br>Portfolio Value ($)=%{y}<extra></extra>",
         "legendgroup": "",
         "line": {
          "color": "blue",
          "dash": "solid",
          "width": 2
         },
         "marker": {
          "symbol": "circle"
         },
         "mode": "lines",
         "name": "",
         "showlegend": false,
         "type": "scattergl",
         "x": [
          "2024-01-31T14:30:00.000000000",
          "2024-01-31T16:30:00.000000000",
          "2024-01-31T19:30:00.000000000",
          "2024-01-31T20:30:00.000000000",
          "2024-02-01T14:30:00.000000000",
          "2024-02-01T17:30:00.000000000",
          "2024-02-01T20:30:00.000000000",
          "2024-02-02T14:30:00.000000000",
          "2024-02-05T14:30:00.000000000",
          "2024-02-05T18:30:00.000000000",
          "2024-02-05T19:30:00.000000000",
          "2024-02-06T14:30:00.000000000",
          "2024-02-07T14:30:00.000000000",
          "2024-02-07T15:30:00.000000000",
          "2024-02-07T17:30:00.000000000",
          "2024-02-07T18:30:00.000000000",
          "2024-02-08T15:30:00.000000000",
          "2024-02-09T17:30:00.000000000",
          "2024-02-09T19:30:00.000000000",
          "2024-02-12T14:30:00.000000000",
          "2024-02-12T15:30:00.000000000",
          "2024-02-12T19:30:00.000000000",
          "2024-02-13T14:30:00.000000000",
          "2024-02-13T15:30:00.000000000",
          "2024-02-13T16:30:00.000000000",
          "2024-02-13T19:30:00.000000000",
          "2024-02-14T15:30:00.000000000",
          "2024-02-15T14:30:00.000000000",
          "2024-02-15T15:30:00.000000000",
          "2024-02-15T18:30:00.000000000",
          "2024-02-16T14:30:00.000000000",
          "2024-02-20T14:30:00.000000000",
          "2024-02-20T15:30:00.000000000",
          "2024-02-20T16:30:00.000000000",
          "2024-02-20T20:30:00.000000000",
          "2024-02-21T16:30:00.000000000",
          "2024-02-21T19:30:00.000000000",
          "2024-02-27T15:30:00.000000000",
          "2024-02-27T16:30:00.000000000",
          "2024-02-27T17:30:00.000000000",
          "2024-02-28T14:30:00.000000000",
          "2024-02-28T17:30:00.000000000",
          "2024-02-28T19:30:00.000000000",
          "2024-03-01T14:30:00.000000000",
          "2024-03-01T15:30:00.000000000",
          "2024-03-01T16:30:00.000000000",
          "2024-03-01T17:30:00.000000000",
          "2024-03-01T18:30:00.000000000",
          "2024-03-04T15:30:00.000000000",
          "2024-03-04T16:30:00.000000000",
          "2024-03-05T14:30:00.000000000",
          "2024-03-05T16:30:00.000000000",
          "2024-03-05T20:30:00.000000000",
          "2024-03-06T14:30:00.000000000",
          "2024-03-07T14:30:00.000000000",
          "2024-03-08T14:30:00.000000000",
          "2024-03-08T15:30:00.000000000",
          "2024-03-08T16:30:00.000000000",
          "2024-03-08T18:30:00.000000000",
          "2024-03-08T20:30:00.000000000",
          "2024-03-11T13:30:00.000000000",
          "2024-03-11T14:30:00.000000000",
          "2024-03-11T15:30:00.000000000",
          "2024-03-11T17:30:00.000000000",
          "2024-03-11T18:30:00.000000000",
          "2024-03-11T19:30:00.000000000",
          "2024-03-12T19:30:00.000000000",
          "2024-03-13T13:30:00.000000000",
          "2024-03-13T14:30:00.000000000",
          "2024-03-13T15:30:00.000000000",
          "2024-03-13T18:30:00.000000000",
          "2024-03-14T13:30:00.000000000",
          "2024-03-14T14:30:00.000000000",
          "2024-03-14T16:30:00.000000000",
          "2024-03-14T17:30:00.000000000",
          "2024-03-15T13:30:00.000000000",
          "2024-03-18T13:30:00.000000000",
          "2024-03-18T17:30:00.000000000",
          "2024-03-18T18:30:00.000000000",
          "2024-03-19T13:30:00.000000000",
          "2024-03-19T14:30:00.000000000",
          "2024-03-19T15:30:00.000000000",
          "2024-03-20T17:30:00.000000000",
          "2024-03-21T13:30:00.000000000",
          "2024-03-21T15:30:00.000000000",
          "2024-03-21T16:30:00.000000000",
          "2024-03-21T17:30:00.000000000",
          "2024-03-22T13:30:00.000000000",
          "2024-03-25T13:30:00.000000000",
          "2024-03-25T18:30:00.000000000",
          "2024-03-26T13:30:00.000000000",
          "2024-03-27T14:30:00.000000000",
          "2024-03-27T16:30:00.000000000",
          "2024-03-27T18:30:00.000000000",
          "2024-04-01T14:30:00.000000000",
          "2024-04-01T19:30:00.000000000",
          "2024-04-02T17:30:00.000000000",
          "2024-04-03T18:30:00.000000000",
          "2024-04-04T13:30:00.000000000",
          "2024-04-04T19:30:00.000000000",
          "2024-04-05T16:30:00.000000000",
          "2024-04-05T19:30:00.000000000",
          "2024-04-08T13:30:00.000000000",
          "2024-04-08T14:30:00.000000000",
          "2024-04-08T15:30:00.000000000",
          "2024-04-08T16:30:00.000000000",
          "2024-04-08T17:30:00.000000000",
          "2024-04-09T13:30:00.000000000",
          "2024-04-09T17:30:00.000000000",
          "2024-04-09T18:30:00.000000000",
          "2024-04-10T13:30:00.000000000",
          "2024-04-10T17:30:00.000000000",
          "2024-04-11T15:30:00.000000000",
          "2024-04-11T16:30:00.000000000",
          "2024-04-12T13:30:00.000000000",
          "2024-04-12T14:30:00.000000000",
          "2024-04-12T15:30:00.000000000",
          "2024-04-12T16:30:00.000000000",
          "2024-04-12T17:30:00.000000000",
          "2024-04-16T13:30:00.000000000",
          "2024-04-16T16:30:00.000000000",
          "2024-04-16T18:30:00.000000000",
          "2024-04-17T13:30:00.000000000",
          "2024-04-17T15:30:00.000000000",
          "2024-04-17T16:30:00.000000000",
          "2024-04-18T13:30:00.000000000",
          "2024-04-18T15:30:00.000000000",
          "2024-04-18T16:30:00.000000000",
          "2024-04-19T13:30:00.000000000",
          "2024-04-19T14:30:00.000000000",
          "2024-04-19T15:30:00.000000000",
          "2024-04-19T16:30:00.000000000",
          "2024-04-19T17:30:00.000000000",
          "2024-04-19T19:30:00.000000000",
          "2024-04-22T13:30:00.000000000",
          "2024-04-22T14:30:00.000000000",
          "2024-04-22T15:30:00.000000000",
          "2024-04-24T14:30:00.000000000",
          "2024-04-26T14:30:00.000000000",
          "2024-04-26T15:30:00.000000000",
          "2024-04-26T16:30:00.000000000",
          "2024-04-26T18:30:00.000000000",
          "2024-04-29T18:30:00.000000000",
          "2024-04-29T19:30:00.000000000",
          "2024-04-30T13:30:00.000000000",
          "2024-04-30T15:30:00.000000000",
          "2024-04-30T19:30:00.000000000",
          "2024-05-01T14:30:00.000000000",
          "2024-05-01T17:30:00.000000000",
          "2024-05-01T18:30:00.000000000",
          "2024-05-02T13:30:00.000000000",
          "2024-05-02T17:30:00.000000000",
          "2024-05-03T13:30:00.000000000",
          "2024-05-03T14:30:00.000000000",
          "2024-05-03T18:30:00.000000000",
          "2024-05-03T19:30:00.000000000",
          "2024-05-06T13:30:00.000000000",
          "2024-05-06T14:30:00.000000000",
          "2024-05-06T15:30:00.000000000",
          "2024-05-06T16:30:00.000000000",
          "2024-05-06T19:30:00.000000000",
          "2024-05-07T13:30:00.000000000",
          "2024-05-07T17:30:00.000000000",
          "2024-05-07T18:30:00.000000000",
          "2024-05-07T19:30:00.000000000",
          "2024-05-08T13:30:00.000000000",
          "2024-05-08T14:30:00.000000000",
          "2024-05-08T19:30:00.000000000",
          "2024-05-09T13:30:00.000000000",
          "2024-05-09T14:30:00.000000000",
          "2024-05-09T19:30:00.000000000",
          "2024-05-10T13:30:00.000000000",
          "2024-05-10T14:30:00.000000000",
          "2024-05-10T15:30:00.000000000",
          "2024-05-10T17:30:00.000000000",
          "2024-05-10T19:30:00.000000000",
          "2024-05-13T13:30:00.000000000",
          "2024-05-13T14:30:00.000000000",
          "2024-05-13T15:30:00.000000000",
          "2024-05-13T16:30:00.000000000",
          "2024-05-13T17:30:00.000000000",
          "2024-05-13T19:30:00.000000000",
          "2024-05-14T13:30:00.000000000",
          "2024-05-14T14:30:00.000000000",
          "2024-05-14T15:30:00.000000000",
          "2024-05-14T16:30:00.000000000",
          "2024-05-14T18:30:00.000000000",
          "2024-05-14T19:30:00.000000000",
          "2024-05-15T13:30:00.000000000",
          "2024-05-15T14:30:00.000000000",
          "2024-05-15T15:30:00.000000000",
          "2024-05-15T18:30:00.000000000",
          "2024-05-15T19:30:00.000000000",
          "2024-05-16T13:30:00.000000000",
          "2024-05-16T15:30:00.000000000",
          "2024-05-16T19:30:00.000000000",
          "2024-05-17T13:30:00.000000000",
          "2024-05-17T15:30:00.000000000",
          "2024-05-17T17:30:00.000000000",
          "2024-05-17T18:30:00.000000000",
          "2024-05-17T19:30:00.000000000",
          "2024-05-20T13:30:00.000000000",
          "2024-05-20T14:30:00.000000000",
          "2024-05-20T15:30:00.000000000",
          "2024-05-20T19:30:00.000000000",
          "2024-05-21T13:30:00.000000000",
          "2024-05-21T19:30:00.000000000",
          "2024-05-22T14:30:00.000000000",
          "2024-05-22T19:30:00.000000000",
          "2024-05-23T13:30:00.000000000",
          "2024-05-23T17:30:00.000000000",
          "2024-05-23T18:30:00.000000000",
          "2024-05-23T19:30:00.000000000",
          "2024-05-24T13:30:00.000000000",
          "2024-05-24T14:30:00.000000000",
          "2024-05-24T15:30:00.000000000",
          "2024-05-24T18:30:00.000000000",
          "2024-05-24T19:30:00.000000000",
          "2024-05-28T13:30:00.000000000",
          "2024-05-28T15:30:00.000000000",
          "2024-05-28T16:30:00.000000000",
          "2024-05-28T19:30:00.000000000",
          "2024-05-29T13:30:00.000000000",
          "2024-05-29T19:30:00.000000000",
          "2024-05-30T13:30:00.000000000",
          "2024-05-30T14:30:00.000000000",
          "2024-05-30T16:30:00.000000000",
          "2024-05-30T17:30:00.000000000",
          "2024-05-30T19:30:00.000000000",
          "2024-05-31T13:30:00.000000000",
          "2024-05-31T14:30:00.000000000",
          "2024-05-31T15:30:00.000000000",
          "2024-05-31T16:30:00.000000000",
          "2024-05-31T17:30:00.000000000",
          "2024-05-31T18:30:00.000000000",
          "2024-06-03T13:30:00.000000000",
          "2024-06-03T14:30:00.000000000",
          "2024-06-03T15:30:00.000000000",
          "2024-06-03T16:30:00.000000000",
          "2024-06-03T17:30:00.000000000",
          "2024-06-03T18:30:00.000000000",
          "2024-06-03T19:30:00.000000000",
          "2024-06-04T13:30:00.000000000",
          "2024-06-04T14:30:00.000000000",
          "2024-06-04T16:30:00.000000000",
          "2024-06-04T17:30:00.000000000",
          "2024-06-04T19:30:00.000000000",
          "2024-06-05T13:30:00.000000000",
          "2024-06-05T14:30:00.000000000",
          "2024-06-05T15:30:00.000000000",
          "2024-06-05T17:30:00.000000000",
          "2024-06-05T19:30:00.000000000",
          "2024-06-06T13:30:00.000000000",
          "2024-06-06T15:30:00.000000000",
          "2024-06-06T16:30:00.000000000",
          "2024-06-06T19:30:00.000000000",
          "2024-06-07T13:30:00.000000000",
          "2024-06-07T17:30:00.000000000",
          "2024-06-07T19:30:00.000000000",
          "2024-06-10T13:30:00.000000000",
          "2024-06-10T14:30:00.000000000",
          "2024-06-10T15:30:00.000000000",
          "2024-06-10T16:30:00.000000000",
          "2024-06-10T17:30:00.000000000",
          "2024-06-10T18:30:00.000000000",
          "2024-06-11T13:30:00.000000000",
          "2024-06-11T15:30:00.000000000",
          "2024-06-11T16:30:00.000000000",
          "2024-06-11T18:30:00.000000000",
          "2024-06-11T19:30:00.000000000",
          "2024-06-12T13:30:00.000000000",
          "2024-06-12T14:30:00.000000000",
          "2024-06-12T15:30:00.000000000",
          "2024-06-12T17:30:00.000000000",
          "2024-06-12T18:30:00.000000000",
          "2024-06-12T19:30:00.000000000",
          "2024-06-13T13:30:00.000000000",
          "2024-06-13T14:30:00.000000000",
          "2024-06-13T15:30:00.000000000",
          "2024-06-13T16:30:00.000000000",
          "2024-06-13T17:30:00.000000000",
          "2024-06-13T18:30:00.000000000",
          "2024-06-13T19:30:00.000000000",
          "2024-06-14T13:30:00.000000000",
          "2024-06-14T14:30:00.000000000",
          "2024-06-14T15:30:00.000000000",
          "2024-06-14T16:30:00.000000000",
          "2024-06-14T17:30:00.000000000",
          "2024-06-14T19:30:00.000000000",
          "2024-06-17T13:30:00.000000000",
          "2024-06-17T15:30:00.000000000",
          "2024-06-17T16:30:00.000000000",
          "2024-06-17T17:30:00.000000000",
          "2024-06-17T19:30:00.000000000",
          "2024-06-18T13:30:00.000000000",
          "2024-06-18T14:30:00.000000000",
          "2024-06-18T15:30:00.000000000",
          "2024-06-18T17:30:00.000000000",
          "2024-06-18T18:30:00.000000000",
          "2024-06-18T19:30:00.000000000",
          "2024-06-20T13:30:00.000000000",
          "2024-06-20T14:30:00.000000000",
          "2024-06-20T15:30:00.000000000",
          "2024-06-20T16:30:00.000000000",
          "2024-06-20T19:30:00.000000000",
          "2024-06-21T13:30:00.000000000",
          "2024-06-21T15:30:00.000000000",
          "2024-06-21T17:30:00.000000000",
          "2024-06-24T13:30:00.000000000",
          "2024-06-24T14:30:00.000000000",
          "2024-06-24T15:30:00.000000000",
          "2024-06-24T16:30:00.000000000",
          "2024-06-24T19:30:00.000000000",
          "2024-06-25T13:30:00.000000000",
          "2024-06-25T14:30:00.000000000",
          "2024-06-25T15:30:00.000000000",
          "2024-06-25T16:30:00.000000000",
          "2024-06-25T17:30:00.000000000",
          "2024-06-25T18:30:00.000000000",
          "2024-06-25T19:30:00.000000000",
          "2024-06-26T13:30:00.000000000",
          "2024-06-26T14:30:00.000000000",
          "2024-06-26T15:30:00.000000000",
          "2024-06-26T16:30:00.000000000",
          "2024-06-26T19:30:00.000000000",
          "2024-06-27T14:30:00.000000000",
          "2024-06-27T16:30:00.000000000",
          "2024-06-27T19:30:00.000000000",
          "2024-06-28T13:30:00.000000000",
          "2024-06-28T14:30:00.000000000",
          "2024-06-28T15:30:00.000000000",
          "2024-06-28T16:30:00.000000000",
          "2024-06-28T19:30:00.000000000",
          "2024-07-01T13:30:00.000000000",
          "2024-07-01T14:30:00.000000000",
          "2024-07-01T15:30:00.000000000",
          "2024-07-01T16:30:00.000000000",
          "2024-07-01T18:30:00.000000000",
          "2024-07-01T19:30:00.000000000",
          "2024-07-02T13:30:00.000000000",
          "2024-07-02T14:30:00.000000000",
          "2024-07-02T15:30:00.000000000",
          "2024-07-02T16:30:00.000000000",
          "2024-07-02T17:30:00.000000000",
          "2024-07-02T19:30:00.000000000",
          "2024-07-03T13:30:00.000000000",
          "2024-07-03T14:30:00.000000000",
          "2024-07-03T15:30:00.000000000",
          "2024-07-05T13:30:00.000000000",
          "2024-07-05T14:30:00.000000000",
          "2024-07-05T15:30:00.000000000",
          "2024-07-05T16:30:00.000000000",
          "2024-07-05T18:30:00.000000000",
          "2024-07-05T19:30:00.000000000",
          "2024-07-08T13:30:00.000000000",
          "2024-07-08T14:30:00.000000000",
          "2024-07-08T15:30:00.000000000",
          "2024-07-08T16:30:00.000000000",
          "2024-07-08T17:30:00.000000000",
          "2024-07-08T18:30:00.000000000",
          "2024-07-08T19:30:00.000000000",
          "2024-07-09T13:30:00.000000000",
          "2024-07-09T14:30:00.000000000",
          "2024-07-09T15:30:00.000000000",
          "2024-07-09T16:30:00.000000000",
          "2024-07-09T19:30:00.000000000",
          "2024-07-10T13:30:00.000000000",
          "2024-07-10T14:30:00.000000000",
          "2024-07-10T15:30:00.000000000",
          "2024-07-10T16:30:00.000000000",
          "2024-07-10T19:30:00.000000000",
          "2024-07-11T13:30:00.000000000",
          "2024-07-11T14:30:00.000000000",
          "2024-07-11T15:30:00.000000000",
          "2024-07-11T16:30:00.000000000",
          "2024-07-11T17:30:00.000000000",
          "2024-07-11T18:30:00.000000000",
          "2024-07-11T19:30:00.000000000",
          "2024-07-12T13:30:00.000000000",
          "2024-07-12T14:30:00.000000000",
          "2024-07-12T15:30:00.000000000",
          "2024-07-12T16:30:00.000000000",
          "2024-07-12T17:30:00.000000000",
          "2024-07-12T18:30:00.000000000",
          "2024-07-12T19:30:00.000000000",
          "2024-07-15T13:30:00.000000000",
          "2024-07-15T14:30:00.000000000",
          "2024-07-15T15:30:00.000000000",
          "2024-07-15T16:30:00.000000000",
          "2024-07-15T17:30:00.000000000",
          "2024-07-15T19:30:00.000000000",
          "2024-07-16T13:30:00.000000000",
          "2024-07-16T14:30:00.000000000",
          "2024-07-16T15:30:00.000000000",
          "2024-07-16T16:30:00.000000000",
          "2024-07-16T17:30:00.000000000",
          "2024-07-16T18:30:00.000000000",
          "2024-07-16T19:30:00.000000000",
          "2024-07-17T13:30:00.000000000",
          "2024-07-17T14:30:00.000000000",
          "2024-07-17T15:30:00.000000000",
          "2024-07-17T16:30:00.000000000",
          "2024-07-17T18:30:00.000000000",
          "2024-07-17T19:30:00.000000000",
          "2024-07-18T13:30:00.000000000",
          "2024-07-18T14:30:00.000000000",
          "2024-07-18T15:30:00.000000000",
          "2024-07-18T16:30:00.000000000",
          "2024-07-18T18:30:00.000000000",
          "2024-07-18T19:30:00.000000000",
          "2024-07-19T13:30:00.000000000",
          "2024-07-19T14:30:00.000000000",
          "2024-07-19T15:30:00.000000000",
          "2024-07-19T16:30:00.000000000",
          "2024-07-19T17:30:00.000000000",
          "2024-07-19T18:30:00.000000000",
          "2024-07-19T19:30:00.000000000",
          "2024-07-22T13:30:00.000000000",
          "2024-07-22T14:30:00.000000000",
          "2024-07-22T15:30:00.000000000",
          "2024-07-22T16:30:00.000000000",
          "2024-07-22T17:30:00.000000000",
          "2024-07-22T18:30:00.000000000",
          "2024-07-22T19:30:00.000000000",
          "2024-07-23T13:30:00.000000000",
          "2024-07-23T14:30:00.000000000",
          "2024-07-23T15:30:00.000000000",
          "2024-07-23T16:30:00.000000000",
          "2024-07-23T18:30:00.000000000",
          "2024-07-24T13:30:00.000000000",
          "2024-07-24T14:30:00.000000000",
          "2024-07-24T15:30:00.000000000",
          "2024-07-24T16:30:00.000000000",
          "2024-07-24T17:30:00.000000000",
          "2024-07-24T18:30:00.000000000",
          "2024-07-24T19:30:00.000000000",
          "2024-07-25T13:30:00.000000000",
          "2024-07-25T14:30:00.000000000",
          "2024-07-25T15:30:00.000000000",
          "2024-07-25T16:30:00.000000000",
          "2024-07-25T17:30:00.000000000",
          "2024-07-25T18:30:00.000000000",
          "2024-07-25T19:30:00.000000000",
          "2024-07-26T13:30:00.000000000",
          "2024-07-26T14:30:00.000000000",
          "2024-07-26T16:30:00.000000000",
          "2024-07-26T17:30:00.000000000",
          "2024-07-26T18:30:00.000000000",
          "2024-07-26T19:30:00.000000000",
          "2024-07-29T13:30:00.000000000",
          "2024-07-29T14:30:00.000000000",
          "2024-07-29T15:30:00.000000000",
          "2024-07-29T16:30:00.000000000",
          "2024-07-29T18:30:00.000000000",
          "2024-07-29T19:30:00.000000000",
          "2024-07-30T13:30:00.000000000",
          "2024-07-30T14:30:00.000000000",
          "2024-07-30T15:30:00.000000000",
          "2024-07-30T16:30:00.000000000",
          "2024-07-30T18:30:00.000000000",
          "2024-07-30T19:30:00.000000000",
          "2024-07-31T13:30:00.000000000",
          "2024-07-31T15:30:00.000000000",
          "2024-07-31T16:30:00.000000000",
          "2024-08-01T13:30:00.000000000",
          "2024-08-01T14:30:00.000000000",
          "2024-08-01T15:30:00.000000000",
          "2024-08-01T16:30:00.000000000",
          "2024-08-01T17:30:00.000000000",
          "2024-08-02T13:30:00.000000000",
          "2024-08-02T14:30:00.000000000",
          "2024-08-02T15:30:00.000000000",
          "2024-08-02T16:30:00.000000000",
          "2024-08-02T17:30:00.000000000",
          "2024-08-02T18:30:00.000000000",
          "2024-08-05T13:30:00.000000000",
          "2024-08-05T14:30:00.000000000",
          "2024-08-05T16:30:00.000000000",
          "2024-08-05T17:30:00.000000000",
          "2024-08-05T18:30:00.000000000",
          "2024-08-05T19:30:00.000000000",
          "2024-08-06T13:30:00.000000000",
          "2024-08-06T14:30:00.000000000",
          "2024-08-06T15:30:00.000000000",
          "2024-08-06T16:30:00.000000000",
          "2024-08-06T18:30:00.000000000",
          "2024-08-06T19:30:00.000000000",
          "2024-08-07T13:30:00.000000000",
          "2024-08-07T14:30:00.000000000",
          "2024-08-07T15:30:00.000000000",
          "2024-08-07T16:30:00.000000000",
          "2024-08-07T17:30:00.000000000",
          "2024-08-07T18:30:00.000000000",
          "2024-08-07T19:30:00.000000000",
          "2024-08-08T13:30:00.000000000",
          "2024-08-08T14:30:00.000000000",
          "2024-08-08T17:30:00.000000000",
          "2024-08-08T19:30:00.000000000",
          "2024-08-09T13:30:00.000000000",
          "2024-08-09T15:30:00.000000000",
          "2024-08-09T16:30:00.000000000",
          "2024-08-09T18:30:00.000000000",
          "2024-08-09T19:30:00.000000000",
          "2024-08-12T13:30:00.000000000",
          "2024-08-12T14:30:00.000000000",
          "2024-08-12T15:30:00.000000000",
          "2024-08-12T16:30:00.000000000",
          "2024-08-12T17:30:00.000000000",
          "2024-08-12T18:30:00.000000000",
          "2024-08-12T19:30:00.000000000",
          "2024-08-13T13:30:00.000000000",
          "2024-08-13T14:30:00.000000000",
          "2024-08-13T15:30:00.000000000",
          "2024-08-13T16:30:00.000000000",
          "2024-08-13T17:30:00.000000000",
          "2024-08-13T18:30:00.000000000",
          "2024-08-13T19:30:00.000000000",
          "2024-08-14T13:30:00.000000000",
          "2024-08-14T14:30:00.000000000",
          "2024-08-14T15:30:00.000000000",
          "2024-08-14T16:30:00.000000000",
          "2024-08-14T17:30:00.000000000",
          "2024-08-14T18:30:00.000000000",
          "2024-08-14T19:30:00.000000000",
          "2024-08-15T13:30:00.000000000",
          "2024-08-15T14:30:00.000000000",
          "2024-08-15T16:30:00.000000000",
          "2024-08-15T17:30:00.000000000",
          "2024-08-15T18:30:00.000000000",
          "2024-08-15T19:30:00.000000000",
          "2024-08-16T13:30:00.000000000",
          "2024-08-16T14:30:00.000000000",
          "2024-08-16T15:30:00.000000000",
          "2024-08-16T17:30:00.000000000",
          "2024-08-16T18:30:00.000000000",
          "2024-08-16T19:30:00.000000000",
          "2024-08-19T13:30:00.000000000",
          "2024-08-19T14:30:00.000000000",
          "2024-08-19T17:30:00.000000000",
          "2024-08-19T18:30:00.000000000",
          "2024-08-19T19:30:00.000000000",
          "2024-08-20T13:30:00.000000000",
          "2024-08-20T14:30:00.000000000",
          "2024-08-20T15:30:00.000000000",
          "2024-08-20T16:30:00.000000000",
          "2024-08-20T19:30:00.000000000",
          "2024-08-21T13:30:00.000000000",
          "2024-08-21T14:30:00.000000000",
          "2024-08-21T15:30:00.000000000",
          "2024-08-21T17:30:00.000000000",
          "2024-08-21T18:30:00.000000000",
          "2024-08-21T19:30:00.000000000",
          "2024-08-22T13:30:00.000000000",
          "2024-08-22T14:30:00.000000000",
          "2024-08-22T15:30:00.000000000",
          "2024-08-22T17:30:00.000000000",
          "2024-08-22T18:30:00.000000000",
          "2024-08-22T19:30:00.000000000",
          "2024-08-23T13:30:00.000000000",
          "2024-08-23T14:30:00.000000000",
          "2024-08-23T15:30:00.000000000",
          "2024-08-23T18:30:00.000000000",
          "2024-08-23T19:30:00.000000000",
          "2024-08-26T13:30:00.000000000",
          "2024-08-26T14:30:00.000000000",
          "2024-08-26T15:30:00.000000000",
          "2024-08-26T17:30:00.000000000",
          "2024-08-26T19:30:00.000000000",
          "2024-08-27T13:30:00.000000000",
          "2024-08-27T14:30:00.000000000",
          "2024-08-27T16:30:00.000000000",
          "2024-08-27T19:30:00.000000000",
          "2024-08-28T13:30:00.000000000",
          "2024-08-28T14:30:00.000000000",
          "2024-08-28T16:30:00.000000000",
          "2024-08-28T17:30:00.000000000",
          "2024-08-28T19:30:00.000000000",
          "2024-08-29T13:30:00.000000000",
          "2024-08-29T14:30:00.000000000",
          "2024-08-29T16:30:00.000000000",
          "2024-08-29T17:30:00.000000000",
          "2024-08-29T18:30:00.000000000",
          "2024-08-29T19:30:00.000000000",
          "2024-08-30T13:30:00.000000000",
          "2024-08-30T15:30:00.000000000",
          "2024-08-30T18:30:00.000000000",
          "2024-09-03T13:30:00.000000000",
          "2024-09-03T14:30:00.000000000",
          "2024-09-03T15:30:00.000000000",
          "2024-09-03T17:30:00.000000000",
          "2024-09-03T18:30:00.000000000",
          "2024-09-03T19:30:00.000000000",
          "2024-09-04T13:30:00.000000000",
          "2024-09-04T16:30:00.000000000",
          "2024-09-04T18:30:00.000000000",
          "2024-09-04T19:30:00.000000000",
          "2024-09-05T13:30:00.000000000",
          "2024-09-05T14:30:00.000000000",
          "2024-09-05T17:30:00.000000000",
          "2024-09-05T18:30:00.000000000",
          "2024-09-05T19:30:00.000000000",
          "2024-09-06T13:30:00.000000000",
          "2024-09-06T14:30:00.000000000",
          "2024-09-06T15:30:00.000000000",
          "2024-09-06T16:30:00.000000000",
          "2024-09-06T17:30:00.000000000",
          "2024-09-06T19:30:00.000000000",
          "2024-09-09T13:30:00.000000000",
          "2024-09-09T14:30:00.000000000",
          "2024-09-09T16:30:00.000000000",
          "2024-09-09T18:30:00.000000000",
          "2024-09-09T19:30:00.000000000",
          "2024-09-10T13:30:00.000000000",
          "2024-09-10T14:30:00.000000000",
          "2024-09-10T15:30:00.000000000",
          "2024-09-10T18:30:00.000000000",
          "2024-09-10T19:30:00.000000000",
          "2024-09-11T13:30:00.000000000",
          "2024-09-11T14:30:00.000000000",
          "2024-09-11T15:30:00.000000000",
          "2024-09-11T17:30:00.000000000",
          "2024-09-11T18:30:00.000000000",
          "2024-09-11T19:30:00.000000000",
          "2024-09-12T13:30:00.000000000",
          "2024-09-12T14:30:00.000000000",
          "2024-09-12T15:30:00.000000000",
          "2024-09-12T16:30:00.000000000",
          "2024-09-12T17:30:00.000000000",
          "2024-09-12T18:30:00.000000000",
          "2024-09-12T19:30:00.000000000",
          "2024-09-13T13:30:00.000000000",
          "2024-09-13T14:30:00.000000000",
          "2024-09-13T15:30:00.000000000",
          "2024-09-13T16:30:00.000000000",
          "2024-09-13T17:30:00.000000000",
          "2024-09-13T18:30:00.000000000",
          "2024-09-13T19:30:00.000000000",
          "2024-09-16T13:30:00.000000000",
          "2024-09-16T14:30:00.000000000",
          "2024-09-16T15:30:00.000000000",
          "2024-09-16T16:30:00.000000000",
          "2024-09-16T17:30:00.000000000",
          "2024-09-16T18:30:00.000000000",
          "2024-09-16T19:30:00.000000000",
          "2024-09-17T13:30:00.000000000",
          "2024-09-17T14:30:00.000000000",
          "2024-09-17T15:30:00.000000000",
          "2024-09-17T16:30:00.000000000",
          "2024-09-17T17:30:00.000000000",
          "2024-09-17T18:30:00.000000000",
          "2024-09-17T19:30:00.000000000",
          "2024-09-18T13:30:00.000000000",
          "2024-09-18T14:30:00.000000000",
          "2024-09-18T15:30:00.000000000",
          "2024-09-18T17:30:00.000000000",
          "2024-09-18T18:30:00.000000000",
          "2024-09-18T19:30:00.000000000",
          "2024-09-19T13:30:00.000000000",
          "2024-09-19T14:30:00.000000000",
          "2024-09-19T15:30:00.000000000",
          "2024-09-19T16:30:00.000000000",
          "2024-09-19T18:30:00.000000000",
          "2024-09-19T19:30:00.000000000",
          "2024-09-20T13:30:00.000000000",
          "2024-09-20T14:30:00.000000000",
          "2024-09-20T15:30:00.000000000",
          "2024-09-20T16:30:00.000000000",
          "2024-09-20T17:30:00.000000000",
          "2024-09-20T19:30:00.000000000",
          "2024-09-23T13:30:00.000000000",
          "2024-09-23T14:30:00.000000000",
          "2024-09-23T15:30:00.000000000",
          "2024-09-23T16:30:00.000000000",
          "2024-09-23T17:30:00.000000000",
          "2024-09-23T18:30:00.000000000",
          "2024-09-23T19:30:00.000000000",
          "2024-09-24T13:30:00.000000000",
          "2024-09-24T14:30:00.000000000",
          "2024-09-24T15:30:00.000000000",
          "2024-09-24T16:30:00.000000000",
          "2024-09-24T17:30:00.000000000",
          "2024-09-24T18:30:00.000000000",
          "2024-09-24T19:30:00.000000000",
          "2024-09-25T13:30:00.000000000",
          "2024-09-25T14:30:00.000000000",
          "2024-09-25T15:30:00.000000000",
          "2024-09-25T16:30:00.000000000",
          "2024-09-25T17:30:00.000000000",
          "2024-09-25T18:30:00.000000000",
          "2024-09-25T19:30:00.000000000",
          "2024-09-26T13:30:00.000000000",
          "2024-09-26T14:30:00.000000000",
          "2024-09-26T15:30:00.000000000",
          "2024-09-26T16:30:00.000000000",
          "2024-09-26T17:30:00.000000000",
          "2024-09-26T18:30:00.000000000",
          "2024-09-26T19:30:00.000000000",
          "2024-09-27T13:30:00.000000000",
          "2024-09-27T14:30:00.000000000",
          "2024-09-27T15:30:00.000000000",
          "2024-09-27T16:30:00.000000000",
          "2024-09-27T17:30:00.000000000",
          "2024-09-27T18:30:00.000000000",
          "2024-09-27T19:30:00.000000000",
          "2024-09-30T13:30:00.000000000",
          "2024-09-30T14:30:00.000000000",
          "2024-09-30T15:30:00.000000000",
          "2024-09-30T16:30:00.000000000",
          "2024-09-30T17:30:00.000000000",
          "2024-09-30T18:30:00.000000000",
          "2024-09-30T19:30:00.000000000",
          "2024-10-01T13:30:00.000000000",
          "2024-10-01T14:30:00.000000000",
          "2024-10-01T15:30:00.000000000",
          "2024-10-01T16:30:00.000000000",
          "2024-10-01T17:30:00.000000000",
          "2024-10-01T18:30:00.000000000",
          "2024-10-01T19:30:00.000000000",
          "2024-10-02T13:30:00.000000000",
          "2024-10-02T14:30:00.000000000",
          "2024-10-02T15:30:00.000000000",
          "2024-10-02T16:30:00.000000000",
          "2024-10-02T17:30:00.000000000",
          "2024-10-02T18:30:00.000000000",
          "2024-10-02T19:30:00.000000000",
          "2024-10-03T13:30:00.000000000",
          "2024-10-03T14:30:00.000000000",
          "2024-10-03T15:30:00.000000000",
          "2024-10-03T16:30:00.000000000",
          "2024-10-03T17:30:00.000000000",
          "2024-10-03T18:30:00.000000000",
          "2024-10-03T19:30:00.000000000",
          "2024-10-04T13:30:00.000000000",
          "2024-10-04T14:30:00.000000000",
          "2024-10-04T15:30:00.000000000",
          "2024-10-04T18:30:00.000000000",
          "2024-10-04T19:30:00.000000000",
          "2024-10-07T13:30:00.000000000",
          "2024-10-07T14:30:00.000000000",
          "2024-10-07T15:30:00.000000000",
          "2024-10-07T16:30:00.000000000",
          "2024-10-07T17:30:00.000000000",
          "2024-10-07T18:30:00.000000000",
          "2024-10-07T19:30:00.000000000",
          "2024-10-08T13:30:00.000000000",
          "2024-10-08T14:30:00.000000000",
          "2024-10-08T15:30:00.000000000",
          "2024-10-08T16:30:00.000000000",
          "2024-10-08T17:30:00.000000000",
          "2024-10-08T19:30:00.000000000",
          "2024-10-09T13:30:00.000000000",
          "2024-10-09T14:30:00.000000000",
          "2024-10-09T15:30:00.000000000",
          "2024-10-09T16:30:00.000000000",
          "2024-10-09T17:30:00.000000000",
          "2024-10-09T18:30:00.000000000",
          "2024-10-09T19:30:00.000000000",
          "2024-10-10T13:30:00.000000000",
          "2024-10-10T14:30:00.000000000",
          "2024-10-10T15:30:00.000000000",
          "2024-10-10T16:30:00.000000000",
          "2024-10-10T17:30:00.000000000",
          "2024-10-10T18:30:00.000000000",
          "2024-10-10T19:30:00.000000000",
          "2024-10-11T13:30:00.000000000",
          "2024-10-11T14:30:00.000000000",
          "2024-10-11T15:30:00.000000000",
          "2024-10-11T16:30:00.000000000",
          "2024-10-11T17:30:00.000000000",
          "2024-10-11T18:30:00.000000000",
          "2024-10-11T19:30:00.000000000",
          "2024-10-14T13:30:00.000000000",
          "2024-10-14T14:30:00.000000000",
          "2024-10-14T16:30:00.000000000",
          "2024-10-14T17:30:00.000000000",
          "2024-10-14T18:30:00.000000000",
          "2024-10-14T19:30:00.000000000",
          "2024-10-15T13:30:00.000000000",
          "2024-10-15T14:30:00.000000000",
          "2024-10-15T15:30:00.000000000",
          "2024-10-15T16:30:00.000000000",
          "2024-10-15T17:30:00.000000000",
          "2024-10-15T18:30:00.000000000",
          "2024-10-15T19:30:00.000000000",
          "2024-10-16T13:30:00.000000000",
          "2024-10-16T14:30:00.000000000",
          "2024-10-16T15:30:00.000000000",
          "2024-10-16T16:30:00.000000000",
          "2024-10-16T17:30:00.000000000",
          "2024-10-16T18:30:00.000000000",
          "2024-10-16T19:30:00.000000000",
          "2024-10-17T13:30:00.000000000",
          "2024-10-17T14:30:00.000000000",
          "2024-10-17T15:30:00.000000000",
          "2024-10-17T16:30:00.000000000",
          "2024-10-17T17:30:00.000000000",
          "2024-10-17T18:30:00.000000000",
          "2024-10-17T19:30:00.000000000",
          "2024-10-18T13:30:00.000000000",
          "2024-10-18T14:30:00.000000000",
          "2024-10-18T15:30:00.000000000",
          "2024-10-18T16:30:00.000000000",
          "2024-10-18T17:30:00.000000000",
          "2024-10-18T18:30:00.000000000",
          "2024-10-18T19:30:00.000000000",
          "2024-10-21T13:30:00.000000000",
          "2024-10-21T14:30:00.000000000",
          "2024-10-21T15:30:00.000000000",
          "2024-10-21T16:30:00.000000000",
          "2024-10-21T17:30:00.000000000",
          "2024-10-21T18:30:00.000000000",
          "2024-10-21T19:30:00.000000000",
          "2024-10-22T13:30:00.000000000",
          "2024-10-22T14:30:00.000000000",
          "2024-10-22T15:30:00.000000000",
          "2024-10-22T16:30:00.000000000",
          "2024-10-22T17:30:00.000000000",
          "2024-10-22T18:30:00.000000000",
          "2024-10-22T19:30:00.000000000",
          "2024-10-23T13:30:00.000000000",
          "2024-10-23T14:30:00.000000000",
          "2024-10-23T15:30:00.000000000",
          "2024-10-23T16:30:00.000000000",
          "2024-10-23T17:30:00.000000000",
          "2024-10-23T18:30:00.000000000",
          "2024-10-23T19:30:00.000000000",
          "2024-10-24T13:30:00.000000000",
          "2024-10-24T14:30:00.000000000",
          "2024-10-24T15:30:00.000000000",
          "2024-10-24T16:30:00.000000000",
          "2024-10-24T17:30:00.000000000",
          "2024-10-24T18:30:00.000000000",
          "2024-10-24T19:30:00.000000000",
          "2024-10-25T13:30:00.000000000",
          "2024-10-25T14:30:00.000000000",
          "2024-10-25T15:30:00.000000000",
          "2024-10-25T16:30:00.000000000",
          "2024-10-25T17:30:00.000000000",
          "2024-10-25T18:30:00.000000000",
          "2024-10-25T19:30:00.000000000",
          "2024-10-28T13:30:00.000000000",
          "2024-10-28T14:30:00.000000000",
          "2024-10-28T15:30:00.000000000",
          "2024-10-28T16:30:00.000000000",
          "2024-10-28T17:30:00.000000000",
          "2024-10-28T18:30:00.000000000",
          "2024-10-28T19:30:00.000000000",
          "2024-10-29T13:30:00.000000000",
          "2024-10-29T14:30:00.000000000",
          "2024-10-29T16:30:00.000000000",
          "2024-10-29T17:30:00.000000000",
          "2024-10-29T18:30:00.000000000",
          "2024-10-29T19:30:00.000000000",
          "2024-10-30T13:30:00.000000000",
          "2024-10-30T14:30:00.000000000",
          "2024-10-30T15:30:00.000000000",
          "2024-10-30T16:30:00.000000000",
          "2024-10-30T17:30:00.000000000",
          "2024-10-30T18:30:00.000000000",
          "2024-10-30T19:30:00.000000000",
          "2024-10-31T13:30:00.000000000",
          "2024-10-31T14:30:00.000000000",
          "2024-10-31T15:30:00.000000000",
          "2024-10-31T16:30:00.000000000",
          "2024-10-31T17:30:00.000000000",
          "2024-10-31T18:30:00.000000000",
          "2024-10-31T19:30:00.000000000",
          "2024-11-01T13:30:00.000000000",
          "2024-11-01T14:30:00.000000000",
          "2024-11-01T15:30:00.000000000",
          "2024-11-01T16:30:00.000000000",
          "2024-11-01T17:30:00.000000000",
          "2024-11-01T18:30:00.000000000",
          "2024-11-01T19:30:00.000000000",
          "2024-11-04T14:30:00.000000000",
          "2024-11-04T15:30:00.000000000",
          "2024-11-04T16:30:00.000000000",
          "2024-11-04T17:30:00.000000000",
          "2024-11-04T18:30:00.000000000",
          "2024-11-04T19:30:00.000000000",
          "2024-11-04T20:30:00.000000000",
          "2024-11-05T14:30:00.000000000",
          "2024-11-05T15:30:00.000000000",
          "2024-11-05T16:30:00.000000000",
          "2024-11-05T17:30:00.000000000",
          "2024-11-05T18:30:00.000000000",
          "2024-11-05T19:30:00.000000000",
          "2024-11-05T20:30:00.000000000",
          "2024-11-06T14:30:00.000000000",
          "2024-11-06T15:30:00.000000000",
          "2024-11-06T16:30:00.000000000",
          "2024-11-06T17:30:00.000000000",
          "2024-11-06T18:30:00.000000000",
          "2024-11-06T19:30:00.000000000",
          "2024-11-06T20:30:00.000000000",
          "2024-11-07T14:30:00.000000000",
          "2024-11-07T15:30:00.000000000",
          "2024-11-07T16:30:00.000000000",
          "2024-11-07T17:30:00.000000000",
          "2024-11-07T18:30:00.000000000",
          "2024-11-07T19:30:00.000000000",
          "2024-11-07T20:30:00.000000000",
          "2024-11-08T14:30:00.000000000",
          "2024-11-08T15:30:00.000000000",
          "2024-11-08T16:30:00.000000000",
          "2024-11-08T17:30:00.000000000",
          "2024-11-08T18:30:00.000000000",
          "2024-11-08T19:30:00.000000000",
          "2024-11-08T20:30:00.000000000",
          "2024-11-11T14:30:00.000000000",
          "2024-11-11T15:30:00.000000000",
          "2024-11-11T16:30:00.000000000",
          "2024-11-11T17:30:00.000000000",
          "2024-11-11T18:30:00.000000000",
          "2024-11-11T19:30:00.000000000",
          "2024-11-11T20:30:00.000000000",
          "2024-11-12T14:30:00.000000000",
          "2024-11-12T15:30:00.000000000",
          "2024-11-12T16:30:00.000000000",
          "2024-11-12T17:30:00.000000000",
          "2024-11-12T18:30:00.000000000",
          "2024-11-12T19:30:00.000000000",
          "2024-11-12T20:30:00.000000000",
          "2024-11-13T14:30:00.000000000",
          "2024-11-13T15:30:00.000000000",
          "2024-11-13T16:30:00.000000000",
          "2024-11-13T17:30:00.000000000",
          "2024-11-13T18:30:00.000000000",
          "2024-11-13T19:30:00.000000000",
          "2024-11-13T20:30:00.000000000",
          "2024-11-14T14:30:00.000000000",
          "2024-11-14T15:30:00.000000000",
          "2024-11-14T16:30:00.000000000",
          "2024-11-14T17:30:00.000000000",
          "2024-11-14T18:30:00.000000000",
          "2024-11-14T19:30:00.000000000",
          "2024-11-14T20:30:00.000000000",
          "2024-11-15T14:30:00.000000000",
          "2024-11-15T15:30:00.000000000",
          "2024-11-15T16:30:00.000000000",
          "2024-11-15T17:30:00.000000000",
          "2024-11-15T18:30:00.000000000",
          "2024-11-15T19:30:00.000000000",
          "2024-11-15T20:30:00.000000000",
          "2024-11-18T14:30:00.000000000",
          "2024-11-18T15:30:00.000000000",
          "2024-11-18T16:30:00.000000000",
          "2024-11-18T17:30:00.000000000",
          "2024-11-18T18:30:00.000000000",
          "2024-11-18T19:30:00.000000000",
          "2024-11-18T20:30:00.000000000",
          "2024-11-19T14:30:00.000000000",
          "2024-11-19T15:30:00.000000000",
          "2024-11-19T16:30:00.000000000",
          "2024-11-19T17:30:00.000000000",
          "2024-11-19T18:30:00.000000000",
          "2024-11-19T19:30:00.000000000",
          "2024-11-19T20:30:00.000000000",
          "2024-11-20T14:30:00.000000000",
          "2024-11-20T15:30:00.000000000",
          "2024-11-20T16:30:00.000000000",
          "2024-11-20T17:30:00.000000000",
          "2024-11-20T18:30:00.000000000",
          "2024-11-20T20:30:00.000000000",
          "2024-11-21T14:30:00.000000000",
          "2024-11-21T15:30:00.000000000",
          "2024-11-21T16:30:00.000000000",
          "2024-11-21T17:30:00.000000000",
          "2024-11-21T18:30:00.000000000",
          "2024-11-21T19:30:00.000000000",
          "2024-11-21T20:30:00.000000000",
          "2024-11-22T14:30:00.000000000",
          "2024-11-22T15:30:00.000000000",
          "2024-11-22T16:30:00.000000000",
          "2024-11-22T17:30:00.000000000",
          "2024-11-22T18:30:00.000000000",
          "2024-11-22T19:30:00.000000000",
          "2024-11-22T20:30:00.000000000",
          "2024-11-25T14:30:00.000000000",
          "2024-11-25T15:30:00.000000000",
          "2024-11-25T16:30:00.000000000",
          "2024-11-25T17:30:00.000000000",
          "2024-11-25T19:30:00.000000000",
          "2024-11-25T20:30:00.000000000",
          "2024-11-26T14:30:00.000000000",
          "2024-11-26T15:30:00.000000000",
          "2024-11-26T16:30:00.000000000",
          "2024-11-26T17:30:00.000000000",
          "2024-11-26T18:30:00.000000000",
          "2024-11-26T19:30:00.000000000",
          "2024-11-26T20:30:00.000000000",
          "2024-11-27T14:30:00.000000000",
          "2024-11-27T15:30:00.000000000",
          "2024-11-27T16:30:00.000000000",
          "2024-11-27T17:30:00.000000000",
          "2024-11-27T18:30:00.000000000",
          "2024-11-27T19:30:00.000000000",
          "2024-11-27T20:30:00.000000000",
          "2024-11-29T14:30:00.000000000",
          "2024-11-29T15:30:00.000000000",
          "2024-11-29T16:30:00.000000000",
          "2024-12-02T14:30:00.000000000",
          "2024-12-02T15:30:00.000000000",
          "2024-12-02T16:30:00.000000000",
          "2024-12-02T17:30:00.000000000",
          "2024-12-02T18:30:00.000000000",
          "2024-12-02T19:30:00.000000000",
          "2024-12-02T20:30:00.000000000",
          "2024-12-03T14:30:00.000000000",
          "2024-12-03T15:30:00.000000000",
          "2024-12-03T16:30:00.000000000",
          "2024-12-03T17:30:00.000000000",
          "2024-12-03T18:30:00.000000000",
          "2024-12-03T19:30:00.000000000",
          "2024-12-03T20:30:00.000000000",
          "2024-12-04T14:30:00.000000000",
          "2024-12-04T15:30:00.000000000",
          "2024-12-04T16:30:00.000000000",
          "2024-12-04T17:30:00.000000000",
          "2024-12-04T18:30:00.000000000",
          "2024-12-04T19:30:00.000000000",
          "2024-12-04T20:30:00.000000000",
          "2024-12-05T14:30:00.000000000",
          "2024-12-05T15:30:00.000000000",
          "2024-12-05T16:30:00.000000000",
          "2024-12-05T17:30:00.000000000",
          "2024-12-05T18:30:00.000000000",
          "2024-12-05T19:30:00.000000000",
          "2024-12-05T20:30:00.000000000",
          "2024-12-06T14:30:00.000000000",
          "2024-12-06T15:30:00.000000000",
          "2024-12-06T16:30:00.000000000",
          "2024-12-06T17:30:00.000000000",
          "2024-12-06T18:30:00.000000000",
          "2024-12-06T19:30:00.000000000",
          "2024-12-06T20:30:00.000000000",
          "2024-12-09T14:30:00.000000000",
          "2024-12-09T15:30:00.000000000",
          "2024-12-09T16:30:00.000000000",
          "2024-12-09T17:30:00.000000000",
          "2024-12-09T18:30:00.000000000",
          "2024-12-09T19:30:00.000000000",
          "2024-12-09T20:30:00.000000000",
          "2024-12-10T14:30:00.000000000",
          "2024-12-10T15:30:00.000000000",
          "2024-12-10T16:30:00.000000000",
          "2024-12-10T17:30:00.000000000",
          "2024-12-10T18:30:00.000000000",
          "2024-12-10T19:30:00.000000000",
          "2024-12-10T20:30:00.000000000",
          "2024-12-11T14:30:00.000000000",
          "2024-12-11T15:30:00.000000000",
          "2024-12-11T16:30:00.000000000",
          "2024-12-11T17:30:00.000000000",
          "2024-12-11T18:30:00.000000000",
          "2024-12-11T19:30:00.000000000",
          "2024-12-11T20:30:00.000000000",
          "2024-12-12T14:30:00.000000000",
          "2024-12-12T15:30:00.000000000",
          "2024-12-12T16:30:00.000000000",
          "2024-12-12T17:30:00.000000000",
          "2024-12-12T18:30:00.000000000",
          "2024-12-12T19:30:00.000000000",
          "2024-12-12T20:30:00.000000000",
          "2024-12-13T14:30:00.000000000",
          "2024-12-13T15:30:00.000000000",
          "2024-12-13T16:30:00.000000000",
          "2024-12-13T17:30:00.000000000",
          "2024-12-13T18:30:00.000000000",
          "2024-12-13T19:30:00.000000000",
          "2024-12-13T20:30:00.000000000",
          "2024-12-16T14:30:00.000000000",
          "2024-12-16T15:30:00.000000000",
          "2024-12-16T16:30:00.000000000",
          "2024-12-16T17:30:00.000000000",
          "2024-12-16T18:30:00.000000000",
          "2024-12-16T19:30:00.000000000",
          "2024-12-16T20:30:00.000000000",
          "2024-12-17T14:30:00.000000000",
          "2024-12-17T15:30:00.000000000",
          "2024-12-17T16:30:00.000000000",
          "2024-12-17T17:30:00.000000000",
          "2024-12-17T18:30:00.000000000",
          "2024-12-17T19:30:00.000000000",
          "2024-12-17T20:30:00.000000000",
          "2024-12-18T14:30:00.000000000",
          "2024-12-18T15:30:00.000000000",
          "2024-12-18T16:30:00.000000000",
          "2024-12-18T17:30:00.000000000",
          "2024-12-18T18:30:00.000000000",
          "2024-12-18T19:30:00.000000000",
          "2024-12-18T20:30:00.000000000",
          "2024-12-19T14:30:00.000000000",
          "2024-12-19T15:30:00.000000000",
          "2024-12-19T16:30:00.000000000",
          "2024-12-19T17:30:00.000000000",
          "2024-12-19T18:30:00.000000000",
          "2024-12-19T19:30:00.000000000",
          "2024-12-19T20:30:00.000000000",
          "2024-12-20T14:30:00.000000000",
          "2024-12-20T15:30:00.000000000",
          "2024-12-20T16:30:00.000000000",
          "2024-12-20T17:30:00.000000000",
          "2024-12-20T18:30:00.000000000",
          "2024-12-20T19:30:00.000000000",
          "2024-12-20T20:30:00.000000000",
          "2024-12-23T14:30:00.000000000",
          "2024-12-23T15:30:00.000000000",
          "2024-12-23T16:30:00.000000000",
          "2024-12-23T17:30:00.000000000",
          "2024-12-23T18:30:00.000000000",
          "2024-12-23T19:30:00.000000000",
          "2024-12-23T20:30:00.000000000",
          "2024-12-24T14:30:00.000000000",
          "2024-12-24T15:30:00.000000000",
          "2024-12-24T16:30:00.000000000",
          "2024-12-26T14:30:00.000000000",
          "2024-12-26T15:30:00.000000000",
          "2024-12-26T16:30:00.000000000",
          "2024-12-26T17:30:00.000000000",
          "2024-12-26T18:30:00.000000000",
          "2024-12-26T19:30:00.000000000",
          "2024-12-26T20:30:00.000000000",
          "2024-12-27T14:30:00.000000000",
          "2024-12-27T15:30:00.000000000",
          "2024-12-27T16:30:00.000000000",
          "2024-12-27T17:30:00.000000000",
          "2024-12-27T18:30:00.000000000",
          "2024-12-27T19:30:00.000000000",
          "2024-12-27T20:30:00.000000000",
          "2024-12-30T14:30:00.000000000",
          "2024-12-30T15:30:00.000000000",
          "2024-12-30T16:30:00.000000000",
          "2024-12-30T17:30:00.000000000",
          "2024-12-30T18:30:00.000000000",
          "2024-12-30T19:30:00.000000000",
          "2024-12-30T20:30:00.000000000",
          "2024-12-31T14:30:00.000000000",
          "2024-12-31T15:30:00.000000000",
          "2024-12-31T16:30:00.000000000",
          "2024-12-31T17:30:00.000000000",
          "2024-12-31T18:30:00.000000000",
          "2024-12-31T19:30:00.000000000",
          "2024-12-31T20:30:00.000000000",
          "2025-01-02T14:30:00.000000000",
          "2025-01-02T15:30:00.000000000",
          "2025-01-02T16:30:00.000000000",
          "2025-01-02T17:30:00.000000000",
          "2025-01-02T18:30:00.000000000",
          "2025-01-02T19:30:00.000000000",
          "2025-01-02T20:30:00.000000000",
          "2025-01-03T14:30:00.000000000",
          "2025-01-03T15:30:00.000000000",
          "2025-01-03T16:30:00.000000000",
          "2025-01-03T17:30:00.000000000",
          "2025-01-03T18:30:00.000000000",
          "2025-01-03T19:30:00.000000000",
          "2025-01-03T20:30:00.000000000",
          "2025-01-06T14:30:00.000000000",
          "2025-01-06T15:30:00.000000000",
          "2025-01-06T16:30:00.000000000",
          "2025-01-06T17:30:00.000000000",
          "2025-01-06T18:30:00.000000000",
          "2025-01-06T19:30:00.000000000",
          "2025-01-06T20:30:00.000000000",
          "2025-01-07T14:30:00.000000000",
          "2025-01-07T15:30:00.000000000",
          "2025-01-07T16:30:00.000000000",
          "2025-01-07T17:30:00.000000000",
          "2025-01-07T18:30:00.000000000",
          "2025-01-07T19:30:00.000000000",
          "2025-01-07T20:30:00.000000000",
          "2025-01-08T14:30:00.000000000",
          "2025-01-08T15:30:00.000000000",
          "2025-01-08T16:30:00.000000000",
          "2025-01-08T17:30:00.000000000",
          "2025-01-08T18:30:00.000000000",
          "2025-01-08T19:30:00.000000000",
          "2025-01-08T20:30:00.000000000",
          "2025-01-10T14:30:00.000000000",
          "2025-01-10T15:30:00.000000000",
          "2025-01-10T16:30:00.000000000",
          "2025-01-10T17:30:00.000000000",
          "2025-01-10T18:30:00.000000000",
          "2025-01-10T19:30:00.000000000",
          "2025-01-10T20:30:00.000000000",
          "2025-01-13T14:30:00.000000000",
          "2025-01-13T15:30:00.000000000",
          "2025-01-13T16:30:00.000000000",
          "2025-01-13T17:30:00.000000000",
          "2025-01-13T18:30:00.000000000",
          "2025-01-13T19:30:00.000000000",
          "2025-01-13T20:30:00.000000000",
          "2025-01-14T14:30:00.000000000",
          "2025-01-14T15:30:00.000000000",
          "2025-01-14T16:30:00.000000000",
          "2025-01-14T17:30:00.000000000",
          "2025-01-14T18:30:00.000000000",
          "2025-01-14T19:30:00.000000000",
          "2025-01-14T20:30:00.000000000",
          "2025-01-15T14:30:00.000000000",
          "2025-01-15T15:30:00.000000000",
          "2025-01-15T16:30:00.000000000",
          "2025-01-15T17:30:00.000000000",
          "2025-01-15T18:30:00.000000000",
          "2025-01-15T19:30:00.000000000",
          "2025-01-15T20:30:00.000000000",
          "2025-01-16T14:30:00.000000000",
          "2025-01-16T15:30:00.000000000",
          "2025-01-16T16:30:00.000000000",
          "2025-01-16T17:30:00.000000000",
          "2025-01-16T18:30:00.000000000",
          "2025-01-16T19:30:00.000000000",
          "2025-01-16T20:30:00.000000000",
          "2025-01-17T14:30:00.000000000",
          "2025-01-17T15:30:00.000000000",
          "2025-01-17T16:30:00.000000000",
          "2025-01-17T17:30:00.000000000",
          "2025-01-17T18:30:00.000000000",
          "2025-01-17T19:30:00.000000000",
          "2025-01-17T20:30:00.000000000",
          "2025-01-21T14:30:00.000000000",
          "2025-01-21T15:30:00.000000000",
          "2025-01-21T16:30:00.000000000",
          "2025-01-21T17:30:00.000000000",
          "2025-01-21T18:30:00.000000000",
          "2025-01-21T19:30:00.000000000",
          "2025-01-21T20:30:00.000000000",
          "2025-01-22T14:30:00.000000000",
          "2025-01-22T15:30:00.000000000",
          "2025-01-22T16:30:00.000000000",
          "2025-01-22T17:30:00.000000000",
          "2025-01-22T18:30:00.000000000",
          "2025-01-22T19:30:00.000000000",
          "2025-01-22T20:30:00.000000000",
          "2025-01-23T14:30:00.000000000",
          "2025-01-23T15:30:00.000000000",
          "2025-01-23T16:30:00.000000000",
          "2025-01-23T17:30:00.000000000",
          "2025-01-23T18:30:00.000000000",
          "2025-01-23T19:30:00.000000000",
          "2025-01-23T20:30:00.000000000",
          "2025-01-24T14:30:00.000000000",
          "2025-01-24T15:30:00.000000000",
          "2025-01-24T16:30:00.000000000",
          "2025-01-24T17:30:00.000000000",
          "2025-01-24T18:30:00.000000000",
          "2025-01-24T19:30:00.000000000",
          "2025-01-24T20:30:00.000000000",
          "2025-01-27T14:30:00.000000000",
          "2025-01-27T15:30:00.000000000",
          "2025-01-27T16:30:00.000000000",
          "2025-01-27T17:30:00.000000000",
          "2025-01-27T18:30:00.000000000",
          "2025-01-27T19:30:00.000000000",
          "2025-01-27T20:30:00.000000000",
          "2025-01-28T14:30:00.000000000",
          "2025-01-28T15:30:00.000000000",
          "2025-01-28T16:30:00.000000000",
          "2025-01-28T17:30:00.000000000",
          "2025-01-28T18:30:00.000000000",
          "2025-01-28T19:30:00.000000000",
          "2025-01-28T20:30:00.000000000",
          "2025-01-29T14:30:00.000000000",
          "2025-01-29T15:30:00.000000000",
          "2025-01-29T16:30:00.000000000",
          "2025-01-29T17:30:00.000000000",
          "2025-01-29T18:30:00.000000000",
          "2025-01-29T19:30:00.000000000",
          "2025-01-29T20:30:00.000000000",
          "2025-01-30T14:30:00.000000000",
          "2025-01-30T15:30:00.000000000",
          "2025-01-30T16:30:00.000000000",
          "2025-01-30T17:30:00.000000000",
          "2025-01-30T18:30:00.000000000",
          "2025-01-30T19:30:00.000000000",
          "2025-01-30T20:30:00.000000000",
          "2025-01-31T14:30:00.000000000",
          "2025-01-31T15:30:00.000000000",
          "2025-01-31T16:30:00.000000000",
          "2025-01-31T17:30:00.000000000",
          "2025-01-31T18:30:00.000000000",
          "2025-01-31T19:30:00.000000000",
          "2025-01-31T20:30:00.000000000",
          "2025-02-03T14:30:00.000000000",
          "2025-02-03T15:30:00.000000000",
          "2025-02-03T16:30:00.000000000",
          "2025-02-03T17:30:00.000000000",
          "2025-02-03T18:30:00.000000000",
          "2025-02-03T19:30:00.000000000",
          "2025-02-03T20:30:00.000000000",
          "2025-02-04T14:30:00.000000000",
          "2025-02-04T15:30:00.000000000",
          "2025-02-04T16:30:00.000000000",
          "2025-02-04T17:30:00.000000000",
          "2025-02-04T19:30:00.000000000",
          "2025-02-04T20:30:00.000000000",
          "2025-02-05T14:30:00.000000000",
          "2025-02-05T15:30:00.000000000",
          "2025-02-05T16:30:00.000000000",
          "2025-02-05T17:30:00.000000000",
          "2025-02-05T18:30:00.000000000",
          "2025-02-05T19:30:00.000000000",
          "2025-02-05T20:30:00.000000000",
          "2025-02-06T14:30:00.000000000",
          "2025-02-06T15:30:00.000000000",
          "2025-02-06T16:30:00.000000000",
          "2025-02-06T17:30:00.000000000",
          "2025-02-06T18:30:00.000000000",
          "2025-02-06T19:30:00.000000000",
          "2025-02-06T20:30:00.000000000",
          "2025-02-07T14:30:00.000000000",
          "2025-02-07T15:30:00.000000000",
          "2025-02-07T16:30:00.000000000",
          "2025-02-07T17:30:00.000000000",
          "2025-02-07T18:30:00.000000000",
          "2025-02-07T19:30:00.000000000",
          "2025-02-07T20:30:00.000000000",
          "2025-02-10T14:30:00.000000000",
          "2025-02-10T15:30:00.000000000",
          "2025-02-10T16:30:00.000000000",
          "2025-02-10T17:30:00.000000000",
          "2025-02-10T18:30:00.000000000",
          "2025-02-10T19:30:00.000000000",
          "2025-02-10T20:30:00.000000000",
          "2025-02-11T14:30:00.000000000",
          "2025-02-11T15:30:00.000000000",
          "2025-02-11T16:30:00.000000000",
          "2025-02-11T17:30:00.000000000",
          "2025-02-11T18:30:00.000000000",
          "2025-02-11T19:30:00.000000000",
          "2025-02-11T20:30:00.000000000",
          "2025-02-12T14:30:00.000000000",
          "2025-02-12T15:30:00.000000000",
          "2025-02-12T16:30:00.000000000",
          "2025-02-12T17:30:00.000000000",
          "2025-02-12T18:30:00.000000000",
          "2025-02-12T19:30:00.000000000",
          "2025-02-12T20:30:00.000000000",
          "2025-02-13T14:30:00.000000000",
          "2025-02-13T15:30:00.000000000",
          "2025-02-13T16:30:00.000000000",
          "2025-02-13T17:30:00.000000000",
          "2025-02-13T18:30:00.000000000",
          "2025-02-13T19:30:00.000000000",
          "2025-02-13T20:30:00.000000000",
          "2025-02-14T14:30:00.000000000",
          "2025-02-14T15:30:00.000000000",
          "2025-02-14T16:30:00.000000000",
          "2025-02-14T17:30:00.000000000",
          "2025-02-14T18:30:00.000000000",
          "2025-02-14T19:30:00.000000000",
          "2025-02-14T20:30:00.000000000",
          "2025-02-18T14:30:00.000000000",
          "2025-02-18T15:30:00.000000000",
          "2025-02-18T16:30:00.000000000",
          "2025-02-18T17:30:00.000000000",
          "2025-02-18T18:30:00.000000000",
          "2025-02-18T19:30:00.000000000",
          "2025-02-18T20:30:00.000000000",
          "2025-02-19T14:30:00.000000000",
          "2025-02-19T15:30:00.000000000",
          "2025-02-19T16:30:00.000000000",
          "2025-02-19T17:30:00.000000000",
          "2025-02-19T18:30:00.000000000",
          "2025-02-19T19:30:00.000000000",
          "2025-02-19T20:30:00.000000000",
          "2025-02-20T14:30:00.000000000",
          "2025-02-20T15:30:00.000000000",
          "2025-02-20T16:30:00.000000000",
          "2025-02-20T17:30:00.000000000",
          "2025-02-20T18:30:00.000000000",
          "2025-02-20T19:30:00.000000000",
          "2025-02-20T20:30:00.000000000",
          "2025-02-21T14:30:00.000000000",
          "2025-02-21T15:30:00.000000000",
          "2025-02-21T16:30:00.000000000",
          "2025-02-21T17:30:00.000000000",
          "2025-02-21T18:30:00.000000000",
          "2025-02-21T19:30:00.000000000",
          "2025-02-21T20:30:00.000000000",
          "2025-02-24T14:30:00.000000000",
          "2025-02-24T15:30:00.000000000",
          "2025-02-24T16:30:00.000000000",
          "2025-02-24T17:30:00.000000000",
          "2025-02-24T18:30:00.000000000",
          "2025-02-24T19:30:00.000000000",
          "2025-02-24T20:30:00.000000000",
          "2025-02-25T14:30:00.000000000",
          "2025-02-25T15:30:00.000000000",
          "2025-02-25T16:30:00.000000000",
          "2025-02-25T17:30:00.000000000",
          "2025-02-25T18:30:00.000000000",
          "2025-02-25T19:30:00.000000000",
          "2025-02-25T20:30:00.000000000",
          "2025-02-26T14:30:00.000000000",
          "2025-02-26T15:30:00.000000000",
          "2025-02-26T16:30:00.000000000",
          "2025-02-26T17:30:00.000000000",
          "2025-02-26T18:30:00.000000000",
          "2025-02-26T19:30:00.000000000",
          "2025-02-26T20:30:00.000000000",
          "2025-02-27T14:30:00.000000000",
          "2025-02-27T15:30:00.000000000",
          "2025-02-27T16:30:00.000000000",
          "2025-02-27T17:30:00.000000000",
          "2025-02-27T18:30:00.000000000",
          "2025-02-27T19:30:00.000000000",
          "2025-02-27T20:30:00.000000000"
         ],
         "xaxis": "x",
         "y": {
          "bdata": "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",
          "dtype": "f8"
         },
         "yaxis": "y"
        }
       ],
       "layout": {
        "legend": {
         "tracegroupgap": 0
        },
        "plot_bgcolor": "white",
        "template": {
         "data": {
          "bar": [
           {
            "error_x": {
             "color": "#2a3f5f"
            },
            "error_y": {
             "color": "#2a3f5f"
            },
            "marker": {
             "line": {
              "color": "#E5ECF6",
              "width": 0.5
             },
             "pattern": {
              "fillmode": "overlay",
              "size": 10,
              "solidity": 0.2
             }
            },
            "type": "bar"
           }
          ],
          "barpolar": [
           {
            "marker": {
             "line": {
              "color": "#E5ECF6",
              "width": 0.5
             },
             "pattern": {
              "fillmode": "overlay",
              "size": 10,
              "solidity": 0.2
             }
            },
            "type": "barpolar"
           }
          ],
          "carpet": [
           {
            "aaxis": {
             "endlinecolor": "#2a3f5f",
             "gridcolor": "white",
             "linecolor": "white",
             "minorgridcolor": "white",
             "startlinecolor": "#2a3f5f"
            },
            "baxis": {
             "endlinecolor": "#2a3f5f",
             "gridcolor": "white",
             "linecolor": "white",
             "minorgridcolor": "white",
             "startlinecolor": "#2a3f5f"
            },
            "type": "carpet"
           }
          ],
          "choropleth": [
           {
            "colorbar": {
             "outlinewidth": 0,
             "ticks": ""
            },
            "type": "choropleth"
           }
          ],
          "contour": [
           {
            "colorbar": {
             "outlinewidth": 0,
             "ticks": ""
            },
            "colorscale": [
             [
              0,
              "#0d0887"
             ],
             [
              0.1111111111111111,
              "#46039f"
             ],
             [
              0.2222222222222222,
              "#7201a8"
             ],
             [
              0.3333333333333333,
              "#9c179e"
             ],
             [
              0.4444444444444444,
              "#bd3786"
             ],
             [
              0.5555555555555556,
              "#d8576b"
             ],
             [
              0.6666666666666666,
              "#ed7953"
             ],
             [
              0.7777777777777778,
              "#fb9f3a"
             ],
             [
              0.8888888888888888,
              "#fdca26"
             ],
             [
              1,
              "#f0f921"
             ]
            ],
            "type": "contour"
           }
          ],
          "contourcarpet": [
           {
            "colorbar": {
             "outlinewidth": 0,
             "ticks": ""
            },
            "type": "contourcarpet"
           }
          ],
          "heatmap": [
           {
            "colorbar": {
             "outlinewidth": 0,
             "ticks": ""
            },
            "colorscale": [
             [
              0,
              "#0d0887"
             ],
             [
              0.1111111111111111,
              "#46039f"
             ],
             [
              0.2222222222222222,
              "#7201a8"
             ],
             [
              0.3333333333333333,
              "#9c179e"
             ],
             [
              0.4444444444444444,
              "#bd3786"
             ],
             [
              0.5555555555555556,
              "#d8576b"
             ],
             [
              0.6666666666666666,
              "#ed7953"
             ],
             [
              0.7777777777777778,
              "#fb9f3a"
             ],
             [
              0.8888888888888888,
              "#fdca26"
             ],
             [
              1,
              "#f0f921"
             ]
            ],
            "type": "heatmap"
           }
          ],
          "histogram": [
           {
            "marker": {
             "pattern": {
              "fillmode": "overlay",
              "size": 10,
              "solidity": 0.2
             }
            },
            "type": "histogram"
           }
          ],
          "histogram2d": [
           {
            "colorbar": {
             "outlinewidth": 0,
             "ticks": ""
            },
            "colorscale": [
             [
              0,
              "#0d0887"
             ],
             [
              0.1111111111111111,
              "#46039f"
             ],
             [
              0.2222222222222222,
              "#7201a8"
             ],
             [
              0.3333333333333333,
              "#9c179e"
             ],
             [
              0.4444444444444444,
              "#bd3786"
             ],
             [
              0.5555555555555556,
              "#d8576b"
             ],
             [
              0.6666666666666666,
              "#ed7953"
             ],
             [
              0.7777777777777778,
              "#fb9f3a"
             ],
             [
              0.8888888888888888,
              "#fdca26"
             ],
             [
              1,
              "#f0f921"
             ]
            ],
            "type": "histogram2d"
           }
          ],
          "histogram2dcontour": [
           {
            "colorbar": {
             "outlinewidth": 0,
             "ticks": ""
            },
            "colorscale": [
             [
              0,
              "#0d0887"
             ],
             [
              0.1111111111111111,
              "#46039f"
             ],
             [
              0.2222222222222222,
              "#7201a8"
             ],
             [
              0.3333333333333333,
              "#9c179e"
             ],
             [
              0.4444444444444444,
              "#bd3786"
             ],
             [
              0.5555555555555556,
              "#d8576b"
             ],
             [
              0.6666666666666666,
              "#ed7953"
             ],
             [
              0.7777777777777778,
              "#fb9f3a"
             ],
             [
              0.8888888888888888,
              "#fdca26"
             ],
             [
              1,
              "#f0f921"
             ]
            ],
            "type": "histogram2dcontour"
           }
          ],
          "mesh3d": [
           {
            "colorbar": {
             "outlinewidth": 0,
             "ticks": ""
            },
            "type": "mesh3d"
           }
          ],
          "parcoords": [
           {
            "line": {
             "colorbar": {
              "outlinewidth": 0,
              "ticks": ""
             }
            },
            "type": "parcoords"
           }
          ],
          "pie": [
           {
            "automargin": true,
            "type": "pie"
           }
          ],
          "scatter": [
           {
            "fillpattern": {
             "fillmode": "overlay",
             "size": 10,
             "solidity": 0.2
            },
            "type": "scatter"
           }
          ],
          "scatter3d": [
           {
            "line": {
             "colorbar": {
              "outlinewidth": 0,
              "ticks": ""
             }
            },
            "marker": {
             "colorbar": {
              "outlinewidth": 0,
              "ticks": ""
             }
            },
            "type": "scatter3d"
           }
          ],
          "scattercarpet": [
           {
            "marker": {
             "colorbar": {
              "outlinewidth": 0,
              "ticks": ""
             }
            },
            "type": "scattercarpet"
           }
          ],
          "scattergeo": [
           {
            "marker": {
             "colorbar": {
              "outlinewidth": 0,
              "ticks": ""
             }
            },
            "type": "scattergeo"
           }
          ],
          "scattergl": [
           {
            "marker": {
             "colorbar": {
              "outlinewidth": 0,
              "ticks": ""
             }
            },
            "type": "scattergl"
           }
          ],
          "scattermap": [
           {
            "marker": {
             "colorbar": {
              "outlinewidth": 0,
              "ticks": ""
             }
            },
            "type": "scattermap"
           }
          ],
          "scattermapbox": [
           {
            "marker": {
             "colorbar": {
              "outlinewidth": 0,
              "ticks": ""
             }
            },
            "type": "scattermapbox"
           }
          ],
          "scatterpolar": [
           {
            "marker": {
             "colorbar": {
              "outlinewidth": 0,
              "ticks": ""
             }
            },
            "type": "scatterpolar"
           }
          ],
          "scatterpolargl": [
           {
            "marker": {
             "colorbar": {
              "outlinewidth": 0,
              "ticks": ""
             }
            },
            "type": "scatterpolargl"
           }
          ],
          "scatterternary": [
           {
            "marker": {
             "colorbar": {
              "outlinewidth": 0,
              "ticks": ""
             }
            },
            "type": "scatterternary"
           }
          ],
          "surface": [
           {
            "colorbar": {
             "outlinewidth": 0,
             "ticks": ""
            },
            "colorscale": [
             [
              0,
              "#0d0887"
             ],
             [
              0.1111111111111111,
              "#46039f"
             ],
             [
              0.2222222222222222,
              "#7201a8"
             ],
             [
              0.3333333333333333,
              "#9c179e"
             ],
             [
              0.4444444444444444,
              "#bd3786"
             ],
             [
              0.5555555555555556,
              "#d8576b"
             ],
             [
              0.6666666666666666,
              "#ed7953"
             ],
             [
              0.7777777777777778,
              "#fb9f3a"
             ],
             [
              0.8888888888888888,
              "#fdca26"
             ],
             [
              1,
              "#f0f921"
             ]
            ],
            "type": "surface"
           }
          ],
          "table": [
           {
            "cells": {
             "fill": {
              "color": "#EBF0F8"
             },
             "line": {
              "color": "white"
             }
            },
            "header": {
             "fill": {
              "color": "#C8D4E3"
             },
             "line": {
              "color": "white"
             }
            },
            "type": "table"
           }
          ]
         },
         "layout": {
          "annotationdefaults": {
           "arrowcolor": "#2a3f5f",
           "arrowhead": 0,
           "arrowwidth": 1
          },
          "autotypenumbers": "strict",
          "coloraxis": {
           "colorbar": {
            "outlinewidth": 0,
            "ticks": ""
           }
          },
          "colorscale": {
           "diverging": [
            [
             0,
             "#8e0152"
            ],
            [
             0.1,
             "#c51b7d"
            ],
            [
             0.2,
             "#de77ae"
            ],
            [
             0.3,
             "#f1b6da"
            ],
            [
             0.4,
             "#fde0ef"
            ],
            [
             0.5,
             "#f7f7f7"
            ],
            [
             0.6,
             "#e6f5d0"
            ],
            [
             0.7,
             "#b8e186"
            ],
            [
             0.8,
             "#7fbc41"
            ],
            [
             0.9,
             "#4d9221"
            ],
            [
             1,
             "#276419"
            ]
           ],
           "sequential": [
            [
             0,
             "#0d0887"
            ],
            [
             0.1111111111111111,
             "#46039f"
            ],
            [
             0.2222222222222222,
             "#7201a8"
            ],
            [
             0.3333333333333333,
             "#9c179e"
            ],
            [
             0.4444444444444444,
             "#bd3786"
            ],
            [
             0.5555555555555556,
             "#d8576b"
            ],
            [
             0.6666666666666666,
             "#ed7953"
            ],
            [
             0.7777777777777778,
             "#fb9f3a"
            ],
            [
             0.8888888888888888,
             "#fdca26"
            ],
            [
             1,
             "#f0f921"
            ]
           ],
           "sequentialminus": [
            [
             0,
             "#0d0887"
            ],
            [
             0.1111111111111111,
             "#46039f"
            ],
            [
             0.2222222222222222,
             "#7201a8"
            ],
            [
             0.3333333333333333,
             "#9c179e"
            ],
            [
             0.4444444444444444,
             "#bd3786"
            ],
            [
             0.5555555555555556,
             "#d8576b"
            ],
            [
             0.6666666666666666,
             "#ed7953"
            ],
            [
             0.7777777777777778,
             "#fb9f3a"
            ],
            [
             0.8888888888888888,
             "#fdca26"
            ],
            [
             1,
             "#f0f921"
            ]
           ]
          },
          "colorway": [
           "#636efa",
           "#EF553B",
           "#00cc96",
           "#ab63fa",
           "#FFA15A",
           "#19d3f3",
           "#FF6692",
           "#B6E880",
           "#FF97FF",
           "#FECB52"
          ],
          "font": {
           "color": "#2a3f5f"
          },
          "geo": {
           "bgcolor": "white",
           "lakecolor": "white",
           "landcolor": "#E5ECF6",
           "showlakes": true,
           "showland": true,
           "subunitcolor": "white"
          },
          "hoverlabel": {
           "align": "left"
          },
          "hovermode": "closest",
          "mapbox": {
           "style": "light"
          },
          "paper_bgcolor": "white",
          "plot_bgcolor": "#E5ECF6",
          "polar": {
           "angularaxis": {
            "gridcolor": "white",
            "linecolor": "white",
            "ticks": ""
           },
           "bgcolor": "#E5ECF6",
           "radialaxis": {
            "gridcolor": "white",
            "linecolor": "white",
            "ticks": ""
           }
          },
          "scene": {
           "xaxis": {
            "backgroundcolor": "#E5ECF6",
            "gridcolor": "white",
            "gridwidth": 2,
            "linecolor": "white",
            "showbackground": true,
            "ticks": "",
            "zerolinecolor": "white"
           },
           "yaxis": {
            "backgroundcolor": "#E5ECF6",
            "gridcolor": "white",
            "gridwidth": 2,
            "linecolor": "white",
            "showbackground": true,
            "ticks": "",
            "zerolinecolor": "white"
           },
           "zaxis": {
            "backgroundcolor": "#E5ECF6",
            "gridcolor": "white",
            "gridwidth": 2,
            "linecolor": "white",
            "showbackground": true,
            "ticks": "",
            "zerolinecolor": "white"
           }
          },
          "shapedefaults": {
           "line": {
            "color": "#2a3f5f"
           }
          },
          "ternary": {
           "aaxis": {
            "gridcolor": "white",
            "linecolor": "white",
            "ticks": ""
           },
           "baxis": {
            "gridcolor": "white",
            "linecolor": "white",
            "ticks": ""
           },
           "bgcolor": "#E5ECF6",
           "caxis": {
            "gridcolor": "white",
            "linecolor": "white",
            "ticks": ""
           }
          },
          "title": {
           "x": 0.05
          },
          "xaxis": {
           "automargin": true,
           "gridcolor": "white",
           "linecolor": "white",
           "ticks": "",
           "title": {
            "standoff": 15
           },
           "zerolinecolor": "white",
           "zerolinewidth": 2
          },
          "yaxis": {
           "automargin": true,
           "gridcolor": "white",
           "linecolor": "white",
           "ticks": "",
           "title": {
            "standoff": 15
           },
           "zerolinecolor": "white",
           "zerolinewidth": 2
          }
         }
        },
        "title": {
         "font": {
          "size": 16
         },
         "text": "Strategy 2: Portfolio Value Over Time",
         "x": 0.5
        },
        "xaxis": {
         "anchor": "y",
         "domain": [
          0,
          1
         ],
         "gridcolor": "lightgray",
         "showgrid": true,
         "title": {
          "text": "Date"
         }
        },
        "yaxis": {
         "anchor": "x",
         "domain": [
          0,
          1
         ],
         "gridcolor": "lightgray",
         "showgrid": true,
         "title": {
          "text": "Portfolio Value ($)"
         }
        }
       }
      }
     },
     "metadata": {},
     "output_type": "display_data"
    },
    {
     "data": {
      "application/vnd.jupyter.widget-view+json": {
       "model_id": "7c287142fdbc4cb187ecdf9ed3e18997",
       "version_major": 2,
       "version_minor": 0
      },
      "text/plain": [
       "interactive(children=(IntSlider(value=15, description='VIX Lower', max=40), IntSlider(value=20, description='V…"
      ]
     },
     "metadata": {},
     "output_type": "display_data"
    },
    {
     "data": {
      "application/vnd.plotly.v1+json": {
       "config": {
        "plotlyServerURL": "https://plot.ly"
       },
       "data": [
        {
         "hovertemplate": "Date=%{x}<br>Portfolio Value ($)=%{y}<extra></extra>",
         "legendgroup": "",
         "line": {
          "color": "blue",
          "dash": "solid",
          "width": 2
         },
         "marker": {
          "symbol": "circle"
         },
         "mode": "lines",
         "name": "",
         "orientation": "v",
         "showlegend": false,
         "type": "scatter",
         "x": [
          "2024-09-03T13:30:00.000000000",
          "2024-09-03T14:30:00.000000000",
          "2024-09-03T15:30:00.000000000",
          "2024-09-03T17:30:00.000000000",
          "2024-09-03T18:30:00.000000000",
          "2024-09-03T19:30:00.000000000",
          "2024-09-04T13:30:00.000000000",
          "2024-09-04T16:30:00.000000000",
          "2024-09-04T18:30:00.000000000",
          "2024-09-04T19:30:00.000000000",
          "2024-09-05T13:30:00.000000000",
          "2024-09-05T14:30:00.000000000",
          "2024-09-05T17:30:00.000000000",
          "2024-09-05T18:30:00.000000000",
          "2024-09-05T19:30:00.000000000",
          "2024-09-06T13:30:00.000000000",
          "2024-09-06T14:30:00.000000000",
          "2024-09-06T15:30:00.000000000",
          "2024-09-06T16:30:00.000000000",
          "2024-09-06T17:30:00.000000000",
          "2024-09-06T19:30:00.000000000",
          "2024-09-09T13:30:00.000000000",
          "2024-09-09T14:30:00.000000000",
          "2024-09-09T16:30:00.000000000",
          "2024-09-09T18:30:00.000000000",
          "2024-09-09T19:30:00.000000000",
          "2024-09-10T13:30:00.000000000",
          "2024-09-10T14:30:00.000000000",
          "2024-09-10T15:30:00.000000000",
          "2024-09-10T18:30:00.000000000",
          "2024-09-10T19:30:00.000000000",
          "2024-09-11T13:30:00.000000000",
          "2024-09-11T14:30:00.000000000",
          "2024-09-11T15:30:00.000000000",
          "2024-09-11T17:30:00.000000000",
          "2024-09-11T18:30:00.000000000",
          "2024-09-11T19:30:00.000000000",
          "2024-09-12T13:30:00.000000000",
          "2024-09-12T14:30:00.000000000",
          "2024-09-12T15:30:00.000000000",
          "2024-09-12T16:30:00.000000000",
          "2024-09-12T17:30:00.000000000",
          "2024-09-12T18:30:00.000000000",
          "2024-09-12T19:30:00.000000000",
          "2024-09-13T13:30:00.000000000",
          "2024-09-13T14:30:00.000000000",
          "2024-09-13T15:30:00.000000000",
          "2024-09-13T16:30:00.000000000",
          "2024-09-13T17:30:00.000000000",
          "2024-09-13T18:30:00.000000000",
          "2024-09-13T19:30:00.000000000",
          "2024-09-16T13:30:00.000000000",
          "2024-09-16T14:30:00.000000000",
          "2024-09-16T15:30:00.000000000",
          "2024-09-16T16:30:00.000000000",
          "2024-09-16T17:30:00.000000000",
          "2024-09-16T18:30:00.000000000",
          "2024-09-16T19:30:00.000000000",
          "2024-09-17T13:30:00.000000000",
          "2024-09-17T14:30:00.000000000",
          "2024-09-17T15:30:00.000000000",
          "2024-09-17T16:30:00.000000000",
          "2024-09-17T17:30:00.000000000",
          "2024-09-17T18:30:00.000000000",
          "2024-09-17T19:30:00.000000000",
          "2024-09-18T13:30:00.000000000",
          "2024-09-18T14:30:00.000000000",
          "2024-09-18T15:30:00.000000000",
          "2024-09-18T17:30:00.000000000",
          "2024-09-18T18:30:00.000000000",
          "2024-09-18T19:30:00.000000000",
          "2024-09-19T13:30:00.000000000",
          "2024-09-19T14:30:00.000000000",
          "2024-09-19T15:30:00.000000000",
          "2024-09-19T16:30:00.000000000",
          "2024-09-19T18:30:00.000000000",
          "2024-09-19T19:30:00.000000000",
          "2024-09-20T13:30:00.000000000",
          "2024-09-20T14:30:00.000000000",
          "2024-09-20T15:30:00.000000000",
          "2024-09-20T16:30:00.000000000",
          "2024-09-20T17:30:00.000000000",
          "2024-09-20T19:30:00.000000000",
          "2024-09-23T13:30:00.000000000",
          "2024-09-23T14:30:00.000000000",
          "2024-09-23T15:30:00.000000000",
          "2024-09-23T16:30:00.000000000",
          "2024-09-23T17:30:00.000000000",
          "2024-09-23T18:30:00.000000000",
          "2024-09-23T19:30:00.000000000",
          "2024-09-24T13:30:00.000000000",
          "2024-09-24T14:30:00.000000000",
          "2024-09-24T15:30:00.000000000",
          "2024-09-24T16:30:00.000000000",
          "2024-09-24T17:30:00.000000000",
          "2024-09-24T18:30:00.000000000",
          "2024-09-24T19:30:00.000000000",
          "2024-09-25T13:30:00.000000000",
          "2024-09-25T14:30:00.000000000",
          "2024-09-25T15:30:00.000000000",
          "2024-09-25T16:30:00.000000000",
          "2024-09-25T17:30:00.000000000",
          "2024-09-25T18:30:00.000000000",
          "2024-09-25T19:30:00.000000000",
          "2024-09-26T13:30:00.000000000",
          "2024-09-26T14:30:00.000000000",
          "2024-09-26T15:30:00.000000000",
          "2024-09-26T16:30:00.000000000",
          "2024-09-26T17:30:00.000000000",
          "2024-09-26T18:30:00.000000000",
          "2024-09-26T19:30:00.000000000",
          "2024-09-27T13:30:00.000000000",
          "2024-09-27T14:30:00.000000000",
          "2024-09-27T15:30:00.000000000",
          "2024-09-27T16:30:00.000000000",
          "2024-09-27T17:30:00.000000000",
          "2024-09-27T18:30:00.000000000",
          "2024-09-27T19:30:00.000000000",
          "2024-09-30T13:30:00.000000000",
          "2024-09-30T14:30:00.000000000",
          "2024-09-30T15:30:00.000000000",
          "2024-09-30T16:30:00.000000000",
          "2024-09-30T17:30:00.000000000",
          "2024-09-30T18:30:00.000000000",
          "2024-09-30T19:30:00.000000000",
          "2024-10-01T13:30:00.000000000",
          "2024-10-01T14:30:00.000000000",
          "2024-10-01T15:30:00.000000000",
          "2024-10-01T16:30:00.000000000",
          "2024-10-01T17:30:00.000000000",
          "2024-10-01T18:30:00.000000000",
          "2024-10-01T19:30:00.000000000",
          "2024-10-02T13:30:00.000000000",
          "2024-10-02T14:30:00.000000000",
          "2024-10-02T15:30:00.000000000",
          "2024-10-02T16:30:00.000000000",
          "2024-10-02T17:30:00.000000000",
          "2024-10-02T18:30:00.000000000",
          "2024-10-02T19:30:00.000000000",
          "2024-10-03T13:30:00.000000000",
          "2024-10-03T14:30:00.000000000",
          "2024-10-03T15:30:00.000000000",
          "2024-10-03T16:30:00.000000000",
          "2024-10-03T17:30:00.000000000",
          "2024-10-03T18:30:00.000000000",
          "2024-10-03T19:30:00.000000000",
          "2024-10-04T13:30:00.000000000",
          "2024-10-04T14:30:00.000000000",
          "2024-10-04T15:30:00.000000000",
          "2024-10-04T18:30:00.000000000",
          "2024-10-04T19:30:00.000000000",
          "2024-10-07T13:30:00.000000000",
          "2024-10-07T14:30:00.000000000",
          "2024-10-07T15:30:00.000000000",
          "2024-10-07T16:30:00.000000000",
          "2024-10-07T17:30:00.000000000",
          "2024-10-07T18:30:00.000000000",
          "2024-10-07T19:30:00.000000000",
          "2024-10-08T13:30:00.000000000",
          "2024-10-08T14:30:00.000000000",
          "2024-10-08T15:30:00.000000000",
          "2024-10-08T16:30:00.000000000",
          "2024-10-08T17:30:00.000000000",
          "2024-10-08T19:30:00.000000000",
          "2024-10-09T13:30:00.000000000",
          "2024-10-09T14:30:00.000000000",
          "2024-10-09T15:30:00.000000000",
          "2024-10-09T16:30:00.000000000",
          "2024-10-09T17:30:00.000000000",
          "2024-10-09T18:30:00.000000000",
          "2024-10-09T19:30:00.000000000",
          "2024-10-10T13:30:00.000000000",
          "2024-10-10T14:30:00.000000000",
          "2024-10-10T15:30:00.000000000",
          "2024-10-10T16:30:00.000000000",
          "2024-10-10T17:30:00.000000000",
          "2024-10-10T18:30:00.000000000",
          "2024-10-10T19:30:00.000000000",
          "2024-10-11T13:30:00.000000000",
          "2024-10-11T14:30:00.000000000",
          "2024-10-11T15:30:00.000000000",
          "2024-10-11T16:30:00.000000000",
          "2024-10-11T17:30:00.000000000",
          "2024-10-11T18:30:00.000000000",
          "2024-10-11T19:30:00.000000000",
          "2024-10-14T13:30:00.000000000",
          "2024-10-14T14:30:00.000000000",
          "2024-10-14T16:30:00.000000000",
          "2024-10-14T17:30:00.000000000",
          "2024-10-14T18:30:00.000000000",
          "2024-10-14T19:30:00.000000000",
          "2024-10-15T13:30:00.000000000",
          "2024-10-15T14:30:00.000000000",
          "2024-10-15T15:30:00.000000000",
          "2024-10-15T16:30:00.000000000",
          "2024-10-15T17:30:00.000000000",
          "2024-10-15T18:30:00.000000000",
          "2024-10-15T19:30:00.000000000",
          "2024-10-16T13:30:00.000000000",
          "2024-10-16T14:30:00.000000000",
          "2024-10-16T15:30:00.000000000",
          "2024-10-16T16:30:00.000000000",
          "2024-10-16T17:30:00.000000000",
          "2024-10-16T18:30:00.000000000",
          "2024-10-16T19:30:00.000000000",
          "2024-10-17T13:30:00.000000000",
          "2024-10-17T14:30:00.000000000",
          "2024-10-17T15:30:00.000000000",
          "2024-10-17T16:30:00.000000000",
          "2024-10-17T17:30:00.000000000",
          "2024-10-17T18:30:00.000000000",
          "2024-10-17T19:30:00.000000000",
          "2024-10-18T13:30:00.000000000",
          "2024-10-18T14:30:00.000000000",
          "2024-10-18T15:30:00.000000000",
          "2024-10-18T16:30:00.000000000",
          "2024-10-18T17:30:00.000000000",
          "2024-10-18T18:30:00.000000000",
          "2024-10-18T19:30:00.000000000",
          "2024-10-21T13:30:00.000000000",
          "2024-10-21T14:30:00.000000000",
          "2024-10-21T15:30:00.000000000",
          "2024-10-21T16:30:00.000000000",
          "2024-10-21T17:30:00.000000000",
          "2024-10-21T18:30:00.000000000",
          "2024-10-21T19:30:00.000000000",
          "2024-10-22T13:30:00.000000000",
          "2024-10-22T14:30:00.000000000",
          "2024-10-22T15:30:00.000000000",
          "2024-10-22T16:30:00.000000000",
          "2024-10-22T17:30:00.000000000",
          "2024-10-22T18:30:00.000000000",
          "2024-10-22T19:30:00.000000000",
          "2024-10-23T13:30:00.000000000",
          "2024-10-23T14:30:00.000000000",
          "2024-10-23T15:30:00.000000000",
          "2024-10-23T16:30:00.000000000",
          "2024-10-23T17:30:00.000000000",
          "2024-10-23T18:30:00.000000000",
          "2024-10-23T19:30:00.000000000",
          "2024-10-24T13:30:00.000000000",
          "2024-10-24T14:30:00.000000000",
          "2024-10-24T15:30:00.000000000",
          "2024-10-24T16:30:00.000000000",
          "2024-10-24T17:30:00.000000000",
          "2024-10-24T18:30:00.000000000",
          "2024-10-24T19:30:00.000000000",
          "2024-10-25T13:30:00.000000000",
          "2024-10-25T14:30:00.000000000",
          "2024-10-25T15:30:00.000000000",
          "2024-10-25T16:30:00.000000000",
          "2024-10-25T17:30:00.000000000",
          "2024-10-25T18:30:00.000000000",
          "2024-10-25T19:30:00.000000000",
          "2024-10-28T13:30:00.000000000",
          "2024-10-28T14:30:00.000000000",
          "2024-10-28T15:30:00.000000000",
          "2024-10-28T16:30:00.000000000",
          "2024-10-28T17:30:00.000000000",
          "2024-10-28T18:30:00.000000000",
          "2024-10-28T19:30:00.000000000",
          "2024-10-29T13:30:00.000000000",
          "2024-10-29T14:30:00.000000000",
          "2024-10-29T16:30:00.000000000",
          "2024-10-29T17:30:00.000000000",
          "2024-10-29T18:30:00.000000000",
          "2024-10-29T19:30:00.000000000",
          "2024-10-30T13:30:00.000000000",
          "2024-10-30T14:30:00.000000000",
          "2024-10-30T15:30:00.000000000",
          "2024-10-30T16:30:00.000000000",
          "2024-10-30T17:30:00.000000000",
          "2024-10-30T18:30:00.000000000",
          "2024-10-30T19:30:00.000000000",
          "2024-10-31T13:30:00.000000000",
          "2024-10-31T14:30:00.000000000",
          "2024-10-31T15:30:00.000000000",
          "2024-10-31T16:30:00.000000000",
          "2024-10-31T17:30:00.000000000",
          "2024-10-31T18:30:00.000000000",
          "2024-10-31T19:30:00.000000000",
          "2024-11-01T13:30:00.000000000",
          "2024-11-01T14:30:00.000000000",
          "2024-11-01T15:30:00.000000000",
          "2024-11-01T16:30:00.000000000",
          "2024-11-01T17:30:00.000000000",
          "2024-11-01T18:30:00.000000000",
          "2024-11-01T19:30:00.000000000",
          "2024-11-04T14:30:00.000000000",
          "2024-11-04T15:30:00.000000000",
          "2024-11-04T16:30:00.000000000",
          "2024-11-04T17:30:00.000000000",
          "2024-11-04T18:30:00.000000000",
          "2024-11-04T19:30:00.000000000",
          "2024-11-04T20:30:00.000000000",
          "2024-11-05T14:30:00.000000000",
          "2024-11-05T15:30:00.000000000",
          "2024-11-05T16:30:00.000000000",
          "2024-11-05T17:30:00.000000000",
          "2024-11-05T18:30:00.000000000",
          "2024-11-05T19:30:00.000000000",
          "2024-11-05T20:30:00.000000000",
          "2024-11-06T14:30:00.000000000",
          "2024-11-06T15:30:00.000000000",
          "2024-11-06T16:30:00.000000000",
          "2024-11-06T17:30:00.000000000",
          "2024-11-06T18:30:00.000000000",
          "2024-11-06T19:30:00.000000000",
          "2024-11-06T20:30:00.000000000",
          "2024-11-07T14:30:00.000000000",
          "2024-11-07T15:30:00.000000000",
          "2024-11-07T16:30:00.000000000",
          "2024-11-07T17:30:00.000000000",
          "2024-11-07T18:30:00.000000000",
          "2024-11-07T19:30:00.000000000",
          "2024-11-07T20:30:00.000000000",
          "2024-11-08T14:30:00.000000000",
          "2024-11-08T15:30:00.000000000",
          "2024-11-08T16:30:00.000000000",
          "2024-11-08T17:30:00.000000000",
          "2024-11-08T18:30:00.000000000",
          "2024-11-08T19:30:00.000000000",
          "2024-11-08T20:30:00.000000000",
          "2024-11-11T14:30:00.000000000",
          "2024-11-11T15:30:00.000000000",
          "2024-11-11T16:30:00.000000000",
          "2024-11-11T17:30:00.000000000",
          "2024-11-11T18:30:00.000000000",
          "2024-11-11T19:30:00.000000000",
          "2024-11-11T20:30:00.000000000",
          "2024-11-12T14:30:00.000000000",
          "2024-11-12T15:30:00.000000000",
          "2024-11-12T16:30:00.000000000",
          "2024-11-12T17:30:00.000000000",
          "2024-11-12T18:30:00.000000000",
          "2024-11-12T19:30:00.000000000",
          "2024-11-12T20:30:00.000000000",
          "2024-11-13T14:30:00.000000000",
          "2024-11-13T15:30:00.000000000",
          "2024-11-13T16:30:00.000000000",
          "2024-11-13T17:30:00.000000000",
          "2024-11-13T18:30:00.000000000",
          "2024-11-13T19:30:00.000000000",
          "2024-11-13T20:30:00.000000000",
          "2024-11-14T14:30:00.000000000",
          "2024-11-14T15:30:00.000000000",
          "2024-11-14T16:30:00.000000000",
          "2024-11-14T17:30:00.000000000",
          "2024-11-14T18:30:00.000000000",
          "2024-11-14T19:30:00.000000000",
          "2024-11-14T20:30:00.000000000",
          "2024-11-15T14:30:00.000000000",
          "2024-11-15T15:30:00.000000000",
          "2024-11-15T16:30:00.000000000",
          "2024-11-15T17:30:00.000000000",
          "2024-11-15T18:30:00.000000000",
          "2024-11-15T19:30:00.000000000",
          "2024-11-15T20:30:00.000000000",
          "2024-11-18T14:30:00.000000000",
          "2024-11-18T15:30:00.000000000",
          "2024-11-18T16:30:00.000000000",
          "2024-11-18T17:30:00.000000000",
          "2024-11-18T18:30:00.000000000",
          "2024-11-18T19:30:00.000000000",
          "2024-11-18T20:30:00.000000000",
          "2024-11-19T14:30:00.000000000",
          "2024-11-19T15:30:00.000000000",
          "2024-11-19T16:30:00.000000000",
          "2024-11-19T17:30:00.000000000",
          "2024-11-19T18:30:00.000000000",
          "2024-11-19T19:30:00.000000000",
          "2024-11-19T20:30:00.000000000",
          "2024-11-20T14:30:00.000000000",
          "2024-11-20T15:30:00.000000000",
          "2024-11-20T16:30:00.000000000",
          "2024-11-20T17:30:00.000000000",
          "2024-11-20T18:30:00.000000000",
          "2024-11-20T20:30:00.000000000",
          "2024-11-21T14:30:00.000000000",
          "2024-11-21T15:30:00.000000000",
          "2024-11-21T16:30:00.000000000",
          "2024-11-21T17:30:00.000000000",
          "2024-11-21T18:30:00.000000000",
          "2024-11-21T19:30:00.000000000",
          "2024-11-21T20:30:00.000000000",
          "2024-11-22T14:30:00.000000000",
          "2024-11-22T15:30:00.000000000",
          "2024-11-22T16:30:00.000000000",
          "2024-11-22T17:30:00.000000000",
          "2024-11-22T18:30:00.000000000",
          "2024-11-22T19:30:00.000000000",
          "2024-11-22T20:30:00.000000000",
          "2024-11-25T14:30:00.000000000",
          "2024-11-25T15:30:00.000000000",
          "2024-11-25T16:30:00.000000000",
          "2024-11-25T17:30:00.000000000",
          "2024-11-25T19:30:00.000000000",
          "2024-11-25T20:30:00.000000000",
          "2024-11-26T14:30:00.000000000",
          "2024-11-26T15:30:00.000000000",
          "2024-11-26T16:30:00.000000000",
          "2024-11-26T17:30:00.000000000",
          "2024-11-26T18:30:00.000000000",
          "2024-11-26T19:30:00.000000000",
          "2024-11-26T20:30:00.000000000",
          "2024-11-27T14:30:00.000000000",
          "2024-11-27T15:30:00.000000000",
          "2024-11-27T16:30:00.000000000",
          "2024-11-27T17:30:00.000000000",
          "2024-11-27T18:30:00.000000000",
          "2024-11-27T19:30:00.000000000",
          "2024-11-27T20:30:00.000000000",
          "2024-11-29T14:30:00.000000000",
          "2024-11-29T15:30:00.000000000",
          "2024-11-29T16:30:00.000000000",
          "2024-12-02T14:30:00.000000000",
          "2024-12-02T15:30:00.000000000",
          "2024-12-02T16:30:00.000000000",
          "2024-12-02T17:30:00.000000000",
          "2024-12-02T18:30:00.000000000",
          "2024-12-02T19:30:00.000000000",
          "2024-12-02T20:30:00.000000000",
          "2024-12-03T14:30:00.000000000",
          "2024-12-03T15:30:00.000000000",
          "2024-12-03T16:30:00.000000000",
          "2024-12-03T17:30:00.000000000",
          "2024-12-03T18:30:00.000000000",
          "2024-12-03T19:30:00.000000000",
          "2024-12-03T20:30:00.000000000",
          "2024-12-04T14:30:00.000000000",
          "2024-12-04T15:30:00.000000000",
          "2024-12-04T16:30:00.000000000",
          "2024-12-04T17:30:00.000000000",
          "2024-12-04T18:30:00.000000000",
          "2024-12-04T19:30:00.000000000",
          "2024-12-04T20:30:00.000000000",
          "2024-12-05T14:30:00.000000000",
          "2024-12-05T15:30:00.000000000",
          "2024-12-05T16:30:00.000000000",
          "2024-12-05T17:30:00.000000000",
          "2024-12-05T18:30:00.000000000",
          "2024-12-05T19:30:00.000000000",
          "2024-12-05T20:30:00.000000000",
          "2024-12-06T14:30:00.000000000",
          "2024-12-06T15:30:00.000000000",
          "2024-12-06T16:30:00.000000000",
          "2024-12-06T17:30:00.000000000",
          "2024-12-06T18:30:00.000000000",
          "2024-12-06T19:30:00.000000000",
          "2024-12-06T20:30:00.000000000",
          "2024-12-09T14:30:00.000000000",
          "2024-12-09T15:30:00.000000000",
          "2024-12-09T16:30:00.000000000",
          "2024-12-09T17:30:00.000000000",
          "2024-12-09T18:30:00.000000000",
          "2024-12-09T19:30:00.000000000",
          "2024-12-09T20:30:00.000000000",
          "2024-12-10T14:30:00.000000000",
          "2024-12-10T15:30:00.000000000",
          "2024-12-10T16:30:00.000000000",
          "2024-12-10T17:30:00.000000000",
          "2024-12-10T18:30:00.000000000",
          "2024-12-10T19:30:00.000000000",
          "2024-12-10T20:30:00.000000000",
          "2024-12-11T14:30:00.000000000",
          "2024-12-11T15:30:00.000000000",
          "2024-12-11T16:30:00.000000000",
          "2024-12-11T17:30:00.000000000",
          "2024-12-11T18:30:00.000000000",
          "2024-12-11T19:30:00.000000000",
          "2024-12-11T20:30:00.000000000",
          "2024-12-12T14:30:00.000000000",
          "2024-12-12T15:30:00.000000000",
          "2024-12-12T16:30:00.000000000",
          "2024-12-12T17:30:00.000000000",
          "2024-12-12T18:30:00.000000000",
          "2024-12-12T19:30:00.000000000",
          "2024-12-12T20:30:00.000000000",
          "2024-12-13T14:30:00.000000000",
          "2024-12-13T15:30:00.000000000",
          "2024-12-13T16:30:00.000000000",
          "2024-12-13T17:30:00.000000000",
          "2024-12-13T18:30:00.000000000",
          "2024-12-13T19:30:00.000000000",
          "2024-12-13T20:30:00.000000000",
          "2024-12-16T14:30:00.000000000",
          "2024-12-16T15:30:00.000000000",
          "2024-12-16T16:30:00.000000000",
          "2024-12-16T17:30:00.000000000",
          "2024-12-16T18:30:00.000000000",
          "2024-12-16T19:30:00.000000000",
          "2024-12-16T20:30:00.000000000",
          "2024-12-17T14:30:00.000000000",
          "2024-12-17T15:30:00.000000000",
          "2024-12-17T16:30:00.000000000",
          "2024-12-17T17:30:00.000000000",
          "2024-12-17T18:30:00.000000000",
          "2024-12-17T19:30:00.000000000",
          "2024-12-17T20:30:00.000000000",
          "2024-12-18T14:30:00.000000000",
          "2024-12-18T15:30:00.000000000",
          "2024-12-18T16:30:00.000000000",
          "2024-12-18T17:30:00.000000000",
          "2024-12-18T18:30:00.000000000",
          "2024-12-18T19:30:00.000000000",
          "2024-12-18T20:30:00.000000000",
          "2024-12-19T14:30:00.000000000",
          "2024-12-19T15:30:00.000000000",
          "2024-12-19T16:30:00.000000000",
          "2024-12-19T17:30:00.000000000",
          "2024-12-19T18:30:00.000000000",
          "2024-12-19T19:30:00.000000000",
          "2024-12-19T20:30:00.000000000",
          "2024-12-20T14:30:00.000000000",
          "2024-12-20T15:30:00.000000000",
          "2024-12-20T16:30:00.000000000",
          "2024-12-20T17:30:00.000000000",
          "2024-12-20T18:30:00.000000000",
          "2024-12-20T19:30:00.000000000",
          "2024-12-20T20:30:00.000000000",
          "2024-12-23T14:30:00.000000000",
          "2024-12-23T15:30:00.000000000",
          "2024-12-23T16:30:00.000000000",
          "2024-12-23T17:30:00.000000000",
          "2024-12-23T18:30:00.000000000",
          "2024-12-23T19:30:00.000000000",
          "2024-12-23T20:30:00.000000000",
          "2024-12-24T14:30:00.000000000",
          "2024-12-24T15:30:00.000000000",
          "2024-12-24T16:30:00.000000000",
          "2024-12-26T14:30:00.000000000",
          "2024-12-26T15:30:00.000000000",
          "2024-12-26T16:30:00.000000000",
          "2024-12-26T17:30:00.000000000",
          "2024-12-26T18:30:00.000000000",
          "2024-12-26T19:30:00.000000000",
          "2024-12-26T20:30:00.000000000",
          "2024-12-27T14:30:00.000000000",
          "2024-12-27T15:30:00.000000000",
          "2024-12-27T16:30:00.000000000",
          "2024-12-27T17:30:00.000000000",
          "2024-12-27T18:30:00.000000000",
          "2024-12-27T19:30:00.000000000",
          "2024-12-27T20:30:00.000000000",
          "2024-12-30T14:30:00.000000000",
          "2024-12-30T15:30:00.000000000",
          "2024-12-30T16:30:00.000000000",
          "2024-12-30T17:30:00.000000000",
          "2024-12-30T18:30:00.000000000",
          "2024-12-30T19:30:00.000000000",
          "2024-12-30T20:30:00.000000000",
          "2024-12-31T14:30:00.000000000",
          "2024-12-31T15:30:00.000000000",
          "2024-12-31T16:30:00.000000000",
          "2024-12-31T17:30:00.000000000",
          "2024-12-31T18:30:00.000000000",
          "2024-12-31T19:30:00.000000000",
          "2024-12-31T20:30:00.000000000",
          "2025-01-02T14:30:00.000000000",
          "2025-01-02T15:30:00.000000000",
          "2025-01-02T16:30:00.000000000",
          "2025-01-02T17:30:00.000000000",
          "2025-01-02T18:30:00.000000000",
          "2025-01-02T19:30:00.000000000",
          "2025-01-02T20:30:00.000000000",
          "2025-01-03T14:30:00.000000000",
          "2025-01-03T15:30:00.000000000",
          "2025-01-03T16:30:00.000000000",
          "2025-01-03T17:30:00.000000000",
          "2025-01-03T18:30:00.000000000",
          "2025-01-03T19:30:00.000000000",
          "2025-01-03T20:30:00.000000000",
          "2025-01-06T14:30:00.000000000",
          "2025-01-06T15:30:00.000000000",
          "2025-01-06T16:30:00.000000000",
          "2025-01-06T17:30:00.000000000",
          "2025-01-06T18:30:00.000000000",
          "2025-01-06T19:30:00.000000000",
          "2025-01-06T20:30:00.000000000",
          "2025-01-07T14:30:00.000000000",
          "2025-01-07T15:30:00.000000000",
          "2025-01-07T16:30:00.000000000",
          "2025-01-07T17:30:00.000000000",
          "2025-01-07T18:30:00.000000000",
          "2025-01-07T19:30:00.000000000",
          "2025-01-07T20:30:00.000000000",
          "2025-01-08T14:30:00.000000000",
          "2025-01-08T15:30:00.000000000",
          "2025-01-08T16:30:00.000000000",
          "2025-01-08T17:30:00.000000000",
          "2025-01-08T18:30:00.000000000",
          "2025-01-08T19:30:00.000000000",
          "2025-01-08T20:30:00.000000000",
          "2025-01-10T14:30:00.000000000",
          "2025-01-10T15:30:00.000000000",
          "2025-01-10T16:30:00.000000000",
          "2025-01-10T17:30:00.000000000",
          "2025-01-10T18:30:00.000000000",
          "2025-01-10T19:30:00.000000000",
          "2025-01-10T20:30:00.000000000",
          "2025-01-13T14:30:00.000000000",
          "2025-01-13T15:30:00.000000000",
          "2025-01-13T16:30:00.000000000",
          "2025-01-13T17:30:00.000000000",
          "2025-01-13T18:30:00.000000000",
          "2025-01-13T19:30:00.000000000",
          "2025-01-13T20:30:00.000000000",
          "2025-01-14T14:30:00.000000000",
          "2025-01-14T15:30:00.000000000",
          "2025-01-14T16:30:00.000000000",
          "2025-01-14T17:30:00.000000000",
          "2025-01-14T18:30:00.000000000",
          "2025-01-14T19:30:00.000000000",
          "2025-01-14T20:30:00.000000000",
          "2025-01-15T14:30:00.000000000",
          "2025-01-15T15:30:00.000000000",
          "2025-01-15T16:30:00.000000000",
          "2025-01-15T17:30:00.000000000",
          "2025-01-15T18:30:00.000000000",
          "2025-01-15T19:30:00.000000000",
          "2025-01-15T20:30:00.000000000",
          "2025-01-16T14:30:00.000000000",
          "2025-01-16T15:30:00.000000000",
          "2025-01-16T16:30:00.000000000",
          "2025-01-16T17:30:00.000000000",
          "2025-01-16T18:30:00.000000000",
          "2025-01-16T19:30:00.000000000",
          "2025-01-16T20:30:00.000000000",
          "2025-01-17T14:30:00.000000000",
          "2025-01-17T15:30:00.000000000",
          "2025-01-17T16:30:00.000000000",
          "2025-01-17T17:30:00.000000000",
          "2025-01-17T18:30:00.000000000",
          "2025-01-17T19:30:00.000000000",
          "2025-01-17T20:30:00.000000000",
          "2025-01-21T14:30:00.000000000",
          "2025-01-21T15:30:00.000000000",
          "2025-01-21T16:30:00.000000000",
          "2025-01-21T17:30:00.000000000",
          "2025-01-21T18:30:00.000000000",
          "2025-01-21T19:30:00.000000000",
          "2025-01-21T20:30:00.000000000",
          "2025-01-22T14:30:00.000000000",
          "2025-01-22T15:30:00.000000000",
          "2025-01-22T16:30:00.000000000",
          "2025-01-22T17:30:00.000000000",
          "2025-01-22T18:30:00.000000000",
          "2025-01-22T19:30:00.000000000",
          "2025-01-22T20:30:00.000000000",
          "2025-01-23T14:30:00.000000000",
          "2025-01-23T15:30:00.000000000",
          "2025-01-23T16:30:00.000000000",
          "2025-01-23T17:30:00.000000000",
          "2025-01-23T18:30:00.000000000",
          "2025-01-23T19:30:00.000000000",
          "2025-01-23T20:30:00.000000000",
          "2025-01-24T14:30:00.000000000",
          "2025-01-24T15:30:00.000000000",
          "2025-01-24T16:30:00.000000000",
          "2025-01-24T17:30:00.000000000",
          "2025-01-24T18:30:00.000000000",
          "2025-01-24T19:30:00.000000000",
          "2025-01-24T20:30:00.000000000",
          "2025-01-27T14:30:00.000000000",
          "2025-01-27T15:30:00.000000000",
          "2025-01-27T16:30:00.000000000",
          "2025-01-27T17:30:00.000000000",
          "2025-01-27T18:30:00.000000000",
          "2025-01-27T19:30:00.000000000",
          "2025-01-27T20:30:00.000000000",
          "2025-01-28T14:30:00.000000000",
          "2025-01-28T15:30:00.000000000",
          "2025-01-28T16:30:00.000000000",
          "2025-01-28T17:30:00.000000000",
          "2025-01-28T18:30:00.000000000",
          "2025-01-28T19:30:00.000000000",
          "2025-01-28T20:30:00.000000000",
          "2025-01-29T14:30:00.000000000",
          "2025-01-29T15:30:00.000000000",
          "2025-01-29T16:30:00.000000000",
          "2025-01-29T17:30:00.000000000",
          "2025-01-29T18:30:00.000000000",
          "2025-01-29T19:30:00.000000000",
          "2025-01-29T20:30:00.000000000",
          "2025-01-30T14:30:00.000000000",
          "2025-01-30T15:30:00.000000000",
          "2025-01-30T16:30:00.000000000",
          "2025-01-30T17:30:00.000000000",
          "2025-01-30T18:30:00.000000000",
          "2025-01-30T19:30:00.000000000",
          "2025-01-30T20:30:00.000000000",
          "2025-01-31T14:30:00.000000000",
          "2025-01-31T15:30:00.000000000",
          "2025-01-31T16:30:00.000000000",
          "2025-01-31T17:30:00.000000000",
          "2025-01-31T18:30:00.000000000",
          "2025-01-31T19:30:00.000000000",
          "2025-01-31T20:30:00.000000000",
          "2025-02-03T14:30:00.000000000",
          "2025-02-03T15:30:00.000000000",
          "2025-02-03T16:30:00.000000000",
          "2025-02-03T17:30:00.000000000",
          "2025-02-03T18:30:00.000000000",
          "2025-02-03T19:30:00.000000000",
          "2025-02-03T20:30:00.000000000",
          "2025-02-04T14:30:00.000000000",
          "2025-02-04T15:30:00.000000000",
          "2025-02-04T16:30:00.000000000",
          "2025-02-04T17:30:00.000000000",
          "2025-02-04T19:30:00.000000000",
          "2025-02-04T20:30:00.000000000",
          "2025-02-05T14:30:00.000000000",
          "2025-02-05T15:30:00.000000000",
          "2025-02-05T16:30:00.000000000",
          "2025-02-05T17:30:00.000000000",
          "2025-02-05T18:30:00.000000000",
          "2025-02-05T19:30:00.000000000",
          "2025-02-05T20:30:00.000000000",
          "2025-02-06T14:30:00.000000000",
          "2025-02-06T15:30:00.000000000",
          "2025-02-06T16:30:00.000000000",
          "2025-02-06T17:30:00.000000000",
          "2025-02-06T18:30:00.000000000",
          "2025-02-06T19:30:00.000000000",
          "2025-02-06T20:30:00.000000000",
          "2025-02-07T14:30:00.000000000",
          "2025-02-07T15:30:00.000000000",
          "2025-02-07T16:30:00.000000000",
          "2025-02-07T17:30:00.000000000",
          "2025-02-07T18:30:00.000000000",
          "2025-02-07T19:30:00.000000000",
          "2025-02-07T20:30:00.000000000",
          "2025-02-10T14:30:00.000000000",
          "2025-02-10T15:30:00.000000000",
          "2025-02-10T16:30:00.000000000",
          "2025-02-10T17:30:00.000000000",
          "2025-02-10T18:30:00.000000000",
          "2025-02-10T19:30:00.000000000",
          "2025-02-10T20:30:00.000000000",
          "2025-02-11T14:30:00.000000000",
          "2025-02-11T15:30:00.000000000",
          "2025-02-11T16:30:00.000000000",
          "2025-02-11T17:30:00.000000000",
          "2025-02-11T18:30:00.000000000",
          "2025-02-11T19:30:00.000000000",
          "2025-02-11T20:30:00.000000000",
          "2025-02-12T14:30:00.000000000",
          "2025-02-12T15:30:00.000000000",
          "2025-02-12T16:30:00.000000000",
          "2025-02-12T17:30:00.000000000",
          "2025-02-12T18:30:00.000000000",
          "2025-02-12T19:30:00.000000000",
          "2025-02-12T20:30:00.000000000",
          "2025-02-13T14:30:00.000000000",
          "2025-02-13T15:30:00.000000000",
          "2025-02-13T16:30:00.000000000",
          "2025-02-13T17:30:00.000000000",
          "2025-02-13T18:30:00.000000000",
          "2025-02-13T19:30:00.000000000",
          "2025-02-13T20:30:00.000000000",
          "2025-02-14T14:30:00.000000000",
          "2025-02-14T15:30:00.000000000",
          "2025-02-14T16:30:00.000000000",
          "2025-02-14T17:30:00.000000000",
          "2025-02-14T18:30:00.000000000",
          "2025-02-14T19:30:00.000000000",
          "2025-02-14T20:30:00.000000000",
          "2025-02-18T14:30:00.000000000",
          "2025-02-18T15:30:00.000000000",
          "2025-02-18T16:30:00.000000000",
          "2025-02-18T17:30:00.000000000",
          "2025-02-18T18:30:00.000000000",
          "2025-02-18T19:30:00.000000000",
          "2025-02-18T20:30:00.000000000",
          "2025-02-19T14:30:00.000000000",
          "2025-02-19T15:30:00.000000000",
          "2025-02-19T16:30:00.000000000",
          "2025-02-19T17:30:00.000000000",
          "2025-02-19T18:30:00.000000000",
          "2025-02-19T19:30:00.000000000",
          "2025-02-19T20:30:00.000000000",
          "2025-02-20T14:30:00.000000000",
          "2025-02-20T15:30:00.000000000",
          "2025-02-20T16:30:00.000000000",
          "2025-02-20T17:30:00.000000000",
          "2025-02-20T18:30:00.000000000",
          "2025-02-20T19:30:00.000000000",
          "2025-02-20T20:30:00.000000000",
          "2025-02-21T14:30:00.000000000",
          "2025-02-21T15:30:00.000000000",
          "2025-02-21T16:30:00.000000000",
          "2025-02-21T17:30:00.000000000",
          "2025-02-21T18:30:00.000000000",
          "2025-02-21T19:30:00.000000000",
          "2025-02-21T20:30:00.000000000",
          "2025-02-24T14:30:00.000000000",
          "2025-02-24T15:30:00.000000000",
          "2025-02-24T16:30:00.000000000",
          "2025-02-24T17:30:00.000000000",
          "2025-02-24T18:30:00.000000000",
          "2025-02-24T19:30:00.000000000",
          "2025-02-24T20:30:00.000000000",
          "2025-02-25T14:30:00.000000000",
          "2025-02-25T15:30:00.000000000",
          "2025-02-25T16:30:00.000000000",
          "2025-02-25T17:30:00.000000000",
          "2025-02-25T18:30:00.000000000",
          "2025-02-25T19:30:00.000000000",
          "2025-02-25T20:30:00.000000000",
          "2025-02-26T14:30:00.000000000",
          "2025-02-26T15:30:00.000000000",
          "2025-02-26T16:30:00.000000000",
          "2025-02-26T17:30:00.000000000",
          "2025-02-26T18:30:00.000000000",
          "2025-02-26T19:30:00.000000000",
          "2025-02-26T20:30:00.000000000",
          "2025-02-27T14:30:00.000000000",
          "2025-02-27T15:30:00.000000000",
          "2025-02-27T16:30:00.000000000",
          "2025-02-27T17:30:00.000000000",
          "2025-02-27T18:30:00.000000000",
          "2025-02-27T19:30:00.000000000",
          "2025-02-27T20:30:00.000000000"
         ],
         "xaxis": "x",
         "y": {
          "bdata": "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",
          "dtype": "f8"
         },
         "yaxis": "y"
        }
       ],
       "layout": {
        "legend": {
         "tracegroupgap": 0
        },
        "plot_bgcolor": "white",
        "template": {
         "data": {
          "bar": [
           {
            "error_x": {
             "color": "#2a3f5f"
            },
            "error_y": {
             "color": "#2a3f5f"
            },
            "marker": {
             "line": {
              "color": "#E5ECF6",
              "width": 0.5
             },
             "pattern": {
              "fillmode": "overlay",
              "size": 10,
              "solidity": 0.2
             }
            },
            "type": "bar"
           }
          ],
          "barpolar": [
           {
            "marker": {
             "line": {
              "color": "#E5ECF6",
              "width": 0.5
             },
             "pattern": {
              "fillmode": "overlay",
              "size": 10,
              "solidity": 0.2
             }
            },
            "type": "barpolar"
           }
          ],
          "carpet": [
           {
            "aaxis": {
             "endlinecolor": "#2a3f5f",
             "gridcolor": "white",
             "linecolor": "white",
             "minorgridcolor": "white",
             "startlinecolor": "#2a3f5f"
            },
            "baxis": {
             "endlinecolor": "#2a3f5f",
             "gridcolor": "white",
             "linecolor": "white",
             "minorgridcolor": "white",
             "startlinecolor": "#2a3f5f"
            },
            "type": "carpet"
           }
          ],
          "choropleth": [
           {
            "colorbar": {
             "outlinewidth": 0,
             "ticks": ""
            },
            "type": "choropleth"
           }
          ],
          "contour": [
           {
            "colorbar": {
             "outlinewidth": 0,
             "ticks": ""
            },
            "colorscale": [
             [
              0,
              "#0d0887"
             ],
             [
              0.1111111111111111,
              "#46039f"
             ],
             [
              0.2222222222222222,
              "#7201a8"
             ],
             [
              0.3333333333333333,
              "#9c179e"
             ],
             [
              0.4444444444444444,
              "#bd3786"
             ],
             [
              0.5555555555555556,
              "#d8576b"
             ],
             [
              0.6666666666666666,
              "#ed7953"
             ],
             [
              0.7777777777777778,
              "#fb9f3a"
             ],
             [
              0.8888888888888888,
              "#fdca26"
             ],
             [
              1,
              "#f0f921"
             ]
            ],
            "type": "contour"
           }
          ],
          "contourcarpet": [
           {
            "colorbar": {
             "outlinewidth": 0,
             "ticks": ""
            },
            "type": "contourcarpet"
           }
          ],
          "heatmap": [
           {
            "colorbar": {
             "outlinewidth": 0,
             "ticks": ""
            },
            "colorscale": [
             [
              0,
              "#0d0887"
             ],
             [
              0.1111111111111111,
              "#46039f"
             ],
             [
              0.2222222222222222,
              "#7201a8"
             ],
             [
              0.3333333333333333,
              "#9c179e"
             ],
             [
              0.4444444444444444,
              "#bd3786"
             ],
             [
              0.5555555555555556,
              "#d8576b"
             ],
             [
              0.6666666666666666,
              "#ed7953"
             ],
             [
              0.7777777777777778,
              "#fb9f3a"
             ],
             [
              0.8888888888888888,
              "#fdca26"
             ],
             [
              1,
              "#f0f921"
             ]
            ],
            "type": "heatmap"
           }
          ],
          "histogram": [
           {
            "marker": {
             "pattern": {
              "fillmode": "overlay",
              "size": 10,
              "solidity": 0.2
             }
            },
            "type": "histogram"
           }
          ],
          "histogram2d": [
           {
            "colorbar": {
             "outlinewidth": 0,
             "ticks": ""
            },
            "colorscale": [
             [
              0,
              "#0d0887"
             ],
             [
              0.1111111111111111,
              "#46039f"
             ],
             [
              0.2222222222222222,
              "#7201a8"
             ],
             [
              0.3333333333333333,
              "#9c179e"
             ],
             [
              0.4444444444444444,
              "#bd3786"
             ],
             [
              0.5555555555555556,
              "#d8576b"
             ],
             [
              0.6666666666666666,
              "#ed7953"
             ],
             [
              0.7777777777777778,
              "#fb9f3a"
             ],
             [
              0.8888888888888888,
              "#fdca26"
             ],
             [
              1,
              "#f0f921"
             ]
            ],
            "type": "histogram2d"
           }
          ],
          "histogram2dcontour": [
           {
            "colorbar": {
             "outlinewidth": 0,
             "ticks": ""
            },
            "colorscale": [
             [
              0,
              "#0d0887"
             ],
             [
              0.1111111111111111,
              "#46039f"
             ],
             [
              0.2222222222222222,
              "#7201a8"
             ],
             [
              0.3333333333333333,
              "#9c179e"
             ],
             [
              0.4444444444444444,
              "#bd3786"
             ],
             [
              0.5555555555555556,
              "#d8576b"
             ],
             [
              0.6666666666666666,
              "#ed7953"
             ],
             [
              0.7777777777777778,
              "#fb9f3a"
             ],
             [
              0.8888888888888888,
              "#fdca26"
             ],
             [
              1,
              "#f0f921"
             ]
            ],
            "type": "histogram2dcontour"
           }
          ],
          "mesh3d": [
           {
            "colorbar": {
             "outlinewidth": 0,
             "ticks": ""
            },
            "type": "mesh3d"
           }
          ],
          "parcoords": [
           {
            "line": {
             "colorbar": {
              "outlinewidth": 0,
              "ticks": ""
             }
            },
            "type": "parcoords"
           }
          ],
          "pie": [
           {
            "automargin": true,
            "type": "pie"
           }
          ],
          "scatter": [
           {
            "fillpattern": {
             "fillmode": "overlay",
             "size": 10,
             "solidity": 0.2
            },
            "type": "scatter"
           }
          ],
          "scatter3d": [
           {
            "line": {
             "colorbar": {
              "outlinewidth": 0,
              "ticks": ""
             }
            },
            "marker": {
             "colorbar": {
              "outlinewidth": 0,
              "ticks": ""
             }
            },
            "type": "scatter3d"
           }
          ],
          "scattercarpet": [
           {
            "marker": {
             "colorbar": {
              "outlinewidth": 0,
              "ticks": ""
             }
            },
            "type": "scattercarpet"
           }
          ],
          "scattergeo": [
           {
            "marker": {
             "colorbar": {
              "outlinewidth": 0,
              "ticks": ""
             }
            },
            "type": "scattergeo"
           }
          ],
          "scattergl": [
           {
            "marker": {
             "colorbar": {
              "outlinewidth": 0,
              "ticks": ""
             }
            },
            "type": "scattergl"
           }
          ],
          "scattermap": [
           {
            "marker": {
             "colorbar": {
              "outlinewidth": 0,
              "ticks": ""
             }
            },
            "type": "scattermap"
           }
          ],
          "scattermapbox": [
           {
            "marker": {
             "colorbar": {
              "outlinewidth": 0,
              "ticks": ""
             }
            },
            "type": "scattermapbox"
           }
          ],
          "scatterpolar": [
           {
            "marker": {
             "colorbar": {
              "outlinewidth": 0,
              "ticks": ""
             }
            },
            "type": "scatterpolar"
           }
          ],
          "scatterpolargl": [
           {
            "marker": {
             "colorbar": {
              "outlinewidth": 0,
              "ticks": ""
             }
            },
            "type": "scatterpolargl"
           }
          ],
          "scatterternary": [
           {
            "marker": {
             "colorbar": {
              "outlinewidth": 0,
              "ticks": ""
             }
            },
            "type": "scatterternary"
           }
          ],
          "surface": [
           {
            "colorbar": {
             "outlinewidth": 0,
             "ticks": ""
            },
            "colorscale": [
             [
              0,
              "#0d0887"
             ],
             [
              0.1111111111111111,
              "#46039f"
             ],
             [
              0.2222222222222222,
              "#7201a8"
             ],
             [
              0.3333333333333333,
              "#9c179e"
             ],
             [
              0.4444444444444444,
              "#bd3786"
             ],
             [
              0.5555555555555556,
              "#d8576b"
             ],
             [
              0.6666666666666666,
              "#ed7953"
             ],
             [
              0.7777777777777778,
              "#fb9f3a"
             ],
             [
              0.8888888888888888,
              "#fdca26"
             ],
             [
              1,
              "#f0f921"
             ]
            ],
            "type": "surface"
           }
          ],
          "table": [
           {
            "cells": {
             "fill": {
              "color": "#EBF0F8"
             },
             "line": {
              "color": "white"
             }
            },
            "header": {
             "fill": {
              "color": "#C8D4E3"
             },
             "line": {
              "color": "white"
             }
            },
            "type": "table"
           }
          ]
         },
         "layout": {
          "annotationdefaults": {
           "arrowcolor": "#2a3f5f",
           "arrowhead": 0,
           "arrowwidth": 1
          },
          "autotypenumbers": "strict",
          "coloraxis": {
           "colorbar": {
            "outlinewidth": 0,
            "ticks": ""
           }
          },
          "colorscale": {
           "diverging": [
            [
             0,
             "#8e0152"
            ],
            [
             0.1,
             "#c51b7d"
            ],
            [
             0.2,
             "#de77ae"
            ],
            [
             0.3,
             "#f1b6da"
            ],
            [
             0.4,
             "#fde0ef"
            ],
            [
             0.5,
             "#f7f7f7"
            ],
            [
             0.6,
             "#e6f5d0"
            ],
            [
             0.7,
             "#b8e186"
            ],
            [
             0.8,
             "#7fbc41"
            ],
            [
             0.9,
             "#4d9221"
            ],
            [
             1,
             "#276419"
            ]
           ],
           "sequential": [
            [
             0,
             "#0d0887"
            ],
            [
             0.1111111111111111,
             "#46039f"
            ],
            [
             0.2222222222222222,
             "#7201a8"
            ],
            [
             0.3333333333333333,
             "#9c179e"
            ],
            [
             0.4444444444444444,
             "#bd3786"
            ],
            [
             0.5555555555555556,
             "#d8576b"
            ],
            [
             0.6666666666666666,
             "#ed7953"
            ],
            [
             0.7777777777777778,
             "#fb9f3a"
            ],
            [
             0.8888888888888888,
             "#fdca26"
            ],
            [
             1,
             "#f0f921"
            ]
           ],
           "sequentialminus": [
            [
             0,
             "#0d0887"
            ],
            [
             0.1111111111111111,
             "#46039f"
            ],
            [
             0.2222222222222222,
             "#7201a8"
            ],
            [
             0.3333333333333333,
             "#9c179e"
            ],
            [
             0.4444444444444444,
             "#bd3786"
            ],
            [
             0.5555555555555556,
             "#d8576b"
            ],
            [
             0.6666666666666666,
             "#ed7953"
            ],
            [
             0.7777777777777778,
             "#fb9f3a"
            ],
            [
             0.8888888888888888,
             "#fdca26"
            ],
            [
             1,
             "#f0f921"
            ]
           ]
          },
          "colorway": [
           "#636efa",
           "#EF553B",
           "#00cc96",
           "#ab63fa",
           "#FFA15A",
           "#19d3f3",
           "#FF6692",
           "#B6E880",
           "#FF97FF",
           "#FECB52"
          ],
          "font": {
           "color": "#2a3f5f"
          },
          "geo": {
           "bgcolor": "white",
           "lakecolor": "white",
           "landcolor": "#E5ECF6",
           "showlakes": true,
           "showland": true,
           "subunitcolor": "white"
          },
          "hoverlabel": {
           "align": "left"
          },
          "hovermode": "closest",
          "mapbox": {
           "style": "light"
          },
          "paper_bgcolor": "white",
          "plot_bgcolor": "#E5ECF6",
          "polar": {
           "angularaxis": {
            "gridcolor": "white",
            "linecolor": "white",
            "ticks": ""
           },
           "bgcolor": "#E5ECF6",
           "radialaxis": {
            "gridcolor": "white",
            "linecolor": "white",
            "ticks": ""
           }
          },
          "scene": {
           "xaxis": {
            "backgroundcolor": "#E5ECF6",
            "gridcolor": "white",
            "gridwidth": 2,
            "linecolor": "white",
            "showbackground": true,
            "ticks": "",
            "zerolinecolor": "white"
           },
           "yaxis": {
            "backgroundcolor": "#E5ECF6",
            "gridcolor": "white",
            "gridwidth": 2,
            "linecolor": "white",
            "showbackground": true,
            "ticks": "",
            "zerolinecolor": "white"
           },
           "zaxis": {
            "backgroundcolor": "#E5ECF6",
            "gridcolor": "white",
            "gridwidth": 2,
            "linecolor": "white",
            "showbackground": true,
            "ticks": "",
            "zerolinecolor": "white"
           }
          },
          "shapedefaults": {
           "line": {
            "color": "#2a3f5f"
           }
          },
          "ternary": {
           "aaxis": {
            "gridcolor": "white",
            "linecolor": "white",
            "ticks": ""
           },
           "baxis": {
            "gridcolor": "white",
            "linecolor": "white",
            "ticks": ""
           },
           "bgcolor": "#E5ECF6",
           "caxis": {
            "gridcolor": "white",
            "linecolor": "white",
            "ticks": ""
           }
          },
          "title": {
           "x": 0.05
          },
          "xaxis": {
           "automargin": true,
           "gridcolor": "white",
           "linecolor": "white",
           "ticks": "",
           "title": {
            "standoff": 15
           },
           "zerolinecolor": "white",
           "zerolinewidth": 2
          },
          "yaxis": {
           "automargin": true,
           "gridcolor": "white",
           "linecolor": "white",
           "ticks": "",
           "title": {
            "standoff": 15
           },
           "zerolinecolor": "white",
           "zerolinewidth": 2
          }
         }
        },
        "title": {
         "font": {
          "size": 16
         },
         "text": "Strategy 2: Portfolio Value Over Time",
         "x": 0.5
        },
        "xaxis": {
         "anchor": "y",
         "domain": [
          0,
          1
         ],
         "gridcolor": "lightgray",
         "showgrid": true,
         "title": {
          "text": "Date"
         }
        },
        "yaxis": {
         "anchor": "x",
         "domain": [
          0,
          1
         ],
         "gridcolor": "lightgray",
         "showgrid": true,
         "title": {
          "text": "Portfolio Value ($)"
         }
        }
       }
      }
     },
     "metadata": {},
     "output_type": "display_data"
    },
    {
     "data": {
      "text/plain": [
       "<function __main__.strategy_2_dashboard(vix_lower=15, vix_upper=20, vvix_lower=90, vvix_upper=100, vvix_reentry_upper=95, start_date=datetime.date(2024, 1, 31), end_date=datetime.date(2025, 2, 28))>"
      ]
     },
     "execution_count": 42,
     "metadata": {},
     "output_type": "execute_result"
    }
   ],
   "source": [
    "import pandas as pd\n",
    "import numpy as np\n",
    "import plotly.express as px\n",
    "import ipywidgets as widgets\n",
    "from ipywidgets import interact\n",
    "from IPython.display import display\n",
    "import math\n",
    "import datetime\n",
    "\n",
    "# ---------------------------------------------------------------------\n",
    "# Ensure the Date column is datetime and get default date range values\n",
    "# ---------------------------------------------------------------------\n",
    "hourly_data[\"Date\"] = pd.to_datetime(hourly_data[\"Date\"])\n",
    "start_date_default = hourly_data[\"Date\"].min().date()\n",
    "end_date_default = hourly_data[\"Date\"].max().date()\n",
    "\n",
    "# ---------------------------------------------------------------------\n",
    "# 1) Define the Backtest Function for Strategy 2\n",
    "# ---------------------------------------------------------------------\n",
    "def backtest_strategy_2(\n",
    "    vix_lower=15,\n",
    "    vix_upper=20,\n",
    "    vvix_lower=90,\n",
    "    vvix_upper=100,\n",
    "    vvix_reentry_upper=95,\n",
    "    start_date=start_date_default,\n",
    "    end_date=end_date_default\n",
    "):\n",
    "    \"\"\"\n",
    "    Backtests Strategy 2 with the following conditions:\n",
    "      - In-Market:   vix_lower <= VIX <= vix_upper AND vvix_lower <= VVIX < vvix_upper\n",
    "      - Exit:        VIX < vix_lower OR VIX > vix_upper OR VVIX < vvix_lower OR VVIX >= vvix_upper\n",
    "      - Re-Entry:    vix_lower <= VIX <= vix_upper AND vvix_lower <= VVIX <= vvix_reentry_upper\n",
    "    The data is filtered to the provided date range.\n",
    "    \"\"\"\n",
    "    # Copy and filter data based on the date range\n",
    "    df = hourly_data.copy()\n",
    "    df = df[(df[\"Date\"] >= pd.to_datetime(start_date)) & (df[\"Date\"] <= pd.to_datetime(end_date))]\n",
    "    df.sort_values(\"Date\", inplace=True)\n",
    "    df.reset_index(drop=True, inplace=True)\n",
    "\n",
    "    # Set initial portfolio value\n",
    "    initial_investment = 10_000.0\n",
    "    df[\"Portfolio_Value\"] = np.nan\n",
    "    df.loc[0, \"Portfolio_Value\"] = initial_investment\n",
    "\n",
    "    df[\"In_Market\"] = False\n",
    "    df.loc[0, \"In_Market\"] = False\n",
    "\n",
    "    df[\"Shares_Held\"] = 0.0\n",
    "    df.loc[0, \"Shares_Held\"] = 0.0\n",
    "\n",
    "    df[\"Strategy\"] = \"No Investment\"\n",
    "\n",
    "    # Define helper functions using user-specified parameters\n",
    "    def in_market_condition(vix, vvix):\n",
    "        return (vix_lower <= vix <= vix_upper) and (vvix_lower <= vvix < vvix_upper)\n",
    "\n",
    "    def exit_condition(vix, vvix):\n",
    "        return (vix < vix_lower) or (vix > vix_upper) or (vvix < vvix_lower) or (vvix >= vvix_upper)\n",
    "\n",
    "    def reentry_condition(vix, vvix):\n",
    "        return (vix_lower <= vix <= vix_upper) and (vvix_lower <= vvix <= vvix_reentry_upper)\n",
    "\n",
    "    # Backtest loop\n",
    "    for i in range(1, len(df)):\n",
    "        df.loc[i, \"Portfolio_Value\"] = df.loc[i-1, \"Portfolio_Value\"]\n",
    "        df.loc[i, \"In_Market\"] = df.loc[i-1, \"In_Market\"]\n",
    "        df.loc[i, \"Shares_Held\"] = df.loc[i-1, \"Shares_Held\"]\n",
    "\n",
    "        vix_today = df.loc[i, \"VIX\"]\n",
    "        vvix_today = df.loc[i, \"VVIX\"]\n",
    "        ymax_price_today = df.loc[i, \"YMAX\"]\n",
    "        ymax_div_today = df.loc[i, \"YMAX Dividends\"]\n",
    "\n",
    "        currently_in_market = df.loc[i-1, \"In_Market\"]\n",
    "\n",
    "        if currently_in_market:\n",
    "            if exit_condition(vix_today, vvix_today):\n",
    "                # Exit position\n",
    "                df.loc[i, \"In_Market\"] = False\n",
    "                df.loc[i, \"Shares_Held\"] = 0.0\n",
    "                df.loc[i, \"Strategy\"] = \"No Investment\"\n",
    "            else:\n",
    "                # Remain in the market and update portfolio value\n",
    "                shares_held = df.loc[i, \"Shares_Held\"]\n",
    "                df.loc[i, \"Portfolio_Value\"] = shares_held * (ymax_price_today + ymax_div_today)\n",
    "                df.loc[i, \"Strategy\"] = \"Long YMAX\"\n",
    "        else:\n",
    "            if reentry_condition(vix_today, vvix_today):\n",
    "                # Enter the market: use all available cash to buy shares\n",
    "                cash_available = df.loc[i, \"Portfolio_Value\"]\n",
    "                if ymax_price_today > 0:\n",
    "                    shares_bought = cash_available / ymax_price_today\n",
    "                    df.loc[i, \"Shares_Held\"] = shares_bought\n",
    "                    df.loc[i, \"In_Market\"] = True\n",
    "                    df.loc[i, \"Strategy\"] = \"Long YMAX\"\n",
    "                    df.loc[i, \"Portfolio_Value\"] = shares_bought * (ymax_price_today + ymax_div_today)\n",
    "                else:\n",
    "                    df.loc[i, \"Strategy\"] = \"No Investment\"\n",
    "            else:\n",
    "                df.loc[i, \"Strategy\"] = \"No Investment\"\n",
    "\n",
    "    df[\"Portfolio_Return\"] = df[\"Portfolio_Value\"].pct_change()\n",
    "    return df\n",
    "\n",
    "# ---------------------------------------------------------------------\n",
    "# 2) Define a Function to Compute Performance Metrics\n",
    "# ---------------------------------------------------------------------\n",
    "def compute_performance_metrics(backtest_df):\n",
    "    final_value = backtest_df[\"Portfolio_Value\"].iloc[-1]\n",
    "    initial_value = backtest_df[\"Portfolio_Value\"].iloc[0]\n",
    "    total_return_pct = ((final_value - initial_value) / initial_value) * 100.0\n",
    "\n",
    "    # Calculate max drawdown\n",
    "    rolling_max = backtest_df[\"Portfolio_Value\"].cummax()\n",
    "    drawdown = (backtest_df[\"Portfolio_Value\"] - rolling_max) / rolling_max\n",
    "    max_drawdown_pct = drawdown.min() * 100.0\n",
    "\n",
    "    # Calculate approximate CAGR if data spans at least one year\n",
    "    days = (backtest_df[\"Date\"].iloc[-1] - backtest_df[\"Date\"].iloc[0]).days\n",
    "    years = days / 365.0 if days > 0 else 0\n",
    "    if years > 0:\n",
    "        cagr_pct = (final_value / initial_value) ** (1 / years) - 1\n",
    "        cagr_pct *= 100.0\n",
    "    else:\n",
    "        cagr_pct = np.nan\n",
    "\n",
    "    metrics = {\n",
    "        \"Final Portfolio Value ($)\": f\"{final_value:,.2f}\",\n",
    "        \"Total Return (%)\": f\"{total_return_pct:,.2f}\",\n",
    "        \"Max Drawdown (%)\": f\"{max_drawdown_pct:,.2f}\",\n",
    "        \"CAGR (%)\": f\"{cagr_pct:,.2f}\" if not math.isnan(cagr_pct) else \"N/A\"\n",
    "    }\n",
    "    return metrics\n",
    "\n",
    "# ---------------------------------------------------------------------\n",
    "# 3) Dashboard Function with Plotly and ipywidgets\n",
    "# ---------------------------------------------------------------------\n",
    "def strategy_2_dashboard(\n",
    "    vix_lower=15,\n",
    "    vix_upper=20,\n",
    "    vvix_lower=90,\n",
    "    vvix_upper=100,\n",
    "    vvix_reentry_upper=95,\n",
    "    start_date=start_date_default,\n",
    "    end_date=end_date_default\n",
    "):\n",
    "    \"\"\"\n",
    "    Runs the backtest for Strategy 2 with the specified parameters and date range.\n",
    "    Displays a Plotly plot of the portfolio value over time and performance summary metrics.\n",
    "    \"\"\"\n",
    "    # Run the backtest\n",
    "    result_df = backtest_strategy_2(\n",
    "        vix_lower=vix_lower,\n",
    "        vix_upper=vix_upper,\n",
    "        vvix_lower=vvix_lower,\n",
    "        vvix_upper=vvix_upper,\n",
    "        vvix_reentry_upper=vvix_reentry_upper,\n",
    "        start_date=start_date,\n",
    "        end_date=end_date\n",
    "    )\n",
    "\n",
    "    # Create a Plotly line chart of Portfolio Value over time\n",
    "    fig = px.line(\n",
    "        result_df,\n",
    "        x=\"Date\",\n",
    "        y=\"Portfolio_Value\",\n",
    "        title=\"Strategy 2: Portfolio Value Over Time\",\n",
    "        labels={\"Date\": \"Date\", \"Portfolio_Value\": \"Portfolio Value ($)\"}\n",
    "    )\n",
    "    fig.update_traces(line=dict(color=\"blue\", width=2))\n",
    "    fig.update_layout(\n",
    "        title_x=0.5,\n",
    "        title_font_size=16,\n",
    "        xaxis=dict(showgrid=True, gridcolor=\"lightgray\"),\n",
    "        yaxis=dict(showgrid=True, gridcolor=\"lightgray\"),\n",
    "        plot_bgcolor=\"white\"\n",
    "    )\n",
    "    fig.show()\n",
    "\n",
    "    # Compute performance metrics and display below the plot\n",
    "    metrics = compute_performance_metrics(result_df)\n",
    "    display_str = (\n",
    "        f\"**Final Portfolio Value ($)**: {metrics['Final Portfolio Value ($)']}\\n\\n\"\n",
    "        f\"**Total Return (%)**: {metrics['Total Return (%)']}%\\n\\n\"\n",
    "        f\"**Max Drawdown (%)**: {metrics['Max Drawdown (%)']}%\\n\\n\"\n",
    "        f\"**CAGR (%)**: {metrics['CAGR (%)']}\\n\\n\"\n",
    "    )\n",
    "    display(widgets.HTML(value=f\"<pre style='font-size:14px'>{display_str}</pre>\"))\n",
    "\n",
    "# ---------------------------------------------------------------------\n",
    "# 4) Create Interactive Widgets for Parameters (including date pickers)\n",
    "# ---------------------------------------------------------------------\n",
    "start_date_picker = widgets.DatePicker(\n",
    "    value=start_date_default,\n",
    "    description=\"Start Date\",\n",
    "    disabled=False\n",
    ")\n",
    "end_date_picker = widgets.DatePicker(\n",
    "    value=end_date_default,\n",
    "    description=\"End Date\",\n",
    "    disabled=False\n",
    ")\n",
    "\n",
    "interact(\n",
    "    strategy_2_dashboard,\n",
    "    vix_lower=widgets.IntSlider(value=15, min=0, max=40, step=1, description=\"VIX Lower\"),\n",
    "    vix_upper=widgets.IntSlider(value=20, min=0, max=40, step=1, description=\"VIX Upper\"),\n",
    "    vvix_lower=widgets.IntSlider(value=90, min=0, max=200, step=1, description=\"VVIX Lower\"),\n",
    "    vvix_upper=widgets.IntSlider(value=100, min=0, max=200, step=1, description=\"VVIX Upper\"),\n",
    "    vvix_reentry_upper=widgets.IntSlider(value=95, min=0, max=200, step=1, description=\"VVIX Re-Entry Upper\"),\n",
    "    start_date=start_date_picker,\n",
    "    end_date=end_date_picker\n",
    ")\n"
   ]
  },
  {
   "cell_type": "code",
   "execution_count": null,
   "metadata": {},
   "outputs": [],
   "source": []
  },
  {
   "cell_type": "code",
   "execution_count": null,
   "metadata": {},
   "outputs": [],
   "source": []
  },
  {
   "cell_type": "code",
   "execution_count": null,
   "metadata": {},
   "outputs": [],
   "source": []
  }
 ],
 "metadata": {
  "kernelspec": {
   "display_name": "Python 3",
   "language": "python",
   "name": "python3"
  },
  "language_info": {
   "codemirror_mode": {
    "name": "ipython",
    "version": 3
   },
   "file_extension": ".py",
   "mimetype": "text/x-python",
   "name": "python",
   "nbconvert_exporter": "python",
   "pygments_lexer": "ipython3",
   "version": "3.13.2"
  }
 },
 "nbformat": 4,
 "nbformat_minor": 2
}
