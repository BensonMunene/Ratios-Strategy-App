{
 "cells": [
  {
   "cell_type": "code",
   "execution_count": 39,
   "metadata": {},
   "outputs": [],
   "source": [
    "import pandas as pd\n",
    "import numpy as np\n",
    "import os\n",
    "import matplotlib.pyplot as plt\n",
    "import seaborn as sns\n",
    "from mplfinance.original_flavor import candlestick_ohlc\n",
    "import matplotlib.dates as mdates\n",
    "import matplotlib.ticker as mticker\n",
    "import yfinance as yf\n",
    "from datetime import datetime"
   ]
  },
  {
   "cell_type": "code",
   "execution_count": 40,
   "metadata": {},
   "outputs": [],
   "source": [
    "# Suppress all warnings\n",
    "import warnings\n",
    "warnings.simplefilter(action='ignore', category=Warning)"
   ]
  },
  {
   "cell_type": "code",
   "execution_count": 41,
   "metadata": {},
   "outputs": [],
   "source": [
    "# Set the working directory\n",
    "os.chdir(r\"D:\\Benson\\aUpWork\\Douglas Backtester Algo\\Backtester Algorithm\\Data\")"
   ]
  },
  {
   "cell_type": "code",
   "execution_count": 42,
   "metadata": {},
   "outputs": [
    {
     "name": "stdout",
     "output_type": "stream",
     "text": [
      "Display set to show all rows and columns.\n",
      "Display options reset to default.\n"
     ]
    }
   ],
   "source": [
    "# Function to view all rows and columns\n",
    "def view_all():\n",
    "    pd.set_option('display.max_rows', None)  # Show all rows\n",
    "    pd.set_option('display.max_columns', None)  # Show all columns\n",
    "    print(\"Display set to show all rows and columns.\")\n",
    "\n",
    "# Function to reset display options to default\n",
    "def reset_display():\n",
    "    pd.reset_option('display.max_rows')\n",
    "    pd.reset_option('display.max_columns')\n",
    "    print(\"Display options reset to default.\")\n",
    "\n",
    "# Example Usage\n",
    "view_all()  # Set to view all rows and columns\n",
    "reset_display()  # Reset to default display settings\n"
   ]
  },
  {
   "cell_type": "code",
   "execution_count": 43,
   "metadata": {},
   "outputs": [
    {
     "data": {
      "application/vnd.microsoft.datawrangler.viewer.v0+json": {
       "columns": [
        {
         "name": "index",
         "rawType": "int64",
         "type": "integer"
        },
        {
         "name": "Date",
         "rawType": "datetime64[ns]",
         "type": "datetime"
        },
        {
         "name": "Price",
         "rawType": "float64",
         "type": "float"
        },
        {
         "name": "Open",
         "rawType": "float64",
         "type": "float"
        },
        {
         "name": "High",
         "rawType": "float64",
         "type": "float"
        },
        {
         "name": "Low",
         "rawType": "float64",
         "type": "float"
        }
       ],
       "conversionMethod": "pd.DataFrame",
       "ref": "6b5e280a-5c9d-486f-8f98-faba515c869f",
       "rows": [
        [
         "0",
         "2025-02-13 00:00:00",
         "0.05",
         null,
         null,
         null
        ],
        [
         "1",
         "2025-02-13 00:00:00",
         "18.19",
         "18.05",
         "18.2",
         "18.0"
        ],
        [
         "2",
         "2025-02-12 00:00:00",
         "18.04",
         "17.91",
         "18.08",
         "17.85"
        ],
        [
         "3",
         "2025-02-11 00:00:00",
         "18.01",
         "18.07",
         "18.12",
         "17.95"
        ],
        [
         "4",
         "2025-02-10 00:00:00",
         "18.07",
         "18.13",
         "18.21",
         "18.07"
        ],
        [
         "5",
         "2025-02-07 00:00:00",
         "18.07",
         "18.24",
         "18.34",
         "18.0"
        ],
        [
         "6",
         "2025-02-06 00:00:00",
         "0.19",
         null,
         null,
         null
        ],
        [
         "7",
         "2025-02-06 00:00:00",
         "18.29",
         "18.21",
         "18.29",
         "18.14"
        ],
        [
         "8",
         "2025-02-05 00:00:00",
         "18.4",
         "18.37",
         "18.4",
         "18.24"
        ],
        [
         "9",
         "2025-02-04 00:00:00",
         "18.55",
         "18.37",
         "18.55",
         "18.29"
        ],
        [
         "10",
         "2025-02-03 00:00:00",
         "18.29",
         "18.18",
         "18.34",
         "18.03"
        ],
        [
         "11",
         "2025-01-31 00:00:00",
         "18.57",
         "18.65",
         "18.81",
         "18.46"
        ],
        [
         "12",
         "2025-01-30 00:00:00",
         "0.19",
         null,
         null,
         null
        ],
        [
         "13",
         "2025-01-30 00:00:00",
         "18.55",
         "18.64",
         "18.64",
         "18.25"
        ],
        [
         "14",
         "2025-01-29 00:00:00",
         "18.72",
         "18.77",
         "18.79",
         "18.51"
        ],
        [
         "15",
         "2025-01-28 00:00:00",
         "18.81",
         "18.48",
         "18.83",
         "18.35"
        ],
        [
         "16",
         "2025-01-27 00:00:00",
         "18.39",
         "18.27",
         "18.53",
         "18.18"
        ],
        [
         "17",
         "2025-01-24 00:00:00",
         "18.93",
         "19.0",
         "19.07",
         "18.83"
        ],
        [
         "18",
         "2025-01-23 00:00:00",
         "0.1",
         null,
         null,
         null
        ],
        [
         "19",
         "2025-01-23 00:00:00",
         "18.94",
         "18.94",
         "18.97",
         "18.85"
        ],
        [
         "20",
         "2025-01-22 00:00:00",
         "19.06",
         "18.94",
         "19.09",
         "18.9"
        ],
        [
         "21",
         "2025-01-21 00:00:00",
         "18.9",
         "18.99",
         "18.99",
         "18.64"
        ],
        [
         "22",
         "2025-01-17 00:00:00",
         "18.79",
         "18.8",
         "18.91",
         "18.74"
        ],
        [
         "23",
         "2025-01-16 00:00:00",
         "0.05",
         null,
         null,
         null
        ],
        [
         "24",
         "2025-01-16 00:00:00",
         "18.59",
         "18.85",
         "18.85",
         "18.55"
        ],
        [
         "25",
         "2025-01-15 00:00:00",
         "18.85",
         "18.67",
         "18.9",
         "18.59"
        ],
        [
         "26",
         "2025-01-14 00:00:00",
         "18.44",
         "18.7",
         "18.7",
         "18.29"
        ],
        [
         "27",
         "2025-01-13 00:00:00",
         "18.6",
         "18.36",
         "18.6",
         "18.25"
        ],
        [
         "28",
         "2025-01-10 00:00:00",
         "18.71",
         "18.79",
         "18.8",
         "18.42"
        ],
        [
         "29",
         "2025-01-08 00:00:00",
         "0.16",
         null,
         null,
         null
        ],
        [
         "30",
         "2025-01-08 00:00:00",
         "18.84",
         "18.93",
         "18.99",
         "18.71"
        ],
        [
         "31",
         "2025-01-07 00:00:00",
         "19.09",
         "19.48",
         "19.51",
         "18.96"
        ],
        [
         "32",
         "2025-01-06 00:00:00",
         "19.45",
         "19.4",
         "19.5",
         "19.31"
        ],
        [
         "33",
         "2025-01-03 00:00:00",
         "0.31",
         null,
         null,
         null
        ],
        [
         "34",
         "2025-01-03 00:00:00",
         "19.2",
         "19.0",
         "19.2",
         "18.93"
        ],
        [
         "35",
         "2025-01-02 00:00:00",
         "19.18",
         "19.33",
         "19.35",
         "18.95"
        ],
        [
         "36",
         "2024-12-31 00:00:00",
         "19.25",
         "19.58",
         "19.58",
         "19.19"
        ],
        [
         "37",
         "2024-12-30 00:00:00",
         "19.51",
         "19.43",
         "19.58",
         "19.33"
        ],
        [
         "38",
         "2024-12-27 00:00:00",
         "0.17",
         null,
         null,
         null
        ],
        [
         "39",
         "2024-12-27 00:00:00",
         "19.72",
         "19.92",
         "19.92",
         "19.45"
        ],
        [
         "40",
         "2024-12-26 00:00:00",
         "20.18",
         "20.21",
         "20.21",
         "20.05"
        ],
        [
         "41",
         "2024-12-24 00:00:00",
         "20.21",
         "20.0",
         "20.21",
         "19.93"
        ],
        [
         "42",
         "2024-12-23 00:00:00",
         "19.88",
         "19.8",
         "19.89",
         "19.56"
        ],
        [
         "43",
         "2024-12-20 00:00:00",
         "19.63",
         "19.34",
         "19.91",
         "19.26"
        ],
        [
         "44",
         "2024-12-19 00:00:00",
         "0.06",
         null,
         null,
         null
        ],
        [
         "45",
         "2024-12-19 00:00:00",
         "19.6",
         "19.87",
         "19.87",
         "19.58"
        ],
        [
         "46",
         "2024-12-18 00:00:00",
         "19.62",
         "20.34",
         "20.41",
         "19.51"
        ],
        [
         "47",
         "2024-12-17 00:00:00",
         "20.35",
         "20.31",
         "20.35",
         "20.14"
        ],
        [
         "48",
         "2024-12-16 00:00:00",
         "20.31",
         "20.16",
         "20.33",
         "20.08"
        ],
        [
         "49",
         "2024-12-13 00:00:00",
         "20.0",
         "20.08",
         "20.12",
         "19.9"
        ]
       ],
       "shape": {
        "columns": 5,
        "rows": 289
       }
      },
      "text/html": [
       "<div>\n",
       "<style scoped>\n",
       "    .dataframe tbody tr th:only-of-type {\n",
       "        vertical-align: middle;\n",
       "    }\n",
       "\n",
       "    .dataframe tbody tr th {\n",
       "        vertical-align: top;\n",
       "    }\n",
       "\n",
       "    .dataframe thead th {\n",
       "        text-align: right;\n",
       "    }\n",
       "</style>\n",
       "<table border=\"1\" class=\"dataframe\">\n",
       "  <thead>\n",
       "    <tr style=\"text-align: right;\">\n",
       "      <th></th>\n",
       "      <th>Date</th>\n",
       "      <th>Price</th>\n",
       "      <th>Open</th>\n",
       "      <th>High</th>\n",
       "      <th>Low</th>\n",
       "    </tr>\n",
       "  </thead>\n",
       "  <tbody>\n",
       "    <tr>\n",
       "      <th>0</th>\n",
       "      <td>2025-02-13</td>\n",
       "      <td>0.05</td>\n",
       "      <td>NaN</td>\n",
       "      <td>NaN</td>\n",
       "      <td>NaN</td>\n",
       "    </tr>\n",
       "    <tr>\n",
       "      <th>1</th>\n",
       "      <td>2025-02-13</td>\n",
       "      <td>18.19</td>\n",
       "      <td>18.05</td>\n",
       "      <td>18.20</td>\n",
       "      <td>18.00</td>\n",
       "    </tr>\n",
       "    <tr>\n",
       "      <th>2</th>\n",
       "      <td>2025-02-12</td>\n",
       "      <td>18.04</td>\n",
       "      <td>17.91</td>\n",
       "      <td>18.08</td>\n",
       "      <td>17.85</td>\n",
       "    </tr>\n",
       "    <tr>\n",
       "      <th>3</th>\n",
       "      <td>2025-02-11</td>\n",
       "      <td>18.01</td>\n",
       "      <td>18.07</td>\n",
       "      <td>18.12</td>\n",
       "      <td>17.95</td>\n",
       "    </tr>\n",
       "    <tr>\n",
       "      <th>4</th>\n",
       "      <td>2025-02-10</td>\n",
       "      <td>18.07</td>\n",
       "      <td>18.13</td>\n",
       "      <td>18.21</td>\n",
       "      <td>18.07</td>\n",
       "    </tr>\n",
       "    <tr>\n",
       "      <th>...</th>\n",
       "      <td>...</td>\n",
       "      <td>...</td>\n",
       "      <td>...</td>\n",
       "      <td>...</td>\n",
       "      <td>...</td>\n",
       "    </tr>\n",
       "    <tr>\n",
       "      <th>284</th>\n",
       "      <td>2024-02-06</td>\n",
       "      <td>20.20</td>\n",
       "      <td>20.16</td>\n",
       "      <td>20.28</td>\n",
       "      <td>20.05</td>\n",
       "    </tr>\n",
       "    <tr>\n",
       "      <th>285</th>\n",
       "      <td>2024-02-05</td>\n",
       "      <td>20.19</td>\n",
       "      <td>20.34</td>\n",
       "      <td>20.34</td>\n",
       "      <td>19.95</td>\n",
       "    </tr>\n",
       "    <tr>\n",
       "      <th>286</th>\n",
       "      <td>2024-02-02</td>\n",
       "      <td>20.30</td>\n",
       "      <td>20.18</td>\n",
       "      <td>20.32</td>\n",
       "      <td>19.99</td>\n",
       "    </tr>\n",
       "    <tr>\n",
       "      <th>287</th>\n",
       "      <td>2024-02-01</td>\n",
       "      <td>19.75</td>\n",
       "      <td>19.68</td>\n",
       "      <td>19.76</td>\n",
       "      <td>19.60</td>\n",
       "    </tr>\n",
       "    <tr>\n",
       "      <th>288</th>\n",
       "      <td>2024-01-31</td>\n",
       "      <td>19.49</td>\n",
       "      <td>19.69</td>\n",
       "      <td>19.69</td>\n",
       "      <td>19.45</td>\n",
       "    </tr>\n",
       "  </tbody>\n",
       "</table>\n",
       "<p>289 rows × 5 columns</p>\n",
       "</div>"
      ],
      "text/plain": [
       "          Date  Price   Open   High    Low\n",
       "0   2025-02-13   0.05    NaN    NaN    NaN\n",
       "1   2025-02-13  18.19  18.05  18.20  18.00\n",
       "2   2025-02-12  18.04  17.91  18.08  17.85\n",
       "3   2025-02-11  18.01  18.07  18.12  17.95\n",
       "4   2025-02-10  18.07  18.13  18.21  18.07\n",
       "..         ...    ...    ...    ...    ...\n",
       "284 2024-02-06  20.20  20.16  20.28  20.05\n",
       "285 2024-02-05  20.19  20.34  20.34  19.95\n",
       "286 2024-02-02  20.30  20.18  20.32  19.99\n",
       "287 2024-02-01  19.75  19.68  19.76  19.60\n",
       "288 2024-01-31  19.49  19.69  19.69  19.45\n",
       "\n",
       "[289 rows x 5 columns]"
      ]
     },
     "execution_count": 43,
     "metadata": {},
     "output_type": "execute_result"
    }
   ],
   "source": [
    "# Load the excel data file\n",
    "file_path = r\"YMAG ETF Price & Dividends.xlsx\"\n",
    "YMAG = pd.read_excel(file_path)\n",
    "\n",
    "# Convert 'Date' column to datetime\n",
    "YMAG[\"Date\"] = pd.to_datetime(YMAG[\"Date\"])\n",
    "\n",
    "# Drop unnecessary columns\n",
    "YMAG = YMAG.drop(columns=['Vol.', 'Change %'])\n",
    "\n",
    "# Display the first few rows\n",
    "YMAG"
   ]
  },
  {
   "cell_type": "code",
   "execution_count": 44,
   "metadata": {},
   "outputs": [
    {
     "data": {
      "text/plain": [
       "Date      0\n",
       "Price     0\n",
       "Open     28\n",
       "High     28\n",
       "Low      28\n",
       "dtype: int64"
      ]
     },
     "execution_count": 44,
     "metadata": {},
     "output_type": "execute_result"
    }
   ],
   "source": [
    "# check for missing values in YMAX\n",
    "YMAG.isnull().sum()"
   ]
  },
  {
   "cell_type": "code",
   "execution_count": 45,
   "metadata": {},
   "outputs": [
    {
     "data": {
      "application/vnd.microsoft.datawrangler.viewer.v0+json": {
       "columns": [
        {
         "name": "index",
         "rawType": "int64",
         "type": "integer"
        },
        {
         "name": "Date",
         "rawType": "datetime64[ns]",
         "type": "datetime"
        },
        {
         "name": "Price",
         "rawType": "float64",
         "type": "float"
        },
        {
         "name": "Open",
         "rawType": "float64",
         "type": "float"
        },
        {
         "name": "High",
         "rawType": "float64",
         "type": "float"
        },
        {
         "name": "Low",
         "rawType": "float64",
         "type": "float"
        }
       ],
       "conversionMethod": "pd.DataFrame",
       "ref": "80138930-ac6c-4ace-a552-f988198a5d74",
       "rows": [
        [
         "0",
         "2025-02-13 00:00:00",
         "0.15",
         null,
         null,
         null
        ],
        [
         "1",
         "2025-02-13 00:00:00",
         "16.64",
         "16.47",
         "16.64",
         "16.38"
        ],
        [
         "2",
         "2025-02-12 00:00:00",
         "16.6",
         "16.39",
         "16.62",
         "16.33"
        ],
        [
         "3",
         "2025-02-11 00:00:00",
         "16.41",
         "16.57",
         "16.63",
         "16.39"
        ],
        [
         "4",
         "2025-02-10 00:00:00",
         "16.67",
         "16.53",
         "16.68",
         "16.53"
        ],
        [
         "5",
         "2025-02-07 00:00:00",
         "16.44",
         "16.51",
         "16.69",
         "16.4"
        ],
        [
         "6",
         "2025-02-06 00:00:00",
         "0.19",
         null,
         null,
         null
        ],
        [
         "7",
         "2025-02-06 00:00:00",
         "16.48",
         "16.49",
         "16.51",
         "16.36"
        ],
        [
         "8",
         "2025-02-05 00:00:00",
         "16.57",
         "16.68",
         "16.69",
         "16.54"
        ],
        [
         "9",
         "2025-02-04 00:00:00",
         "16.68",
         "16.58",
         "16.73",
         "16.56"
        ],
        [
         "10",
         "2025-02-03 00:00:00",
         "16.43",
         "16.17",
         "16.53",
         "16.16"
        ],
        [
         "11",
         "2025-01-31 00:00:00",
         "16.6",
         "16.79",
         "16.9",
         "16.55"
        ],
        [
         "12",
         "2025-01-30 00:00:00",
         "0.15",
         null,
         null,
         null
        ],
        [
         "13",
         "2025-01-30 00:00:00",
         "16.71",
         "16.63",
         "16.8",
         "16.61"
        ],
        [
         "14",
         "2025-01-29 00:00:00",
         "16.7",
         "16.79",
         "16.8",
         "16.55"
        ],
        [
         "15",
         "2025-01-28 00:00:00",
         "16.72",
         "16.57",
         "16.73",
         "16.33"
        ],
        [
         "16",
         "2025-01-27 00:00:00",
         "16.4",
         "16.44",
         "16.62",
         "16.23"
        ],
        [
         "17",
         "2025-01-24 00:00:00",
         "16.89",
         "17.0",
         "17.08",
         "16.86"
        ],
        [
         "18",
         "2025-01-23 00:00:00",
         "0.17",
         null,
         null,
         null
        ],
        [
         "19",
         "2025-01-23 00:00:00",
         "16.96",
         "16.8",
         "16.97",
         "16.77"
        ],
        [
         "20",
         "2025-01-22 00:00:00",
         "17.03",
         "17.04",
         "17.09",
         "16.97"
        ],
        [
         "21",
         "2025-01-21 00:00:00",
         "16.88",
         "17.08",
         "17.08",
         "16.72"
        ],
        [
         "22",
         "2025-01-17 00:00:00",
         "16.77",
         "16.68",
         "16.8",
         "16.64"
        ],
        [
         "23",
         "2025-01-16 00:00:00",
         "0.11",
         null,
         null,
         null
        ],
        [
         "24",
         "2025-01-16 00:00:00",
         "16.51",
         "16.57",
         "16.64",
         "16.5"
        ],
        [
         "25",
         "2025-01-15 00:00:00",
         "16.67",
         "16.64",
         "16.74",
         "16.52"
        ],
        [
         "26",
         "2025-01-14 00:00:00",
         "16.31",
         "16.45",
         "16.5",
         "16.22"
        ],
        [
         "27",
         "2025-01-13 00:00:00",
         "16.25",
         "16.1",
         "16.26",
         "15.99"
        ],
        [
         "28",
         "2025-01-10 00:00:00",
         "16.52",
         "16.65",
         "16.67",
         "16.33"
        ],
        [
         "29",
         "2025-01-08 00:00:00",
         "0.14",
         null,
         null,
         null
        ],
        [
         "30",
         "2025-01-08 00:00:00",
         "16.73",
         "16.96",
         "16.96",
         "16.53"
        ],
        [
         "31",
         "2025-01-07 00:00:00",
         "17.11",
         "17.51",
         "17.53",
         "17.01"
        ],
        [
         "32",
         "2025-01-06 00:00:00",
         "17.47",
         "17.46",
         "17.52",
         "17.38"
        ],
        [
         "33",
         "2025-01-03 00:00:00",
         "0.18",
         null,
         null,
         null
        ],
        [
         "34",
         "2025-01-03 00:00:00",
         "17.25",
         "16.97",
         "17.25",
         "16.93"
        ],
        [
         "35",
         "2025-01-02 00:00:00",
         "17.04",
         "17.12",
         "17.18",
         "16.88"
        ],
        [
         "36",
         "2024-12-31 00:00:00",
         "16.95",
         "17.19",
         "17.19",
         "16.88"
        ],
        [
         "37",
         "2024-12-30 00:00:00",
         "17.08",
         "17.18",
         "17.18",
         "16.88"
        ],
        [
         "38",
         "2024-12-27 00:00:00",
         "0.25",
         null,
         null,
         null
        ],
        [
         "39",
         "2024-12-27 00:00:00",
         "17.3",
         "17.53",
         "17.54",
         "17.15"
        ],
        [
         "40",
         "2024-12-26 00:00:00",
         "17.79",
         "17.88",
         "17.88",
         "17.7"
        ],
        [
         "41",
         "2024-12-24 00:00:00",
         "17.85",
         "17.68",
         "17.85",
         "17.61"
        ],
        [
         "42",
         "2024-12-23 00:00:00",
         "17.54",
         "17.6",
         "17.6",
         "17.34"
        ],
        [
         "43",
         "2024-12-20 00:00:00",
         "17.53",
         "17.1",
         "17.63",
         "17.05"
        ],
        [
         "44",
         "2024-12-19 00:00:00",
         "0.14",
         null,
         null,
         null
        ],
        [
         "45",
         "2024-12-19 00:00:00",
         "17.29",
         "17.61",
         "17.68",
         "17.25"
        ],
        [
         "46",
         "2024-12-18 00:00:00",
         "17.5",
         "18.3",
         "18.31",
         "17.39"
        ],
        [
         "47",
         "2024-12-17 00:00:00",
         "18.26",
         "18.32",
         "18.33",
         "18.16"
        ],
        [
         "48",
         "2024-12-16 00:00:00",
         "18.3",
         "18.19",
         "18.3",
         "18.17"
        ],
        [
         "49",
         "2024-12-13 00:00:00",
         "18.18",
         "18.3",
         "18.32",
         "18.01"
        ]
       ],
       "shape": {
        "columns": 5,
        "rows": 299
       }
      },
      "text/html": [
       "<div>\n",
       "<style scoped>\n",
       "    .dataframe tbody tr th:only-of-type {\n",
       "        vertical-align: middle;\n",
       "    }\n",
       "\n",
       "    .dataframe tbody tr th {\n",
       "        vertical-align: top;\n",
       "    }\n",
       "\n",
       "    .dataframe thead th {\n",
       "        text-align: right;\n",
       "    }\n",
       "</style>\n",
       "<table border=\"1\" class=\"dataframe\">\n",
       "  <thead>\n",
       "    <tr style=\"text-align: right;\">\n",
       "      <th></th>\n",
       "      <th>Date</th>\n",
       "      <th>Price</th>\n",
       "      <th>Open</th>\n",
       "      <th>High</th>\n",
       "      <th>Low</th>\n",
       "    </tr>\n",
       "  </thead>\n",
       "  <tbody>\n",
       "    <tr>\n",
       "      <th>0</th>\n",
       "      <td>2025-02-13</td>\n",
       "      <td>0.15</td>\n",
       "      <td>NaN</td>\n",
       "      <td>NaN</td>\n",
       "      <td>NaN</td>\n",
       "    </tr>\n",
       "    <tr>\n",
       "      <th>1</th>\n",
       "      <td>2025-02-13</td>\n",
       "      <td>16.64</td>\n",
       "      <td>16.47</td>\n",
       "      <td>16.64</td>\n",
       "      <td>16.38</td>\n",
       "    </tr>\n",
       "    <tr>\n",
       "      <th>2</th>\n",
       "      <td>2025-02-12</td>\n",
       "      <td>16.60</td>\n",
       "      <td>16.39</td>\n",
       "      <td>16.62</td>\n",
       "      <td>16.33</td>\n",
       "    </tr>\n",
       "    <tr>\n",
       "      <th>3</th>\n",
       "      <td>2025-02-11</td>\n",
       "      <td>16.41</td>\n",
       "      <td>16.57</td>\n",
       "      <td>16.63</td>\n",
       "      <td>16.39</td>\n",
       "    </tr>\n",
       "    <tr>\n",
       "      <th>4</th>\n",
       "      <td>2025-02-10</td>\n",
       "      <td>16.67</td>\n",
       "      <td>16.53</td>\n",
       "      <td>16.68</td>\n",
       "      <td>16.53</td>\n",
       "    </tr>\n",
       "    <tr>\n",
       "      <th>...</th>\n",
       "      <td>...</td>\n",
       "      <td>...</td>\n",
       "      <td>...</td>\n",
       "      <td>...</td>\n",
       "      <td>...</td>\n",
       "    </tr>\n",
       "    <tr>\n",
       "      <th>294</th>\n",
       "      <td>2024-01-24</td>\n",
       "      <td>20.36</td>\n",
       "      <td>20.51</td>\n",
       "      <td>20.53</td>\n",
       "      <td>20.35</td>\n",
       "    </tr>\n",
       "    <tr>\n",
       "      <th>295</th>\n",
       "      <td>2024-01-23</td>\n",
       "      <td>20.27</td>\n",
       "      <td>20.21</td>\n",
       "      <td>20.28</td>\n",
       "      <td>20.17</td>\n",
       "    </tr>\n",
       "    <tr>\n",
       "      <th>296</th>\n",
       "      <td>2024-01-22</td>\n",
       "      <td>20.18</td>\n",
       "      <td>20.13</td>\n",
       "      <td>20.31</td>\n",
       "      <td>20.11</td>\n",
       "    </tr>\n",
       "    <tr>\n",
       "      <th>297</th>\n",
       "      <td>2024-01-19</td>\n",
       "      <td>20.12</td>\n",
       "      <td>20.03</td>\n",
       "      <td>20.12</td>\n",
       "      <td>19.88</td>\n",
       "    </tr>\n",
       "    <tr>\n",
       "      <th>298</th>\n",
       "      <td>2024-01-18</td>\n",
       "      <td>19.92</td>\n",
       "      <td>21.00</td>\n",
       "      <td>21.35</td>\n",
       "      <td>19.82</td>\n",
       "    </tr>\n",
       "  </tbody>\n",
       "</table>\n",
       "<p>299 rows × 5 columns</p>\n",
       "</div>"
      ],
      "text/plain": [
       "          Date  Price   Open   High    Low\n",
       "0   2025-02-13   0.15    NaN    NaN    NaN\n",
       "1   2025-02-13  16.64  16.47  16.64  16.38\n",
       "2   2025-02-12  16.60  16.39  16.62  16.33\n",
       "3   2025-02-11  16.41  16.57  16.63  16.39\n",
       "4   2025-02-10  16.67  16.53  16.68  16.53\n",
       "..         ...    ...    ...    ...    ...\n",
       "294 2024-01-24  20.36  20.51  20.53  20.35\n",
       "295 2024-01-23  20.27  20.21  20.28  20.17\n",
       "296 2024-01-22  20.18  20.13  20.31  20.11\n",
       "297 2024-01-19  20.12  20.03  20.12  19.88\n",
       "298 2024-01-18  19.92  21.00  21.35  19.82\n",
       "\n",
       "[299 rows x 5 columns]"
      ]
     },
     "execution_count": 45,
     "metadata": {},
     "output_type": "execute_result"
    }
   ],
   "source": [
    "# Load the Excel data file\n",
    "file_path = r\"YMAX ETF Price & Dividends.xlsx\"\n",
    "YMAX = pd.read_excel(file_path)\n",
    "\n",
    "# Convert 'Date' column to datetime\n",
    "YMAX[\"Date\"] = pd.to_datetime(YMAX[\"Date\"])\n",
    "\n",
    "# Drop unnecessary columns\n",
    "YMAX = YMAX.drop(columns=['Vol.', 'Change %'])\n",
    "\n",
    "# Display the first few rows\n",
    "YMAX"
   ]
  },
  {
   "cell_type": "code",
   "execution_count": 46,
   "metadata": {},
   "outputs": [
    {
     "data": {
      "text/plain": [
       "Date      0\n",
       "Price     0\n",
       "Open     29\n",
       "High     29\n",
       "Low      29\n",
       "dtype: int64"
      ]
     },
     "execution_count": 46,
     "metadata": {},
     "output_type": "execute_result"
    }
   ],
   "source": [
    "# Check for missing values in YMAX\n",
    "YMAX.isnull().sum()"
   ]
  },
  {
   "cell_type": "code",
   "execution_count": 47,
   "metadata": {},
   "outputs": [
    {
     "data": {
      "application/vnd.microsoft.datawrangler.viewer.v0+json": {
       "columns": [
        {
         "name": "index",
         "rawType": "int64",
         "type": "integer"
        },
        {
         "name": "Date",
         "rawType": "datetime64[ns]",
         "type": "datetime"
        },
        {
         "name": "YMAX Dividends",
         "rawType": "float64",
         "type": "float"
        }
       ],
       "conversionMethod": "pd.DataFrame",
       "ref": "dc7a3bee-2e79-445a-90e3-ce8f3996ba38",
       "rows": [
        [
         "0",
         "2025-02-13 00:00:00",
         "0.15"
        ],
        [
         "6",
         "2025-02-06 00:00:00",
         "0.19"
        ],
        [
         "12",
         "2025-01-30 00:00:00",
         "0.15"
        ],
        [
         "18",
         "2025-01-23 00:00:00",
         "0.17"
        ],
        [
         "23",
         "2025-01-16 00:00:00",
         "0.11"
        ],
        [
         "29",
         "2025-01-08 00:00:00",
         "0.14"
        ],
        [
         "33",
         "2025-01-03 00:00:00",
         "0.18"
        ],
        [
         "38",
         "2024-12-27 00:00:00",
         "0.25"
        ],
        [
         "44",
         "2024-12-19 00:00:00",
         "0.14"
        ],
        [
         "50",
         "2024-12-12 00:00:00",
         "0.12"
        ],
        [
         "56",
         "2024-12-05 00:00:00",
         "0.24"
        ],
        [
         "61",
         "2024-11-29 00:00:00",
         "0.31"
        ],
        [
         "67",
         "2024-11-21 00:00:00",
         "0.24"
        ],
        [
         "73",
         "2024-11-14 00:00:00",
         "0.15"
        ],
        [
         "79",
         "2024-11-07 00:00:00",
         "0.12"
        ],
        [
         "85",
         "2024-10-31 00:00:00",
         "0.23"
        ],
        [
         "91",
         "2024-10-24 00:00:00",
         "0.23"
        ],
        [
         "97",
         "2024-10-17 00:00:00",
         "0.18"
        ],
        [
         "103",
         "2024-10-10 00:00:00",
         "0.2"
        ],
        [
         "109",
         "2024-10-03 00:00:00",
         "0.21"
        ],
        [
         "115",
         "2024-09-26 00:00:00",
         "0.22"
        ],
        [
         "121",
         "2024-09-19 00:00:00",
         "0.23"
        ],
        [
         "146",
         "2024-08-15 00:00:00",
         "0.59"
        ],
        [
         "168",
         "2024-07-17 00:00:00",
         "0.65"
        ],
        [
         "190",
         "2024-06-14 00:00:00",
         "0.73"
        ],
        [
         "212",
         "2024-05-15 00:00:00",
         "0.73"
        ],
        [
         "233",
         "2024-04-17 00:00:00",
         "0.63"
        ],
        [
         "257",
         "2024-03-14 00:00:00",
         "0.57"
        ],
        [
         "277",
         "2024-02-15 00:00:00",
         "0.53"
        ]
       ],
       "shape": {
        "columns": 2,
        "rows": 29
       }
      },
      "text/html": [
       "<div>\n",
       "<style scoped>\n",
       "    .dataframe tbody tr th:only-of-type {\n",
       "        vertical-align: middle;\n",
       "    }\n",
       "\n",
       "    .dataframe tbody tr th {\n",
       "        vertical-align: top;\n",
       "    }\n",
       "\n",
       "    .dataframe thead th {\n",
       "        text-align: right;\n",
       "    }\n",
       "</style>\n",
       "<table border=\"1\" class=\"dataframe\">\n",
       "  <thead>\n",
       "    <tr style=\"text-align: right;\">\n",
       "      <th></th>\n",
       "      <th>Date</th>\n",
       "      <th>YMAX Dividends</th>\n",
       "    </tr>\n",
       "  </thead>\n",
       "  <tbody>\n",
       "    <tr>\n",
       "      <th>0</th>\n",
       "      <td>2025-02-13</td>\n",
       "      <td>0.15</td>\n",
       "    </tr>\n",
       "    <tr>\n",
       "      <th>6</th>\n",
       "      <td>2025-02-06</td>\n",
       "      <td>0.19</td>\n",
       "    </tr>\n",
       "    <tr>\n",
       "      <th>12</th>\n",
       "      <td>2025-01-30</td>\n",
       "      <td>0.15</td>\n",
       "    </tr>\n",
       "    <tr>\n",
       "      <th>18</th>\n",
       "      <td>2025-01-23</td>\n",
       "      <td>0.17</td>\n",
       "    </tr>\n",
       "    <tr>\n",
       "      <th>23</th>\n",
       "      <td>2025-01-16</td>\n",
       "      <td>0.11</td>\n",
       "    </tr>\n",
       "    <tr>\n",
       "      <th>29</th>\n",
       "      <td>2025-01-08</td>\n",
       "      <td>0.14</td>\n",
       "    </tr>\n",
       "    <tr>\n",
       "      <th>33</th>\n",
       "      <td>2025-01-03</td>\n",
       "      <td>0.18</td>\n",
       "    </tr>\n",
       "    <tr>\n",
       "      <th>38</th>\n",
       "      <td>2024-12-27</td>\n",
       "      <td>0.25</td>\n",
       "    </tr>\n",
       "    <tr>\n",
       "      <th>44</th>\n",
       "      <td>2024-12-19</td>\n",
       "      <td>0.14</td>\n",
       "    </tr>\n",
       "    <tr>\n",
       "      <th>50</th>\n",
       "      <td>2024-12-12</td>\n",
       "      <td>0.12</td>\n",
       "    </tr>\n",
       "    <tr>\n",
       "      <th>56</th>\n",
       "      <td>2024-12-05</td>\n",
       "      <td>0.24</td>\n",
       "    </tr>\n",
       "    <tr>\n",
       "      <th>61</th>\n",
       "      <td>2024-11-29</td>\n",
       "      <td>0.31</td>\n",
       "    </tr>\n",
       "    <tr>\n",
       "      <th>67</th>\n",
       "      <td>2024-11-21</td>\n",
       "      <td>0.24</td>\n",
       "    </tr>\n",
       "    <tr>\n",
       "      <th>73</th>\n",
       "      <td>2024-11-14</td>\n",
       "      <td>0.15</td>\n",
       "    </tr>\n",
       "    <tr>\n",
       "      <th>79</th>\n",
       "      <td>2024-11-07</td>\n",
       "      <td>0.12</td>\n",
       "    </tr>\n",
       "    <tr>\n",
       "      <th>85</th>\n",
       "      <td>2024-10-31</td>\n",
       "      <td>0.23</td>\n",
       "    </tr>\n",
       "    <tr>\n",
       "      <th>91</th>\n",
       "      <td>2024-10-24</td>\n",
       "      <td>0.23</td>\n",
       "    </tr>\n",
       "    <tr>\n",
       "      <th>97</th>\n",
       "      <td>2024-10-17</td>\n",
       "      <td>0.18</td>\n",
       "    </tr>\n",
       "    <tr>\n",
       "      <th>103</th>\n",
       "      <td>2024-10-10</td>\n",
       "      <td>0.20</td>\n",
       "    </tr>\n",
       "    <tr>\n",
       "      <th>109</th>\n",
       "      <td>2024-10-03</td>\n",
       "      <td>0.21</td>\n",
       "    </tr>\n",
       "    <tr>\n",
       "      <th>115</th>\n",
       "      <td>2024-09-26</td>\n",
       "      <td>0.22</td>\n",
       "    </tr>\n",
       "    <tr>\n",
       "      <th>121</th>\n",
       "      <td>2024-09-19</td>\n",
       "      <td>0.23</td>\n",
       "    </tr>\n",
       "    <tr>\n",
       "      <th>146</th>\n",
       "      <td>2024-08-15</td>\n",
       "      <td>0.59</td>\n",
       "    </tr>\n",
       "    <tr>\n",
       "      <th>168</th>\n",
       "      <td>2024-07-17</td>\n",
       "      <td>0.65</td>\n",
       "    </tr>\n",
       "    <tr>\n",
       "      <th>190</th>\n",
       "      <td>2024-06-14</td>\n",
       "      <td>0.73</td>\n",
       "    </tr>\n",
       "    <tr>\n",
       "      <th>212</th>\n",
       "      <td>2024-05-15</td>\n",
       "      <td>0.73</td>\n",
       "    </tr>\n",
       "    <tr>\n",
       "      <th>233</th>\n",
       "      <td>2024-04-17</td>\n",
       "      <td>0.63</td>\n",
       "    </tr>\n",
       "    <tr>\n",
       "      <th>257</th>\n",
       "      <td>2024-03-14</td>\n",
       "      <td>0.57</td>\n",
       "    </tr>\n",
       "    <tr>\n",
       "      <th>277</th>\n",
       "      <td>2024-02-15</td>\n",
       "      <td>0.53</td>\n",
       "    </tr>\n",
       "  </tbody>\n",
       "</table>\n",
       "</div>"
      ],
      "text/plain": [
       "          Date  YMAX Dividends\n",
       "0   2025-02-13            0.15\n",
       "6   2025-02-06            0.19\n",
       "12  2025-01-30            0.15\n",
       "18  2025-01-23            0.17\n",
       "23  2025-01-16            0.11\n",
       "29  2025-01-08            0.14\n",
       "33  2025-01-03            0.18\n",
       "38  2024-12-27            0.25\n",
       "44  2024-12-19            0.14\n",
       "50  2024-12-12            0.12\n",
       "56  2024-12-05            0.24\n",
       "61  2024-11-29            0.31\n",
       "67  2024-11-21            0.24\n",
       "73  2024-11-14            0.15\n",
       "79  2024-11-07            0.12\n",
       "85  2024-10-31            0.23\n",
       "91  2024-10-24            0.23\n",
       "97  2024-10-17            0.18\n",
       "103 2024-10-10            0.20\n",
       "109 2024-10-03            0.21\n",
       "115 2024-09-26            0.22\n",
       "121 2024-09-19            0.23\n",
       "146 2024-08-15            0.59\n",
       "168 2024-07-17            0.65\n",
       "190 2024-06-14            0.73\n",
       "212 2024-05-15            0.73\n",
       "233 2024-04-17            0.63\n",
       "257 2024-03-14            0.57\n",
       "277 2024-02-15            0.53"
      ]
     },
     "execution_count": 47,
     "metadata": {},
     "output_type": "execute_result"
    }
   ],
   "source": [
    "#Extracting the Dividends data\n",
    "# Create a new DataFrame with only rows where 'Open' is NaN\n",
    "YMAX_Dividends = YMAX[YMAX['Open'].isna()].copy()\n",
    "\n",
    "# Drop unnecessary columns\n",
    "YMAX_Dividends = YMAX_Dividends.drop(columns=['Open', 'High', 'Low'])\n",
    "\n",
    "# Rename 'Price' column to 'Dividends'\n",
    "YMAX_Dividends = YMAX_Dividends.rename(columns={'Price': 'YMAX Dividends'})\n",
    "\n",
    "# Display the new DataFrame\n",
    "YMAX_Dividends"
   ]
  },
  {
   "cell_type": "code",
   "execution_count": 48,
   "metadata": {},
   "outputs": [
    {
     "data": {
      "application/vnd.microsoft.datawrangler.viewer.v0+json": {
       "columns": [
        {
         "name": "index",
         "rawType": "int64",
         "type": "integer"
        },
        {
         "name": "Date",
         "rawType": "datetime64[ns]",
         "type": "datetime"
        },
        {
         "name": "YMAG Dividends",
         "rawType": "float64",
         "type": "float"
        }
       ],
       "conversionMethod": "pd.DataFrame",
       "ref": "c02c3b68-44ef-4b0d-9fa6-fd4090e97f82",
       "rows": [
        [
         "0",
         "2025-02-13 00:00:00",
         "0.05"
        ],
        [
         "6",
         "2025-02-06 00:00:00",
         "0.19"
        ],
        [
         "12",
         "2025-01-30 00:00:00",
         "0.19"
        ],
        [
         "18",
         "2025-01-23 00:00:00",
         "0.1"
        ],
        [
         "23",
         "2025-01-16 00:00:00",
         "0.05"
        ],
        [
         "29",
         "2025-01-08 00:00:00",
         "0.16"
        ],
        [
         "33",
         "2025-01-03 00:00:00",
         "0.31"
        ],
        [
         "38",
         "2024-12-27 00:00:00",
         "0.17"
        ],
        [
         "44",
         "2024-12-19 00:00:00",
         "0.06"
        ],
        [
         "55",
         "2024-12-05 00:00:00",
         "0.28"
        ],
        [
         "60",
         "2024-11-29 00:00:00",
         "0.2"
        ],
        [
         "66",
         "2024-11-21 00:00:00",
         "0.06"
        ],
        [
         "72",
         "2024-11-14 00:00:00",
         "0.21"
        ],
        [
         "78",
         "2024-11-07 00:00:00",
         "0.21"
        ],
        [
         "84",
         "2024-10-31 00:00:00",
         "0.15"
        ],
        [
         "90",
         "2024-10-24 00:00:00",
         "0.06"
        ],
        [
         "96",
         "2024-10-17 00:00:00",
         "0.23"
        ],
        [
         "102",
         "2024-10-10 00:00:00",
         "0.28"
        ],
        [
         "108",
         "2024-10-03 00:00:00",
         "0.16"
        ],
        [
         "114",
         "2024-09-26 00:00:00",
         "0.17"
        ],
        [
         "120",
         "2024-09-19 00:00:00",
         "0.2"
        ],
        [
         "145",
         "2024-08-15 00:00:00",
         "0.58"
        ],
        [
         "167",
         "2024-07-17 00:00:00",
         "0.64"
        ],
        [
         "189",
         "2024-06-14 00:00:00",
         "0.68"
        ],
        [
         "211",
         "2024-05-15 00:00:00",
         "0.64"
        ],
        [
         "232",
         "2024-04-17 00:00:00",
         "0.62"
        ],
        [
         "256",
         "2024-03-14 00:00:00",
         "0.59"
        ],
        [
         "276",
         "2024-02-15 00:00:00",
         "0.43"
        ]
       ],
       "shape": {
        "columns": 2,
        "rows": 28
       }
      },
      "text/html": [
       "<div>\n",
       "<style scoped>\n",
       "    .dataframe tbody tr th:only-of-type {\n",
       "        vertical-align: middle;\n",
       "    }\n",
       "\n",
       "    .dataframe tbody tr th {\n",
       "        vertical-align: top;\n",
       "    }\n",
       "\n",
       "    .dataframe thead th {\n",
       "        text-align: right;\n",
       "    }\n",
       "</style>\n",
       "<table border=\"1\" class=\"dataframe\">\n",
       "  <thead>\n",
       "    <tr style=\"text-align: right;\">\n",
       "      <th></th>\n",
       "      <th>Date</th>\n",
       "      <th>YMAG Dividends</th>\n",
       "    </tr>\n",
       "  </thead>\n",
       "  <tbody>\n",
       "    <tr>\n",
       "      <th>0</th>\n",
       "      <td>2025-02-13</td>\n",
       "      <td>0.05</td>\n",
       "    </tr>\n",
       "    <tr>\n",
       "      <th>6</th>\n",
       "      <td>2025-02-06</td>\n",
       "      <td>0.19</td>\n",
       "    </tr>\n",
       "    <tr>\n",
       "      <th>12</th>\n",
       "      <td>2025-01-30</td>\n",
       "      <td>0.19</td>\n",
       "    </tr>\n",
       "    <tr>\n",
       "      <th>18</th>\n",
       "      <td>2025-01-23</td>\n",
       "      <td>0.10</td>\n",
       "    </tr>\n",
       "    <tr>\n",
       "      <th>23</th>\n",
       "      <td>2025-01-16</td>\n",
       "      <td>0.05</td>\n",
       "    </tr>\n",
       "    <tr>\n",
       "      <th>29</th>\n",
       "      <td>2025-01-08</td>\n",
       "      <td>0.16</td>\n",
       "    </tr>\n",
       "    <tr>\n",
       "      <th>33</th>\n",
       "      <td>2025-01-03</td>\n",
       "      <td>0.31</td>\n",
       "    </tr>\n",
       "    <tr>\n",
       "      <th>38</th>\n",
       "      <td>2024-12-27</td>\n",
       "      <td>0.17</td>\n",
       "    </tr>\n",
       "    <tr>\n",
       "      <th>44</th>\n",
       "      <td>2024-12-19</td>\n",
       "      <td>0.06</td>\n",
       "    </tr>\n",
       "    <tr>\n",
       "      <th>55</th>\n",
       "      <td>2024-12-05</td>\n",
       "      <td>0.28</td>\n",
       "    </tr>\n",
       "    <tr>\n",
       "      <th>60</th>\n",
       "      <td>2024-11-29</td>\n",
       "      <td>0.20</td>\n",
       "    </tr>\n",
       "    <tr>\n",
       "      <th>66</th>\n",
       "      <td>2024-11-21</td>\n",
       "      <td>0.06</td>\n",
       "    </tr>\n",
       "    <tr>\n",
       "      <th>72</th>\n",
       "      <td>2024-11-14</td>\n",
       "      <td>0.21</td>\n",
       "    </tr>\n",
       "    <tr>\n",
       "      <th>78</th>\n",
       "      <td>2024-11-07</td>\n",
       "      <td>0.21</td>\n",
       "    </tr>\n",
       "    <tr>\n",
       "      <th>84</th>\n",
       "      <td>2024-10-31</td>\n",
       "      <td>0.15</td>\n",
       "    </tr>\n",
       "    <tr>\n",
       "      <th>90</th>\n",
       "      <td>2024-10-24</td>\n",
       "      <td>0.06</td>\n",
       "    </tr>\n",
       "    <tr>\n",
       "      <th>96</th>\n",
       "      <td>2024-10-17</td>\n",
       "      <td>0.23</td>\n",
       "    </tr>\n",
       "    <tr>\n",
       "      <th>102</th>\n",
       "      <td>2024-10-10</td>\n",
       "      <td>0.28</td>\n",
       "    </tr>\n",
       "    <tr>\n",
       "      <th>108</th>\n",
       "      <td>2024-10-03</td>\n",
       "      <td>0.16</td>\n",
       "    </tr>\n",
       "    <tr>\n",
       "      <th>114</th>\n",
       "      <td>2024-09-26</td>\n",
       "      <td>0.17</td>\n",
       "    </tr>\n",
       "    <tr>\n",
       "      <th>120</th>\n",
       "      <td>2024-09-19</td>\n",
       "      <td>0.20</td>\n",
       "    </tr>\n",
       "    <tr>\n",
       "      <th>145</th>\n",
       "      <td>2024-08-15</td>\n",
       "      <td>0.58</td>\n",
       "    </tr>\n",
       "    <tr>\n",
       "      <th>167</th>\n",
       "      <td>2024-07-17</td>\n",
       "      <td>0.64</td>\n",
       "    </tr>\n",
       "    <tr>\n",
       "      <th>189</th>\n",
       "      <td>2024-06-14</td>\n",
       "      <td>0.68</td>\n",
       "    </tr>\n",
       "    <tr>\n",
       "      <th>211</th>\n",
       "      <td>2024-05-15</td>\n",
       "      <td>0.64</td>\n",
       "    </tr>\n",
       "    <tr>\n",
       "      <th>232</th>\n",
       "      <td>2024-04-17</td>\n",
       "      <td>0.62</td>\n",
       "    </tr>\n",
       "    <tr>\n",
       "      <th>256</th>\n",
       "      <td>2024-03-14</td>\n",
       "      <td>0.59</td>\n",
       "    </tr>\n",
       "    <tr>\n",
       "      <th>276</th>\n",
       "      <td>2024-02-15</td>\n",
       "      <td>0.43</td>\n",
       "    </tr>\n",
       "  </tbody>\n",
       "</table>\n",
       "</div>"
      ],
      "text/plain": [
       "          Date  YMAG Dividends\n",
       "0   2025-02-13            0.05\n",
       "6   2025-02-06            0.19\n",
       "12  2025-01-30            0.19\n",
       "18  2025-01-23            0.10\n",
       "23  2025-01-16            0.05\n",
       "29  2025-01-08            0.16\n",
       "33  2025-01-03            0.31\n",
       "38  2024-12-27            0.17\n",
       "44  2024-12-19            0.06\n",
       "55  2024-12-05            0.28\n",
       "60  2024-11-29            0.20\n",
       "66  2024-11-21            0.06\n",
       "72  2024-11-14            0.21\n",
       "78  2024-11-07            0.21\n",
       "84  2024-10-31            0.15\n",
       "90  2024-10-24            0.06\n",
       "96  2024-10-17            0.23\n",
       "102 2024-10-10            0.28\n",
       "108 2024-10-03            0.16\n",
       "114 2024-09-26            0.17\n",
       "120 2024-09-19            0.20\n",
       "145 2024-08-15            0.58\n",
       "167 2024-07-17            0.64\n",
       "189 2024-06-14            0.68\n",
       "211 2024-05-15            0.64\n",
       "232 2024-04-17            0.62\n",
       "256 2024-03-14            0.59\n",
       "276 2024-02-15            0.43"
      ]
     },
     "execution_count": 48,
     "metadata": {},
     "output_type": "execute_result"
    }
   ],
   "source": [
    "#Extracting the Dividends data\n",
    "# Create a new DataFrame with only rows where 'Open' is NaN\n",
    "YMAG_Dividends = YMAG[YMAG['Open'].isna()].copy()\n",
    "\n",
    "# Drop unnecessary columns\n",
    "YMAG_Dividends = YMAG_Dividends.drop(columns=['Open', 'High', 'Low'])\n",
    "\n",
    "# Rename 'Price' column to 'Dividends'\n",
    "YMAG_Dividends = YMAG_Dividends.rename(columns={'Price': 'YMAG Dividends'})\n",
    "\n",
    "# Display the new DataFrame\n",
    "YMAG_Dividends"
   ]
  },
  {
   "cell_type": "code",
   "execution_count": 49,
   "metadata": {},
   "outputs": [
    {
     "name": "stdout",
     "output_type": "stream",
     "text": [
      "Date              0\n",
      "YMAG Dividends    0\n",
      "dtype: int64\n",
      "Date              0\n",
      "YMAX Dividends    0\n",
      "dtype: int64\n"
     ]
    }
   ],
   "source": [
    "#check for missing values in YMAG_Dividends\n",
    "print(YMAG_Dividends.isnull().sum())\n",
    "print(YMAX_Dividends.isnull().sum())"
   ]
  },
  {
   "cell_type": "code",
   "execution_count": 50,
   "metadata": {},
   "outputs": [],
   "source": [
    "# Drop all rows with NaN values in YMAX and YMAG, to remove the duplicate rows where dividends were\n",
    "YMAX = YMAX.dropna()\n",
    "YMAG = YMAG.dropna()"
   ]
  },
  {
   "cell_type": "code",
   "execution_count": 51,
   "metadata": {},
   "outputs": [
    {
     "data": {
      "application/vnd.microsoft.datawrangler.viewer.v0+json": {
       "columns": [
        {
         "name": "index",
         "rawType": "int64",
         "type": "integer"
        },
        {
         "name": "Date",
         "rawType": "datetime64[ns]",
         "type": "datetime"
        },
        {
         "name": "YMAX",
         "rawType": "float64",
         "type": "float"
        },
        {
         "name": "Open",
         "rawType": "float64",
         "type": "float"
        },
        {
         "name": "High",
         "rawType": "float64",
         "type": "float"
        },
        {
         "name": "Low",
         "rawType": "float64",
         "type": "float"
        },
        {
         "name": "YMAX Dividends",
         "rawType": "float64",
         "type": "float"
        }
       ],
       "conversionMethod": "pd.DataFrame",
       "ref": "423cc2fb-a430-4db7-8f81-d992f543a443",
       "rows": [
        [
         "0",
         "2025-02-13 00:00:00",
         "16.64",
         "16.47",
         "16.64",
         "16.38",
         "0.15"
        ],
        [
         "1",
         "2025-02-12 00:00:00",
         "16.6",
         "16.39",
         "16.62",
         "16.33",
         "0.0"
        ],
        [
         "2",
         "2025-02-11 00:00:00",
         "16.41",
         "16.57",
         "16.63",
         "16.39",
         "0.0"
        ],
        [
         "3",
         "2025-02-10 00:00:00",
         "16.67",
         "16.53",
         "16.68",
         "16.53",
         "0.0"
        ],
        [
         "4",
         "2025-02-07 00:00:00",
         "16.44",
         "16.51",
         "16.69",
         "16.4",
         "0.0"
        ]
       ],
       "shape": {
        "columns": 6,
        "rows": 5
       }
      },
      "text/html": [
       "<div>\n",
       "<style scoped>\n",
       "    .dataframe tbody tr th:only-of-type {\n",
       "        vertical-align: middle;\n",
       "    }\n",
       "\n",
       "    .dataframe tbody tr th {\n",
       "        vertical-align: top;\n",
       "    }\n",
       "\n",
       "    .dataframe thead th {\n",
       "        text-align: right;\n",
       "    }\n",
       "</style>\n",
       "<table border=\"1\" class=\"dataframe\">\n",
       "  <thead>\n",
       "    <tr style=\"text-align: right;\">\n",
       "      <th></th>\n",
       "      <th>Date</th>\n",
       "      <th>YMAX</th>\n",
       "      <th>Open</th>\n",
       "      <th>High</th>\n",
       "      <th>Low</th>\n",
       "      <th>YMAX Dividends</th>\n",
       "    </tr>\n",
       "  </thead>\n",
       "  <tbody>\n",
       "    <tr>\n",
       "      <th>0</th>\n",
       "      <td>2025-02-13</td>\n",
       "      <td>16.64</td>\n",
       "      <td>16.47</td>\n",
       "      <td>16.64</td>\n",
       "      <td>16.38</td>\n",
       "      <td>0.15</td>\n",
       "    </tr>\n",
       "    <tr>\n",
       "      <th>1</th>\n",
       "      <td>2025-02-12</td>\n",
       "      <td>16.60</td>\n",
       "      <td>16.39</td>\n",
       "      <td>16.62</td>\n",
       "      <td>16.33</td>\n",
       "      <td>0.00</td>\n",
       "    </tr>\n",
       "    <tr>\n",
       "      <th>2</th>\n",
       "      <td>2025-02-11</td>\n",
       "      <td>16.41</td>\n",
       "      <td>16.57</td>\n",
       "      <td>16.63</td>\n",
       "      <td>16.39</td>\n",
       "      <td>0.00</td>\n",
       "    </tr>\n",
       "    <tr>\n",
       "      <th>3</th>\n",
       "      <td>2025-02-10</td>\n",
       "      <td>16.67</td>\n",
       "      <td>16.53</td>\n",
       "      <td>16.68</td>\n",
       "      <td>16.53</td>\n",
       "      <td>0.00</td>\n",
       "    </tr>\n",
       "    <tr>\n",
       "      <th>4</th>\n",
       "      <td>2025-02-07</td>\n",
       "      <td>16.44</td>\n",
       "      <td>16.51</td>\n",
       "      <td>16.69</td>\n",
       "      <td>16.40</td>\n",
       "      <td>0.00</td>\n",
       "    </tr>\n",
       "  </tbody>\n",
       "</table>\n",
       "</div>"
      ],
      "text/plain": [
       "        Date   YMAX   Open   High    Low  YMAX Dividends\n",
       "0 2025-02-13  16.64  16.47  16.64  16.38            0.15\n",
       "1 2025-02-12  16.60  16.39  16.62  16.33            0.00\n",
       "2 2025-02-11  16.41  16.57  16.63  16.39            0.00\n",
       "3 2025-02-10  16.67  16.53  16.68  16.53            0.00\n",
       "4 2025-02-07  16.44  16.51  16.69  16.40            0.00"
      ]
     },
     "execution_count": 51,
     "metadata": {},
     "output_type": "execute_result"
    }
   ],
   "source": [
    "# Merge dividends with YMAX price data\n",
    "YMAX = YMAX.merge(YMAX_Dividends, on=\"Date\", how=\"left\")\n",
    "YMAX[\"YMAX Dividends\"].fillna(0, inplace=True)  # Fill missing dividends with 0\n",
    "\n",
    "# Merge dividends with YMAG price data\n",
    "YMAG = YMAG.merge(YMAG_Dividends, on=\"Date\", how=\"left\")\n",
    "YMAG[\"YMAG Dividends\"].fillna(0, inplace=True)  # Fill missing dividends with 0\n",
    "\n",
    "# Rename price in YMAX to YMAX\n",
    "YMAX = YMAX.rename(columns={'Price': 'YMAX'})\n",
    "\n",
    "# Rename price in YMAG to YMAG\n",
    "YMAG = YMAG.rename(columns={'Price': 'YMAG'})\n",
    "\n",
    "# Display merged data\n",
    "YMAX.head()\n"
   ]
  },
  {
   "cell_type": "code",
   "execution_count": 52,
   "metadata": {},
   "outputs": [
    {
     "data": {
      "application/vnd.microsoft.datawrangler.viewer.v0+json": {
       "columns": [
        {
         "name": "index",
         "rawType": "int64",
         "type": "integer"
        },
        {
         "name": "Date",
         "rawType": "datetime64[ns]",
         "type": "datetime"
        },
        {
         "name": "YMAG",
         "rawType": "float64",
         "type": "float"
        },
        {
         "name": "Open",
         "rawType": "float64",
         "type": "float"
        },
        {
         "name": "High",
         "rawType": "float64",
         "type": "float"
        },
        {
         "name": "Low",
         "rawType": "float64",
         "type": "float"
        },
        {
         "name": "YMAG Dividends",
         "rawType": "float64",
         "type": "float"
        }
       ],
       "conversionMethod": "pd.DataFrame",
       "ref": "0cd9c626-d8ff-43f7-b0d4-56c5b702bece",
       "rows": [
        [
         "0",
         "2025-02-13 00:00:00",
         "18.19",
         "18.05",
         "18.2",
         "18.0",
         "0.05"
        ],
        [
         "1",
         "2025-02-12 00:00:00",
         "18.04",
         "17.91",
         "18.08",
         "17.85",
         "0.0"
        ],
        [
         "2",
         "2025-02-11 00:00:00",
         "18.01",
         "18.07",
         "18.12",
         "17.95",
         "0.0"
        ],
        [
         "3",
         "2025-02-10 00:00:00",
         "18.07",
         "18.13",
         "18.21",
         "18.07",
         "0.0"
        ],
        [
         "4",
         "2025-02-07 00:00:00",
         "18.07",
         "18.24",
         "18.34",
         "18.0",
         "0.0"
        ]
       ],
       "shape": {
        "columns": 6,
        "rows": 5
       }
      },
      "text/html": [
       "<div>\n",
       "<style scoped>\n",
       "    .dataframe tbody tr th:only-of-type {\n",
       "        vertical-align: middle;\n",
       "    }\n",
       "\n",
       "    .dataframe tbody tr th {\n",
       "        vertical-align: top;\n",
       "    }\n",
       "\n",
       "    .dataframe thead th {\n",
       "        text-align: right;\n",
       "    }\n",
       "</style>\n",
       "<table border=\"1\" class=\"dataframe\">\n",
       "  <thead>\n",
       "    <tr style=\"text-align: right;\">\n",
       "      <th></th>\n",
       "      <th>Date</th>\n",
       "      <th>YMAG</th>\n",
       "      <th>Open</th>\n",
       "      <th>High</th>\n",
       "      <th>Low</th>\n",
       "      <th>YMAG Dividends</th>\n",
       "    </tr>\n",
       "  </thead>\n",
       "  <tbody>\n",
       "    <tr>\n",
       "      <th>0</th>\n",
       "      <td>2025-02-13</td>\n",
       "      <td>18.19</td>\n",
       "      <td>18.05</td>\n",
       "      <td>18.20</td>\n",
       "      <td>18.00</td>\n",
       "      <td>0.05</td>\n",
       "    </tr>\n",
       "    <tr>\n",
       "      <th>1</th>\n",
       "      <td>2025-02-12</td>\n",
       "      <td>18.04</td>\n",
       "      <td>17.91</td>\n",
       "      <td>18.08</td>\n",
       "      <td>17.85</td>\n",
       "      <td>0.00</td>\n",
       "    </tr>\n",
       "    <tr>\n",
       "      <th>2</th>\n",
       "      <td>2025-02-11</td>\n",
       "      <td>18.01</td>\n",
       "      <td>18.07</td>\n",
       "      <td>18.12</td>\n",
       "      <td>17.95</td>\n",
       "      <td>0.00</td>\n",
       "    </tr>\n",
       "    <tr>\n",
       "      <th>3</th>\n",
       "      <td>2025-02-10</td>\n",
       "      <td>18.07</td>\n",
       "      <td>18.13</td>\n",
       "      <td>18.21</td>\n",
       "      <td>18.07</td>\n",
       "      <td>0.00</td>\n",
       "    </tr>\n",
       "    <tr>\n",
       "      <th>4</th>\n",
       "      <td>2025-02-07</td>\n",
       "      <td>18.07</td>\n",
       "      <td>18.24</td>\n",
       "      <td>18.34</td>\n",
       "      <td>18.00</td>\n",
       "      <td>0.00</td>\n",
       "    </tr>\n",
       "  </tbody>\n",
       "</table>\n",
       "</div>"
      ],
      "text/plain": [
       "        Date   YMAG   Open   High    Low  YMAG Dividends\n",
       "0 2025-02-13  18.19  18.05  18.20  18.00            0.05\n",
       "1 2025-02-12  18.04  17.91  18.08  17.85            0.00\n",
       "2 2025-02-11  18.01  18.07  18.12  17.95            0.00\n",
       "3 2025-02-10  18.07  18.13  18.21  18.07            0.00\n",
       "4 2025-02-07  18.07  18.24  18.34  18.00            0.00"
      ]
     },
     "execution_count": 52,
     "metadata": {},
     "output_type": "execute_result"
    }
   ],
   "source": [
    "# Display merged data\n",
    "YMAG.head()"
   ]
  },
  {
   "cell_type": "code",
   "execution_count": 53,
   "metadata": {},
   "outputs": [
    {
     "name": "stdout",
     "output_type": "stream",
     "text": [
      "Date              0\n",
      "YMAX              0\n",
      "Open              0\n",
      "High              0\n",
      "Low               0\n",
      "YMAX Dividends    0\n",
      "dtype: int64\n",
      "Date              0\n",
      "YMAG              0\n",
      "Open              0\n",
      "High              0\n",
      "Low               0\n",
      "YMAG Dividends    0\n",
      "dtype: int64\n"
     ]
    }
   ],
   "source": [
    "# check and print sum of missing values in YMAX\n",
    "print(YMAX.isnull().sum())\n",
    "\n",
    "# check and print sum of missing values in YMAG\n",
    "print(YMAG.isnull().sum())"
   ]
  },
  {
   "cell_type": "code",
   "execution_count": 54,
   "metadata": {},
   "outputs": [
    {
     "name": "stdout",
     "output_type": "stream",
     "text": [
      "Date              0\n",
      "YMAX              0\n",
      "YMAX Dividends    0\n",
      "YMAG              9\n",
      "YMAG Dividends    9\n",
      "dtype: int64\n",
      "sum of missing values after dropping them\n",
      "Date              0\n",
      "YMAX              0\n",
      "YMAX Dividends    0\n",
      "YMAG              0\n",
      "YMAG Dividends    0\n",
      "dtype: int64\n"
     ]
    }
   ],
   "source": [
    "# Merge dividends with YMAX price data\n",
    "YMAG_YMAX_Divs_n_prices = YMAX[[\"Date\", \"YMAX\", \"YMAX Dividends\"]].merge(YMAG[[\"Date\", \"YMAG\", \"YMAG Dividends\"]],\n",
    "                                                                         on=\"Date\", how=\"left\")\n",
    "\n",
    "#check and print the sum of missing values\n",
    "print(YMAG_YMAX_Divs_n_prices.isna().sum())\n",
    "\n",
    "# Drop all rows with NaN values in YMAG_YMAX_Divs_n_prices\n",
    "YMAG_YMAX_Divs_n_prices = YMAG_YMAX_Divs_n_prices.dropna()\n",
    "print(\"sum of missing values after dropping them\")\n",
    "print(YMAG_YMAX_Divs_n_prices.isna().sum())\n"
   ]
  },
  {
   "cell_type": "code",
   "execution_count": 55,
   "metadata": {},
   "outputs": [
    {
     "data": {
      "application/vnd.microsoft.datawrangler.viewer.v0+json": {
       "columns": [
        {
         "name": "Date",
         "rawType": "datetime64[ns]",
         "type": "datetime"
        },
        {
         "name": "YMAX",
         "rawType": "float64",
         "type": "float"
        },
        {
         "name": "YMAX Dividends",
         "rawType": "float64",
         "type": "float"
        },
        {
         "name": "YMAG",
         "rawType": "float64",
         "type": "float"
        },
        {
         "name": "YMAG Dividends",
         "rawType": "float64",
         "type": "float"
        }
       ],
       "conversionMethod": "pd.DataFrame",
       "ref": "50f5fc56-af73-4c42-9949-d45bd7c62324",
       "rows": [
        [
         "2025-02-13 00:00:00",
         "16.64",
         "0.15",
         "18.19",
         "0.05"
        ],
        [
         "2025-02-12 00:00:00",
         "16.6",
         "0.0",
         "18.04",
         "0.0"
        ],
        [
         "2025-02-11 00:00:00",
         "16.41",
         "0.0",
         "18.01",
         "0.0"
        ],
        [
         "2025-02-10 00:00:00",
         "16.67",
         "0.0",
         "18.07",
         "0.0"
        ],
        [
         "2025-02-07 00:00:00",
         "16.44",
         "0.0",
         "18.07",
         "0.0"
        ],
        [
         "2025-02-06 00:00:00",
         "16.48",
         "0.19",
         "18.29",
         "0.19"
        ],
        [
         "2025-02-05 00:00:00",
         "16.57",
         "0.0",
         "18.4",
         "0.0"
        ],
        [
         "2025-02-04 00:00:00",
         "16.68",
         "0.0",
         "18.55",
         "0.0"
        ],
        [
         "2025-02-03 00:00:00",
         "16.43",
         "0.0",
         "18.29",
         "0.0"
        ],
        [
         "2025-01-31 00:00:00",
         "16.6",
         "0.0",
         "18.57",
         "0.0"
        ],
        [
         "2025-01-30 00:00:00",
         "16.71",
         "0.15",
         "18.55",
         "0.19"
        ],
        [
         "2025-01-29 00:00:00",
         "16.7",
         "0.0",
         "18.72",
         "0.0"
        ],
        [
         "2025-01-28 00:00:00",
         "16.72",
         "0.0",
         "18.81",
         "0.0"
        ],
        [
         "2025-01-27 00:00:00",
         "16.4",
         "0.0",
         "18.39",
         "0.0"
        ],
        [
         "2025-01-24 00:00:00",
         "16.89",
         "0.0",
         "18.93",
         "0.0"
        ],
        [
         "2025-01-23 00:00:00",
         "16.96",
         "0.17",
         "18.94",
         "0.1"
        ],
        [
         "2025-01-22 00:00:00",
         "17.03",
         "0.0",
         "19.06",
         "0.0"
        ],
        [
         "2025-01-21 00:00:00",
         "16.88",
         "0.0",
         "18.9",
         "0.0"
        ],
        [
         "2025-01-17 00:00:00",
         "16.77",
         "0.0",
         "18.79",
         "0.0"
        ],
        [
         "2025-01-16 00:00:00",
         "16.51",
         "0.11",
         "18.59",
         "0.05"
        ],
        [
         "2025-01-15 00:00:00",
         "16.67",
         "0.0",
         "18.85",
         "0.0"
        ],
        [
         "2025-01-14 00:00:00",
         "16.31",
         "0.0",
         "18.44",
         "0.0"
        ],
        [
         "2025-01-13 00:00:00",
         "16.25",
         "0.0",
         "18.6",
         "0.0"
        ],
        [
         "2025-01-10 00:00:00",
         "16.52",
         "0.0",
         "18.71",
         "0.0"
        ],
        [
         "2025-01-08 00:00:00",
         "16.73",
         "0.14",
         "18.84",
         "0.16"
        ],
        [
         "2025-01-07 00:00:00",
         "17.11",
         "0.0",
         "19.09",
         "0.0"
        ],
        [
         "2025-01-06 00:00:00",
         "17.47",
         "0.0",
         "19.45",
         "0.0"
        ],
        [
         "2025-01-03 00:00:00",
         "17.25",
         "0.18",
         "19.2",
         "0.31"
        ],
        [
         "2025-01-02 00:00:00",
         "17.04",
         "0.0",
         "19.18",
         "0.0"
        ],
        [
         "2024-12-31 00:00:00",
         "16.95",
         "0.0",
         "19.25",
         "0.0"
        ],
        [
         "2024-12-30 00:00:00",
         "17.08",
         "0.0",
         "19.51",
         "0.0"
        ],
        [
         "2024-12-27 00:00:00",
         "17.3",
         "0.25",
         "19.72",
         "0.17"
        ],
        [
         "2024-12-26 00:00:00",
         "17.79",
         "0.0",
         "20.18",
         "0.0"
        ],
        [
         "2024-12-24 00:00:00",
         "17.85",
         "0.0",
         "20.21",
         "0.0"
        ],
        [
         "2024-12-23 00:00:00",
         "17.54",
         "0.0",
         "19.88",
         "0.0"
        ],
        [
         "2024-12-20 00:00:00",
         "17.53",
         "0.0",
         "19.63",
         "0.0"
        ],
        [
         "2024-12-19 00:00:00",
         "17.29",
         "0.14",
         "19.6",
         "0.06"
        ],
        [
         "2024-12-18 00:00:00",
         "17.5",
         "0.0",
         "19.62",
         "0.0"
        ],
        [
         "2024-12-17 00:00:00",
         "18.26",
         "0.0",
         "20.35",
         "0.0"
        ],
        [
         "2024-12-16 00:00:00",
         "18.3",
         "0.0",
         "20.31",
         "0.0"
        ],
        [
         "2024-12-13 00:00:00",
         "18.18",
         "0.0",
         "20.0",
         "0.0"
        ],
        [
         "2024-12-12 00:00:00",
         "18.25",
         "0.12",
         "20.1",
         "0.0"
        ],
        [
         "2024-12-11 00:00:00",
         "18.46",
         "0.0",
         "20.3",
         "0.0"
        ],
        [
         "2024-12-10 00:00:00",
         "18.26",
         "0.0",
         "19.91",
         "0.0"
        ],
        [
         "2024-12-09 00:00:00",
         "18.5",
         "0.0",
         "19.9",
         "0.0"
        ],
        [
         "2024-12-06 00:00:00",
         "18.65",
         "0.0",
         "19.92",
         "0.0"
        ],
        [
         "2024-12-05 00:00:00",
         "18.4",
         "0.24",
         "19.74",
         "0.28"
        ],
        [
         "2024-12-04 00:00:00",
         "18.65",
         "0.0",
         "19.92",
         "0.0"
        ],
        [
         "2024-12-03 00:00:00",
         "18.44",
         "0.0",
         "19.77",
         "0.0"
        ],
        [
         "2024-12-02 00:00:00",
         "18.37",
         "0.0",
         "19.63",
         "0.0"
        ]
       ],
       "shape": {
        "columns": 4,
        "rows": 261
       }
      },
      "text/html": [
       "<div>\n",
       "<style scoped>\n",
       "    .dataframe tbody tr th:only-of-type {\n",
       "        vertical-align: middle;\n",
       "    }\n",
       "\n",
       "    .dataframe tbody tr th {\n",
       "        vertical-align: top;\n",
       "    }\n",
       "\n",
       "    .dataframe thead th {\n",
       "        text-align: right;\n",
       "    }\n",
       "</style>\n",
       "<table border=\"1\" class=\"dataframe\">\n",
       "  <thead>\n",
       "    <tr style=\"text-align: right;\">\n",
       "      <th></th>\n",
       "      <th>YMAX</th>\n",
       "      <th>YMAX Dividends</th>\n",
       "      <th>YMAG</th>\n",
       "      <th>YMAG Dividends</th>\n",
       "    </tr>\n",
       "    <tr>\n",
       "      <th>Date</th>\n",
       "      <th></th>\n",
       "      <th></th>\n",
       "      <th></th>\n",
       "      <th></th>\n",
       "    </tr>\n",
       "  </thead>\n",
       "  <tbody>\n",
       "    <tr>\n",
       "      <th>2025-02-13</th>\n",
       "      <td>16.64</td>\n",
       "      <td>0.15</td>\n",
       "      <td>18.19</td>\n",
       "      <td>0.05</td>\n",
       "    </tr>\n",
       "    <tr>\n",
       "      <th>2025-02-12</th>\n",
       "      <td>16.60</td>\n",
       "      <td>0.00</td>\n",
       "      <td>18.04</td>\n",
       "      <td>0.00</td>\n",
       "    </tr>\n",
       "    <tr>\n",
       "      <th>2025-02-11</th>\n",
       "      <td>16.41</td>\n",
       "      <td>0.00</td>\n",
       "      <td>18.01</td>\n",
       "      <td>0.00</td>\n",
       "    </tr>\n",
       "    <tr>\n",
       "      <th>2025-02-10</th>\n",
       "      <td>16.67</td>\n",
       "      <td>0.00</td>\n",
       "      <td>18.07</td>\n",
       "      <td>0.00</td>\n",
       "    </tr>\n",
       "    <tr>\n",
       "      <th>2025-02-07</th>\n",
       "      <td>16.44</td>\n",
       "      <td>0.00</td>\n",
       "      <td>18.07</td>\n",
       "      <td>0.00</td>\n",
       "    </tr>\n",
       "    <tr>\n",
       "      <th>...</th>\n",
       "      <td>...</td>\n",
       "      <td>...</td>\n",
       "      <td>...</td>\n",
       "      <td>...</td>\n",
       "    </tr>\n",
       "    <tr>\n",
       "      <th>2024-02-06</th>\n",
       "      <td>20.61</td>\n",
       "      <td>0.00</td>\n",
       "      <td>20.20</td>\n",
       "      <td>0.00</td>\n",
       "    </tr>\n",
       "    <tr>\n",
       "      <th>2024-02-05</th>\n",
       "      <td>20.44</td>\n",
       "      <td>0.00</td>\n",
       "      <td>20.19</td>\n",
       "      <td>0.00</td>\n",
       "    </tr>\n",
       "    <tr>\n",
       "      <th>2024-02-02</th>\n",
       "      <td>20.70</td>\n",
       "      <td>0.00</td>\n",
       "      <td>20.30</td>\n",
       "      <td>0.00</td>\n",
       "    </tr>\n",
       "    <tr>\n",
       "      <th>2024-02-01</th>\n",
       "      <td>20.39</td>\n",
       "      <td>0.00</td>\n",
       "      <td>19.75</td>\n",
       "      <td>0.00</td>\n",
       "    </tr>\n",
       "    <tr>\n",
       "      <th>2024-01-31</th>\n",
       "      <td>20.20</td>\n",
       "      <td>0.00</td>\n",
       "      <td>19.49</td>\n",
       "      <td>0.00</td>\n",
       "    </tr>\n",
       "  </tbody>\n",
       "</table>\n",
       "<p>261 rows × 4 columns</p>\n",
       "</div>"
      ],
      "text/plain": [
       "             YMAX  YMAX Dividends   YMAG  YMAG Dividends\n",
       "Date                                                    \n",
       "2025-02-13  16.64            0.15  18.19            0.05\n",
       "2025-02-12  16.60            0.00  18.04            0.00\n",
       "2025-02-11  16.41            0.00  18.01            0.00\n",
       "2025-02-10  16.67            0.00  18.07            0.00\n",
       "2025-02-07  16.44            0.00  18.07            0.00\n",
       "...           ...             ...    ...             ...\n",
       "2024-02-06  20.61            0.00  20.20            0.00\n",
       "2024-02-05  20.44            0.00  20.19            0.00\n",
       "2024-02-02  20.70            0.00  20.30            0.00\n",
       "2024-02-01  20.39            0.00  19.75            0.00\n",
       "2024-01-31  20.20            0.00  19.49            0.00\n",
       "\n",
       "[261 rows x 4 columns]"
      ]
     },
     "execution_count": 55,
     "metadata": {},
     "output_type": "execute_result"
    }
   ],
   "source": [
    "# Convert 'Date' column to datetime format\n",
    "YMAG_YMAX_Divs_n_prices['Date'] = pd.to_datetime(YMAG_YMAX_Divs_n_prices['Date'])\n",
    "\n",
    "# Set 'Date' as the index\n",
    "YMAG_YMAX_Divs_n_prices.set_index('Date', inplace=True)\n",
    "\n",
    "YMAG_YMAX_Divs_n_prices \n"
   ]
  },
  {
   "cell_type": "code",
   "execution_count": 56,
   "metadata": {},
   "outputs": [
    {
     "name": "stderr",
     "output_type": "stream",
     "text": [
      "[*********************100%***********************]  1 of 1 completed"
     ]
    },
    {
     "name": "stderr",
     "output_type": "stream",
     "text": [
      "\n",
      "[*********************100%***********************]  1 of 1 completed\n",
      "[*********************100%***********************]  1 of 1 completed\n"
     ]
    }
   ],
   "source": [
    "# Download the data of VIX, VVIX, and QQQ ETF\n",
    "VIX = yf.download('^VIX', start='2024-01-01', end='2025-02-14')\n",
    "VVIX = yf.download('^VVIX', start='2024-01-01', end='2025-02-14')\n",
    "QQQ = yf.download('QQQ', start='2024-01-01', end='2025-02-14')\n",
    "\n",
    "# Rename the columns\n",
    "VIX.columns = ['Close', 'High', 'Low', 'Open', 'Volume']\n",
    "VVIX.columns = ['Close', 'High', 'Low', 'Open', 'Volume']\n",
    "QQQ.columns = ['Close', 'High', 'Low', 'Open', 'Volume']\n",
    "\n",
    "# Rename \"Close\" column and drop other columns\n",
    "VIX = VIX[['Close']].rename(columns={'Close': 'VIX'})\n",
    "VVIX = VVIX[['Close']].rename(columns={'Close': 'VVIX'})\n",
    "QQQ = QQQ[['Close']].rename(columns={'Close': 'QQQ'})"
   ]
  },
  {
   "cell_type": "code",
   "execution_count": 57,
   "metadata": {},
   "outputs": [
    {
     "name": "stdout",
     "output_type": "stream",
     "text": [
      "The sum of missing values in each column:\n",
      "YMAX              0\n",
      "YMAX Dividends    0\n",
      "YMAG              0\n",
      "YMAG Dividends    0\n",
      "VIX               0\n",
      "VVIX              0\n",
      "QQQ               0\n",
      "dtype: int64\n"
     ]
    }
   ],
   "source": [
    "# Merge VIX, VVIX, and QQQ DataFrames on the Date index\n",
    "merged_vix_vvix_qqq_df = VIX \\\n",
    "    .merge(VVIX, left_index=True, right_index=True, how='outer') \\\n",
    "    .merge(QQQ, left_index=True, right_index=True, how='outer')\n",
    "\n",
    "# Merge the VIX, VVIX, and QQQ DataFrames with the YMAG_YMAX_Divs_n_prices DataFrame\n",
    "All_Assets = YMAG_YMAX_Divs_n_prices.merge(merged_vix_vvix_qqq_df, left_index=True, right_index=True, how='outer')\n",
    "\n",
    "#Drop the NaN values\n",
    "All_Assets = All_Assets.dropna()\n",
    "\n",
    "# Sort the DataFrame by 'Date' in descending order\n",
    "All_Assets = All_Assets.sort_values(by='Date', ascending=True)\n",
    "\n",
    "# Print the sum of missing values in each column\n",
    "print(\"The sum of missing values in each column:\")\n",
    "print(All_Assets.isnull().sum())"
   ]
  },
  {
   "cell_type": "code",
   "execution_count": 58,
   "metadata": {},
   "outputs": [
    {
     "name": "stdout",
     "output_type": "stream",
     "text": [
      "<class 'pandas.core.frame.DataFrame'>\n",
      "DatetimeIndex: 261 entries, 2024-01-31 to 2025-02-13\n",
      "Data columns (total 7 columns):\n",
      " #   Column          Non-Null Count  Dtype  \n",
      "---  ------          --------------  -----  \n",
      " 0   YMAX            261 non-null    float64\n",
      " 1   YMAX Dividends  261 non-null    float64\n",
      " 2   YMAG            261 non-null    float64\n",
      " 3   YMAG Dividends  261 non-null    float64\n",
      " 4   VIX             261 non-null    float64\n",
      " 5   VVIX            261 non-null    float64\n",
      " 6   QQQ             261 non-null    float64\n",
      "dtypes: float64(7)\n",
      "memory usage: 16.3 KB\n"
     ]
    }
   ],
   "source": [
    "# print rhe info of the merged DataFrame\n",
    "All_Assets.info()"
   ]
  },
  {
   "cell_type": "code",
   "execution_count": 59,
   "metadata": {},
   "outputs": [
    {
     "data": {
      "application/vnd.microsoft.datawrangler.viewer.v0+json": {
       "columns": [
        {
         "name": "Date",
         "rawType": "datetime64[ns]",
         "type": "datetime"
        },
        {
         "name": "YMAX",
         "rawType": "float64",
         "type": "float"
        },
        {
         "name": "YMAX Dividends",
         "rawType": "float64",
         "type": "float"
        },
        {
         "name": "YMAG",
         "rawType": "float64",
         "type": "float"
        },
        {
         "name": "YMAG Dividends",
         "rawType": "float64",
         "type": "float"
        },
        {
         "name": "VIX",
         "rawType": "float64",
         "type": "float"
        },
        {
         "name": "VVIX",
         "rawType": "float64",
         "type": "float"
        },
        {
         "name": "QQQ",
         "rawType": "float64",
         "type": "float"
        }
       ],
       "conversionMethod": "pd.DataFrame",
       "ref": "69c91ee8-84ab-4d4f-ac4c-08726bd86794",
       "rows": [
        [
         "2024-01-31 00:00:00",
         "20.2",
         "0.0",
         "19.49",
         "0.0",
         "14.350000381469727",
         "87.55999755859375",
         "414.5067443847656"
        ],
        [
         "2024-02-01 00:00:00",
         "20.39",
         "0.0",
         "19.75",
         "0.0",
         "13.880000114440918",
         "84.83000183105469",
         "419.3876953125"
        ],
        [
         "2024-02-02 00:00:00",
         "20.7",
         "0.0",
         "20.3",
         "0.0",
         "13.850000381469727",
         "83.30999755859375",
         "426.4756164550781"
        ],
        [
         "2024-02-05 00:00:00",
         "20.44",
         "0.0",
         "20.19",
         "0.0",
         "13.670000076293945",
         "79.58000183105469",
         "425.9189147949219"
        ],
        [
         "2024-02-06 00:00:00",
         "20.61",
         "0.0",
         "20.2",
         "0.0",
         "13.0600004196167",
         "76.97000122070312",
         "425.0639953613281"
        ],
        [
         "2024-02-07 00:00:00",
         "20.78",
         "0.0",
         "20.47",
         "0.0",
         "12.829999923706055",
         "80.54000091552734",
         "429.43798828125"
        ],
        [
         "2024-02-08 00:00:00",
         "20.8",
         "0.0",
         "20.49",
         "0.0",
         "12.789999961853027",
         "83.06999969482422",
         "430.2333068847656"
        ],
        [
         "2024-02-09 00:00:00",
         "20.78",
         "0.0",
         "20.62",
         "0.0",
         "12.930000305175781",
         "81.94000244140625",
         "434.46807861328125"
        ],
        [
         "2024-02-12 00:00:00",
         "20.93",
         "0.0",
         "20.52",
         "0.0",
         "13.930000305175781",
         "84.62999725341797",
         "432.7681884765625"
        ],
        [
         "2024-02-13 00:00:00",
         "20.57",
         "0.0",
         "20.23",
         "0.0",
         "15.850000381469727",
         "93.19000244140625",
         "426.0182800292969"
        ],
        [
         "2024-02-14 00:00:00",
         "21.01",
         "0.0",
         "20.46",
         "0.0",
         "14.380000114440918",
         "83.16999816894531",
         "430.66070556640625"
        ],
        [
         "2024-02-15 00:00:00",
         "20.69",
         "0.53",
         "20.09",
         "0.43",
         "14.010000228881836",
         "82.4000015258789",
         "431.943115234375"
        ],
        [
         "2024-02-16 00:00:00",
         "20.59",
         "0.0",
         "20.01",
         "0.0",
         "14.239999771118164",
         "82.62999725341797",
         "428.0263977050781"
        ],
        [
         "2024-02-20 00:00:00",
         "20.2",
         "0.0",
         "19.8",
         "0.0",
         "15.420000076293945",
         "86.0999984741211",
         "424.79559326171875"
        ],
        [
         "2024-02-21 00:00:00",
         "20.07",
         "0.0",
         "19.79",
         "0.0",
         "15.34000015258789",
         "84.66000366210938",
         "423.0956726074219"
        ],
        [
         "2024-02-22 00:00:00",
         "20.75",
         "0.0",
         "20.62",
         "0.0",
         "14.539999961853027",
         "80.87999725341797",
         "435.4820861816406"
        ],
        [
         "2024-02-23 00:00:00",
         "20.91",
         "0.0",
         "20.62",
         "0.0",
         "13.75",
         "78.86000061035156",
         "434.19970703125"
        ],
        [
         "2024-02-26 00:00:00",
         "20.98",
         "0.0",
         "20.51",
         "0.0",
         "13.739999771118164",
         "80.5",
         "433.9710693359375"
        ],
        [
         "2024-02-27 00:00:00",
         "21.18",
         "0.0",
         "20.64",
         "0.0",
         "13.430000305175781",
         "78.54000091552734",
         "435.01483154296875"
        ],
        [
         "2024-02-28 00:00:00",
         "21.22",
         "0.0",
         "20.56",
         "0.0",
         "13.84000015258789",
         "80.36000061035156",
         "432.6986083984375"
        ],
        [
         "2024-02-29 00:00:00",
         "21.55",
         "0.0",
         "20.8",
         "0.0",
         "13.399999618530273",
         "77.44999694824219",
         "436.4066162109375"
        ],
        [
         "2024-03-01 00:00:00",
         "21.67",
         "0.0",
         "21.0",
         "0.0",
         "13.109999656677246",
         "77.68000030517578",
         "442.9775085449219"
        ],
        [
         "2024-03-04 00:00:00",
         "21.6",
         "0.0",
         "20.74",
         "0.0",
         "13.489999771118164",
         "79.41000366210938",
         "441.39691162109375"
        ],
        [
         "2024-03-05 00:00:00",
         "21.17",
         "0.0",
         "20.41",
         "0.0",
         "14.460000038146973",
         "83.91000366210938",
         "433.4739990234375"
        ],
        [
         "2024-03-06 00:00:00",
         "21.38",
         "0.0",
         "20.37",
         "0.0",
         "14.5",
         "83.11000061035156",
         "436.1978454589844"
        ],
        [
         "2024-03-07 00:00:00",
         "21.65",
         "0.0",
         "20.65",
         "0.0",
         "14.4399995803833",
         "82.12999725341797",
         "442.8184814453125"
        ],
        [
         "2024-03-08 00:00:00",
         "21.62",
         "0.0",
         "20.44",
         "0.0",
         "14.739999771118164",
         "86.55999755859375",
         "436.42645263671875"
        ],
        [
         "2024-03-11 00:00:00",
         "21.6",
         "0.0",
         "20.32",
         "0.0",
         "15.220000267028809",
         "88.97000122070312",
         "434.80609130859375"
        ],
        [
         "2024-03-12 00:00:00",
         "21.87",
         "0.0",
         "20.77",
         "0.0",
         "13.84000015258789",
         "83.76000213623047",
         "441.0390319824219"
        ],
        [
         "2024-03-13 00:00:00",
         "21.81",
         "0.0",
         "20.66",
         "0.0",
         "13.75",
         "86.2699966430664",
         "437.6492004394531"
        ],
        [
         "2024-03-14 00:00:00",
         "20.9",
         "0.57",
         "19.94",
         "0.59",
         "14.399999618530273",
         "88.75",
         "436.5457458496094"
        ],
        [
         "2024-03-15 00:00:00",
         "20.94",
         "0.0",
         "19.86",
         "0.0",
         "14.40999984741211",
         "92.16999816894531",
         "431.3565979003906"
        ],
        [
         "2024-03-18 00:00:00",
         "21.16",
         "0.0",
         "20.11",
         "0.0",
         "14.329999923706055",
         "86.77999877929688",
         "435.4706726074219"
        ],
        [
         "2024-03-19 00:00:00",
         "21.11",
         "0.0",
         "20.24",
         "0.0",
         "13.819999694824219",
         "83.9000015258789",
         "436.55560302734375"
        ],
        [
         "2024-03-20 00:00:00",
         "21.31",
         "0.0",
         "20.4",
         "0.0",
         "13.039999961853027",
         "78.87000274658203",
         "441.731689453125"
        ],
        [
         "2024-03-21 00:00:00",
         "21.44",
         "0.0",
         "20.42",
         "0.0",
         "12.920000076293945",
         "77.30000305175781",
         "443.8221130371094"
        ],
        [
         "2024-03-22 00:00:00",
         "21.43",
         "0.0",
         "20.59",
         "0.0",
         "13.0600004196167",
         "76.48999786376953",
         "444.3297424316406"
        ],
        [
         "2024-03-25 00:00:00",
         "21.65",
         "0.0",
         "20.55",
         "0.0",
         "13.1899995803833",
         "76.5999984741211",
         "442.7171936035156"
        ],
        [
         "2024-03-26 00:00:00",
         "21.62",
         "0.0",
         "20.47",
         "0.0",
         "13.239999771118164",
         "76.7699966430664",
         "441.2838134765625"
        ],
        [
         "2024-03-27 00:00:00",
         "21.64",
         "0.0",
         "20.49",
         "0.0",
         "12.779999732971191",
         "76.0",
         "442.7868347167969"
        ],
        [
         "2024-03-28 00:00:00",
         "21.68",
         "0.0",
         "20.46",
         "0.0",
         "13.010000228881836",
         "76.56999969482422",
         "441.97064208984375"
        ],
        [
         "2024-04-01 00:00:00",
         "21.6",
         "0.0",
         "20.54",
         "0.0",
         "13.649999618530273",
         "78.44999694824219",
         "442.90631103515625"
        ],
        [
         "2024-04-02 00:00:00",
         "21.41",
         "0.0",
         "20.38",
         "0.0",
         "14.609999656677246",
         "82.76000213623047",
         "439.08392333984375"
        ],
        [
         "2024-04-03 00:00:00",
         "21.47",
         "0.0",
         "20.42",
         "0.0",
         "14.329999923706055",
         "81.08000183105469",
         "440.06939697265625"
        ],
        [
         "2024-04-04 00:00:00",
         "21.17",
         "0.0",
         "20.33",
         "0.0",
         "16.350000381469727",
         "90.04000091552734",
         "433.3404235839844"
        ],
        [
         "2024-04-05 00:00:00",
         "21.34",
         "0.0",
         "20.46",
         "0.0",
         "16.030000686645508",
         "90.58000183105469",
         "438.4468994140625"
        ],
        [
         "2024-04-08 00:00:00",
         "21.49",
         "0.0",
         "20.61",
         "0.0",
         "15.1899995803833",
         "86.26000213623047",
         "438.5762939453125"
        ],
        [
         "2024-04-09 00:00:00",
         "21.52",
         "0.0",
         "20.64",
         "0.0",
         "14.979999542236328",
         "84.44999694824219",
         "440.19879150390625"
        ],
        [
         "2024-04-10 00:00:00",
         "21.43",
         "0.0",
         "20.63",
         "0.0",
         "15.800000190734863",
         "91.76000213623047",
         "436.3565368652344"
        ],
        [
         "2024-04-11 00:00:00",
         "21.68",
         "0.0",
         "20.95",
         "0.0",
         "14.90999984741211",
         "89.4000015258789",
         "443.3243713378906"
        ]
       ],
       "shape": {
        "columns": 7,
        "rows": 261
       }
      },
      "text/html": [
       "<div>\n",
       "<style scoped>\n",
       "    .dataframe tbody tr th:only-of-type {\n",
       "        vertical-align: middle;\n",
       "    }\n",
       "\n",
       "    .dataframe tbody tr th {\n",
       "        vertical-align: top;\n",
       "    }\n",
       "\n",
       "    .dataframe thead th {\n",
       "        text-align: right;\n",
       "    }\n",
       "</style>\n",
       "<table border=\"1\" class=\"dataframe\">\n",
       "  <thead>\n",
       "    <tr style=\"text-align: right;\">\n",
       "      <th></th>\n",
       "      <th>YMAX</th>\n",
       "      <th>YMAX Dividends</th>\n",
       "      <th>YMAG</th>\n",
       "      <th>YMAG Dividends</th>\n",
       "      <th>VIX</th>\n",
       "      <th>VVIX</th>\n",
       "      <th>QQQ</th>\n",
       "    </tr>\n",
       "    <tr>\n",
       "      <th>Date</th>\n",
       "      <th></th>\n",
       "      <th></th>\n",
       "      <th></th>\n",
       "      <th></th>\n",
       "      <th></th>\n",
       "      <th></th>\n",
       "      <th></th>\n",
       "    </tr>\n",
       "  </thead>\n",
       "  <tbody>\n",
       "    <tr>\n",
       "      <th>2024-01-31</th>\n",
       "      <td>20.20</td>\n",
       "      <td>0.00</td>\n",
       "      <td>19.49</td>\n",
       "      <td>0.00</td>\n",
       "      <td>14.350000</td>\n",
       "      <td>87.559998</td>\n",
       "      <td>414.506744</td>\n",
       "    </tr>\n",
       "    <tr>\n",
       "      <th>2024-02-01</th>\n",
       "      <td>20.39</td>\n",
       "      <td>0.00</td>\n",
       "      <td>19.75</td>\n",
       "      <td>0.00</td>\n",
       "      <td>13.880000</td>\n",
       "      <td>84.830002</td>\n",
       "      <td>419.387695</td>\n",
       "    </tr>\n",
       "    <tr>\n",
       "      <th>2024-02-02</th>\n",
       "      <td>20.70</td>\n",
       "      <td>0.00</td>\n",
       "      <td>20.30</td>\n",
       "      <td>0.00</td>\n",
       "      <td>13.850000</td>\n",
       "      <td>83.309998</td>\n",
       "      <td>426.475616</td>\n",
       "    </tr>\n",
       "    <tr>\n",
       "      <th>2024-02-05</th>\n",
       "      <td>20.44</td>\n",
       "      <td>0.00</td>\n",
       "      <td>20.19</td>\n",
       "      <td>0.00</td>\n",
       "      <td>13.670000</td>\n",
       "      <td>79.580002</td>\n",
       "      <td>425.918915</td>\n",
       "    </tr>\n",
       "    <tr>\n",
       "      <th>2024-02-06</th>\n",
       "      <td>20.61</td>\n",
       "      <td>0.00</td>\n",
       "      <td>20.20</td>\n",
       "      <td>0.00</td>\n",
       "      <td>13.060000</td>\n",
       "      <td>76.970001</td>\n",
       "      <td>425.063995</td>\n",
       "    </tr>\n",
       "    <tr>\n",
       "      <th>...</th>\n",
       "      <td>...</td>\n",
       "      <td>...</td>\n",
       "      <td>...</td>\n",
       "      <td>...</td>\n",
       "      <td>...</td>\n",
       "      <td>...</td>\n",
       "      <td>...</td>\n",
       "    </tr>\n",
       "    <tr>\n",
       "      <th>2025-02-07</th>\n",
       "      <td>16.44</td>\n",
       "      <td>0.00</td>\n",
       "      <td>18.07</td>\n",
       "      <td>0.00</td>\n",
       "      <td>16.540001</td>\n",
       "      <td>101.489998</td>\n",
       "      <td>522.919983</td>\n",
       "    </tr>\n",
       "    <tr>\n",
       "      <th>2025-02-10</th>\n",
       "      <td>16.67</td>\n",
       "      <td>0.00</td>\n",
       "      <td>18.07</td>\n",
       "      <td>0.00</td>\n",
       "      <td>15.810000</td>\n",
       "      <td>99.150002</td>\n",
       "      <td>529.250000</td>\n",
       "    </tr>\n",
       "    <tr>\n",
       "      <th>2025-02-11</th>\n",
       "      <td>16.41</td>\n",
       "      <td>0.00</td>\n",
       "      <td>18.01</td>\n",
       "      <td>0.00</td>\n",
       "      <td>16.020000</td>\n",
       "      <td>99.820000</td>\n",
       "      <td>527.989990</td>\n",
       "    </tr>\n",
       "    <tr>\n",
       "      <th>2025-02-12</th>\n",
       "      <td>16.60</td>\n",
       "      <td>0.00</td>\n",
       "      <td>18.04</td>\n",
       "      <td>0.00</td>\n",
       "      <td>15.890000</td>\n",
       "      <td>98.739998</td>\n",
       "      <td>528.299988</td>\n",
       "    </tr>\n",
       "    <tr>\n",
       "      <th>2025-02-13</th>\n",
       "      <td>16.64</td>\n",
       "      <td>0.15</td>\n",
       "      <td>18.19</td>\n",
       "      <td>0.05</td>\n",
       "      <td>15.100000</td>\n",
       "      <td>95.480003</td>\n",
       "      <td>535.900024</td>\n",
       "    </tr>\n",
       "  </tbody>\n",
       "</table>\n",
       "<p>261 rows × 7 columns</p>\n",
       "</div>"
      ],
      "text/plain": [
       "             YMAX  YMAX Dividends   YMAG  YMAG Dividends        VIX  \\\n",
       "Date                                                                  \n",
       "2024-01-31  20.20            0.00  19.49            0.00  14.350000   \n",
       "2024-02-01  20.39            0.00  19.75            0.00  13.880000   \n",
       "2024-02-02  20.70            0.00  20.30            0.00  13.850000   \n",
       "2024-02-05  20.44            0.00  20.19            0.00  13.670000   \n",
       "2024-02-06  20.61            0.00  20.20            0.00  13.060000   \n",
       "...           ...             ...    ...             ...        ...   \n",
       "2025-02-07  16.44            0.00  18.07            0.00  16.540001   \n",
       "2025-02-10  16.67            0.00  18.07            0.00  15.810000   \n",
       "2025-02-11  16.41            0.00  18.01            0.00  16.020000   \n",
       "2025-02-12  16.60            0.00  18.04            0.00  15.890000   \n",
       "2025-02-13  16.64            0.15  18.19            0.05  15.100000   \n",
       "\n",
       "                  VVIX         QQQ  \n",
       "Date                                \n",
       "2024-01-31   87.559998  414.506744  \n",
       "2024-02-01   84.830002  419.387695  \n",
       "2024-02-02   83.309998  426.475616  \n",
       "2024-02-05   79.580002  425.918915  \n",
       "2024-02-06   76.970001  425.063995  \n",
       "...                ...         ...  \n",
       "2025-02-07  101.489998  522.919983  \n",
       "2025-02-10   99.150002  529.250000  \n",
       "2025-02-11   99.820000  527.989990  \n",
       "2025-02-12   98.739998  528.299988  \n",
       "2025-02-13   95.480003  535.900024  \n",
       "\n",
       "[261 rows x 7 columns]"
      ]
     },
     "execution_count": 59,
     "metadata": {},
     "output_type": "execute_result"
    }
   ],
   "source": [
    "# Display the first few rows of the merged DataFrame\n",
    "All_Assets"
   ]
  },
  {
   "cell_type": "code",
   "execution_count": 60,
   "metadata": {},
   "outputs": [
    {
     "data": {
      "application/vnd.microsoft.datawrangler.viewer.v0+json": {
       "columns": [
        {
         "name": "index",
         "rawType": "int64",
         "type": "integer"
        },
        {
         "name": "Date",
         "rawType": "datetime64[ns]",
         "type": "datetime"
        },
        {
         "name": "YMAX",
         "rawType": "float64",
         "type": "float"
        },
        {
         "name": "YMAX Dividends",
         "rawType": "float64",
         "type": "float"
        },
        {
         "name": "YMAG",
         "rawType": "float64",
         "type": "float"
        },
        {
         "name": "YMAG Dividends",
         "rawType": "float64",
         "type": "float"
        },
        {
         "name": "VIX",
         "rawType": "float64",
         "type": "float"
        },
        {
         "name": "VVIX",
         "rawType": "float64",
         "type": "float"
        },
        {
         "name": "QQQ",
         "rawType": "float64",
         "type": "float"
        },
        {
         "name": "YMAX-VIX Correlation",
         "rawType": "float64",
         "type": "float"
        },
        {
         "name": "YMAX-VVIX Correlation",
         "rawType": "float64",
         "type": "float"
        },
        {
         "name": "YMAG-VIX Correlation",
         "rawType": "float64",
         "type": "float"
        },
        {
         "name": "YMAG-VVIX Correlation",
         "rawType": "float64",
         "type": "float"
        }
       ],
       "conversionMethod": "pd.DataFrame",
       "ref": "76f60c76-9775-461f-bc6b-ea5cf41fc11b",
       "rows": [
        [
         "0",
         "2024-03-01 00:00:00",
         "21.67",
         "0.0",
         "21.0",
         "0.0",
         "13.109999656677246",
         "77.68000030517578",
         "442.9775085449219",
         "-0.6264986234834989",
         "-0.549621687901642",
         "-0.5086765737307447",
         "-0.45655880262985443"
        ],
        [
         "1",
         "2024-03-04 00:00:00",
         "21.6",
         "0.0",
         "20.74",
         "0.0",
         "13.489999771118164",
         "79.41000366210938",
         "441.39691162109375",
         "-0.6265326492805465",
         "-0.5494218287857001",
         "-0.5106315452775946",
         "-0.45870189687826374"
        ],
        [
         "2",
         "2024-03-05 00:00:00",
         "21.17",
         "0.0",
         "20.41",
         "0.0",
         "14.460000038146973",
         "83.91000366210938",
         "433.4739990234375",
         "-0.6754169777466297",
         "-0.5899066467870985",
         "-0.5932754343202047",
         "-0.5100356109207665"
        ],
        [
         "3",
         "2024-03-06 00:00:00",
         "21.38",
         "0.0",
         "20.37",
         "0.0",
         "14.5",
         "83.11000061035156",
         "436.1978454589844",
         "-0.7068673055262625",
         "-0.6819315753196169",
         "-0.6038199395518238",
         "-0.5468583226038345"
        ],
        [
         "4",
         "2024-03-07 00:00:00",
         "21.65",
         "0.0",
         "20.65",
         "0.0",
         "14.4399995803833",
         "82.12999725341797",
         "442.8184814453125",
         "-0.7007232942017978",
         "-0.6799418261808684",
         "-0.6119488667690264",
         "-0.559810548101935"
        ],
        [
         "5",
         "2024-03-08 00:00:00",
         "21.62",
         "0.0",
         "20.44",
         "0.0",
         "14.739999771118164",
         "86.55999755859375",
         "436.42645263671875",
         "-0.6986324576569484",
         "-0.7127596292766695",
         "-0.6065264341452745",
         "-0.6498212556450473"
        ],
        [
         "6",
         "2024-03-11 00:00:00",
         "21.6",
         "0.0",
         "20.32",
         "0.0",
         "15.220000267028809",
         "88.97000122070312",
         "434.80609130859375",
         "-0.7008499236131106",
         "-0.717242544670705",
         "-0.6102090534436745",
         "-0.6626110333577326"
        ],
        [
         "7",
         "2024-03-12 00:00:00",
         "21.87",
         "0.0",
         "20.77",
         "0.0",
         "13.84000015258789",
         "83.76000213623047",
         "441.0390319824219",
         "-0.702854877610304",
         "-0.7324796979894348",
         "-0.6655658036355674",
         "-0.6945728715515833"
        ],
        [
         "8",
         "2024-03-13 00:00:00",
         "21.81",
         "0.0",
         "20.66",
         "0.0",
         "13.75",
         "86.2699966430664",
         "437.6492004394531",
         "-0.7556766222377322",
         "-0.7574530057184867",
         "-0.6664192306439943",
         "-0.6953701918501776"
        ],
        [
         "9",
         "2024-03-14 00:00:00",
         "20.9",
         "0.57",
         "19.94",
         "0.59",
         "14.399999618530273",
         "88.75",
         "436.5457458496094",
         "-0.7202651147494306",
         "-0.6763611936586008",
         "-0.6877382899096841",
         "-0.6751132149494964"
        ],
        [
         "10",
         "2024-03-15 00:00:00",
         "20.94",
         "0.0",
         "19.86",
         "0.0",
         "14.40999984741211",
         "92.16999816894531",
         "431.3565979003906",
         "-0.6894835123582238",
         "-0.6330770049025412",
         "-0.6920598490515978",
         "-0.7186491965573149"
        ],
        [
         "11",
         "2024-03-18 00:00:00",
         "21.16",
         "0.0",
         "20.11",
         "0.0",
         "14.329999923706055",
         "86.77999877929688",
         "435.4706726074219",
         "-0.7473204860563288",
         "-0.6704769085551158",
         "-0.7530062836508614",
         "-0.7681295068563737"
        ],
        [
         "12",
         "2024-03-19 00:00:00",
         "21.11",
         "0.0",
         "20.24",
         "0.0",
         "13.819999694824219",
         "83.9000015258789",
         "436.55560302734375",
         "-0.7198887823696446",
         "-0.64412072515824",
         "-0.7516196754574903",
         "-0.7669987438109063"
        ],
        [
         "13",
         "2024-03-20 00:00:00",
         "21.31",
         "0.0",
         "20.4",
         "0.0",
         "13.039999961853027",
         "78.87000274658203",
         "441.731689453125",
         "-0.6832541346443632",
         "-0.6104772906077032",
         "-0.7623896359742973",
         "-0.7428159428956063"
        ],
        [
         "14",
         "2024-03-21 00:00:00",
         "21.44",
         "0.0",
         "20.42",
         "0.0",
         "12.920000076293945",
         "77.30000305175781",
         "443.8221130371094",
         "-0.6883621376658307",
         "-0.6312835301642961",
         "-0.7622561013276816",
         "-0.7434066745876429"
        ],
        [
         "15",
         "2024-03-22 00:00:00",
         "21.43",
         "0.0",
         "20.59",
         "0.0",
         "13.0600004196167",
         "76.48999786376953",
         "444.3297424316406",
         "-0.6642838690284227",
         "-0.598624404187461",
         "-0.7550897164624519",
         "-0.7630435502584032"
        ],
        [
         "16",
         "2024-03-25 00:00:00",
         "21.65",
         "0.0",
         "20.55",
         "0.0",
         "13.1899995803833",
         "76.5999984741211",
         "442.7171936035156",
         "-0.6454706266283408",
         "-0.583212633507554",
         "-0.7927484256776487",
         "-0.7711671033502195"
        ],
        [
         "17",
         "2024-03-26 00:00:00",
         "21.62",
         "0.0",
         "20.47",
         "0.0",
         "13.239999771118164",
         "76.7699966430664",
         "441.2838134765625",
         "-0.6463099068643339",
         "-0.5934139436686241",
         "-0.7958800854400133",
         "-0.7683762354710603"
        ],
        [
         "18",
         "2024-03-27 00:00:00",
         "21.64",
         "0.0",
         "20.49",
         "0.0",
         "12.779999732971191",
         "76.0",
         "442.7868347167969",
         "-0.6245119881747774",
         "-0.5834420194632005",
         "-0.7799496563313748",
         "-0.76453557897372"
        ],
        [
         "19",
         "2024-03-28 00:00:00",
         "21.68",
         "0.0",
         "20.46",
         "0.0",
         "13.010000228881836",
         "76.56999969482422",
         "441.97064208984375",
         "-0.6336477332310911",
         "-0.5911372509051065",
         "-0.78080055520752",
         "-0.7650930590605969"
        ],
        [
         "20",
         "2024-04-01 00:00:00",
         "21.6",
         "0.0",
         "20.54",
         "0.0",
         "13.649999618530273",
         "78.44999694824219",
         "442.90631103515625",
         "-0.6088084677865083",
         "-0.5686012550622892",
         "-0.7097356993930345",
         "-0.7279782409722285"
        ],
        [
         "21",
         "2024-04-02 00:00:00",
         "21.41",
         "0.0",
         "20.38",
         "0.0",
         "14.609999656677246",
         "82.76000213623047",
         "439.08392333984375",
         "-0.6108430414915934",
         "-0.5855256866436969",
         "-0.6922310912038754",
         "-0.7384989449920817"
        ],
        [
         "22",
         "2024-04-03 00:00:00",
         "21.47",
         "0.0",
         "20.42",
         "0.0",
         "14.329999923706055",
         "81.08000183105469",
         "440.06939697265625",
         "-0.611430640791479",
         "-0.5856022250923771",
         "-0.6852558758438909",
         "-0.7343297033021909"
        ],
        [
         "23",
         "2024-04-04 00:00:00",
         "21.17",
         "0.0",
         "20.33",
         "0.0",
         "16.350000381469727",
         "90.04000091552734",
         "433.3404235839844",
         "-0.5754458021726722",
         "-0.5691052974292122",
         "-0.5476203451557757",
         "-0.6223527107593444"
        ],
        [
         "24",
         "2024-04-05 00:00:00",
         "21.34",
         "0.0",
         "20.46",
         "0.0",
         "16.030000686645508",
         "90.58000183105469",
         "438.4468994140625",
         "-0.5899923797973738",
         "-0.55886491679557",
         "-0.5556702959996842",
         "-0.6217906690530431"
        ],
        [
         "25",
         "2024-04-08 00:00:00",
         "21.49",
         "0.0",
         "20.61",
         "0.0",
         "15.1899995803833",
         "86.26000213623047",
         "438.5762939453125",
         "-0.6082727309655063",
         "-0.5685368703781915",
         "-0.5785186866396614",
         "-0.6340285362646293"
        ],
        [
         "26",
         "2024-04-09 00:00:00",
         "21.52",
         "0.0",
         "20.64",
         "0.0",
         "14.979999542236328",
         "84.44999694824219",
         "440.19879150390625",
         "-0.6089589198836405",
         "-0.5837647577672899",
         "-0.5762103211289229",
         "-0.6114827645892454"
        ],
        [
         "27",
         "2024-04-10 00:00:00",
         "21.43",
         "0.0",
         "20.63",
         "0.0",
         "15.800000190734863",
         "91.76000213623047",
         "436.3565368652344",
         "-0.6120942092742537",
         "-0.5643277059657831",
         "-0.5580134739441183",
         "-0.5582375204829545"
        ],
        [
         "28",
         "2024-04-11 00:00:00",
         "21.68",
         "0.0",
         "20.95",
         "0.0",
         "14.90999984741211",
         "89.4000015258789",
         "443.3243713378906",
         "-0.604832873680553",
         "-0.5440758915945095",
         "-0.5054196194669399",
         "-0.5116328993202581"
        ],
        [
         "29",
         "2024-04-12 00:00:00",
         "21.28",
         "0.0",
         "20.68",
         "0.0",
         "17.309999465942383",
         "102.72000122070312",
         "436.2569885253906",
         "-0.6577731400490808",
         "-0.6069031647175329",
         "-0.5690261107943115",
         "-0.5570697883981063"
        ],
        [
         "30",
         "2024-04-15 00:00:00",
         "20.81",
         "0.0",
         "20.36",
         "0.0",
         "19.229999542236328",
         "109.63999938964844",
         "429.0801086425781",
         "-0.8721073883180379",
         "-0.8184649921070873",
         "-0.7677664378722222",
         "-0.7682109785364786"
        ],
        [
         "31",
         "2024-04-16 00:00:00",
         "20.73",
         "0.0",
         "20.27",
         "0.0",
         "18.399999618530273",
         "99.25",
         "429.11993408203125",
         "-0.8330100405557163",
         "-0.7320910909736433",
         "-0.7261563838740541",
         "-0.6352938981748629"
        ],
        [
         "32",
         "2024-04-17 00:00:00",
         "19.92",
         "0.63",
         "19.46",
         "0.62",
         "18.209999084472656",
         "98.76000213623047",
         "423.88409423828125",
         "-0.5632461911431503",
         "-0.49046282581523964",
         "-0.40896255761323175",
         "-0.34586855587936605"
        ],
        [
         "33",
         "2024-04-18 00:00:00",
         "19.85",
         "0.0",
         "19.34",
         "0.0",
         "18.0",
         "95.98999786376953",
         "421.46527099609375",
         "-0.5670471339171735",
         "-0.48881092609504045",
         "-0.3808569985997066",
         "-0.31223930499673236"
        ],
        [
         "34",
         "2024-04-19 00:00:00",
         "19.38",
         "0.0",
         "18.78",
         "0.0",
         "18.709999084472656",
         "99.08999633789062",
         "412.7454528808594",
         "-0.5316718272636712",
         "-0.4541526603233859",
         "-0.34277221416429854",
         "-0.2793650952775348"
        ],
        [
         "35",
         "2024-04-22 00:00:00",
         "19.69",
         "0.0",
         "18.94",
         "0.0",
         "16.940000534057617",
         "89.54000091552734",
         "416.8963623046875",
         "-0.5863115992434601",
         "-0.5167525933795636",
         "-0.386505646977575",
         "-0.3289880350647361"
        ],
        [
         "36",
         "2024-04-23 00:00:00",
         "20.01",
         "0.0",
         "19.26",
         "0.0",
         "15.6899995803833",
         "82.36000061035156",
         "423.11761474609375",
         "-0.6236841459023624",
         "-0.5624268350138376",
         "-0.45155946174942857",
         "-0.39409803093872675"
        ],
        [
         "37",
         "2024-04-24 00:00:00",
         "20.06",
         "0.0",
         "19.5",
         "0.0",
         "15.970000267028809",
         "83.61000061035156",
         "424.551025390625",
         "-0.6329546700206069",
         "-0.5667846794621398",
         "-0.4317595505264647",
         "-0.3731007397982617"
        ],
        [
         "38",
         "2024-04-25 00:00:00",
         "19.96",
         "0.0",
         "19.19",
         "0.0",
         "15.369999885559082",
         "82.54000091552734",
         "422.50048828125",
         "-0.6214430088174946",
         "-0.5639609237298028",
         "-0.38469526751407",
         "-0.35049824777659305"
        ],
        [
         "39",
         "2024-04-26 00:00:00",
         "20.22",
         "0.0",
         "19.6",
         "0.0",
         "15.029999732971191",
         "79.55999755859375",
         "429.0203857421875",
         "-0.6217134896209225",
         "-0.5746536119952583",
         "-0.3912218839663378",
         "-0.3732525697118682"
        ],
        [
         "40",
         "2024-04-29 00:00:00",
         "20.31",
         "0.0",
         "19.78",
         "0.0",
         "14.670000076293945",
         "78.22000122070312",
         "430.7623596191406",
         "-0.630838869966445",
         "-0.5804207924475085",
         "-0.40140348802102604",
         "-0.37898390874730414"
        ],
        [
         "41",
         "2024-04-30 00:00:00",
         "19.92",
         "0.0",
         "19.48",
         "0.0",
         "15.649999618530273",
         "81.81999969482422",
         "422.63983154296875",
         "-0.6514024461412746",
         "-0.5938324002136236",
         "-0.4391513075003624",
         "-0.40475929566905294"
        ],
        [
         "42",
         "2024-05-01 00:00:00",
         "19.79",
         "0.0",
         "19.54",
         "0.0",
         "15.390000343322754",
         "81.93000030517578",
         "419.5838928222656",
         "-0.6453921848933102",
         "-0.5905072650855765",
         "-0.43625280858443105",
         "-0.39701103060929477"
        ],
        [
         "43",
         "2024-05-02 00:00:00",
         "20.21",
         "0.0",
         "19.82",
         "0.0",
         "14.680000305175781",
         "78.58999633789062",
         "424.939208984375",
         "-0.6511409180780188",
         "-0.595594544297403",
         "-0.45402013890148757",
         "-0.4133341392469217"
        ],
        [
         "44",
         "2024-05-03 00:00:00",
         "20.46",
         "0.0",
         "20.18",
         "0.0",
         "13.489999771118164",
         "74.56999969482422",
         "433.4798278808594",
         "-0.6735026068570344",
         "-0.5990390857501052",
         "-0.5230245772599477",
         "-0.453624074077665"
        ],
        [
         "45",
         "2024-05-06 00:00:00",
         "20.68",
         "0.0",
         "20.37",
         "0.0",
         "13.489999771118164",
         "73.45999908447266",
         "438.2279052734375",
         "-0.6598240662885334",
         "-0.6075823615838741",
         "-0.5138841412733429",
         "-0.46008909270942183"
        ],
        [
         "46",
         "2024-05-07 00:00:00",
         "20.52",
         "0.0",
         "20.3",
         "0.0",
         "13.229999542236328",
         "74.54000091552734",
         "438.2975769042969",
         "-0.6459219033199958",
         "-0.603009164263827",
         "-0.5031485700015456",
         "-0.4533889670300577"
        ],
        [
         "47",
         "2024-05-08 00:00:00",
         "20.45",
         "0.0",
         "20.28",
         "0.0",
         "13.0",
         "74.5",
         "438.0387878417969",
         "-0.6439386413985447",
         "-0.6019080528240863",
         "-0.5019772672880426",
         "-0.4526674857957859"
        ],
        [
         "48",
         "2024-05-09 00:00:00",
         "20.51",
         "0.0",
         "20.25",
         "0.0",
         "12.6899995803833",
         "73.7699966430664",
         "438.9943542480469",
         "-0.6552337503280925",
         "-0.6317177873326136",
         "-0.5135911394722902",
         "-0.4848056327286172"
        ],
        [
         "49",
         "2024-05-10 00:00:00",
         "20.29",
         "0.0",
         "20.22",
         "0.0",
         "12.550000190734863",
         "73.26000213623047",
         "440.0295715332031",
         "-0.6365390996019099",
         "-0.628400440395602",
         "-0.49358822583247625",
         "-0.48280540650554926"
        ]
       ],
       "shape": {
        "columns": 12,
        "rows": 240
       }
      },
      "text/html": [
       "<div>\n",
       "<style scoped>\n",
       "    .dataframe tbody tr th:only-of-type {\n",
       "        vertical-align: middle;\n",
       "    }\n",
       "\n",
       "    .dataframe tbody tr th {\n",
       "        vertical-align: top;\n",
       "    }\n",
       "\n",
       "    .dataframe thead th {\n",
       "        text-align: right;\n",
       "    }\n",
       "</style>\n",
       "<table border=\"1\" class=\"dataframe\">\n",
       "  <thead>\n",
       "    <tr style=\"text-align: right;\">\n",
       "      <th></th>\n",
       "      <th>Date</th>\n",
       "      <th>YMAX</th>\n",
       "      <th>YMAX Dividends</th>\n",
       "      <th>YMAG</th>\n",
       "      <th>YMAG Dividends</th>\n",
       "      <th>VIX</th>\n",
       "      <th>VVIX</th>\n",
       "      <th>QQQ</th>\n",
       "      <th>YMAX-VIX Correlation</th>\n",
       "      <th>YMAX-VVIX Correlation</th>\n",
       "      <th>YMAG-VIX Correlation</th>\n",
       "      <th>YMAG-VVIX Correlation</th>\n",
       "    </tr>\n",
       "  </thead>\n",
       "  <tbody>\n",
       "    <tr>\n",
       "      <th>0</th>\n",
       "      <td>2024-03-01</td>\n",
       "      <td>21.67</td>\n",
       "      <td>0.00</td>\n",
       "      <td>21.00</td>\n",
       "      <td>0.00</td>\n",
       "      <td>13.110000</td>\n",
       "      <td>77.680000</td>\n",
       "      <td>442.977509</td>\n",
       "      <td>-0.626499</td>\n",
       "      <td>-0.549622</td>\n",
       "      <td>-0.508677</td>\n",
       "      <td>-0.456559</td>\n",
       "    </tr>\n",
       "    <tr>\n",
       "      <th>1</th>\n",
       "      <td>2024-03-04</td>\n",
       "      <td>21.60</td>\n",
       "      <td>0.00</td>\n",
       "      <td>20.74</td>\n",
       "      <td>0.00</td>\n",
       "      <td>13.490000</td>\n",
       "      <td>79.410004</td>\n",
       "      <td>441.396912</td>\n",
       "      <td>-0.626533</td>\n",
       "      <td>-0.549422</td>\n",
       "      <td>-0.510632</td>\n",
       "      <td>-0.458702</td>\n",
       "    </tr>\n",
       "    <tr>\n",
       "      <th>2</th>\n",
       "      <td>2024-03-05</td>\n",
       "      <td>21.17</td>\n",
       "      <td>0.00</td>\n",
       "      <td>20.41</td>\n",
       "      <td>0.00</td>\n",
       "      <td>14.460000</td>\n",
       "      <td>83.910004</td>\n",
       "      <td>433.473999</td>\n",
       "      <td>-0.675417</td>\n",
       "      <td>-0.589907</td>\n",
       "      <td>-0.593275</td>\n",
       "      <td>-0.510036</td>\n",
       "    </tr>\n",
       "    <tr>\n",
       "      <th>3</th>\n",
       "      <td>2024-03-06</td>\n",
       "      <td>21.38</td>\n",
       "      <td>0.00</td>\n",
       "      <td>20.37</td>\n",
       "      <td>0.00</td>\n",
       "      <td>14.500000</td>\n",
       "      <td>83.110001</td>\n",
       "      <td>436.197845</td>\n",
       "      <td>-0.706867</td>\n",
       "      <td>-0.681932</td>\n",
       "      <td>-0.603820</td>\n",
       "      <td>-0.546858</td>\n",
       "    </tr>\n",
       "    <tr>\n",
       "      <th>4</th>\n",
       "      <td>2024-03-07</td>\n",
       "      <td>21.65</td>\n",
       "      <td>0.00</td>\n",
       "      <td>20.65</td>\n",
       "      <td>0.00</td>\n",
       "      <td>14.440000</td>\n",
       "      <td>82.129997</td>\n",
       "      <td>442.818481</td>\n",
       "      <td>-0.700723</td>\n",
       "      <td>-0.679942</td>\n",
       "      <td>-0.611949</td>\n",
       "      <td>-0.559811</td>\n",
       "    </tr>\n",
       "    <tr>\n",
       "      <th>...</th>\n",
       "      <td>...</td>\n",
       "      <td>...</td>\n",
       "      <td>...</td>\n",
       "      <td>...</td>\n",
       "      <td>...</td>\n",
       "      <td>...</td>\n",
       "      <td>...</td>\n",
       "      <td>...</td>\n",
       "      <td>...</td>\n",
       "      <td>...</td>\n",
       "      <td>...</td>\n",
       "      <td>...</td>\n",
       "    </tr>\n",
       "    <tr>\n",
       "      <th>235</th>\n",
       "      <td>2025-02-07</td>\n",
       "      <td>16.44</td>\n",
       "      <td>0.00</td>\n",
       "      <td>18.07</td>\n",
       "      <td>0.00</td>\n",
       "      <td>16.540001</td>\n",
       "      <td>101.489998</td>\n",
       "      <td>522.919983</td>\n",
       "      <td>-0.720658</td>\n",
       "      <td>-0.588653</td>\n",
       "      <td>-0.744953</td>\n",
       "      <td>-0.612972</td>\n",
       "    </tr>\n",
       "    <tr>\n",
       "      <th>236</th>\n",
       "      <td>2025-02-10</td>\n",
       "      <td>16.67</td>\n",
       "      <td>0.00</td>\n",
       "      <td>18.07</td>\n",
       "      <td>0.00</td>\n",
       "      <td>15.810000</td>\n",
       "      <td>99.150002</td>\n",
       "      <td>529.250000</td>\n",
       "      <td>-0.776437</td>\n",
       "      <td>-0.666927</td>\n",
       "      <td>-0.760448</td>\n",
       "      <td>-0.645467</td>\n",
       "    </tr>\n",
       "    <tr>\n",
       "      <th>237</th>\n",
       "      <td>2025-02-11</td>\n",
       "      <td>16.41</td>\n",
       "      <td>0.00</td>\n",
       "      <td>18.01</td>\n",
       "      <td>0.00</td>\n",
       "      <td>16.020000</td>\n",
       "      <td>99.820000</td>\n",
       "      <td>527.989990</td>\n",
       "      <td>-0.749829</td>\n",
       "      <td>-0.646186</td>\n",
       "      <td>-0.772829</td>\n",
       "      <td>-0.689207</td>\n",
       "    </tr>\n",
       "    <tr>\n",
       "      <th>238</th>\n",
       "      <td>2025-02-12</td>\n",
       "      <td>16.60</td>\n",
       "      <td>0.00</td>\n",
       "      <td>18.04</td>\n",
       "      <td>0.00</td>\n",
       "      <td>15.890000</td>\n",
       "      <td>98.739998</td>\n",
       "      <td>528.299988</td>\n",
       "      <td>-0.779082</td>\n",
       "      <td>-0.724501</td>\n",
       "      <td>-0.777147</td>\n",
       "      <td>-0.713569</td>\n",
       "    </tr>\n",
       "    <tr>\n",
       "      <th>239</th>\n",
       "      <td>2025-02-13</td>\n",
       "      <td>16.64</td>\n",
       "      <td>0.15</td>\n",
       "      <td>18.19</td>\n",
       "      <td>0.05</td>\n",
       "      <td>15.100000</td>\n",
       "      <td>95.480003</td>\n",
       "      <td>535.900024</td>\n",
       "      <td>-0.775152</td>\n",
       "      <td>-0.720788</td>\n",
       "      <td>-0.796683</td>\n",
       "      <td>-0.745236</td>\n",
       "    </tr>\n",
       "  </tbody>\n",
       "</table>\n",
       "<p>240 rows × 12 columns</p>\n",
       "</div>"
      ],
      "text/plain": [
       "          Date   YMAX  YMAX Dividends   YMAG  YMAG Dividends        VIX  \\\n",
       "0   2024-03-01  21.67            0.00  21.00            0.00  13.110000   \n",
       "1   2024-03-04  21.60            0.00  20.74            0.00  13.490000   \n",
       "2   2024-03-05  21.17            0.00  20.41            0.00  14.460000   \n",
       "3   2024-03-06  21.38            0.00  20.37            0.00  14.500000   \n",
       "4   2024-03-07  21.65            0.00  20.65            0.00  14.440000   \n",
       "..         ...    ...             ...    ...             ...        ...   \n",
       "235 2025-02-07  16.44            0.00  18.07            0.00  16.540001   \n",
       "236 2025-02-10  16.67            0.00  18.07            0.00  15.810000   \n",
       "237 2025-02-11  16.41            0.00  18.01            0.00  16.020000   \n",
       "238 2025-02-12  16.60            0.00  18.04            0.00  15.890000   \n",
       "239 2025-02-13  16.64            0.15  18.19            0.05  15.100000   \n",
       "\n",
       "           VVIX         QQQ  YMAX-VIX Correlation  YMAX-VVIX Correlation  \\\n",
       "0     77.680000  442.977509             -0.626499              -0.549622   \n",
       "1     79.410004  441.396912             -0.626533              -0.549422   \n",
       "2     83.910004  433.473999             -0.675417              -0.589907   \n",
       "3     83.110001  436.197845             -0.706867              -0.681932   \n",
       "4     82.129997  442.818481             -0.700723              -0.679942   \n",
       "..          ...         ...                   ...                    ...   \n",
       "235  101.489998  522.919983             -0.720658              -0.588653   \n",
       "236   99.150002  529.250000             -0.776437              -0.666927   \n",
       "237   99.820000  527.989990             -0.749829              -0.646186   \n",
       "238   98.739998  528.299988             -0.779082              -0.724501   \n",
       "239   95.480003  535.900024             -0.775152              -0.720788   \n",
       "\n",
       "     YMAG-VIX Correlation  YMAG-VVIX Correlation  \n",
       "0               -0.508677              -0.456559  \n",
       "1               -0.510632              -0.458702  \n",
       "2               -0.593275              -0.510036  \n",
       "3               -0.603820              -0.546858  \n",
       "4               -0.611949              -0.559811  \n",
       "..                    ...                    ...  \n",
       "235             -0.744953              -0.612972  \n",
       "236             -0.760448              -0.645467  \n",
       "237             -0.772829              -0.689207  \n",
       "238             -0.777147              -0.713569  \n",
       "239             -0.796683              -0.745236  \n",
       "\n",
       "[240 rows x 12 columns]"
      ]
     },
     "execution_count": 60,
     "metadata": {},
     "output_type": "execute_result"
    }
   ],
   "source": [
    "# Define rolling window size (e.g., 21 days)\n",
    "window_size = 21\n",
    "\n",
    "# Compute daily returns for each asset in All_Assets, excluding dividends columns\n",
    "returns = All_Assets.loc[:, ~All_Assets.columns.str.contains('Dividends')].pct_change().dropna()\n",
    "\n",
    "# Initialize stats_df with rolling volatilities\n",
    "Prices_and_stats_df = pd.DataFrame(index=returns.index)\n",
    "\n",
    "# Compute rolling correlations\n",
    "Prices_and_stats_df[\"YMAX-VIX Correlation\"] = returns[\"YMAX\"].rolling(window=window_size).corr(returns[\"VIX\"])\n",
    "Prices_and_stats_df[\"YMAX-VVIX Correlation\"] = returns[\"YMAX\"].rolling(window=window_size).corr(returns[\"VVIX\"])\n",
    "Prices_and_stats_df[\"YMAG-VIX Correlation\"] = returns[\"YMAG\"].rolling(window=window_size).corr(returns[\"VIX\"])\n",
    "Prices_and_stats_df[\"YMAG-VVIX Correlation\"] = returns[\"YMAG\"].rolling(window=window_size).corr(returns[\"VVIX\"])\n",
    "\n",
    "#Merge the prices and stats data\n",
    "Prices_and_stats_df = All_Assets.merge(Prices_and_stats_df, left_index=True, right_index=True)\n",
    "\n",
    "# Drop NaN values resulting from rolling calculations\n",
    "Prices_and_stats_df = Prices_and_stats_df.dropna()\n",
    "\n",
    "# Rest the prices and stats data index\n",
    "Prices_and_stats_df.reset_index(inplace=True)\n",
    "\n",
    "# Display the first and last few rows of Prices_and_stats_df\n",
    "Prices_and_stats_df"
   ]
  },
  {
   "cell_type": "code",
   "execution_count": 61,
   "metadata": {},
   "outputs": [
    {
     "name": "stdout",
     "output_type": "stream",
     "text": [
      "✅ Performance DataFrames successfully saved to 'Prices_and_stats_df.xlsx'\n"
     ]
    }
   ],
   "source": [
    "# Export the data to excel\n",
    "# Create a Pandas Excel writer using XlsxWriter as the engine\n",
    "with pd.ExcelWriter('Strategy 2 Prices and Statistics.xlsx', engine='xlsxwriter') as writer:\n",
    "    # Write Prices_and_stats_df to the first sheet\n",
    "    Prices_and_stats_df.to_excel(writer, sheet_name='Prices and Correlations', index=False)\n",
    "    \n",
    "print(f\"✅ Performance DataFrames successfully saved to 'Prices_and_stats_df.xlsx'\")"
   ]
  },
  {
   "cell_type": "markdown",
   "metadata": {},
   "source": [
    "## BACKTESTING THE INVESTMENT RULES\n",
    "\n",
    "### **📌 Investment Rules for Strategy 2**\n",
    "\n",
    "1. **Invest Only If:**\n",
    "   - **VIX is between 15 and 20** (inclusive), **AND**\n",
    "   - **VVIX is between 90 and 100** (i.e., VVIX is below 100 but not less than 90).\n",
    "\n",
    "   > **Interpretation**: Go long on YMAX/YMAG (without a hedge) **only** when both conditions are met.\n",
    "\n",
    "2. **Exit the Market If:**\n",
    "   - **VIX drops below 15** or **rises above 20**, **OR**\n",
    "   - **VVIX goes above or equal to 100, or falls below 90**.\n",
    "\n",
    "   > **Interpretation**: If either VIX or VVIX is outside the desired range, close all positions and remain in cash.\n",
    "\n",
    "3. **Re-Enter the Market When:**\n",
    "   - **VIX is again within 15–20**, **AND**\n",
    "   - **VVIX has stabilized in a tighter range – specifically, between 90 and 95 (inclusive).**\n",
    "\n",
    "   > **Interpretation**: Re-enter only when both VIX is back in the 15–20 range and VVIX has come back to a “safe zone” (90–95).\n",
    "\n",
    "---\n",
    "\n",
    "### **🚀 Summary of Logic**\n",
    "\n",
    "1. **In-Market Condition**:  \n",
    "   $15 \\leq \\text{VIX} \\leq 20$ **AND** $90 \\leq \\text{VVIX} < 100$.\n",
    "\n",
    "2. **Exit Condition**:  \n",
    "   $\\text{VIX} < 15$ **OR** $\\text{VIX} > 20$ **OR** $\\text{VVIX} < 90$ **OR** $\\text{VVIX} \\geq 100$.\n",
    "\n",
    "3. **Re-Entry Condition**:  \n",
    "   $\\text{VIX}$ returns to $[15,20]$ **AND** $\\text{VVIX}$ is in the range $[90,95]$.\n"
   ]
  },
  {
   "cell_type": "markdown",
   "metadata": {},
   "source": [
    "#### YMAX BACKTEST:"
   ]
  },
  {
   "cell_type": "code",
   "execution_count": 62,
   "metadata": {},
   "outputs": [
    {
     "data": {
      "image/png": "[encoded data removed]",
      "text/plain": [
       "<Figure size 1200x600 with 1 Axes>"
      ]
     },
     "metadata": {},
     "output_type": "display_data"
    },
    {
     "data": {
      "image/png": "[encoded data removed]",
      "text/plain": [
       "<Figure size 1200x400 with 1 Axes>"
      ]
     },
     "metadata": {},
     "output_type": "display_data"
    }
   ],
   "source": [
    "# ------------------------------------------------------------\n",
    "# 1) PREPARE THE DATA\n",
    "# ------------------------------------------------------------\n",
    "# DataFrame \"Prices_and_stats_df\" with Columns: [\"Date\", \"YMAX\", \"YMAX Dividends\", \"VIX\", \"VVIX\", ...]\n",
    "# We copy it for this strategy's backtest on YMAX.\n",
    "ymax_df = Prices_and_stats_df.copy()\n",
    "\n",
    "# Define initial portfolio value\n",
    "initial_investment = 10000.0  # $10,000 starting capital\n",
    "\n",
    "# Sort by date to ensure chronological order\n",
    "ymax_df.sort_values(\"Date\", inplace=True)\n",
    "ymax_df.reset_index(drop=True, inplace=True)\n",
    "\n",
    "# ------------------------------------------------------------\n",
    "# 2) DEFINE HELPER FUNCTIONS FOR CONDITIONS\n",
    "# ------------------------------------------------------------\n",
    "# function to check if it is time to enter the market or not\n",
    "def in_market_condition(vix, vvix):\n",
    "    \"\"\"\n",
    "    Condition for staying in the market once we're already invested:\n",
    "    15 <= VIX <= 20, 90 <= VVIX < 100\n",
    "    \"\"\"\n",
    "    return (15 <= vix <= 20) and (90 <= vvix < 100)\n",
    "\n",
    "#function to check if it is time to re-enter the market or not\n",
    "def reentry_condition(vix, vvix):\n",
    "    \"\"\"\n",
    "    Stricter condition for re-entering the market after an exit:\n",
    "    15 <= VIX <= 20, 90 <= VVIX <= 95\n",
    "    \"\"\"\n",
    "    return (15 <= vix <= 20) and (90 <= vvix <= 95)\n",
    "\n",
    "# function to check the exit condition if it is time to exit the market or not to exit\n",
    "def exit_condition(vix, vvix):\n",
    "    \"\"\"\n",
    "    If VIX < 15 or VIX > 20, or VVIX < 90 or VVIX >= 100 -> EXIT\n",
    "    \"\"\"\n",
    "    return (vix < 15) or (vix > 20) or (vvix < 90) or (vvix >= 100)\n",
    "\n",
    "# ------------------------------------------------------------\n",
    "# 3) SET UP BACKTEST COLUMNS AND INITIAL VALUES\n",
    "# ------------------------------------------------------------\n",
    "ymax_df[\"Portfolio_Value\"] = np.nan\n",
    "ymax_df.loc[0, \"Portfolio_Value\"] = initial_investment\n",
    "\n",
    "# Boolean: are we currently invested?\n",
    "ymax_df[\"In_Market\"] = False\n",
    "ymax_df.loc[0, \"In_Market\"] = False\n",
    "\n",
    "# Track how many shares of YMAX we hold\n",
    "ymax_df[\"Shares_Held\"] = 0.0\n",
    "ymax_df.loc[0, \"Shares_Held\"] = 0.0\n",
    "\n",
    "# Strategy label for each day\n",
    "ymax_df[\"Strategy\"] = \"No Investment\"\n",
    "\n",
    "# ------------------------------------------------------------\n",
    "# 4) BACKTEST LOOP\n",
    "# ------------------------------------------------------------\n",
    "for i in range(1, len(ymax_df)):\n",
    "    # Copy forward previous day's portfolio value, in_market status, and shares\n",
    "    ymax_df.loc[i, \"Portfolio_Value\"] = ymax_df.loc[i-1, \"Portfolio_Value\"]\n",
    "    ymax_df.loc[i, \"In_Market\"] = ymax_df.loc[i-1, \"In_Market\"]\n",
    "    ymax_df.loc[i, \"Shares_Held\"] = ymax_df.loc[i-1, \"Shares_Held\"]\n",
    "\n",
    "    # Current day data\n",
    "    vix_today = ymax_df.loc[i, \"VIX\"]\n",
    "    vvix_today = ymax_df.loc[i, \"VVIX\"]\n",
    "    ymax_price_today = ymax_df.loc[i, \"YMAX\"]\n",
    "    ymax_div_today = ymax_df.loc[i, \"YMAX Dividends\"]\n",
    "\n",
    "    # Are we in the market at the start of today?\n",
    "    currently_in_market = ymax_df.loc[i-1, \"In_Market\"]\n",
    "\n",
    "    if currently_in_market:\n",
    "        # Check if we remain in the market or exit\n",
    "        if exit_condition(vix_today, vvix_today):\n",
    "            # EXIT: close position -> shares = 0, remain in cash\n",
    "            ymax_df.loc[i, \"In_Market\"] = False\n",
    "            ymax_df.loc[i, \"Shares_Held\"] = 0.0\n",
    "            ymax_df.loc[i, \"Strategy\"] = \"No Investment\"\n",
    "            # Portfolio_Value stays the same as yesterday's (carried forward)\n",
    "        else:\n",
    "            # REMAIN IN MARKET: update portfolio value based on today's price + dividend\n",
    "            shares_held = ymax_df.loc[i, \"Shares_Held\"]\n",
    "            new_portfolio_value = shares_held * (ymax_price_today + ymax_div_today)\n",
    "            ymax_df.loc[i, \"Portfolio_Value\"] = new_portfolio_value\n",
    "            ymax_df.loc[i, \"Strategy\"] = \"Long YMAX\"\n",
    "    else:\n",
    "        # currently out of market, check re-entry condition\n",
    "        if reentry_condition(vix_today, vvix_today):\n",
    "            # ENTER: buy shares with all capital\n",
    "            cash_available = ymax_df.loc[i, \"Portfolio_Value\"]\n",
    "            if ymax_price_today > 0:\n",
    "                shares_bought = cash_available / ymax_price_today\n",
    "                ymax_df.loc[i, \"Shares_Held\"] = shares_bought\n",
    "                ymax_df.loc[i, \"In_Market\"] = True\n",
    "                ymax_df.loc[i, \"Strategy\"] = \"Long YMAX\"\n",
    "                # Immediately compute today's new portfolio value\n",
    "                new_portfolio_value = shares_bought * (ymax_price_today + ymax_div_today)\n",
    "                ymax_df.loc[i, \"Portfolio_Value\"] = new_portfolio_value\n",
    "            else:\n",
    "                # If price is 0 or invalid, skip\n",
    "                ymax_df.loc[i, \"Strategy\"] = \"No Investment\"\n",
    "        else:\n",
    "            # Stay in cash\n",
    "            ymax_df.loc[i, \"Strategy\"] = \"No Investment\"\n",
    "\n",
    "# ------------------------------------------------------------\n",
    "# 5) COMPUTE DAILY RETURNS\n",
    "# ------------------------------------------------------------\n",
    "ymax_df[\"Portfolio_Return\"] = ymax_df[\"Portfolio_Value\"].pct_change()\n",
    "\n",
    "# ------------------------------------------------------------\n",
    "# 6) VISUALIZE RESULTS\n",
    "# ------------------------------------------------------------\n",
    "sns.set_style(\"whitegrid\")\n",
    "\n",
    "# (A) Portfolio Performance Plot\n",
    "plt.figure(figsize=(12, 6))\n",
    "ax = sns.lineplot(\n",
    "    x=ymax_df[\"Date\"],\n",
    "    y=ymax_df[\"Portfolio_Value\"],\n",
    "    color=\"blue\",\n",
    "    linewidth=2.5,\n",
    "    label=\"Portfolio Value (YMAX)\"\n",
    ")\n",
    "\n",
    "ax.xaxis.set_major_locator(mdates.MonthLocator())\n",
    "ax.xaxis.set_major_formatter(mdates.DateFormatter(\"%Y-%m\"))\n",
    "\n",
    "plt.xlabel(\"Date\", fontsize=14, fontweight=\"bold\")\n",
    "plt.ylabel(\"Portfolio Value ($)\", fontsize=14, fontweight=\"bold\")\n",
    "plt.title(\"📈 Portfolio Performance for YMAX (Strategy 2)\", fontsize=16, fontweight=\"bold\", color=\"darkblue\")\n",
    "plt.xticks(rotation=45, fontsize=12)\n",
    "plt.yticks(fontsize=12)\n",
    "plt.grid(True, linestyle=\"--\", linewidth=1.2, color=\"gray\")\n",
    "plt.legend(fontsize=12, loc=\"upper left\", frameon=True, shadow=True, edgecolor=\"black\")\n",
    "plt.show()\n",
    "\n",
    "# (B) Strategy Usage Over Time\n",
    "plt.figure(figsize=(12, 4))\n",
    "ax = sns.barplot(\n",
    "    x=ymax_df[\"Strategy\"].value_counts().index,\n",
    "    y=ymax_df[\"Strategy\"].value_counts().values,\n",
    "    palette=[\"royalblue\", \"red\", \"green\"]\n",
    ")\n",
    "plt.xlabel(\"Strategy\", fontsize=14, fontweight=\"bold\")\n",
    "plt.ylabel(\"Number of Days\", fontsize=14, fontweight=\"bold\")\n",
    "plt.title(\"📊 Strategy 2 Distribution Over Time (YMAX)\", fontsize=16, fontweight=\"bold\", color=\"navy\")\n",
    "plt.xticks(rotation=45, fontsize=12)\n",
    "plt.grid(axis=\"y\", linestyle=\"--\", linewidth=1.2, color=\"gray\")\n",
    "plt.show()\n"
   ]
  },
  {
   "cell_type": "code",
   "execution_count": 63,
   "metadata": {},
   "outputs": [
    {
     "data": {
      "image/png": "[encoded data removed]",
      "text/plain": [
       "<Figure size 1200x600 with 2 Axes>"
      ]
     },
     "metadata": {},
     "output_type": "display_data"
    }
   ],
   "source": [
    "# ---------------------------------------------\n",
    "# STEP A: Identify Entry and Exit Days\n",
    "# ---------------------------------------------\n",
    "# Entry Day = Yesterday was out of market, today is in market\n",
    "ymax_df[\"Entry\"] = (ymax_df[\"In_Market\"].shift(1) == False) & (ymax_df[\"In_Market\"] == True)\n",
    "\n",
    "# Exit Day = Yesterday was in market, today is out of market\n",
    "ymax_df[\"Exit\"] = (ymax_df[\"In_Market\"].shift(1) == True) & (ymax_df[\"In_Market\"] == False)\n",
    "\n",
    "# ---------------------------------------------\n",
    "# STEP B: Prepare Data for Plotting\n",
    "# ---------------------------------------------\n",
    "entry_days = ymax_df[ymax_df[\"Entry\"] == True]\n",
    "exit_days  = ymax_df[ymax_df[\"Exit\"] == True]\n",
    "\n",
    "# Sort data by date (just to be safe)\n",
    "ymax_df.sort_values(\"Date\", inplace=True)\n",
    "ymax_df.reset_index(drop=True, inplace=True)\n",
    "\n",
    "# ---------------------------------------------\n",
    "# STEP C: Create the Dual-Axis Plot\n",
    "# ---------------------------------------------\n",
    "sns.set_style(\"whitegrid\")\n",
    "fig, ax1 = plt.subplots(figsize=(12, 6))\n",
    "\n",
    "# LEFT Y-AXIS: Plot YMAX Price\n",
    "ax1.set_xlabel(\"Date\", fontsize=14, fontweight=\"bold\")\n",
    "ax1.set_ylabel(\"YMAX Price ($)\", fontsize=14, fontweight=\"bold\", color=\"blue\")\n",
    "\n",
    "# Plot YMAX Price line\n",
    "line1, = ax1.plot(ymax_df[\"Date\"], ymax_df[\"YMAX\"], color=\"blue\", linewidth=2, label=\"YMAX Price\")\n",
    "\n",
    "# Add entry (^) and exit (v) markers on YMAX\n",
    "ax1.scatter(entry_days[\"Date\"], entry_days[\"YMAX\"], marker=\"^\", color=\"blue\", s=100, label=\"Entry\")\n",
    "ax1.scatter(exit_days[\"Date\"], exit_days[\"YMAX\"], marker=\"v\", color=\"red\", s=100, label=\"Exit\")\n",
    "\n",
    "# Make the left y-axis text blue for clarity\n",
    "ax1.tick_params(axis='y', labelcolor=\"blue\")\n",
    "\n",
    "# Format the date axis\n",
    "ax1.xaxis.set_major_locator(mdates.MonthLocator())\n",
    "ax1.xaxis.set_major_formatter(mdates.DateFormatter(\"%Y-%m\"))\n",
    "plt.xticks(rotation=45, fontsize=11)\n",
    "plt.yticks(fontsize=11)\n",
    "\n",
    "# ---------------------------------------------\n",
    "# RIGHT Y-AXIS: Plot Portfolio Value\n",
    "# ---------------------------------------------\n",
    "ax2 = ax1.twinx()  # share the same x-axis\n",
    "ax2.set_ylabel(\"Portfolio Value ($)\", fontsize=14, fontweight=\"bold\", color=\"red\")\n",
    "\n",
    "line2, = ax2.plot(\n",
    "    ymax_df[\"Date\"],\n",
    "    ymax_df[\"Portfolio_Value\"],\n",
    "    color=\"red\",\n",
    "    linewidth=2,\n",
    "    label=\"Portfolio Value\"\n",
    ")\n",
    "ax2.tick_params(axis='y', labelcolor=\"red\")\n",
    "plt.yticks(fontsize=11)\n",
    "\n",
    "# ---------------------------------------------\n",
    "# STEP D: Enhance the Plot\n",
    "# ---------------------------------------------\n",
    "plt.title(\"YMAX Price (Left Axis) vs. Portfolio Value (Right Axis)\", fontsize=16, fontweight=\"bold\")\n",
    "plt.grid(True, linestyle=\"--\", linewidth=1.2, color=\"gray\")\n",
    "\n",
    "# Combine legends from both axes\n",
    "lines_1, labels_1 = ax1.get_legend_handles_labels()\n",
    "lines_2, labels_2 = ax2.get_legend_handles_labels()\n",
    "ax1.legend(lines_1 + lines_2, labels_1 + labels_2, loc=\"upper center\", frameon=True, shadow=True)\n",
    "\n",
    "plt.tight_layout()\n",
    "plt.show()\n"
   ]
  },
  {
   "cell_type": "code",
   "execution_count": 64,
   "metadata": {},
   "outputs": [
    {
     "data": {
      "application/vnd.plotly.v1+json": {
       "config": {
        "plotlyServerURL": "https://plot.ly"
       },
       "data": [
        {
         "line": {
          "color": "blue",
          "width": 2
         },
         "mode": "lines",
         "name": "YMAX Price",
         "type": "scatter",
         "x": [
          "2024-03-01T00:00:00.000000000",
          "2024-03-04T00:00:00.000000000",
          "2024-03-05T00:00:00.000000000",
          "2024-03-06T00:00:00.000000000",
          "2024-03-07T00:00:00.000000000",
          "2024-03-08T00:00:00.000000000",
          "2024-03-11T00:00:00.000000000",
          "2024-03-12T00:00:00.000000000",
          "2024-03-13T00:00:00.000000000",
          "2024-03-14T00:00:00.000000000",
          "2024-03-15T00:00:00.000000000",
          "2024-03-18T00:00:00.000000000",
          "2024-03-19T00:00:00.000000000",
          "2024-03-20T00:00:00.000000000",
          "2024-03-21T00:00:00.000000000",
          "2024-03-22T00:00:00.000000000",
          "2024-03-25T00:00:00.000000000",
          "2024-03-26T00:00:00.000000000",
          "2024-03-27T00:00:00.000000000",
          "2024-03-28T00:00:00.000000000",
          "2024-04-01T00:00:00.000000000",
          "2024-04-02T00:00:00.000000000",
          "2024-04-03T00:00:00.000000000",
          "2024-04-04T00:00:00.000000000",
          "2024-04-05T00:00:00.000000000",
          "2024-04-08T00:00:00.000000000",
          "2024-04-09T00:00:00.000000000",
          "2024-04-10T00:00:00.000000000",
          "2024-04-11T00:00:00.000000000",
          "2024-04-12T00:00:00.000000000",
          "2024-04-15T00:00:00.000000000",
          "2024-04-16T00:00:00.000000000",
          "2024-04-17T00:00:00.000000000",
          "2024-04-18T00:00:00.000000000",
          "2024-04-19T00:00:00.000000000",
          "2024-04-22T00:00:00.000000000",
          "2024-04-23T00:00:00.000000000",
          "2024-04-24T00:00:00.000000000",
          "2024-04-25T00:00:00.000000000",
          "2024-04-26T00:00:00.000000000",
          "2024-04-29T00:00:00.000000000",
          "2024-04-30T00:00:00.000000000",
          "2024-05-01T00:00:00.000000000",
          "2024-05-02T00:00:00.000000000",
          "2024-05-03T00:00:00.000000000",
          "2024-05-06T00:00:00.000000000",
          "2024-05-07T00:00:00.000000000",
          "2024-05-08T00:00:00.000000000",
          "2024-05-09T00:00:00.000000000",
          "2024-05-10T00:00:00.000000000",
          "2024-05-13T00:00:00.000000000",
          "2024-05-14T00:00:00.000000000",
          "2024-05-15T00:00:00.000000000",
          "2024-05-16T00:00:00.000000000",
          "2024-05-17T00:00:00.000000000",
          "2024-05-20T00:00:00.000000000",
          "2024-05-21T00:00:00.000000000",
          "2024-05-22T00:00:00.000000000",
          "2024-05-23T00:00:00.000000000",
          "2024-05-24T00:00:00.000000000",
          "2024-05-28T00:00:00.000000000",
          "2024-05-29T00:00:00.000000000",
          "2024-05-30T00:00:00.000000000",
          "2024-05-31T00:00:00.000000000",
          "2024-06-03T00:00:00.000000000",
          "2024-06-04T00:00:00.000000000",
          "2024-06-05T00:00:00.000000000",
          "2024-06-06T00:00:00.000000000",
          "2024-06-07T00:00:00.000000000",
          "2024-06-10T00:00:00.000000000",
          "2024-06-11T00:00:00.000000000",
          "2024-06-12T00:00:00.000000000",
          "2024-06-13T00:00:00.000000000",
          "2024-06-14T00:00:00.000000000",
          "2024-06-17T00:00:00.000000000",
          "2024-06-18T00:00:00.000000000",
          "2024-06-20T00:00:00.000000000",
          "2024-06-21T00:00:00.000000000",
          "2024-06-24T00:00:00.000000000",
          "2024-06-25T00:00:00.000000000",
          "2024-06-26T00:00:00.000000000",
          "2024-06-27T00:00:00.000000000",
          "2024-06-28T00:00:00.000000000",
          "2024-07-01T00:00:00.000000000",
          "2024-07-02T00:00:00.000000000",
          "2024-07-03T00:00:00.000000000",
          "2024-07-05T00:00:00.000000000",
          "2024-07-08T00:00:00.000000000",
          "2024-07-09T00:00:00.000000000",
          "2024-07-10T00:00:00.000000000",
          "2024-07-11T00:00:00.000000000",
          "2024-07-12T00:00:00.000000000",
          "2024-07-15T00:00:00.000000000",
          "2024-07-16T00:00:00.000000000",
          "2024-07-17T00:00:00.000000000",
          "2024-07-18T00:00:00.000000000",
          "2024-07-19T00:00:00.000000000",
          "2024-07-22T00:00:00.000000000",
          "2024-07-23T00:00:00.000000000",
          "2024-07-24T00:00:00.000000000",
          "2024-07-25T00:00:00.000000000",
          "2024-07-26T00:00:00.000000000",
          "2024-07-29T00:00:00.000000000",
          "2024-07-30T00:00:00.000000000",
          "2024-07-31T00:00:00.000000000",
          "2024-08-01T00:00:00.000000000",
          "2024-08-02T00:00:00.000000000",
          "2024-08-05T00:00:00.000000000",
          "2024-08-06T00:00:00.000000000",
          "2024-08-07T00:00:00.000000000",
          "2024-08-08T00:00:00.000000000",
          "2024-08-09T00:00:00.000000000",
          "2024-08-12T00:00:00.000000000",
          "2024-08-13T00:00:00.000000000",
          "2024-08-14T00:00:00.000000000",
          "2024-08-15T00:00:00.000000000",
          "2024-08-16T00:00:00.000000000",
          "2024-08-19T00:00:00.000000000",
          "2024-08-20T00:00:00.000000000",
          "2024-08-21T00:00:00.000000000",
          "2024-08-22T00:00:00.000000000",
          "2024-08-23T00:00:00.000000000",
          "2024-08-26T00:00:00.000000000",
          "2024-08-27T00:00:00.000000000",
          "2024-08-28T00:00:00.000000000",
          "2024-08-29T00:00:00.000000000",
          "2024-08-30T00:00:00.000000000",
          "2024-09-03T00:00:00.000000000",
          "2024-09-04T00:00:00.000000000",
          "2024-09-05T00:00:00.000000000",
          "2024-09-06T00:00:00.000000000",
          "2024-09-09T00:00:00.000000000",
          "2024-09-10T00:00:00.000000000",
          "2024-09-11T00:00:00.000000000",
          "2024-09-12T00:00:00.000000000",
          "2024-09-13T00:00:00.000000000",
          "2024-09-16T00:00:00.000000000",
          "2024-09-17T00:00:00.000000000",
          "2024-09-18T00:00:00.000000000",
          "2024-09-19T00:00:00.000000000",
          "2024-09-20T00:00:00.000000000",
          "2024-09-23T00:00:00.000000000",
          "2024-09-24T00:00:00.000000000",
          "2024-09-25T00:00:00.000000000",
          "2024-09-26T00:00:00.000000000",
          "2024-09-27T00:00:00.000000000",
          "2024-09-30T00:00:00.000000000",
          "2024-10-01T00:00:00.000000000",
          "2024-10-02T00:00:00.000000000",
          "2024-10-03T00:00:00.000000000",
          "2024-10-04T00:00:00.000000000",
          "2024-10-07T00:00:00.000000000",
          "2024-10-08T00:00:00.000000000",
          "2024-10-09T00:00:00.000000000",
          "2024-10-10T00:00:00.000000000",
          "2024-10-11T00:00:00.000000000",
          "2024-10-14T00:00:00.000000000",
          "2024-10-15T00:00:00.000000000",
          "2024-10-16T00:00:00.000000000",
          "2024-10-17T00:00:00.000000000",
          "2024-10-18T00:00:00.000000000",
          "2024-10-21T00:00:00.000000000",
          "2024-10-22T00:00:00.000000000",
          "2024-10-23T00:00:00.000000000",
          "2024-10-24T00:00:00.000000000",
          "2024-10-25T00:00:00.000000000",
          "2024-10-28T00:00:00.000000000",
          "2024-10-29T00:00:00.000000000",
          "2024-10-30T00:00:00.000000000",
          "2024-10-31T00:00:00.000000000",
          "2024-11-01T00:00:00.000000000",
          "2024-11-04T00:00:00.000000000",
          "2024-11-05T00:00:00.000000000",
          "2024-11-06T00:00:00.000000000",
          "2024-11-07T00:00:00.000000000",
          "2024-11-08T00:00:00.000000000",
          "2024-11-11T00:00:00.000000000",
          "2024-11-12T00:00:00.000000000",
          "2024-11-13T00:00:00.000000000",
          "2024-11-14T00:00:00.000000000",
          "2024-11-15T00:00:00.000000000",
          "2024-11-18T00:00:00.000000000",
          "2024-11-19T00:00:00.000000000",
          "2024-11-20T00:00:00.000000000",
          "2024-11-21T00:00:00.000000000",
          "2024-11-22T00:00:00.000000000",
          "2024-11-25T00:00:00.000000000",
          "2024-11-26T00:00:00.000000000",
          "2024-11-27T00:00:00.000000000",
          "2024-11-29T00:00:00.000000000",
          "2024-12-02T00:00:00.000000000",
          "2024-12-03T00:00:00.000000000",
          "2024-12-04T00:00:00.000000000",
          "2024-12-05T00:00:00.000000000",
          "2024-12-06T00:00:00.000000000",
          "2024-12-09T00:00:00.000000000",
          "2024-12-10T00:00:00.000000000",
          "2024-12-11T00:00:00.000000000",
          "2024-12-12T00:00:00.000000000",
          "2024-12-13T00:00:00.000000000",
          "2024-12-16T00:00:00.000000000",
          "2024-12-17T00:00:00.000000000",
          "2024-12-18T00:00:00.000000000",
          "2024-12-19T00:00:00.000000000",
          "2024-12-20T00:00:00.000000000",
          "2024-12-23T00:00:00.000000000",
          "2024-12-24T00:00:00.000000000",
          "2024-12-26T00:00:00.000000000",
          "2024-12-27T00:00:00.000000000",
          "2024-12-30T00:00:00.000000000",
          "2024-12-31T00:00:00.000000000",
          "2025-01-02T00:00:00.000000000",
          "2025-01-03T00:00:00.000000000",
          "2025-01-06T00:00:00.000000000",
          "2025-01-07T00:00:00.000000000",
          "2025-01-08T00:00:00.000000000",
          "2025-01-10T00:00:00.000000000",
          "2025-01-13T00:00:00.000000000",
          "2025-01-14T00:00:00.000000000",
          "2025-01-15T00:00:00.000000000",
          "2025-01-16T00:00:00.000000000",
          "2025-01-17T00:00:00.000000000",
          "2025-01-21T00:00:00.000000000",
          "2025-01-22T00:00:00.000000000",
          "2025-01-23T00:00:00.000000000",
          "2025-01-24T00:00:00.000000000",
          "2025-01-27T00:00:00.000000000",
          "2025-01-28T00:00:00.000000000",
          "2025-01-29T00:00:00.000000000",
          "2025-01-30T00:00:00.000000000",
          "2025-01-31T00:00:00.000000000",
          "2025-02-03T00:00:00.000000000",
          "2025-02-04T00:00:00.000000000",
          "2025-02-05T00:00:00.000000000",
          "2025-02-06T00:00:00.000000000",
          "2025-02-07T00:00:00.000000000",
          "2025-02-10T00:00:00.000000000",
          "2025-02-11T00:00:00.000000000",
          "2025-02-12T00:00:00.000000000",
          "2025-02-13T00:00:00.000000000"
         ],
         "y": {
          "bdata": "7FG4HoWrNUCamZmZmZk1QOxRuB6FKzVA4XoUrkdhNUBmZmZmZqY1QB+F61G4njVAmpmZmZmZNUAfhetRuN41QI/C9ShczzVAZmZmZmbmNEBxPQrXo/A0QClcj8L1KDVAXI/C9SgcNUCPwvUoXE81QHE9CtejcDVArkfhehRuNUBmZmZmZqY1QB+F61G4njVApHA9CtejNUCuR+F6FK41QJqZmZmZmTVAKVyPwvVoNUC4HoXrUXg1QOxRuB6FKzVA16NwPQpXNUA9CtejcH01QIXrUbgehTVArkfhehRuNUCuR+F6FK41QEjhehSuRzVAj8L1KFzPNEB7FK5H4bo0QOxRuB6F6zNAmpmZmZnZM0DhehSuR2EzQHE9CtejsDNAw/UoXI8CNECPwvUoXA80QPYoXI/C9TNAuB6F61E4NECPwvUoXE80QOxRuB6F6zNACtejcD3KM0D2KFyPwjU0QPYoXI/CdTRArkfhehSuNECF61G4HoU0QDMzMzMzczRAw/UoXI+CNEAK16NwPUo0QDMzMzMzczRA4XoUrkehNECPwvUoXA80QEjhehSuBzRA7FG4HoUrNEDXo3A9Clc0QB+F61G4XjRAuB6F61E4NEBxPQrXo/AzQMP1KFyPQjRAzczMzMxMNEBxPQrXozA0QDMzMzMzMzRAXI/C9SgcNED2KFyPwjU0QMP1KFyPQjRAMzMzMzNzNECF61G4HoU0QOxRuB6FazRAw/UoXI+CNEBxPQrXo3A0QB+F61G4njRA7FG4HoVrNEDXo3A9CpczQOxRuB6FqzNACtejcD2KM0AUrkfhepQzQFK4HoXrkTNApHA9CtdjM0ApXI/C9agzQFK4HoXrkTNAMzMzMzOzM0DD9Shcj4IzQBSuR+F6lDNArkfhehSuM0A9CtejcL0zQOF6FK5H4TNApHA9CtfjM0AfhetRuN4zQD0K16Nw/TNAH4XrUbjeM0C4HoXrUfgzQDMzMzMzMzRArkfhehQuNED2KFyPwjUzQDMzMzMz8zJAPQrXo3D9MkA9CtejcD0zQGZmZmZmJjNAPQrXo3B9MkAUrkfhelQyQBSuR+F6lDJAXI/C9SicMkDD9Shcj4IyQFK4HoXr0TJAMzMzMzMzMkAAAAAAAMAxQM3MzMzMDDFAKVyPwvVoMUCuR+F6FC4xQAAAAAAAwDFAXI/C9SjcMUDXo3A9CtcxQKRwPQrXIzJA4XoUrkchMkBmZmZmZqYxQFK4HoXr0TFArkfhehTuMUApXI/C9egxQM3MzMzMDDJAMzMzMzOzMUAfhetRuN4xQOxRuB6F6zFAmpmZmZnZMUBSuB6F65ExQJqZmZmZmTFAPQrXo3C9MUB7FK5H4ToxQAAAAAAAQDFA9ihcj8I1MUD2KFyPwrUwQEjhehSuBzFA7FG4HoUrMUCamZmZmVkxQHE9CtejcDFAw/UoXI+CMUAAAAAAAIAxQFyPwvUonDFAmpmZmZmZMUC4HoXrUbgxQKRwPQrXozFAw/UoXI/CMUApXI/C9egxQB+F61G43jFAj8L1KFzPMUCkcD0K1+MxQBSuR+F61DFAUrgeheuRMUDNzMzMzIwxQM3MzMzMTDFAmpmZmZmZMUCF61G4HoUxQNejcD0KlzFApHA9CtejMUCuR+F6FG4xQFyPwvUonDFAcT0K16OwMUA9CtejcH0xQNejcD0KlzFAFK5H4XpUMUBSuB6F65ExQB+F61G4njFASOF6FK6HMUBSuB6F61ExQFK4HoXrUTFAXI/C9ShcMUDNzMzMzIwxQGZmZmZmpjFAw/UoXI+CMUDsUbgeheswQHE9Ctej8DBAKVyPwvXoMEAfhetRuB4xQDMzMzMzszFA9ihcj8K1MUC4HoXrUbgxQB+F61G4HjJAmpmZmZkZMkBxPQrXo/AxQB+F61G4njFA16NwPQqXMUBcj8L1KNwxQLgehetRODJAcT0K16MwMkDhehSuRyEyQJqZmZmZWTJAMzMzMzNzMkA9CtejcD0yQJqZmZmZWTJAH4XrUbgeMkAfhetRuF4yQHE9CtejcDJAZmZmZmamMkBmZmZmZmYyQGZmZmZmpjJAAAAAAACAMkDD9Shcj0IyQPYoXI/CdTJAAAAAAABAMkCuR+F6FC4yQM3MzMzMTDJAw/UoXI9CMkAAAAAAAIAxQArXo3A9SjFASOF6FK6HMUAK16NwPYoxQJqZmZmZ2TFACtejcD3KMUDNzMzMzEwxQBSuR+F6FDFAMzMzMzPzMEAK16NwPQoxQAAAAAAAQDFAuB6F61F4MUBcj8L1KBwxQHsUrkfhujBAhetRuB6FMEAAAAAAAEAwQI/C9ShcTzBA7FG4HoWrMEDD9Shcj4IwQIXrUbgexTBA4XoUrkfhMEBI4XoUrgcxQPYoXI/C9TBApHA9CtfjMEBmZmZmZmYwQLgehetRuDBAMzMzMzOzMED2KFyPwrUwQJqZmZmZmTBArkfhehRuMECuR+F6FK4wQFK4HoXrkTBAexSuR+F6MEBxPQrXo3AwQOxRuB6FqzBAKVyPwvVoMECamZmZmZkwQKRwPQrXozBA",
          "dtype": "f8"
         },
         "yaxis": "y"
        },
        {
         "marker": {
          "color": "blue",
          "size": 12,
          "symbol": "triangle-up"
         },
         "mode": "markers",
         "name": "Entry",
         "type": "scatter",
         "x": [
          "2024-04-04T00:00:00.000000000",
          "2024-04-10T00:00:00.000000000",
          "2024-07-18T00:00:00.000000000",
          "2024-07-26T00:00:00.000000000",
          "2024-08-27T00:00:00.000000000",
          "2024-08-30T00:00:00.000000000",
          "2024-09-20T00:00:00.000000000",
          "2024-11-18T00:00:00.000000000",
          "2025-01-03T00:00:00.000000000"
         ],
         "y": {
          "bdata": "7FG4HoUrNUCuR+F6FG41QDMzMzMz8zJAFK5H4XqUMkCamZmZmdkxQD0K16NwvTFApHA9CtejMUBcj8L1KNwxQAAAAAAAQDFA",
          "dtype": "f8"
         },
         "yaxis": "y"
        },
        {
         "marker": {
          "color": "red",
          "size": 12,
          "symbol": "triangle-down"
         },
         "mode": "markers",
         "name": "Exit",
         "type": "scatter",
         "x": [
          "2024-04-08T00:00:00.000000000",
          "2024-04-11T00:00:00.000000000",
          "2024-07-22T00:00:00.000000000",
          "2024-08-01T00:00:00.000000000",
          "2024-08-28T00:00:00.000000000",
          "2024-09-03T00:00:00.000000000",
          "2024-09-26T00:00:00.000000000",
          "2024-11-20T00:00:00.000000000",
          "2025-01-07T00:00:00.000000000"
         ],
         "y": {
          "bdata": "PQrXo3B9NUCuR+F6FK41QD0K16NwPTNAMzMzMzMzMkBSuB6F65ExQHsUrkfhOjFAj8L1KFzPMUBxPQrXozAyQFyPwvUoHDFA",
          "dtype": "f8"
         },
         "yaxis": "y"
        },
        {
         "line": {
          "color": "red",
          "width": 2
         },
         "mode": "lines",
         "name": "Portfolio Value",
         "type": "scatter",
         "x": [
          "2024-03-01T00:00:00.000000000",
          "2024-03-04T00:00:00.000000000",
          "2024-03-05T00:00:00.000000000",
          "2024-03-06T00:00:00.000000000",
          "2024-03-07T00:00:00.000000000",
          "2024-03-08T00:00:00.000000000",
          "2024-03-11T00:00:00.000000000",
          "2024-03-12T00:00:00.000000000",
          "2024-03-13T00:00:00.000000000",
          "2024-03-14T00:00:00.000000000",
          "2024-03-15T00:00:00.000000000",
          "2024-03-18T00:00:00.000000000",
          "2024-03-19T00:00:00.000000000",
          "2024-03-20T00:00:00.000000000",
          "2024-03-21T00:00:00.000000000",
          "2024-03-22T00:00:00.000000000",
          "2024-03-25T00:00:00.000000000",
          "2024-03-26T00:00:00.000000000",
          "2024-03-27T00:00:00.000000000",
          "2024-03-28T00:00:00.000000000",
          "2024-04-01T00:00:00.000000000",
          "2024-04-02T00:00:00.000000000",
          "2024-04-03T00:00:00.000000000",
          "2024-04-04T00:00:00.000000000",
          "2024-04-05T00:00:00.000000000",
          "2024-04-08T00:00:00.000000000",
          "2024-04-09T00:00:00.000000000",
          "2024-04-10T00:00:00.000000000",
          "2024-04-11T00:00:00.000000000",
          "2024-04-12T00:00:00.000000000",
          "2024-04-15T00:00:00.000000000",
          "2024-04-16T00:00:00.000000000",
          "2024-04-17T00:00:00.000000000",
          "2024-04-18T00:00:00.000000000",
          "2024-04-19T00:00:00.000000000",
          "2024-04-22T00:00:00.000000000",
          "2024-04-23T00:00:00.000000000",
          "2024-04-24T00:00:00.000000000",
          "2024-04-25T00:00:00.000000000",
          "2024-04-26T00:00:00.000000000",
          "2024-04-29T00:00:00.000000000",
          "2024-04-30T00:00:00.000000000",
          "2024-05-01T00:00:00.000000000",
          "2024-05-02T00:00:00.000000000",
          "2024-05-03T00:00:00.000000000",
          "2024-05-06T00:00:00.000000000",
          "2024-05-07T00:00:00.000000000",
          "2024-05-08T00:00:00.000000000",
          "2024-05-09T00:00:00.000000000",
          "2024-05-10T00:00:00.000000000",
          "2024-05-13T00:00:00.000000000",
          "2024-05-14T00:00:00.000000000",
          "2024-05-15T00:00:00.000000000",
          "2024-05-16T00:00:00.000000000",
          "2024-05-17T00:00:00.000000000",
          "2024-05-20T00:00:00.000000000",
          "2024-05-21T00:00:00.000000000",
          "2024-05-22T00:00:00.000000000",
          "2024-05-23T00:00:00.000000000",
          "2024-05-24T00:00:00.000000000",
          "2024-05-28T00:00:00.000000000",
          "2024-05-29T00:00:00.000000000",
          "2024-05-30T00:00:00.000000000",
          "2024-05-31T00:00:00.000000000",
          "2024-06-03T00:00:00.000000000",
          "2024-06-04T00:00:00.000000000",
          "2024-06-05T00:00:00.000000000",
          "2024-06-06T00:00:00.000000000",
          "2024-06-07T00:00:00.000000000",
          "2024-06-10T00:00:00.000000000",
          "2024-06-11T00:00:00.000000000",
          "2024-06-12T00:00:00.000000000",
          "2024-06-13T00:00:00.000000000",
          "2024-06-14T00:00:00.000000000",
          "2024-06-17T00:00:00.000000000",
          "2024-06-18T00:00:00.000000000",
          "2024-06-20T00:00:00.000000000",
          "2024-06-21T00:00:00.000000000",
          "2024-06-24T00:00:00.000000000",
          "2024-06-25T00:00:00.000000000",
          "2024-06-26T00:00:00.000000000",
          "2024-06-27T00:00:00.000000000",
          "2024-06-28T00:00:00.000000000",
          "2024-07-01T00:00:00.000000000",
          "2024-07-02T00:00:00.000000000",
          "2024-07-03T00:00:00.000000000",
          "2024-07-05T00:00:00.000000000",
          "2024-07-08T00:00:00.000000000",
          "2024-07-09T00:00:00.000000000",
          "2024-07-10T00:00:00.000000000",
          "2024-07-11T00:00:00.000000000",
          "2024-07-12T00:00:00.000000000",
          "2024-07-15T00:00:00.000000000",
          "2024-07-16T00:00:00.000000000",
          "2024-07-17T00:00:00.000000000",
          "2024-07-18T00:00:00.000000000",
          "2024-07-19T00:00:00.000000000",
          "2024-07-22T00:00:00.000000000",
          "2024-07-23T00:00:00.000000000",
          "2024-07-24T00:00:00.000000000",
          "2024-07-25T00:00:00.000000000",
          "2024-07-26T00:00:00.000000000",
          "2024-07-29T00:00:00.000000000",
          "2024-07-30T00:00:00.000000000",
          "2024-07-31T00:00:00.000000000",
          "2024-08-01T00:00:00.000000000",
          "2024-08-02T00:00:00.000000000",
          "2024-08-05T00:00:00.000000000",
          "2024-08-06T00:00:00.000000000",
          "2024-08-07T00:00:00.000000000",
          "2024-08-08T00:00:00.000000000",
          "2024-08-09T00:00:00.000000000",
          "2024-08-12T00:00:00.000000000",
          "2024-08-13T00:00:00.000000000",
          "2024-08-14T00:00:00.000000000",
          "2024-08-15T00:00:00.000000000",
          "2024-08-16T00:00:00.000000000",
          "2024-08-19T00:00:00.000000000",
          "2024-08-20T00:00:00.000000000",
          "2024-08-21T00:00:00.000000000",
          "2024-08-22T00:00:00.000000000",
          "2024-08-23T00:00:00.000000000",
          "2024-08-26T00:00:00.000000000",
          "2024-08-27T00:00:00.000000000",
          "2024-08-28T00:00:00.000000000",
          "2024-08-29T00:00:00.000000000",
          "2024-08-30T00:00:00.000000000",
          "2024-09-03T00:00:00.000000000",
          "2024-09-04T00:00:00.000000000",
          "2024-09-05T00:00:00.000000000",
          "2024-09-06T00:00:00.000000000",
          "2024-09-09T00:00:00.000000000",
          "2024-09-10T00:00:00.000000000",
          "2024-09-11T00:00:00.000000000",
          "2024-09-12T00:00:00.000000000",
          "2024-09-13T00:00:00.000000000",
          "2024-09-16T00:00:00.000000000",
          "2024-09-17T00:00:00.000000000",
          "2024-09-18T00:00:00.000000000",
          "2024-09-19T00:00:00.000000000",
          "2024-09-20T00:00:00.000000000",
          "2024-09-23T00:00:00.000000000",
          "2024-09-24T00:00:00.000000000",
          "2024-09-25T00:00:00.000000000",
          "2024-09-26T00:00:00.000000000",
          "2024-09-27T00:00:00.000000000",
          "2024-09-30T00:00:00.000000000",
          "2024-10-01T00:00:00.000000000",
          "2024-10-02T00:00:00.000000000",
          "2024-10-03T00:00:00.000000000",
          "2024-10-04T00:00:00.000000000",
          "2024-10-07T00:00:00.000000000",
          "2024-10-08T00:00:00.000000000",
          "2024-10-09T00:00:00.000000000",
          "2024-10-10T00:00:00.000000000",
          "2024-10-11T00:00:00.000000000",
          "2024-10-14T00:00:00.000000000",
          "2024-10-15T00:00:00.000000000",
          "2024-10-16T00:00:00.000000000",
          "2024-10-17T00:00:00.000000000",
          "2024-10-18T00:00:00.000000000",
          "2024-10-21T00:00:00.000000000",
          "2024-10-22T00:00:00.000000000",
          "2024-10-23T00:00:00.000000000",
          "2024-10-24T00:00:00.000000000",
          "2024-10-25T00:00:00.000000000",
          "2024-10-28T00:00:00.000000000",
          "2024-10-29T00:00:00.000000000",
          "2024-10-30T00:00:00.000000000",
          "2024-10-31T00:00:00.000000000",
          "2024-11-01T00:00:00.000000000",
          "2024-11-04T00:00:00.000000000",
          "2024-11-05T00:00:00.000000000",
          "2024-11-06T00:00:00.000000000",
          "2024-11-07T00:00:00.000000000",
          "2024-11-08T00:00:00.000000000",
          "2024-11-11T00:00:00.000000000",
          "2024-11-12T00:00:00.000000000",
          "2024-11-13T00:00:00.000000000",
          "2024-11-14T00:00:00.000000000",
          "2024-11-15T00:00:00.000000000",
          "2024-11-18T00:00:00.000000000",
          "2024-11-19T00:00:00.000000000",
          "2024-11-20T00:00:00.000000000",
          "2024-11-21T00:00:00.000000000",
          "2024-11-22T00:00:00.000000000",
          "2024-11-25T00:00:00.000000000",
          "2024-11-26T00:00:00.000000000",
          "2024-11-27T00:00:00.000000000",
          "2024-11-29T00:00:00.000000000",
          "2024-12-02T00:00:00.000000000",
          "2024-12-03T00:00:00.000000000",
          "2024-12-04T00:00:00.000000000",
          "2024-12-05T00:00:00.000000000",
          "2024-12-06T00:00:00.000000000",
          "2024-12-09T00:00:00.000000000",
          "2024-12-10T00:00:00.000000000",
          "2024-12-11T00:00:00.000000000",
          "2024-12-12T00:00:00.000000000",
          "2024-12-13T00:00:00.000000000",
          "2024-12-16T00:00:00.000000000",
          "2024-12-17T00:00:00.000000000",
          "2024-12-18T00:00:00.000000000",
          "2024-12-19T00:00:00.000000000",
          "2024-12-20T00:00:00.000000000",
          "2024-12-23T00:00:00.000000000",
          "2024-12-24T00:00:00.000000000",
          "2024-12-26T00:00:00.000000000",
          "2024-12-27T00:00:00.000000000",
          "2024-12-30T00:00:00.000000000",
          "2024-12-31T00:00:00.000000000",
          "2025-01-02T00:00:00.000000000",
          "2025-01-03T00:00:00.000000000",
          "2025-01-06T00:00:00.000000000",
          "2025-01-07T00:00:00.000000000",
          "2025-01-08T00:00:00.000000000",
          "2025-01-10T00:00:00.000000000",
          "2025-01-13T00:00:00.000000000",
          "2025-01-14T00:00:00.000000000",
          "2025-01-15T00:00:00.000000000",
          "2025-01-16T00:00:00.000000000",
          "2025-01-17T00:00:00.000000000",
          "2025-01-21T00:00:00.000000000",
          "2025-01-22T00:00:00.000000000",
          "2025-01-23T00:00:00.000000000",
          "2025-01-24T00:00:00.000000000",
          "2025-01-27T00:00:00.000000000",
          "2025-01-28T00:00:00.000000000",
          "2025-01-29T00:00:00.000000000",
          "2025-01-30T00:00:00.000000000",
          "2025-01-31T00:00:00.000000000",
          "2025-02-03T00:00:00.000000000",
          "2025-02-04T00:00:00.000000000",
          "2025-02-05T00:00:00.000000000",
          "2025-02-06T00:00:00.000000000",
          "2025-02-07T00:00:00.000000000",
          "2025-02-10T00:00:00.000000000",
          "2025-02-11T00:00:00.000000000",
          "2025-02-12T00:00:00.000000000",
          "2025-02-13T00:00:00.000000000"
         ],
         "y": {
          "bdata": "AAAAAACIw0AAAAAAAIjDQAAAAAAAiMNAAAAAAACIw0AAAAAAAIjDQAAAAAAAiMNAAAAAAACIw0AAAAAAAIjDQAAAAAAAiMNAAAAAAACIw0AAAAAAAIjDQAAAAAAAiMNAAAAAAACIw0AAAAAAAIjDQAAAAAAAiMNAAAAAAACIw0AAAAAAAIjDQAAAAAAAiMNAAAAAAACIw0AAAAAAAIjDQAAAAAAAiMNAAAAAAACIw0AAAAAAAIjDQAAAAAAAiMNAvKM+siaww0C8oz6yJrDDQLyjPrImsMNAvKM+siaww0C8oz6yJrDDQLyjPrImsMNAvKM+siaww0C8oz6yJrDDQLyjPrImsMNAvKM+siaww0C8oz6yJrDDQLyjPrImsMNAvKM+siaww0C8oz6yJrDDQLyjPrImsMNAvKM+siaww0C8oz6yJrDDQLyjPrImsMNAvKM+siaww0C8oz6yJrDDQLyjPrImsMNAvKM+siaww0C8oz6yJrDDQLyjPrImsMNAvKM+siaww0C8oz6yJrDDQLyjPrImsMNAvKM+siaww0C8oz6yJrDDQLyjPrImsMNAvKM+siaww0C8oz6yJrDDQLyjPrImsMNAvKM+siaww0C8oz6yJrDDQLyjPrImsMNAvKM+siaww0C8oz6yJrDDQLyjPrImsMNAvKM+siaww0C8oz6yJrDDQLyjPrImsMNAvKM+siaww0C8oz6yJrDDQLyjPrImsMNAvKM+siaww0C8oz6yJrDDQLyjPrImsMNAvKM+siaww0C8oz6yJrDDQLyjPrImsMNAvKM+siaww0C8oz6yJrDDQLyjPrImsMNAvKM+siaww0C8oz6yJrDDQLyjPrImsMNAvKM+siaww0C8oz6yJrDDQLyjPrImsMNAvKM+siaww0C8oz6yJrDDQLyjPrImsMNAvKM+siaww0C8oz6yJrDDQLyjPrImsMNAvKM+siaww0C8oz6yJrDDQLyjPrImsMNAvKM+siaww0C8oz6yJrDDQLyjPrImsMNAZltcPcq6w0BmW1w9yrrDQGZbXD3KusNAZltcPcq6w0BmW1w9yrrDQGZbXD3KusNA3BjY+PHCw0BUoTvdwqfDQBZHOhkI/MNAFkc6GQj8w0AWRzoZCPzDQBZHOhkI/MNAFkc6GQj8w0AWRzoZCPzDQBZHOhkI/MNAFkc6GQj8w0AWRzoZCPzDQBZHOhkI/MNAFkc6GQj8w0AWRzoZCPzDQBZHOhkI/MNAFkc6GQj8w0AWRzoZCPzDQBZHOhkI/MNAFkc6GQj8w0AWRzoZCPzDQBZHOhkI/MNAFkc6GQj8w0AWRzoZCPzDQBZHOhkI/MNAFkc6GQj8w0AWRzoZCPzDQBZHOhkI/MNAFkc6GQj8w0AWRzoZCPzDQBZHOhkI/MNAFkc6GQj8w0AWRzoZCPzDQBZHOhkI/MNAFkc6GQj8w0AWRzoZCPzDQBZHOhkI/MNAFkc6GQj8w0AWRzoZCPzDQBZHOhkI/MNAkeJ1ptUexEDpZACXVkrEQMDbQb28PsRAwNtBvbw+xEDA20G9vD7EQMDbQb28PsRAwNtBvbw+xEDA20G9vD7EQMDbQb28PsRAwNtBvbw+xEDA20G9vD7EQMDbQb28PsRAwNtBvbw+xEDA20G9vD7EQMDbQb28PsRAwNtBvbw+xEDA20G9vD7EQMDbQb28PsRAwNtBvbw+xEDA20G9vD7EQMDbQb28PsRAwNtBvbw+xEDA20G9vD7EQMDbQb28PsRAwNtBvbw+xEDA20G9vD7EQMDbQb28PsRAwNtBvbw+xEDA20G9vD7EQMDbQb28PsRAwNtBvbw+xEDA20G9vD7EQMDbQb28PsRAwNtBvbw+xEDA20G9vD7EQMDbQb28PsRAwNtBvbw+xEDA20G9vD7EQMDbQb28PsRAwNtBvbw+xEDB20G9vD7EQAKsKVw0p8RAAqwpXDSnxEACrClcNKfEQAKsKVw0p8RAAqwpXDSnxEACrClcNKfEQAKsKVw0p8RAAqwpXDSnxEACrClcNKfEQAKsKVw0p8RAAqwpXDSnxEACrClcNKfEQAKsKVw0p8RAAqwpXDSnxEACrClcNKfEQAKsKVw0p8RAAqwpXDSnxEACrClcNKfEQAKsKVw0p8RAAqwpXDSnxEACrClcNKfEQAKsKVw0p8RAAqwpXDSnxEACrClcNKfEQAKsKVw0p8RAAqwpXDSnxEACrClcNKfEQAKsKVw0p8RAAqwpXDSnxEACrClcNKfEQD6qqxdg3sRAvOIds6LqxEC84h2zourEQLziHbOi6sRAvOIds6LqxEC84h2zourEQLziHbOi6sRAvOIds6LqxEC84h2zourEQLziHbOi6sRAvOIds6LqxEC84h2zourEQLziHbOi6sRAvOIds6LqxEC84h2zourEQLziHbOi6sRAvOIds6LqxEC84h2zourEQLziHbOi6sRAvOIds6LqxEC84h2zourEQLziHbOi6sRAvOIds6LqxEC84h2zourEQLziHbOi6sRAvOIds6LqxEC84h2zourEQLziHbOi6sRA",
          "dtype": "f8"
         },
         "yaxis": "y2"
        }
       ],
       "layout": {
        "hovermode": "x unified",
        "legend": {
         "bgcolor": "rgba(255,255,255,0.7)",
         "bordercolor": "black",
         "borderwidth": 1,
         "x": 1,
         "xanchor": "right",
         "y": 1,
         "yanchor": "top"
        },
        "template": {
         "data": {
          "bar": [
           {
            "error_x": {
             "color": "#2a3f5f"
            },
            "error_y": {
             "color": "#2a3f5f"
            },
            "marker": {
             "line": {
              "color": "#E5ECF6",
              "width": 0.5
             },
             "pattern": {
              "fillmode": "overlay",
              "size": 10,
              "solidity": 0.2
             }
            },
            "type": "bar"
           }
          ],
          "barpolar": [
           {
            "marker": {
             "line": {
              "color": "#E5ECF6",
              "width": 0.5
             },
             "pattern": {
              "fillmode": "overlay",
              "size": 10,
              "solidity": 0.2
             }
            },
            "type": "barpolar"
           }
          ],
          "carpet": [
           {
            "aaxis": {
             "endlinecolor": "#2a3f5f",
             "gridcolor": "white",
             "linecolor": "white",
             "minorgridcolor": "white",
             "startlinecolor": "#2a3f5f"
            },
            "baxis": {
             "endlinecolor": "#2a3f5f",
             "gridcolor": "white",
             "linecolor": "white",
             "minorgridcolor": "white",
             "startlinecolor": "#2a3f5f"
            },
            "type": "carpet"
           }
          ],
          "choropleth": [
           {
            "colorbar": {
             "outlinewidth": 0,
             "ticks": ""
            },
            "type": "choropleth"
           }
          ],
          "contour": [
           {
            "colorbar": {
             "outlinewidth": 0,
             "ticks": ""
            },
            "colorscale": [
             [
              0,
              "#0d0887"
             ],
             [
              0.1111111111111111,
              "#46039f"
             ],
             [
              0.2222222222222222,
              "#7201a8"
             ],
             [
              0.3333333333333333,
              "#9c179e"
             ],
             [
              0.4444444444444444,
              "#bd3786"
             ],
             [
              0.5555555555555556,
              "#d8576b"
             ],
             [
              0.6666666666666666,
              "#ed7953"
             ],
             [
              0.7777777777777778,
              "#fb9f3a"
             ],
             [
              0.8888888888888888,
              "#fdca26"
             ],
             [
              1,
              "#f0f921"
             ]
            ],
            "type": "contour"
           }
          ],
          "contourcarpet": [
           {
            "colorbar": {
             "outlinewidth": 0,
             "ticks": ""
            },
            "type": "contourcarpet"
           }
          ],
          "heatmap": [
           {
            "colorbar": {
             "outlinewidth": 0,
             "ticks": ""
            },
            "colorscale": [
             [
              0,
              "#0d0887"
             ],
             [
              0.1111111111111111,
              "#46039f"
             ],
             [
              0.2222222222222222,
              "#7201a8"
             ],
             [
              0.3333333333333333,
              "#9c179e"
             ],
             [
              0.4444444444444444,
              "#bd3786"
             ],
             [
              0.5555555555555556,
              "#d8576b"
             ],
             [
              0.6666666666666666,
              "#ed7953"
             ],
             [
              0.7777777777777778,
              "#fb9f3a"
             ],
             [
              0.8888888888888888,
              "#fdca26"
             ],
             [
              1,
              "#f0f921"
             ]
            ],
            "type": "heatmap"
           }
          ],
          "histogram": [
           {
            "marker": {
             "pattern": {
              "fillmode": "overlay",
              "size": 10,
              "solidity": 0.2
             }
            },
            "type": "histogram"
           }
          ],
          "histogram2d": [
           {
            "colorbar": {
             "outlinewidth": 0,
             "ticks": ""
            },
            "colorscale": [
             [
              0,
              "#0d0887"
             ],
             [
              0.1111111111111111,
              "#46039f"
             ],
             [
              0.2222222222222222,
              "#7201a8"
             ],
             [
              0.3333333333333333,
              "#9c179e"
             ],
             [
              0.4444444444444444,
              "#bd3786"
             ],
             [
              0.5555555555555556,
              "#d8576b"
             ],
             [
              0.6666666666666666,
              "#ed7953"
             ],
             [
              0.7777777777777778,
              "#fb9f3a"
             ],
             [
              0.8888888888888888,
              "#fdca26"
             ],
             [
              1,
              "#f0f921"
             ]
            ],
            "type": "histogram2d"
           }
          ],
          "histogram2dcontour": [
           {
            "colorbar": {
             "outlinewidth": 0,
             "ticks": ""
            },
            "colorscale": [
             [
              0,
              "#0d0887"
             ],
             [
              0.1111111111111111,
              "#46039f"
             ],
             [
              0.2222222222222222,
              "#7201a8"
             ],
             [
              0.3333333333333333,
              "#9c179e"
             ],
             [
              0.4444444444444444,
              "#bd3786"
             ],
             [
              0.5555555555555556,
              "#d8576b"
             ],
             [
              0.6666666666666666,
              "#ed7953"
             ],
             [
              0.7777777777777778,
              "#fb9f3a"
             ],
             [
              0.8888888888888888,
              "#fdca26"
             ],
             [
              1,
              "#f0f921"
             ]
            ],
            "type": "histogram2dcontour"
           }
          ],
          "mesh3d": [
           {
            "colorbar": {
             "outlinewidth": 0,
             "ticks": ""
            },
            "type": "mesh3d"
           }
          ],
          "parcoords": [
           {
            "line": {
             "colorbar": {
              "outlinewidth": 0,
              "ticks": ""
             }
            },
            "type": "parcoords"
           }
          ],
          "pie": [
           {
            "automargin": true,
            "type": "pie"
           }
          ],
          "scatter": [
           {
            "fillpattern": {
             "fillmode": "overlay",
             "size": 10,
             "solidity": 0.2
            },
            "type": "scatter"
           }
          ],
          "scatter3d": [
           {
            "line": {
             "colorbar": {
              "outlinewidth": 0,
              "ticks": ""
             }
            },
            "marker": {
             "colorbar": {
              "outlinewidth": 0,
              "ticks": ""
             }
            },
            "type": "scatter3d"
           }
          ],
          "scattercarpet": [
           {
            "marker": {
             "colorbar": {
              "outlinewidth": 0,
              "ticks": ""
             }
            },
            "type": "scattercarpet"
           }
          ],
          "scattergeo": [
           {
            "marker": {
             "colorbar": {
              "outlinewidth": 0,
              "ticks": ""
             }
            },
            "type": "scattergeo"
           }
          ],
          "scattergl": [
           {
            "marker": {
             "colorbar": {
              "outlinewidth": 0,
              "ticks": ""
             }
            },
            "type": "scattergl"
           }
          ],
          "scattermap": [
           {
            "marker": {
             "colorbar": {
              "outlinewidth": 0,
              "ticks": ""
             }
            },
            "type": "scattermap"
           }
          ],
          "scattermapbox": [
           {
            "marker": {
             "colorbar": {
              "outlinewidth": 0,
              "ticks": ""
             }
            },
            "type": "scattermapbox"
           }
          ],
          "scatterpolar": [
           {
            "marker": {
             "colorbar": {
              "outlinewidth": 0,
              "ticks": ""
             }
            },
            "type": "scatterpolar"
           }
          ],
          "scatterpolargl": [
           {
            "marker": {
             "colorbar": {
              "outlinewidth": 0,
              "ticks": ""
             }
            },
            "type": "scatterpolargl"
           }
          ],
          "scatterternary": [
           {
            "marker": {
             "colorbar": {
              "outlinewidth": 0,
              "ticks": ""
             }
            },
            "type": "scatterternary"
           }
          ],
          "surface": [
           {
            "colorbar": {
             "outlinewidth": 0,
             "ticks": ""
            },
            "colorscale": [
             [
              0,
              "#0d0887"
             ],
             [
              0.1111111111111111,
              "#46039f"
             ],
             [
              0.2222222222222222,
              "#7201a8"
             ],
             [
              0.3333333333333333,
              "#9c179e"
             ],
             [
              0.4444444444444444,
              "#bd3786"
             ],
             [
              0.5555555555555556,
              "#d8576b"
             ],
             [
              0.6666666666666666,
              "#ed7953"
             ],
             [
              0.7777777777777778,
              "#fb9f3a"
             ],
             [
              0.8888888888888888,
              "#fdca26"
             ],
             [
              1,
              "#f0f921"
             ]
            ],
            "type": "surface"
           }
          ],
          "table": [
           {
            "cells": {
             "fill": {
              "color": "#EBF0F8"
             },
             "line": {
              "color": "white"
             }
            },
            "header": {
             "fill": {
              "color": "#C8D4E3"
             },
             "line": {
              "color": "white"
             }
            },
            "type": "table"
           }
          ]
         },
         "layout": {
          "annotationdefaults": {
           "arrowcolor": "#2a3f5f",
           "arrowhead": 0,
           "arrowwidth": 1
          },
          "autotypenumbers": "strict",
          "coloraxis": {
           "colorbar": {
            "outlinewidth": 0,
            "ticks": ""
           }
          },
          "colorscale": {
           "diverging": [
            [
             0,
             "#8e0152"
            ],
            [
             0.1,
             "#c51b7d"
            ],
            [
             0.2,
             "#de77ae"
            ],
            [
             0.3,
             "#f1b6da"
            ],
            [
             0.4,
             "#fde0ef"
            ],
            [
             0.5,
             "#f7f7f7"
            ],
            [
             0.6,
             "#e6f5d0"
            ],
            [
             0.7,
             "#b8e186"
            ],
            [
             0.8,
             "#7fbc41"
            ],
            [
             0.9,
             "#4d9221"
            ],
            [
             1,
             "#276419"
            ]
           ],
           "sequential": [
            [
             0,
             "#0d0887"
            ],
            [
             0.1111111111111111,
             "#46039f"
            ],
            [
             0.2222222222222222,
             "#7201a8"
            ],
            [
             0.3333333333333333,
             "#9c179e"
            ],
            [
             0.4444444444444444,
             "#bd3786"
            ],
            [
             0.5555555555555556,
             "#d8576b"
            ],
            [
             0.6666666666666666,
             "#ed7953"
            ],
            [
             0.7777777777777778,
             "#fb9f3a"
            ],
            [
             0.8888888888888888,
             "#fdca26"
            ],
            [
             1,
             "#f0f921"
            ]
           ],
           "sequentialminus": [
            [
             0,
             "#0d0887"
            ],
            [
             0.1111111111111111,
             "#46039f"
            ],
            [
             0.2222222222222222,
             "#7201a8"
            ],
            [
             0.3333333333333333,
             "#9c179e"
            ],
            [
             0.4444444444444444,
             "#bd3786"
            ],
            [
             0.5555555555555556,
             "#d8576b"
            ],
            [
             0.6666666666666666,
             "#ed7953"
            ],
            [
             0.7777777777777778,
             "#fb9f3a"
            ],
            [
             0.8888888888888888,
             "#fdca26"
            ],
            [
             1,
             "#f0f921"
            ]
           ]
          },
          "colorway": [
           "#636efa",
           "#EF553B",
           "#00cc96",
           "#ab63fa",
           "#FFA15A",
           "#19d3f3",
           "#FF6692",
           "#B6E880",
           "#FF97FF",
           "#FECB52"
          ],
          "font": {
           "color": "#2a3f5f"
          },
          "geo": {
           "bgcolor": "white",
           "lakecolor": "white",
           "landcolor": "#E5ECF6",
           "showlakes": true,
           "showland": true,
           "subunitcolor": "white"
          },
          "hoverlabel": {
           "align": "left"
          },
          "hovermode": "closest",
          "mapbox": {
           "style": "light"
          },
          "paper_bgcolor": "white",
          "plot_bgcolor": "#E5ECF6",
          "polar": {
           "angularaxis": {
            "gridcolor": "white",
            "linecolor": "white",
            "ticks": ""
           },
           "bgcolor": "#E5ECF6",
           "radialaxis": {
            "gridcolor": "white",
            "linecolor": "white",
            "ticks": ""
           }
          },
          "scene": {
           "xaxis": {
            "backgroundcolor": "#E5ECF6",
            "gridcolor": "white",
            "gridwidth": 2,
            "linecolor": "white",
            "showbackground": true,
            "ticks": "",
            "zerolinecolor": "white"
           },
           "yaxis": {
            "backgroundcolor": "#E5ECF6",
            "gridcolor": "white",
            "gridwidth": 2,
            "linecolor": "white",
            "showbackground": true,
            "ticks": "",
            "zerolinecolor": "white"
           },
           "zaxis": {
            "backgroundcolor": "#E5ECF6",
            "gridcolor": "white",
            "gridwidth": 2,
            "linecolor": "white",
            "showbackground": true,
            "ticks": "",
            "zerolinecolor": "white"
           }
          },
          "shapedefaults": {
           "line": {
            "color": "#2a3f5f"
           }
          },
          "ternary": {
           "aaxis": {
            "gridcolor": "white",
            "linecolor": "white",
            "ticks": ""
           },
           "baxis": {
            "gridcolor": "white",
            "linecolor": "white",
            "ticks": ""
           },
           "bgcolor": "#E5ECF6",
           "caxis": {
            "gridcolor": "white",
            "linecolor": "white",
            "ticks": ""
           }
          },
          "title": {
           "x": 0.05
          },
          "xaxis": {
           "automargin": true,
           "gridcolor": "white",
           "linecolor": "white",
           "ticks": "",
           "title": {
            "standoff": 15
           },
           "zerolinecolor": "white",
           "zerolinewidth": 2
          },
          "yaxis": {
           "automargin": true,
           "gridcolor": "white",
           "linecolor": "white",
           "ticks": "",
           "title": {
            "standoff": 15
           },
           "zerolinecolor": "white",
           "zerolinewidth": 2
          }
         }
        },
        "title": {
         "text": "YMAX Price (Left Axis) vs. Portfolio Value (Right Axis) - Interactive Plotly"
        },
        "xaxis": {
         "tickangle": 45,
         "tickformat": "%Y-%m",
         "title": {
          "text": "Date"
         },
         "type": "date"
        },
        "yaxis": {
         "color": "blue",
         "showgrid": false,
         "side": "left",
         "title": {
          "text": "YMAX Price ($)"
         }
        },
        "yaxis2": {
         "color": "red",
         "gridcolor": "lightgray",
         "gridwidth": 1,
         "overlaying": "y",
         "position": 1,
         "showgrid": true,
         "side": "right",
         "title": {
          "text": "Portfolio Value ($)"
         }
        }
       }
      }
     },
     "metadata": {},
     "output_type": "display_data"
    }
   ],
   "source": [
    "import plotly.graph_objects as go\n",
    "\n",
    "# ---------------------------------------------\n",
    "# STEP A: Identify Entry and Exit Days\n",
    "# ---------------------------------------------\n",
    "ymax_df[\"Entry\"] = (ymax_df[\"In_Market\"].shift(1) == False) & (ymax_df[\"In_Market\"] == True)\n",
    "ymax_df[\"Exit\"]  = (ymax_df[\"In_Market\"].shift(1) == True) & (ymax_df[\"In_Market\"] == False)\n",
    "\n",
    "# ---------------------------------------------\n",
    "# STEP B: Prepare Data for Plotting\n",
    "# ---------------------------------------------\n",
    "entry_days = ymax_df[ymax_df[\"Entry\"] == True]\n",
    "exit_days  = ymax_df[ymax_df[\"Exit\"] == True]\n",
    "\n",
    "# Sort data by date\n",
    "ymax_df.sort_values(\"Date\", inplace=True)\n",
    "ymax_df.reset_index(drop=True, inplace=True)\n",
    "\n",
    "# ---------------------------------------------\n",
    "# STEP C: Create Plotly Figure\n",
    "# ---------------------------------------------\n",
    "fig = go.Figure()\n",
    "\n",
    "# 1) YMAX Price (Left Axis)\n",
    "fig.add_trace(\n",
    "    go.Scatter(\n",
    "        x=ymax_df[\"Date\"],\n",
    "        y=ymax_df[\"YMAX\"],\n",
    "        mode=\"lines\",\n",
    "        line=dict(color=\"blue\", width=2),\n",
    "        name=\"YMAX Price\",\n",
    "        yaxis=\"y1\"\n",
    "    )\n",
    ")\n",
    "\n",
    "# 2) Entry Markers (triangle-up)\n",
    "fig.add_trace(\n",
    "    go.Scatter(\n",
    "        x=entry_days[\"Date\"],\n",
    "        y=entry_days[\"YMAX\"],\n",
    "        mode=\"markers\",\n",
    "        marker=dict(symbol=\"triangle-up\", color=\"blue\", size=12),\n",
    "        name=\"Entry\",\n",
    "        yaxis=\"y1\"\n",
    "    )\n",
    ")\n",
    "\n",
    "# 3) Exit Markers (triangle-down)\n",
    "fig.add_trace(\n",
    "    go.Scatter(\n",
    "        x=exit_days[\"Date\"],\n",
    "        y=exit_days[\"YMAX\"],\n",
    "        mode=\"markers\",\n",
    "        marker=dict(symbol=\"triangle-down\", color=\"red\", size=12),\n",
    "        name=\"Exit\",\n",
    "        yaxis=\"y1\"\n",
    "    )\n",
    ")\n",
    "\n",
    "# 4) Portfolio Value (Right Axis)\n",
    "fig.add_trace(\n",
    "    go.Scatter(\n",
    "        x=ymax_df[\"Date\"],\n",
    "        y=ymax_df[\"Portfolio_Value\"],\n",
    "        mode=\"lines\",\n",
    "        line=dict(color=\"red\", width=2),\n",
    "        name=\"Portfolio Value\",\n",
    "        yaxis=\"y2\"\n",
    "    )\n",
    ")\n",
    "\n",
    "# ---------------------------------------------\n",
    "# STEP D: Configure Layout for Dual Axis\n",
    "# ---------------------------------------------\n",
    "fig.update_layout(\n",
    "    title=\"YMAX Price (Left Axis) vs. Portfolio Value (Right Axis) - Interactive Plotly\",\n",
    "    xaxis=dict(\n",
    "        title=\"Date\",\n",
    "        type=\"date\",\n",
    "        tickformat=\"%Y-%m\",\n",
    "        tickangle=45\n",
    "    ),\n",
    "    yaxis=dict(\n",
    "        title=\"YMAX Price ($)\",\n",
    "        side=\"left\",\n",
    "        showgrid=False,\n",
    "        color=\"blue\"\n",
    "    ),\n",
    "    yaxis2=dict(\n",
    "        title=\"Portfolio Value ($)\",\n",
    "        side=\"right\",\n",
    "        overlaying=\"y\",\n",
    "        position=1.0,\n",
    "        showgrid=True,\n",
    "        gridwidth=1,\n",
    "        gridcolor=\"lightgray\",\n",
    "        color=\"red\"\n",
    "    ),\n",
    "    legend=dict(\n",
    "        x=1.0,\n",
    "        y=1.0,\n",
    "        xanchor='right',\n",
    "        yanchor='top',\n",
    "        bgcolor=\"rgba(255,255,255,0.7)\",\n",
    "        bordercolor=\"black\",\n",
    "        borderwidth=1\n",
    "    ),\n",
    "    hovermode=\"x unified\"\n",
    ")\n",
    "\n",
    "# ---------------------------------------------\n",
    "# STEP E: Show Interactive Figure\n",
    "# ---------------------------------------------\n",
    "fig.show()\n"
   ]
  },
  {
   "cell_type": "markdown",
   "metadata": {},
   "source": [
    "#### Performance Metrics for Strategy 2 on YMAX"
   ]
  },
  {
   "cell_type": "code",
   "execution_count": 65,
   "metadata": {},
   "outputs": [],
   "source": [
    "# ---------------------------------------------\n",
    "# STEP 1: Compute Performance Metrics for Strategy 2 on YMAX\n",
    "# ---------------------------------------------\n",
    "# Compute daily returns from portfolio value (if not already computed)\n",
    "ymax_df[\"Portfolio_Return\"] = ymax_df[\"Portfolio_Value\"].pct_change()\n",
    "\n",
    "performance_metrics = {}\n",
    "\n",
    "# Total Return (%)\n",
    "performance_metrics[\"Total Return (%)\"] = (ymax_df[\"Portfolio_Value\"].iloc[-1] / ymax_df[\"Portfolio_Value\"].iloc[0] - 1) * 100\n",
    "\n",
    "# CAGR (Compounded Annual Growth Rate) (%)\n",
    "num_days = (ymax_df[\"Date\"].iloc[-1] - ymax_df[\"Date\"].iloc[0]).days\n",
    "years = num_days / 365\n",
    "performance_metrics[\"CAGR (%)\"] = ((ymax_df[\"Portfolio_Value\"].iloc[-1] / ymax_df[\"Portfolio_Value\"].iloc[0]) ** (1 / years) - 1) * 100\n",
    "\n",
    "# Annualized Volatility (%)\n",
    "performance_metrics[\"Annualized Volatility (%)\"] = ymax_df[\"Portfolio_Return\"].std() * np.sqrt(252) * 100\n",
    "\n",
    "# Sharpe Ratio (assuming risk-free rate = 2%)\n",
    "risk_free_rate = 0.02\n",
    "sharpe_ratio = (performance_metrics[\"CAGR (%)\"] / 100 - risk_free_rate) / (performance_metrics[\"Annualized Volatility (%)\"] / 100)\n",
    "performance_metrics[\"Sharpe Ratio\"] = sharpe_ratio\n",
    "\n",
    "# Max Drawdown (%) Calculation\n",
    "rolling_max = ymax_df[\"Portfolio_Value\"].cummax()\n",
    "drawdown = (ymax_df[\"Portfolio_Value\"] / rolling_max) - 1  # Decimal values (e.g., -0.10 for -10%)\n",
    "drawdown_percentage = drawdown * 100  # Convert to percentage\n",
    "performance_metrics[\"Max Drawdown (%)\"] = drawdown_percentage.min()  # Most negative value\n",
    "\n",
    "# Calmar Ratio (CAGR / |Max Drawdown|)\n",
    "max_drawdown_abs = abs(performance_metrics[\"Max Drawdown (%)\"])\n",
    "performance_metrics[\"Calmar Ratio\"] = performance_metrics[\"CAGR (%)\"] / max_drawdown_abs if max_drawdown_abs != 0 else np.nan\n",
    "\n",
    "# Convert metrics to a DataFrame for display\n",
    "performance_df = pd.DataFrame(performance_metrics, index=[\"YMAX Strategy 2\"])"
   ]
  },
  {
   "cell_type": "code",
   "execution_count": 66,
   "metadata": {},
   "outputs": [
    {
     "data": {
      "image/png": "[encoded data removed]",
      "text/plain": [
       "<Figure size 1200x600 with 1 Axes>"
      ]
     },
     "metadata": {},
     "output_type": "display_data"
    }
   ],
   "source": [
    "\n",
    "\n",
    "# ---------------------------------------------\n",
    "# STEP 2: Plot Drawdown Over Time\n",
    "# ---------------------------------------------\n",
    "sns.set_style(\"whitegrid\")\n",
    "plt.figure(figsize=(12, 6))\n",
    "\n",
    "ax = sns.lineplot(\n",
    "    x=ymax_df[\"Date\"],\n",
    "    y=drawdown_percentage,\n",
    "    color=\"red\",\n",
    "    linewidth=2,\n",
    "    label=\"Drawdown (%)\"\n",
    ")\n",
    "\n",
    "# Format X-axis to display months\n",
    "ax.xaxis.set_major_locator(mdates.MonthLocator())\n",
    "ax.xaxis.set_major_formatter(mdates.DateFormatter(\"%Y-%m\"))\n",
    "plt.xticks(rotation=45, fontsize=12)\n",
    "plt.yticks(fontsize=12)\n",
    "\n",
    "# Format Y-axis labels as percentages (e.g., -1.00%, -2.00%)\n",
    "ax.yaxis.set_major_formatter(mticker.FuncFormatter(lambda y, pos: f\"{y:.2f}%\"))\n",
    "\n",
    "plt.xlabel(\"Date\", fontsize=14, fontweight=\"bold\")\n",
    "plt.ylabel(\"Drawdown (%)\", fontsize=14, fontweight=\"bold\")\n",
    "plt.title(\"📉 Drawdowns of YMAX Strategy 2 Over Time\", fontsize=16, fontweight=\"bold\", color=\"darkred\")\n",
    "\n",
    "# Add thick, colored grid lines\n",
    "plt.grid(True, linestyle=\"--\", linewidth=1.2, color=\"gray\")\n",
    "\n",
    "plt.legend(fontsize=12, loc=\"upper left\", frameon=True, shadow=True)\n",
    "plt.tight_layout()\n",
    "plt.show()\n"
   ]
  },
  {
   "cell_type": "code",
   "execution_count": 67,
   "metadata": {},
   "outputs": [
    {
     "data": {
      "application/vnd.microsoft.datawrangler.viewer.v0+json": {
       "columns": [
        {
         "name": "index",
         "rawType": "object",
         "type": "string"
        },
        {
         "name": "Total Return (%)",
         "rawType": "float64",
         "type": "float"
        },
        {
         "name": "CAGR (%)",
         "rawType": "float64",
         "type": "float"
        },
        {
         "name": "Annualized Volatility (%)",
         "rawType": "float64",
         "type": "float"
        },
        {
         "name": "Sharpe Ratio",
         "rawType": "float64",
         "type": "float"
        },
        {
         "name": "Max Drawdown (%)",
         "rawType": "float64",
         "type": "float"
        },
        {
         "name": "Calmar Ratio",
         "rawType": "float64",
         "type": "float"
        }
       ],
       "conversionMethod": "pd.DataFrame",
       "ref": "f8cb4ccd-e64b-443e-8ba5-b5ec773ea870",
       "rows": [
        [
         "YMAX Strategy 2",
         "7.09",
         "7.43",
         "3.26",
         "1.67",
         "-0.54",
         "13.83"
        ]
       ],
       "shape": {
        "columns": 6,
        "rows": 1
       }
      },
      "text/html": [
       "<div>\n",
       "<style scoped>\n",
       "    .dataframe tbody tr th:only-of-type {\n",
       "        vertical-align: middle;\n",
       "    }\n",
       "\n",
       "    .dataframe tbody tr th {\n",
       "        vertical-align: top;\n",
       "    }\n",
       "\n",
       "    .dataframe thead th {\n",
       "        text-align: right;\n",
       "    }\n",
       "</style>\n",
       "<table border=\"1\" class=\"dataframe\">\n",
       "  <thead>\n",
       "    <tr style=\"text-align: right;\">\n",
       "      <th></th>\n",
       "      <th>Total Return (%)</th>\n",
       "      <th>CAGR (%)</th>\n",
       "      <th>Annualized Volatility (%)</th>\n",
       "      <th>Sharpe Ratio</th>\n",
       "      <th>Max Drawdown (%)</th>\n",
       "      <th>Calmar Ratio</th>\n",
       "    </tr>\n",
       "  </thead>\n",
       "  <tbody>\n",
       "    <tr>\n",
       "      <th>YMAX Strategy 2</th>\n",
       "      <td>7.09</td>\n",
       "      <td>7.43</td>\n",
       "      <td>3.26</td>\n",
       "      <td>1.67</td>\n",
       "      <td>-0.54</td>\n",
       "      <td>13.83</td>\n",
       "    </tr>\n",
       "  </tbody>\n",
       "</table>\n",
       "</div>"
      ],
      "text/plain": [
       "                 Total Return (%)  CAGR (%)  Annualized Volatility (%)  \\\n",
       "YMAX Strategy 2              7.09      7.43                       3.26   \n",
       "\n",
       "                 Sharpe Ratio  Max Drawdown (%)  Calmar Ratio  \n",
       "YMAX Strategy 2          1.67             -0.54         13.83  "
      ]
     },
     "execution_count": 67,
     "metadata": {},
     "output_type": "execute_result"
    }
   ],
   "source": [
    "# Display the performance metrics for YMAX\n",
    "performance_df_ymax = performance_df\n",
    "performance_df_ymax = performance_df_ymax.round(2)\n",
    "performance_df_ymax"
   ]
  },
  {
   "cell_type": "markdown",
   "metadata": {},
   "source": [
    "## YMAG BACKTEST"
   ]
  },
  {
   "cell_type": "code",
   "execution_count": 68,
   "metadata": {},
   "outputs": [
    {
     "data": {
      "image/png": "[encoded data removed]",
      "text/plain": [
       "<Figure size 1200x600 with 1 Axes>"
      ]
     },
     "metadata": {},
     "output_type": "display_data"
    },
    {
     "data": {
      "image/png": "[encoded data removed]",
      "text/plain": [
       "<Figure size 1200x400 with 1 Axes>"
      ]
     },
     "metadata": {},
     "output_type": "display_data"
    }
   ],
   "source": [
    "# ------------------------------------------------------------\n",
    "# 1) PREPARE THE DATA\n",
    "# ------------------------------------------------------------\n",
    "# Copy the cleaned DataFrame for YMAG backtesting.\n",
    "ymag_df = Prices_and_stats_df.copy()\n",
    "\n",
    "# Define initial portfolio value\n",
    "initial_investment = 10000.0  # $10,000 starting capital\n",
    "\n",
    "# Sort by date to ensure chronological order\n",
    "ymag_df.sort_values(\"Date\", inplace=True)\n",
    "ymag_df.reset_index(drop=True, inplace=True)\n",
    "\n",
    "# ------------------------------------------------------------\n",
    "# 2) DEFINE HELPER FUNCTIONS FOR CONDITIONS\n",
    "# ------------------------------------------------------------\n",
    "def in_market_condition(vix, vvix):\n",
    "    \"\"\"\n",
    "    Condition for staying in the market once we're already invested:\n",
    "    15 <= VIX <= 20, and 90 <= VVIX < 100.\n",
    "    \"\"\"\n",
    "    return (15 <= vix <= 20) and (90 <= vvix < 100)\n",
    "\n",
    "def reentry_condition(vix, vvix):\n",
    "    \"\"\"\n",
    "    Stricter condition for re-entering the market after an exit:\n",
    "    15 <= VIX <= 20, and 90 <= VVIX <= 95.\n",
    "    \"\"\"\n",
    "    return (15 <= vix <= 20) and (90 <= vvix <= 95)\n",
    "\n",
    "def exit_condition(vix, vvix):\n",
    "    \"\"\"\n",
    "    Exit the market if VIX < 15 or VIX > 20, or if VVIX < 90 or VVIX >= 100.\n",
    "    \"\"\"\n",
    "    return (vix < 15) or (vix > 20) or (vvix < 90) or (vvix >= 100)\n",
    "\n",
    "# ------------------------------------------------------------\n",
    "# 3) SET UP BACKTEST COLUMNS AND INITIAL VALUES\n",
    "# ------------------------------------------------------------\n",
    "ymag_df[\"Portfolio_Value\"] = np.nan\n",
    "ymag_df.loc[0, \"Portfolio_Value\"] = initial_investment\n",
    "\n",
    "# Boolean: are we currently invested?\n",
    "ymag_df[\"In_Market\"] = False\n",
    "ymag_df.loc[0, \"In_Market\"] = False\n",
    "\n",
    "# Track how many shares of YMAG we hold\n",
    "ymag_df[\"Shares_Held\"] = 0.0\n",
    "ymag_df.loc[0, \"Shares_Held\"] = 0.0\n",
    "\n",
    "# Strategy label for each day\n",
    "ymag_df[\"Strategy\"] = \"No Investment\"\n",
    "\n",
    "# ------------------------------------------------------------\n",
    "# 4) BACKTEST LOOP\n",
    "# ------------------------------------------------------------\n",
    "for i in range(1, len(ymag_df)):\n",
    "    # Carry forward previous day's portfolio value, in_market status, and shares\n",
    "    ymag_df.loc[i, \"Portfolio_Value\"] = ymag_df.loc[i-1, \"Portfolio_Value\"]\n",
    "    ymag_df.loc[i, \"In_Market\"] = ymag_df.loc[i-1, \"In_Market\"]\n",
    "    ymag_df.loc[i, \"Shares_Held\"] = ymag_df.loc[i-1, \"Shares_Held\"]\n",
    "    \n",
    "    # Current day data\n",
    "    vix_today = ymag_df.loc[i, \"VIX\"]\n",
    "    vvix_today = ymag_df.loc[i, \"VVIX\"]\n",
    "    ymag_price_today = ymag_df.loc[i, \"YMAG\"]\n",
    "    ymag_div_today = ymag_df.loc[i, \"YMAG Dividends\"]\n",
    "    \n",
    "    # Check if we are currently in the market\n",
    "    currently_in_market = ymag_df.loc[i-1, \"In_Market\"]\n",
    "    \n",
    "    if currently_in_market:\n",
    "        # If in the market, check if exit condition is met\n",
    "        if exit_condition(vix_today, vvix_today):\n",
    "            # EXIT: close position -> set shares to 0, mark as not in market\n",
    "            ymag_df.loc[i, \"In_Market\"] = False\n",
    "            ymag_df.loc[i, \"Shares_Held\"] = 0.0\n",
    "            ymag_df.loc[i, \"Strategy\"] = \"No Investment\"\n",
    "            # Portfolio value is carried forward (no update)\n",
    "        else:\n",
    "            # REMAIN IN MARKET: update portfolio value based on today's YMAG price and dividend\n",
    "            shares_held = ymag_df.loc[i, \"Shares_Held\"]\n",
    "            new_portfolio_value = shares_held * (ymag_price_today + ymag_div_today)\n",
    "            ymag_df.loc[i, \"Portfolio_Value\"] = new_portfolio_value\n",
    "            ymag_df.loc[i, \"Strategy\"] = \"Long YMAG\"\n",
    "    else:\n",
    "        # If not in the market, check re-entry condition\n",
    "        if reentry_condition(vix_today, vvix_today):\n",
    "            # ENTER: invest all available cash\n",
    "            cash_available = ymag_df.loc[i, \"Portfolio_Value\"]\n",
    "            if ymag_price_today > 0:\n",
    "                shares_bought = cash_available / ymag_price_today\n",
    "                ymag_df.loc[i, \"Shares_Held\"] = shares_bought\n",
    "                ymag_df.loc[i, \"In_Market\"] = True\n",
    "                ymag_df.loc[i, \"Strategy\"] = \"Long YMAG\"\n",
    "                # Update portfolio value immediately with today's price and dividend\n",
    "                new_portfolio_value = shares_bought * (ymag_price_today + ymag_div_today)\n",
    "                ymag_df.loc[i, \"Portfolio_Value\"] = new_portfolio_value\n",
    "            else:\n",
    "                ymag_df.loc[i, \"Strategy\"] = \"No Investment\"\n",
    "        else:\n",
    "            # Otherwise, remain out of the market\n",
    "            ymag_df.loc[i, \"Strategy\"] = \"No Investment\"\n",
    "\n",
    "# ------------------------------------------------------------\n",
    "# 5) COMPUTE DAILY RETURNS\n",
    "# ------------------------------------------------------------\n",
    "ymag_df[\"Portfolio_Return\"] = ymag_df[\"Portfolio_Value\"].pct_change()\n",
    "\n",
    "# ------------------------------------------------------------\n",
    "# 6) VISUALIZE RESULTS\n",
    "# ------------------------------------------------------------\n",
    "sns.set_style(\"whitegrid\")\n",
    "\n",
    "# (A) Portfolio Performance Plot for YMAG\n",
    "plt.figure(figsize=(12, 6))\n",
    "ax = sns.lineplot(\n",
    "    x=ymag_df[\"Date\"],\n",
    "    y=ymag_df[\"Portfolio_Value\"],\n",
    "    color=\"green\",\n",
    "    linewidth=2.5,\n",
    "    label=\"Portfolio Value (YMAG)\"\n",
    ")\n",
    "ax.xaxis.set_major_locator(mdates.MonthLocator())\n",
    "ax.xaxis.set_major_formatter(mdates.DateFormatter(\"%Y-%m\"))\n",
    "plt.xlabel(\"Date\", fontsize=14, fontweight=\"bold\")\n",
    "plt.ylabel(\"Portfolio Value ($)\", fontsize=14, fontweight=\"bold\")\n",
    "plt.title(\"📈 Portfolio Performance for YMAG (Strategy 2)\", fontsize=16, fontweight=\"bold\", color=\"darkgreen\")\n",
    "plt.xticks(rotation=45, fontsize=12)\n",
    "plt.yticks(fontsize=12)\n",
    "plt.grid(True, linestyle=\"--\", linewidth=1.2, color=\"gray\")\n",
    "plt.legend(fontsize=12, loc=\"upper left\", frameon=True, shadow=True, edgecolor=\"black\")\n",
    "plt.show()\n",
    "\n",
    "# (B) Strategy Usage Over Time for YMAG\n",
    "plt.figure(figsize=(12, 4))\n",
    "ax = sns.barplot(\n",
    "    x=ymag_df[\"Strategy\"].value_counts().index,\n",
    "    y=ymag_df[\"Strategy\"].value_counts().values,\n",
    "    palette=[\"green\", \"red\", \"blue\"]\n",
    ")\n",
    "plt.xlabel(\"Strategy\", fontsize=14, fontweight=\"bold\")\n",
    "plt.ylabel(\"Number of Days\", fontsize=14, fontweight=\"bold\")\n",
    "plt.title(\"📊 Strategy 2 Distribution Over Time (YMAG)\", fontsize=16, fontweight=\"bold\", color=\"navy\")\n",
    "plt.xticks(rotation=45, fontsize=12)\n",
    "plt.grid(axis=\"y\", linestyle=\"--\", linewidth=1.2, color=\"gray\")\n",
    "plt.show()\n"
   ]
  },
  {
   "cell_type": "code",
   "execution_count": 69,
   "metadata": {},
   "outputs": [
    {
     "data": {
      "image/png": "[encoded data removed]",
      "text/plain": [
       "<Figure size 1200x600 with 2 Axes>"
      ]
     },
     "metadata": {},
     "output_type": "display_data"
    }
   ],
   "source": [
    "# ---------------------------------------------\n",
    "# STEP A: Identify Entry and Exit Days for YMAG\n",
    "# ---------------------------------------------\n",
    "# Entry Day = Yesterday was out of market, today is in market\n",
    "ymag_df[\"Entry\"] = (ymag_df[\"In_Market\"].shift(1) == False) & (ymag_df[\"In_Market\"] == True)\n",
    "\n",
    "# Exit Day = Yesterday was in market, today is out of market\n",
    "ymag_df[\"Exit\"] = (ymag_df[\"In_Market\"].shift(1) == True) & (ymag_df[\"In_Market\"] == False)\n",
    "\n",
    "# ---------------------------------------------\n",
    "# STEP B: Prepare Data for Plotting\n",
    "# ---------------------------------------------\n",
    "entry_days = ymag_df[ymag_df[\"Entry\"] == True]\n",
    "exit_days  = ymag_df[ymag_df[\"Exit\"] == True]\n",
    "\n",
    "# Sort data by date (just to be safe)\n",
    "ymag_df.sort_values(\"Date\", inplace=True)\n",
    "ymag_df.reset_index(drop=True, inplace=True)\n",
    "\n",
    "# ---------------------------------------------\n",
    "# STEP C: Create the Dual-Axis Plot for YMAG\n",
    "# ---------------------------------------------\n",
    "sns.set_style(\"whitegrid\")\n",
    "fig, ax1 = plt.subplots(figsize=(12, 6))\n",
    "\n",
    "# LEFT Y-AXIS: Plot YMAG Price\n",
    "ax1.set_xlabel(\"Date\", fontsize=14, fontweight=\"bold\")\n",
    "ax1.set_ylabel(\"YMAG Price ($)\", fontsize=14, fontweight=\"bold\", color=\"blue\")\n",
    "\n",
    "# Plot YMAG Price line\n",
    "line1, = ax1.plot(\n",
    "    ymag_df[\"Date\"],\n",
    "    ymag_df[\"YMAG\"],\n",
    "    color=\"blue\",\n",
    "    linewidth=2,\n",
    "    label=\"YMAG Price\"\n",
    ")\n",
    "\n",
    "# Add entry (^) and exit (v) markers on YMAG Price\n",
    "ax1.scatter(\n",
    "    entry_days[\"Date\"], \n",
    "    entry_days[\"YMAG\"], \n",
    "    marker=\"^\", \n",
    "    color=\"blue\", \n",
    "    s=100, \n",
    "    label=\"Entry\"\n",
    ")\n",
    "ax1.scatter(\n",
    "    exit_days[\"Date\"], \n",
    "    exit_days[\"YMAG\"], \n",
    "    marker=\"v\", \n",
    "    color=\"red\",\n",
    "    s=100, \n",
    "    label=\"Exit\"\n",
    ")\n",
    "\n",
    "# Make the left y-axis text blue for clarity\n",
    "ax1.tick_params(axis='y', labelcolor=\"blue\")\n",
    "\n",
    "# Format the date axis on x-axis\n",
    "ax1.xaxis.set_major_locator(mdates.MonthLocator())\n",
    "ax1.xaxis.set_major_formatter(mdates.DateFormatter(\"%Y-%m\"))\n",
    "plt.xticks(rotation=45, fontsize=11)\n",
    "plt.yticks(fontsize=11)\n",
    "\n",
    "# ---------------------------------------------\n",
    "# RIGHT Y-AXIS: Plot Portfolio Value\n",
    "# ---------------------------------------------\n",
    "ax2 = ax1.twinx()  # share the same x-axis\n",
    "ax2.set_ylabel(\"Portfolio Value ($)\", fontsize=14, fontweight=\"bold\", color=\"red\")\n",
    "\n",
    "line2, = ax2.plot(\n",
    "    ymag_df[\"Date\"],\n",
    "    ymag_df[\"Portfolio_Value\"],\n",
    "    color=\"red\",\n",
    "    linewidth=2,\n",
    "    label=\"Portfolio Value\"\n",
    ")\n",
    "ax2.tick_params(axis='y', labelcolor=\"red\")\n",
    "plt.yticks(fontsize=11)\n",
    "\n",
    "# ---------------------------------------------\n",
    "# STEP D: Enhance the Plot\n",
    "# ---------------------------------------------\n",
    "plt.title(\"YMAG Price (Left Axis) vs. Portfolio Value (Right Axis)\", fontsize=16, fontweight=\"bold\")\n",
    "plt.grid(True, linestyle=\"--\", linewidth=1.2, color=\"gray\")\n",
    "\n",
    "# Combine legends from both axes\n",
    "lines_1, labels_1 = ax1.get_legend_handles_labels()\n",
    "lines_2, labels_2 = ax2.get_legend_handles_labels()\n",
    "ax1.legend(lines_1 + lines_2, labels_1 + labels_2, loc=\"upper center\", frameon=True, shadow=True)\n",
    "\n",
    "plt.tight_layout()\n",
    "plt.show()\n"
   ]
  },
  {
   "cell_type": "code",
   "execution_count": 70,
   "metadata": {},
   "outputs": [
    {
     "data": {
      "application/vnd.plotly.v1+json": {
       "config": {
        "plotlyServerURL": "https://plot.ly"
       },
       "data": [
        {
         "line": {
          "color": "blue",
          "width": 2
         },
         "mode": "lines",
         "name": "YMAG Price",
         "type": "scatter",
         "x": [
          "2024-03-01T00:00:00.000000000",
          "2024-03-04T00:00:00.000000000",
          "2024-03-05T00:00:00.000000000",
          "2024-03-06T00:00:00.000000000",
          "2024-03-07T00:00:00.000000000",
          "2024-03-08T00:00:00.000000000",
          "2024-03-11T00:00:00.000000000",
          "2024-03-12T00:00:00.000000000",
          "2024-03-13T00:00:00.000000000",
          "2024-03-14T00:00:00.000000000",
          "2024-03-15T00:00:00.000000000",
          "2024-03-18T00:00:00.000000000",
          "2024-03-19T00:00:00.000000000",
          "2024-03-20T00:00:00.000000000",
          "2024-03-21T00:00:00.000000000",
          "2024-03-22T00:00:00.000000000",
          "2024-03-25T00:00:00.000000000",
          "2024-03-26T00:00:00.000000000",
          "2024-03-27T00:00:00.000000000",
          "2024-03-28T00:00:00.000000000",
          "2024-04-01T00:00:00.000000000",
          "2024-04-02T00:00:00.000000000",
          "2024-04-03T00:00:00.000000000",
          "2024-04-04T00:00:00.000000000",
          "2024-04-05T00:00:00.000000000",
          "2024-04-08T00:00:00.000000000",
          "2024-04-09T00:00:00.000000000",
          "2024-04-10T00:00:00.000000000",
          "2024-04-11T00:00:00.000000000",
          "2024-04-12T00:00:00.000000000",
          "2024-04-15T00:00:00.000000000",
          "2024-04-16T00:00:00.000000000",
          "2024-04-17T00:00:00.000000000",
          "2024-04-18T00:00:00.000000000",
          "2024-04-19T00:00:00.000000000",
          "2024-04-22T00:00:00.000000000",
          "2024-04-23T00:00:00.000000000",
          "2024-04-24T00:00:00.000000000",
          "2024-04-25T00:00:00.000000000",
          "2024-04-26T00:00:00.000000000",
          "2024-04-29T00:00:00.000000000",
          "2024-04-30T00:00:00.000000000",
          "2024-05-01T00:00:00.000000000",
          "2024-05-02T00:00:00.000000000",
          "2024-05-03T00:00:00.000000000",
          "2024-05-06T00:00:00.000000000",
          "2024-05-07T00:00:00.000000000",
          "2024-05-08T00:00:00.000000000",
          "2024-05-09T00:00:00.000000000",
          "2024-05-10T00:00:00.000000000",
          "2024-05-13T00:00:00.000000000",
          "2024-05-14T00:00:00.000000000",
          "2024-05-15T00:00:00.000000000",
          "2024-05-16T00:00:00.000000000",
          "2024-05-17T00:00:00.000000000",
          "2024-05-20T00:00:00.000000000",
          "2024-05-21T00:00:00.000000000",
          "2024-05-22T00:00:00.000000000",
          "2024-05-23T00:00:00.000000000",
          "2024-05-24T00:00:00.000000000",
          "2024-05-28T00:00:00.000000000",
          "2024-05-29T00:00:00.000000000",
          "2024-05-30T00:00:00.000000000",
          "2024-05-31T00:00:00.000000000",
          "2024-06-03T00:00:00.000000000",
          "2024-06-04T00:00:00.000000000",
          "2024-06-05T00:00:00.000000000",
          "2024-06-06T00:00:00.000000000",
          "2024-06-07T00:00:00.000000000",
          "2024-06-10T00:00:00.000000000",
          "2024-06-11T00:00:00.000000000",
          "2024-06-12T00:00:00.000000000",
          "2024-06-13T00:00:00.000000000",
          "2024-06-14T00:00:00.000000000",
          "2024-06-17T00:00:00.000000000",
          "2024-06-18T00:00:00.000000000",
          "2024-06-20T00:00:00.000000000",
          "2024-06-21T00:00:00.000000000",
          "2024-06-24T00:00:00.000000000",
          "2024-06-25T00:00:00.000000000",
          "2024-06-26T00:00:00.000000000",
          "2024-06-27T00:00:00.000000000",
          "2024-06-28T00:00:00.000000000",
          "2024-07-01T00:00:00.000000000",
          "2024-07-02T00:00:00.000000000",
          "2024-07-03T00:00:00.000000000",
          "2024-07-05T00:00:00.000000000",
          "2024-07-08T00:00:00.000000000",
          "2024-07-09T00:00:00.000000000",
          "2024-07-10T00:00:00.000000000",
          "2024-07-11T00:00:00.000000000",
          "2024-07-12T00:00:00.000000000",
          "2024-07-15T00:00:00.000000000",
          "2024-07-16T00:00:00.000000000",
          "2024-07-17T00:00:00.000000000",
          "2024-07-18T00:00:00.000000000",
          "2024-07-19T00:00:00.000000000",
          "2024-07-22T00:00:00.000000000",
          "2024-07-23T00:00:00.000000000",
          "2024-07-24T00:00:00.000000000",
          "2024-07-25T00:00:00.000000000",
          "2024-07-26T00:00:00.000000000",
          "2024-07-29T00:00:00.000000000",
          "2024-07-30T00:00:00.000000000",
          "2024-07-31T00:00:00.000000000",
          "2024-08-01T00:00:00.000000000",
          "2024-08-02T00:00:00.000000000",
          "2024-08-05T00:00:00.000000000",
          "2024-08-06T00:00:00.000000000",
          "2024-08-07T00:00:00.000000000",
          "2024-08-08T00:00:00.000000000",
          "2024-08-09T00:00:00.000000000",
          "2024-08-12T00:00:00.000000000",
          "2024-08-13T00:00:00.000000000",
          "2024-08-14T00:00:00.000000000",
          "2024-08-15T00:00:00.000000000",
          "2024-08-16T00:00:00.000000000",
          "2024-08-19T00:00:00.000000000",
          "2024-08-20T00:00:00.000000000",
          "2024-08-21T00:00:00.000000000",
          "2024-08-22T00:00:00.000000000",
          "2024-08-23T00:00:00.000000000",
          "2024-08-26T00:00:00.000000000",
          "2024-08-27T00:00:00.000000000",
          "2024-08-28T00:00:00.000000000",
          "2024-08-29T00:00:00.000000000",
          "2024-08-30T00:00:00.000000000",
          "2024-09-03T00:00:00.000000000",
          "2024-09-04T00:00:00.000000000",
          "2024-09-05T00:00:00.000000000",
          "2024-09-06T00:00:00.000000000",
          "2024-09-09T00:00:00.000000000",
          "2024-09-10T00:00:00.000000000",
          "2024-09-11T00:00:00.000000000",
          "2024-09-12T00:00:00.000000000",
          "2024-09-13T00:00:00.000000000",
          "2024-09-16T00:00:00.000000000",
          "2024-09-17T00:00:00.000000000",
          "2024-09-18T00:00:00.000000000",
          "2024-09-19T00:00:00.000000000",
          "2024-09-20T00:00:00.000000000",
          "2024-09-23T00:00:00.000000000",
          "2024-09-24T00:00:00.000000000",
          "2024-09-25T00:00:00.000000000",
          "2024-09-26T00:00:00.000000000",
          "2024-09-27T00:00:00.000000000",
          "2024-09-30T00:00:00.000000000",
          "2024-10-01T00:00:00.000000000",
          "2024-10-02T00:00:00.000000000",
          "2024-10-03T00:00:00.000000000",
          "2024-10-04T00:00:00.000000000",
          "2024-10-07T00:00:00.000000000",
          "2024-10-08T00:00:00.000000000",
          "2024-10-09T00:00:00.000000000",
          "2024-10-10T00:00:00.000000000",
          "2024-10-11T00:00:00.000000000",
          "2024-10-14T00:00:00.000000000",
          "2024-10-15T00:00:00.000000000",
          "2024-10-16T00:00:00.000000000",
          "2024-10-17T00:00:00.000000000",
          "2024-10-18T00:00:00.000000000",
          "2024-10-21T00:00:00.000000000",
          "2024-10-22T00:00:00.000000000",
          "2024-10-23T00:00:00.000000000",
          "2024-10-24T00:00:00.000000000",
          "2024-10-25T00:00:00.000000000",
          "2024-10-28T00:00:00.000000000",
          "2024-10-29T00:00:00.000000000",
          "2024-10-30T00:00:00.000000000",
          "2024-10-31T00:00:00.000000000",
          "2024-11-01T00:00:00.000000000",
          "2024-11-04T00:00:00.000000000",
          "2024-11-05T00:00:00.000000000",
          "2024-11-06T00:00:00.000000000",
          "2024-11-07T00:00:00.000000000",
          "2024-11-08T00:00:00.000000000",
          "2024-11-11T00:00:00.000000000",
          "2024-11-12T00:00:00.000000000",
          "2024-11-13T00:00:00.000000000",
          "2024-11-14T00:00:00.000000000",
          "2024-11-15T00:00:00.000000000",
          "2024-11-18T00:00:00.000000000",
          "2024-11-19T00:00:00.000000000",
          "2024-11-20T00:00:00.000000000",
          "2024-11-21T00:00:00.000000000",
          "2024-11-22T00:00:00.000000000",
          "2024-11-25T00:00:00.000000000",
          "2024-11-26T00:00:00.000000000",
          "2024-11-27T00:00:00.000000000",
          "2024-11-29T00:00:00.000000000",
          "2024-12-02T00:00:00.000000000",
          "2024-12-03T00:00:00.000000000",
          "2024-12-04T00:00:00.000000000",
          "2024-12-05T00:00:00.000000000",
          "2024-12-06T00:00:00.000000000",
          "2024-12-09T00:00:00.000000000",
          "2024-12-10T00:00:00.000000000",
          "2024-12-11T00:00:00.000000000",
          "2024-12-12T00:00:00.000000000",
          "2024-12-13T00:00:00.000000000",
          "2024-12-16T00:00:00.000000000",
          "2024-12-17T00:00:00.000000000",
          "2024-12-18T00:00:00.000000000",
          "2024-12-19T00:00:00.000000000",
          "2024-12-20T00:00:00.000000000",
          "2024-12-23T00:00:00.000000000",
          "2024-12-24T00:00:00.000000000",
          "2024-12-26T00:00:00.000000000",
          "2024-12-27T00:00:00.000000000",
          "2024-12-30T00:00:00.000000000",
          "2024-12-31T00:00:00.000000000",
          "2025-01-02T00:00:00.000000000",
          "2025-01-03T00:00:00.000000000",
          "2025-01-06T00:00:00.000000000",
          "2025-01-07T00:00:00.000000000",
          "2025-01-08T00:00:00.000000000",
          "2025-01-10T00:00:00.000000000",
          "2025-01-13T00:00:00.000000000",
          "2025-01-14T00:00:00.000000000",
          "2025-01-15T00:00:00.000000000",
          "2025-01-16T00:00:00.000000000",
          "2025-01-17T00:00:00.000000000",
          "2025-01-21T00:00:00.000000000",
          "2025-01-22T00:00:00.000000000",
          "2025-01-23T00:00:00.000000000",
          "2025-01-24T00:00:00.000000000",
          "2025-01-27T00:00:00.000000000",
          "2025-01-28T00:00:00.000000000",
          "2025-01-29T00:00:00.000000000",
          "2025-01-30T00:00:00.000000000",
          "2025-01-31T00:00:00.000000000",
          "2025-02-03T00:00:00.000000000",
          "2025-02-04T00:00:00.000000000",
          "2025-02-05T00:00:00.000000000",
          "2025-02-06T00:00:00.000000000",
          "2025-02-07T00:00:00.000000000",
          "2025-02-10T00:00:00.000000000",
          "2025-02-11T00:00:00.000000000",
          "2025-02-12T00:00:00.000000000",
          "2025-02-13T00:00:00.000000000"
         ],
         "y": {
          "bdata": "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",
          "dtype": "f8"
         },
         "yaxis": "y"
        },
        {
         "marker": {
          "color": "blue",
          "size": 12,
          "symbol": "triangle-up"
         },
         "mode": "markers",
         "name": "Entry",
         "type": "scatter",
         "x": [
          "2024-04-04T00:00:00.000000000",
          "2024-04-10T00:00:00.000000000",
          "2024-07-18T00:00:00.000000000",
          "2024-07-26T00:00:00.000000000",
          "2024-08-27T00:00:00.000000000",
          "2024-08-30T00:00:00.000000000",
          "2024-09-20T00:00:00.000000000",
          "2024-11-18T00:00:00.000000000",
          "2025-01-03T00:00:00.000000000"
         ],
         "y": {
          "bdata": "FK5H4XpUNEDhehSuR6E0QIXrUbgeBTRAPQrXo3A9M0CF61G4HgUzQB+F61G4HjNAPQrXo3A9M0Bcj8L1KFwzQDMzMzMzMzNA",
          "dtype": "f8"
         },
         "yaxis": "y"
        },
        {
         "marker": {
          "color": "red",
          "size": 12,
          "symbol": "triangle-down"
         },
         "mode": "markers",
         "name": "Exit",
         "type": "scatter",
         "x": [
          "2024-04-08T00:00:00.000000000",
          "2024-04-11T00:00:00.000000000",
          "2024-07-22T00:00:00.000000000",
          "2024-08-01T00:00:00.000000000",
          "2024-08-28T00:00:00.000000000",
          "2024-09-03T00:00:00.000000000",
          "2024-09-26T00:00:00.000000000",
          "2024-11-20T00:00:00.000000000",
          "2025-01-07T00:00:00.000000000"
         ],
         "y": {
          "bdata": "XI/C9SicNEAzMzMzM/M0QDMzMzMzMzRA9ihcj8J1M0CamZmZmdkyQB+F61G4njJA4XoUrkdhM0CF61G4HoUzQNejcD0KFzNA",
          "dtype": "f8"
         },
         "yaxis": "y"
        },
        {
         "line": {
          "color": "red",
          "width": 2
         },
         "mode": "lines",
         "name": "Portfolio Value",
         "type": "scatter",
         "x": [
          "2024-03-01T00:00:00.000000000",
          "2024-03-04T00:00:00.000000000",
          "2024-03-05T00:00:00.000000000",
          "2024-03-06T00:00:00.000000000",
          "2024-03-07T00:00:00.000000000",
          "2024-03-08T00:00:00.000000000",
          "2024-03-11T00:00:00.000000000",
          "2024-03-12T00:00:00.000000000",
          "2024-03-13T00:00:00.000000000",
          "2024-03-14T00:00:00.000000000",
          "2024-03-15T00:00:00.000000000",
          "2024-03-18T00:00:00.000000000",
          "2024-03-19T00:00:00.000000000",
          "2024-03-20T00:00:00.000000000",
          "2024-03-21T00:00:00.000000000",
          "2024-03-22T00:00:00.000000000",
          "2024-03-25T00:00:00.000000000",
          "2024-03-26T00:00:00.000000000",
          "2024-03-27T00:00:00.000000000",
          "2024-03-28T00:00:00.000000000",
          "2024-04-01T00:00:00.000000000",
          "2024-04-02T00:00:00.000000000",
          "2024-04-03T00:00:00.000000000",
          "2024-04-04T00:00:00.000000000",
          "2024-04-05T00:00:00.000000000",
          "2024-04-08T00:00:00.000000000",
          "2024-04-09T00:00:00.000000000",
          "2024-04-10T00:00:00.000000000",
          "2024-04-11T00:00:00.000000000",
          "2024-04-12T00:00:00.000000000",
          "2024-04-15T00:00:00.000000000",
          "2024-04-16T00:00:00.000000000",
          "2024-04-17T00:00:00.000000000",
          "2024-04-18T00:00:00.000000000",
          "2024-04-19T00:00:00.000000000",
          "2024-04-22T00:00:00.000000000",
          "2024-04-23T00:00:00.000000000",
          "2024-04-24T00:00:00.000000000",
          "2024-04-25T00:00:00.000000000",
          "2024-04-26T00:00:00.000000000",
          "2024-04-29T00:00:00.000000000",
          "2024-04-30T00:00:00.000000000",
          "2024-05-01T00:00:00.000000000",
          "2024-05-02T00:00:00.000000000",
          "2024-05-03T00:00:00.000000000",
          "2024-05-06T00:00:00.000000000",
          "2024-05-07T00:00:00.000000000",
          "2024-05-08T00:00:00.000000000",
          "2024-05-09T00:00:00.000000000",
          "2024-05-10T00:00:00.000000000",
          "2024-05-13T00:00:00.000000000",
          "2024-05-14T00:00:00.000000000",
          "2024-05-15T00:00:00.000000000",
          "2024-05-16T00:00:00.000000000",
          "2024-05-17T00:00:00.000000000",
          "2024-05-20T00:00:00.000000000",
          "2024-05-21T00:00:00.000000000",
          "2024-05-22T00:00:00.000000000",
          "2024-05-23T00:00:00.000000000",
          "2024-05-24T00:00:00.000000000",
          "2024-05-28T00:00:00.000000000",
          "2024-05-29T00:00:00.000000000",
          "2024-05-30T00:00:00.000000000",
          "2024-05-31T00:00:00.000000000",
          "2024-06-03T00:00:00.000000000",
          "2024-06-04T00:00:00.000000000",
          "2024-06-05T00:00:00.000000000",
          "2024-06-06T00:00:00.000000000",
          "2024-06-07T00:00:00.000000000",
          "2024-06-10T00:00:00.000000000",
          "2024-06-11T00:00:00.000000000",
          "2024-06-12T00:00:00.000000000",
          "2024-06-13T00:00:00.000000000",
          "2024-06-14T00:00:00.000000000",
          "2024-06-17T00:00:00.000000000",
          "2024-06-18T00:00:00.000000000",
          "2024-06-20T00:00:00.000000000",
          "2024-06-21T00:00:00.000000000",
          "2024-06-24T00:00:00.000000000",
          "2024-06-25T00:00:00.000000000",
          "2024-06-26T00:00:00.000000000",
          "2024-06-27T00:00:00.000000000",
          "2024-06-28T00:00:00.000000000",
          "2024-07-01T00:00:00.000000000",
          "2024-07-02T00:00:00.000000000",
          "2024-07-03T00:00:00.000000000",
          "2024-07-05T00:00:00.000000000",
          "2024-07-08T00:00:00.000000000",
          "2024-07-09T00:00:00.000000000",
          "2024-07-10T00:00:00.000000000",
          "2024-07-11T00:00:00.000000000",
          "2024-07-12T00:00:00.000000000",
          "2024-07-15T00:00:00.000000000",
          "2024-07-16T00:00:00.000000000",
          "2024-07-17T00:00:00.000000000",
          "2024-07-18T00:00:00.000000000",
          "2024-07-19T00:00:00.000000000",
          "2024-07-22T00:00:00.000000000",
          "2024-07-23T00:00:00.000000000",
          "2024-07-24T00:00:00.000000000",
          "2024-07-25T00:00:00.000000000",
          "2024-07-26T00:00:00.000000000",
          "2024-07-29T00:00:00.000000000",
          "2024-07-30T00:00:00.000000000",
          "2024-07-31T00:00:00.000000000",
          "2024-08-01T00:00:00.000000000",
          "2024-08-02T00:00:00.000000000",
          "2024-08-05T00:00:00.000000000",
          "2024-08-06T00:00:00.000000000",
          "2024-08-07T00:00:00.000000000",
          "2024-08-08T00:00:00.000000000",
          "2024-08-09T00:00:00.000000000",
          "2024-08-12T00:00:00.000000000",
          "2024-08-13T00:00:00.000000000",
          "2024-08-14T00:00:00.000000000",
          "2024-08-15T00:00:00.000000000",
          "2024-08-16T00:00:00.000000000",
          "2024-08-19T00:00:00.000000000",
          "2024-08-20T00:00:00.000000000",
          "2024-08-21T00:00:00.000000000",
          "2024-08-22T00:00:00.000000000",
          "2024-08-23T00:00:00.000000000",
          "2024-08-26T00:00:00.000000000",
          "2024-08-27T00:00:00.000000000",
          "2024-08-28T00:00:00.000000000",
          "2024-08-29T00:00:00.000000000",
          "2024-08-30T00:00:00.000000000",
          "2024-09-03T00:00:00.000000000",
          "2024-09-04T00:00:00.000000000",
          "2024-09-05T00:00:00.000000000",
          "2024-09-06T00:00:00.000000000",
          "2024-09-09T00:00:00.000000000",
          "2024-09-10T00:00:00.000000000",
          "2024-09-11T00:00:00.000000000",
          "2024-09-12T00:00:00.000000000",
          "2024-09-13T00:00:00.000000000",
          "2024-09-16T00:00:00.000000000",
          "2024-09-17T00:00:00.000000000",
          "2024-09-18T00:00:00.000000000",
          "2024-09-19T00:00:00.000000000",
          "2024-09-20T00:00:00.000000000",
          "2024-09-23T00:00:00.000000000",
          "2024-09-24T00:00:00.000000000",
          "2024-09-25T00:00:00.000000000",
          "2024-09-26T00:00:00.000000000",
          "2024-09-27T00:00:00.000000000",
          "2024-09-30T00:00:00.000000000",
          "2024-10-01T00:00:00.000000000",
          "2024-10-02T00:00:00.000000000",
          "2024-10-03T00:00:00.000000000",
          "2024-10-04T00:00:00.000000000",
          "2024-10-07T00:00:00.000000000",
          "2024-10-08T00:00:00.000000000",
          "2024-10-09T00:00:00.000000000",
          "2024-10-10T00:00:00.000000000",
          "2024-10-11T00:00:00.000000000",
          "2024-10-14T00:00:00.000000000",
          "2024-10-15T00:00:00.000000000",
          "2024-10-16T00:00:00.000000000",
          "2024-10-17T00:00:00.000000000",
          "2024-10-18T00:00:00.000000000",
          "2024-10-21T00:00:00.000000000",
          "2024-10-22T00:00:00.000000000",
          "2024-10-23T00:00:00.000000000",
          "2024-10-24T00:00:00.000000000",
          "2024-10-25T00:00:00.000000000",
          "2024-10-28T00:00:00.000000000",
          "2024-10-29T00:00:00.000000000",
          "2024-10-30T00:00:00.000000000",
          "2024-10-31T00:00:00.000000000",
          "2024-11-01T00:00:00.000000000",
          "2024-11-04T00:00:00.000000000",
          "2024-11-05T00:00:00.000000000",
          "2024-11-06T00:00:00.000000000",
          "2024-11-07T00:00:00.000000000",
          "2024-11-08T00:00:00.000000000",
          "2024-11-11T00:00:00.000000000",
          "2024-11-12T00:00:00.000000000",
          "2024-11-13T00:00:00.000000000",
          "2024-11-14T00:00:00.000000000",
          "2024-11-15T00:00:00.000000000",
          "2024-11-18T00:00:00.000000000",
          "2024-11-19T00:00:00.000000000",
          "2024-11-20T00:00:00.000000000",
          "2024-11-21T00:00:00.000000000",
          "2024-11-22T00:00:00.000000000",
          "2024-11-25T00:00:00.000000000",
          "2024-11-26T00:00:00.000000000",
          "2024-11-27T00:00:00.000000000",
          "2024-11-29T00:00:00.000000000",
          "2024-12-02T00:00:00.000000000",
          "2024-12-03T00:00:00.000000000",
          "2024-12-04T00:00:00.000000000",
          "2024-12-05T00:00:00.000000000",
          "2024-12-06T00:00:00.000000000",
          "2024-12-09T00:00:00.000000000",
          "2024-12-10T00:00:00.000000000",
          "2024-12-11T00:00:00.000000000",
          "2024-12-12T00:00:00.000000000",
          "2024-12-13T00:00:00.000000000",
          "2024-12-16T00:00:00.000000000",
          "2024-12-17T00:00:00.000000000",
          "2024-12-18T00:00:00.000000000",
          "2024-12-19T00:00:00.000000000",
          "2024-12-20T00:00:00.000000000",
          "2024-12-23T00:00:00.000000000",
          "2024-12-24T00:00:00.000000000",
          "2024-12-26T00:00:00.000000000",
          "2024-12-27T00:00:00.000000000",
          "2024-12-30T00:00:00.000000000",
          "2024-12-31T00:00:00.000000000",
          "2025-01-02T00:00:00.000000000",
          "2025-01-03T00:00:00.000000000",
          "2025-01-06T00:00:00.000000000",
          "2025-01-07T00:00:00.000000000",
          "2025-01-08T00:00:00.000000000",
          "2025-01-10T00:00:00.000000000",
          "2025-01-13T00:00:00.000000000",
          "2025-01-14T00:00:00.000000000",
          "2025-01-15T00:00:00.000000000",
          "2025-01-16T00:00:00.000000000",
          "2025-01-17T00:00:00.000000000",
          "2025-01-21T00:00:00.000000000",
          "2025-01-22T00:00:00.000000000",
          "2025-01-23T00:00:00.000000000",
          "2025-01-24T00:00:00.000000000",
          "2025-01-27T00:00:00.000000000",
          "2025-01-28T00:00:00.000000000",
          "2025-01-29T00:00:00.000000000",
          "2025-01-30T00:00:00.000000000",
          "2025-01-31T00:00:00.000000000",
          "2025-02-03T00:00:00.000000000",
          "2025-02-04T00:00:00.000000000",
          "2025-02-05T00:00:00.000000000",
          "2025-02-06T00:00:00.000000000",
          "2025-02-07T00:00:00.000000000",
          "2025-02-10T00:00:00.000000000",
          "2025-02-11T00:00:00.000000000",
          "2025-02-12T00:00:00.000000000",
          "2025-02-13T00:00:00.000000000"
         ],
         "y": {
          "bdata": "AAAAAACIw0AAAAAAAIjDQAAAAAAAiMNAAAAAAACIw0AAAAAAAIjDQAAAAAAAiMNAAAAAAACIw0AAAAAAAIjDQAAAAAAAiMNAAAAAAACIw0AAAAAAAIjDQAAAAAAAiMNAAAAAAACIw0AAAAAAAIjDQAAAAAAAiMNAAAAAAACIw0AAAAAAAIjDQAAAAAAAiMNAAAAAAACIw0AAAAAAAIjDQAAAAAAAiMNAAAAAAACIw0AAAAAAAIjDQAAAAAAAiMNAhTXH8vinw0CFNcfy+KfDQIU1x/L4p8NAhTXH8vinw0CFNcfy+KfDQIU1x/L4p8NAhTXH8vinw0CFNcfy+KfDQIU1x/L4p8NAhTXH8vinw0CFNcfy+KfDQIU1x/L4p8NAhTXH8vinw0CFNcfy+KfDQIU1x/L4p8NAhTXH8vinw0CFNcfy+KfDQIU1x/L4p8NAhTXH8vinw0CFNcfy+KfDQIU1x/L4p8NAhTXH8vinw0CFNcfy+KfDQIU1x/L4p8NAhTXH8vinw0CFNcfy+KfDQIU1x/L4p8NAhTXH8vinw0CFNcfy+KfDQIU1x/L4p8NAhTXH8vinw0CFNcfy+KfDQIU1x/L4p8NAhTXH8vinw0CFNcfy+KfDQIU1x/L4p8NAhTXH8vinw0CFNcfy+KfDQIU1x/L4p8NAhTXH8vinw0CFNcfy+KfDQIU1x/L4p8NAhTXH8vinw0CFNcfy+KfDQIU1x/L4p8NAhTXH8vinw0CFNcfy+KfDQIU1x/L4p8NAhTXH8vinw0CFNcfy+KfDQIU1x/L4p8NAhTXH8vinw0CFNcfy+KfDQIU1x/L4p8NAhTXH8vinw0CFNcfy+KfDQIU1x/L4p8NAhTXH8vinw0CFNcfy+KfDQIU1x/L4p8NAhTXH8vinw0CFNcfy+KfDQIU1x/L4p8NAhTXH8vinw0CFNcfy+KfDQIU1x/L4p8NAhTXH8vinw0CFNcfy+KfDQIU1x/L4p8NAhTXH8vinw0CFNcfy+KfDQIU1x/L4p8NAsVbeEa1ww0CxVt4RrXDDQLFW3hGtcMNAsVbeEa1ww0CxVt4RrXDDQLFW3hGtcMNAAXEQBSGNw0DI8ejDDE/DQDtlCAwT5cNAO2UIDBPlw0A7ZQgME+XDQDtlCAwT5cNAO2UIDBPlw0A7ZQgME+XDQDtlCAwT5cNAO2UIDBPlw0A7ZQgME+XDQDtlCAwT5cNAO2UIDBPlw0A7ZQgME+XDQDtlCAwT5cNAO2UIDBPlw0A7ZQgME+XDQDtlCAwT5cNAO2UIDBPlw0A7ZQgME+XDQDtlCAwT5cNAO2UIDBPlw0A7ZQgME+XDQDtlCAwT5cNAO2UIDBPlw0A7ZQgME+XDQDtlCAwT5cNAO2UIDBPlw0A7ZQgME+XDQDtlCAwT5cNAO2UIDBPlw0A7ZQgME+XDQDtlCAwT5cNAO2UIDBPlw0A7ZQgME+XDQDtlCAwT5cNAO2UIDBPlw0A7ZQgME+XDQDplCAwT5cNAFN1ABtcExEDuVHkAmyTEQNqQlf18NMRA2pCV/Xw0xEDakJX9fDTEQNqQlf18NMRA2pCV/Xw0xEDakJX9fDTEQNqQlf18NMRA2pCV/Xw0xEDakJX9fDTEQNqQlf18NMRA2pCV/Xw0xEDakJX9fDTEQNqQlf18NMRA2pCV/Xw0xEDakJX9fDTEQNqQlf18NMRA2pCV/Xw0xEDakJX9fDTEQNqQlf18NMRA2pCV/Xw0xEDakJX9fDTEQNqQlf18NMRA2pCV/Xw0xEDakJX9fDTEQNqQlf18NMRA2pCV/Xw0xEDakJX9fDTEQNqQlf18NMRA2pCV/Xw0xEDakJX9fDTEQNqQlf18NMRA2pCV/Xw0xEDakJX9fDTEQNqQlf18NMRA2pCV/Xw0xEDakJX9fDTEQNqQlf18NMRA2pCV/Xw0xEDakJX9fDTEQGUMWA6gfMRAZQxYDqB8xEBlDFgOoHzEQGUMWA6gfMRAZQxYDqB8xEBlDFgOoHzEQGUMWA6gfMRAZQxYDqB8xEBlDFgOoHzEQGUMWA6gfMRAZQxYDqB8xEBlDFgOoHzEQGUMWA6gfMRAZQxYDqB8xEBlDFgOoHzEQGUMWA6gfMRAZQxYDqB8xEBlDFgOoHzEQGUMWA6gfMRAZQxYDqB8xEBlDFgOoHzEQGUMWA6gfMRAZQxYDqB8xEBlDFgOoHzEQGUMWA6gfMRAZQxYDqB8xEBlDFgOoHzEQGUMWA6gfMRAZQxYDqB8xEBlDFgOoHzEQLreG9dN0cRA5DHdI+rAxEDkMd0j6sDEQOQx3SPqwMRA5DHdI+rAxEDkMd0j6sDEQOQx3SPqwMRA5DHdI+rAxEDkMd0j6sDEQOQx3SPqwMRA5DHdI+rAxEDkMd0j6sDEQOQx3SPqwMRA5DHdI+rAxEDkMd0j6sDEQOQx3SPqwMRA5DHdI+rAxEDkMd0j6sDEQOQx3SPqwMRA5DHdI+rAxEDkMd0j6sDEQOQx3SPqwMRA5DHdI+rAxEDkMd0j6sDEQOQx3SPqwMRA5DHdI+rAxEDkMd0j6sDEQOQx3SPqwMRA",
          "dtype": "f8"
         },
         "yaxis": "y2"
        }
       ],
       "layout": {
        "hovermode": "x unified",
        "legend": {
         "bgcolor": "rgba(255,255,255,0.7)",
         "bordercolor": "black",
         "borderwidth": 1,
         "x": 0.5,
         "xanchor": "center",
         "y": 1,
         "yanchor": "top"
        },
        "template": {
         "data": {
          "bar": [
           {
            "error_x": {
             "color": "#2a3f5f"
            },
            "error_y": {
             "color": "#2a3f5f"
            },
            "marker": {
             "line": {
              "color": "#E5ECF6",
              "width": 0.5
             },
             "pattern": {
              "fillmode": "overlay",
              "size": 10,
              "solidity": 0.2
             }
            },
            "type": "bar"
           }
          ],
          "barpolar": [
           {
            "marker": {
             "line": {
              "color": "#E5ECF6",
              "width": 0.5
             },
             "pattern": {
              "fillmode": "overlay",
              "size": 10,
              "solidity": 0.2
             }
            },
            "type": "barpolar"
           }
          ],
          "carpet": [
           {
            "aaxis": {
             "endlinecolor": "#2a3f5f",
             "gridcolor": "white",
             "linecolor": "white",
             "minorgridcolor": "white",
             "startlinecolor": "#2a3f5f"
            },
            "baxis": {
             "endlinecolor": "#2a3f5f",
             "gridcolor": "white",
             "linecolor": "white",
             "minorgridcolor": "white",
             "startlinecolor": "#2a3f5f"
            },
            "type": "carpet"
           }
          ],
          "choropleth": [
           {
            "colorbar": {
             "outlinewidth": 0,
             "ticks": ""
            },
            "type": "choropleth"
           }
          ],
          "contour": [
           {
            "colorbar": {
             "outlinewidth": 0,
             "ticks": ""
            },
            "colorscale": [
             [
              0,
              "#0d0887"
             ],
             [
              0.1111111111111111,
              "#46039f"
             ],
             [
              0.2222222222222222,
              "#7201a8"
             ],
             [
              0.3333333333333333,
              "#9c179e"
             ],
             [
              0.4444444444444444,
              "#bd3786"
             ],
             [
              0.5555555555555556,
              "#d8576b"
             ],
             [
              0.6666666666666666,
              "#ed7953"
             ],
             [
              0.7777777777777778,
              "#fb9f3a"
             ],
             [
              0.8888888888888888,
              "#fdca26"
             ],
             [
              1,
              "#f0f921"
             ]
            ],
            "type": "contour"
           }
          ],
          "contourcarpet": [
           {
            "colorbar": {
             "outlinewidth": 0,
             "ticks": ""
            },
            "type": "contourcarpet"
           }
          ],
          "heatmap": [
           {
            "colorbar": {
             "outlinewidth": 0,
             "ticks": ""
            },
            "colorscale": [
             [
              0,
              "#0d0887"
             ],
             [
              0.1111111111111111,
              "#46039f"
             ],
             [
              0.2222222222222222,
              "#7201a8"
             ],
             [
              0.3333333333333333,
              "#9c179e"
             ],
             [
              0.4444444444444444,
              "#bd3786"
             ],
             [
              0.5555555555555556,
              "#d8576b"
             ],
             [
              0.6666666666666666,
              "#ed7953"
             ],
             [
              0.7777777777777778,
              "#fb9f3a"
             ],
             [
              0.8888888888888888,
              "#fdca26"
             ],
             [
              1,
              "#f0f921"
             ]
            ],
            "type": "heatmap"
           }
          ],
          "histogram": [
           {
            "marker": {
             "pattern": {
              "fillmode": "overlay",
              "size": 10,
              "solidity": 0.2
             }
            },
            "type": "histogram"
           }
          ],
          "histogram2d": [
           {
            "colorbar": {
             "outlinewidth": 0,
             "ticks": ""
            },
            "colorscale": [
             [
              0,
              "#0d0887"
             ],
             [
              0.1111111111111111,
              "#46039f"
             ],
             [
              0.2222222222222222,
              "#7201a8"
             ],
             [
              0.3333333333333333,
              "#9c179e"
             ],
             [
              0.4444444444444444,
              "#bd3786"
             ],
             [
              0.5555555555555556,
              "#d8576b"
             ],
             [
              0.6666666666666666,
              "#ed7953"
             ],
             [
              0.7777777777777778,
              "#fb9f3a"
             ],
             [
              0.8888888888888888,
              "#fdca26"
             ],
             [
              1,
              "#f0f921"
             ]
            ],
            "type": "histogram2d"
           }
          ],
          "histogram2dcontour": [
           {
            "colorbar": {
             "outlinewidth": 0,
             "ticks": ""
            },
            "colorscale": [
             [
              0,
              "#0d0887"
             ],
             [
              0.1111111111111111,
              "#46039f"
             ],
             [
              0.2222222222222222,
              "#7201a8"
             ],
             [
              0.3333333333333333,
              "#9c179e"
             ],
             [
              0.4444444444444444,
              "#bd3786"
             ],
             [
              0.5555555555555556,
              "#d8576b"
             ],
             [
              0.6666666666666666,
              "#ed7953"
             ],
             [
              0.7777777777777778,
              "#fb9f3a"
             ],
             [
              0.8888888888888888,
              "#fdca26"
             ],
             [
              1,
              "#f0f921"
             ]
            ],
            "type": "histogram2dcontour"
           }
          ],
          "mesh3d": [
           {
            "colorbar": {
             "outlinewidth": 0,
             "ticks": ""
            },
            "type": "mesh3d"
           }
          ],
          "parcoords": [
           {
            "line": {
             "colorbar": {
              "outlinewidth": 0,
              "ticks": ""
             }
            },
            "type": "parcoords"
           }
          ],
          "pie": [
           {
            "automargin": true,
            "type": "pie"
           }
          ],
          "scatter": [
           {
            "fillpattern": {
             "fillmode": "overlay",
             "size": 10,
             "solidity": 0.2
            },
            "type": "scatter"
           }
          ],
          "scatter3d": [
           {
            "line": {
             "colorbar": {
              "outlinewidth": 0,
              "ticks": ""
             }
            },
            "marker": {
             "colorbar": {
              "outlinewidth": 0,
              "ticks": ""
             }
            },
            "type": "scatter3d"
           }
          ],
          "scattercarpet": [
           {
            "marker": {
             "colorbar": {
              "outlinewidth": 0,
              "ticks": ""
             }
            },
            "type": "scattercarpet"
           }
          ],
          "scattergeo": [
           {
            "marker": {
             "colorbar": {
              "outlinewidth": 0,
              "ticks": ""
             }
            },
            "type": "scattergeo"
           }
          ],
          "scattergl": [
           {
            "marker": {
             "colorbar": {
              "outlinewidth": 0,
              "ticks": ""
             }
            },
            "type": "scattergl"
           }
          ],
          "scattermap": [
           {
            "marker": {
             "colorbar": {
              "outlinewidth": 0,
              "ticks": ""
             }
            },
            "type": "scattermap"
           }
          ],
          "scattermapbox": [
           {
            "marker": {
             "colorbar": {
              "outlinewidth": 0,
              "ticks": ""
             }
            },
            "type": "scattermapbox"
           }
          ],
          "scatterpolar": [
           {
            "marker": {
             "colorbar": {
              "outlinewidth": 0,
              "ticks": ""
             }
            },
            "type": "scatterpolar"
           }
          ],
          "scatterpolargl": [
           {
            "marker": {
             "colorbar": {
              "outlinewidth": 0,
              "ticks": ""
             }
            },
            "type": "scatterpolargl"
           }
          ],
          "scatterternary": [
           {
            "marker": {
             "colorbar": {
              "outlinewidth": 0,
              "ticks": ""
             }
            },
            "type": "scatterternary"
           }
          ],
          "surface": [
           {
            "colorbar": {
             "outlinewidth": 0,
             "ticks": ""
            },
            "colorscale": [
             [
              0,
              "#0d0887"
             ],
             [
              0.1111111111111111,
              "#46039f"
             ],
             [
              0.2222222222222222,
              "#7201a8"
             ],
             [
              0.3333333333333333,
              "#9c179e"
             ],
             [
              0.4444444444444444,
              "#bd3786"
             ],
             [
              0.5555555555555556,
              "#d8576b"
             ],
             [
              0.6666666666666666,
              "#ed7953"
             ],
             [
              0.7777777777777778,
              "#fb9f3a"
             ],
             [
              0.8888888888888888,
              "#fdca26"
             ],
             [
              1,
              "#f0f921"
             ]
            ],
            "type": "surface"
           }
          ],
          "table": [
           {
            "cells": {
             "fill": {
              "color": "#EBF0F8"
             },
             "line": {
              "color": "white"
             }
            },
            "header": {
             "fill": {
              "color": "#C8D4E3"
             },
             "line": {
              "color": "white"
             }
            },
            "type": "table"
           }
          ]
         },
         "layout": {
          "annotationdefaults": {
           "arrowcolor": "#2a3f5f",
           "arrowhead": 0,
           "arrowwidth": 1
          },
          "autotypenumbers": "strict",
          "coloraxis": {
           "colorbar": {
            "outlinewidth": 0,
            "ticks": ""
           }
          },
          "colorscale": {
           "diverging": [
            [
             0,
             "#8e0152"
            ],
            [
             0.1,
             "#c51b7d"
            ],
            [
             0.2,
             "#de77ae"
            ],
            [
             0.3,
             "#f1b6da"
            ],
            [
             0.4,
             "#fde0ef"
            ],
            [
             0.5,
             "#f7f7f7"
            ],
            [
             0.6,
             "#e6f5d0"
            ],
            [
             0.7,
             "#b8e186"
            ],
            [
             0.8,
             "#7fbc41"
            ],
            [
             0.9,
             "#4d9221"
            ],
            [
             1,
             "#276419"
            ]
           ],
           "sequential": [
            [
             0,
             "#0d0887"
            ],
            [
             0.1111111111111111,
             "#46039f"
            ],
            [
             0.2222222222222222,
             "#7201a8"
            ],
            [
             0.3333333333333333,
             "#9c179e"
            ],
            [
             0.4444444444444444,
             "#bd3786"
            ],
            [
             0.5555555555555556,
             "#d8576b"
            ],
            [
             0.6666666666666666,
             "#ed7953"
            ],
            [
             0.7777777777777778,
             "#fb9f3a"
            ],
            [
             0.8888888888888888,
             "#fdca26"
            ],
            [
             1,
             "#f0f921"
            ]
           ],
           "sequentialminus": [
            [
             0,
             "#0d0887"
            ],
            [
             0.1111111111111111,
             "#46039f"
            ],
            [
             0.2222222222222222,
             "#7201a8"
            ],
            [
             0.3333333333333333,
             "#9c179e"
            ],
            [
             0.4444444444444444,
             "#bd3786"
            ],
            [
             0.5555555555555556,
             "#d8576b"
            ],
            [
             0.6666666666666666,
             "#ed7953"
            ],
            [
             0.7777777777777778,
             "#fb9f3a"
            ],
            [
             0.8888888888888888,
             "#fdca26"
            ],
            [
             1,
             "#f0f921"
            ]
           ]
          },
          "colorway": [
           "#636efa",
           "#EF553B",
           "#00cc96",
           "#ab63fa",
           "#FFA15A",
           "#19d3f3",
           "#FF6692",
           "#B6E880",
           "#FF97FF",
           "#FECB52"
          ],
          "font": {
           "color": "#2a3f5f"
          },
          "geo": {
           "bgcolor": "white",
           "lakecolor": "white",
           "landcolor": "#E5ECF6",
           "showlakes": true,
           "showland": true,
           "subunitcolor": "white"
          },
          "hoverlabel": {
           "align": "left"
          },
          "hovermode": "closest",
          "mapbox": {
           "style": "light"
          },
          "paper_bgcolor": "white",
          "plot_bgcolor": "#E5ECF6",
          "polar": {
           "angularaxis": {
            "gridcolor": "white",
            "linecolor": "white",
            "ticks": ""
           },
           "bgcolor": "#E5ECF6",
           "radialaxis": {
            "gridcolor": "white",
            "linecolor": "white",
            "ticks": ""
           }
          },
          "scene": {
           "xaxis": {
            "backgroundcolor": "#E5ECF6",
            "gridcolor": "white",
            "gridwidth": 2,
            "linecolor": "white",
            "showbackground": true,
            "ticks": "",
            "zerolinecolor": "white"
           },
           "yaxis": {
            "backgroundcolor": "#E5ECF6",
            "gridcolor": "white",
            "gridwidth": 2,
            "linecolor": "white",
            "showbackground": true,
            "ticks": "",
            "zerolinecolor": "white"
           },
           "zaxis": {
            "backgroundcolor": "#E5ECF6",
            "gridcolor": "white",
            "gridwidth": 2,
            "linecolor": "white",
            "showbackground": true,
            "ticks": "",
            "zerolinecolor": "white"
           }
          },
          "shapedefaults": {
           "line": {
            "color": "#2a3f5f"
           }
          },
          "ternary": {
           "aaxis": {
            "gridcolor": "white",
            "linecolor": "white",
            "ticks": ""
           },
           "baxis": {
            "gridcolor": "white",
            "linecolor": "white",
            "ticks": ""
           },
           "bgcolor": "#E5ECF6",
           "caxis": {
            "gridcolor": "white",
            "linecolor": "white",
            "ticks": ""
           }
          },
          "title": {
           "x": 0.05
          },
          "xaxis": {
           "automargin": true,
           "gridcolor": "white",
           "linecolor": "white",
           "ticks": "",
           "title": {
            "standoff": 15
           },
           "zerolinecolor": "white",
           "zerolinewidth": 2
          },
          "yaxis": {
           "automargin": true,
           "gridcolor": "white",
           "linecolor": "white",
           "ticks": "",
           "title": {
            "standoff": 15
           },
           "zerolinecolor": "white",
           "zerolinewidth": 2
          }
         }
        },
        "title": {
         "text": "YMAG Price (Left Axis) vs. Portfolio Value (Right Axis) - Interactive Plotly"
        },
        "xaxis": {
         "tickangle": 45,
         "tickformat": "%Y-%m",
         "title": {
          "text": "Date"
         },
         "type": "date"
        },
        "yaxis": {
         "color": "blue",
         "showgrid": false,
         "side": "left",
         "title": {
          "text": "YMAG Price ($)"
         }
        },
        "yaxis2": {
         "color": "red",
         "gridcolor": "lightgray",
         "gridwidth": 1,
         "overlaying": "y",
         "position": 1,
         "showgrid": true,
         "side": "right",
         "title": {
          "text": "Portfolio Value ($)"
         }
        }
       }
      }
     },
     "metadata": {},
     "output_type": "display_data"
    }
   ],
   "source": [
    "# ---------------------------------------------\n",
    "# STEP A: Identify Entry and Exit Days for YMAG\n",
    "# ---------------------------------------------\n",
    "ymag_df[\"Entry\"] = (ymag_df[\"In_Market\"].shift(1) == False) & (ymag_df[\"In_Market\"] == True)\n",
    "ymag_df[\"Exit\"]  = (ymag_df[\"In_Market\"].shift(1) == True) & (ymag_df[\"In_Market\"] == False)\n",
    "\n",
    "# ---------------------------------------------\n",
    "# STEP B: Prepare Data for Plotting\n",
    "# ---------------------------------------------\n",
    "entry_days = ymag_df[ymag_df[\"Entry\"] == True]\n",
    "exit_days  = ymag_df[ymag_df[\"Exit\"] == True]\n",
    "\n",
    "# Sort data by date (just to be safe)\n",
    "ymag_df.sort_values(\"Date\", inplace=True)\n",
    "ymag_df.reset_index(drop=True, inplace=True)\n",
    "\n",
    "# ---------------------------------------------\n",
    "# STEP C: Create the Plotly Figure for YMAG\n",
    "# ---------------------------------------------\n",
    "fig = go.Figure()\n",
    "\n",
    "# 1) YMAG Price (Left Axis)\n",
    "fig.add_trace(\n",
    "    go.Scatter(\n",
    "        x=ymag_df[\"Date\"],\n",
    "        y=ymag_df[\"YMAG\"],\n",
    "        mode=\"lines\",\n",
    "        line=dict(color=\"blue\", width=2),\n",
    "        name=\"YMAG Price\",\n",
    "        yaxis=\"y1\"\n",
    "    )\n",
    ")\n",
    "\n",
    "# 2) Entry Markers (triangle-up)\n",
    "fig.add_trace(\n",
    "    go.Scatter(\n",
    "        x=entry_days[\"Date\"],\n",
    "        y=entry_days[\"YMAG\"],\n",
    "        mode=\"markers\",\n",
    "        marker=dict(symbol=\"triangle-up\", color=\"blue\", size=12),\n",
    "        name=\"Entry\",\n",
    "        yaxis=\"y1\"\n",
    "    )\n",
    ")\n",
    "\n",
    "# 3) Exit Markers (triangle-down)\n",
    "fig.add_trace(\n",
    "    go.Scatter(\n",
    "        x=exit_days[\"Date\"],\n",
    "        y=exit_days[\"YMAG\"],\n",
    "        mode=\"markers\",\n",
    "        marker=dict(symbol=\"triangle-down\", color=\"red\", size=12),\n",
    "        name=\"Exit\",\n",
    "        yaxis=\"y1\"\n",
    "    )\n",
    ")\n",
    "\n",
    "# 4) Portfolio Value (Right Axis)\n",
    "fig.add_trace(\n",
    "    go.Scatter(\n",
    "        x=ymag_df[\"Date\"],\n",
    "        y=ymag_df[\"Portfolio_Value\"],\n",
    "        mode=\"lines\",\n",
    "        line=dict(color=\"red\", width=2),\n",
    "        name=\"Portfolio Value\",\n",
    "        yaxis=\"y2\"\n",
    "    )\n",
    ")\n",
    "\n",
    "# ---------------------------------------------\n",
    "# STEP D: Configure Layout for Dual Axis and Legend Position\n",
    "# ---------------------------------------------\n",
    "fig.update_layout(\n",
    "    title=\"YMAG Price (Left Axis) vs. Portfolio Value (Right Axis) - Interactive Plotly\",\n",
    "    xaxis=dict(\n",
    "        title=\"Date\",\n",
    "        type=\"date\",\n",
    "        tickformat=\"%Y-%m\",\n",
    "        tickangle=45\n",
    "    ),\n",
    "    yaxis=dict(\n",
    "        title=\"YMAG Price ($)\",\n",
    "        side=\"left\",\n",
    "        showgrid=False,\n",
    "        color=\"blue\"\n",
    "    ),\n",
    "    yaxis2=dict(\n",
    "        title=\"Portfolio Value ($)\",\n",
    "        side=\"right\",\n",
    "        overlaying=\"y\",\n",
    "        position=1.0,\n",
    "        showgrid=True,\n",
    "        gridwidth=1,\n",
    "        gridcolor=\"lightgray\",\n",
    "        color=\"red\"\n",
    "    ),\n",
    "    legend=dict(\n",
    "        x=0.5,\n",
    "        y=1.0,\n",
    "        xanchor='center',\n",
    "        yanchor='top',\n",
    "        bgcolor=\"rgba(255,255,255,0.7)\",\n",
    "        bordercolor=\"black\",\n",
    "        borderwidth=1\n",
    "    ),\n",
    "    hovermode=\"x unified\"\n",
    ")\n",
    "\n",
    "# ---------------------------------------------\n",
    "# STEP E: Show Interactive Figure\n",
    "# ---------------------------------------------\n",
    "fig.show()\n"
   ]
  },
  {
   "cell_type": "markdown",
   "metadata": {},
   "source": [
    "#####  PERFORMANCE METRICS FOR YMAG"
   ]
  },
  {
   "cell_type": "code",
   "execution_count": 71,
   "metadata": {},
   "outputs": [],
   "source": [
    "# ------------------------------------------------------------\n",
    "# 1) COMPUTE PERFORMANCE METRICS FOR YMAG\n",
    "# ------------------------------------------------------------\n",
    "\n",
    "# Compute daily returns from portfolio value for YMAG\n",
    "ymag_df[\"Portfolio_Return\"] = ymag_df[\"Portfolio_Value\"].pct_change()\n",
    "\n",
    "performance_metrics_ymag = {}\n",
    "\n",
    "# Total Return (%) for YMAG\n",
    "performance_metrics_ymag[\"Total Return (%)\"] = (ymag_df[\"Portfolio_Value\"].iloc[-1] / ymag_df[\"Portfolio_Value\"].iloc[0] - 1) * 100\n",
    "\n",
    "# CAGR (Compounded Annual Growth Rate) for YMAG\n",
    "num_days = (ymag_df[\"Date\"].iloc[-1] - ymag_df[\"Date\"].iloc[0]).days\n",
    "years = num_days / 365\n",
    "performance_metrics_ymag[\"CAGR (%)\"] = ((ymag_df[\"Portfolio_Value\"].iloc[-1] / ymag_df[\"Portfolio_Value\"].iloc[0]) ** (1 / years) - 1) * 100\n",
    "\n",
    "# Annualized Volatility (%) for YMAG\n",
    "performance_metrics_ymag[\"Annualized Volatility (%)\"] = ymag_df[\"Portfolio_Return\"].std() * np.sqrt(252) * 100\n",
    "\n",
    "# Sharpe Ratio for YMAG (assuming risk-free rate = 2%)\n",
    "risk_free_rate = 0.02\n",
    "sharpe_ratio_ymag = (performance_metrics_ymag[\"CAGR (%)\"] / 100 - risk_free_rate) / (performance_metrics_ymag[\"Annualized Volatility (%)\"] / 100)\n",
    "performance_metrics_ymag[\"Sharpe Ratio\"] = sharpe_ratio_ymag\n",
    "\n",
    "# Max Drawdown (%) Calculation for YMAG\n",
    "rolling_max_ymag = ymag_df[\"Portfolio_Value\"].cummax()\n",
    "drawdown_ymag = (ymag_df[\"Portfolio_Value\"] / rolling_max_ymag) - 1  # Decimal values\n",
    "drawdown_percentage_ymag = drawdown_ymag * 100  # Convert to percentage\n",
    "performance_metrics_ymag[\"Max Drawdown (%)\"] = drawdown_percentage_ymag.min()  # Most negative value\n",
    "\n",
    "# Calmar Ratio for YMAG (CAGR divided by absolute Max Drawdown)\n",
    "max_drawdown_abs_ymag = abs(performance_metrics_ymag[\"Max Drawdown (%)\"])\n",
    "performance_metrics_ymag[\"Calmar Ratio\"] = performance_metrics_ymag[\"CAGR (%)\"] / max_drawdown_abs_ymag if max_drawdown_abs_ymag != 0 else np.nan\n",
    "\n",
    "# Convert performance metrics to a DataFrame for display\n",
    "performance_df_ymag = pd.DataFrame(performance_metrics_ymag, index=[\"YMAG Strategy 2\"])\n"
   ]
  },
  {
   "cell_type": "code",
   "execution_count": 72,
   "metadata": {},
   "outputs": [
    {
     "data": {
      "image/png": "[encoded data removed]",
      "text/plain": [
       "<Figure size 1200x600 with 1 Axes>"
      ]
     },
     "metadata": {},
     "output_type": "display_data"
    }
   ],
   "source": [
    "# ------------------------------------------------------------\n",
    "# 2) PLOT DRAWDOWNS OVER TIME FOR YMAG\n",
    "# ------------------------------------------------------------\n",
    "sns.set_style(\"whitegrid\")\n",
    "plt.figure(figsize=(12, 6))\n",
    "\n",
    "ax = sns.lineplot(\n",
    "    x=ymag_df[\"Date\"],\n",
    "    y=drawdown_percentage_ymag,\n",
    "    color=\"red\",\n",
    "    linewidth=2,\n",
    "    label=\"Drawdown (%)\"\n",
    ")\n",
    "\n",
    "# Format X-axis to display one tick per month\n",
    "ax.xaxis.set_major_locator(mdates.MonthLocator())\n",
    "ax.xaxis.set_major_formatter(mdates.DateFormatter(\"%Y-%m\"))\n",
    "plt.xticks(rotation=45, fontsize=12)\n",
    "plt.yticks(fontsize=12)\n",
    "\n",
    "# Format Y-axis labels to show percentages with two decimal places\n",
    "ax.yaxis.set_major_formatter(mticker.FuncFormatter(lambda y, pos: f\"{y:.2f}%\"))\n",
    "\n",
    "plt.xlabel(\"Date\", fontsize=14, fontweight=\"bold\")\n",
    "plt.ylabel(\"Drawdown (%)\", fontsize=14, fontweight=\"bold\")\n",
    "plt.title(\"📉 Drawdowns of YMAG Strategy 2 Over Time\", fontsize=16, fontweight=\"bold\", color=\"darkred\")\n",
    "\n",
    "# Add thicker, colored grid lines for better visibility\n",
    "plt.grid(True, linestyle=\"--\", linewidth=1.2, color=\"gray\")\n",
    "plt.legend(fontsize=12, loc=\"upper left\", frameon=True, shadow=True)\n",
    "plt.tight_layout()\n",
    "plt.show()\n"
   ]
  },
  {
   "cell_type": "code",
   "execution_count": null,
   "metadata": {},
   "outputs": [
    {
     "data": {
      "application/vnd.microsoft.datawrangler.viewer.v0+json": {
       "columns": [
        {
         "name": "index",
         "rawType": "object",
         "type": "string"
        },
        {
         "name": "Total Return (%)",
         "rawType": "float64",
         "type": "float"
        },
        {
         "name": "CAGR (%)",
         "rawType": "float64",
         "type": "float"
        },
        {
         "name": "Annualized Volatility (%)",
         "rawType": "float64",
         "type": "float"
        },
        {
         "name": "Sharpe Ratio",
         "rawType": "float64",
         "type": "float"
        },
        {
         "name": "Max Drawdown (%)",
         "rawType": "float64",
         "type": "float"
        },
        {
         "name": "Calmar Ratio",
         "rawType": "float64",
         "type": "float"
        }
       ],
       "conversionMethod": "pd.DataFrame",
       "ref": "0d233275-c5c9-4518-bd7a-3dfede9af643",
       "rows": [
        [
         "YMAG Strategy 2",
         "6.26",
         "6.55",
         "4.37",
         "1.04",
         "-1.77",
         "3.71"
        ]
       ],
       "shape": {
        "columns": 6,
        "rows": 1
       }
      },
      "text/html": [
       "<div>\n",
       "<style scoped>\n",
       "    .dataframe tbody tr th:only-of-type {\n",
       "        vertical-align: middle;\n",
       "    }\n",
       "\n",
       "    .dataframe tbody tr th {\n",
       "        vertical-align: top;\n",
       "    }\n",
       "\n",
       "    .dataframe thead th {\n",
       "        text-align: right;\n",
       "    }\n",
       "</style>\n",
       "<table border=\"1\" class=\"dataframe\">\n",
       "  <thead>\n",
       "    <tr style=\"text-align: right;\">\n",
       "      <th></th>\n",
       "      <th>Total Return (%)</th>\n",
       "      <th>CAGR (%)</th>\n",
       "      <th>Annualized Volatility (%)</th>\n",
       "      <th>Sharpe Ratio</th>\n",
       "      <th>Max Drawdown (%)</th>\n",
       "      <th>Calmar Ratio</th>\n",
       "    </tr>\n",
       "  </thead>\n",
       "  <tbody>\n",
       "    <tr>\n",
       "      <th>YMAG Strategy 2</th>\n",
       "      <td>6.26</td>\n",
       "      <td>6.55</td>\n",
       "      <td>4.37</td>\n",
       "      <td>1.04</td>\n",
       "      <td>-1.77</td>\n",
       "      <td>3.71</td>\n",
       "    </tr>\n",
       "  </tbody>\n",
       "</table>\n",
       "</div>"
      ],
      "text/plain": [
       "                 Total Return (%)  CAGR (%)  Annualized Volatility (%)  \\\n",
       "YMAG Strategy 2              6.26      6.55                       4.37   \n",
       "\n",
       "                 Sharpe Ratio  Max Drawdown (%)  Calmar Ratio  \n",
       "YMAG Strategy 2          1.04             -1.77          3.71  "
      ]
     },
     "execution_count": 73,
     "metadata": {},
     "output_type": "execute_result"
    }
   ],
   "source": [
    "# Display the performance metrics for YMAX\n",
    "performance_df_ymag = performance_df_ymag.round(2)\n",
    "performance_df_ymag"
   ]
  },
  {
   "cell_type": "code",
   "execution_count": null,
   "metadata": {},
   "outputs": [],
   "source": []
  },
  {
   "cell_type": "code",
   "execution_count": null,
   "metadata": {},
   "outputs": [],
   "source": []
  },
  {
   "cell_type": "code",
   "execution_count": null,
   "metadata": {},
   "outputs": [],
   "source": []
  },
  {
   "cell_type": "code",
   "execution_count": null,
   "metadata": {},
   "outputs": [],
   "source": []
  },
  {
   "cell_type": "code",
   "execution_count": null,
   "metadata": {},
   "outputs": [],
   "source": []
  },
  {
   "cell_type": "code",
   "execution_count": null,
   "metadata": {},
   "outputs": [],
   "source": []
  },
  {
   "cell_type": "code",
   "execution_count": null,
   "metadata": {},
   "outputs": [],
   "source": []
  },
  {
   "cell_type": "code",
   "execution_count": null,
   "metadata": {},
   "outputs": [],
   "source": []
  },
  {
   "cell_type": "markdown",
   "metadata": {},
   "source": [
    "### **📌 Investment Rules for Strategy 3:**\n",
    "2. **Rule 2**: If **VIX is above 20**, **Long YMAX/YMAG (no hedge)** and remain fully invested.\n",
    "3. **Rule 3**: If **VIX is under 15**, **Long YMAX/YMAG (no hedge)** and backtest separately to analyze performance.\n",
    "4. **Rule 4**: If **VVIX goes above 100**, **exit the market** (close all positions).\n",
    "5. **Rule 5**: Re-enter the market when **VVIX drops back below 95 or 90** (to avoid losses and whipsaws).\n",
    "\n",
    "##### **📌 Summary**\n",
    "- **Exit conditions** are based on **VVIX spikes above 100**.\n",
    "- **Re-entry conditions** trigger only when **VVIX stabilizes under 95-90**.\n"
   ]
  },
  {
   "cell_type": "code",
   "execution_count": null,
   "metadata": {},
   "outputs": [],
   "source": []
  },
  {
   "cell_type": "markdown",
   "metadata": {},
   "source": [
    "### **📌 Investment Rules for Strategy 4:**\n",
    "1. **Rule 1**: If **VIX is under 15**, **Long YMAX/YMAG (no hedge)** and backtest separately to analyze performance.\n",
    "2. **Rule 2**: If **VVIX goes above 100**, **exit the market** (close all positions).\n",
    "3. **Rule 3**: Re-enter the market when **VVIX drops back below 95 or 90** (to avoid losses and whipsaws).\n",
    "\n",
    "##### **📌 Summary**\n",
    "- **Exit conditions** are based on **VVIX spikes above 100**.\n",
    "- **Re-entry conditions** trigger only when **VVIX stabilizes under 95-90**.\n"
   ]
  }
 ],
 "metadata": {
  "kernelspec": {
   "display_name": "Python 3",
   "language": "python",
   "name": "python3"
  },
  "language_info": {
   "codemirror_mode": {
    "name": "ipython",
    "version": 3
   },
   "file_extension": ".py",
   "mimetype": "text/x-python",
   "name": "python",
   "nbconvert_exporter": "python",
   "pygments_lexer": "ipython3",
   "version": "3.12.3"
  }
 },
 "nbformat": 4,
 "nbformat_minor": 2
}
