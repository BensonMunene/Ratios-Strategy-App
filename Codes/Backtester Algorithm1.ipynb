{
 "cells": [
  {
   "cell_type": "code",
   "execution_count": 13,
   "metadata": {},
   "outputs": [],
   "source": [
    "import pandas as pd\n",
    "import os\n",
    "import matplotlib.pyplot as plt\n",
    "from mplfinance.original_flavor import candlestick_ohlc\n",
    "import matplotlib.dates as mdates\n",
    "import plotly.graph_objects as go\n"
   ]
  },
  {
   "cell_type": "code",
   "execution_count": 14,
   "metadata": {},
   "outputs": [],
   "source": [
    "# Set the working directory\n",
    "os.chdir(r\"D:\\Benson\\aUpWork\\Douglas Backtester Algo\\Backtester Algorithm\\Data\")"
   ]
  },
  {
   "cell_type": "code",
   "execution_count": 15,
   "metadata": {},
   "outputs": [
    {
     "data": {
      "text/html": [
       "<div>\n",
       "<style scoped>\n",
       "    .dataframe tbody tr th:only-of-type {\n",
       "        vertical-align: middle;\n",
       "    }\n",
       "\n",
       "    .dataframe tbody tr th {\n",
       "        vertical-align: top;\n",
       "    }\n",
       "\n",
       "    .dataframe thead th {\n",
       "        text-align: right;\n",
       "    }\n",
       "</style>\n",
       "<table border=\"1\" class=\"dataframe\">\n",
       "  <thead>\n",
       "    <tr style=\"text-align: right;\">\n",
       "      <th></th>\n",
       "      <th>Date</th>\n",
       "      <th>Price</th>\n",
       "      <th>Open</th>\n",
       "      <th>High</th>\n",
       "      <th>Low</th>\n",
       "      <th>Vol.</th>\n",
       "      <th>Change %</th>\n",
       "    </tr>\n",
       "  </thead>\n",
       "  <tbody>\n",
       "    <tr>\n",
       "      <th>0</th>\n",
       "      <td>01/28/2025</td>\n",
       "      <td>16.72</td>\n",
       "      <td>16.57</td>\n",
       "      <td>16.73</td>\n",
       "      <td>16.33</td>\n",
       "      <td>950.74K</td>\n",
       "      <td>1.95%</td>\n",
       "    </tr>\n",
       "    <tr>\n",
       "      <th>1</th>\n",
       "      <td>01/27/2025</td>\n",
       "      <td>16.40</td>\n",
       "      <td>16.44</td>\n",
       "      <td>16.62</td>\n",
       "      <td>16.23</td>\n",
       "      <td>2.56M</td>\n",
       "      <td>-2.90%</td>\n",
       "    </tr>\n",
       "    <tr>\n",
       "      <th>2</th>\n",
       "      <td>01/24/2025</td>\n",
       "      <td>16.89</td>\n",
       "      <td>17.00</td>\n",
       "      <td>17.08</td>\n",
       "      <td>16.86</td>\n",
       "      <td>1.39M</td>\n",
       "      <td>-0.41%</td>\n",
       "    </tr>\n",
       "    <tr>\n",
       "      <th>3</th>\n",
       "      <td>01/23/2025</td>\n",
       "      <td>16.96</td>\n",
       "      <td>16.80</td>\n",
       "      <td>16.97</td>\n",
       "      <td>16.77</td>\n",
       "      <td>1.03M</td>\n",
       "      <td>-0.41%</td>\n",
       "    </tr>\n",
       "    <tr>\n",
       "      <th>4</th>\n",
       "      <td>01/22/2025</td>\n",
       "      <td>17.03</td>\n",
       "      <td>17.04</td>\n",
       "      <td>17.09</td>\n",
       "      <td>16.97</td>\n",
       "      <td>1.47M</td>\n",
       "      <td>0.89%</td>\n",
       "    </tr>\n",
       "  </tbody>\n",
       "</table>\n",
       "</div>"
      ],
      "text/plain": [
       "         Date  Price   Open   High    Low     Vol. Change %\n",
       "0  01/28/2025  16.72  16.57  16.73  16.33  950.74K    1.95%\n",
       "1  01/27/2025  16.40  16.44  16.62  16.23    2.56M   -2.90%\n",
       "2  01/24/2025  16.89  17.00  17.08  16.86    1.39M   -0.41%\n",
       "3  01/23/2025  16.96  16.80  16.97  16.77    1.03M   -0.41%\n",
       "4  01/22/2025  17.03  17.04  17.09  16.97    1.47M    0.89%"
      ]
     },
     "execution_count": 15,
     "metadata": {},
     "output_type": "execute_result"
    }
   ],
   "source": [
    "# Load the CSV file\n",
    "file_path = r\"YMAX ETF Stock Price History.csv\"\n",
    "YMAX = pd.read_csv(file_path)\n",
    "\n",
    "# Display the first few rows\n",
    "YMAX.head()\n"
   ]
  },
  {
   "cell_type": "code",
   "execution_count": 16,
   "metadata": {},
   "outputs": [
    {
     "data": {
      "text/html": [
       "<div>\n",
       "<style scoped>\n",
       "    .dataframe tbody tr th:only-of-type {\n",
       "        vertical-align: middle;\n",
       "    }\n",
       "\n",
       "    .dataframe tbody tr th {\n",
       "        vertical-align: top;\n",
       "    }\n",
       "\n",
       "    .dataframe thead th {\n",
       "        text-align: right;\n",
       "    }\n",
       "</style>\n",
       "<table border=\"1\" class=\"dataframe\">\n",
       "  <thead>\n",
       "    <tr style=\"text-align: right;\">\n",
       "      <th></th>\n",
       "      <th>Date</th>\n",
       "      <th>Price</th>\n",
       "      <th>Open</th>\n",
       "      <th>High</th>\n",
       "      <th>Low</th>\n",
       "      <th>Vol.</th>\n",
       "      <th>Change %</th>\n",
       "    </tr>\n",
       "  </thead>\n",
       "  <tbody>\n",
       "    <tr>\n",
       "      <th>0</th>\n",
       "      <td>01/28/2025</td>\n",
       "      <td>18.81</td>\n",
       "      <td>18.48</td>\n",
       "      <td>18.83</td>\n",
       "      <td>18.35</td>\n",
       "      <td>933.82K</td>\n",
       "      <td>2.28%</td>\n",
       "    </tr>\n",
       "    <tr>\n",
       "      <th>1</th>\n",
       "      <td>01/27/2025</td>\n",
       "      <td>18.39</td>\n",
       "      <td>18.27</td>\n",
       "      <td>18.53</td>\n",
       "      <td>18.18</td>\n",
       "      <td>1.25M</td>\n",
       "      <td>-2.85%</td>\n",
       "    </tr>\n",
       "    <tr>\n",
       "      <th>2</th>\n",
       "      <td>01/24/2025</td>\n",
       "      <td>18.93</td>\n",
       "      <td>19.00</td>\n",
       "      <td>19.07</td>\n",
       "      <td>18.83</td>\n",
       "      <td>848.88K</td>\n",
       "      <td>-0.05%</td>\n",
       "    </tr>\n",
       "    <tr>\n",
       "      <th>3</th>\n",
       "      <td>01/23/2025</td>\n",
       "      <td>18.94</td>\n",
       "      <td>18.94</td>\n",
       "      <td>18.97</td>\n",
       "      <td>18.85</td>\n",
       "      <td>585.19K</td>\n",
       "      <td>-0.63%</td>\n",
       "    </tr>\n",
       "    <tr>\n",
       "      <th>4</th>\n",
       "      <td>01/22/2025</td>\n",
       "      <td>19.06</td>\n",
       "      <td>18.94</td>\n",
       "      <td>19.09</td>\n",
       "      <td>18.90</td>\n",
       "      <td>622.02K</td>\n",
       "      <td>0.85%</td>\n",
       "    </tr>\n",
       "  </tbody>\n",
       "</table>\n",
       "</div>"
      ],
      "text/plain": [
       "         Date  Price   Open   High    Low     Vol. Change %\n",
       "0  01/28/2025  18.81  18.48  18.83  18.35  933.82K    2.28%\n",
       "1  01/27/2025  18.39  18.27  18.53  18.18    1.25M   -2.85%\n",
       "2  01/24/2025  18.93  19.00  19.07  18.83  848.88K   -0.05%\n",
       "3  01/23/2025  18.94  18.94  18.97  18.85  585.19K   -0.63%\n",
       "4  01/22/2025  19.06  18.94  19.09  18.90  622.02K    0.85%"
      ]
     },
     "execution_count": 16,
     "metadata": {},
     "output_type": "execute_result"
    }
   ],
   "source": [
    "# Load the CSV file\n",
    "file_path = r\"YMAG ETF Stock Price History.csv\"\n",
    "YMAG = pd.read_csv(file_path)\n",
    "\n",
    "# Display the first few rows\n",
    "YMAG.head()\n"
   ]
  },
  {
   "cell_type": "code",
   "execution_count": 17,
   "metadata": {},
   "outputs": [],
   "source": [
    "#Convert dates to their right format in both YMAX and YMAG DataFrames\n",
    "YMAG['Date'] = pd.to_datetime(YMAG['Date'])\n",
    "YMAX['Date'] = pd.to_datetime(YMAX['Date'])\n",
    "YMAX = YMAX.set_index('Date')\n",
    "YMAG = YMAG.set_index('Date')\n"
   ]
  },
  {
   "cell_type": "code",
   "execution_count": 18,
   "metadata": {},
   "outputs": [],
   "source": [
    "# Drop columns Vol and Change in both YMAX and YMAG DataFrames\n",
    "YMAX = YMAX.drop(columns=['Vol.', 'Change %'])\n",
    "YMAG = YMAG.drop(columns=['Vol.', 'Change %'])"
   ]
  },
  {
   "cell_type": "code",
   "execution_count": 19,
   "metadata": {},
   "outputs": [
    {
     "data": {
      "text/html": [
       "<div>\n",
       "<style scoped>\n",
       "    .dataframe tbody tr th:only-of-type {\n",
       "        vertical-align: middle;\n",
       "    }\n",
       "\n",
       "    .dataframe tbody tr th {\n",
       "        vertical-align: top;\n",
       "    }\n",
       "\n",
       "    .dataframe thead th {\n",
       "        text-align: right;\n",
       "    }\n",
       "</style>\n",
       "<table border=\"1\" class=\"dataframe\">\n",
       "  <thead>\n",
       "    <tr style=\"text-align: right;\">\n",
       "      <th></th>\n",
       "      <th>Price</th>\n",
       "      <th>Open</th>\n",
       "      <th>High</th>\n",
       "      <th>Low</th>\n",
       "    </tr>\n",
       "    <tr>\n",
       "      <th>Date</th>\n",
       "      <th></th>\n",
       "      <th></th>\n",
       "      <th></th>\n",
       "      <th></th>\n",
       "    </tr>\n",
       "  </thead>\n",
       "  <tbody>\n",
       "    <tr>\n",
       "      <th>2025-01-28</th>\n",
       "      <td>16.72</td>\n",
       "      <td>16.57</td>\n",
       "      <td>16.73</td>\n",
       "      <td>16.33</td>\n",
       "    </tr>\n",
       "    <tr>\n",
       "      <th>2025-01-27</th>\n",
       "      <td>16.40</td>\n",
       "      <td>16.44</td>\n",
       "      <td>16.62</td>\n",
       "      <td>16.23</td>\n",
       "    </tr>\n",
       "    <tr>\n",
       "      <th>2025-01-24</th>\n",
       "      <td>16.89</td>\n",
       "      <td>17.00</td>\n",
       "      <td>17.08</td>\n",
       "      <td>16.86</td>\n",
       "    </tr>\n",
       "    <tr>\n",
       "      <th>2025-01-23</th>\n",
       "      <td>16.96</td>\n",
       "      <td>16.80</td>\n",
       "      <td>16.97</td>\n",
       "      <td>16.77</td>\n",
       "    </tr>\n",
       "    <tr>\n",
       "      <th>2025-01-22</th>\n",
       "      <td>17.03</td>\n",
       "      <td>17.04</td>\n",
       "      <td>17.09</td>\n",
       "      <td>16.97</td>\n",
       "    </tr>\n",
       "  </tbody>\n",
       "</table>\n",
       "</div>"
      ],
      "text/plain": [
       "            Price   Open   High    Low\n",
       "Date                                  \n",
       "2025-01-28  16.72  16.57  16.73  16.33\n",
       "2025-01-27  16.40  16.44  16.62  16.23\n",
       "2025-01-24  16.89  17.00  17.08  16.86\n",
       "2025-01-23  16.96  16.80  16.97  16.77\n",
       "2025-01-22  17.03  17.04  17.09  16.97"
      ]
     },
     "execution_count": 19,
     "metadata": {},
     "output_type": "execute_result"
    }
   ],
   "source": [
    "#View the first few rows of the YMAX DataFrame\n",
    "YMAX.head()"
   ]
  },
  {
   "cell_type": "code",
   "execution_count": 24,
   "metadata": {},
   "outputs": [
    {
     "data": {
      "text/html": [
       "<div>\n",
       "<style scoped>\n",
       "    .dataframe tbody tr th:only-of-type {\n",
       "        vertical-align: middle;\n",
       "    }\n",
       "\n",
       "    .dataframe tbody tr th {\n",
       "        vertical-align: top;\n",
       "    }\n",
       "\n",
       "    .dataframe thead th {\n",
       "        text-align: right;\n",
       "    }\n",
       "</style>\n",
       "<table border=\"1\" class=\"dataframe\">\n",
       "  <thead>\n",
       "    <tr style=\"text-align: right;\">\n",
       "      <th></th>\n",
       "      <th>YMAG</th>\n",
       "    </tr>\n",
       "    <tr>\n",
       "      <th>Date</th>\n",
       "      <th></th>\n",
       "    </tr>\n",
       "  </thead>\n",
       "  <tbody>\n",
       "    <tr>\n",
       "      <th>2025-01-28</th>\n",
       "      <td>18.81</td>\n",
       "    </tr>\n",
       "    <tr>\n",
       "      <th>2025-01-27</th>\n",
       "      <td>18.39</td>\n",
       "    </tr>\n",
       "    <tr>\n",
       "      <th>2025-01-24</th>\n",
       "      <td>18.93</td>\n",
       "    </tr>\n",
       "    <tr>\n",
       "      <th>2025-01-23</th>\n",
       "      <td>18.94</td>\n",
       "    </tr>\n",
       "    <tr>\n",
       "      <th>2025-01-22</th>\n",
       "      <td>19.06</td>\n",
       "    </tr>\n",
       "  </tbody>\n",
       "</table>\n",
       "</div>"
      ],
      "text/plain": [
       "             YMAG\n",
       "Date             \n",
       "2025-01-28  18.81\n",
       "2025-01-27  18.39\n",
       "2025-01-24  18.93\n",
       "2025-01-23  18.94\n",
       "2025-01-22  19.06"
      ]
     },
     "execution_count": 24,
     "metadata": {},
     "output_type": "execute_result"
    }
   ],
   "source": [
    "#View the first few rows of the YMAG DataFrame\n",
    "YMAG.head()"
   ]
  },
  {
   "cell_type": "code",
   "execution_count": 20,
   "metadata": {},
   "outputs": [
    {
     "data": {
      "image/png": "[encoded data removed]",
      "text/plain": [
       "<Figure size 1200x600 with 1 Axes>"
      ]
     },
     "metadata": {},
     "output_type": "display_data"
    }
   ],
   "source": [
    "# Convert Date index to datetime format\n",
    "YMAX.index = pd.to_datetime(YMAX.index)\n",
    "\n",
    "# Convert dates to numerical format for matplotlib\n",
    "YMAX['Date'] = YMAX.index.map(mdates.date2num)\n",
    "\n",
    "# Select required columns for candlestick_ohlc\n",
    "ohlc = YMAX[['Date', 'Open', 'High', 'Low', 'Price']].copy()\n",
    "\n",
    "# Create the figure and axis\n",
    "fig, ax = plt.subplots(figsize=(12, 6))\n",
    "\n",
    "# Format the x-axis dates to avoid clutter\n",
    "ax.xaxis.set_major_locator(mdates.AutoDateLocator())  # Auto-adjust date intervals\n",
    "ax.xaxis.set_major_formatter(mdates.DateFormatter('%Y-%m-%d'))  # Format as YYYY-MM-DD\n",
    "\n",
    "# Plot the candlestick chart\n",
    "candlestick_ohlc(ax, ohlc.values, width=0.6, colorup='green', colordown='red')\n",
    "\n",
    "# Labels and title\n",
    "ax.set_xlabel('Date')\n",
    "ax.set_ylabel('Price')\n",
    "ax.set_title('YMAX ETF Candlestick Chart')\n",
    "\n",
    "# Rotate x-axis labels for better readability\n",
    "fig.autofmt_xdate()\n",
    "\n",
    "# Show the plot\n",
    "plt.show()\n"
   ]
  },
  {
   "cell_type": "code",
   "execution_count": 21,
   "metadata": {},
   "outputs": [
    {
     "data": {
      "application/vnd.plotly.v1+json": {
       "config": {
        "plotlyServerURL": "https://plot.ly"
       },
       "data": [
        {
         "close": {
          "bdata": "uB6F61G4MEBmZmZmZmYwQKRwPQrX4zBA9ihcj8L1MEBI4XoUrgcxQOF6FK5H4TBAhetRuB7FMEDD9Shcj4IwQOxRuB6FqzBAj8L1KFxPMEAAAAAAAEAwQIXrUbgehTBAexSuR+G6MEBcj8L1KBwxQLgehetReDFAAAAAAABAMUAK16NwPQoxQDMzMzMz8zBAFK5H4XoUMUDNzMzMzEwxQArXo3A9yjFAmpmZmZnZMUAK16NwPYoxQEjhehSuhzFACtejcD1KMUAAAAAAAIAxQMP1KFyPQjJAzczMzMxMMkCuR+F6FC4yQAAAAAAAQDJA9ihcj8J1MkDD9Shcj0IyQAAAAAAAgDJAZmZmZmamMkBmZmZmZmYyQGZmZmZmpjJAcT0K16NwMkAfhetRuF4yQB+F61G4HjJAmpmZmZlZMkA9CtejcD0yQDMzMzMzczJAmpmZmZlZMkDhehSuRyEyQHE9CtejMDJAuB6F61E4MkBcj8L1KNwxQNejcD0KlzFAH4XrUbieMUBxPQrXo/AxQJqZmZmZGTJAH4XrUbgeMkC4HoXrUbgxQPYoXI/CtTFAMzMzMzOzMUAfhetRuB4xQClcj8L16DBAcT0K16PwMEDsUbgeheswQMP1KFyPgjFAZmZmZmamMUDNzMzMzIwxQFyPwvUoXDFAUrgehetRMUBSuB6F61ExQEjhehSuhzFAH4XrUbieMUBSuB6F65ExQBSuR+F6VDFA16NwPQqXMUA9CtejcH0xQHE9CtejsDFAXI/C9SicMUCuR+F6FG4xQKRwPQrXozFA16NwPQqXMUCF61G4HoUxQJqZmZmZmTFAzczMzMxMMUDNzMzMzIwxQFK4HoXrkTFAFK5H4XrUMUCkcD0K1+MxQI/C9ShczzFAH4XrUbjeMUApXI/C9egxQMP1KFyPwjFApHA9CtejMUC4HoXrUbgxQJqZmZmZmTFAXI/C9SicMUAAAAAAAIAxQMP1KFyPgjFAcT0K16NwMUCamZmZmVkxQOxRuB6FKzFASOF6FK4HMUD2KFyPwrUwQPYoXI/CNTFAAAAAAABAMUB7FK5H4ToxQD0K16NwvTFAmpmZmZmZMUBSuB6F65ExQJqZmZmZ2TFA7FG4HoXrMUAfhetRuN4xQDMzMzMzszFAzczMzMwMMkApXI/C9egxQK5H4XoU7jFAUrgehevRMUBmZmZmZqYxQOF6FK5HITJApHA9CtcjMkDXo3A9CtcxQFyPwvUo3DFAAAAAAADAMUCuR+F6FC4xQClcj8L1aDFAzczMzMwMMUAAAAAAAMAxQDMzMzMzMzJAUrgehevRMkDD9Shcj4IyQFyPwvUonDJAFK5H4XqUMkAUrkfhelQyQD0K16NwfTJAZmZmZmYmM0A9CtejcD0zQD0K16Nw/TJAMzMzMzPzMkD2KFyPwjUzQK5H4XoULjRAMzMzMzMzNEC4HoXrUfgzQB+F61G43jNAPQrXo3D9M0AfhetRuN4zQKRwPQrX4zNA4XoUrkfhM0A9CtejcL0zQK5H4XoUrjNAFK5H4XqUM0DD9Shcj4IzQDMzMzMzszNAUrgeheuRM0ApXI/C9agzQKRwPQrXYzNAUrgeheuRM0AUrkfhepQzQArXo3A9ijNA7FG4HoWrM0DXo3A9CpczQOxRuB6FazRAH4XrUbieNEBxPQrXo3A0QMP1KFyPgjRA7FG4HoVrNECF61G4HoU0QDMzMzMzczRAw/UoXI9CNED2KFyPwjU0QFyPwvUoHDRAMzMzMzMzNEBxPQrXozA0QM3MzMzMTDRAw/UoXI9CNEBxPQrXo/AzQLgehetRODRAH4XrUbheNEDXo3A9Clc0QOxRuB6FKzRASOF6FK4HNECPwvUoXA80QOF6FK5HoTRAMzMzMzNzNEAK16NwPUo0QMP1KFyPgjRAMzMzMzNzNECF61G4HoU0QK5H4XoUrjRA9ihcj8J1NED2KFyPwjU0QArXo3A9yjNA7FG4HoXrM0CPwvUoXE80QLgehetRODRA9ihcj8L1M0CPwvUoXA80QMP1KFyPAjRAcT0K16OwM0DhehSuR2EzQJqZmZmZ2TNA7FG4HoXrM0B7FK5H4bo0QI/C9ShczzRASOF6FK5HNUCuR+F6FK41QK5H4XoUbjVAhetRuB6FNUA9CtejcH01QNejcD0KVzVA7FG4HoUrNUC4HoXrUXg1QClcj8L1aDVAmpmZmZmZNUCuR+F6FK41QKRwPQrXozVAH4XrUbieNUBmZmZmZqY1QK5H4XoUbjVAcT0K16NwNUCPwvUoXE81QFyPwvUoHDVAKVyPwvUoNUBxPQrXo/A0QGZmZmZm5jRAj8L1KFzPNUAfhetRuN41QJqZmZmZmTVAH4XrUbieNUBmZmZmZqY1QOF6FK5HYTVA7FG4HoUrNUCamZmZmZk1QOxRuB6FqzVAzczMzMyMNUC4HoXrUTg1QK5H4XoULjVAexSuR+H6NEApXI/C9eg0QAAAAAAAwDRAUrgehesRNEAzMzMzMzM0QNejcD0KlzRAcT0K16OwNEDD9ShcjwI1QFK4HoXrkTRArkfhehTuNEBI4XoUrsc0QM3MzMzMzDRASOF6FK7HNEBcj8L1KJw0QHE9CtejcDRAMzMzMzOzNECkcD0K12M0QDMzMzMzMzRAAAAAAACANEApXI/C9ag0QJqZmZmZWTRAhetRuB5FNEBcj8L1KFw0QIXrUbgeRTRArkfhehQuNEAfhetRuB40QOxRuB6F6zNA",
          "dtype": "f8"
         },
         "decreasing": {
          "line": {
           "color": "red"
          }
         },
         "high": {
          "bdata": "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",
          "dtype": "f8"
         },
         "increasing": {
          "line": {
           "color": "green"
          }
         },
         "low": {
          "bdata": "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",
          "dtype": "f8"
         },
         "open": {
          "bdata": "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",
          "dtype": "f8"
         },
         "type": "candlestick",
         "x": [
          "2025-01-28T00:00:00.000000000",
          "2025-01-27T00:00:00.000000000",
          "2025-01-24T00:00:00.000000000",
          "2025-01-23T00:00:00.000000000",
          "2025-01-22T00:00:00.000000000",
          "2025-01-21T00:00:00.000000000",
          "2025-01-17T00:00:00.000000000",
          "2025-01-16T00:00:00.000000000",
          "2025-01-15T00:00:00.000000000",
          "2025-01-14T00:00:00.000000000",
          "2025-01-13T00:00:00.000000000",
          "2025-01-10T00:00:00.000000000",
          "2025-01-08T00:00:00.000000000",
          "2025-01-07T00:00:00.000000000",
          "2025-01-06T00:00:00.000000000",
          "2025-01-03T00:00:00.000000000",
          "2025-01-02T00:00:00.000000000",
          "2024-12-31T00:00:00.000000000",
          "2024-12-30T00:00:00.000000000",
          "2024-12-27T00:00:00.000000000",
          "2024-12-26T00:00:00.000000000",
          "2024-12-24T00:00:00.000000000",
          "2024-12-23T00:00:00.000000000",
          "2024-12-20T00:00:00.000000000",
          "2024-12-19T00:00:00.000000000",
          "2024-12-18T00:00:00.000000000",
          "2024-12-17T00:00:00.000000000",
          "2024-12-16T00:00:00.000000000",
          "2024-12-13T00:00:00.000000000",
          "2024-12-12T00:00:00.000000000",
          "2024-12-11T00:00:00.000000000",
          "2024-12-10T00:00:00.000000000",
          "2024-12-09T00:00:00.000000000",
          "2024-12-06T00:00:00.000000000",
          "2024-12-05T00:00:00.000000000",
          "2024-12-04T00:00:00.000000000",
          "2024-12-03T00:00:00.000000000",
          "2024-12-02T00:00:00.000000000",
          "2024-11-29T00:00:00.000000000",
          "2024-11-27T00:00:00.000000000",
          "2024-11-26T00:00:00.000000000",
          "2024-11-25T00:00:00.000000000",
          "2024-11-22T00:00:00.000000000",
          "2024-11-21T00:00:00.000000000",
          "2024-11-20T00:00:00.000000000",
          "2024-11-19T00:00:00.000000000",
          "2024-11-18T00:00:00.000000000",
          "2024-11-15T00:00:00.000000000",
          "2024-11-14T00:00:00.000000000",
          "2024-11-13T00:00:00.000000000",
          "2024-11-12T00:00:00.000000000",
          "2024-11-11T00:00:00.000000000",
          "2024-11-08T00:00:00.000000000",
          "2024-11-07T00:00:00.000000000",
          "2024-11-06T00:00:00.000000000",
          "2024-11-05T00:00:00.000000000",
          "2024-11-04T00:00:00.000000000",
          "2024-11-01T00:00:00.000000000",
          "2024-10-31T00:00:00.000000000",
          "2024-10-30T00:00:00.000000000",
          "2024-10-29T00:00:00.000000000",
          "2024-10-28T00:00:00.000000000",
          "2024-10-25T00:00:00.000000000",
          "2024-10-24T00:00:00.000000000",
          "2024-10-23T00:00:00.000000000",
          "2024-10-22T00:00:00.000000000",
          "2024-10-21T00:00:00.000000000",
          "2024-10-18T00:00:00.000000000",
          "2024-10-17T00:00:00.000000000",
          "2024-10-16T00:00:00.000000000",
          "2024-10-15T00:00:00.000000000",
          "2024-10-14T00:00:00.000000000",
          "2024-10-11T00:00:00.000000000",
          "2024-10-10T00:00:00.000000000",
          "2024-10-09T00:00:00.000000000",
          "2024-10-08T00:00:00.000000000",
          "2024-10-07T00:00:00.000000000",
          "2024-10-04T00:00:00.000000000",
          "2024-10-03T00:00:00.000000000",
          "2024-10-02T00:00:00.000000000",
          "2024-10-01T00:00:00.000000000",
          "2024-09-30T00:00:00.000000000",
          "2024-09-27T00:00:00.000000000",
          "2024-09-26T00:00:00.000000000",
          "2024-09-25T00:00:00.000000000",
          "2024-09-24T00:00:00.000000000",
          "2024-09-23T00:00:00.000000000",
          "2024-09-20T00:00:00.000000000",
          "2024-09-19T00:00:00.000000000",
          "2024-09-18T00:00:00.000000000",
          "2024-09-17T00:00:00.000000000",
          "2024-09-16T00:00:00.000000000",
          "2024-09-13T00:00:00.000000000",
          "2024-09-12T00:00:00.000000000",
          "2024-09-11T00:00:00.000000000",
          "2024-09-10T00:00:00.000000000",
          "2024-09-09T00:00:00.000000000",
          "2024-09-06T00:00:00.000000000",
          "2024-09-05T00:00:00.000000000",
          "2024-09-04T00:00:00.000000000",
          "2024-09-03T00:00:00.000000000",
          "2024-08-30T00:00:00.000000000",
          "2024-08-29T00:00:00.000000000",
          "2024-08-28T00:00:00.000000000",
          "2024-08-27T00:00:00.000000000",
          "2024-08-26T00:00:00.000000000",
          "2024-08-23T00:00:00.000000000",
          "2024-08-22T00:00:00.000000000",
          "2024-08-21T00:00:00.000000000",
          "2024-08-20T00:00:00.000000000",
          "2024-08-19T00:00:00.000000000",
          "2024-08-16T00:00:00.000000000",
          "2024-08-15T00:00:00.000000000",
          "2024-08-14T00:00:00.000000000",
          "2024-08-13T00:00:00.000000000",
          "2024-08-12T00:00:00.000000000",
          "2024-08-09T00:00:00.000000000",
          "2024-08-08T00:00:00.000000000",
          "2024-08-07T00:00:00.000000000",
          "2024-08-06T00:00:00.000000000",
          "2024-08-05T00:00:00.000000000",
          "2024-08-02T00:00:00.000000000",
          "2024-08-01T00:00:00.000000000",
          "2024-07-31T00:00:00.000000000",
          "2024-07-30T00:00:00.000000000",
          "2024-07-29T00:00:00.000000000",
          "2024-07-26T00:00:00.000000000",
          "2024-07-25T00:00:00.000000000",
          "2024-07-24T00:00:00.000000000",
          "2024-07-23T00:00:00.000000000",
          "2024-07-22T00:00:00.000000000",
          "2024-07-19T00:00:00.000000000",
          "2024-07-18T00:00:00.000000000",
          "2024-07-17T00:00:00.000000000",
          "2024-07-16T00:00:00.000000000",
          "2024-07-15T00:00:00.000000000",
          "2024-07-12T00:00:00.000000000",
          "2024-07-11T00:00:00.000000000",
          "2024-07-10T00:00:00.000000000",
          "2024-07-09T00:00:00.000000000",
          "2024-07-08T00:00:00.000000000",
          "2024-07-05T00:00:00.000000000",
          "2024-07-03T00:00:00.000000000",
          "2024-07-02T00:00:00.000000000",
          "2024-07-01T00:00:00.000000000",
          "2024-06-28T00:00:00.000000000",
          "2024-06-27T00:00:00.000000000",
          "2024-06-26T00:00:00.000000000",
          "2024-06-25T00:00:00.000000000",
          "2024-06-24T00:00:00.000000000",
          "2024-06-21T00:00:00.000000000",
          "2024-06-20T00:00:00.000000000",
          "2024-06-18T00:00:00.000000000",
          "2024-06-17T00:00:00.000000000",
          "2024-06-14T00:00:00.000000000",
          "2024-06-13T00:00:00.000000000",
          "2024-06-12T00:00:00.000000000",
          "2024-06-11T00:00:00.000000000",
          "2024-06-10T00:00:00.000000000",
          "2024-06-07T00:00:00.000000000",
          "2024-06-06T00:00:00.000000000",
          "2024-06-05T00:00:00.000000000",
          "2024-06-04T00:00:00.000000000",
          "2024-06-03T00:00:00.000000000",
          "2024-05-31T00:00:00.000000000",
          "2024-05-30T00:00:00.000000000",
          "2024-05-29T00:00:00.000000000",
          "2024-05-28T00:00:00.000000000",
          "2024-05-24T00:00:00.000000000",
          "2024-05-23T00:00:00.000000000",
          "2024-05-22T00:00:00.000000000",
          "2024-05-21T00:00:00.000000000",
          "2024-05-20T00:00:00.000000000",
          "2024-05-17T00:00:00.000000000",
          "2024-05-16T00:00:00.000000000",
          "2024-05-15T00:00:00.000000000",
          "2024-05-14T00:00:00.000000000",
          "2024-05-13T00:00:00.000000000",
          "2024-05-10T00:00:00.000000000",
          "2024-05-09T00:00:00.000000000",
          "2024-05-08T00:00:00.000000000",
          "2024-05-07T00:00:00.000000000",
          "2024-05-06T00:00:00.000000000",
          "2024-05-03T00:00:00.000000000",
          "2024-05-02T00:00:00.000000000",
          "2024-05-01T00:00:00.000000000",
          "2024-04-30T00:00:00.000000000",
          "2024-04-29T00:00:00.000000000",
          "2024-04-26T00:00:00.000000000",
          "2024-04-25T00:00:00.000000000",
          "2024-04-24T00:00:00.000000000",
          "2024-04-23T00:00:00.000000000",
          "2024-04-22T00:00:00.000000000",
          "2024-04-19T00:00:00.000000000",
          "2024-04-18T00:00:00.000000000",
          "2024-04-17T00:00:00.000000000",
          "2024-04-16T00:00:00.000000000",
          "2024-04-15T00:00:00.000000000",
          "2024-04-12T00:00:00.000000000",
          "2024-04-11T00:00:00.000000000",
          "2024-04-10T00:00:00.000000000",
          "2024-04-09T00:00:00.000000000",
          "2024-04-08T00:00:00.000000000",
          "2024-04-05T00:00:00.000000000",
          "2024-04-04T00:00:00.000000000",
          "2024-04-03T00:00:00.000000000",
          "2024-04-02T00:00:00.000000000",
          "2024-04-01T00:00:00.000000000",
          "2024-03-28T00:00:00.000000000",
          "2024-03-27T00:00:00.000000000",
          "2024-03-26T00:00:00.000000000",
          "2024-03-25T00:00:00.000000000",
          "2024-03-22T00:00:00.000000000",
          "2024-03-21T00:00:00.000000000",
          "2024-03-20T00:00:00.000000000",
          "2024-03-19T00:00:00.000000000",
          "2024-03-18T00:00:00.000000000",
          "2024-03-15T00:00:00.000000000",
          "2024-03-14T00:00:00.000000000",
          "2024-03-13T00:00:00.000000000",
          "2024-03-12T00:00:00.000000000",
          "2024-03-11T00:00:00.000000000",
          "2024-03-08T00:00:00.000000000",
          "2024-03-07T00:00:00.000000000",
          "2024-03-06T00:00:00.000000000",
          "2024-03-05T00:00:00.000000000",
          "2024-03-04T00:00:00.000000000",
          "2024-03-01T00:00:00.000000000",
          "2024-02-29T00:00:00.000000000",
          "2024-02-28T00:00:00.000000000",
          "2024-02-27T00:00:00.000000000",
          "2024-02-26T00:00:00.000000000",
          "2024-02-23T00:00:00.000000000",
          "2024-02-22T00:00:00.000000000",
          "2024-02-21T00:00:00.000000000",
          "2024-02-20T00:00:00.000000000",
          "2024-02-16T00:00:00.000000000",
          "2024-02-15T00:00:00.000000000",
          "2024-02-14T00:00:00.000000000",
          "2024-02-13T00:00:00.000000000",
          "2024-02-12T00:00:00.000000000",
          "2024-02-09T00:00:00.000000000",
          "2024-02-08T00:00:00.000000000",
          "2024-02-07T00:00:00.000000000",
          "2024-02-06T00:00:00.000000000",
          "2024-02-05T00:00:00.000000000",
          "2024-02-02T00:00:00.000000000",
          "2024-02-01T00:00:00.000000000",
          "2024-01-31T00:00:00.000000000",
          "2024-01-30T00:00:00.000000000",
          "2024-01-29T00:00:00.000000000",
          "2024-01-26T00:00:00.000000000",
          "2024-01-25T00:00:00.000000000",
          "2024-01-24T00:00:00.000000000",
          "2024-01-23T00:00:00.000000000",
          "2024-01-22T00:00:00.000000000",
          "2024-01-19T00:00:00.000000000",
          "2024-01-18T00:00:00.000000000"
         ]
        }
       ],
       "layout": {
        "template": {
         "data": {
          "bar": [
           {
            "error_x": {
             "color": "#f2f5fa"
            },
            "error_y": {
             "color": "#f2f5fa"
            },
            "marker": {
             "line": {
              "color": "rgb(17,17,17)",
              "width": 0.5
             },
             "pattern": {
              "fillmode": "overlay",
              "size": 10,
              "solidity": 0.2
             }
            },
            "type": "bar"
           }
          ],
          "barpolar": [
           {
            "marker": {
             "line": {
              "color": "rgb(17,17,17)",
              "width": 0.5
             },
             "pattern": {
              "fillmode": "overlay",
              "size": 10,
              "solidity": 0.2
             }
            },
            "type": "barpolar"
           }
          ],
          "carpet": [
           {
            "aaxis": {
             "endlinecolor": "#A2B1C6",
             "gridcolor": "#506784",
             "linecolor": "#506784",
             "minorgridcolor": "#506784",
             "startlinecolor": "#A2B1C6"
            },
            "baxis": {
             "endlinecolor": "#A2B1C6",
             "gridcolor": "#506784",
             "linecolor": "#506784",
             "minorgridcolor": "#506784",
             "startlinecolor": "#A2B1C6"
            },
            "type": "carpet"
           }
          ],
          "choropleth": [
           {
            "colorbar": {
             "outlinewidth": 0,
             "ticks": ""
            },
            "type": "choropleth"
           }
          ],
          "contour": [
           {
            "colorbar": {
             "outlinewidth": 0,
             "ticks": ""
            },
            "colorscale": [
             [
              0,
              "#0d0887"
             ],
             [
              0.1111111111111111,
              "#46039f"
             ],
             [
              0.2222222222222222,
              "#7201a8"
             ],
             [
              0.3333333333333333,
              "#9c179e"
             ],
             [
              0.4444444444444444,
              "#bd3786"
             ],
             [
              0.5555555555555556,
              "#d8576b"
             ],
             [
              0.6666666666666666,
              "#ed7953"
             ],
             [
              0.7777777777777778,
              "#fb9f3a"
             ],
             [
              0.8888888888888888,
              "#fdca26"
             ],
             [
              1,
              "#f0f921"
             ]
            ],
            "type": "contour"
           }
          ],
          "contourcarpet": [
           {
            "colorbar": {
             "outlinewidth": 0,
             "ticks": ""
            },
            "type": "contourcarpet"
           }
          ],
          "heatmap": [
           {
            "colorbar": {
             "outlinewidth": 0,
             "ticks": ""
            },
            "colorscale": [
             [
              0,
              "#0d0887"
             ],
             [
              0.1111111111111111,
              "#46039f"
             ],
             [
              0.2222222222222222,
              "#7201a8"
             ],
             [
              0.3333333333333333,
              "#9c179e"
             ],
             [
              0.4444444444444444,
              "#bd3786"
             ],
             [
              0.5555555555555556,
              "#d8576b"
             ],
             [
              0.6666666666666666,
              "#ed7953"
             ],
             [
              0.7777777777777778,
              "#fb9f3a"
             ],
             [
              0.8888888888888888,
              "#fdca26"
             ],
             [
              1,
              "#f0f921"
             ]
            ],
            "type": "heatmap"
           }
          ],
          "histogram": [
           {
            "marker": {
             "pattern": {
              "fillmode": "overlay",
              "size": 10,
              "solidity": 0.2
             }
            },
            "type": "histogram"
           }
          ],
          "histogram2d": [
           {
            "colorbar": {
             "outlinewidth": 0,
             "ticks": ""
            },
            "colorscale": [
             [
              0,
              "#0d0887"
             ],
             [
              0.1111111111111111,
              "#46039f"
             ],
             [
              0.2222222222222222,
              "#7201a8"
             ],
             [
              0.3333333333333333,
              "#9c179e"
             ],
             [
              0.4444444444444444,
              "#bd3786"
             ],
             [
              0.5555555555555556,
              "#d8576b"
             ],
             [
              0.6666666666666666,
              "#ed7953"
             ],
             [
              0.7777777777777778,
              "#fb9f3a"
             ],
             [
              0.8888888888888888,
              "#fdca26"
             ],
             [
              1,
              "#f0f921"
             ]
            ],
            "type": "histogram2d"
           }
          ],
          "histogram2dcontour": [
           {
            "colorbar": {
             "outlinewidth": 0,
             "ticks": ""
            },
            "colorscale": [
             [
              0,
              "#0d0887"
             ],
             [
              0.1111111111111111,
              "#46039f"
             ],
             [
              0.2222222222222222,
              "#7201a8"
             ],
             [
              0.3333333333333333,
              "#9c179e"
             ],
             [
              0.4444444444444444,
              "#bd3786"
             ],
             [
              0.5555555555555556,
              "#d8576b"
             ],
             [
              0.6666666666666666,
              "#ed7953"
             ],
             [
              0.7777777777777778,
              "#fb9f3a"
             ],
             [
              0.8888888888888888,
              "#fdca26"
             ],
             [
              1,
              "#f0f921"
             ]
            ],
            "type": "histogram2dcontour"
           }
          ],
          "mesh3d": [
           {
            "colorbar": {
             "outlinewidth": 0,
             "ticks": ""
            },
            "type": "mesh3d"
           }
          ],
          "parcoords": [
           {
            "line": {
             "colorbar": {
              "outlinewidth": 0,
              "ticks": ""
             }
            },
            "type": "parcoords"
           }
          ],
          "pie": [
           {
            "automargin": true,
            "type": "pie"
           }
          ],
          "scatter": [
           {
            "marker": {
             "line": {
              "color": "#283442"
             }
            },
            "type": "scatter"
           }
          ],
          "scatter3d": [
           {
            "line": {
             "colorbar": {
              "outlinewidth": 0,
              "ticks": ""
             }
            },
            "marker": {
             "colorbar": {
              "outlinewidth": 0,
              "ticks": ""
             }
            },
            "type": "scatter3d"
           }
          ],
          "scattercarpet": [
           {
            "marker": {
             "colorbar": {
              "outlinewidth": 0,
              "ticks": ""
             }
            },
            "type": "scattercarpet"
           }
          ],
          "scattergeo": [
           {
            "marker": {
             "colorbar": {
              "outlinewidth": 0,
              "ticks": ""
             }
            },
            "type": "scattergeo"
           }
          ],
          "scattergl": [
           {
            "marker": {
             "line": {
              "color": "#283442"
             }
            },
            "type": "scattergl"
           }
          ],
          "scattermap": [
           {
            "marker": {
             "colorbar": {
              "outlinewidth": 0,
              "ticks": ""
             }
            },
            "type": "scattermap"
           }
          ],
          "scattermapbox": [
           {
            "marker": {
             "colorbar": {
              "outlinewidth": 0,
              "ticks": ""
             }
            },
            "type": "scattermapbox"
           }
          ],
          "scatterpolar": [
           {
            "marker": {
             "colorbar": {
              "outlinewidth": 0,
              "ticks": ""
             }
            },
            "type": "scatterpolar"
           }
          ],
          "scatterpolargl": [
           {
            "marker": {
             "colorbar": {
              "outlinewidth": 0,
              "ticks": ""
             }
            },
            "type": "scatterpolargl"
           }
          ],
          "scatterternary": [
           {
            "marker": {
             "colorbar": {
              "outlinewidth": 0,
              "ticks": ""
             }
            },
            "type": "scatterternary"
           }
          ],
          "surface": [
           {
            "colorbar": {
             "outlinewidth": 0,
             "ticks": ""
            },
            "colorscale": [
             [
              0,
              "#0d0887"
             ],
             [
              0.1111111111111111,
              "#46039f"
             ],
             [
              0.2222222222222222,
              "#7201a8"
             ],
             [
              0.3333333333333333,
              "#9c179e"
             ],
             [
              0.4444444444444444,
              "#bd3786"
             ],
             [
              0.5555555555555556,
              "#d8576b"
             ],
             [
              0.6666666666666666,
              "#ed7953"
             ],
             [
              0.7777777777777778,
              "#fb9f3a"
             ],
             [
              0.8888888888888888,
              "#fdca26"
             ],
             [
              1,
              "#f0f921"
             ]
            ],
            "type": "surface"
           }
          ],
          "table": [
           {
            "cells": {
             "fill": {
              "color": "#506784"
             },
             "line": {
              "color": "rgb(17,17,17)"
             }
            },
            "header": {
             "fill": {
              "color": "#2a3f5f"
             },
             "line": {
              "color": "rgb(17,17,17)"
             }
            },
            "type": "table"
           }
          ]
         },
         "layout": {
          "annotationdefaults": {
           "arrowcolor": "#f2f5fa",
           "arrowhead": 0,
           "arrowwidth": 1
          },
          "autotypenumbers": "strict",
          "coloraxis": {
           "colorbar": {
            "outlinewidth": 0,
            "ticks": ""
           }
          },
          "colorscale": {
           "diverging": [
            [
             0,
             "#8e0152"
            ],
            [
             0.1,
             "#c51b7d"
            ],
            [
             0.2,
             "#de77ae"
            ],
            [
             0.3,
             "#f1b6da"
            ],
            [
             0.4,
             "#fde0ef"
            ],
            [
             0.5,
             "#f7f7f7"
            ],
            [
             0.6,
             "#e6f5d0"
            ],
            [
             0.7,
             "#b8e186"
            ],
            [
             0.8,
             "#7fbc41"
            ],
            [
             0.9,
             "#4d9221"
            ],
            [
             1,
             "#276419"
            ]
           ],
           "sequential": [
            [
             0,
             "#0d0887"
            ],
            [
             0.1111111111111111,
             "#46039f"
            ],
            [
             0.2222222222222222,
             "#7201a8"
            ],
            [
             0.3333333333333333,
             "#9c179e"
            ],
            [
             0.4444444444444444,
             "#bd3786"
            ],
            [
             0.5555555555555556,
             "#d8576b"
            ],
            [
             0.6666666666666666,
             "#ed7953"
            ],
            [
             0.7777777777777778,
             "#fb9f3a"
            ],
            [
             0.8888888888888888,
             "#fdca26"
            ],
            [
             1,
             "#f0f921"
            ]
           ],
           "sequentialminus": [
            [
             0,
             "#0d0887"
            ],
            [
             0.1111111111111111,
             "#46039f"
            ],
            [
             0.2222222222222222,
             "#7201a8"
            ],
            [
             0.3333333333333333,
             "#9c179e"
            ],
            [
             0.4444444444444444,
             "#bd3786"
            ],
            [
             0.5555555555555556,
             "#d8576b"
            ],
            [
             0.6666666666666666,
             "#ed7953"
            ],
            [
             0.7777777777777778,
             "#fb9f3a"
            ],
            [
             0.8888888888888888,
             "#fdca26"
            ],
            [
             1,
             "#f0f921"
            ]
           ]
          },
          "colorway": [
           "#636efa",
           "#EF553B",
           "#00cc96",
           "#ab63fa",
           "#FFA15A",
           "#19d3f3",
           "#FF6692",
           "#B6E880",
           "#FF97FF",
           "#FECB52"
          ],
          "font": {
           "color": "#f2f5fa"
          },
          "geo": {
           "bgcolor": "rgb(17,17,17)",
           "lakecolor": "rgb(17,17,17)",
           "landcolor": "rgb(17,17,17)",
           "showlakes": true,
           "showland": true,
           "subunitcolor": "#506784"
          },
          "hoverlabel": {
           "align": "left"
          },
          "hovermode": "closest",
          "mapbox": {
           "style": "dark"
          },
          "paper_bgcolor": "rgb(17,17,17)",
          "plot_bgcolor": "rgb(17,17,17)",
          "polar": {
           "angularaxis": {
            "gridcolor": "#506784",
            "linecolor": "#506784",
            "ticks": ""
           },
           "bgcolor": "rgb(17,17,17)",
           "radialaxis": {
            "gridcolor": "#506784",
            "linecolor": "#506784",
            "ticks": ""
           }
          },
          "scene": {
           "xaxis": {
            "backgroundcolor": "rgb(17,17,17)",
            "gridcolor": "#506784",
            "gridwidth": 2,
            "linecolor": "#506784",
            "showbackground": true,
            "ticks": "",
            "zerolinecolor": "#C8D4E3"
           },
           "yaxis": {
            "backgroundcolor": "rgb(17,17,17)",
            "gridcolor": "#506784",
            "gridwidth": 2,
            "linecolor": "#506784",
            "showbackground": true,
            "ticks": "",
            "zerolinecolor": "#C8D4E3"
           },
           "zaxis": {
            "backgroundcolor": "rgb(17,17,17)",
            "gridcolor": "#506784",
            "gridwidth": 2,
            "linecolor": "#506784",
            "showbackground": true,
            "ticks": "",
            "zerolinecolor": "#C8D4E3"
           }
          },
          "shapedefaults": {
           "line": {
            "color": "#f2f5fa"
           }
          },
          "sliderdefaults": {
           "bgcolor": "#C8D4E3",
           "bordercolor": "rgb(17,17,17)",
           "borderwidth": 1,
           "tickwidth": 0
          },
          "ternary": {
           "aaxis": {
            "gridcolor": "#506784",
            "linecolor": "#506784",
            "ticks": ""
           },
           "baxis": {
            "gridcolor": "#506784",
            "linecolor": "#506784",
            "ticks": ""
           },
           "bgcolor": "rgb(17,17,17)",
           "caxis": {
            "gridcolor": "#506784",
            "linecolor": "#506784",
            "ticks": ""
           }
          },
          "title": {
           "x": 0.05
          },
          "updatemenudefaults": {
           "bgcolor": "#506784",
           "borderwidth": 0
          },
          "xaxis": {
           "automargin": true,
           "gridcolor": "#283442",
           "linecolor": "#506784",
           "ticks": "",
           "title": {
            "standoff": 15
           },
           "zerolinecolor": "#283442",
           "zerolinewidth": 2
          },
          "yaxis": {
           "automargin": true,
           "gridcolor": "#283442",
           "linecolor": "#506784",
           "ticks": "",
           "title": {
            "standoff": 15
           },
           "zerolinecolor": "#283442",
           "zerolinewidth": 2
          }
         }
        },
        "title": {
         "text": "YMAX ETF Candlestick Chart"
        },
        "xaxis": {
         "rangeslider": {
          "visible": false
         },
         "title": {
          "text": "Date"
         }
        },
        "yaxis": {
         "title": {
          "text": "Price"
         }
        }
       }
      }
     },
     "metadata": {},
     "output_type": "display_data"
    }
   ],
   "source": [
    "# Convert index to datetime if it's not already\n",
    "YMAX.index = pd.to_datetime(YMAX.index)\n",
    "\n",
    "# Create a Plotly Candlestick Chart\n",
    "fig = go.Figure(data=[\n",
    "    go.Candlestick(\n",
    "        x=YMAX.index,  # X-axis: Date\n",
    "        open=YMAX['Open'], \n",
    "        high=YMAX['High'],\n",
    "        low=YMAX['Low'], \n",
    "        close=YMAX['Price'],\n",
    "        increasing_line_color='green', \n",
    "        decreasing_line_color='red'\n",
    "    )\n",
    "])\n",
    "\n",
    "# Customize Layout\n",
    "fig.update_layout(\n",
    "    title=\"YMAX ETF Candlestick Chart\",\n",
    "    xaxis_title=\"Date\",\n",
    "    yaxis_title=\"Price\",\n",
    "    xaxis_rangeslider_visible=False,  # Hide range slider\n",
    "    template=\"plotly_dark\",  # Optional: dark theme\n",
    ")\n",
    "\n",
    "# Show the interactive chart\n",
    "fig.show()\n"
   ]
  },
  {
   "cell_type": "code",
   "execution_count": 22,
   "metadata": {},
   "outputs": [
    {
     "data": {
      "application/vnd.plotly.v1+json": {
       "config": {
        "plotlyServerURL": "https://plot.ly"
       },
       "data": [
        {
         "close": {
          "bdata": "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",
          "dtype": "f8"
         },
         "decreasing": {
          "line": {
           "color": "red"
          }
         },
         "high": {
          "bdata": "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",
          "dtype": "f8"
         },
         "increasing": {
          "line": {
           "color": "green"
          }
         },
         "low": {
          "bdata": "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",
          "dtype": "f8"
         },
         "open": {
          "bdata": "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",
          "dtype": "f8"
         },
         "type": "candlestick",
         "x": [
          "2025-01-28T00:00:00.000000000",
          "2025-01-27T00:00:00.000000000",
          "2025-01-24T00:00:00.000000000",
          "2025-01-23T00:00:00.000000000",
          "2025-01-22T00:00:00.000000000",
          "2025-01-21T00:00:00.000000000",
          "2025-01-17T00:00:00.000000000",
          "2025-01-16T00:00:00.000000000",
          "2025-01-15T00:00:00.000000000",
          "2025-01-14T00:00:00.000000000",
          "2025-01-13T00:00:00.000000000",
          "2025-01-10T00:00:00.000000000",
          "2025-01-08T00:00:00.000000000",
          "2025-01-07T00:00:00.000000000",
          "2025-01-06T00:00:00.000000000",
          "2025-01-03T00:00:00.000000000",
          "2025-01-02T00:00:00.000000000",
          "2024-12-31T00:00:00.000000000",
          "2024-12-30T00:00:00.000000000",
          "2024-12-27T00:00:00.000000000",
          "2024-12-26T00:00:00.000000000",
          "2024-12-24T00:00:00.000000000",
          "2024-12-23T00:00:00.000000000",
          "2024-12-20T00:00:00.000000000",
          "2024-12-19T00:00:00.000000000",
          "2024-12-18T00:00:00.000000000",
          "2024-12-17T00:00:00.000000000",
          "2024-12-16T00:00:00.000000000",
          "2024-12-13T00:00:00.000000000",
          "2024-12-12T00:00:00.000000000",
          "2024-12-11T00:00:00.000000000",
          "2024-12-10T00:00:00.000000000",
          "2024-12-09T00:00:00.000000000",
          "2024-12-06T00:00:00.000000000",
          "2024-12-05T00:00:00.000000000",
          "2024-12-04T00:00:00.000000000",
          "2024-12-03T00:00:00.000000000",
          "2024-12-02T00:00:00.000000000",
          "2024-11-29T00:00:00.000000000",
          "2024-11-27T00:00:00.000000000",
          "2024-11-26T00:00:00.000000000",
          "2024-11-25T00:00:00.000000000",
          "2024-11-22T00:00:00.000000000",
          "2024-11-21T00:00:00.000000000",
          "2024-11-20T00:00:00.000000000",
          "2024-11-19T00:00:00.000000000",
          "2024-11-18T00:00:00.000000000",
          "2024-11-15T00:00:00.000000000",
          "2024-11-14T00:00:00.000000000",
          "2024-11-13T00:00:00.000000000",
          "2024-11-12T00:00:00.000000000",
          "2024-11-11T00:00:00.000000000",
          "2024-11-08T00:00:00.000000000",
          "2024-11-07T00:00:00.000000000",
          "2024-11-06T00:00:00.000000000",
          "2024-11-05T00:00:00.000000000",
          "2024-11-04T00:00:00.000000000",
          "2024-11-01T00:00:00.000000000",
          "2024-10-31T00:00:00.000000000",
          "2024-10-30T00:00:00.000000000",
          "2024-10-29T00:00:00.000000000",
          "2024-10-28T00:00:00.000000000",
          "2024-10-25T00:00:00.000000000",
          "2024-10-24T00:00:00.000000000",
          "2024-10-23T00:00:00.000000000",
          "2024-10-22T00:00:00.000000000",
          "2024-10-21T00:00:00.000000000",
          "2024-10-18T00:00:00.000000000",
          "2024-10-17T00:00:00.000000000",
          "2024-10-16T00:00:00.000000000",
          "2024-10-15T00:00:00.000000000",
          "2024-10-14T00:00:00.000000000",
          "2024-10-11T00:00:00.000000000",
          "2024-10-10T00:00:00.000000000",
          "2024-10-09T00:00:00.000000000",
          "2024-10-08T00:00:00.000000000",
          "2024-10-07T00:00:00.000000000",
          "2024-10-04T00:00:00.000000000",
          "2024-10-03T00:00:00.000000000",
          "2024-10-02T00:00:00.000000000",
          "2024-10-01T00:00:00.000000000",
          "2024-09-30T00:00:00.000000000",
          "2024-09-27T00:00:00.000000000",
          "2024-09-26T00:00:00.000000000",
          "2024-09-25T00:00:00.000000000",
          "2024-09-24T00:00:00.000000000",
          "2024-09-23T00:00:00.000000000",
          "2024-09-20T00:00:00.000000000",
          "2024-09-19T00:00:00.000000000",
          "2024-09-18T00:00:00.000000000",
          "2024-09-17T00:00:00.000000000",
          "2024-09-16T00:00:00.000000000",
          "2024-09-13T00:00:00.000000000",
          "2024-09-12T00:00:00.000000000",
          "2024-09-11T00:00:00.000000000",
          "2024-09-10T00:00:00.000000000",
          "2024-09-09T00:00:00.000000000",
          "2024-09-06T00:00:00.000000000",
          "2024-09-05T00:00:00.000000000",
          "2024-09-04T00:00:00.000000000",
          "2024-09-03T00:00:00.000000000",
          "2024-08-30T00:00:00.000000000",
          "2024-08-29T00:00:00.000000000",
          "2024-08-28T00:00:00.000000000",
          "2024-08-27T00:00:00.000000000",
          "2024-08-26T00:00:00.000000000",
          "2024-08-23T00:00:00.000000000",
          "2024-08-22T00:00:00.000000000",
          "2024-08-21T00:00:00.000000000",
          "2024-08-20T00:00:00.000000000",
          "2024-08-19T00:00:00.000000000",
          "2024-08-16T00:00:00.000000000",
          "2024-08-15T00:00:00.000000000",
          "2024-08-14T00:00:00.000000000",
          "2024-08-13T00:00:00.000000000",
          "2024-08-12T00:00:00.000000000",
          "2024-08-09T00:00:00.000000000",
          "2024-08-08T00:00:00.000000000",
          "2024-08-07T00:00:00.000000000",
          "2024-08-06T00:00:00.000000000",
          "2024-08-05T00:00:00.000000000",
          "2024-08-02T00:00:00.000000000",
          "2024-08-01T00:00:00.000000000",
          "2024-07-31T00:00:00.000000000",
          "2024-07-30T00:00:00.000000000",
          "2024-07-29T00:00:00.000000000",
          "2024-07-26T00:00:00.000000000",
          "2024-07-25T00:00:00.000000000",
          "2024-07-24T00:00:00.000000000",
          "2024-07-23T00:00:00.000000000",
          "2024-07-22T00:00:00.000000000",
          "2024-07-19T00:00:00.000000000",
          "2024-07-18T00:00:00.000000000",
          "2024-07-17T00:00:00.000000000",
          "2024-07-16T00:00:00.000000000",
          "2024-07-15T00:00:00.000000000",
          "2024-07-12T00:00:00.000000000",
          "2024-07-11T00:00:00.000000000",
          "2024-07-10T00:00:00.000000000",
          "2024-07-09T00:00:00.000000000",
          "2024-07-08T00:00:00.000000000",
          "2024-07-05T00:00:00.000000000",
          "2024-07-03T00:00:00.000000000",
          "2024-07-02T00:00:00.000000000",
          "2024-07-01T00:00:00.000000000",
          "2024-06-28T00:00:00.000000000",
          "2024-06-27T00:00:00.000000000",
          "2024-06-26T00:00:00.000000000",
          "2024-06-25T00:00:00.000000000",
          "2024-06-24T00:00:00.000000000",
          "2024-06-21T00:00:00.000000000",
          "2024-06-20T00:00:00.000000000",
          "2024-06-18T00:00:00.000000000",
          "2024-06-17T00:00:00.000000000",
          "2024-06-14T00:00:00.000000000",
          "2024-06-13T00:00:00.000000000",
          "2024-06-12T00:00:00.000000000",
          "2024-06-11T00:00:00.000000000",
          "2024-06-10T00:00:00.000000000",
          "2024-06-07T00:00:00.000000000",
          "2024-06-06T00:00:00.000000000",
          "2024-06-05T00:00:00.000000000",
          "2024-06-04T00:00:00.000000000",
          "2024-06-03T00:00:00.000000000",
          "2024-05-31T00:00:00.000000000",
          "2024-05-30T00:00:00.000000000",
          "2024-05-29T00:00:00.000000000",
          "2024-05-28T00:00:00.000000000",
          "2024-05-24T00:00:00.000000000",
          "2024-05-23T00:00:00.000000000",
          "2024-05-22T00:00:00.000000000",
          "2024-05-21T00:00:00.000000000",
          "2024-05-20T00:00:00.000000000",
          "2024-05-17T00:00:00.000000000",
          "2024-05-16T00:00:00.000000000",
          "2024-05-15T00:00:00.000000000",
          "2024-05-14T00:00:00.000000000",
          "2024-05-13T00:00:00.000000000",
          "2024-05-10T00:00:00.000000000",
          "2024-05-09T00:00:00.000000000",
          "2024-05-08T00:00:00.000000000",
          "2024-05-07T00:00:00.000000000",
          "2024-05-06T00:00:00.000000000",
          "2024-05-03T00:00:00.000000000",
          "2024-05-02T00:00:00.000000000",
          "2024-05-01T00:00:00.000000000",
          "2024-04-30T00:00:00.000000000",
          "2024-04-29T00:00:00.000000000",
          "2024-04-26T00:00:00.000000000",
          "2024-04-25T00:00:00.000000000",
          "2024-04-24T00:00:00.000000000",
          "2024-04-23T00:00:00.000000000",
          "2024-04-22T00:00:00.000000000",
          "2024-04-19T00:00:00.000000000",
          "2024-04-18T00:00:00.000000000",
          "2024-04-17T00:00:00.000000000",
          "2024-04-16T00:00:00.000000000",
          "2024-04-15T00:00:00.000000000",
          "2024-04-12T00:00:00.000000000",
          "2024-04-11T00:00:00.000000000",
          "2024-04-10T00:00:00.000000000",
          "2024-04-09T00:00:00.000000000",
          "2024-04-08T00:00:00.000000000",
          "2024-04-05T00:00:00.000000000",
          "2024-04-04T00:00:00.000000000",
          "2024-04-03T00:00:00.000000000",
          "2024-04-02T00:00:00.000000000",
          "2024-04-01T00:00:00.000000000",
          "2024-03-28T00:00:00.000000000",
          "2024-03-27T00:00:00.000000000",
          "2024-03-26T00:00:00.000000000",
          "2024-03-25T00:00:00.000000000",
          "2024-03-22T00:00:00.000000000",
          "2024-03-21T00:00:00.000000000",
          "2024-03-20T00:00:00.000000000",
          "2024-03-19T00:00:00.000000000",
          "2024-03-18T00:00:00.000000000",
          "2024-03-15T00:00:00.000000000",
          "2024-03-14T00:00:00.000000000",
          "2024-03-13T00:00:00.000000000",
          "2024-03-12T00:00:00.000000000",
          "2024-03-11T00:00:00.000000000",
          "2024-03-08T00:00:00.000000000",
          "2024-03-07T00:00:00.000000000",
          "2024-03-06T00:00:00.000000000",
          "2024-03-05T00:00:00.000000000",
          "2024-03-04T00:00:00.000000000",
          "2024-03-01T00:00:00.000000000",
          "2024-02-29T00:00:00.000000000",
          "2024-02-28T00:00:00.000000000",
          "2024-02-27T00:00:00.000000000",
          "2024-02-26T00:00:00.000000000",
          "2024-02-23T00:00:00.000000000",
          "2024-02-22T00:00:00.000000000",
          "2024-02-21T00:00:00.000000000",
          "2024-02-20T00:00:00.000000000",
          "2024-02-16T00:00:00.000000000",
          "2024-02-15T00:00:00.000000000",
          "2024-02-14T00:00:00.000000000",
          "2024-02-13T00:00:00.000000000",
          "2024-02-12T00:00:00.000000000",
          "2024-02-09T00:00:00.000000000",
          "2024-02-08T00:00:00.000000000",
          "2024-02-07T00:00:00.000000000",
          "2024-02-06T00:00:00.000000000",
          "2024-02-05T00:00:00.000000000",
          "2024-02-02T00:00:00.000000000",
          "2024-02-01T00:00:00.000000000",
          "2024-01-31T00:00:00.000000000"
         ]
        }
       ],
       "layout": {
        "template": {
         "data": {
          "bar": [
           {
            "error_x": {
             "color": "#f2f5fa"
            },
            "error_y": {
             "color": "#f2f5fa"
            },
            "marker": {
             "line": {
              "color": "rgb(17,17,17)",
              "width": 0.5
             },
             "pattern": {
              "fillmode": "overlay",
              "size": 10,
              "solidity": 0.2
             }
            },
            "type": "bar"
           }
          ],
          "barpolar": [
           {
            "marker": {
             "line": {
              "color": "rgb(17,17,17)",
              "width": 0.5
             },
             "pattern": {
              "fillmode": "overlay",
              "size": 10,
              "solidity": 0.2
             }
            },
            "type": "barpolar"
           }
          ],
          "carpet": [
           {
            "aaxis": {
             "endlinecolor": "#A2B1C6",
             "gridcolor": "#506784",
             "linecolor": "#506784",
             "minorgridcolor": "#506784",
             "startlinecolor": "#A2B1C6"
            },
            "baxis": {
             "endlinecolor": "#A2B1C6",
             "gridcolor": "#506784",
             "linecolor": "#506784",
             "minorgridcolor": "#506784",
             "startlinecolor": "#A2B1C6"
            },
            "type": "carpet"
           }
          ],
          "choropleth": [
           {
            "colorbar": {
             "outlinewidth": 0,
             "ticks": ""
            },
            "type": "choropleth"
           }
          ],
          "contour": [
           {
            "colorbar": {
             "outlinewidth": 0,
             "ticks": ""
            },
            "colorscale": [
             [
              0,
              "#0d0887"
             ],
             [
              0.1111111111111111,
              "#46039f"
             ],
             [
              0.2222222222222222,
              "#7201a8"
             ],
             [
              0.3333333333333333,
              "#9c179e"
             ],
             [
              0.4444444444444444,
              "#bd3786"
             ],
             [
              0.5555555555555556,
              "#d8576b"
             ],
             [
              0.6666666666666666,
              "#ed7953"
             ],
             [
              0.7777777777777778,
              "#fb9f3a"
             ],
             [
              0.8888888888888888,
              "#fdca26"
             ],
             [
              1,
              "#f0f921"
             ]
            ],
            "type": "contour"
           }
          ],
          "contourcarpet": [
           {
            "colorbar": {
             "outlinewidth": 0,
             "ticks": ""
            },
            "type": "contourcarpet"
           }
          ],
          "heatmap": [
           {
            "colorbar": {
             "outlinewidth": 0,
             "ticks": ""
            },
            "colorscale": [
             [
              0,
              "#0d0887"
             ],
             [
              0.1111111111111111,
              "#46039f"
             ],
             [
              0.2222222222222222,
              "#7201a8"
             ],
             [
              0.3333333333333333,
              "#9c179e"
             ],
             [
              0.4444444444444444,
              "#bd3786"
             ],
             [
              0.5555555555555556,
              "#d8576b"
             ],
             [
              0.6666666666666666,
              "#ed7953"
             ],
             [
              0.7777777777777778,
              "#fb9f3a"
             ],
             [
              0.8888888888888888,
              "#fdca26"
             ],
             [
              1,
              "#f0f921"
             ]
            ],
            "type": "heatmap"
           }
          ],
          "histogram": [
           {
            "marker": {
             "pattern": {
              "fillmode": "overlay",
              "size": 10,
              "solidity": 0.2
             }
            },
            "type": "histogram"
           }
          ],
          "histogram2d": [
           {
            "colorbar": {
             "outlinewidth": 0,
             "ticks": ""
            },
            "colorscale": [
             [
              0,
              "#0d0887"
             ],
             [
              0.1111111111111111,
              "#46039f"
             ],
             [
              0.2222222222222222,
              "#7201a8"
             ],
             [
              0.3333333333333333,
              "#9c179e"
             ],
             [
              0.4444444444444444,
              "#bd3786"
             ],
             [
              0.5555555555555556,
              "#d8576b"
             ],
             [
              0.6666666666666666,
              "#ed7953"
             ],
             [
              0.7777777777777778,
              "#fb9f3a"
             ],
             [
              0.8888888888888888,
              "#fdca26"
             ],
             [
              1,
              "#f0f921"
             ]
            ],
            "type": "histogram2d"
           }
          ],
          "histogram2dcontour": [
           {
            "colorbar": {
             "outlinewidth": 0,
             "ticks": ""
            },
            "colorscale": [
             [
              0,
              "#0d0887"
             ],
             [
              0.1111111111111111,
              "#46039f"
             ],
             [
              0.2222222222222222,
              "#7201a8"
             ],
             [
              0.3333333333333333,
              "#9c179e"
             ],
             [
              0.4444444444444444,
              "#bd3786"
             ],
             [
              0.5555555555555556,
              "#d8576b"
             ],
             [
              0.6666666666666666,
              "#ed7953"
             ],
             [
              0.7777777777777778,
              "#fb9f3a"
             ],
             [
              0.8888888888888888,
              "#fdca26"
             ],
             [
              1,
              "#f0f921"
             ]
            ],
            "type": "histogram2dcontour"
           }
          ],
          "mesh3d": [
           {
            "colorbar": {
             "outlinewidth": 0,
             "ticks": ""
            },
            "type": "mesh3d"
           }
          ],
          "parcoords": [
           {
            "line": {
             "colorbar": {
              "outlinewidth": 0,
              "ticks": ""
             }
            },
            "type": "parcoords"
           }
          ],
          "pie": [
           {
            "automargin": true,
            "type": "pie"
           }
          ],
          "scatter": [
           {
            "marker": {
             "line": {
              "color": "#283442"
             }
            },
            "type": "scatter"
           }
          ],
          "scatter3d": [
           {
            "line": {
             "colorbar": {
              "outlinewidth": 0,
              "ticks": ""
             }
            },
            "marker": {
             "colorbar": {
              "outlinewidth": 0,
              "ticks": ""
             }
            },
            "type": "scatter3d"
           }
          ],
          "scattercarpet": [
           {
            "marker": {
             "colorbar": {
              "outlinewidth": 0,
              "ticks": ""
             }
            },
            "type": "scattercarpet"
           }
          ],
          "scattergeo": [
           {
            "marker": {
             "colorbar": {
              "outlinewidth": 0,
              "ticks": ""
             }
            },
            "type": "scattergeo"
           }
          ],
          "scattergl": [
           {
            "marker": {
             "line": {
              "color": "#283442"
             }
            },
            "type": "scattergl"
           }
          ],
          "scattermap": [
           {
            "marker": {
             "colorbar": {
              "outlinewidth": 0,
              "ticks": ""
             }
            },
            "type": "scattermap"
           }
          ],
          "scattermapbox": [
           {
            "marker": {
             "colorbar": {
              "outlinewidth": 0,
              "ticks": ""
             }
            },
            "type": "scattermapbox"
           }
          ],
          "scatterpolar": [
           {
            "marker": {
             "colorbar": {
              "outlinewidth": 0,
              "ticks": ""
             }
            },
            "type": "scatterpolar"
           }
          ],
          "scatterpolargl": [
           {
            "marker": {
             "colorbar": {
              "outlinewidth": 0,
              "ticks": ""
             }
            },
            "type": "scatterpolargl"
           }
          ],
          "scatterternary": [
           {
            "marker": {
             "colorbar": {
              "outlinewidth": 0,
              "ticks": ""
             }
            },
            "type": "scatterternary"
           }
          ],
          "surface": [
           {
            "colorbar": {
             "outlinewidth": 0,
             "ticks": ""
            },
            "colorscale": [
             [
              0,
              "#0d0887"
             ],
             [
              0.1111111111111111,
              "#46039f"
             ],
             [
              0.2222222222222222,
              "#7201a8"
             ],
             [
              0.3333333333333333,
              "#9c179e"
             ],
             [
              0.4444444444444444,
              "#bd3786"
             ],
             [
              0.5555555555555556,
              "#d8576b"
             ],
             [
              0.6666666666666666,
              "#ed7953"
             ],
             [
              0.7777777777777778,
              "#fb9f3a"
             ],
             [
              0.8888888888888888,
              "#fdca26"
             ],
             [
              1,
              "#f0f921"
             ]
            ],
            "type": "surface"
           }
          ],
          "table": [
           {
            "cells": {
             "fill": {
              "color": "#506784"
             },
             "line": {
              "color": "rgb(17,17,17)"
             }
            },
            "header": {
             "fill": {
              "color": "#2a3f5f"
             },
             "line": {
              "color": "rgb(17,17,17)"
             }
            },
            "type": "table"
           }
          ]
         },
         "layout": {
          "annotationdefaults": {
           "arrowcolor": "#f2f5fa",
           "arrowhead": 0,
           "arrowwidth": 1
          },
          "autotypenumbers": "strict",
          "coloraxis": {
           "colorbar": {
            "outlinewidth": 0,
            "ticks": ""
           }
          },
          "colorscale": {
           "diverging": [
            [
             0,
             "#8e0152"
            ],
            [
             0.1,
             "#c51b7d"
            ],
            [
             0.2,
             "#de77ae"
            ],
            [
             0.3,
             "#f1b6da"
            ],
            [
             0.4,
             "#fde0ef"
            ],
            [
             0.5,
             "#f7f7f7"
            ],
            [
             0.6,
             "#e6f5d0"
            ],
            [
             0.7,
             "#b8e186"
            ],
            [
             0.8,
             "#7fbc41"
            ],
            [
             0.9,
             "#4d9221"
            ],
            [
             1,
             "#276419"
            ]
           ],
           "sequential": [
            [
             0,
             "#0d0887"
            ],
            [
             0.1111111111111111,
             "#46039f"
            ],
            [
             0.2222222222222222,
             "#7201a8"
            ],
            [
             0.3333333333333333,
             "#9c179e"
            ],
            [
             0.4444444444444444,
             "#bd3786"
            ],
            [
             0.5555555555555556,
             "#d8576b"
            ],
            [
             0.6666666666666666,
             "#ed7953"
            ],
            [
             0.7777777777777778,
             "#fb9f3a"
            ],
            [
             0.8888888888888888,
             "#fdca26"
            ],
            [
             1,
             "#f0f921"
            ]
           ],
           "sequentialminus": [
            [
             0,
             "#0d0887"
            ],
            [
             0.1111111111111111,
             "#46039f"
            ],
            [
             0.2222222222222222,
             "#7201a8"
            ],
            [
             0.3333333333333333,
             "#9c179e"
            ],
            [
             0.4444444444444444,
             "#bd3786"
            ],
            [
             0.5555555555555556,
             "#d8576b"
            ],
            [
             0.6666666666666666,
             "#ed7953"
            ],
            [
             0.7777777777777778,
             "#fb9f3a"
            ],
            [
             0.8888888888888888,
             "#fdca26"
            ],
            [
             1,
             "#f0f921"
            ]
           ]
          },
          "colorway": [
           "#636efa",
           "#EF553B",
           "#00cc96",
           "#ab63fa",
           "#FFA15A",
           "#19d3f3",
           "#FF6692",
           "#B6E880",
           "#FF97FF",
           "#FECB52"
          ],
          "font": {
           "color": "#f2f5fa"
          },
          "geo": {
           "bgcolor": "rgb(17,17,17)",
           "lakecolor": "rgb(17,17,17)",
           "landcolor": "rgb(17,17,17)",
           "showlakes": true,
           "showland": true,
           "subunitcolor": "#506784"
          },
          "hoverlabel": {
           "align": "left"
          },
          "hovermode": "closest",
          "mapbox": {
           "style": "dark"
          },
          "paper_bgcolor": "rgb(17,17,17)",
          "plot_bgcolor": "rgb(17,17,17)",
          "polar": {
           "angularaxis": {
            "gridcolor": "#506784",
            "linecolor": "#506784",
            "ticks": ""
           },
           "bgcolor": "rgb(17,17,17)",
           "radialaxis": {
            "gridcolor": "#506784",
            "linecolor": "#506784",
            "ticks": ""
           }
          },
          "scene": {
           "xaxis": {
            "backgroundcolor": "rgb(17,17,17)",
            "gridcolor": "#506784",
            "gridwidth": 2,
            "linecolor": "#506784",
            "showbackground": true,
            "ticks": "",
            "zerolinecolor": "#C8D4E3"
           },
           "yaxis": {
            "backgroundcolor": "rgb(17,17,17)",
            "gridcolor": "#506784",
            "gridwidth": 2,
            "linecolor": "#506784",
            "showbackground": true,
            "ticks": "",
            "zerolinecolor": "#C8D4E3"
           },
           "zaxis": {
            "backgroundcolor": "rgb(17,17,17)",
            "gridcolor": "#506784",
            "gridwidth": 2,
            "linecolor": "#506784",
            "showbackground": true,
            "ticks": "",
            "zerolinecolor": "#C8D4E3"
           }
          },
          "shapedefaults": {
           "line": {
            "color": "#f2f5fa"
           }
          },
          "sliderdefaults": {
           "bgcolor": "#C8D4E3",
           "bordercolor": "rgb(17,17,17)",
           "borderwidth": 1,
           "tickwidth": 0
          },
          "ternary": {
           "aaxis": {
            "gridcolor": "#506784",
            "linecolor": "#506784",
            "ticks": ""
           },
           "baxis": {
            "gridcolor": "#506784",
            "linecolor": "#506784",
            "ticks": ""
           },
           "bgcolor": "rgb(17,17,17)",
           "caxis": {
            "gridcolor": "#506784",
            "linecolor": "#506784",
            "ticks": ""
           }
          },
          "title": {
           "x": 0.05
          },
          "updatemenudefaults": {
           "bgcolor": "#506784",
           "borderwidth": 0
          },
          "xaxis": {
           "automargin": true,
           "gridcolor": "#283442",
           "linecolor": "#506784",
           "ticks": "",
           "title": {
            "standoff": 15
           },
           "zerolinecolor": "#283442",
           "zerolinewidth": 2
          },
          "yaxis": {
           "automargin": true,
           "gridcolor": "#283442",
           "linecolor": "#506784",
           "ticks": "",
           "title": {
            "standoff": 15
           },
           "zerolinecolor": "#283442",
           "zerolinewidth": 2
          }
         }
        },
        "title": {
         "text": "YMAG ETF Candlestick Chart"
        },
        "xaxis": {
         "rangeslider": {
          "visible": false
         },
         "title": {
          "text": "Date"
         }
        },
        "yaxis": {
         "title": {
          "text": "Price"
         }
        }
       }
      }
     },
     "metadata": {},
     "output_type": "display_data"
    }
   ],
   "source": [
    "# Convert index to datetime if it's not already\n",
    "YMAG.index = pd.to_datetime(YMAG.index)\n",
    "\n",
    "# Create a Plotly Candlestick Chart\n",
    "fig = go.Figure(data=[\n",
    "    go.Candlestick(\n",
    "        x=YMAG.index,  # X-axis: Date\n",
    "        open=YMAG['Open'], \n",
    "        high=YMAG['High'],\n",
    "        low=YMAG['Low'], \n",
    "        close=YMAG['Price'],\n",
    "        increasing_line_color='green', \n",
    "        decreasing_line_color='red'\n",
    "    )\n",
    "])\n",
    "\n",
    "# Customize Layout\n",
    "fig.update_layout(\n",
    "    title=\"YMAG ETF Candlestick Chart\",\n",
    "    xaxis_title=\"Date\",\n",
    "    yaxis_title=\"Price\",\n",
    "    xaxis_rangeslider_visible=False,  # Hide range slider\n",
    "    template=\"plotly_dark\",  # Optional: dark theme\n",
    ")\n",
    "\n",
    "# Show the interactive chart\n",
    "fig.show()\n"
   ]
  },
  {
   "cell_type": "code",
   "execution_count": 23,
   "metadata": {},
   "outputs": [
    {
     "data": {
      "text/html": [
       "<div>\n",
       "<style scoped>\n",
       "    .dataframe tbody tr th:only-of-type {\n",
       "        vertical-align: middle;\n",
       "    }\n",
       "\n",
       "    .dataframe tbody tr th {\n",
       "        vertical-align: top;\n",
       "    }\n",
       "\n",
       "    .dataframe thead th {\n",
       "        text-align: right;\n",
       "    }\n",
       "</style>\n",
       "<table border=\"1\" class=\"dataframe\">\n",
       "  <thead>\n",
       "    <tr style=\"text-align: right;\">\n",
       "      <th></th>\n",
       "      <th>YMAX</th>\n",
       "      <th>Date</th>\n",
       "      <th>YMAG</th>\n",
       "    </tr>\n",
       "    <tr>\n",
       "      <th>Date</th>\n",
       "      <th></th>\n",
       "      <th></th>\n",
       "      <th></th>\n",
       "    </tr>\n",
       "  </thead>\n",
       "  <tbody>\n",
       "    <tr>\n",
       "      <th>2025-01-28</th>\n",
       "      <td>16.72</td>\n",
       "      <td>20116.0</td>\n",
       "      <td>18.81</td>\n",
       "    </tr>\n",
       "    <tr>\n",
       "      <th>2025-01-27</th>\n",
       "      <td>16.40</td>\n",
       "      <td>20115.0</td>\n",
       "      <td>18.39</td>\n",
       "    </tr>\n",
       "    <tr>\n",
       "      <th>2025-01-24</th>\n",
       "      <td>16.89</td>\n",
       "      <td>20112.0</td>\n",
       "      <td>18.93</td>\n",
       "    </tr>\n",
       "    <tr>\n",
       "      <th>2025-01-23</th>\n",
       "      <td>16.96</td>\n",
       "      <td>20111.0</td>\n",
       "      <td>18.94</td>\n",
       "    </tr>\n",
       "    <tr>\n",
       "      <th>2025-01-22</th>\n",
       "      <td>17.03</td>\n",
       "      <td>20110.0</td>\n",
       "      <td>19.06</td>\n",
       "    </tr>\n",
       "    <tr>\n",
       "      <th>...</th>\n",
       "      <td>...</td>\n",
       "      <td>...</td>\n",
       "      <td>...</td>\n",
       "    </tr>\n",
       "    <tr>\n",
       "      <th>2024-02-06</th>\n",
       "      <td>20.61</td>\n",
       "      <td>19759.0</td>\n",
       "      <td>20.20</td>\n",
       "    </tr>\n",
       "    <tr>\n",
       "      <th>2024-02-05</th>\n",
       "      <td>20.44</td>\n",
       "      <td>19758.0</td>\n",
       "      <td>20.19</td>\n",
       "    </tr>\n",
       "    <tr>\n",
       "      <th>2024-02-02</th>\n",
       "      <td>20.70</td>\n",
       "      <td>19755.0</td>\n",
       "      <td>20.30</td>\n",
       "    </tr>\n",
       "    <tr>\n",
       "      <th>2024-02-01</th>\n",
       "      <td>20.39</td>\n",
       "      <td>19754.0</td>\n",
       "      <td>19.75</td>\n",
       "    </tr>\n",
       "    <tr>\n",
       "      <th>2024-01-31</th>\n",
       "      <td>20.20</td>\n",
       "      <td>19753.0</td>\n",
       "      <td>19.49</td>\n",
       "    </tr>\n",
       "  </tbody>\n",
       "</table>\n",
       "<p>249 rows × 3 columns</p>\n",
       "</div>"
      ],
      "text/plain": [
       "             YMAX     Date   YMAG\n",
       "Date                             \n",
       "2025-01-28  16.72  20116.0  18.81\n",
       "2025-01-27  16.40  20115.0  18.39\n",
       "2025-01-24  16.89  20112.0  18.93\n",
       "2025-01-23  16.96  20111.0  18.94\n",
       "2025-01-22  17.03  20110.0  19.06\n",
       "...           ...      ...    ...\n",
       "2024-02-06  20.61  19759.0  20.20\n",
       "2024-02-05  20.44  19758.0  20.19\n",
       "2024-02-02  20.70  19755.0  20.30\n",
       "2024-02-01  20.39  19754.0  19.75\n",
       "2024-01-31  20.20  19753.0  19.49\n",
       "\n",
       "[249 rows x 3 columns]"
      ]
     },
     "execution_count": 23,
     "metadata": {},
     "output_type": "execute_result"
    }
   ],
   "source": [
    "# Drop Open high low columns and rename Price to YMAX in YMAX Dataframe\n",
    "YMAX = YMAX.drop(columns=['Open', 'High', 'Low']).rename(columns={'Price': 'YMAX'})\n",
    "\n",
    "# Drop Open high low columns and rename Price to YMAG in YMAG Dataframe\n",
    "YMAG = YMAG.drop(columns=['Open', 'High', 'Low']).rename(columns={'Price': 'YMAG'})\n",
    "\n",
    "# Merge Both Dataframes on the Date Index\n",
    "merged_df = pd.merge(YMAX, YMAG, left_index=True, right_index=True, how='inner')\n",
    "\n",
    "merged_df"
   ]
  },
  {
   "cell_type": "code",
   "execution_count": null,
   "metadata": {},
   "outputs": [],
   "source": []
  },
  {
   "cell_type": "code",
   "execution_count": null,
   "metadata": {},
   "outputs": [],
   "source": []
  }
 ],
 "metadata": {
  "kernelspec": {
   "display_name": "Python 3",
   "language": "python",
   "name": "python3"
  },
  "language_info": {
   "codemirror_mode": {
    "name": "ipython",
    "version": 3
   },
   "file_extension": ".py",
   "mimetype": "text/x-python",
   "name": "python",
   "nbconvert_exporter": "python",
   "pygments_lexer": "ipython3",
   "version": "3.12.3"
  }
 },
 "nbformat": 4,
 "nbformat_minor": 2
}
