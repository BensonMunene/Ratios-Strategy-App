{
 "cells": [
  {
   "cell_type": "code",
   "execution_count": 134,
   "metadata": {},
   "outputs": [],
   "source": [
    "import pandas as pd\n",
    "import os\n",
    "import matplotlib.pyplot as plt\n",
    "from mplfinance.original_flavor import candlestick_ohlc\n",
    "import matplotlib.dates as mdates\n",
    "import plotly.graph_objects as go\n",
    "import yfinance as yf\n"
   ]
  },
  {
   "cell_type": "code",
   "execution_count": 135,
   "metadata": {},
   "outputs": [],
   "source": [
    "# Set the working directory\n",
    "os.chdir(r\"D:\\Benson\\aUpWork\\Douglas Backtester Algo\\Backtester Algorithm\\Data\")"
   ]
  },
  {
   "cell_type": "code",
   "execution_count": 136,
   "metadata": {},
   "outputs": [
    {
     "data": {
      "text/html": [
       "<div>\n",
       "<style scoped>\n",
       "    .dataframe tbody tr th:only-of-type {\n",
       "        vertical-align: middle;\n",
       "    }\n",
       "\n",
       "    .dataframe tbody tr th {\n",
       "        vertical-align: top;\n",
       "    }\n",
       "\n",
       "    .dataframe thead th {\n",
       "        text-align: right;\n",
       "    }\n",
       "</style>\n",
       "<table border=\"1\" class=\"dataframe\">\n",
       "  <thead>\n",
       "    <tr style=\"text-align: right;\">\n",
       "      <th></th>\n",
       "      <th>Date</th>\n",
       "      <th>Price</th>\n",
       "      <th>Open</th>\n",
       "      <th>High</th>\n",
       "      <th>Low</th>\n",
       "      <th>Vol.</th>\n",
       "      <th>Change %</th>\n",
       "    </tr>\n",
       "  </thead>\n",
       "  <tbody>\n",
       "    <tr>\n",
       "      <th>0</th>\n",
       "      <td>01/28/2025</td>\n",
       "      <td>16.72</td>\n",
       "      <td>16.57</td>\n",
       "      <td>16.73</td>\n",
       "      <td>16.33</td>\n",
       "      <td>950.74K</td>\n",
       "      <td>1.95%</td>\n",
       "    </tr>\n",
       "    <tr>\n",
       "      <th>1</th>\n",
       "      <td>01/27/2025</td>\n",
       "      <td>16.40</td>\n",
       "      <td>16.44</td>\n",
       "      <td>16.62</td>\n",
       "      <td>16.23</td>\n",
       "      <td>2.56M</td>\n",
       "      <td>-2.90%</td>\n",
       "    </tr>\n",
       "    <tr>\n",
       "      <th>2</th>\n",
       "      <td>01/24/2025</td>\n",
       "      <td>16.89</td>\n",
       "      <td>17.00</td>\n",
       "      <td>17.08</td>\n",
       "      <td>16.86</td>\n",
       "      <td>1.39M</td>\n",
       "      <td>-0.41%</td>\n",
       "    </tr>\n",
       "    <tr>\n",
       "      <th>3</th>\n",
       "      <td>01/23/2025</td>\n",
       "      <td>16.96</td>\n",
       "      <td>16.80</td>\n",
       "      <td>16.97</td>\n",
       "      <td>16.77</td>\n",
       "      <td>1.03M</td>\n",
       "      <td>-0.41%</td>\n",
       "    </tr>\n",
       "    <tr>\n",
       "      <th>4</th>\n",
       "      <td>01/22/2025</td>\n",
       "      <td>17.03</td>\n",
       "      <td>17.04</td>\n",
       "      <td>17.09</td>\n",
       "      <td>16.97</td>\n",
       "      <td>1.47M</td>\n",
       "      <td>0.89%</td>\n",
       "    </tr>\n",
       "  </tbody>\n",
       "</table>\n",
       "</div>"
      ],
      "text/plain": [
       "         Date  Price   Open   High    Low     Vol. Change %\n",
       "0  01/28/2025  16.72  16.57  16.73  16.33  950.74K    1.95%\n",
       "1  01/27/2025  16.40  16.44  16.62  16.23    2.56M   -2.90%\n",
       "2  01/24/2025  16.89  17.00  17.08  16.86    1.39M   -0.41%\n",
       "3  01/23/2025  16.96  16.80  16.97  16.77    1.03M   -0.41%\n",
       "4  01/22/2025  17.03  17.04  17.09  16.97    1.47M    0.89%"
      ]
     },
     "execution_count": 136,
     "metadata": {},
     "output_type": "execute_result"
    }
   ],
   "source": [
    "# Load the CSV file\n",
    "file_path = r\"YMAX ETF Stock Price History.csv\"\n",
    "YMAX = pd.read_csv(file_path)\n",
    "\n",
    "# Display the first few rows\n",
    "YMAX.head()\n"
   ]
  },
  {
   "cell_type": "code",
   "execution_count": 137,
   "metadata": {},
   "outputs": [
    {
     "data": {
      "text/html": [
       "<div>\n",
       "<style scoped>\n",
       "    .dataframe tbody tr th:only-of-type {\n",
       "        vertical-align: middle;\n",
       "    }\n",
       "\n",
       "    .dataframe tbody tr th {\n",
       "        vertical-align: top;\n",
       "    }\n",
       "\n",
       "    .dataframe thead th {\n",
       "        text-align: right;\n",
       "    }\n",
       "</style>\n",
       "<table border=\"1\" class=\"dataframe\">\n",
       "  <thead>\n",
       "    <tr style=\"text-align: right;\">\n",
       "      <th></th>\n",
       "      <th>Date</th>\n",
       "      <th>Price</th>\n",
       "      <th>Open</th>\n",
       "      <th>High</th>\n",
       "      <th>Low</th>\n",
       "      <th>Vol.</th>\n",
       "      <th>Change %</th>\n",
       "    </tr>\n",
       "  </thead>\n",
       "  <tbody>\n",
       "    <tr>\n",
       "      <th>0</th>\n",
       "      <td>01/28/2025</td>\n",
       "      <td>18.81</td>\n",
       "      <td>18.48</td>\n",
       "      <td>18.83</td>\n",
       "      <td>18.35</td>\n",
       "      <td>933.82K</td>\n",
       "      <td>2.28%</td>\n",
       "    </tr>\n",
       "    <tr>\n",
       "      <th>1</th>\n",
       "      <td>01/27/2025</td>\n",
       "      <td>18.39</td>\n",
       "      <td>18.27</td>\n",
       "      <td>18.53</td>\n",
       "      <td>18.18</td>\n",
       "      <td>1.25M</td>\n",
       "      <td>-2.85%</td>\n",
       "    </tr>\n",
       "    <tr>\n",
       "      <th>2</th>\n",
       "      <td>01/24/2025</td>\n",
       "      <td>18.93</td>\n",
       "      <td>19.00</td>\n",
       "      <td>19.07</td>\n",
       "      <td>18.83</td>\n",
       "      <td>848.88K</td>\n",
       "      <td>-0.05%</td>\n",
       "    </tr>\n",
       "    <tr>\n",
       "      <th>3</th>\n",
       "      <td>01/23/2025</td>\n",
       "      <td>18.94</td>\n",
       "      <td>18.94</td>\n",
       "      <td>18.97</td>\n",
       "      <td>18.85</td>\n",
       "      <td>585.19K</td>\n",
       "      <td>-0.63%</td>\n",
       "    </tr>\n",
       "    <tr>\n",
       "      <th>4</th>\n",
       "      <td>01/22/2025</td>\n",
       "      <td>19.06</td>\n",
       "      <td>18.94</td>\n",
       "      <td>19.09</td>\n",
       "      <td>18.90</td>\n",
       "      <td>622.02K</td>\n",
       "      <td>0.85%</td>\n",
       "    </tr>\n",
       "  </tbody>\n",
       "</table>\n",
       "</div>"
      ],
      "text/plain": [
       "         Date  Price   Open   High    Low     Vol. Change %\n",
       "0  01/28/2025  18.81  18.48  18.83  18.35  933.82K    2.28%\n",
       "1  01/27/2025  18.39  18.27  18.53  18.18    1.25M   -2.85%\n",
       "2  01/24/2025  18.93  19.00  19.07  18.83  848.88K   -0.05%\n",
       "3  01/23/2025  18.94  18.94  18.97  18.85  585.19K   -0.63%\n",
       "4  01/22/2025  19.06  18.94  19.09  18.90  622.02K    0.85%"
      ]
     },
     "execution_count": 137,
     "metadata": {},
     "output_type": "execute_result"
    }
   ],
   "source": [
    "# Load the CSV file\n",
    "file_path = r\"YMAG ETF Stock Price History.csv\"\n",
    "YMAG = pd.read_csv(file_path)\n",
    "\n",
    "# Display the first few rows\n",
    "YMAG.head()\n"
   ]
  },
  {
   "cell_type": "code",
   "execution_count": 138,
   "metadata": {},
   "outputs": [],
   "source": [
    "#Convert dates to their right format in both YMAX and YMAG DataFrames\n",
    "YMAG['Date'] = pd.to_datetime(YMAG['Date'])\n",
    "YMAX['Date'] = pd.to_datetime(YMAX['Date'])\n",
    "YMAX = YMAX.set_index('Date')\n",
    "YMAG = YMAG.set_index('Date')\n"
   ]
  },
  {
   "cell_type": "code",
   "execution_count": 139,
   "metadata": {},
   "outputs": [],
   "source": [
    "# Drop columns Vol and Change in both YMAX and YMAG DataFrames\n",
    "YMAX = YMAX.drop(columns=['Vol.', 'Change %'])\n",
    "YMAG = YMAG.drop(columns=['Vol.', 'Change %'])"
   ]
  },
  {
   "cell_type": "code",
   "execution_count": 140,
   "metadata": {},
   "outputs": [
    {
     "data": {
      "text/html": [
       "<div>\n",
       "<style scoped>\n",
       "    .dataframe tbody tr th:only-of-type {\n",
       "        vertical-align: middle;\n",
       "    }\n",
       "\n",
       "    .dataframe tbody tr th {\n",
       "        vertical-align: top;\n",
       "    }\n",
       "\n",
       "    .dataframe thead th {\n",
       "        text-align: right;\n",
       "    }\n",
       "</style>\n",
       "<table border=\"1\" class=\"dataframe\">\n",
       "  <thead>\n",
       "    <tr style=\"text-align: right;\">\n",
       "      <th></th>\n",
       "      <th>Price</th>\n",
       "      <th>Open</th>\n",
       "      <th>High</th>\n",
       "      <th>Low</th>\n",
       "    </tr>\n",
       "    <tr>\n",
       "      <th>Date</th>\n",
       "      <th></th>\n",
       "      <th></th>\n",
       "      <th></th>\n",
       "      <th></th>\n",
       "    </tr>\n",
       "  </thead>\n",
       "  <tbody>\n",
       "    <tr>\n",
       "      <th>2025-01-28</th>\n",
       "      <td>16.72</td>\n",
       "      <td>16.57</td>\n",
       "      <td>16.73</td>\n",
       "      <td>16.33</td>\n",
       "    </tr>\n",
       "    <tr>\n",
       "      <th>2025-01-27</th>\n",
       "      <td>16.40</td>\n",
       "      <td>16.44</td>\n",
       "      <td>16.62</td>\n",
       "      <td>16.23</td>\n",
       "    </tr>\n",
       "    <tr>\n",
       "      <th>2025-01-24</th>\n",
       "      <td>16.89</td>\n",
       "      <td>17.00</td>\n",
       "      <td>17.08</td>\n",
       "      <td>16.86</td>\n",
       "    </tr>\n",
       "    <tr>\n",
       "      <th>2025-01-23</th>\n",
       "      <td>16.96</td>\n",
       "      <td>16.80</td>\n",
       "      <td>16.97</td>\n",
       "      <td>16.77</td>\n",
       "    </tr>\n",
       "    <tr>\n",
       "      <th>2025-01-22</th>\n",
       "      <td>17.03</td>\n",
       "      <td>17.04</td>\n",
       "      <td>17.09</td>\n",
       "      <td>16.97</td>\n",
       "    </tr>\n",
       "  </tbody>\n",
       "</table>\n",
       "</div>"
      ],
      "text/plain": [
       "            Price   Open   High    Low\n",
       "Date                                  \n",
       "2025-01-28  16.72  16.57  16.73  16.33\n",
       "2025-01-27  16.40  16.44  16.62  16.23\n",
       "2025-01-24  16.89  17.00  17.08  16.86\n",
       "2025-01-23  16.96  16.80  16.97  16.77\n",
       "2025-01-22  17.03  17.04  17.09  16.97"
      ]
     },
     "execution_count": 140,
     "metadata": {},
     "output_type": "execute_result"
    }
   ],
   "source": [
    "#View the first few rows of the YMAX DataFrame\n",
    "YMAX.head()"
   ]
  },
  {
   "cell_type": "code",
   "execution_count": 141,
   "metadata": {},
   "outputs": [
    {
     "data": {
      "text/html": [
       "<div>\n",
       "<style scoped>\n",
       "    .dataframe tbody tr th:only-of-type {\n",
       "        vertical-align: middle;\n",
       "    }\n",
       "\n",
       "    .dataframe tbody tr th {\n",
       "        vertical-align: top;\n",
       "    }\n",
       "\n",
       "    .dataframe thead th {\n",
       "        text-align: right;\n",
       "    }\n",
       "</style>\n",
       "<table border=\"1\" class=\"dataframe\">\n",
       "  <thead>\n",
       "    <tr style=\"text-align: right;\">\n",
       "      <th></th>\n",
       "      <th>Price</th>\n",
       "      <th>Open</th>\n",
       "      <th>High</th>\n",
       "      <th>Low</th>\n",
       "    </tr>\n",
       "    <tr>\n",
       "      <th>Date</th>\n",
       "      <th></th>\n",
       "      <th></th>\n",
       "      <th></th>\n",
       "      <th></th>\n",
       "    </tr>\n",
       "  </thead>\n",
       "  <tbody>\n",
       "    <tr>\n",
       "      <th>2025-01-28</th>\n",
       "      <td>18.81</td>\n",
       "      <td>18.48</td>\n",
       "      <td>18.83</td>\n",
       "      <td>18.35</td>\n",
       "    </tr>\n",
       "    <tr>\n",
       "      <th>2025-01-27</th>\n",
       "      <td>18.39</td>\n",
       "      <td>18.27</td>\n",
       "      <td>18.53</td>\n",
       "      <td>18.18</td>\n",
       "    </tr>\n",
       "    <tr>\n",
       "      <th>2025-01-24</th>\n",
       "      <td>18.93</td>\n",
       "      <td>19.00</td>\n",
       "      <td>19.07</td>\n",
       "      <td>18.83</td>\n",
       "    </tr>\n",
       "    <tr>\n",
       "      <th>2025-01-23</th>\n",
       "      <td>18.94</td>\n",
       "      <td>18.94</td>\n",
       "      <td>18.97</td>\n",
       "      <td>18.85</td>\n",
       "    </tr>\n",
       "    <tr>\n",
       "      <th>2025-01-22</th>\n",
       "      <td>19.06</td>\n",
       "      <td>18.94</td>\n",
       "      <td>19.09</td>\n",
       "      <td>18.90</td>\n",
       "    </tr>\n",
       "  </tbody>\n",
       "</table>\n",
       "</div>"
      ],
      "text/plain": [
       "            Price   Open   High    Low\n",
       "Date                                  \n",
       "2025-01-28  18.81  18.48  18.83  18.35\n",
       "2025-01-27  18.39  18.27  18.53  18.18\n",
       "2025-01-24  18.93  19.00  19.07  18.83\n",
       "2025-01-23  18.94  18.94  18.97  18.85\n",
       "2025-01-22  19.06  18.94  19.09  18.90"
      ]
     },
     "execution_count": 141,
     "metadata": {},
     "output_type": "execute_result"
    }
   ],
   "source": [
    "#View the first few rows of the YMAG DataFrame\n",
    "YMAG.head()"
   ]
  },
  {
   "cell_type": "code",
   "execution_count": 142,
   "metadata": {},
   "outputs": [
    {
     "data": {
      "image/png": "[encoded data removed]",
      "text/plain": [
       "<Figure size 1200x600 with 1 Axes>"
      ]
     },
     "metadata": {},
     "output_type": "display_data"
    }
   ],
   "source": [
    "# Convert Date index to datetime format\n",
    "YMAX.index = pd.to_datetime(YMAX.index)\n",
    "\n",
    "# Convert dates to numerical format for matplotlib\n",
    "YMAX['Date'] = YMAX.index.map(mdates.date2num)\n",
    "\n",
    "# Select required columns for candlestick_ohlc\n",
    "ohlc = YMAX[['Date', 'Open', 'High', 'Low', 'Price']].copy()\n",
    "\n",
    "# Create the figure and axis\n",
    "fig, ax = plt.subplots(figsize=(12, 6))\n",
    "\n",
    "# Format the x-axis dates to avoid clutter\n",
    "ax.xaxis.set_major_locator(mdates.AutoDateLocator())  # Auto-adjust date intervals\n",
    "ax.xaxis.set_major_formatter(mdates.DateFormatter('%Y-%m-%d'))  # Format as YYYY-MM-DD\n",
    "\n",
    "# Plot the candlestick chart\n",
    "candlestick_ohlc(ax, ohlc.values, width=0.6, colorup='green', colordown='red')\n",
    "\n",
    "# Labels and title\n",
    "ax.set_xlabel('Date')\n",
    "ax.set_ylabel('Price')\n",
    "ax.set_title('YMAX ETF Candlestick Chart')\n",
    "\n",
    "# Rotate x-axis labels for better readability\n",
    "fig.autofmt_xdate()\n",
    "\n",
    "# Show the plot\n",
    "plt.show()\n"
   ]
  },
  {
   "cell_type": "code",
   "execution_count": 143,
   "metadata": {},
   "outputs": [
    {
     "data": {
      "application/vnd.plotly.v1+json": {
       "config": {
        "plotlyServerURL": "https://plot.ly"
       },
       "data": [
        {
         "close": {
          "bdata": "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",
          "dtype": "f8"
         },
         "decreasing": {
          "line": {
           "color": "red"
          }
         },
         "high": {
          "bdata": "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",
          "dtype": "f8"
         },
         "increasing": {
          "line": {
           "color": "green"
          }
         },
         "low": {
          "bdata": "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",
          "dtype": "f8"
         },
         "open": {
          "bdata": "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",
          "dtype": "f8"
         },
         "type": "candlestick",
         "x": [
          "2025-01-28T00:00:00.000000000",
          "2025-01-27T00:00:00.000000000",
          "2025-01-24T00:00:00.000000000",
          "2025-01-23T00:00:00.000000000",
          "2025-01-22T00:00:00.000000000",
          "2025-01-21T00:00:00.000000000",
          "2025-01-17T00:00:00.000000000",
          "2025-01-16T00:00:00.000000000",
          "2025-01-15T00:00:00.000000000",
          "2025-01-14T00:00:00.000000000",
          "2025-01-13T00:00:00.000000000",
          "2025-01-10T00:00:00.000000000",
          "2025-01-08T00:00:00.000000000",
          "2025-01-07T00:00:00.000000000",
          "2025-01-06T00:00:00.000000000",
          "2025-01-03T00:00:00.000000000",
          "2025-01-02T00:00:00.000000000",
          "2024-12-31T00:00:00.000000000",
          "2024-12-30T00:00:00.000000000",
          "2024-12-27T00:00:00.000000000",
          "2024-12-26T00:00:00.000000000",
          "2024-12-24T00:00:00.000000000",
          "2024-12-23T00:00:00.000000000",
          "2024-12-20T00:00:00.000000000",
          "2024-12-19T00:00:00.000000000",
          "2024-12-18T00:00:00.000000000",
          "2024-12-17T00:00:00.000000000",
          "2024-12-16T00:00:00.000000000",
          "2024-12-13T00:00:00.000000000",
          "2024-12-12T00:00:00.000000000",
          "2024-12-11T00:00:00.000000000",
          "2024-12-10T00:00:00.000000000",
          "2024-12-09T00:00:00.000000000",
          "2024-12-06T00:00:00.000000000",
          "2024-12-05T00:00:00.000000000",
          "2024-12-04T00:00:00.000000000",
          "2024-12-03T00:00:00.000000000",
          "2024-12-02T00:00:00.000000000",
          "2024-11-29T00:00:00.000000000",
          "2024-11-27T00:00:00.000000000",
          "2024-11-26T00:00:00.000000000",
          "2024-11-25T00:00:00.000000000",
          "2024-11-22T00:00:00.000000000",
          "2024-11-21T00:00:00.000000000",
          "2024-11-20T00:00:00.000000000",
          "2024-11-19T00:00:00.000000000",
          "2024-11-18T00:00:00.000000000",
          "2024-11-15T00:00:00.000000000",
          "2024-11-14T00:00:00.000000000",
          "2024-11-13T00:00:00.000000000",
          "2024-11-12T00:00:00.000000000",
          "2024-11-11T00:00:00.000000000",
          "2024-11-08T00:00:00.000000000",
          "2024-11-07T00:00:00.000000000",
          "2024-11-06T00:00:00.000000000",
          "2024-11-05T00:00:00.000000000",
          "2024-11-04T00:00:00.000000000",
          "2024-11-01T00:00:00.000000000",
          "2024-10-31T00:00:00.000000000",
          "2024-10-30T00:00:00.000000000",
          "2024-10-29T00:00:00.000000000",
          "2024-10-28T00:00:00.000000000",
          "2024-10-25T00:00:00.000000000",
          "2024-10-24T00:00:00.000000000",
          "2024-10-23T00:00:00.000000000",
          "2024-10-22T00:00:00.000000000",
          "2024-10-21T00:00:00.000000000",
          "2024-10-18T00:00:00.000000000",
          "2024-10-17T00:00:00.000000000",
          "2024-10-16T00:00:00.000000000",
          "2024-10-15T00:00:00.000000000",
          "2024-10-14T00:00:00.000000000",
          "2024-10-11T00:00:00.000000000",
          "2024-10-10T00:00:00.000000000",
          "2024-10-09T00:00:00.000000000",
          "2024-10-08T00:00:00.000000000",
          "2024-10-07T00:00:00.000000000",
          "2024-10-04T00:00:00.000000000",
          "2024-10-03T00:00:00.000000000",
          "2024-10-02T00:00:00.000000000",
          "2024-10-01T00:00:00.000000000",
          "2024-09-30T00:00:00.000000000",
          "2024-09-27T00:00:00.000000000",
          "2024-09-26T00:00:00.000000000",
          "2024-09-25T00:00:00.000000000",
          "2024-09-24T00:00:00.000000000",
          "2024-09-23T00:00:00.000000000",
          "2024-09-20T00:00:00.000000000",
          "2024-09-19T00:00:00.000000000",
          "2024-09-18T00:00:00.000000000",
          "2024-09-17T00:00:00.000000000",
          "2024-09-16T00:00:00.000000000",
          "2024-09-13T00:00:00.000000000",
          "2024-09-12T00:00:00.000000000",
          "2024-09-11T00:00:00.000000000",
          "2024-09-10T00:00:00.000000000",
          "2024-09-09T00:00:00.000000000",
          "2024-09-06T00:00:00.000000000",
          "2024-09-05T00:00:00.000000000",
          "2024-09-04T00:00:00.000000000",
          "2024-09-03T00:00:00.000000000",
          "2024-08-30T00:00:00.000000000",
          "2024-08-29T00:00:00.000000000",
          "2024-08-28T00:00:00.000000000",
          "2024-08-27T00:00:00.000000000",
          "2024-08-26T00:00:00.000000000",
          "2024-08-23T00:00:00.000000000",
          "2024-08-22T00:00:00.000000000",
          "2024-08-21T00:00:00.000000000",
          "2024-08-20T00:00:00.000000000",
          "2024-08-19T00:00:00.000000000",
          "2024-08-16T00:00:00.000000000",
          "2024-08-15T00:00:00.000000000",
          "2024-08-14T00:00:00.000000000",
          "2024-08-13T00:00:00.000000000",
          "2024-08-12T00:00:00.000000000",
          "2024-08-09T00:00:00.000000000",
          "2024-08-08T00:00:00.000000000",
          "2024-08-07T00:00:00.000000000",
          "2024-08-06T00:00:00.000000000",
          "2024-08-05T00:00:00.000000000",
          "2024-08-02T00:00:00.000000000",
          "2024-08-01T00:00:00.000000000",
          "2024-07-31T00:00:00.000000000",
          "2024-07-30T00:00:00.000000000",
          "2024-07-29T00:00:00.000000000",
          "2024-07-26T00:00:00.000000000",
          "2024-07-25T00:00:00.000000000",
          "2024-07-24T00:00:00.000000000",
          "2024-07-23T00:00:00.000000000",
          "2024-07-22T00:00:00.000000000",
          "2024-07-19T00:00:00.000000000",
          "2024-07-18T00:00:00.000000000",
          "2024-07-17T00:00:00.000000000",
          "2024-07-16T00:00:00.000000000",
          "2024-07-15T00:00:00.000000000",
          "2024-07-12T00:00:00.000000000",
          "2024-07-11T00:00:00.000000000",
          "2024-07-10T00:00:00.000000000",
          "2024-07-09T00:00:00.000000000",
          "2024-07-08T00:00:00.000000000",
          "2024-07-05T00:00:00.000000000",
          "2024-07-03T00:00:00.000000000",
          "2024-07-02T00:00:00.000000000",
          "2024-07-01T00:00:00.000000000",
          "2024-06-28T00:00:00.000000000",
          "2024-06-27T00:00:00.000000000",
          "2024-06-26T00:00:00.000000000",
          "2024-06-25T00:00:00.000000000",
          "2024-06-24T00:00:00.000000000",
          "2024-06-21T00:00:00.000000000",
          "2024-06-20T00:00:00.000000000",
          "2024-06-18T00:00:00.000000000",
          "2024-06-17T00:00:00.000000000",
          "2024-06-14T00:00:00.000000000",
          "2024-06-13T00:00:00.000000000",
          "2024-06-12T00:00:00.000000000",
          "2024-06-11T00:00:00.000000000",
          "2024-06-10T00:00:00.000000000",
          "2024-06-07T00:00:00.000000000",
          "2024-06-06T00:00:00.000000000",
          "2024-06-05T00:00:00.000000000",
          "2024-06-04T00:00:00.000000000",
          "2024-06-03T00:00:00.000000000",
          "2024-05-31T00:00:00.000000000",
          "2024-05-30T00:00:00.000000000",
          "2024-05-29T00:00:00.000000000",
          "2024-05-28T00:00:00.000000000",
          "2024-05-24T00:00:00.000000000",
          "2024-05-23T00:00:00.000000000",
          "2024-05-22T00:00:00.000000000",
          "2024-05-21T00:00:00.000000000",
          "2024-05-20T00:00:00.000000000",
          "2024-05-17T00:00:00.000000000",
          "2024-05-16T00:00:00.000000000",
          "2024-05-15T00:00:00.000000000",
          "2024-05-14T00:00:00.000000000",
          "2024-05-13T00:00:00.000000000",
          "2024-05-10T00:00:00.000000000",
          "2024-05-09T00:00:00.000000000",
          "2024-05-08T00:00:00.000000000",
          "2024-05-07T00:00:00.000000000",
          "2024-05-06T00:00:00.000000000",
          "2024-05-03T00:00:00.000000000",
          "2024-05-02T00:00:00.000000000",
          "2024-05-01T00:00:00.000000000",
          "2024-04-30T00:00:00.000000000",
          "2024-04-29T00:00:00.000000000",
          "2024-04-26T00:00:00.000000000",
          "2024-04-25T00:00:00.000000000",
          "2024-04-24T00:00:00.000000000",
          "2024-04-23T00:00:00.000000000",
          "2024-04-22T00:00:00.000000000",
          "2024-04-19T00:00:00.000000000",
          "2024-04-18T00:00:00.000000000",
          "2024-04-17T00:00:00.000000000",
          "2024-04-16T00:00:00.000000000",
          "2024-04-15T00:00:00.000000000",
          "2024-04-12T00:00:00.000000000",
          "2024-04-11T00:00:00.000000000",
          "2024-04-10T00:00:00.000000000",
          "2024-04-09T00:00:00.000000000",
          "2024-04-08T00:00:00.000000000",
          "2024-04-05T00:00:00.000000000",
          "2024-04-04T00:00:00.000000000",
          "2024-04-03T00:00:00.000000000",
          "2024-04-02T00:00:00.000000000",
          "2024-04-01T00:00:00.000000000",
          "2024-03-28T00:00:00.000000000",
          "2024-03-27T00:00:00.000000000",
          "2024-03-26T00:00:00.000000000",
          "2024-03-25T00:00:00.000000000",
          "2024-03-22T00:00:00.000000000",
          "2024-03-21T00:00:00.000000000",
          "2024-03-20T00:00:00.000000000",
          "2024-03-19T00:00:00.000000000",
          "2024-03-18T00:00:00.000000000",
          "2024-03-15T00:00:00.000000000",
          "2024-03-14T00:00:00.000000000",
          "2024-03-13T00:00:00.000000000",
          "2024-03-12T00:00:00.000000000",
          "2024-03-11T00:00:00.000000000",
          "2024-03-08T00:00:00.000000000",
          "2024-03-07T00:00:00.000000000",
          "2024-03-06T00:00:00.000000000",
          "2024-03-05T00:00:00.000000000",
          "2024-03-04T00:00:00.000000000",
          "2024-03-01T00:00:00.000000000",
          "2024-02-29T00:00:00.000000000",
          "2024-02-28T00:00:00.000000000",
          "2024-02-27T00:00:00.000000000",
          "2024-02-26T00:00:00.000000000",
          "2024-02-23T00:00:00.000000000",
          "2024-02-22T00:00:00.000000000",
          "2024-02-21T00:00:00.000000000",
          "2024-02-20T00:00:00.000000000",
          "2024-02-16T00:00:00.000000000",
          "2024-02-15T00:00:00.000000000",
          "2024-02-14T00:00:00.000000000",
          "2024-02-13T00:00:00.000000000",
          "2024-02-12T00:00:00.000000000",
          "2024-02-09T00:00:00.000000000",
          "2024-02-08T00:00:00.000000000",
          "2024-02-07T00:00:00.000000000",
          "2024-02-06T00:00:00.000000000",
          "2024-02-05T00:00:00.000000000",
          "2024-02-02T00:00:00.000000000",
          "2024-02-01T00:00:00.000000000",
          "2024-01-31T00:00:00.000000000",
          "2024-01-30T00:00:00.000000000",
          "2024-01-29T00:00:00.000000000",
          "2024-01-26T00:00:00.000000000",
          "2024-01-25T00:00:00.000000000",
          "2024-01-24T00:00:00.000000000",
          "2024-01-23T00:00:00.000000000",
          "2024-01-22T00:00:00.000000000",
          "2024-01-19T00:00:00.000000000",
          "2024-01-18T00:00:00.000000000"
         ]
        }
       ],
       "layout": {
        "template": {
         "data": {
          "bar": [
           {
            "error_x": {
             "color": "#f2f5fa"
            },
            "error_y": {
             "color": "#f2f5fa"
            },
            "marker": {
             "line": {
              "color": "rgb(17,17,17)",
              "width": 0.5
             },
             "pattern": {
              "fillmode": "overlay",
              "size": 10,
              "solidity": 0.2
             }
            },
            "type": "bar"
           }
          ],
          "barpolar": [
           {
            "marker": {
             "line": {
              "color": "rgb(17,17,17)",
              "width": 0.5
             },
             "pattern": {
              "fillmode": "overlay",
              "size": 10,
              "solidity": 0.2
             }
            },
            "type": "barpolar"
           }
          ],
          "carpet": [
           {
            "aaxis": {
             "endlinecolor": "#A2B1C6",
             "gridcolor": "#506784",
             "linecolor": "#506784",
             "minorgridcolor": "#506784",
             "startlinecolor": "#A2B1C6"
            },
            "baxis": {
             "endlinecolor": "#A2B1C6",
             "gridcolor": "#506784",
             "linecolor": "#506784",
             "minorgridcolor": "#506784",
             "startlinecolor": "#A2B1C6"
            },
            "type": "carpet"
           }
          ],
          "choropleth": [
           {
            "colorbar": {
             "outlinewidth": 0,
             "ticks": ""
            },
            "type": "choropleth"
           }
          ],
          "contour": [
           {
            "colorbar": {
             "outlinewidth": 0,
             "ticks": ""
            },
            "colorscale": [
             [
              0,
              "#0d0887"
             ],
             [
              0.1111111111111111,
              "#46039f"
             ],
             [
              0.2222222222222222,
              "#7201a8"
             ],
             [
              0.3333333333333333,
              "#9c179e"
             ],
             [
              0.4444444444444444,
              "#bd3786"
             ],
             [
              0.5555555555555556,
              "#d8576b"
             ],
             [
              0.6666666666666666,
              "#ed7953"
             ],
             [
              0.7777777777777778,
              "#fb9f3a"
             ],
             [
              0.8888888888888888,
              "#fdca26"
             ],
             [
              1,
              "#f0f921"
             ]
            ],
            "type": "contour"
           }
          ],
          "contourcarpet": [
           {
            "colorbar": {
             "outlinewidth": 0,
             "ticks": ""
            },
            "type": "contourcarpet"
           }
          ],
          "heatmap": [
           {
            "colorbar": {
             "outlinewidth": 0,
             "ticks": ""
            },
            "colorscale": [
             [
              0,
              "#0d0887"
             ],
             [
              0.1111111111111111,
              "#46039f"
             ],
             [
              0.2222222222222222,
              "#7201a8"
             ],
             [
              0.3333333333333333,
              "#9c179e"
             ],
             [
              0.4444444444444444,
              "#bd3786"
             ],
             [
              0.5555555555555556,
              "#d8576b"
             ],
             [
              0.6666666666666666,
              "#ed7953"
             ],
             [
              0.7777777777777778,
              "#fb9f3a"
             ],
             [
              0.8888888888888888,
              "#fdca26"
             ],
             [
              1,
              "#f0f921"
             ]
            ],
            "type": "heatmap"
           }
          ],
          "histogram": [
           {
            "marker": {
             "pattern": {
              "fillmode": "overlay",
              "size": 10,
              "solidity": 0.2
             }
            },
            "type": "histogram"
           }
          ],
          "histogram2d": [
           {
            "colorbar": {
             "outlinewidth": 0,
             "ticks": ""
            },
            "colorscale": [
             [
              0,
              "#0d0887"
             ],
             [
              0.1111111111111111,
              "#46039f"
             ],
             [
              0.2222222222222222,
              "#7201a8"
             ],
             [
              0.3333333333333333,
              "#9c179e"
             ],
             [
              0.4444444444444444,
              "#bd3786"
             ],
             [
              0.5555555555555556,
              "#d8576b"
             ],
             [
              0.6666666666666666,
              "#ed7953"
             ],
             [
              0.7777777777777778,
              "#fb9f3a"
             ],
             [
              0.8888888888888888,
              "#fdca26"
             ],
             [
              1,
              "#f0f921"
             ]
            ],
            "type": "histogram2d"
           }
          ],
          "histogram2dcontour": [
           {
            "colorbar": {
             "outlinewidth": 0,
             "ticks": ""
            },
            "colorscale": [
             [
              0,
              "#0d0887"
             ],
             [
              0.1111111111111111,
              "#46039f"
             ],
             [
              0.2222222222222222,
              "#7201a8"
             ],
             [
              0.3333333333333333,
              "#9c179e"
             ],
             [
              0.4444444444444444,
              "#bd3786"
             ],
             [
              0.5555555555555556,
              "#d8576b"
             ],
             [
              0.6666666666666666,
              "#ed7953"
             ],
             [
              0.7777777777777778,
              "#fb9f3a"
             ],
             [
              0.8888888888888888,
              "#fdca26"
             ],
             [
              1,
              "#f0f921"
             ]
            ],
            "type": "histogram2dcontour"
           }
          ],
          "mesh3d": [
           {
            "colorbar": {
             "outlinewidth": 0,
             "ticks": ""
            },
            "type": "mesh3d"
           }
          ],
          "parcoords": [
           {
            "line": {
             "colorbar": {
              "outlinewidth": 0,
              "ticks": ""
             }
            },
            "type": "parcoords"
           }
          ],
          "pie": [
           {
            "automargin": true,
            "type": "pie"
           }
          ],
          "scatter": [
           {
            "marker": {
             "line": {
              "color": "#283442"
             }
            },
            "type": "scatter"
           }
          ],
          "scatter3d": [
           {
            "line": {
             "colorbar": {
              "outlinewidth": 0,
              "ticks": ""
             }
            },
            "marker": {
             "colorbar": {
              "outlinewidth": 0,
              "ticks": ""
             }
            },
            "type": "scatter3d"
           }
          ],
          "scattercarpet": [
           {
            "marker": {
             "colorbar": {
              "outlinewidth": 0,
              "ticks": ""
             }
            },
            "type": "scattercarpet"
           }
          ],
          "scattergeo": [
           {
            "marker": {
             "colorbar": {
              "outlinewidth": 0,
              "ticks": ""
             }
            },
            "type": "scattergeo"
           }
          ],
          "scattergl": [
           {
            "marker": {
             "line": {
              "color": "#283442"
             }
            },
            "type": "scattergl"
           }
          ],
          "scattermap": [
           {
            "marker": {
             "colorbar": {
              "outlinewidth": 0,
              "ticks": ""
             }
            },
            "type": "scattermap"
           }
          ],
          "scattermapbox": [
           {
            "marker": {
             "colorbar": {
              "outlinewidth": 0,
              "ticks": ""
             }
            },
            "type": "scattermapbox"
           }
          ],
          "scatterpolar": [
           {
            "marker": {
             "colorbar": {
              "outlinewidth": 0,
              "ticks": ""
             }
            },
            "type": "scatterpolar"
           }
          ],
          "scatterpolargl": [
           {
            "marker": {
             "colorbar": {
              "outlinewidth": 0,
              "ticks": ""
             }
            },
            "type": "scatterpolargl"
           }
          ],
          "scatterternary": [
           {
            "marker": {
             "colorbar": {
              "outlinewidth": 0,
              "ticks": ""
             }
            },
            "type": "scatterternary"
           }
          ],
          "surface": [
           {
            "colorbar": {
             "outlinewidth": 0,
             "ticks": ""
            },
            "colorscale": [
             [
              0,
              "#0d0887"
             ],
             [
              0.1111111111111111,
              "#46039f"
             ],
             [
              0.2222222222222222,
              "#7201a8"
             ],
             [
              0.3333333333333333,
              "#9c179e"
             ],
             [
              0.4444444444444444,
              "#bd3786"
             ],
             [
              0.5555555555555556,
              "#d8576b"
             ],
             [
              0.6666666666666666,
              "#ed7953"
             ],
             [
              0.7777777777777778,
              "#fb9f3a"
             ],
             [
              0.8888888888888888,
              "#fdca26"
             ],
             [
              1,
              "#f0f921"
             ]
            ],
            "type": "surface"
           }
          ],
          "table": [
           {
            "cells": {
             "fill": {
              "color": "#506784"
             },
             "line": {
              "color": "rgb(17,17,17)"
             }
            },
            "header": {
             "fill": {
              "color": "#2a3f5f"
             },
             "line": {
              "color": "rgb(17,17,17)"
             }
            },
            "type": "table"
           }
          ]
         },
         "layout": {
          "annotationdefaults": {
           "arrowcolor": "#f2f5fa",
           "arrowhead": 0,
           "arrowwidth": 1
          },
          "autotypenumbers": "strict",
          "coloraxis": {
           "colorbar": {
            "outlinewidth": 0,
            "ticks": ""
           }
          },
          "colorscale": {
           "diverging": [
            [
             0,
             "#8e0152"
            ],
            [
             0.1,
             "#c51b7d"
            ],
            [
             0.2,
             "#de77ae"
            ],
            [
             0.3,
             "#f1b6da"
            ],
            [
             0.4,
             "#fde0ef"
            ],
            [
             0.5,
             "#f7f7f7"
            ],
            [
             0.6,
             "#e6f5d0"
            ],
            [
             0.7,
             "#b8e186"
            ],
            [
             0.8,
             "#7fbc41"
            ],
            [
             0.9,
             "#4d9221"
            ],
            [
             1,
             "#276419"
            ]
           ],
           "sequential": [
            [
             0,
             "#0d0887"
            ],
            [
             0.1111111111111111,
             "#46039f"
            ],
            [
             0.2222222222222222,
             "#7201a8"
            ],
            [
             0.3333333333333333,
             "#9c179e"
            ],
            [
             0.4444444444444444,
             "#bd3786"
            ],
            [
             0.5555555555555556,
             "#d8576b"
            ],
            [
             0.6666666666666666,
             "#ed7953"
            ],
            [
             0.7777777777777778,
             "#fb9f3a"
            ],
            [
             0.8888888888888888,
             "#fdca26"
            ],
            [
             1,
             "#f0f921"
            ]
           ],
           "sequentialminus": [
            [
             0,
             "#0d0887"
            ],
            [
             0.1111111111111111,
             "#46039f"
            ],
            [
             0.2222222222222222,
             "#7201a8"
            ],
            [
             0.3333333333333333,
             "#9c179e"
            ],
            [
             0.4444444444444444,
             "#bd3786"
            ],
            [
             0.5555555555555556,
             "#d8576b"
            ],
            [
             0.6666666666666666,
             "#ed7953"
            ],
            [
             0.7777777777777778,
             "#fb9f3a"
            ],
            [
             0.8888888888888888,
             "#fdca26"
            ],
            [
             1,
             "#f0f921"
            ]
           ]
          },
          "colorway": [
           "#636efa",
           "#EF553B",
           "#00cc96",
           "#ab63fa",
           "#FFA15A",
           "#19d3f3",
           "#FF6692",
           "#B6E880",
           "#FF97FF",
           "#FECB52"
          ],
          "font": {
           "color": "#f2f5fa"
          },
          "geo": {
           "bgcolor": "rgb(17,17,17)",
           "lakecolor": "rgb(17,17,17)",
           "landcolor": "rgb(17,17,17)",
           "showlakes": true,
           "showland": true,
           "subunitcolor": "#506784"
          },
          "hoverlabel": {
           "align": "left"
          },
          "hovermode": "closest",
          "mapbox": {
           "style": "dark"
          },
          "paper_bgcolor": "rgb(17,17,17)",
          "plot_bgcolor": "rgb(17,17,17)",
          "polar": {
           "angularaxis": {
            "gridcolor": "#506784",
            "linecolor": "#506784",
            "ticks": ""
           },
           "bgcolor": "rgb(17,17,17)",
           "radialaxis": {
            "gridcolor": "#506784",
            "linecolor": "#506784",
            "ticks": ""
           }
          },
          "scene": {
           "xaxis": {
            "backgroundcolor": "rgb(17,17,17)",
            "gridcolor": "#506784",
            "gridwidth": 2,
            "linecolor": "#506784",
            "showbackground": true,
            "ticks": "",
            "zerolinecolor": "#C8D4E3"
           },
           "yaxis": {
            "backgroundcolor": "rgb(17,17,17)",
            "gridcolor": "#506784",
            "gridwidth": 2,
            "linecolor": "#506784",
            "showbackground": true,
            "ticks": "",
            "zerolinecolor": "#C8D4E3"
           },
           "zaxis": {
            "backgroundcolor": "rgb(17,17,17)",
            "gridcolor": "#506784",
            "gridwidth": 2,
            "linecolor": "#506784",
            "showbackground": true,
            "ticks": "",
            "zerolinecolor": "#C8D4E3"
           }
          },
          "shapedefaults": {
           "line": {
            "color": "#f2f5fa"
           }
          },
          "sliderdefaults": {
           "bgcolor": "#C8D4E3",
           "bordercolor": "rgb(17,17,17)",
           "borderwidth": 1,
           "tickwidth": 0
          },
          "ternary": {
           "aaxis": {
            "gridcolor": "#506784",
            "linecolor": "#506784",
            "ticks": ""
           },
           "baxis": {
            "gridcolor": "#506784",
            "linecolor": "#506784",
            "ticks": ""
           },
           "bgcolor": "rgb(17,17,17)",
           "caxis": {
            "gridcolor": "#506784",
            "linecolor": "#506784",
            "ticks": ""
           }
          },
          "title": {
           "x": 0.05
          },
          "updatemenudefaults": {
           "bgcolor": "#506784",
           "borderwidth": 0
          },
          "xaxis": {
           "automargin": true,
           "gridcolor": "#283442",
           "linecolor": "#506784",
           "ticks": "",
           "title": {
            "standoff": 15
           },
           "zerolinecolor": "#283442",
           "zerolinewidth": 2
          },
          "yaxis": {
           "automargin": true,
           "gridcolor": "#283442",
           "linecolor": "#506784",
           "ticks": "",
           "title": {
            "standoff": 15
           },
           "zerolinecolor": "#283442",
           "zerolinewidth": 2
          }
         }
        },
        "title": {
         "text": "YMAX ETF Candlestick Chart"
        },
        "xaxis": {
         "rangeslider": {
          "visible": false
         },
         "title": {
          "text": "Date"
         }
        },
        "yaxis": {
         "title": {
          "text": "Price"
         }
        }
       }
      }
     },
     "metadata": {},
     "output_type": "display_data"
    }
   ],
   "source": [
    "# Convert index to datetime if it's not already\n",
    "YMAX.index = pd.to_datetime(YMAX.index)\n",
    "\n",
    "# Create a Plotly Candlestick Chart\n",
    "fig = go.Figure(data=[\n",
    "    go.Candlestick(\n",
    "        x=YMAX.index,  # X-axis: Date\n",
    "        open=YMAX['Open'], \n",
    "        high=YMAX['High'],\n",
    "        low=YMAX['Low'], \n",
    "        close=YMAX['Price'],\n",
    "        increasing_line_color='green', \n",
    "        decreasing_line_color='red'\n",
    "    )\n",
    "])\n",
    "\n",
    "# Customize Layout\n",
    "fig.update_layout(\n",
    "    title=\"YMAX ETF Candlestick Chart\",\n",
    "    xaxis_title=\"Date\",\n",
    "    yaxis_title=\"Price\",\n",
    "    xaxis_rangeslider_visible=False,  # Hide range slider\n",
    "    template=\"plotly_dark\",  # Optional: dark theme\n",
    ")\n",
    "\n",
    "# Show the interactive chart\n",
    "fig.show()\n"
   ]
  },
  {
   "cell_type": "code",
   "execution_count": 144,
   "metadata": {},
   "outputs": [
    {
     "data": {
      "application/vnd.plotly.v1+json": {
       "config": {
        "plotlyServerURL": "https://plot.ly"
       },
       "data": [
        {
         "close": {
          "bdata": "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",
          "dtype": "f8"
         },
         "decreasing": {
          "line": {
           "color": "red"
          }
         },
         "high": {
          "bdata": "FK5H4XrUMkBI4XoUrocyQFK4HoXrETNAuB6F61H4MkDXo3A9ChczQD0K16Nw/TJAKVyPwvXoMkCamZmZmdkyQGZmZmZm5jJAMzMzMzOzMkCamZmZmZkyQM3MzMzMzDJAPQrXo3D9MkDD9Shcj4IzQAAAAAAAgDNAMzMzMzMzM0CamZmZmVkzQBSuR+F6lDNAFK5H4XqUM0DsUbgeheszQPYoXI/CNTRA9ihcj8I1NECkcD0K1+MzQClcj8L16DNAH4XrUbjeM0ApXI/C9Wg0QJqZmZmZWTRAFK5H4XpUNEAfhetRuB40QClcj8L1KDRAzczMzMxMNEBcj8L1KBw0QOxRuB6F6zNA7FG4HoXrM0AAAAAAAMAzQK5H4XoU7jNAhetRuB7FM0CkcD0K16MzQB+F61G4XjNAAAAAAACAM0C4HoXrUXgzQD0K16NwfTNAXI/C9ShcM0AUrkfhepQzQDMzMzMzszNA4XoUrkehM0C4HoXrUXgzQGZmZmZmZjNAPQrXo3C9M0A9CtejcP0zQPYoXI/C9TNAMzMzMzPzM0DNzMzMzMwzQGZmZmZmpjNASOF6FK6HM0AAAAAAAAAzQI/C9ShczzJA7FG4HoXrMkA9CtejcP0yQLgehetReDNAUrgehetRM0DNzMzMzEwzQAAAAAAAQDNAhetRuB4FM0BmZmZmZuYyQPYoXI/C9TJAH4XrUbjeMkBSuB6F69EyQM3MzMzMzDJApHA9CtfjMkBI4XoUrgczQD0K16Nw/TJAXI/C9SjcMkA9CtejcP0yQD0K16NwPTNAMzMzMzMzM0ApXI/C9SgzQClcj8L1KDNAzczMzMwMM0A9CtejcD0zQMP1KFyPgjNAMzMzMzNzM0BxPQrXo3AzQM3MzMzMjDNAUrgeheuRM0B7FK5H4XozQGZmZmZmZjNAzczMzMxMM0CPwvUoXE8zQM3MzMzMTDNAuB6F61E4M0CPwvUoXA8zQB+F61G4HjNASOF6FK4HM0CamZmZmdkyQJqZmZmZmTJA9ihcj8J1MkBSuB6F69EyQGZmZmZm5jJAexSuR+G6MkCF61G4HgUzQB+F61G4HjNAZmZmZmYmM0DNzMzMzAwzQFK4HoXrETNAcT0K16MwM0DD9Shcj0IzQNejcD0KVzNACtejcD1KM0A9CtejcD0zQGZmZmZmJjNAAAAAAAAAM0BxPQrXo/AyQClcj8L1aDNApHA9CtdjM0CamZmZmRkzQLgehetR+DJA4XoUrkfhMkBxPQrXo/AyQIXrUbgexTJArkfhehSuMkBxPQrXozAzQGZmZmZmJjRAuB6F61G4M0BxPQrXo3AzQEjhehSuhzNA16NwPQpXM0BI4XoUroczQI/C9ShczzNA4XoUrkdhNECF61G4HkU0QI/C9ShcDzRACtejcD1KNEBmZmZmZmY0QAAAAAAAgDVAXI/C9SicNUCF61G4HoU1QGZmZmZm5jVAZmZmZmbmNUApXI/C9eg1QDMzMzMzszVAZmZmZmamNUAzMzMzM3M1QHsUrkfhOjVAmpmZmZkZNUCPwvUoXA81QHE9Ctej8DRAZmZmZmbmNEAAAAAAAMA0QGZmZmZmpjRArkfhehSuNEC4HoXrUbg0QK5H4XoUrjRAuB6F61G4NEDD9Shcj4I0QAAAAAAAQDVAXI/C9SgcNUBcj8L1KNw0QI/C9ShczzRAzczMzMzMNEApXI/C9ag0QJqZmZmZmTRAZmZmZmZmNEAfhetRuF40QHE9CtejcDRAMzMzMzNzNED2KFyPwnU0QPYoXI/CdTRAXI/C9ShcNEAK16NwPUo0QHE9CtejMDRA7FG4HoUrNEBSuB6F6xE0QAAAAAAAADRAexSuR+H6M0C4HoXrUfgzQLgehetReDRAzczMzMxMNECPwvUoXE80QI/C9ShcTzRASOF6FK5HNEDhehSuR2E0QB+F61G4XjRArkfhehQuNEAUrkfhetQzQJqZmZmZ2TNACtejcD3KM0AfhetRuN4zQGZmZmZmpjNASOF6FK5HM0C4HoXrUbgzQMP1KFyPQjNASOF6FK4HM0AUrkfhelQzQM3MzMzMjDNAzczMzMzMM0BmZmZmZmY0QM3MzMzMzDRA9ihcj8L1NEAzMzMzM/M0QOxRuB6FqzRAcT0K16OwNEDsUbgehas0QArXo3A9ijRAMzMzMzOzNECF61G4HoU0QOF6FK5HYTRAXI/C9SicNEAK16NwPYo0QB+F61G4njRA9ihcj8K1NEAfhetRuJ40QNejcD0KlzRAw/UoXI+CNEBmZmZmZmY0QD0K16NwPTRAMzMzMzMzNECuR+F6FO4zQFyPwvUoHDRAUrgehevRNECF61G4HsU0QPYoXI/CdTRA4XoUrkfhNEDD9Shcj8I0QAAAAAAAgDRAFK5H4XqUNEAAAAAAAAA1QAAAAAAAADVAzczMzMzMNEBcj8L1KJw0QGZmZmZmpjRA7FG4HoWrNEDNzMzMzMw0QGZmZmZmpjRAFK5H4XrUM0BI4XoUrgc0QOF6FK5HITRA16NwPQoXNEA9CtejcH00QKRwPQrXYzRAhetRuB7FNECkcD0K16M0QMP1KFyPgjRAuB6F61F4NEBI4XoUrkc0QNejcD0KVzRAUrgehetRNEDD9Shcj8IzQHE9CtejsDNA",
          "dtype": "f8"
         },
         "increasing": {
          "line": {
           "color": "green"
          }
         },
         "low": {
          "bdata": "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",
          "dtype": "f8"
         },
         "open": {
          "bdata": "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",
          "dtype": "f8"
         },
         "type": "candlestick",
         "x": [
          "2025-01-28T00:00:00.000000000",
          "2025-01-27T00:00:00.000000000",
          "2025-01-24T00:00:00.000000000",
          "2025-01-23T00:00:00.000000000",
          "2025-01-22T00:00:00.000000000",
          "2025-01-21T00:00:00.000000000",
          "2025-01-17T00:00:00.000000000",
          "2025-01-16T00:00:00.000000000",
          "2025-01-15T00:00:00.000000000",
          "2025-01-14T00:00:00.000000000",
          "2025-01-13T00:00:00.000000000",
          "2025-01-10T00:00:00.000000000",
          "2025-01-08T00:00:00.000000000",
          "2025-01-07T00:00:00.000000000",
          "2025-01-06T00:00:00.000000000",
          "2025-01-03T00:00:00.000000000",
          "2025-01-02T00:00:00.000000000",
          "2024-12-31T00:00:00.000000000",
          "2024-12-30T00:00:00.000000000",
          "2024-12-27T00:00:00.000000000",
          "2024-12-26T00:00:00.000000000",
          "2024-12-24T00:00:00.000000000",
          "2024-12-23T00:00:00.000000000",
          "2024-12-20T00:00:00.000000000",
          "2024-12-19T00:00:00.000000000",
          "2024-12-18T00:00:00.000000000",
          "2024-12-17T00:00:00.000000000",
          "2024-12-16T00:00:00.000000000",
          "2024-12-13T00:00:00.000000000",
          "2024-12-12T00:00:00.000000000",
          "2024-12-11T00:00:00.000000000",
          "2024-12-10T00:00:00.000000000",
          "2024-12-09T00:00:00.000000000",
          "2024-12-06T00:00:00.000000000",
          "2024-12-05T00:00:00.000000000",
          "2024-12-04T00:00:00.000000000",
          "2024-12-03T00:00:00.000000000",
          "2024-12-02T00:00:00.000000000",
          "2024-11-29T00:00:00.000000000",
          "2024-11-27T00:00:00.000000000",
          "2024-11-26T00:00:00.000000000",
          "2024-11-25T00:00:00.000000000",
          "2024-11-22T00:00:00.000000000",
          "2024-11-21T00:00:00.000000000",
          "2024-11-20T00:00:00.000000000",
          "2024-11-19T00:00:00.000000000",
          "2024-11-18T00:00:00.000000000",
          "2024-11-15T00:00:00.000000000",
          "2024-11-14T00:00:00.000000000",
          "2024-11-13T00:00:00.000000000",
          "2024-11-12T00:00:00.000000000",
          "2024-11-11T00:00:00.000000000",
          "2024-11-08T00:00:00.000000000",
          "2024-11-07T00:00:00.000000000",
          "2024-11-06T00:00:00.000000000",
          "2024-11-05T00:00:00.000000000",
          "2024-11-04T00:00:00.000000000",
          "2024-11-01T00:00:00.000000000",
          "2024-10-31T00:00:00.000000000",
          "2024-10-30T00:00:00.000000000",
          "2024-10-29T00:00:00.000000000",
          "2024-10-28T00:00:00.000000000",
          "2024-10-25T00:00:00.000000000",
          "2024-10-24T00:00:00.000000000",
          "2024-10-23T00:00:00.000000000",
          "2024-10-22T00:00:00.000000000",
          "2024-10-21T00:00:00.000000000",
          "2024-10-18T00:00:00.000000000",
          "2024-10-17T00:00:00.000000000",
          "2024-10-16T00:00:00.000000000",
          "2024-10-15T00:00:00.000000000",
          "2024-10-14T00:00:00.000000000",
          "2024-10-11T00:00:00.000000000",
          "2024-10-10T00:00:00.000000000",
          "2024-10-09T00:00:00.000000000",
          "2024-10-08T00:00:00.000000000",
          "2024-10-07T00:00:00.000000000",
          "2024-10-04T00:00:00.000000000",
          "2024-10-03T00:00:00.000000000",
          "2024-10-02T00:00:00.000000000",
          "2024-10-01T00:00:00.000000000",
          "2024-09-30T00:00:00.000000000",
          "2024-09-27T00:00:00.000000000",
          "2024-09-26T00:00:00.000000000",
          "2024-09-25T00:00:00.000000000",
          "2024-09-24T00:00:00.000000000",
          "2024-09-23T00:00:00.000000000",
          "2024-09-20T00:00:00.000000000",
          "2024-09-19T00:00:00.000000000",
          "2024-09-18T00:00:00.000000000",
          "2024-09-17T00:00:00.000000000",
          "2024-09-16T00:00:00.000000000",
          "2024-09-13T00:00:00.000000000",
          "2024-09-12T00:00:00.000000000",
          "2024-09-11T00:00:00.000000000",
          "2024-09-10T00:00:00.000000000",
          "2024-09-09T00:00:00.000000000",
          "2024-09-06T00:00:00.000000000",
          "2024-09-05T00:00:00.000000000",
          "2024-09-04T00:00:00.000000000",
          "2024-09-03T00:00:00.000000000",
          "2024-08-30T00:00:00.000000000",
          "2024-08-29T00:00:00.000000000",
          "2024-08-28T00:00:00.000000000",
          "2024-08-27T00:00:00.000000000",
          "2024-08-26T00:00:00.000000000",
          "2024-08-23T00:00:00.000000000",
          "2024-08-22T00:00:00.000000000",
          "2024-08-21T00:00:00.000000000",
          "2024-08-20T00:00:00.000000000",
          "2024-08-19T00:00:00.000000000",
          "2024-08-16T00:00:00.000000000",
          "2024-08-15T00:00:00.000000000",
          "2024-08-14T00:00:00.000000000",
          "2024-08-13T00:00:00.000000000",
          "2024-08-12T00:00:00.000000000",
          "2024-08-09T00:00:00.000000000",
          "2024-08-08T00:00:00.000000000",
          "2024-08-07T00:00:00.000000000",
          "2024-08-06T00:00:00.000000000",
          "2024-08-05T00:00:00.000000000",
          "2024-08-02T00:00:00.000000000",
          "2024-08-01T00:00:00.000000000",
          "2024-07-31T00:00:00.000000000",
          "2024-07-30T00:00:00.000000000",
          "2024-07-29T00:00:00.000000000",
          "2024-07-26T00:00:00.000000000",
          "2024-07-25T00:00:00.000000000",
          "2024-07-24T00:00:00.000000000",
          "2024-07-23T00:00:00.000000000",
          "2024-07-22T00:00:00.000000000",
          "2024-07-19T00:00:00.000000000",
          "2024-07-18T00:00:00.000000000",
          "2024-07-17T00:00:00.000000000",
          "2024-07-16T00:00:00.000000000",
          "2024-07-15T00:00:00.000000000",
          "2024-07-12T00:00:00.000000000",
          "2024-07-11T00:00:00.000000000",
          "2024-07-10T00:00:00.000000000",
          "2024-07-09T00:00:00.000000000",
          "2024-07-08T00:00:00.000000000",
          "2024-07-05T00:00:00.000000000",
          "2024-07-03T00:00:00.000000000",
          "2024-07-02T00:00:00.000000000",
          "2024-07-01T00:00:00.000000000",
          "2024-06-28T00:00:00.000000000",
          "2024-06-27T00:00:00.000000000",
          "2024-06-26T00:00:00.000000000",
          "2024-06-25T00:00:00.000000000",
          "2024-06-24T00:00:00.000000000",
          "2024-06-21T00:00:00.000000000",
          "2024-06-20T00:00:00.000000000",
          "2024-06-18T00:00:00.000000000",
          "2024-06-17T00:00:00.000000000",
          "2024-06-14T00:00:00.000000000",
          "2024-06-13T00:00:00.000000000",
          "2024-06-12T00:00:00.000000000",
          "2024-06-11T00:00:00.000000000",
          "2024-06-10T00:00:00.000000000",
          "2024-06-07T00:00:00.000000000",
          "2024-06-06T00:00:00.000000000",
          "2024-06-05T00:00:00.000000000",
          "2024-06-04T00:00:00.000000000",
          "2024-06-03T00:00:00.000000000",
          "2024-05-31T00:00:00.000000000",
          "2024-05-30T00:00:00.000000000",
          "2024-05-29T00:00:00.000000000",
          "2024-05-28T00:00:00.000000000",
          "2024-05-24T00:00:00.000000000",
          "2024-05-23T00:00:00.000000000",
          "2024-05-22T00:00:00.000000000",
          "2024-05-21T00:00:00.000000000",
          "2024-05-20T00:00:00.000000000",
          "2024-05-17T00:00:00.000000000",
          "2024-05-16T00:00:00.000000000",
          "2024-05-15T00:00:00.000000000",
          "2024-05-14T00:00:00.000000000",
          "2024-05-13T00:00:00.000000000",
          "2024-05-10T00:00:00.000000000",
          "2024-05-09T00:00:00.000000000",
          "2024-05-08T00:00:00.000000000",
          "2024-05-07T00:00:00.000000000",
          "2024-05-06T00:00:00.000000000",
          "2024-05-03T00:00:00.000000000",
          "2024-05-02T00:00:00.000000000",
          "2024-05-01T00:00:00.000000000",
          "2024-04-30T00:00:00.000000000",
          "2024-04-29T00:00:00.000000000",
          "2024-04-26T00:00:00.000000000",
          "2024-04-25T00:00:00.000000000",
          "2024-04-24T00:00:00.000000000",
          "2024-04-23T00:00:00.000000000",
          "2024-04-22T00:00:00.000000000",
          "2024-04-19T00:00:00.000000000",
          "2024-04-18T00:00:00.000000000",
          "2024-04-17T00:00:00.000000000",
          "2024-04-16T00:00:00.000000000",
          "2024-04-15T00:00:00.000000000",
          "2024-04-12T00:00:00.000000000",
          "2024-04-11T00:00:00.000000000",
          "2024-04-10T00:00:00.000000000",
          "2024-04-09T00:00:00.000000000",
          "2024-04-08T00:00:00.000000000",
          "2024-04-05T00:00:00.000000000",
          "2024-04-04T00:00:00.000000000",
          "2024-04-03T00:00:00.000000000",
          "2024-04-02T00:00:00.000000000",
          "2024-04-01T00:00:00.000000000",
          "2024-03-28T00:00:00.000000000",
          "2024-03-27T00:00:00.000000000",
          "2024-03-26T00:00:00.000000000",
          "2024-03-25T00:00:00.000000000",
          "2024-03-22T00:00:00.000000000",
          "2024-03-21T00:00:00.000000000",
          "2024-03-20T00:00:00.000000000",
          "2024-03-19T00:00:00.000000000",
          "2024-03-18T00:00:00.000000000",
          "2024-03-15T00:00:00.000000000",
          "2024-03-14T00:00:00.000000000",
          "2024-03-13T00:00:00.000000000",
          "2024-03-12T00:00:00.000000000",
          "2024-03-11T00:00:00.000000000",
          "2024-03-08T00:00:00.000000000",
          "2024-03-07T00:00:00.000000000",
          "2024-03-06T00:00:00.000000000",
          "2024-03-05T00:00:00.000000000",
          "2024-03-04T00:00:00.000000000",
          "2024-03-01T00:00:00.000000000",
          "2024-02-29T00:00:00.000000000",
          "2024-02-28T00:00:00.000000000",
          "2024-02-27T00:00:00.000000000",
          "2024-02-26T00:00:00.000000000",
          "2024-02-23T00:00:00.000000000",
          "2024-02-22T00:00:00.000000000",
          "2024-02-21T00:00:00.000000000",
          "2024-02-20T00:00:00.000000000",
          "2024-02-16T00:00:00.000000000",
          "2024-02-15T00:00:00.000000000",
          "2024-02-14T00:00:00.000000000",
          "2024-02-13T00:00:00.000000000",
          "2024-02-12T00:00:00.000000000",
          "2024-02-09T00:00:00.000000000",
          "2024-02-08T00:00:00.000000000",
          "2024-02-07T00:00:00.000000000",
          "2024-02-06T00:00:00.000000000",
          "2024-02-05T00:00:00.000000000",
          "2024-02-02T00:00:00.000000000",
          "2024-02-01T00:00:00.000000000",
          "2024-01-31T00:00:00.000000000"
         ]
        }
       ],
       "layout": {
        "template": {
         "data": {
          "bar": [
           {
            "error_x": {
             "color": "#f2f5fa"
            },
            "error_y": {
             "color": "#f2f5fa"
            },
            "marker": {
             "line": {
              "color": "rgb(17,17,17)",
              "width": 0.5
             },
             "pattern": {
              "fillmode": "overlay",
              "size": 10,
              "solidity": 0.2
             }
            },
            "type": "bar"
           }
          ],
          "barpolar": [
           {
            "marker": {
             "line": {
              "color": "rgb(17,17,17)",
              "width": 0.5
             },
             "pattern": {
              "fillmode": "overlay",
              "size": 10,
              "solidity": 0.2
             }
            },
            "type": "barpolar"
           }
          ],
          "carpet": [
           {
            "aaxis": {
             "endlinecolor": "#A2B1C6",
             "gridcolor": "#506784",
             "linecolor": "#506784",
             "minorgridcolor": "#506784",
             "startlinecolor": "#A2B1C6"
            },
            "baxis": {
             "endlinecolor": "#A2B1C6",
             "gridcolor": "#506784",
             "linecolor": "#506784",
             "minorgridcolor": "#506784",
             "startlinecolor": "#A2B1C6"
            },
            "type": "carpet"
           }
          ],
          "choropleth": [
           {
            "colorbar": {
             "outlinewidth": 0,
             "ticks": ""
            },
            "type": "choropleth"
           }
          ],
          "contour": [
           {
            "colorbar": {
             "outlinewidth": 0,
             "ticks": ""
            },
            "colorscale": [
             [
              0,
              "#0d0887"
             ],
             [
              0.1111111111111111,
              "#46039f"
             ],
             [
              0.2222222222222222,
              "#7201a8"
             ],
             [
              0.3333333333333333,
              "#9c179e"
             ],
             [
              0.4444444444444444,
              "#bd3786"
             ],
             [
              0.5555555555555556,
              "#d8576b"
             ],
             [
              0.6666666666666666,
              "#ed7953"
             ],
             [
              0.7777777777777778,
              "#fb9f3a"
             ],
             [
              0.8888888888888888,
              "#fdca26"
             ],
             [
              1,
              "#f0f921"
             ]
            ],
            "type": "contour"
           }
          ],
          "contourcarpet": [
           {
            "colorbar": {
             "outlinewidth": 0,
             "ticks": ""
            },
            "type": "contourcarpet"
           }
          ],
          "heatmap": [
           {
            "colorbar": {
             "outlinewidth": 0,
             "ticks": ""
            },
            "colorscale": [
             [
              0,
              "#0d0887"
             ],
             [
              0.1111111111111111,
              "#46039f"
             ],
             [
              0.2222222222222222,
              "#7201a8"
             ],
             [
              0.3333333333333333,
              "#9c179e"
             ],
             [
              0.4444444444444444,
              "#bd3786"
             ],
             [
              0.5555555555555556,
              "#d8576b"
             ],
             [
              0.6666666666666666,
              "#ed7953"
             ],
             [
              0.7777777777777778,
              "#fb9f3a"
             ],
             [
              0.8888888888888888,
              "#fdca26"
             ],
             [
              1,
              "#f0f921"
             ]
            ],
            "type": "heatmap"
           }
          ],
          "histogram": [
           {
            "marker": {
             "pattern": {
              "fillmode": "overlay",
              "size": 10,
              "solidity": 0.2
             }
            },
            "type": "histogram"
           }
          ],
          "histogram2d": [
           {
            "colorbar": {
             "outlinewidth": 0,
             "ticks": ""
            },
            "colorscale": [
             [
              0,
              "#0d0887"
             ],
             [
              0.1111111111111111,
              "#46039f"
             ],
             [
              0.2222222222222222,
              "#7201a8"
             ],
             [
              0.3333333333333333,
              "#9c179e"
             ],
             [
              0.4444444444444444,
              "#bd3786"
             ],
             [
              0.5555555555555556,
              "#d8576b"
             ],
             [
              0.6666666666666666,
              "#ed7953"
             ],
             [
              0.7777777777777778,
              "#fb9f3a"
             ],
             [
              0.8888888888888888,
              "#fdca26"
             ],
             [
              1,
              "#f0f921"
             ]
            ],
            "type": "histogram2d"
           }
          ],
          "histogram2dcontour": [
           {
            "colorbar": {
             "outlinewidth": 0,
             "ticks": ""
            },
            "colorscale": [
             [
              0,
              "#0d0887"
             ],
             [
              0.1111111111111111,
              "#46039f"
             ],
             [
              0.2222222222222222,
              "#7201a8"
             ],
             [
              0.3333333333333333,
              "#9c179e"
             ],
             [
              0.4444444444444444,
              "#bd3786"
             ],
             [
              0.5555555555555556,
              "#d8576b"
             ],
             [
              0.6666666666666666,
              "#ed7953"
             ],
             [
              0.7777777777777778,
              "#fb9f3a"
             ],
             [
              0.8888888888888888,
              "#fdca26"
             ],
             [
              1,
              "#f0f921"
             ]
            ],
            "type": "histogram2dcontour"
           }
          ],
          "mesh3d": [
           {
            "colorbar": {
             "outlinewidth": 0,
             "ticks": ""
            },
            "type": "mesh3d"
           }
          ],
          "parcoords": [
           {
            "line": {
             "colorbar": {
              "outlinewidth": 0,
              "ticks": ""
             }
            },
            "type": "parcoords"
           }
          ],
          "pie": [
           {
            "automargin": true,
            "type": "pie"
           }
          ],
          "scatter": [
           {
            "marker": {
             "line": {
              "color": "#283442"
             }
            },
            "type": "scatter"
           }
          ],
          "scatter3d": [
           {
            "line": {
             "colorbar": {
              "outlinewidth": 0,
              "ticks": ""
             }
            },
            "marker": {
             "colorbar": {
              "outlinewidth": 0,
              "ticks": ""
             }
            },
            "type": "scatter3d"
           }
          ],
          "scattercarpet": [
           {
            "marker": {
             "colorbar": {
              "outlinewidth": 0,
              "ticks": ""
             }
            },
            "type": "scattercarpet"
           }
          ],
          "scattergeo": [
           {
            "marker": {
             "colorbar": {
              "outlinewidth": 0,
              "ticks": ""
             }
            },
            "type": "scattergeo"
           }
          ],
          "scattergl": [
           {
            "marker": {
             "line": {
              "color": "#283442"
             }
            },
            "type": "scattergl"
           }
          ],
          "scattermap": [
           {
            "marker": {
             "colorbar": {
              "outlinewidth": 0,
              "ticks": ""
             }
            },
            "type": "scattermap"
           }
          ],
          "scattermapbox": [
           {
            "marker": {
             "colorbar": {
              "outlinewidth": 0,
              "ticks": ""
             }
            },
            "type": "scattermapbox"
           }
          ],
          "scatterpolar": [
           {
            "marker": {
             "colorbar": {
              "outlinewidth": 0,
              "ticks": ""
             }
            },
            "type": "scatterpolar"
           }
          ],
          "scatterpolargl": [
           {
            "marker": {
             "colorbar": {
              "outlinewidth": 0,
              "ticks": ""
             }
            },
            "type": "scatterpolargl"
           }
          ],
          "scatterternary": [
           {
            "marker": {
             "colorbar": {
              "outlinewidth": 0,
              "ticks": ""
             }
            },
            "type": "scatterternary"
           }
          ],
          "surface": [
           {
            "colorbar": {
             "outlinewidth": 0,
             "ticks": ""
            },
            "colorscale": [
             [
              0,
              "#0d0887"
             ],
             [
              0.1111111111111111,
              "#46039f"
             ],
             [
              0.2222222222222222,
              "#7201a8"
             ],
             [
              0.3333333333333333,
              "#9c179e"
             ],
             [
              0.4444444444444444,
              "#bd3786"
             ],
             [
              0.5555555555555556,
              "#d8576b"
             ],
             [
              0.6666666666666666,
              "#ed7953"
             ],
             [
              0.7777777777777778,
              "#fb9f3a"
             ],
             [
              0.8888888888888888,
              "#fdca26"
             ],
             [
              1,
              "#f0f921"
             ]
            ],
            "type": "surface"
           }
          ],
          "table": [
           {
            "cells": {
             "fill": {
              "color": "#506784"
             },
             "line": {
              "color": "rgb(17,17,17)"
             }
            },
            "header": {
             "fill": {
              "color": "#2a3f5f"
             },
             "line": {
              "color": "rgb(17,17,17)"
             }
            },
            "type": "table"
           }
          ]
         },
         "layout": {
          "annotationdefaults": {
           "arrowcolor": "#f2f5fa",
           "arrowhead": 0,
           "arrowwidth": 1
          },
          "autotypenumbers": "strict",
          "coloraxis": {
           "colorbar": {
            "outlinewidth": 0,
            "ticks": ""
           }
          },
          "colorscale": {
           "diverging": [
            [
             0,
             "#8e0152"
            ],
            [
             0.1,
             "#c51b7d"
            ],
            [
             0.2,
             "#de77ae"
            ],
            [
             0.3,
             "#f1b6da"
            ],
            [
             0.4,
             "#fde0ef"
            ],
            [
             0.5,
             "#f7f7f7"
            ],
            [
             0.6,
             "#e6f5d0"
            ],
            [
             0.7,
             "#b8e186"
            ],
            [
             0.8,
             "#7fbc41"
            ],
            [
             0.9,
             "#4d9221"
            ],
            [
             1,
             "#276419"
            ]
           ],
           "sequential": [
            [
             0,
             "#0d0887"
            ],
            [
             0.1111111111111111,
             "#46039f"
            ],
            [
             0.2222222222222222,
             "#7201a8"
            ],
            [
             0.3333333333333333,
             "#9c179e"
            ],
            [
             0.4444444444444444,
             "#bd3786"
            ],
            [
             0.5555555555555556,
             "#d8576b"
            ],
            [
             0.6666666666666666,
             "#ed7953"
            ],
            [
             0.7777777777777778,
             "#fb9f3a"
            ],
            [
             0.8888888888888888,
             "#fdca26"
            ],
            [
             1,
             "#f0f921"
            ]
           ],
           "sequentialminus": [
            [
             0,
             "#0d0887"
            ],
            [
             0.1111111111111111,
             "#46039f"
            ],
            [
             0.2222222222222222,
             "#7201a8"
            ],
            [
             0.3333333333333333,
             "#9c179e"
            ],
            [
             0.4444444444444444,
             "#bd3786"
            ],
            [
             0.5555555555555556,
             "#d8576b"
            ],
            [
             0.6666666666666666,
             "#ed7953"
            ],
            [
             0.7777777777777778,
             "#fb9f3a"
            ],
            [
             0.8888888888888888,
             "#fdca26"
            ],
            [
             1,
             "#f0f921"
            ]
           ]
          },
          "colorway": [
           "#636efa",
           "#EF553B",
           "#00cc96",
           "#ab63fa",
           "#FFA15A",
           "#19d3f3",
           "#FF6692",
           "#B6E880",
           "#FF97FF",
           "#FECB52"
          ],
          "font": {
           "color": "#f2f5fa"
          },
          "geo": {
           "bgcolor": "rgb(17,17,17)",
           "lakecolor": "rgb(17,17,17)",
           "landcolor": "rgb(17,17,17)",
           "showlakes": true,
           "showland": true,
           "subunitcolor": "#506784"
          },
          "hoverlabel": {
           "align": "left"
          },
          "hovermode": "closest",
          "mapbox": {
           "style": "dark"
          },
          "paper_bgcolor": "rgb(17,17,17)",
          "plot_bgcolor": "rgb(17,17,17)",
          "polar": {
           "angularaxis": {
            "gridcolor": "#506784",
            "linecolor": "#506784",
            "ticks": ""
           },
           "bgcolor": "rgb(17,17,17)",
           "radialaxis": {
            "gridcolor": "#506784",
            "linecolor": "#506784",
            "ticks": ""
           }
          },
          "scene": {
           "xaxis": {
            "backgroundcolor": "rgb(17,17,17)",
            "gridcolor": "#506784",
            "gridwidth": 2,
            "linecolor": "#506784",
            "showbackground": true,
            "ticks": "",
            "zerolinecolor": "#C8D4E3"
           },
           "yaxis": {
            "backgroundcolor": "rgb(17,17,17)",
            "gridcolor": "#506784",
            "gridwidth": 2,
            "linecolor": "#506784",
            "showbackground": true,
            "ticks": "",
            "zerolinecolor": "#C8D4E3"
           },
           "zaxis": {
            "backgroundcolor": "rgb(17,17,17)",
            "gridcolor": "#506784",
            "gridwidth": 2,
            "linecolor": "#506784",
            "showbackground": true,
            "ticks": "",
            "zerolinecolor": "#C8D4E3"
           }
          },
          "shapedefaults": {
           "line": {
            "color": "#f2f5fa"
           }
          },
          "sliderdefaults": {
           "bgcolor": "#C8D4E3",
           "bordercolor": "rgb(17,17,17)",
           "borderwidth": 1,
           "tickwidth": 0
          },
          "ternary": {
           "aaxis": {
            "gridcolor": "#506784",
            "linecolor": "#506784",
            "ticks": ""
           },
           "baxis": {
            "gridcolor": "#506784",
            "linecolor": "#506784",
            "ticks": ""
           },
           "bgcolor": "rgb(17,17,17)",
           "caxis": {
            "gridcolor": "#506784",
            "linecolor": "#506784",
            "ticks": ""
           }
          },
          "title": {
           "x": 0.05
          },
          "updatemenudefaults": {
           "bgcolor": "#506784",
           "borderwidth": 0
          },
          "xaxis": {
           "automargin": true,
           "gridcolor": "#283442",
           "linecolor": "#506784",
           "ticks": "",
           "title": {
            "standoff": 15
           },
           "zerolinecolor": "#283442",
           "zerolinewidth": 2
          },
          "yaxis": {
           "automargin": true,
           "gridcolor": "#283442",
           "linecolor": "#506784",
           "ticks": "",
           "title": {
            "standoff": 15
           },
           "zerolinecolor": "#283442",
           "zerolinewidth": 2
          }
         }
        },
        "title": {
         "text": "YMAG ETF Candlestick Chart"
        },
        "xaxis": {
         "rangeslider": {
          "visible": false
         },
         "title": {
          "text": "Date"
         }
        },
        "yaxis": {
         "title": {
          "text": "Price"
         }
        }
       }
      }
     },
     "metadata": {},
     "output_type": "display_data"
    }
   ],
   "source": [
    "# Convert index to datetime if it's not already\n",
    "YMAG.index = pd.to_datetime(YMAG.index)\n",
    "\n",
    "# Create a Plotly Candlestick Chart\n",
    "fig = go.Figure(data=[\n",
    "    go.Candlestick(\n",
    "        x=YMAG.index,  # X-axis: Date\n",
    "        open=YMAG['Open'], \n",
    "        high=YMAG['High'],\n",
    "        low=YMAG['Low'], \n",
    "        close=YMAG['Price'],\n",
    "        increasing_line_color='green', \n",
    "        decreasing_line_color='red'\n",
    "    )\n",
    "])\n",
    "\n",
    "# Customize Layout\n",
    "fig.update_layout(\n",
    "    title=\"YMAG ETF Candlestick Chart\",\n",
    "    xaxis_title=\"Date\",\n",
    "    yaxis_title=\"Price\",\n",
    "    xaxis_rangeslider_visible=False,  # Hide range slider\n",
    "    template=\"plotly_dark\",  # Optional: dark theme\n",
    ")\n",
    "\n",
    "# Show the interactive chart\n",
    "fig.show()\n"
   ]
  },
  {
   "cell_type": "code",
   "execution_count": 145,
   "metadata": {},
   "outputs": [
    {
     "data": {
      "text/html": [
       "<div>\n",
       "<style scoped>\n",
       "    .dataframe tbody tr th:only-of-type {\n",
       "        vertical-align: middle;\n",
       "    }\n",
       "\n",
       "    .dataframe tbody tr th {\n",
       "        vertical-align: top;\n",
       "    }\n",
       "\n",
       "    .dataframe thead th {\n",
       "        text-align: right;\n",
       "    }\n",
       "</style>\n",
       "<table border=\"1\" class=\"dataframe\">\n",
       "  <thead>\n",
       "    <tr style=\"text-align: right;\">\n",
       "      <th></th>\n",
       "      <th>YMAX</th>\n",
       "      <th>YMAG</th>\n",
       "    </tr>\n",
       "    <tr>\n",
       "      <th>Date</th>\n",
       "      <th></th>\n",
       "      <th></th>\n",
       "    </tr>\n",
       "  </thead>\n",
       "  <tbody>\n",
       "    <tr>\n",
       "      <th>2025-01-28</th>\n",
       "      <td>16.72</td>\n",
       "      <td>18.81</td>\n",
       "    </tr>\n",
       "    <tr>\n",
       "      <th>2025-01-27</th>\n",
       "      <td>16.40</td>\n",
       "      <td>18.39</td>\n",
       "    </tr>\n",
       "    <tr>\n",
       "      <th>2025-01-24</th>\n",
       "      <td>16.89</td>\n",
       "      <td>18.93</td>\n",
       "    </tr>\n",
       "    <tr>\n",
       "      <th>2025-01-23</th>\n",
       "      <td>16.96</td>\n",
       "      <td>18.94</td>\n",
       "    </tr>\n",
       "    <tr>\n",
       "      <th>2025-01-22</th>\n",
       "      <td>17.03</td>\n",
       "      <td>19.06</td>\n",
       "    </tr>\n",
       "  </tbody>\n",
       "</table>\n",
       "</div>"
      ],
      "text/plain": [
       "             YMAX   YMAG\n",
       "Date                    \n",
       "2025-01-28  16.72  18.81\n",
       "2025-01-27  16.40  18.39\n",
       "2025-01-24  16.89  18.93\n",
       "2025-01-23  16.96  18.94\n",
       "2025-01-22  17.03  19.06"
      ]
     },
     "execution_count": 145,
     "metadata": {},
     "output_type": "execute_result"
    }
   ],
   "source": [
    "import pandas as pd\n",
    "\n",
    "# Drop Open, High, Low columns and rename Price to YMAX in YMAX DataFrame\n",
    "YMAX = YMAX.drop(columns=['Open', 'High', 'Low']).rename(columns={'Price': 'YMAX'})\n",
    "\n",
    "# Drop Open, High, Low columns and rename Price to YMAG in YMAG DataFrame\n",
    "YMAG = YMAG.drop(columns=['Open', 'High', 'Low']).rename(columns={'Price': 'YMAG'})\n",
    "\n",
    "# Ensure the Date index is set properly and drop any residual \"Date\" columns if present\n",
    "if 'Date' in YMAX.columns:\n",
    "    YMAX = YMAX.drop(columns=['Date'])\n",
    "\n",
    "if 'Date' in YMAG.columns:\n",
    "    YMAG = YMAG.drop(columns=['Date'])\n",
    "\n",
    "# Merge both dataframes on the Date index\n",
    "YMAX_YMAG_df = pd.merge(YMAX, YMAG, left_index=True, right_index=True, how='inner')\n",
    "YMAX_YMAG_merged = YMAX_YMAG_df.copy()\n",
    "\n",
    "# Display the corrected merged DataFrame\n",
    "YMAX_YMAG_df.head()"
   ]
  },
  {
   "cell_type": "code",
   "execution_count": 146,
   "metadata": {},
   "outputs": [
    {
     "data": {
      "text/plain": [
       "YMAX    0\n",
       "YMAG    0\n",
       "dtype: int64"
      ]
     },
     "execution_count": 146,
     "metadata": {},
     "output_type": "execute_result"
    }
   ],
   "source": [
    "#Compute the sum of Missing values in the YMAX_YMAG DataFrame, if zero then there are no missing values\n",
    "YMAX_YMAG_df.isnull().sum()"
   ]
  },
  {
   "cell_type": "code",
   "execution_count": 147,
   "metadata": {},
   "outputs": [
    {
     "data": {
      "application/vnd.plotly.v1+json": {
       "config": {
        "plotlyServerURL": "https://plot.ly"
       },
       "data": [
        {
         "line": {
          "color": "blue"
         },
         "mode": "lines",
         "name": "YMAX",
         "type": "scatter",
         "x": [
          "2025-01-28T00:00:00.000000000",
          "2025-01-27T00:00:00.000000000",
          "2025-01-24T00:00:00.000000000",
          "2025-01-23T00:00:00.000000000",
          "2025-01-22T00:00:00.000000000",
          "2025-01-21T00:00:00.000000000",
          "2025-01-17T00:00:00.000000000",
          "2025-01-16T00:00:00.000000000",
          "2025-01-15T00:00:00.000000000",
          "2025-01-14T00:00:00.000000000",
          "2025-01-13T00:00:00.000000000",
          "2025-01-10T00:00:00.000000000",
          "2025-01-08T00:00:00.000000000",
          "2025-01-07T00:00:00.000000000",
          "2025-01-06T00:00:00.000000000",
          "2025-01-03T00:00:00.000000000",
          "2025-01-02T00:00:00.000000000",
          "2024-12-31T00:00:00.000000000",
          "2024-12-30T00:00:00.000000000",
          "2024-12-27T00:00:00.000000000",
          "2024-12-26T00:00:00.000000000",
          "2024-12-24T00:00:00.000000000",
          "2024-12-23T00:00:00.000000000",
          "2024-12-20T00:00:00.000000000",
          "2024-12-19T00:00:00.000000000",
          "2024-12-18T00:00:00.000000000",
          "2024-12-17T00:00:00.000000000",
          "2024-12-16T00:00:00.000000000",
          "2024-12-13T00:00:00.000000000",
          "2024-12-12T00:00:00.000000000",
          "2024-12-11T00:00:00.000000000",
          "2024-12-10T00:00:00.000000000",
          "2024-12-09T00:00:00.000000000",
          "2024-12-06T00:00:00.000000000",
          "2024-12-05T00:00:00.000000000",
          "2024-12-04T00:00:00.000000000",
          "2024-12-03T00:00:00.000000000",
          "2024-12-02T00:00:00.000000000",
          "2024-11-29T00:00:00.000000000",
          "2024-11-27T00:00:00.000000000",
          "2024-11-26T00:00:00.000000000",
          "2024-11-25T00:00:00.000000000",
          "2024-11-22T00:00:00.000000000",
          "2024-11-21T00:00:00.000000000",
          "2024-11-20T00:00:00.000000000",
          "2024-11-19T00:00:00.000000000",
          "2024-11-18T00:00:00.000000000",
          "2024-11-15T00:00:00.000000000",
          "2024-11-14T00:00:00.000000000",
          "2024-11-13T00:00:00.000000000",
          "2024-11-12T00:00:00.000000000",
          "2024-11-11T00:00:00.000000000",
          "2024-11-08T00:00:00.000000000",
          "2024-11-07T00:00:00.000000000",
          "2024-11-06T00:00:00.000000000",
          "2024-11-05T00:00:00.000000000",
          "2024-11-04T00:00:00.000000000",
          "2024-11-01T00:00:00.000000000",
          "2024-10-31T00:00:00.000000000",
          "2024-10-30T00:00:00.000000000",
          "2024-10-29T00:00:00.000000000",
          "2024-10-28T00:00:00.000000000",
          "2024-10-25T00:00:00.000000000",
          "2024-10-24T00:00:00.000000000",
          "2024-10-23T00:00:00.000000000",
          "2024-10-22T00:00:00.000000000",
          "2024-10-21T00:00:00.000000000",
          "2024-10-18T00:00:00.000000000",
          "2024-10-17T00:00:00.000000000",
          "2024-10-16T00:00:00.000000000",
          "2024-10-15T00:00:00.000000000",
          "2024-10-14T00:00:00.000000000",
          "2024-10-11T00:00:00.000000000",
          "2024-10-10T00:00:00.000000000",
          "2024-10-09T00:00:00.000000000",
          "2024-10-08T00:00:00.000000000",
          "2024-10-07T00:00:00.000000000",
          "2024-10-04T00:00:00.000000000",
          "2024-10-03T00:00:00.000000000",
          "2024-10-02T00:00:00.000000000",
          "2024-10-01T00:00:00.000000000",
          "2024-09-30T00:00:00.000000000",
          "2024-09-27T00:00:00.000000000",
          "2024-09-26T00:00:00.000000000",
          "2024-09-25T00:00:00.000000000",
          "2024-09-24T00:00:00.000000000",
          "2024-09-23T00:00:00.000000000",
          "2024-09-20T00:00:00.000000000",
          "2024-09-19T00:00:00.000000000",
          "2024-09-18T00:00:00.000000000",
          "2024-09-17T00:00:00.000000000",
          "2024-09-16T00:00:00.000000000",
          "2024-09-13T00:00:00.000000000",
          "2024-09-12T00:00:00.000000000",
          "2024-09-11T00:00:00.000000000",
          "2024-09-10T00:00:00.000000000",
          "2024-09-09T00:00:00.000000000",
          "2024-09-06T00:00:00.000000000",
          "2024-09-05T00:00:00.000000000",
          "2024-09-04T00:00:00.000000000",
          "2024-09-03T00:00:00.000000000",
          "2024-08-30T00:00:00.000000000",
          "2024-08-29T00:00:00.000000000",
          "2024-08-28T00:00:00.000000000",
          "2024-08-27T00:00:00.000000000",
          "2024-08-26T00:00:00.000000000",
          "2024-08-23T00:00:00.000000000",
          "2024-08-22T00:00:00.000000000",
          "2024-08-21T00:00:00.000000000",
          "2024-08-20T00:00:00.000000000",
          "2024-08-19T00:00:00.000000000",
          "2024-08-16T00:00:00.000000000",
          "2024-08-15T00:00:00.000000000",
          "2024-08-14T00:00:00.000000000",
          "2024-08-13T00:00:00.000000000",
          "2024-08-12T00:00:00.000000000",
          "2024-08-09T00:00:00.000000000",
          "2024-08-08T00:00:00.000000000",
          "2024-08-07T00:00:00.000000000",
          "2024-08-06T00:00:00.000000000",
          "2024-08-05T00:00:00.000000000",
          "2024-08-02T00:00:00.000000000",
          "2024-08-01T00:00:00.000000000",
          "2024-07-31T00:00:00.000000000",
          "2024-07-30T00:00:00.000000000",
          "2024-07-29T00:00:00.000000000",
          "2024-07-26T00:00:00.000000000",
          "2024-07-25T00:00:00.000000000",
          "2024-07-24T00:00:00.000000000",
          "2024-07-23T00:00:00.000000000",
          "2024-07-22T00:00:00.000000000",
          "2024-07-19T00:00:00.000000000",
          "2024-07-18T00:00:00.000000000",
          "2024-07-17T00:00:00.000000000",
          "2024-07-16T00:00:00.000000000",
          "2024-07-15T00:00:00.000000000",
          "2024-07-12T00:00:00.000000000",
          "2024-07-11T00:00:00.000000000",
          "2024-07-10T00:00:00.000000000",
          "2024-07-09T00:00:00.000000000",
          "2024-07-08T00:00:00.000000000",
          "2024-07-05T00:00:00.000000000",
          "2024-07-03T00:00:00.000000000",
          "2024-07-02T00:00:00.000000000",
          "2024-07-01T00:00:00.000000000",
          "2024-06-28T00:00:00.000000000",
          "2024-06-27T00:00:00.000000000",
          "2024-06-26T00:00:00.000000000",
          "2024-06-25T00:00:00.000000000",
          "2024-06-24T00:00:00.000000000",
          "2024-06-21T00:00:00.000000000",
          "2024-06-20T00:00:00.000000000",
          "2024-06-18T00:00:00.000000000",
          "2024-06-17T00:00:00.000000000",
          "2024-06-14T00:00:00.000000000",
          "2024-06-13T00:00:00.000000000",
          "2024-06-12T00:00:00.000000000",
          "2024-06-11T00:00:00.000000000",
          "2024-06-10T00:00:00.000000000",
          "2024-06-07T00:00:00.000000000",
          "2024-06-06T00:00:00.000000000",
          "2024-06-05T00:00:00.000000000",
          "2024-06-04T00:00:00.000000000",
          "2024-06-03T00:00:00.000000000",
          "2024-05-31T00:00:00.000000000",
          "2024-05-30T00:00:00.000000000",
          "2024-05-29T00:00:00.000000000",
          "2024-05-28T00:00:00.000000000",
          "2024-05-24T00:00:00.000000000",
          "2024-05-23T00:00:00.000000000",
          "2024-05-22T00:00:00.000000000",
          "2024-05-21T00:00:00.000000000",
          "2024-05-20T00:00:00.000000000",
          "2024-05-17T00:00:00.000000000",
          "2024-05-16T00:00:00.000000000",
          "2024-05-15T00:00:00.000000000",
          "2024-05-14T00:00:00.000000000",
          "2024-05-13T00:00:00.000000000",
          "2024-05-10T00:00:00.000000000",
          "2024-05-09T00:00:00.000000000",
          "2024-05-08T00:00:00.000000000",
          "2024-05-07T00:00:00.000000000",
          "2024-05-06T00:00:00.000000000",
          "2024-05-03T00:00:00.000000000",
          "2024-05-02T00:00:00.000000000",
          "2024-05-01T00:00:00.000000000",
          "2024-04-30T00:00:00.000000000",
          "2024-04-29T00:00:00.000000000",
          "2024-04-26T00:00:00.000000000",
          "2024-04-25T00:00:00.000000000",
          "2024-04-24T00:00:00.000000000",
          "2024-04-23T00:00:00.000000000",
          "2024-04-22T00:00:00.000000000",
          "2024-04-19T00:00:00.000000000",
          "2024-04-18T00:00:00.000000000",
          "2024-04-17T00:00:00.000000000",
          "2024-04-16T00:00:00.000000000",
          "2024-04-15T00:00:00.000000000",
          "2024-04-12T00:00:00.000000000",
          "2024-04-11T00:00:00.000000000",
          "2024-04-10T00:00:00.000000000",
          "2024-04-09T00:00:00.000000000",
          "2024-04-08T00:00:00.000000000",
          "2024-04-05T00:00:00.000000000",
          "2024-04-04T00:00:00.000000000",
          "2024-04-03T00:00:00.000000000",
          "2024-04-02T00:00:00.000000000",
          "2024-04-01T00:00:00.000000000",
          "2024-03-28T00:00:00.000000000",
          "2024-03-27T00:00:00.000000000",
          "2024-03-26T00:00:00.000000000",
          "2024-03-25T00:00:00.000000000",
          "2024-03-22T00:00:00.000000000",
          "2024-03-21T00:00:00.000000000",
          "2024-03-20T00:00:00.000000000",
          "2024-03-19T00:00:00.000000000",
          "2024-03-18T00:00:00.000000000",
          "2024-03-15T00:00:00.000000000",
          "2024-03-14T00:00:00.000000000",
          "2024-03-13T00:00:00.000000000",
          "2024-03-12T00:00:00.000000000",
          "2024-03-11T00:00:00.000000000",
          "2024-03-08T00:00:00.000000000",
          "2024-03-07T00:00:00.000000000",
          "2024-03-06T00:00:00.000000000",
          "2024-03-05T00:00:00.000000000",
          "2024-03-04T00:00:00.000000000",
          "2024-03-01T00:00:00.000000000",
          "2024-02-29T00:00:00.000000000",
          "2024-02-28T00:00:00.000000000",
          "2024-02-27T00:00:00.000000000",
          "2024-02-26T00:00:00.000000000",
          "2024-02-23T00:00:00.000000000",
          "2024-02-22T00:00:00.000000000",
          "2024-02-21T00:00:00.000000000",
          "2024-02-20T00:00:00.000000000",
          "2024-02-16T00:00:00.000000000",
          "2024-02-15T00:00:00.000000000",
          "2024-02-14T00:00:00.000000000",
          "2024-02-13T00:00:00.000000000",
          "2024-02-12T00:00:00.000000000",
          "2024-02-09T00:00:00.000000000",
          "2024-02-08T00:00:00.000000000",
          "2024-02-07T00:00:00.000000000",
          "2024-02-06T00:00:00.000000000",
          "2024-02-05T00:00:00.000000000",
          "2024-02-02T00:00:00.000000000",
          "2024-02-01T00:00:00.000000000",
          "2024-01-31T00:00:00.000000000"
         ],
         "y": {
          "bdata": "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",
          "dtype": "f8"
         }
        },
        {
         "line": {
          "color": "green"
         },
         "mode": "lines",
         "name": "YMAG",
         "type": "scatter",
         "x": [
          "2025-01-28T00:00:00.000000000",
          "2025-01-27T00:00:00.000000000",
          "2025-01-24T00:00:00.000000000",
          "2025-01-23T00:00:00.000000000",
          "2025-01-22T00:00:00.000000000",
          "2025-01-21T00:00:00.000000000",
          "2025-01-17T00:00:00.000000000",
          "2025-01-16T00:00:00.000000000",
          "2025-01-15T00:00:00.000000000",
          "2025-01-14T00:00:00.000000000",
          "2025-01-13T00:00:00.000000000",
          "2025-01-10T00:00:00.000000000",
          "2025-01-08T00:00:00.000000000",
          "2025-01-07T00:00:00.000000000",
          "2025-01-06T00:00:00.000000000",
          "2025-01-03T00:00:00.000000000",
          "2025-01-02T00:00:00.000000000",
          "2024-12-31T00:00:00.000000000",
          "2024-12-30T00:00:00.000000000",
          "2024-12-27T00:00:00.000000000",
          "2024-12-26T00:00:00.000000000",
          "2024-12-24T00:00:00.000000000",
          "2024-12-23T00:00:00.000000000",
          "2024-12-20T00:00:00.000000000",
          "2024-12-19T00:00:00.000000000",
          "2024-12-18T00:00:00.000000000",
          "2024-12-17T00:00:00.000000000",
          "2024-12-16T00:00:00.000000000",
          "2024-12-13T00:00:00.000000000",
          "2024-12-12T00:00:00.000000000",
          "2024-12-11T00:00:00.000000000",
          "2024-12-10T00:00:00.000000000",
          "2024-12-09T00:00:00.000000000",
          "2024-12-06T00:00:00.000000000",
          "2024-12-05T00:00:00.000000000",
          "2024-12-04T00:00:00.000000000",
          "2024-12-03T00:00:00.000000000",
          "2024-12-02T00:00:00.000000000",
          "2024-11-29T00:00:00.000000000",
          "2024-11-27T00:00:00.000000000",
          "2024-11-26T00:00:00.000000000",
          "2024-11-25T00:00:00.000000000",
          "2024-11-22T00:00:00.000000000",
          "2024-11-21T00:00:00.000000000",
          "2024-11-20T00:00:00.000000000",
          "2024-11-19T00:00:00.000000000",
          "2024-11-18T00:00:00.000000000",
          "2024-11-15T00:00:00.000000000",
          "2024-11-14T00:00:00.000000000",
          "2024-11-13T00:00:00.000000000",
          "2024-11-12T00:00:00.000000000",
          "2024-11-11T00:00:00.000000000",
          "2024-11-08T00:00:00.000000000",
          "2024-11-07T00:00:00.000000000",
          "2024-11-06T00:00:00.000000000",
          "2024-11-05T00:00:00.000000000",
          "2024-11-04T00:00:00.000000000",
          "2024-11-01T00:00:00.000000000",
          "2024-10-31T00:00:00.000000000",
          "2024-10-30T00:00:00.000000000",
          "2024-10-29T00:00:00.000000000",
          "2024-10-28T00:00:00.000000000",
          "2024-10-25T00:00:00.000000000",
          "2024-10-24T00:00:00.000000000",
          "2024-10-23T00:00:00.000000000",
          "2024-10-22T00:00:00.000000000",
          "2024-10-21T00:00:00.000000000",
          "2024-10-18T00:00:00.000000000",
          "2024-10-17T00:00:00.000000000",
          "2024-10-16T00:00:00.000000000",
          "2024-10-15T00:00:00.000000000",
          "2024-10-14T00:00:00.000000000",
          "2024-10-11T00:00:00.000000000",
          "2024-10-10T00:00:00.000000000",
          "2024-10-09T00:00:00.000000000",
          "2024-10-08T00:00:00.000000000",
          "2024-10-07T00:00:00.000000000",
          "2024-10-04T00:00:00.000000000",
          "2024-10-03T00:00:00.000000000",
          "2024-10-02T00:00:00.000000000",
          "2024-10-01T00:00:00.000000000",
          "2024-09-30T00:00:00.000000000",
          "2024-09-27T00:00:00.000000000",
          "2024-09-26T00:00:00.000000000",
          "2024-09-25T00:00:00.000000000",
          "2024-09-24T00:00:00.000000000",
          "2024-09-23T00:00:00.000000000",
          "2024-09-20T00:00:00.000000000",
          "2024-09-19T00:00:00.000000000",
          "2024-09-18T00:00:00.000000000",
          "2024-09-17T00:00:00.000000000",
          "2024-09-16T00:00:00.000000000",
          "2024-09-13T00:00:00.000000000",
          "2024-09-12T00:00:00.000000000",
          "2024-09-11T00:00:00.000000000",
          "2024-09-10T00:00:00.000000000",
          "2024-09-09T00:00:00.000000000",
          "2024-09-06T00:00:00.000000000",
          "2024-09-05T00:00:00.000000000",
          "2024-09-04T00:00:00.000000000",
          "2024-09-03T00:00:00.000000000",
          "2024-08-30T00:00:00.000000000",
          "2024-08-29T00:00:00.000000000",
          "2024-08-28T00:00:00.000000000",
          "2024-08-27T00:00:00.000000000",
          "2024-08-26T00:00:00.000000000",
          "2024-08-23T00:00:00.000000000",
          "2024-08-22T00:00:00.000000000",
          "2024-08-21T00:00:00.000000000",
          "2024-08-20T00:00:00.000000000",
          "2024-08-19T00:00:00.000000000",
          "2024-08-16T00:00:00.000000000",
          "2024-08-15T00:00:00.000000000",
          "2024-08-14T00:00:00.000000000",
          "2024-08-13T00:00:00.000000000",
          "2024-08-12T00:00:00.000000000",
          "2024-08-09T00:00:00.000000000",
          "2024-08-08T00:00:00.000000000",
          "2024-08-07T00:00:00.000000000",
          "2024-08-06T00:00:00.000000000",
          "2024-08-05T00:00:00.000000000",
          "2024-08-02T00:00:00.000000000",
          "2024-08-01T00:00:00.000000000",
          "2024-07-31T00:00:00.000000000",
          "2024-07-30T00:00:00.000000000",
          "2024-07-29T00:00:00.000000000",
          "2024-07-26T00:00:00.000000000",
          "2024-07-25T00:00:00.000000000",
          "2024-07-24T00:00:00.000000000",
          "2024-07-23T00:00:00.000000000",
          "2024-07-22T00:00:00.000000000",
          "2024-07-19T00:00:00.000000000",
          "2024-07-18T00:00:00.000000000",
          "2024-07-17T00:00:00.000000000",
          "2024-07-16T00:00:00.000000000",
          "2024-07-15T00:00:00.000000000",
          "2024-07-12T00:00:00.000000000",
          "2024-07-11T00:00:00.000000000",
          "2024-07-10T00:00:00.000000000",
          "2024-07-09T00:00:00.000000000",
          "2024-07-08T00:00:00.000000000",
          "2024-07-05T00:00:00.000000000",
          "2024-07-03T00:00:00.000000000",
          "2024-07-02T00:00:00.000000000",
          "2024-07-01T00:00:00.000000000",
          "2024-06-28T00:00:00.000000000",
          "2024-06-27T00:00:00.000000000",
          "2024-06-26T00:00:00.000000000",
          "2024-06-25T00:00:00.000000000",
          "2024-06-24T00:00:00.000000000",
          "2024-06-21T00:00:00.000000000",
          "2024-06-20T00:00:00.000000000",
          "2024-06-18T00:00:00.000000000",
          "2024-06-17T00:00:00.000000000",
          "2024-06-14T00:00:00.000000000",
          "2024-06-13T00:00:00.000000000",
          "2024-06-12T00:00:00.000000000",
          "2024-06-11T00:00:00.000000000",
          "2024-06-10T00:00:00.000000000",
          "2024-06-07T00:00:00.000000000",
          "2024-06-06T00:00:00.000000000",
          "2024-06-05T00:00:00.000000000",
          "2024-06-04T00:00:00.000000000",
          "2024-06-03T00:00:00.000000000",
          "2024-05-31T00:00:00.000000000",
          "2024-05-30T00:00:00.000000000",
          "2024-05-29T00:00:00.000000000",
          "2024-05-28T00:00:00.000000000",
          "2024-05-24T00:00:00.000000000",
          "2024-05-23T00:00:00.000000000",
          "2024-05-22T00:00:00.000000000",
          "2024-05-21T00:00:00.000000000",
          "2024-05-20T00:00:00.000000000",
          "2024-05-17T00:00:00.000000000",
          "2024-05-16T00:00:00.000000000",
          "2024-05-15T00:00:00.000000000",
          "2024-05-14T00:00:00.000000000",
          "2024-05-13T00:00:00.000000000",
          "2024-05-10T00:00:00.000000000",
          "2024-05-09T00:00:00.000000000",
          "2024-05-08T00:00:00.000000000",
          "2024-05-07T00:00:00.000000000",
          "2024-05-06T00:00:00.000000000",
          "2024-05-03T00:00:00.000000000",
          "2024-05-02T00:00:00.000000000",
          "2024-05-01T00:00:00.000000000",
          "2024-04-30T00:00:00.000000000",
          "2024-04-29T00:00:00.000000000",
          "2024-04-26T00:00:00.000000000",
          "2024-04-25T00:00:00.000000000",
          "2024-04-24T00:00:00.000000000",
          "2024-04-23T00:00:00.000000000",
          "2024-04-22T00:00:00.000000000",
          "2024-04-19T00:00:00.000000000",
          "2024-04-18T00:00:00.000000000",
          "2024-04-17T00:00:00.000000000",
          "2024-04-16T00:00:00.000000000",
          "2024-04-15T00:00:00.000000000",
          "2024-04-12T00:00:00.000000000",
          "2024-04-11T00:00:00.000000000",
          "2024-04-10T00:00:00.000000000",
          "2024-04-09T00:00:00.000000000",
          "2024-04-08T00:00:00.000000000",
          "2024-04-05T00:00:00.000000000",
          "2024-04-04T00:00:00.000000000",
          "2024-04-03T00:00:00.000000000",
          "2024-04-02T00:00:00.000000000",
          "2024-04-01T00:00:00.000000000",
          "2024-03-28T00:00:00.000000000",
          "2024-03-27T00:00:00.000000000",
          "2024-03-26T00:00:00.000000000",
          "2024-03-25T00:00:00.000000000",
          "2024-03-22T00:00:00.000000000",
          "2024-03-21T00:00:00.000000000",
          "2024-03-20T00:00:00.000000000",
          "2024-03-19T00:00:00.000000000",
          "2024-03-18T00:00:00.000000000",
          "2024-03-15T00:00:00.000000000",
          "2024-03-14T00:00:00.000000000",
          "2024-03-13T00:00:00.000000000",
          "2024-03-12T00:00:00.000000000",
          "2024-03-11T00:00:00.000000000",
          "2024-03-08T00:00:00.000000000",
          "2024-03-07T00:00:00.000000000",
          "2024-03-06T00:00:00.000000000",
          "2024-03-05T00:00:00.000000000",
          "2024-03-04T00:00:00.000000000",
          "2024-03-01T00:00:00.000000000",
          "2024-02-29T00:00:00.000000000",
          "2024-02-28T00:00:00.000000000",
          "2024-02-27T00:00:00.000000000",
          "2024-02-26T00:00:00.000000000",
          "2024-02-23T00:00:00.000000000",
          "2024-02-22T00:00:00.000000000",
          "2024-02-21T00:00:00.000000000",
          "2024-02-20T00:00:00.000000000",
          "2024-02-16T00:00:00.000000000",
          "2024-02-15T00:00:00.000000000",
          "2024-02-14T00:00:00.000000000",
          "2024-02-13T00:00:00.000000000",
          "2024-02-12T00:00:00.000000000",
          "2024-02-09T00:00:00.000000000",
          "2024-02-08T00:00:00.000000000",
          "2024-02-07T00:00:00.000000000",
          "2024-02-06T00:00:00.000000000",
          "2024-02-05T00:00:00.000000000",
          "2024-02-02T00:00:00.000000000",
          "2024-02-01T00:00:00.000000000",
          "2024-01-31T00:00:00.000000000"
         ],
         "y": {
          "bdata": "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",
          "dtype": "f8"
         }
        }
       ],
       "layout": {
        "legend": {
         "x": 0,
         "y": 1
        },
        "template": {
         "data": {
          "bar": [
           {
            "error_x": {
             "color": "#f2f5fa"
            },
            "error_y": {
             "color": "#f2f5fa"
            },
            "marker": {
             "line": {
              "color": "rgb(17,17,17)",
              "width": 0.5
             },
             "pattern": {
              "fillmode": "overlay",
              "size": 10,
              "solidity": 0.2
             }
            },
            "type": "bar"
           }
          ],
          "barpolar": [
           {
            "marker": {
             "line": {
              "color": "rgb(17,17,17)",
              "width": 0.5
             },
             "pattern": {
              "fillmode": "overlay",
              "size": 10,
              "solidity": 0.2
             }
            },
            "type": "barpolar"
           }
          ],
          "carpet": [
           {
            "aaxis": {
             "endlinecolor": "#A2B1C6",
             "gridcolor": "#506784",
             "linecolor": "#506784",
             "minorgridcolor": "#506784",
             "startlinecolor": "#A2B1C6"
            },
            "baxis": {
             "endlinecolor": "#A2B1C6",
             "gridcolor": "#506784",
             "linecolor": "#506784",
             "minorgridcolor": "#506784",
             "startlinecolor": "#A2B1C6"
            },
            "type": "carpet"
           }
          ],
          "choropleth": [
           {
            "colorbar": {
             "outlinewidth": 0,
             "ticks": ""
            },
            "type": "choropleth"
           }
          ],
          "contour": [
           {
            "colorbar": {
             "outlinewidth": 0,
             "ticks": ""
            },
            "colorscale": [
             [
              0,
              "#0d0887"
             ],
             [
              0.1111111111111111,
              "#46039f"
             ],
             [
              0.2222222222222222,
              "#7201a8"
             ],
             [
              0.3333333333333333,
              "#9c179e"
             ],
             [
              0.4444444444444444,
              "#bd3786"
             ],
             [
              0.5555555555555556,
              "#d8576b"
             ],
             [
              0.6666666666666666,
              "#ed7953"
             ],
             [
              0.7777777777777778,
              "#fb9f3a"
             ],
             [
              0.8888888888888888,
              "#fdca26"
             ],
             [
              1,
              "#f0f921"
             ]
            ],
            "type": "contour"
           }
          ],
          "contourcarpet": [
           {
            "colorbar": {
             "outlinewidth": 0,
             "ticks": ""
            },
            "type": "contourcarpet"
           }
          ],
          "heatmap": [
           {
            "colorbar": {
             "outlinewidth": 0,
             "ticks": ""
            },
            "colorscale": [
             [
              0,
              "#0d0887"
             ],
             [
              0.1111111111111111,
              "#46039f"
             ],
             [
              0.2222222222222222,
              "#7201a8"
             ],
             [
              0.3333333333333333,
              "#9c179e"
             ],
             [
              0.4444444444444444,
              "#bd3786"
             ],
             [
              0.5555555555555556,
              "#d8576b"
             ],
             [
              0.6666666666666666,
              "#ed7953"
             ],
             [
              0.7777777777777778,
              "#fb9f3a"
             ],
             [
              0.8888888888888888,
              "#fdca26"
             ],
             [
              1,
              "#f0f921"
             ]
            ],
            "type": "heatmap"
           }
          ],
          "histogram": [
           {
            "marker": {
             "pattern": {
              "fillmode": "overlay",
              "size": 10,
              "solidity": 0.2
             }
            },
            "type": "histogram"
           }
          ],
          "histogram2d": [
           {
            "colorbar": {
             "outlinewidth": 0,
             "ticks": ""
            },
            "colorscale": [
             [
              0,
              "#0d0887"
             ],
             [
              0.1111111111111111,
              "#46039f"
             ],
             [
              0.2222222222222222,
              "#7201a8"
             ],
             [
              0.3333333333333333,
              "#9c179e"
             ],
             [
              0.4444444444444444,
              "#bd3786"
             ],
             [
              0.5555555555555556,
              "#d8576b"
             ],
             [
              0.6666666666666666,
              "#ed7953"
             ],
             [
              0.7777777777777778,
              "#fb9f3a"
             ],
             [
              0.8888888888888888,
              "#fdca26"
             ],
             [
              1,
              "#f0f921"
             ]
            ],
            "type": "histogram2d"
           }
          ],
          "histogram2dcontour": [
           {
            "colorbar": {
             "outlinewidth": 0,
             "ticks": ""
            },
            "colorscale": [
             [
              0,
              "#0d0887"
             ],
             [
              0.1111111111111111,
              "#46039f"
             ],
             [
              0.2222222222222222,
              "#7201a8"
             ],
             [
              0.3333333333333333,
              "#9c179e"
             ],
             [
              0.4444444444444444,
              "#bd3786"
             ],
             [
              0.5555555555555556,
              "#d8576b"
             ],
             [
              0.6666666666666666,
              "#ed7953"
             ],
             [
              0.7777777777777778,
              "#fb9f3a"
             ],
             [
              0.8888888888888888,
              "#fdca26"
             ],
             [
              1,
              "#f0f921"
             ]
            ],
            "type": "histogram2dcontour"
           }
          ],
          "mesh3d": [
           {
            "colorbar": {
             "outlinewidth": 0,
             "ticks": ""
            },
            "type": "mesh3d"
           }
          ],
          "parcoords": [
           {
            "line": {
             "colorbar": {
              "outlinewidth": 0,
              "ticks": ""
             }
            },
            "type": "parcoords"
           }
          ],
          "pie": [
           {
            "automargin": true,
            "type": "pie"
           }
          ],
          "scatter": [
           {
            "marker": {
             "line": {
              "color": "#283442"
             }
            },
            "type": "scatter"
           }
          ],
          "scatter3d": [
           {
            "line": {
             "colorbar": {
              "outlinewidth": 0,
              "ticks": ""
             }
            },
            "marker": {
             "colorbar": {
              "outlinewidth": 0,
              "ticks": ""
             }
            },
            "type": "scatter3d"
           }
          ],
          "scattercarpet": [
           {
            "marker": {
             "colorbar": {
              "outlinewidth": 0,
              "ticks": ""
             }
            },
            "type": "scattercarpet"
           }
          ],
          "scattergeo": [
           {
            "marker": {
             "colorbar": {
              "outlinewidth": 0,
              "ticks": ""
             }
            },
            "type": "scattergeo"
           }
          ],
          "scattergl": [
           {
            "marker": {
             "line": {
              "color": "#283442"
             }
            },
            "type": "scattergl"
           }
          ],
          "scattermap": [
           {
            "marker": {
             "colorbar": {
              "outlinewidth": 0,
              "ticks": ""
             }
            },
            "type": "scattermap"
           }
          ],
          "scattermapbox": [
           {
            "marker": {
             "colorbar": {
              "outlinewidth": 0,
              "ticks": ""
             }
            },
            "type": "scattermapbox"
           }
          ],
          "scatterpolar": [
           {
            "marker": {
             "colorbar": {
              "outlinewidth": 0,
              "ticks": ""
             }
            },
            "type": "scatterpolar"
           }
          ],
          "scatterpolargl": [
           {
            "marker": {
             "colorbar": {
              "outlinewidth": 0,
              "ticks": ""
             }
            },
            "type": "scatterpolargl"
           }
          ],
          "scatterternary": [
           {
            "marker": {
             "colorbar": {
              "outlinewidth": 0,
              "ticks": ""
             }
            },
            "type": "scatterternary"
           }
          ],
          "surface": [
           {
            "colorbar": {
             "outlinewidth": 0,
             "ticks": ""
            },
            "colorscale": [
             [
              0,
              "#0d0887"
             ],
             [
              0.1111111111111111,
              "#46039f"
             ],
             [
              0.2222222222222222,
              "#7201a8"
             ],
             [
              0.3333333333333333,
              "#9c179e"
             ],
             [
              0.4444444444444444,
              "#bd3786"
             ],
             [
              0.5555555555555556,
              "#d8576b"
             ],
             [
              0.6666666666666666,
              "#ed7953"
             ],
             [
              0.7777777777777778,
              "#fb9f3a"
             ],
             [
              0.8888888888888888,
              "#fdca26"
             ],
             [
              1,
              "#f0f921"
             ]
            ],
            "type": "surface"
           }
          ],
          "table": [
           {
            "cells": {
             "fill": {
              "color": "#506784"
             },
             "line": {
              "color": "rgb(17,17,17)"
             }
            },
            "header": {
             "fill": {
              "color": "#2a3f5f"
             },
             "line": {
              "color": "rgb(17,17,17)"
             }
            },
            "type": "table"
           }
          ]
         },
         "layout": {
          "annotationdefaults": {
           "arrowcolor": "#f2f5fa",
           "arrowhead": 0,
           "arrowwidth": 1
          },
          "autotypenumbers": "strict",
          "coloraxis": {
           "colorbar": {
            "outlinewidth": 0,
            "ticks": ""
           }
          },
          "colorscale": {
           "diverging": [
            [
             0,
             "#8e0152"
            ],
            [
             0.1,
             "#c51b7d"
            ],
            [
             0.2,
             "#de77ae"
            ],
            [
             0.3,
             "#f1b6da"
            ],
            [
             0.4,
             "#fde0ef"
            ],
            [
             0.5,
             "#f7f7f7"
            ],
            [
             0.6,
             "#e6f5d0"
            ],
            [
             0.7,
             "#b8e186"
            ],
            [
             0.8,
             "#7fbc41"
            ],
            [
             0.9,
             "#4d9221"
            ],
            [
             1,
             "#276419"
            ]
           ],
           "sequential": [
            [
             0,
             "#0d0887"
            ],
            [
             0.1111111111111111,
             "#46039f"
            ],
            [
             0.2222222222222222,
             "#7201a8"
            ],
            [
             0.3333333333333333,
             "#9c179e"
            ],
            [
             0.4444444444444444,
             "#bd3786"
            ],
            [
             0.5555555555555556,
             "#d8576b"
            ],
            [
             0.6666666666666666,
             "#ed7953"
            ],
            [
             0.7777777777777778,
             "#fb9f3a"
            ],
            [
             0.8888888888888888,
             "#fdca26"
            ],
            [
             1,
             "#f0f921"
            ]
           ],
           "sequentialminus": [
            [
             0,
             "#0d0887"
            ],
            [
             0.1111111111111111,
             "#46039f"
            ],
            [
             0.2222222222222222,
             "#7201a8"
            ],
            [
             0.3333333333333333,
             "#9c179e"
            ],
            [
             0.4444444444444444,
             "#bd3786"
            ],
            [
             0.5555555555555556,
             "#d8576b"
            ],
            [
             0.6666666666666666,
             "#ed7953"
            ],
            [
             0.7777777777777778,
             "#fb9f3a"
            ],
            [
             0.8888888888888888,
             "#fdca26"
            ],
            [
             1,
             "#f0f921"
            ]
           ]
          },
          "colorway": [
           "#636efa",
           "#EF553B",
           "#00cc96",
           "#ab63fa",
           "#FFA15A",
           "#19d3f3",
           "#FF6692",
           "#B6E880",
           "#FF97FF",
           "#FECB52"
          ],
          "font": {
           "color": "#f2f5fa"
          },
          "geo": {
           "bgcolor": "rgb(17,17,17)",
           "lakecolor": "rgb(17,17,17)",
           "landcolor": "rgb(17,17,17)",
           "showlakes": true,
           "showland": true,
           "subunitcolor": "#506784"
          },
          "hoverlabel": {
           "align": "left"
          },
          "hovermode": "closest",
          "mapbox": {
           "style": "dark"
          },
          "paper_bgcolor": "rgb(17,17,17)",
          "plot_bgcolor": "rgb(17,17,17)",
          "polar": {
           "angularaxis": {
            "gridcolor": "#506784",
            "linecolor": "#506784",
            "ticks": ""
           },
           "bgcolor": "rgb(17,17,17)",
           "radialaxis": {
            "gridcolor": "#506784",
            "linecolor": "#506784",
            "ticks": ""
           }
          },
          "scene": {
           "xaxis": {
            "backgroundcolor": "rgb(17,17,17)",
            "gridcolor": "#506784",
            "gridwidth": 2,
            "linecolor": "#506784",
            "showbackground": true,
            "ticks": "",
            "zerolinecolor": "#C8D4E3"
           },
           "yaxis": {
            "backgroundcolor": "rgb(17,17,17)",
            "gridcolor": "#506784",
            "gridwidth": 2,
            "linecolor": "#506784",
            "showbackground": true,
            "ticks": "",
            "zerolinecolor": "#C8D4E3"
           },
           "zaxis": {
            "backgroundcolor": "rgb(17,17,17)",
            "gridcolor": "#506784",
            "gridwidth": 2,
            "linecolor": "#506784",
            "showbackground": true,
            "ticks": "",
            "zerolinecolor": "#C8D4E3"
           }
          },
          "shapedefaults": {
           "line": {
            "color": "#f2f5fa"
           }
          },
          "sliderdefaults": {
           "bgcolor": "#C8D4E3",
           "bordercolor": "rgb(17,17,17)",
           "borderwidth": 1,
           "tickwidth": 0
          },
          "ternary": {
           "aaxis": {
            "gridcolor": "#506784",
            "linecolor": "#506784",
            "ticks": ""
           },
           "baxis": {
            "gridcolor": "#506784",
            "linecolor": "#506784",
            "ticks": ""
           },
           "bgcolor": "rgb(17,17,17)",
           "caxis": {
            "gridcolor": "#506784",
            "linecolor": "#506784",
            "ticks": ""
           }
          },
          "title": {
           "x": 0.05
          },
          "updatemenudefaults": {
           "bgcolor": "#506784",
           "borderwidth": 0
          },
          "xaxis": {
           "automargin": true,
           "gridcolor": "#283442",
           "linecolor": "#506784",
           "ticks": "",
           "title": {
            "standoff": 15
           },
           "zerolinecolor": "#283442",
           "zerolinewidth": 2
          },
          "yaxis": {
           "automargin": true,
           "gridcolor": "#283442",
           "linecolor": "#506784",
           "ticks": "",
           "title": {
            "standoff": 15
           },
           "zerolinecolor": "#283442",
           "zerolinewidth": 2
          }
         }
        },
        "title": {
         "text": "YMAX vs YMAG Price Trend"
        },
        "xaxis": {
         "tickangle": -45,
         "title": {
          "text": "Date"
         }
        },
        "yaxis": {
         "title": {
          "text": "Price"
         }
        }
       }
      }
     },
     "metadata": {},
     "output_type": "display_data"
    }
   ],
   "source": [
    "import plotly.graph_objects as go\n",
    "\n",
    "# Create a figure\n",
    "fig = go.Figure()\n",
    "\n",
    "# Add YMAX Line (Blue, No Markers)\n",
    "fig.add_trace(go.Scatter(\n",
    "    x=YMAX_YMAG_df.index, \n",
    "    y=YMAX_YMAG_df[\"YMAX\"], \n",
    "    mode=\"lines\",  # Remove markers\n",
    "    name=\"YMAX\",\n",
    "    line=dict(color=\"blue\")\n",
    "))\n",
    "\n",
    "# Add YMAG Line (Green, No Markers)\n",
    "fig.add_trace(go.Scatter(\n",
    "    x=YMAX_YMAG_df.index, \n",
    "    y=YMAX_YMAG_df[\"YMAG\"], \n",
    "    mode=\"lines\",  # Remove markers\n",
    "    name=\"YMAG\",\n",
    "    line=dict(color=\"green\")\n",
    "))\n",
    "\n",
    "# Customize Layout\n",
    "fig.update_layout(\n",
    "    title=\"YMAX vs YMAG Price Trend\",\n",
    "    xaxis_title=\"Date\",\n",
    "    yaxis_title=\"Price\",\n",
    "    xaxis=dict(tickangle=-45),  # Rotate x-axis labels\n",
    "    template=\"plotly_dark\",  # Optional: dark mode\n",
    "    legend=dict(x=0, y=1)  # Position legend at the top-left\n",
    ")\n",
    "\n",
    "# Show the interactive plot\n",
    "fig.show()\n"
   ]
  },
  {
   "cell_type": "code",
   "execution_count": 148,
   "metadata": {},
   "outputs": [
    {
     "data": {
      "text/html": [
       "<div>\n",
       "<style scoped>\n",
       "    .dataframe tbody tr th:only-of-type {\n",
       "        vertical-align: middle;\n",
       "    }\n",
       "\n",
       "    .dataframe tbody tr th {\n",
       "        vertical-align: top;\n",
       "    }\n",
       "\n",
       "    .dataframe thead th {\n",
       "        text-align: right;\n",
       "    }\n",
       "</style>\n",
       "<table border=\"1\" class=\"dataframe\">\n",
       "  <thead>\n",
       "    <tr style=\"text-align: right;\">\n",
       "      <th></th>\n",
       "      <th>YMAX</th>\n",
       "      <th>YMAG</th>\n",
       "      <th>YMAX Volatility</th>\n",
       "      <th>YMAG Volatility</th>\n",
       "      <th>Rolling Correlation</th>\n",
       "    </tr>\n",
       "    <tr>\n",
       "      <th>Date</th>\n",
       "      <th></th>\n",
       "      <th></th>\n",
       "      <th></th>\n",
       "      <th></th>\n",
       "      <th></th>\n",
       "    </tr>\n",
       "  </thead>\n",
       "  <tbody>\n",
       "    <tr>\n",
       "      <th>2024-12-24</th>\n",
       "      <td>17.85</td>\n",
       "      <td>20.21</td>\n",
       "      <td>0.015455</td>\n",
       "      <td>0.013680</td>\n",
       "      <td>0.920583</td>\n",
       "    </tr>\n",
       "    <tr>\n",
       "      <th>2024-12-23</th>\n",
       "      <td>17.54</td>\n",
       "      <td>19.88</td>\n",
       "      <td>0.015331</td>\n",
       "      <td>0.013166</td>\n",
       "      <td>0.922149</td>\n",
       "    </tr>\n",
       "    <tr>\n",
       "      <th>2024-12-20</th>\n",
       "      <td>17.53</td>\n",
       "      <td>19.63</td>\n",
       "      <td>0.014083</td>\n",
       "      <td>0.012243</td>\n",
       "      <td>0.883521</td>\n",
       "    </tr>\n",
       "    <tr>\n",
       "      <th>2024-12-19</th>\n",
       "      <td>17.29</td>\n",
       "      <td>19.60</td>\n",
       "      <td>0.014471</td>\n",
       "      <td>0.012262</td>\n",
       "      <td>0.873417</td>\n",
       "    </tr>\n",
       "    <tr>\n",
       "      <th>2024-12-18</th>\n",
       "      <td>17.50</td>\n",
       "      <td>19.62</td>\n",
       "      <td>0.014662</td>\n",
       "      <td>0.012216</td>\n",
       "      <td>0.859698</td>\n",
       "    </tr>\n",
       "    <tr>\n",
       "      <th>...</th>\n",
       "      <td>...</td>\n",
       "      <td>...</td>\n",
       "      <td>...</td>\n",
       "      <td>...</td>\n",
       "      <td>...</td>\n",
       "    </tr>\n",
       "    <tr>\n",
       "      <th>2024-02-06</th>\n",
       "      <td>20.61</td>\n",
       "      <td>20.20</td>\n",
       "      <td>0.013439</td>\n",
       "      <td>0.013328</td>\n",
       "      <td>0.871627</td>\n",
       "    </tr>\n",
       "    <tr>\n",
       "      <th>2024-02-05</th>\n",
       "      <td>20.44</td>\n",
       "      <td>20.19</td>\n",
       "      <td>0.013310</td>\n",
       "      <td>0.013012</td>\n",
       "      <td>0.862776</td>\n",
       "    </tr>\n",
       "    <tr>\n",
       "      <th>2024-02-02</th>\n",
       "      <td>20.70</td>\n",
       "      <td>20.30</td>\n",
       "      <td>0.013559</td>\n",
       "      <td>0.013065</td>\n",
       "      <td>0.871646</td>\n",
       "    </tr>\n",
       "    <tr>\n",
       "      <th>2024-02-01</th>\n",
       "      <td>20.39</td>\n",
       "      <td>19.75</td>\n",
       "      <td>0.012961</td>\n",
       "      <td>0.013752</td>\n",
       "      <td>0.853939</td>\n",
       "    </tr>\n",
       "    <tr>\n",
       "      <th>2024-01-31</th>\n",
       "      <td>20.20</td>\n",
       "      <td>19.49</td>\n",
       "      <td>0.012965</td>\n",
       "      <td>0.013513</td>\n",
       "      <td>0.860271</td>\n",
       "    </tr>\n",
       "  </tbody>\n",
       "</table>\n",
       "<p>228 rows × 5 columns</p>\n",
       "</div>"
      ],
      "text/plain": [
       "             YMAX   YMAG  YMAX Volatility  YMAG Volatility  \\\n",
       "Date                                                         \n",
       "2024-12-24  17.85  20.21         0.015455         0.013680   \n",
       "2024-12-23  17.54  19.88         0.015331         0.013166   \n",
       "2024-12-20  17.53  19.63         0.014083         0.012243   \n",
       "2024-12-19  17.29  19.60         0.014471         0.012262   \n",
       "2024-12-18  17.50  19.62         0.014662         0.012216   \n",
       "...           ...    ...              ...              ...   \n",
       "2024-02-06  20.61  20.20         0.013439         0.013328   \n",
       "2024-02-05  20.44  20.19         0.013310         0.013012   \n",
       "2024-02-02  20.70  20.30         0.013559         0.013065   \n",
       "2024-02-01  20.39  19.75         0.012961         0.013752   \n",
       "2024-01-31  20.20  19.49         0.012965         0.013513   \n",
       "\n",
       "            Rolling Correlation  \n",
       "Date                             \n",
       "2024-12-24             0.920583  \n",
       "2024-12-23             0.922149  \n",
       "2024-12-20             0.883521  \n",
       "2024-12-19             0.873417  \n",
       "2024-12-18             0.859698  \n",
       "...                         ...  \n",
       "2024-02-06             0.871627  \n",
       "2024-02-05             0.862776  \n",
       "2024-02-02             0.871646  \n",
       "2024-02-01             0.853939  \n",
       "2024-01-31             0.860271  \n",
       "\n",
       "[228 rows x 5 columns]"
      ]
     },
     "execution_count": 148,
     "metadata": {},
     "output_type": "execute_result"
    }
   ],
   "source": [
    "# Define rolling window size (e.g., 20 days)\n",
    "window_size = 21\n",
    "\n",
    "# Compute daily returns\n",
    "returns = YMAX_YMAG_df.pct_change().dropna()\n",
    "\n",
    "# Compute rolling volatilities (standard deviation of returns)\n",
    "YMAX_YMAG_df[\"YMAX Volatility\"] = returns[\"YMAX\"].rolling(window=window_size).std()\n",
    "YMAX_YMAG_df[\"YMAG Volatility\"] = returns[\"YMAG\"].rolling(window=window_size).std()\n",
    "\n",
    "# Compute rolling correlation\n",
    "YMAX_YMAG_df[\"Rolling Correlation\"] = returns[\"YMAX\"].rolling(window=window_size).corr(returns[\"YMAG\"])\n",
    "\n",
    "# Drop NaN values resulting from rolling calculations\n",
    "YMAX_YMAG_df = YMAX_YMAG_df.dropna()\n",
    "\n",
    "YMAX_YMAG_df"
   ]
  },
  {
   "cell_type": "code",
   "execution_count": 149,
   "metadata": {},
   "outputs": [
    {
     "data": {
      "application/vnd.plotly.v1+json": {
       "config": {
        "plotlyServerURL": "https://plot.ly"
       },
       "data": [
        {
         "line": {
          "color": "blue"
         },
         "mode": "lines",
         "name": "YMAX Volatility",
         "type": "scatter",
         "x": [
          "2024-12-24T00:00:00.000000000",
          "2024-12-23T00:00:00.000000000",
          "2024-12-20T00:00:00.000000000",
          "2024-12-19T00:00:00.000000000",
          "2024-12-18T00:00:00.000000000",
          "2024-12-17T00:00:00.000000000",
          "2024-12-16T00:00:00.000000000",
          "2024-12-13T00:00:00.000000000",
          "2024-12-12T00:00:00.000000000",
          "2024-12-11T00:00:00.000000000",
          "2024-12-10T00:00:00.000000000",
          "2024-12-09T00:00:00.000000000",
          "2024-12-06T00:00:00.000000000",
          "2024-12-05T00:00:00.000000000",
          "2024-12-04T00:00:00.000000000",
          "2024-12-03T00:00:00.000000000",
          "2024-12-02T00:00:00.000000000",
          "2024-11-29T00:00:00.000000000",
          "2024-11-27T00:00:00.000000000",
          "2024-11-26T00:00:00.000000000",
          "2024-11-25T00:00:00.000000000",
          "2024-11-22T00:00:00.000000000",
          "2024-11-21T00:00:00.000000000",
          "2024-11-20T00:00:00.000000000",
          "2024-11-19T00:00:00.000000000",
          "2024-11-18T00:00:00.000000000",
          "2024-11-15T00:00:00.000000000",
          "2024-11-14T00:00:00.000000000",
          "2024-11-13T00:00:00.000000000",
          "2024-11-12T00:00:00.000000000",
          "2024-11-11T00:00:00.000000000",
          "2024-11-08T00:00:00.000000000",
          "2024-11-07T00:00:00.000000000",
          "2024-11-06T00:00:00.000000000",
          "2024-11-05T00:00:00.000000000",
          "2024-11-04T00:00:00.000000000",
          "2024-11-01T00:00:00.000000000",
          "2024-10-31T00:00:00.000000000",
          "2024-10-30T00:00:00.000000000",
          "2024-10-29T00:00:00.000000000",
          "2024-10-28T00:00:00.000000000",
          "2024-10-25T00:00:00.000000000",
          "2024-10-24T00:00:00.000000000",
          "2024-10-23T00:00:00.000000000",
          "2024-10-22T00:00:00.000000000",
          "2024-10-21T00:00:00.000000000",
          "2024-10-18T00:00:00.000000000",
          "2024-10-17T00:00:00.000000000",
          "2024-10-16T00:00:00.000000000",
          "2024-10-15T00:00:00.000000000",
          "2024-10-14T00:00:00.000000000",
          "2024-10-11T00:00:00.000000000",
          "2024-10-10T00:00:00.000000000",
          "2024-10-09T00:00:00.000000000",
          "2024-10-08T00:00:00.000000000",
          "2024-10-07T00:00:00.000000000",
          "2024-10-04T00:00:00.000000000",
          "2024-10-03T00:00:00.000000000",
          "2024-10-02T00:00:00.000000000",
          "2024-10-01T00:00:00.000000000",
          "2024-09-30T00:00:00.000000000",
          "2024-09-27T00:00:00.000000000",
          "2024-09-26T00:00:00.000000000",
          "2024-09-25T00:00:00.000000000",
          "2024-09-24T00:00:00.000000000",
          "2024-09-23T00:00:00.000000000",
          "2024-09-20T00:00:00.000000000",
          "2024-09-19T00:00:00.000000000",
          "2024-09-18T00:00:00.000000000",
          "2024-09-17T00:00:00.000000000",
          "2024-09-16T00:00:00.000000000",
          "2024-09-13T00:00:00.000000000",
          "2024-09-12T00:00:00.000000000",
          "2024-09-11T00:00:00.000000000",
          "2024-09-10T00:00:00.000000000",
          "2024-09-09T00:00:00.000000000",
          "2024-09-06T00:00:00.000000000",
          "2024-09-05T00:00:00.000000000",
          "2024-09-04T00:00:00.000000000",
          "2024-09-03T00:00:00.000000000",
          "2024-08-30T00:00:00.000000000",
          "2024-08-29T00:00:00.000000000",
          "2024-08-28T00:00:00.000000000",
          "2024-08-27T00:00:00.000000000",
          "2024-08-26T00:00:00.000000000",
          "2024-08-23T00:00:00.000000000",
          "2024-08-22T00:00:00.000000000",
          "2024-08-21T00:00:00.000000000",
          "2024-08-20T00:00:00.000000000",
          "2024-08-19T00:00:00.000000000",
          "2024-08-16T00:00:00.000000000",
          "2024-08-15T00:00:00.000000000",
          "2024-08-14T00:00:00.000000000",
          "2024-08-13T00:00:00.000000000",
          "2024-08-12T00:00:00.000000000",
          "2024-08-09T00:00:00.000000000",
          "2024-08-08T00:00:00.000000000",
          "2024-08-07T00:00:00.000000000",
          "2024-08-06T00:00:00.000000000",
          "2024-08-05T00:00:00.000000000",
          "2024-08-02T00:00:00.000000000",
          "2024-08-01T00:00:00.000000000",
          "2024-07-31T00:00:00.000000000",
          "2024-07-30T00:00:00.000000000",
          "2024-07-29T00:00:00.000000000",
          "2024-07-26T00:00:00.000000000",
          "2024-07-25T00:00:00.000000000",
          "2024-07-24T00:00:00.000000000",
          "2024-07-23T00:00:00.000000000",
          "2024-07-22T00:00:00.000000000",
          "2024-07-19T00:00:00.000000000",
          "2024-07-18T00:00:00.000000000",
          "2024-07-17T00:00:00.000000000",
          "2024-07-16T00:00:00.000000000",
          "2024-07-15T00:00:00.000000000",
          "2024-07-12T00:00:00.000000000",
          "2024-07-11T00:00:00.000000000",
          "2024-07-10T00:00:00.000000000",
          "2024-07-09T00:00:00.000000000",
          "2024-07-08T00:00:00.000000000",
          "2024-07-05T00:00:00.000000000",
          "2024-07-03T00:00:00.000000000",
          "2024-07-02T00:00:00.000000000",
          "2024-07-01T00:00:00.000000000",
          "2024-06-28T00:00:00.000000000",
          "2024-06-27T00:00:00.000000000",
          "2024-06-26T00:00:00.000000000",
          "2024-06-25T00:00:00.000000000",
          "2024-06-24T00:00:00.000000000",
          "2024-06-21T00:00:00.000000000",
          "2024-06-20T00:00:00.000000000",
          "2024-06-18T00:00:00.000000000",
          "2024-06-17T00:00:00.000000000",
          "2024-06-14T00:00:00.000000000",
          "2024-06-13T00:00:00.000000000",
          "2024-06-12T00:00:00.000000000",
          "2024-06-11T00:00:00.000000000",
          "2024-06-10T00:00:00.000000000",
          "2024-06-07T00:00:00.000000000",
          "2024-06-06T00:00:00.000000000",
          "2024-06-05T00:00:00.000000000",
          "2024-06-04T00:00:00.000000000",
          "2024-06-03T00:00:00.000000000",
          "2024-05-31T00:00:00.000000000",
          "2024-05-30T00:00:00.000000000",
          "2024-05-29T00:00:00.000000000",
          "2024-05-28T00:00:00.000000000",
          "2024-05-24T00:00:00.000000000",
          "2024-05-23T00:00:00.000000000",
          "2024-05-22T00:00:00.000000000",
          "2024-05-21T00:00:00.000000000",
          "2024-05-20T00:00:00.000000000",
          "2024-05-17T00:00:00.000000000",
          "2024-05-16T00:00:00.000000000",
          "2024-05-15T00:00:00.000000000",
          "2024-05-14T00:00:00.000000000",
          "2024-05-13T00:00:00.000000000",
          "2024-05-10T00:00:00.000000000",
          "2024-05-09T00:00:00.000000000",
          "2024-05-08T00:00:00.000000000",
          "2024-05-07T00:00:00.000000000",
          "2024-05-06T00:00:00.000000000",
          "2024-05-03T00:00:00.000000000",
          "2024-05-02T00:00:00.000000000",
          "2024-05-01T00:00:00.000000000",
          "2024-04-30T00:00:00.000000000",
          "2024-04-29T00:00:00.000000000",
          "2024-04-26T00:00:00.000000000",
          "2024-04-25T00:00:00.000000000",
          "2024-04-24T00:00:00.000000000",
          "2024-04-23T00:00:00.000000000",
          "2024-04-22T00:00:00.000000000",
          "2024-04-19T00:00:00.000000000",
          "2024-04-18T00:00:00.000000000",
          "2024-04-17T00:00:00.000000000",
          "2024-04-16T00:00:00.000000000",
          "2024-04-15T00:00:00.000000000",
          "2024-04-12T00:00:00.000000000",
          "2024-04-11T00:00:00.000000000",
          "2024-04-10T00:00:00.000000000",
          "2024-04-09T00:00:00.000000000",
          "2024-04-08T00:00:00.000000000",
          "2024-04-05T00:00:00.000000000",
          "2024-04-04T00:00:00.000000000",
          "2024-04-03T00:00:00.000000000",
          "2024-04-02T00:00:00.000000000",
          "2024-04-01T00:00:00.000000000",
          "2024-03-28T00:00:00.000000000",
          "2024-03-27T00:00:00.000000000",
          "2024-03-26T00:00:00.000000000",
          "2024-03-25T00:00:00.000000000",
          "2024-03-22T00:00:00.000000000",
          "2024-03-21T00:00:00.000000000",
          "2024-03-20T00:00:00.000000000",
          "2024-03-19T00:00:00.000000000",
          "2024-03-18T00:00:00.000000000",
          "2024-03-15T00:00:00.000000000",
          "2024-03-14T00:00:00.000000000",
          "2024-03-13T00:00:00.000000000",
          "2024-03-12T00:00:00.000000000",
          "2024-03-11T00:00:00.000000000",
          "2024-03-08T00:00:00.000000000",
          "2024-03-07T00:00:00.000000000",
          "2024-03-06T00:00:00.000000000",
          "2024-03-05T00:00:00.000000000",
          "2024-03-04T00:00:00.000000000",
          "2024-03-01T00:00:00.000000000",
          "2024-02-29T00:00:00.000000000",
          "2024-02-28T00:00:00.000000000",
          "2024-02-27T00:00:00.000000000",
          "2024-02-26T00:00:00.000000000",
          "2024-02-23T00:00:00.000000000",
          "2024-02-22T00:00:00.000000000",
          "2024-02-21T00:00:00.000000000",
          "2024-02-20T00:00:00.000000000",
          "2024-02-16T00:00:00.000000000",
          "2024-02-15T00:00:00.000000000",
          "2024-02-14T00:00:00.000000000",
          "2024-02-13T00:00:00.000000000",
          "2024-02-12T00:00:00.000000000",
          "2024-02-09T00:00:00.000000000",
          "2024-02-08T00:00:00.000000000",
          "2024-02-07T00:00:00.000000000",
          "2024-02-06T00:00:00.000000000",
          "2024-02-05T00:00:00.000000000",
          "2024-02-02T00:00:00.000000000",
          "2024-02-01T00:00:00.000000000",
          "2024-01-31T00:00:00.000000000"
         ],
         "y": {
          "bdata": "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",
          "dtype": "f8"
         }
        },
        {
         "line": {
          "color": "green"
         },
         "mode": "lines",
         "name": "YMAG Volatility",
         "type": "scatter",
         "x": [
          "2024-12-24T00:00:00.000000000",
          "2024-12-23T00:00:00.000000000",
          "2024-12-20T00:00:00.000000000",
          "2024-12-19T00:00:00.000000000",
          "2024-12-18T00:00:00.000000000",
          "2024-12-17T00:00:00.000000000",
          "2024-12-16T00:00:00.000000000",
          "2024-12-13T00:00:00.000000000",
          "2024-12-12T00:00:00.000000000",
          "2024-12-11T00:00:00.000000000",
          "2024-12-10T00:00:00.000000000",
          "2024-12-09T00:00:00.000000000",
          "2024-12-06T00:00:00.000000000",
          "2024-12-05T00:00:00.000000000",
          "2024-12-04T00:00:00.000000000",
          "2024-12-03T00:00:00.000000000",
          "2024-12-02T00:00:00.000000000",
          "2024-11-29T00:00:00.000000000",
          "2024-11-27T00:00:00.000000000",
          "2024-11-26T00:00:00.000000000",
          "2024-11-25T00:00:00.000000000",
          "2024-11-22T00:00:00.000000000",
          "2024-11-21T00:00:00.000000000",
          "2024-11-20T00:00:00.000000000",
          "2024-11-19T00:00:00.000000000",
          "2024-11-18T00:00:00.000000000",
          "2024-11-15T00:00:00.000000000",
          "2024-11-14T00:00:00.000000000",
          "2024-11-13T00:00:00.000000000",
          "2024-11-12T00:00:00.000000000",
          "2024-11-11T00:00:00.000000000",
          "2024-11-08T00:00:00.000000000",
          "2024-11-07T00:00:00.000000000",
          "2024-11-06T00:00:00.000000000",
          "2024-11-05T00:00:00.000000000",
          "2024-11-04T00:00:00.000000000",
          "2024-11-01T00:00:00.000000000",
          "2024-10-31T00:00:00.000000000",
          "2024-10-30T00:00:00.000000000",
          "2024-10-29T00:00:00.000000000",
          "2024-10-28T00:00:00.000000000",
          "2024-10-25T00:00:00.000000000",
          "2024-10-24T00:00:00.000000000",
          "2024-10-23T00:00:00.000000000",
          "2024-10-22T00:00:00.000000000",
          "2024-10-21T00:00:00.000000000",
          "2024-10-18T00:00:00.000000000",
          "2024-10-17T00:00:00.000000000",
          "2024-10-16T00:00:00.000000000",
          "2024-10-15T00:00:00.000000000",
          "2024-10-14T00:00:00.000000000",
          "2024-10-11T00:00:00.000000000",
          "2024-10-10T00:00:00.000000000",
          "2024-10-09T00:00:00.000000000",
          "2024-10-08T00:00:00.000000000",
          "2024-10-07T00:00:00.000000000",
          "2024-10-04T00:00:00.000000000",
          "2024-10-03T00:00:00.000000000",
          "2024-10-02T00:00:00.000000000",
          "2024-10-01T00:00:00.000000000",
          "2024-09-30T00:00:00.000000000",
          "2024-09-27T00:00:00.000000000",
          "2024-09-26T00:00:00.000000000",
          "2024-09-25T00:00:00.000000000",
          "2024-09-24T00:00:00.000000000",
          "2024-09-23T00:00:00.000000000",
          "2024-09-20T00:00:00.000000000",
          "2024-09-19T00:00:00.000000000",
          "2024-09-18T00:00:00.000000000",
          "2024-09-17T00:00:00.000000000",
          "2024-09-16T00:00:00.000000000",
          "2024-09-13T00:00:00.000000000",
          "2024-09-12T00:00:00.000000000",
          "2024-09-11T00:00:00.000000000",
          "2024-09-10T00:00:00.000000000",
          "2024-09-09T00:00:00.000000000",
          "2024-09-06T00:00:00.000000000",
          "2024-09-05T00:00:00.000000000",
          "2024-09-04T00:00:00.000000000",
          "2024-09-03T00:00:00.000000000",
          "2024-08-30T00:00:00.000000000",
          "2024-08-29T00:00:00.000000000",
          "2024-08-28T00:00:00.000000000",
          "2024-08-27T00:00:00.000000000",
          "2024-08-26T00:00:00.000000000",
          "2024-08-23T00:00:00.000000000",
          "2024-08-22T00:00:00.000000000",
          "2024-08-21T00:00:00.000000000",
          "2024-08-20T00:00:00.000000000",
          "2024-08-19T00:00:00.000000000",
          "2024-08-16T00:00:00.000000000",
          "2024-08-15T00:00:00.000000000",
          "2024-08-14T00:00:00.000000000",
          "2024-08-13T00:00:00.000000000",
          "2024-08-12T00:00:00.000000000",
          "2024-08-09T00:00:00.000000000",
          "2024-08-08T00:00:00.000000000",
          "2024-08-07T00:00:00.000000000",
          "2024-08-06T00:00:00.000000000",
          "2024-08-05T00:00:00.000000000",
          "2024-08-02T00:00:00.000000000",
          "2024-08-01T00:00:00.000000000",
          "2024-07-31T00:00:00.000000000",
          "2024-07-30T00:00:00.000000000",
          "2024-07-29T00:00:00.000000000",
          "2024-07-26T00:00:00.000000000",
          "2024-07-25T00:00:00.000000000",
          "2024-07-24T00:00:00.000000000",
          "2024-07-23T00:00:00.000000000",
          "2024-07-22T00:00:00.000000000",
          "2024-07-19T00:00:00.000000000",
          "2024-07-18T00:00:00.000000000",
          "2024-07-17T00:00:00.000000000",
          "2024-07-16T00:00:00.000000000",
          "2024-07-15T00:00:00.000000000",
          "2024-07-12T00:00:00.000000000",
          "2024-07-11T00:00:00.000000000",
          "2024-07-10T00:00:00.000000000",
          "2024-07-09T00:00:00.000000000",
          "2024-07-08T00:00:00.000000000",
          "2024-07-05T00:00:00.000000000",
          "2024-07-03T00:00:00.000000000",
          "2024-07-02T00:00:00.000000000",
          "2024-07-01T00:00:00.000000000",
          "2024-06-28T00:00:00.000000000",
          "2024-06-27T00:00:00.000000000",
          "2024-06-26T00:00:00.000000000",
          "2024-06-25T00:00:00.000000000",
          "2024-06-24T00:00:00.000000000",
          "2024-06-21T00:00:00.000000000",
          "2024-06-20T00:00:00.000000000",
          "2024-06-18T00:00:00.000000000",
          "2024-06-17T00:00:00.000000000",
          "2024-06-14T00:00:00.000000000",
          "2024-06-13T00:00:00.000000000",
          "2024-06-12T00:00:00.000000000",
          "2024-06-11T00:00:00.000000000",
          "2024-06-10T00:00:00.000000000",
          "2024-06-07T00:00:00.000000000",
          "2024-06-06T00:00:00.000000000",
          "2024-06-05T00:00:00.000000000",
          "2024-06-04T00:00:00.000000000",
          "2024-06-03T00:00:00.000000000",
          "2024-05-31T00:00:00.000000000",
          "2024-05-30T00:00:00.000000000",
          "2024-05-29T00:00:00.000000000",
          "2024-05-28T00:00:00.000000000",
          "2024-05-24T00:00:00.000000000",
          "2024-05-23T00:00:00.000000000",
          "2024-05-22T00:00:00.000000000",
          "2024-05-21T00:00:00.000000000",
          "2024-05-20T00:00:00.000000000",
          "2024-05-17T00:00:00.000000000",
          "2024-05-16T00:00:00.000000000",
          "2024-05-15T00:00:00.000000000",
          "2024-05-14T00:00:00.000000000",
          "2024-05-13T00:00:00.000000000",
          "2024-05-10T00:00:00.000000000",
          "2024-05-09T00:00:00.000000000",
          "2024-05-08T00:00:00.000000000",
          "2024-05-07T00:00:00.000000000",
          "2024-05-06T00:00:00.000000000",
          "2024-05-03T00:00:00.000000000",
          "2024-05-02T00:00:00.000000000",
          "2024-05-01T00:00:00.000000000",
          "2024-04-30T00:00:00.000000000",
          "2024-04-29T00:00:00.000000000",
          "2024-04-26T00:00:00.000000000",
          "2024-04-25T00:00:00.000000000",
          "2024-04-24T00:00:00.000000000",
          "2024-04-23T00:00:00.000000000",
          "2024-04-22T00:00:00.000000000",
          "2024-04-19T00:00:00.000000000",
          "2024-04-18T00:00:00.000000000",
          "2024-04-17T00:00:00.000000000",
          "2024-04-16T00:00:00.000000000",
          "2024-04-15T00:00:00.000000000",
          "2024-04-12T00:00:00.000000000",
          "2024-04-11T00:00:00.000000000",
          "2024-04-10T00:00:00.000000000",
          "2024-04-09T00:00:00.000000000",
          "2024-04-08T00:00:00.000000000",
          "2024-04-05T00:00:00.000000000",
          "2024-04-04T00:00:00.000000000",
          "2024-04-03T00:00:00.000000000",
          "2024-04-02T00:00:00.000000000",
          "2024-04-01T00:00:00.000000000",
          "2024-03-28T00:00:00.000000000",
          "2024-03-27T00:00:00.000000000",
          "2024-03-26T00:00:00.000000000",
          "2024-03-25T00:00:00.000000000",
          "2024-03-22T00:00:00.000000000",
          "2024-03-21T00:00:00.000000000",
          "2024-03-20T00:00:00.000000000",
          "2024-03-19T00:00:00.000000000",
          "2024-03-18T00:00:00.000000000",
          "2024-03-15T00:00:00.000000000",
          "2024-03-14T00:00:00.000000000",
          "2024-03-13T00:00:00.000000000",
          "2024-03-12T00:00:00.000000000",
          "2024-03-11T00:00:00.000000000",
          "2024-03-08T00:00:00.000000000",
          "2024-03-07T00:00:00.000000000",
          "2024-03-06T00:00:00.000000000",
          "2024-03-05T00:00:00.000000000",
          "2024-03-04T00:00:00.000000000",
          "2024-03-01T00:00:00.000000000",
          "2024-02-29T00:00:00.000000000",
          "2024-02-28T00:00:00.000000000",
          "2024-02-27T00:00:00.000000000",
          "2024-02-26T00:00:00.000000000",
          "2024-02-23T00:00:00.000000000",
          "2024-02-22T00:00:00.000000000",
          "2024-02-21T00:00:00.000000000",
          "2024-02-20T00:00:00.000000000",
          "2024-02-16T00:00:00.000000000",
          "2024-02-15T00:00:00.000000000",
          "2024-02-14T00:00:00.000000000",
          "2024-02-13T00:00:00.000000000",
          "2024-02-12T00:00:00.000000000",
          "2024-02-09T00:00:00.000000000",
          "2024-02-08T00:00:00.000000000",
          "2024-02-07T00:00:00.000000000",
          "2024-02-06T00:00:00.000000000",
          "2024-02-05T00:00:00.000000000",
          "2024-02-02T00:00:00.000000000",
          "2024-02-01T00:00:00.000000000",
          "2024-01-31T00:00:00.000000000"
         ],
         "y": {
          "bdata": "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",
          "dtype": "f8"
         }
        }
       ],
       "layout": {
        "legend": {
         "x": 0,
         "y": 1
        },
        "template": {
         "data": {
          "bar": [
           {
            "error_x": {
             "color": "#f2f5fa"
            },
            "error_y": {
             "color": "#f2f5fa"
            },
            "marker": {
             "line": {
              "color": "rgb(17,17,17)",
              "width": 0.5
             },
             "pattern": {
              "fillmode": "overlay",
              "size": 10,
              "solidity": 0.2
             }
            },
            "type": "bar"
           }
          ],
          "barpolar": [
           {
            "marker": {
             "line": {
              "color": "rgb(17,17,17)",
              "width": 0.5
             },
             "pattern": {
              "fillmode": "overlay",
              "size": 10,
              "solidity": 0.2
             }
            },
            "type": "barpolar"
           }
          ],
          "carpet": [
           {
            "aaxis": {
             "endlinecolor": "#A2B1C6",
             "gridcolor": "#506784",
             "linecolor": "#506784",
             "minorgridcolor": "#506784",
             "startlinecolor": "#A2B1C6"
            },
            "baxis": {
             "endlinecolor": "#A2B1C6",
             "gridcolor": "#506784",
             "linecolor": "#506784",
             "minorgridcolor": "#506784",
             "startlinecolor": "#A2B1C6"
            },
            "type": "carpet"
           }
          ],
          "choropleth": [
           {
            "colorbar": {
             "outlinewidth": 0,
             "ticks": ""
            },
            "type": "choropleth"
           }
          ],
          "contour": [
           {
            "colorbar": {
             "outlinewidth": 0,
             "ticks": ""
            },
            "colorscale": [
             [
              0,
              "#0d0887"
             ],
             [
              0.1111111111111111,
              "#46039f"
             ],
             [
              0.2222222222222222,
              "#7201a8"
             ],
             [
              0.3333333333333333,
              "#9c179e"
             ],
             [
              0.4444444444444444,
              "#bd3786"
             ],
             [
              0.5555555555555556,
              "#d8576b"
             ],
             [
              0.6666666666666666,
              "#ed7953"
             ],
             [
              0.7777777777777778,
              "#fb9f3a"
             ],
             [
              0.8888888888888888,
              "#fdca26"
             ],
             [
              1,
              "#f0f921"
             ]
            ],
            "type": "contour"
           }
          ],
          "contourcarpet": [
           {
            "colorbar": {
             "outlinewidth": 0,
             "ticks": ""
            },
            "type": "contourcarpet"
           }
          ],
          "heatmap": [
           {
            "colorbar": {
             "outlinewidth": 0,
             "ticks": ""
            },
            "colorscale": [
             [
              0,
              "#0d0887"
             ],
             [
              0.1111111111111111,
              "#46039f"
             ],
             [
              0.2222222222222222,
              "#7201a8"
             ],
             [
              0.3333333333333333,
              "#9c179e"
             ],
             [
              0.4444444444444444,
              "#bd3786"
             ],
             [
              0.5555555555555556,
              "#d8576b"
             ],
             [
              0.6666666666666666,
              "#ed7953"
             ],
             [
              0.7777777777777778,
              "#fb9f3a"
             ],
             [
              0.8888888888888888,
              "#fdca26"
             ],
             [
              1,
              "#f0f921"
             ]
            ],
            "type": "heatmap"
           }
          ],
          "histogram": [
           {
            "marker": {
             "pattern": {
              "fillmode": "overlay",
              "size": 10,
              "solidity": 0.2
             }
            },
            "type": "histogram"
           }
          ],
          "histogram2d": [
           {
            "colorbar": {
             "outlinewidth": 0,
             "ticks": ""
            },
            "colorscale": [
             [
              0,
              "#0d0887"
             ],
             [
              0.1111111111111111,
              "#46039f"
             ],
             [
              0.2222222222222222,
              "#7201a8"
             ],
             [
              0.3333333333333333,
              "#9c179e"
             ],
             [
              0.4444444444444444,
              "#bd3786"
             ],
             [
              0.5555555555555556,
              "#d8576b"
             ],
             [
              0.6666666666666666,
              "#ed7953"
             ],
             [
              0.7777777777777778,
              "#fb9f3a"
             ],
             [
              0.8888888888888888,
              "#fdca26"
             ],
             [
              1,
              "#f0f921"
             ]
            ],
            "type": "histogram2d"
           }
          ],
          "histogram2dcontour": [
           {
            "colorbar": {
             "outlinewidth": 0,
             "ticks": ""
            },
            "colorscale": [
             [
              0,
              "#0d0887"
             ],
             [
              0.1111111111111111,
              "#46039f"
             ],
             [
              0.2222222222222222,
              "#7201a8"
             ],
             [
              0.3333333333333333,
              "#9c179e"
             ],
             [
              0.4444444444444444,
              "#bd3786"
             ],
             [
              0.5555555555555556,
              "#d8576b"
             ],
             [
              0.6666666666666666,
              "#ed7953"
             ],
             [
              0.7777777777777778,
              "#fb9f3a"
             ],
             [
              0.8888888888888888,
              "#fdca26"
             ],
             [
              1,
              "#f0f921"
             ]
            ],
            "type": "histogram2dcontour"
           }
          ],
          "mesh3d": [
           {
            "colorbar": {
             "outlinewidth": 0,
             "ticks": ""
            },
            "type": "mesh3d"
           }
          ],
          "parcoords": [
           {
            "line": {
             "colorbar": {
              "outlinewidth": 0,
              "ticks": ""
             }
            },
            "type": "parcoords"
           }
          ],
          "pie": [
           {
            "automargin": true,
            "type": "pie"
           }
          ],
          "scatter": [
           {
            "marker": {
             "line": {
              "color": "#283442"
             }
            },
            "type": "scatter"
           }
          ],
          "scatter3d": [
           {
            "line": {
             "colorbar": {
              "outlinewidth": 0,
              "ticks": ""
             }
            },
            "marker": {
             "colorbar": {
              "outlinewidth": 0,
              "ticks": ""
             }
            },
            "type": "scatter3d"
           }
          ],
          "scattercarpet": [
           {
            "marker": {
             "colorbar": {
              "outlinewidth": 0,
              "ticks": ""
             }
            },
            "type": "scattercarpet"
           }
          ],
          "scattergeo": [
           {
            "marker": {
             "colorbar": {
              "outlinewidth": 0,
              "ticks": ""
             }
            },
            "type": "scattergeo"
           }
          ],
          "scattergl": [
           {
            "marker": {
             "line": {
              "color": "#283442"
             }
            },
            "type": "scattergl"
           }
          ],
          "scattermap": [
           {
            "marker": {
             "colorbar": {
              "outlinewidth": 0,
              "ticks": ""
             }
            },
            "type": "scattermap"
           }
          ],
          "scattermapbox": [
           {
            "marker": {
             "colorbar": {
              "outlinewidth": 0,
              "ticks": ""
             }
            },
            "type": "scattermapbox"
           }
          ],
          "scatterpolar": [
           {
            "marker": {
             "colorbar": {
              "outlinewidth": 0,
              "ticks": ""
             }
            },
            "type": "scatterpolar"
           }
          ],
          "scatterpolargl": [
           {
            "marker": {
             "colorbar": {
              "outlinewidth": 0,
              "ticks": ""
             }
            },
            "type": "scatterpolargl"
           }
          ],
          "scatterternary": [
           {
            "marker": {
             "colorbar": {
              "outlinewidth": 0,
              "ticks": ""
             }
            },
            "type": "scatterternary"
           }
          ],
          "surface": [
           {
            "colorbar": {
             "outlinewidth": 0,
             "ticks": ""
            },
            "colorscale": [
             [
              0,
              "#0d0887"
             ],
             [
              0.1111111111111111,
              "#46039f"
             ],
             [
              0.2222222222222222,
              "#7201a8"
             ],
             [
              0.3333333333333333,
              "#9c179e"
             ],
             [
              0.4444444444444444,
              "#bd3786"
             ],
             [
              0.5555555555555556,
              "#d8576b"
             ],
             [
              0.6666666666666666,
              "#ed7953"
             ],
             [
              0.7777777777777778,
              "#fb9f3a"
             ],
             [
              0.8888888888888888,
              "#fdca26"
             ],
             [
              1,
              "#f0f921"
             ]
            ],
            "type": "surface"
           }
          ],
          "table": [
           {
            "cells": {
             "fill": {
              "color": "#506784"
             },
             "line": {
              "color": "rgb(17,17,17)"
             }
            },
            "header": {
             "fill": {
              "color": "#2a3f5f"
             },
             "line": {
              "color": "rgb(17,17,17)"
             }
            },
            "type": "table"
           }
          ]
         },
         "layout": {
          "annotationdefaults": {
           "arrowcolor": "#f2f5fa",
           "arrowhead": 0,
           "arrowwidth": 1
          },
          "autotypenumbers": "strict",
          "coloraxis": {
           "colorbar": {
            "outlinewidth": 0,
            "ticks": ""
           }
          },
          "colorscale": {
           "diverging": [
            [
             0,
             "#8e0152"
            ],
            [
             0.1,
             "#c51b7d"
            ],
            [
             0.2,
             "#de77ae"
            ],
            [
             0.3,
             "#f1b6da"
            ],
            [
             0.4,
             "#fde0ef"
            ],
            [
             0.5,
             "#f7f7f7"
            ],
            [
             0.6,
             "#e6f5d0"
            ],
            [
             0.7,
             "#b8e186"
            ],
            [
             0.8,
             "#7fbc41"
            ],
            [
             0.9,
             "#4d9221"
            ],
            [
             1,
             "#276419"
            ]
           ],
           "sequential": [
            [
             0,
             "#0d0887"
            ],
            [
             0.1111111111111111,
             "#46039f"
            ],
            [
             0.2222222222222222,
             "#7201a8"
            ],
            [
             0.3333333333333333,
             "#9c179e"
            ],
            [
             0.4444444444444444,
             "#bd3786"
            ],
            [
             0.5555555555555556,
             "#d8576b"
            ],
            [
             0.6666666666666666,
             "#ed7953"
            ],
            [
             0.7777777777777778,
             "#fb9f3a"
            ],
            [
             0.8888888888888888,
             "#fdca26"
            ],
            [
             1,
             "#f0f921"
            ]
           ],
           "sequentialminus": [
            [
             0,
             "#0d0887"
            ],
            [
             0.1111111111111111,
             "#46039f"
            ],
            [
             0.2222222222222222,
             "#7201a8"
            ],
            [
             0.3333333333333333,
             "#9c179e"
            ],
            [
             0.4444444444444444,
             "#bd3786"
            ],
            [
             0.5555555555555556,
             "#d8576b"
            ],
            [
             0.6666666666666666,
             "#ed7953"
            ],
            [
             0.7777777777777778,
             "#fb9f3a"
            ],
            [
             0.8888888888888888,
             "#fdca26"
            ],
            [
             1,
             "#f0f921"
            ]
           ]
          },
          "colorway": [
           "#636efa",
           "#EF553B",
           "#00cc96",
           "#ab63fa",
           "#FFA15A",
           "#19d3f3",
           "#FF6692",
           "#B6E880",
           "#FF97FF",
           "#FECB52"
          ],
          "font": {
           "color": "#f2f5fa"
          },
          "geo": {
           "bgcolor": "rgb(17,17,17)",
           "lakecolor": "rgb(17,17,17)",
           "landcolor": "rgb(17,17,17)",
           "showlakes": true,
           "showland": true,
           "subunitcolor": "#506784"
          },
          "hoverlabel": {
           "align": "left"
          },
          "hovermode": "closest",
          "mapbox": {
           "style": "dark"
          },
          "paper_bgcolor": "rgb(17,17,17)",
          "plot_bgcolor": "rgb(17,17,17)",
          "polar": {
           "angularaxis": {
            "gridcolor": "#506784",
            "linecolor": "#506784",
            "ticks": ""
           },
           "bgcolor": "rgb(17,17,17)",
           "radialaxis": {
            "gridcolor": "#506784",
            "linecolor": "#506784",
            "ticks": ""
           }
          },
          "scene": {
           "xaxis": {
            "backgroundcolor": "rgb(17,17,17)",
            "gridcolor": "#506784",
            "gridwidth": 2,
            "linecolor": "#506784",
            "showbackground": true,
            "ticks": "",
            "zerolinecolor": "#C8D4E3"
           },
           "yaxis": {
            "backgroundcolor": "rgb(17,17,17)",
            "gridcolor": "#506784",
            "gridwidth": 2,
            "linecolor": "#506784",
            "showbackground": true,
            "ticks": "",
            "zerolinecolor": "#C8D4E3"
           },
           "zaxis": {
            "backgroundcolor": "rgb(17,17,17)",
            "gridcolor": "#506784",
            "gridwidth": 2,
            "linecolor": "#506784",
            "showbackground": true,
            "ticks": "",
            "zerolinecolor": "#C8D4E3"
           }
          },
          "shapedefaults": {
           "line": {
            "color": "#f2f5fa"
           }
          },
          "sliderdefaults": {
           "bgcolor": "#C8D4E3",
           "bordercolor": "rgb(17,17,17)",
           "borderwidth": 1,
           "tickwidth": 0
          },
          "ternary": {
           "aaxis": {
            "gridcolor": "#506784",
            "linecolor": "#506784",
            "ticks": ""
           },
           "baxis": {
            "gridcolor": "#506784",
            "linecolor": "#506784",
            "ticks": ""
           },
           "bgcolor": "rgb(17,17,17)",
           "caxis": {
            "gridcolor": "#506784",
            "linecolor": "#506784",
            "ticks": ""
           }
          },
          "title": {
           "x": 0.05
          },
          "updatemenudefaults": {
           "bgcolor": "#506784",
           "borderwidth": 0
          },
          "xaxis": {
           "automargin": true,
           "gridcolor": "#283442",
           "linecolor": "#506784",
           "ticks": "",
           "title": {
            "standoff": 15
           },
           "zerolinecolor": "#283442",
           "zerolinewidth": 2
          },
          "yaxis": {
           "automargin": true,
           "gridcolor": "#283442",
           "linecolor": "#506784",
           "ticks": "",
           "title": {
            "standoff": 15
           },
           "zerolinecolor": "#283442",
           "zerolinewidth": 2
          }
         }
        },
        "title": {
         "text": "Rolling Volatilities of YMAX and YMAG"
        },
        "xaxis": {
         "title": {
          "text": "Date"
         }
        },
        "yaxis": {
         "title": {
          "text": "Volatility"
         }
        }
       }
      }
     },
     "metadata": {},
     "output_type": "display_data"
    }
   ],
   "source": [
    "# Plot Rolling Volatilities\n",
    "fig_vol = go.Figure()\n",
    "\n",
    "fig_vol.add_trace(go.Scatter(\n",
    "    x=YMAX_YMAG_df.index, \n",
    "    y=YMAX_YMAG_df[\"YMAX Volatility\"], \n",
    "    mode=\"lines\", \n",
    "    name=\"YMAX Volatility\",\n",
    "    line=dict(color=\"blue\")\n",
    "))\n",
    "\n",
    "fig_vol.add_trace(go.Scatter(\n",
    "    x=YMAX_YMAG_df.index, \n",
    "    y=YMAX_YMAG_df[\"YMAG Volatility\"], \n",
    "    mode=\"lines\", \n",
    "    name=\"YMAG Volatility\",\n",
    "    line=dict(color=\"green\")\n",
    "))\n",
    "\n",
    "fig_vol.update_layout(\n",
    "    title=\"Rolling Volatilities of YMAX and YMAG\",\n",
    "    xaxis_title=\"Date\",\n",
    "    yaxis_title=\"Volatility\",\n",
    "    template=\"plotly_dark\",\n",
    "    legend=dict(x=0, y=1)\n",
    ")\n",
    "\n",
    "fig_vol.show()\n"
   ]
  },
  {
   "cell_type": "code",
   "execution_count": 150,
   "metadata": {},
   "outputs": [
    {
     "data": {
      "application/vnd.plotly.v1+json": {
       "config": {
        "plotlyServerURL": "https://plot.ly"
       },
       "data": [
        {
         "line": {
          "color": "red"
         },
         "mode": "lines",
         "name": "Rolling Correlation",
         "type": "scatter",
         "x": [
          "2024-12-24T00:00:00.000000000",
          "2024-12-23T00:00:00.000000000",
          "2024-12-20T00:00:00.000000000",
          "2024-12-19T00:00:00.000000000",
          "2024-12-18T00:00:00.000000000",
          "2024-12-17T00:00:00.000000000",
          "2024-12-16T00:00:00.000000000",
          "2024-12-13T00:00:00.000000000",
          "2024-12-12T00:00:00.000000000",
          "2024-12-11T00:00:00.000000000",
          "2024-12-10T00:00:00.000000000",
          "2024-12-09T00:00:00.000000000",
          "2024-12-06T00:00:00.000000000",
          "2024-12-05T00:00:00.000000000",
          "2024-12-04T00:00:00.000000000",
          "2024-12-03T00:00:00.000000000",
          "2024-12-02T00:00:00.000000000",
          "2024-11-29T00:00:00.000000000",
          "2024-11-27T00:00:00.000000000",
          "2024-11-26T00:00:00.000000000",
          "2024-11-25T00:00:00.000000000",
          "2024-11-22T00:00:00.000000000",
          "2024-11-21T00:00:00.000000000",
          "2024-11-20T00:00:00.000000000",
          "2024-11-19T00:00:00.000000000",
          "2024-11-18T00:00:00.000000000",
          "2024-11-15T00:00:00.000000000",
          "2024-11-14T00:00:00.000000000",
          "2024-11-13T00:00:00.000000000",
          "2024-11-12T00:00:00.000000000",
          "2024-11-11T00:00:00.000000000",
          "2024-11-08T00:00:00.000000000",
          "2024-11-07T00:00:00.000000000",
          "2024-11-06T00:00:00.000000000",
          "2024-11-05T00:00:00.000000000",
          "2024-11-04T00:00:00.000000000",
          "2024-11-01T00:00:00.000000000",
          "2024-10-31T00:00:00.000000000",
          "2024-10-30T00:00:00.000000000",
          "2024-10-29T00:00:00.000000000",
          "2024-10-28T00:00:00.000000000",
          "2024-10-25T00:00:00.000000000",
          "2024-10-24T00:00:00.000000000",
          "2024-10-23T00:00:00.000000000",
          "2024-10-22T00:00:00.000000000",
          "2024-10-21T00:00:00.000000000",
          "2024-10-18T00:00:00.000000000",
          "2024-10-17T00:00:00.000000000",
          "2024-10-16T00:00:00.000000000",
          "2024-10-15T00:00:00.000000000",
          "2024-10-14T00:00:00.000000000",
          "2024-10-11T00:00:00.000000000",
          "2024-10-10T00:00:00.000000000",
          "2024-10-09T00:00:00.000000000",
          "2024-10-08T00:00:00.000000000",
          "2024-10-07T00:00:00.000000000",
          "2024-10-04T00:00:00.000000000",
          "2024-10-03T00:00:00.000000000",
          "2024-10-02T00:00:00.000000000",
          "2024-10-01T00:00:00.000000000",
          "2024-09-30T00:00:00.000000000",
          "2024-09-27T00:00:00.000000000",
          "2024-09-26T00:00:00.000000000",
          "2024-09-25T00:00:00.000000000",
          "2024-09-24T00:00:00.000000000",
          "2024-09-23T00:00:00.000000000",
          "2024-09-20T00:00:00.000000000",
          "2024-09-19T00:00:00.000000000",
          "2024-09-18T00:00:00.000000000",
          "2024-09-17T00:00:00.000000000",
          "2024-09-16T00:00:00.000000000",
          "2024-09-13T00:00:00.000000000",
          "2024-09-12T00:00:00.000000000",
          "2024-09-11T00:00:00.000000000",
          "2024-09-10T00:00:00.000000000",
          "2024-09-09T00:00:00.000000000",
          "2024-09-06T00:00:00.000000000",
          "2024-09-05T00:00:00.000000000",
          "2024-09-04T00:00:00.000000000",
          "2024-09-03T00:00:00.000000000",
          "2024-08-30T00:00:00.000000000",
          "2024-08-29T00:00:00.000000000",
          "2024-08-28T00:00:00.000000000",
          "2024-08-27T00:00:00.000000000",
          "2024-08-26T00:00:00.000000000",
          "2024-08-23T00:00:00.000000000",
          "2024-08-22T00:00:00.000000000",
          "2024-08-21T00:00:00.000000000",
          "2024-08-20T00:00:00.000000000",
          "2024-08-19T00:00:00.000000000",
          "2024-08-16T00:00:00.000000000",
          "2024-08-15T00:00:00.000000000",
          "2024-08-14T00:00:00.000000000",
          "2024-08-13T00:00:00.000000000",
          "2024-08-12T00:00:00.000000000",
          "2024-08-09T00:00:00.000000000",
          "2024-08-08T00:00:00.000000000",
          "2024-08-07T00:00:00.000000000",
          "2024-08-06T00:00:00.000000000",
          "2024-08-05T00:00:00.000000000",
          "2024-08-02T00:00:00.000000000",
          "2024-08-01T00:00:00.000000000",
          "2024-07-31T00:00:00.000000000",
          "2024-07-30T00:00:00.000000000",
          "2024-07-29T00:00:00.000000000",
          "2024-07-26T00:00:00.000000000",
          "2024-07-25T00:00:00.000000000",
          "2024-07-24T00:00:00.000000000",
          "2024-07-23T00:00:00.000000000",
          "2024-07-22T00:00:00.000000000",
          "2024-07-19T00:00:00.000000000",
          "2024-07-18T00:00:00.000000000",
          "2024-07-17T00:00:00.000000000",
          "2024-07-16T00:00:00.000000000",
          "2024-07-15T00:00:00.000000000",
          "2024-07-12T00:00:00.000000000",
          "2024-07-11T00:00:00.000000000",
          "2024-07-10T00:00:00.000000000",
          "2024-07-09T00:00:00.000000000",
          "2024-07-08T00:00:00.000000000",
          "2024-07-05T00:00:00.000000000",
          "2024-07-03T00:00:00.000000000",
          "2024-07-02T00:00:00.000000000",
          "2024-07-01T00:00:00.000000000",
          "2024-06-28T00:00:00.000000000",
          "2024-06-27T00:00:00.000000000",
          "2024-06-26T00:00:00.000000000",
          "2024-06-25T00:00:00.000000000",
          "2024-06-24T00:00:00.000000000",
          "2024-06-21T00:00:00.000000000",
          "2024-06-20T00:00:00.000000000",
          "2024-06-18T00:00:00.000000000",
          "2024-06-17T00:00:00.000000000",
          "2024-06-14T00:00:00.000000000",
          "2024-06-13T00:00:00.000000000",
          "2024-06-12T00:00:00.000000000",
          "2024-06-11T00:00:00.000000000",
          "2024-06-10T00:00:00.000000000",
          "2024-06-07T00:00:00.000000000",
          "2024-06-06T00:00:00.000000000",
          "2024-06-05T00:00:00.000000000",
          "2024-06-04T00:00:00.000000000",
          "2024-06-03T00:00:00.000000000",
          "2024-05-31T00:00:00.000000000",
          "2024-05-30T00:00:00.000000000",
          "2024-05-29T00:00:00.000000000",
          "2024-05-28T00:00:00.000000000",
          "2024-05-24T00:00:00.000000000",
          "2024-05-23T00:00:00.000000000",
          "2024-05-22T00:00:00.000000000",
          "2024-05-21T00:00:00.000000000",
          "2024-05-20T00:00:00.000000000",
          "2024-05-17T00:00:00.000000000",
          "2024-05-16T00:00:00.000000000",
          "2024-05-15T00:00:00.000000000",
          "2024-05-14T00:00:00.000000000",
          "2024-05-13T00:00:00.000000000",
          "2024-05-10T00:00:00.000000000",
          "2024-05-09T00:00:00.000000000",
          "2024-05-08T00:00:00.000000000",
          "2024-05-07T00:00:00.000000000",
          "2024-05-06T00:00:00.000000000",
          "2024-05-03T00:00:00.000000000",
          "2024-05-02T00:00:00.000000000",
          "2024-05-01T00:00:00.000000000",
          "2024-04-30T00:00:00.000000000",
          "2024-04-29T00:00:00.000000000",
          "2024-04-26T00:00:00.000000000",
          "2024-04-25T00:00:00.000000000",
          "2024-04-24T00:00:00.000000000",
          "2024-04-23T00:00:00.000000000",
          "2024-04-22T00:00:00.000000000",
          "2024-04-19T00:00:00.000000000",
          "2024-04-18T00:00:00.000000000",
          "2024-04-17T00:00:00.000000000",
          "2024-04-16T00:00:00.000000000",
          "2024-04-15T00:00:00.000000000",
          "2024-04-12T00:00:00.000000000",
          "2024-04-11T00:00:00.000000000",
          "2024-04-10T00:00:00.000000000",
          "2024-04-09T00:00:00.000000000",
          "2024-04-08T00:00:00.000000000",
          "2024-04-05T00:00:00.000000000",
          "2024-04-04T00:00:00.000000000",
          "2024-04-03T00:00:00.000000000",
          "2024-04-02T00:00:00.000000000",
          "2024-04-01T00:00:00.000000000",
          "2024-03-28T00:00:00.000000000",
          "2024-03-27T00:00:00.000000000",
          "2024-03-26T00:00:00.000000000",
          "2024-03-25T00:00:00.000000000",
          "2024-03-22T00:00:00.000000000",
          "2024-03-21T00:00:00.000000000",
          "2024-03-20T00:00:00.000000000",
          "2024-03-19T00:00:00.000000000",
          "2024-03-18T00:00:00.000000000",
          "2024-03-15T00:00:00.000000000",
          "2024-03-14T00:00:00.000000000",
          "2024-03-13T00:00:00.000000000",
          "2024-03-12T00:00:00.000000000",
          "2024-03-11T00:00:00.000000000",
          "2024-03-08T00:00:00.000000000",
          "2024-03-07T00:00:00.000000000",
          "2024-03-06T00:00:00.000000000",
          "2024-03-05T00:00:00.000000000",
          "2024-03-04T00:00:00.000000000",
          "2024-03-01T00:00:00.000000000",
          "2024-02-29T00:00:00.000000000",
          "2024-02-28T00:00:00.000000000",
          "2024-02-27T00:00:00.000000000",
          "2024-02-26T00:00:00.000000000",
          "2024-02-23T00:00:00.000000000",
          "2024-02-22T00:00:00.000000000",
          "2024-02-21T00:00:00.000000000",
          "2024-02-20T00:00:00.000000000",
          "2024-02-16T00:00:00.000000000",
          "2024-02-15T00:00:00.000000000",
          "2024-02-14T00:00:00.000000000",
          "2024-02-13T00:00:00.000000000",
          "2024-02-12T00:00:00.000000000",
          "2024-02-09T00:00:00.000000000",
          "2024-02-08T00:00:00.000000000",
          "2024-02-07T00:00:00.000000000",
          "2024-02-06T00:00:00.000000000",
          "2024-02-05T00:00:00.000000000",
          "2024-02-02T00:00:00.000000000",
          "2024-02-01T00:00:00.000000000",
          "2024-01-31T00:00:00.000000000"
         ],
         "y": {
          "bdata": "tuDJM2t17T+QmevrPoLtP/n4XRjNRew/YSGmxAfz6z9XzPUqpYLrP2ROVb0ZtOw/aVFUdz+V7D8h7YlWJz3sPxvVJA8NT+w/HQs7xly96z/QJ3noJX/sPxOC/m97Pew/u6jalY4q7D+VcccY+i/sP+zELmeu+es//zJ9tKbQ6z8eab4MElzsP27UCnDiBO0/gspR8agg7T/y3zXILGnsP/LQ65CpfOo/SVuqGmU46j9TlRd2rXroP17nOeRWgeg/Fr8N//Hu6D/A+XXcyKPpP9SKn7oT9+M/28WvbfzO4j+ge/n4nvnkP4VVpRW8F+Q/ah6b0Exx4z/RqjDpTXTjP7lo0QQdCOQ/fJSYYQ++4z/gq0BBcqXmP9XRnhc/P+Y/e5fRl6pF5j98zEad7MrlP8zTbHdkBuk/KgXvEllF6T/pXcR4YYnpP8rUmD7OEes/Xr4N1HLz6j/y2CToDffpP1MmnvnjTOo/5kechWYX6j8a+kAmRefpP6ADu3E6tuk/ZqNoCmTS6j8EIe0LoSDqP4VrtaOsl+o/hYDb6dKa6j/mrRFUUcvpP/H+yVSuH+o/SLRbkEg76j+Yy7FIZpToP3SC89CV1+c/ptOvLU8X6D/XjegcFW/oP79SyiM0KeM/LZGGk4JF5D/MKJmdrILjP1ugI/774+M/i0aYu8O64z+/GZvQAOnlP8vmh0EQhuU/7F+kdgCM5j+ki6JNIJjmPxAM1zqUveY/Aqr5Pjai5T9oVXs3S9XlP8g3TQ7++eU/Ai0tkRH15T+iCe7ZchrpP52i1JzToOg/lHuKj90I6T9a5tmTJnbqP6WbdqqXIu0/7YiRMwyk7D9AThloX4bsP387tRzppu0/F3U8B0WU7T8alBypDe/tP3vYvM3qFu4/Axixu5pF7j+c1ms3w97tP1HSN9wT7e0/ZEBAQfAm7j+CtpKAyx3uP389ZW6NFe4/5AvtFfIm7j/TMi+bMx3uP+NHl8sVbe4/eFHe1r1k7j8m5QXhf4nuP+E632UCa+4/7iHMsHtj7j/IIIVhyG7uP2OJHlksPO4/yeAAOZa47j+uzFU2aQfvPyJatFQKAe8/v1/+cEwX7j/41RY7/9rtPyxe9GWPtO0/JIVW7fCx7T+WxIFETfLtPwTbUtgj4u0/o+uLminc7T89SFCT69btP3Xp0ldN4+0/h2yAUkKF7T+IhYwhB0/tP4kHC65YxO0/IlF+CrTD7T8+CwbjbYftP97njprPlO0/YIhUO3Hl7D/PxVUXydPsP+HcbUcS1+w/KE8KM5aW7D8lHsyKBirsP+8TL1y5/es/7aZQRFCS7T/49+XTYEntP0U0wwg8Ru0/ephfQQ097T/ylAFpb+PsP9J3Kd+SCO0/EQDigVAB7D9+U8yxrg7sP/VjVUiXu+s/4+sXnqks7D/ljVD5rtDsPzRz8XQtoeg/RcAXDfod6D8+Q9VRTsnoP2l/oPaHfeg/7tP5+s5F7D8tqlx/XzjsP47KPpu1Iew/CDkzZCpl7D9g8XmIrSjsP2svvAQaSew/HmRmxfs67D+V+oXWh2HrP1t8V86G/uo/RMZwn1IM6z8Uy1oemhXsP4F4bFy77us/k7gO+nvN6z+nRuXjze7rP1yAZCUj4es/Bm2F25in6z9QWNO7VK7rP48AD+zoleo/Q2Jpy4uW6z9rto+yEkXrPwTK2u62kes/KfTkIOtJ6z/zJLFIX03rP4+awUadTus/PUKfioxa6z+p4zd+NqXrP14vHoqB5+s/tAuyjy5o6z8udZIsF+zsP8gp3isuKu0/5FszhIYv7T+IFpPuKgDsPySbG/dhius/mCQs+/Px6z9yGsrnwNPrP/Gc9vq+0uw/M953O8jj7D9JE7JEntvtP4k1lx8Oie0/tQe8RE+G7T9x76yW0p7tP+D7XuBU5+0/1CusLrr87T/2Cu0YaPztPxDNtrdXB+4/rNiqTTYB7j8YpyuXoLztP46t/uctyu0/OzKAXRIE7j/xRd1kcNftP6WcLAY/wO0/8nEU+tCw7T8F1dz/nS7uP5cbg4NR4u0/ZDPhIhha7T9mmbo9ME7tP01EDO0DMu0/3+orvgnz7D+/kOqQkWjqP+o+NWnm1+k/NKzCXdep7D8a2/o1lUjsP39SBlCE7+s/M/ZP5+/D6z9sZH0OeUfrP3/Pr2j1eOs/k0RNh0Sy6j9U3Y3JkILrPzQagdhJLes/0VPCdHAV6z/K9QELfarrPyyPkrrgl+s/ZBHw9dOq6z/RVefGE2/rP1chASr7wes/XPj2uxIF7T8350lXN+TsP2VP/rZgt+w/hwsQA34E7T9BIPFjPSDtP49Pe0dWJe0/Q6EEOnJf7D8FABt8oPDrP4ihpWi8z+s/5QRZcz3P6z9G435RXeTrP5yyTGTdm+s/ZV9z54bk6z/hIDoMeFPrP4gAFBpXh+s/",
          "dtype": "f8"
         }
        }
       ],
       "layout": {
        "legend": {
         "x": 0,
         "y": 1
        },
        "template": {
         "data": {
          "bar": [
           {
            "error_x": {
             "color": "#f2f5fa"
            },
            "error_y": {
             "color": "#f2f5fa"
            },
            "marker": {
             "line": {
              "color": "rgb(17,17,17)",
              "width": 0.5
             },
             "pattern": {
              "fillmode": "overlay",
              "size": 10,
              "solidity": 0.2
             }
            },
            "type": "bar"
           }
          ],
          "barpolar": [
           {
            "marker": {
             "line": {
              "color": "rgb(17,17,17)",
              "width": 0.5
             },
             "pattern": {
              "fillmode": "overlay",
              "size": 10,
              "solidity": 0.2
             }
            },
            "type": "barpolar"
           }
          ],
          "carpet": [
           {
            "aaxis": {
             "endlinecolor": "#A2B1C6",
             "gridcolor": "#506784",
             "linecolor": "#506784",
             "minorgridcolor": "#506784",
             "startlinecolor": "#A2B1C6"
            },
            "baxis": {
             "endlinecolor": "#A2B1C6",
             "gridcolor": "#506784",
             "linecolor": "#506784",
             "minorgridcolor": "#506784",
             "startlinecolor": "#A2B1C6"
            },
            "type": "carpet"
           }
          ],
          "choropleth": [
           {
            "colorbar": {
             "outlinewidth": 0,
             "ticks": ""
            },
            "type": "choropleth"
           }
          ],
          "contour": [
           {
            "colorbar": {
             "outlinewidth": 0,
             "ticks": ""
            },
            "colorscale": [
             [
              0,
              "#0d0887"
             ],
             [
              0.1111111111111111,
              "#46039f"
             ],
             [
              0.2222222222222222,
              "#7201a8"
             ],
             [
              0.3333333333333333,
              "#9c179e"
             ],
             [
              0.4444444444444444,
              "#bd3786"
             ],
             [
              0.5555555555555556,
              "#d8576b"
             ],
             [
              0.6666666666666666,
              "#ed7953"
             ],
             [
              0.7777777777777778,
              "#fb9f3a"
             ],
             [
              0.8888888888888888,
              "#fdca26"
             ],
             [
              1,
              "#f0f921"
             ]
            ],
            "type": "contour"
           }
          ],
          "contourcarpet": [
           {
            "colorbar": {
             "outlinewidth": 0,
             "ticks": ""
            },
            "type": "contourcarpet"
           }
          ],
          "heatmap": [
           {
            "colorbar": {
             "outlinewidth": 0,
             "ticks": ""
            },
            "colorscale": [
             [
              0,
              "#0d0887"
             ],
             [
              0.1111111111111111,
              "#46039f"
             ],
             [
              0.2222222222222222,
              "#7201a8"
             ],
             [
              0.3333333333333333,
              "#9c179e"
             ],
             [
              0.4444444444444444,
              "#bd3786"
             ],
             [
              0.5555555555555556,
              "#d8576b"
             ],
             [
              0.6666666666666666,
              "#ed7953"
             ],
             [
              0.7777777777777778,
              "#fb9f3a"
             ],
             [
              0.8888888888888888,
              "#fdca26"
             ],
             [
              1,
              "#f0f921"
             ]
            ],
            "type": "heatmap"
           }
          ],
          "histogram": [
           {
            "marker": {
             "pattern": {
              "fillmode": "overlay",
              "size": 10,
              "solidity": 0.2
             }
            },
            "type": "histogram"
           }
          ],
          "histogram2d": [
           {
            "colorbar": {
             "outlinewidth": 0,
             "ticks": ""
            },
            "colorscale": [
             [
              0,
              "#0d0887"
             ],
             [
              0.1111111111111111,
              "#46039f"
             ],
             [
              0.2222222222222222,
              "#7201a8"
             ],
             [
              0.3333333333333333,
              "#9c179e"
             ],
             [
              0.4444444444444444,
              "#bd3786"
             ],
             [
              0.5555555555555556,
              "#d8576b"
             ],
             [
              0.6666666666666666,
              "#ed7953"
             ],
             [
              0.7777777777777778,
              "#fb9f3a"
             ],
             [
              0.8888888888888888,
              "#fdca26"
             ],
             [
              1,
              "#f0f921"
             ]
            ],
            "type": "histogram2d"
           }
          ],
          "histogram2dcontour": [
           {
            "colorbar": {
             "outlinewidth": 0,
             "ticks": ""
            },
            "colorscale": [
             [
              0,
              "#0d0887"
             ],
             [
              0.1111111111111111,
              "#46039f"
             ],
             [
              0.2222222222222222,
              "#7201a8"
             ],
             [
              0.3333333333333333,
              "#9c179e"
             ],
             [
              0.4444444444444444,
              "#bd3786"
             ],
             [
              0.5555555555555556,
              "#d8576b"
             ],
             [
              0.6666666666666666,
              "#ed7953"
             ],
             [
              0.7777777777777778,
              "#fb9f3a"
             ],
             [
              0.8888888888888888,
              "#fdca26"
             ],
             [
              1,
              "#f0f921"
             ]
            ],
            "type": "histogram2dcontour"
           }
          ],
          "mesh3d": [
           {
            "colorbar": {
             "outlinewidth": 0,
             "ticks": ""
            },
            "type": "mesh3d"
           }
          ],
          "parcoords": [
           {
            "line": {
             "colorbar": {
              "outlinewidth": 0,
              "ticks": ""
             }
            },
            "type": "parcoords"
           }
          ],
          "pie": [
           {
            "automargin": true,
            "type": "pie"
           }
          ],
          "scatter": [
           {
            "marker": {
             "line": {
              "color": "#283442"
             }
            },
            "type": "scatter"
           }
          ],
          "scatter3d": [
           {
            "line": {
             "colorbar": {
              "outlinewidth": 0,
              "ticks": ""
             }
            },
            "marker": {
             "colorbar": {
              "outlinewidth": 0,
              "ticks": ""
             }
            },
            "type": "scatter3d"
           }
          ],
          "scattercarpet": [
           {
            "marker": {
             "colorbar": {
              "outlinewidth": 0,
              "ticks": ""
             }
            },
            "type": "scattercarpet"
           }
          ],
          "scattergeo": [
           {
            "marker": {
             "colorbar": {
              "outlinewidth": 0,
              "ticks": ""
             }
            },
            "type": "scattergeo"
           }
          ],
          "scattergl": [
           {
            "marker": {
             "line": {
              "color": "#283442"
             }
            },
            "type": "scattergl"
           }
          ],
          "scattermap": [
           {
            "marker": {
             "colorbar": {
              "outlinewidth": 0,
              "ticks": ""
             }
            },
            "type": "scattermap"
           }
          ],
          "scattermapbox": [
           {
            "marker": {
             "colorbar": {
              "outlinewidth": 0,
              "ticks": ""
             }
            },
            "type": "scattermapbox"
           }
          ],
          "scatterpolar": [
           {
            "marker": {
             "colorbar": {
              "outlinewidth": 0,
              "ticks": ""
             }
            },
            "type": "scatterpolar"
           }
          ],
          "scatterpolargl": [
           {
            "marker": {
             "colorbar": {
              "outlinewidth": 0,
              "ticks": ""
             }
            },
            "type": "scatterpolargl"
           }
          ],
          "scatterternary": [
           {
            "marker": {
             "colorbar": {
              "outlinewidth": 0,
              "ticks": ""
             }
            },
            "type": "scatterternary"
           }
          ],
          "surface": [
           {
            "colorbar": {
             "outlinewidth": 0,
             "ticks": ""
            },
            "colorscale": [
             [
              0,
              "#0d0887"
             ],
             [
              0.1111111111111111,
              "#46039f"
             ],
             [
              0.2222222222222222,
              "#7201a8"
             ],
             [
              0.3333333333333333,
              "#9c179e"
             ],
             [
              0.4444444444444444,
              "#bd3786"
             ],
             [
              0.5555555555555556,
              "#d8576b"
             ],
             [
              0.6666666666666666,
              "#ed7953"
             ],
             [
              0.7777777777777778,
              "#fb9f3a"
             ],
             [
              0.8888888888888888,
              "#fdca26"
             ],
             [
              1,
              "#f0f921"
             ]
            ],
            "type": "surface"
           }
          ],
          "table": [
           {
            "cells": {
             "fill": {
              "color": "#506784"
             },
             "line": {
              "color": "rgb(17,17,17)"
             }
            },
            "header": {
             "fill": {
              "color": "#2a3f5f"
             },
             "line": {
              "color": "rgb(17,17,17)"
             }
            },
            "type": "table"
           }
          ]
         },
         "layout": {
          "annotationdefaults": {
           "arrowcolor": "#f2f5fa",
           "arrowhead": 0,
           "arrowwidth": 1
          },
          "autotypenumbers": "strict",
          "coloraxis": {
           "colorbar": {
            "outlinewidth": 0,
            "ticks": ""
           }
          },
          "colorscale": {
           "diverging": [
            [
             0,
             "#8e0152"
            ],
            [
             0.1,
             "#c51b7d"
            ],
            [
             0.2,
             "#de77ae"
            ],
            [
             0.3,
             "#f1b6da"
            ],
            [
             0.4,
             "#fde0ef"
            ],
            [
             0.5,
             "#f7f7f7"
            ],
            [
             0.6,
             "#e6f5d0"
            ],
            [
             0.7,
             "#b8e186"
            ],
            [
             0.8,
             "#7fbc41"
            ],
            [
             0.9,
             "#4d9221"
            ],
            [
             1,
             "#276419"
            ]
           ],
           "sequential": [
            [
             0,
             "#0d0887"
            ],
            [
             0.1111111111111111,
             "#46039f"
            ],
            [
             0.2222222222222222,
             "#7201a8"
            ],
            [
             0.3333333333333333,
             "#9c179e"
            ],
            [
             0.4444444444444444,
             "#bd3786"
            ],
            [
             0.5555555555555556,
             "#d8576b"
            ],
            [
             0.6666666666666666,
             "#ed7953"
            ],
            [
             0.7777777777777778,
             "#fb9f3a"
            ],
            [
             0.8888888888888888,
             "#fdca26"
            ],
            [
             1,
             "#f0f921"
            ]
           ],
           "sequentialminus": [
            [
             0,
             "#0d0887"
            ],
            [
             0.1111111111111111,
             "#46039f"
            ],
            [
             0.2222222222222222,
             "#7201a8"
            ],
            [
             0.3333333333333333,
             "#9c179e"
            ],
            [
             0.4444444444444444,
             "#bd3786"
            ],
            [
             0.5555555555555556,
             "#d8576b"
            ],
            [
             0.6666666666666666,
             "#ed7953"
            ],
            [
             0.7777777777777778,
             "#fb9f3a"
            ],
            [
             0.8888888888888888,
             "#fdca26"
            ],
            [
             1,
             "#f0f921"
            ]
           ]
          },
          "colorway": [
           "#636efa",
           "#EF553B",
           "#00cc96",
           "#ab63fa",
           "#FFA15A",
           "#19d3f3",
           "#FF6692",
           "#B6E880",
           "#FF97FF",
           "#FECB52"
          ],
          "font": {
           "color": "#f2f5fa"
          },
          "geo": {
           "bgcolor": "rgb(17,17,17)",
           "lakecolor": "rgb(17,17,17)",
           "landcolor": "rgb(17,17,17)",
           "showlakes": true,
           "showland": true,
           "subunitcolor": "#506784"
          },
          "hoverlabel": {
           "align": "left"
          },
          "hovermode": "closest",
          "mapbox": {
           "style": "dark"
          },
          "paper_bgcolor": "rgb(17,17,17)",
          "plot_bgcolor": "rgb(17,17,17)",
          "polar": {
           "angularaxis": {
            "gridcolor": "#506784",
            "linecolor": "#506784",
            "ticks": ""
           },
           "bgcolor": "rgb(17,17,17)",
           "radialaxis": {
            "gridcolor": "#506784",
            "linecolor": "#506784",
            "ticks": ""
           }
          },
          "scene": {
           "xaxis": {
            "backgroundcolor": "rgb(17,17,17)",
            "gridcolor": "#506784",
            "gridwidth": 2,
            "linecolor": "#506784",
            "showbackground": true,
            "ticks": "",
            "zerolinecolor": "#C8D4E3"
           },
           "yaxis": {
            "backgroundcolor": "rgb(17,17,17)",
            "gridcolor": "#506784",
            "gridwidth": 2,
            "linecolor": "#506784",
            "showbackground": true,
            "ticks": "",
            "zerolinecolor": "#C8D4E3"
           },
           "zaxis": {
            "backgroundcolor": "rgb(17,17,17)",
            "gridcolor": "#506784",
            "gridwidth": 2,
            "linecolor": "#506784",
            "showbackground": true,
            "ticks": "",
            "zerolinecolor": "#C8D4E3"
           }
          },
          "shapedefaults": {
           "line": {
            "color": "#f2f5fa"
           }
          },
          "sliderdefaults": {
           "bgcolor": "#C8D4E3",
           "bordercolor": "rgb(17,17,17)",
           "borderwidth": 1,
           "tickwidth": 0
          },
          "ternary": {
           "aaxis": {
            "gridcolor": "#506784",
            "linecolor": "#506784",
            "ticks": ""
           },
           "baxis": {
            "gridcolor": "#506784",
            "linecolor": "#506784",
            "ticks": ""
           },
           "bgcolor": "rgb(17,17,17)",
           "caxis": {
            "gridcolor": "#506784",
            "linecolor": "#506784",
            "ticks": ""
           }
          },
          "title": {
           "x": 0.05
          },
          "updatemenudefaults": {
           "bgcolor": "#506784",
           "borderwidth": 0
          },
          "xaxis": {
           "automargin": true,
           "gridcolor": "#283442",
           "linecolor": "#506784",
           "ticks": "",
           "title": {
            "standoff": 15
           },
           "zerolinecolor": "#283442",
           "zerolinewidth": 2
          },
          "yaxis": {
           "automargin": true,
           "gridcolor": "#283442",
           "linecolor": "#506784",
           "ticks": "",
           "title": {
            "standoff": 15
           },
           "zerolinecolor": "#283442",
           "zerolinewidth": 2
          }
         }
        },
        "title": {
         "text": "Rolling Correlation between YMAX and YMAG"
        },
        "xaxis": {
         "title": {
          "text": "Date"
         }
        },
        "yaxis": {
         "range": [
          -1,
          1
         ],
         "title": {
          "text": "Correlation"
         }
        }
       }
      }
     },
     "metadata": {},
     "output_type": "display_data"
    }
   ],
   "source": [
    "\n",
    "# Plot Rolling Correlation\n",
    "fig_corr = go.Figure()\n",
    "\n",
    "fig_corr.add_trace(go.Scatter(\n",
    "    x=YMAX_YMAG_df.index, \n",
    "    y=YMAX_YMAG_df[\"Rolling Correlation\"], \n",
    "    mode=\"lines\", \n",
    "    name=\"Rolling Correlation\",\n",
    "    line=dict(color=\"red\")\n",
    "))\n",
    "\n",
    "fig_corr.update_layout(\n",
    "    title=\"Rolling Correlation between YMAX and YMAG\",\n",
    "    xaxis_title=\"Date\",\n",
    "    yaxis_title=\"Correlation\",\n",
    "    template=\"plotly_dark\",\n",
    "    legend=dict(x=0, y=1),\n",
    "    yaxis=dict(range=[-1,1])  # Correlation is always between -1 and 1\n",
    ")\n",
    "\n",
    "fig_corr.show()\n"
   ]
  },
  {
   "cell_type": "code",
   "execution_count": 151,
   "metadata": {},
   "outputs": [
    {
     "name": "stderr",
     "output_type": "stream",
     "text": [
      "[*********************100%***********************]  1 of 1 completed\n",
      "[*********************100%***********************]  1 of 1 completed\n",
      "[*********************100%***********************]  1 of 1 completed\n"
     ]
    }
   ],
   "source": [
    "# Download the data of VIX, VVIX, and QQQ ETF\n",
    "VIX = yf.download('^VIX', start='2024-01-01', end='2025-01-30')\n",
    "VVIX = yf.download('^VVIX', start='2024-01-01', end='2025-01-30')\n",
    "QQQ = yf.download('QQQ', start='2024-01-01', end='2025-01-30')\n",
    "\n",
    "# Rename the columns\n",
    "VIX.columns = ['Close', 'High', 'Low', 'Open', 'Volume']\n",
    "VVIX.columns = ['Close', 'High', 'Low', 'Open', 'Volume']\n",
    "QQQ.columns = ['Close', 'High', 'Low', 'Open', 'Volume']"
   ]
  },
  {
   "cell_type": "code",
   "execution_count": 152,
   "metadata": {},
   "outputs": [
    {
     "data": {
      "application/vnd.plotly.v1+json": {
       "config": {
        "plotlyServerURL": "https://plot.ly"
       },
       "data": [
        {
         "close": {
          "bdata": "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",
          "dtype": "f8"
         },
         "decreasing": {
          "line": {
           "color": "red"
          }
         },
         "high": {
          "bdata": "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",
          "dtype": "f8"
         },
         "increasing": {
          "line": {
           "color": "green"
          }
         },
         "low": {
          "bdata": "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",
          "dtype": "f8"
         },
         "open": {
          "bdata": "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",
          "dtype": "f8"
         },
         "type": "candlestick",
         "x": [
          "2024-01-02T00:00:00.000000000",
          "2024-01-03T00:00:00.000000000",
          "2024-01-04T00:00:00.000000000",
          "2024-01-05T00:00:00.000000000",
          "2024-01-08T00:00:00.000000000",
          "2024-01-09T00:00:00.000000000",
          "2024-01-10T00:00:00.000000000",
          "2024-01-11T00:00:00.000000000",
          "2024-01-12T00:00:00.000000000",
          "2024-01-16T00:00:00.000000000",
          "2024-01-17T00:00:00.000000000",
          "2024-01-18T00:00:00.000000000",
          "2024-01-19T00:00:00.000000000",
          "2024-01-22T00:00:00.000000000",
          "2024-01-23T00:00:00.000000000",
          "2024-01-24T00:00:00.000000000",
          "2024-01-25T00:00:00.000000000",
          "2024-01-26T00:00:00.000000000",
          "2024-01-29T00:00:00.000000000",
          "2024-01-30T00:00:00.000000000",
          "2024-01-31T00:00:00.000000000",
          "2024-02-01T00:00:00.000000000",
          "2024-02-02T00:00:00.000000000",
          "2024-02-05T00:00:00.000000000",
          "2024-02-06T00:00:00.000000000",
          "2024-02-07T00:00:00.000000000",
          "2024-02-08T00:00:00.000000000",
          "2024-02-09T00:00:00.000000000",
          "2024-02-12T00:00:00.000000000",
          "2024-02-13T00:00:00.000000000",
          "2024-02-14T00:00:00.000000000",
          "2024-02-15T00:00:00.000000000",
          "2024-02-16T00:00:00.000000000",
          "2024-02-20T00:00:00.000000000",
          "2024-02-21T00:00:00.000000000",
          "2024-02-22T00:00:00.000000000",
          "2024-02-23T00:00:00.000000000",
          "2024-02-26T00:00:00.000000000",
          "2024-02-27T00:00:00.000000000",
          "2024-02-28T00:00:00.000000000",
          "2024-02-29T00:00:00.000000000",
          "2024-03-01T00:00:00.000000000",
          "2024-03-04T00:00:00.000000000",
          "2024-03-05T00:00:00.000000000",
          "2024-03-06T00:00:00.000000000",
          "2024-03-07T00:00:00.000000000",
          "2024-03-08T00:00:00.000000000",
          "2024-03-11T00:00:00.000000000",
          "2024-03-12T00:00:00.000000000",
          "2024-03-13T00:00:00.000000000",
          "2024-03-14T00:00:00.000000000",
          "2024-03-15T00:00:00.000000000",
          "2024-03-18T00:00:00.000000000",
          "2024-03-19T00:00:00.000000000",
          "2024-03-20T00:00:00.000000000",
          "2024-03-21T00:00:00.000000000",
          "2024-03-22T00:00:00.000000000",
          "2024-03-25T00:00:00.000000000",
          "2024-03-26T00:00:00.000000000",
          "2024-03-27T00:00:00.000000000",
          "2024-03-28T00:00:00.000000000",
          "2024-04-01T00:00:00.000000000",
          "2024-04-02T00:00:00.000000000",
          "2024-04-03T00:00:00.000000000",
          "2024-04-04T00:00:00.000000000",
          "2024-04-05T00:00:00.000000000",
          "2024-04-08T00:00:00.000000000",
          "2024-04-09T00:00:00.000000000",
          "2024-04-10T00:00:00.000000000",
          "2024-04-11T00:00:00.000000000",
          "2024-04-12T00:00:00.000000000",
          "2024-04-15T00:00:00.000000000",
          "2024-04-16T00:00:00.000000000",
          "2024-04-17T00:00:00.000000000",
          "2024-04-18T00:00:00.000000000",
          "2024-04-19T00:00:00.000000000",
          "2024-04-22T00:00:00.000000000",
          "2024-04-23T00:00:00.000000000",
          "2024-04-24T00:00:00.000000000",
          "2024-04-25T00:00:00.000000000",
          "2024-04-26T00:00:00.000000000",
          "2024-04-29T00:00:00.000000000",
          "2024-04-30T00:00:00.000000000",
          "2024-05-01T00:00:00.000000000",
          "2024-05-02T00:00:00.000000000",
          "2024-05-03T00:00:00.000000000",
          "2024-05-06T00:00:00.000000000",
          "2024-05-07T00:00:00.000000000",
          "2024-05-08T00:00:00.000000000",
          "2024-05-09T00:00:00.000000000",
          "2024-05-10T00:00:00.000000000",
          "2024-05-13T00:00:00.000000000",
          "2024-05-14T00:00:00.000000000",
          "2024-05-15T00:00:00.000000000",
          "2024-05-16T00:00:00.000000000",
          "2024-05-17T00:00:00.000000000",
          "2024-05-20T00:00:00.000000000",
          "2024-05-21T00:00:00.000000000",
          "2024-05-22T00:00:00.000000000",
          "2024-05-23T00:00:00.000000000",
          "2024-05-24T00:00:00.000000000",
          "2024-05-28T00:00:00.000000000",
          "2024-05-29T00:00:00.000000000",
          "2024-05-30T00:00:00.000000000",
          "2024-05-31T00:00:00.000000000",
          "2024-06-03T00:00:00.000000000",
          "2024-06-04T00:00:00.000000000",
          "2024-06-05T00:00:00.000000000",
          "2024-06-06T00:00:00.000000000",
          "2024-06-07T00:00:00.000000000",
          "2024-06-10T00:00:00.000000000",
          "2024-06-11T00:00:00.000000000",
          "2024-06-12T00:00:00.000000000",
          "2024-06-13T00:00:00.000000000",
          "2024-06-14T00:00:00.000000000",
          "2024-06-17T00:00:00.000000000",
          "2024-06-18T00:00:00.000000000",
          "2024-06-20T00:00:00.000000000",
          "2024-06-21T00:00:00.000000000",
          "2024-06-24T00:00:00.000000000",
          "2024-06-25T00:00:00.000000000",
          "2024-06-26T00:00:00.000000000",
          "2024-06-27T00:00:00.000000000",
          "2024-06-28T00:00:00.000000000",
          "2024-07-01T00:00:00.000000000",
          "2024-07-02T00:00:00.000000000",
          "2024-07-03T00:00:00.000000000",
          "2024-07-05T00:00:00.000000000",
          "2024-07-08T00:00:00.000000000",
          "2024-07-09T00:00:00.000000000",
          "2024-07-10T00:00:00.000000000",
          "2024-07-11T00:00:00.000000000",
          "2024-07-12T00:00:00.000000000",
          "2024-07-15T00:00:00.000000000",
          "2024-07-16T00:00:00.000000000",
          "2024-07-17T00:00:00.000000000",
          "2024-07-18T00:00:00.000000000",
          "2024-07-19T00:00:00.000000000",
          "2024-07-22T00:00:00.000000000",
          "2024-07-23T00:00:00.000000000",
          "2024-07-24T00:00:00.000000000",
          "2024-07-25T00:00:00.000000000",
          "2024-07-26T00:00:00.000000000",
          "2024-07-29T00:00:00.000000000",
          "2024-07-30T00:00:00.000000000",
          "2024-07-31T00:00:00.000000000",
          "2024-08-01T00:00:00.000000000",
          "2024-08-02T00:00:00.000000000",
          "2024-08-05T00:00:00.000000000",
          "2024-08-06T00:00:00.000000000",
          "2024-08-07T00:00:00.000000000",
          "2024-08-08T00:00:00.000000000",
          "2024-08-09T00:00:00.000000000",
          "2024-08-12T00:00:00.000000000",
          "2024-08-13T00:00:00.000000000",
          "2024-08-14T00:00:00.000000000",
          "2024-08-15T00:00:00.000000000",
          "2024-08-16T00:00:00.000000000",
          "2024-08-19T00:00:00.000000000",
          "2024-08-20T00:00:00.000000000",
          "2024-08-21T00:00:00.000000000",
          "2024-08-22T00:00:00.000000000",
          "2024-08-23T00:00:00.000000000",
          "2024-08-26T00:00:00.000000000",
          "2024-08-27T00:00:00.000000000",
          "2024-08-28T00:00:00.000000000",
          "2024-08-29T00:00:00.000000000",
          "2024-08-30T00:00:00.000000000",
          "2024-09-03T00:00:00.000000000",
          "2024-09-04T00:00:00.000000000",
          "2024-09-05T00:00:00.000000000",
          "2024-09-06T00:00:00.000000000",
          "2024-09-09T00:00:00.000000000",
          "2024-09-10T00:00:00.000000000",
          "2024-09-11T00:00:00.000000000",
          "2024-09-12T00:00:00.000000000",
          "2024-09-13T00:00:00.000000000",
          "2024-09-16T00:00:00.000000000",
          "2024-09-17T00:00:00.000000000",
          "2024-09-18T00:00:00.000000000",
          "2024-09-19T00:00:00.000000000",
          "2024-09-20T00:00:00.000000000",
          "2024-09-23T00:00:00.000000000",
          "2024-09-24T00:00:00.000000000",
          "2024-09-25T00:00:00.000000000",
          "2024-09-26T00:00:00.000000000",
          "2024-09-27T00:00:00.000000000",
          "2024-09-30T00:00:00.000000000",
          "2024-10-01T00:00:00.000000000",
          "2024-10-02T00:00:00.000000000",
          "2024-10-03T00:00:00.000000000",
          "2024-10-04T00:00:00.000000000",
          "2024-10-07T00:00:00.000000000",
          "2024-10-08T00:00:00.000000000",
          "2024-10-09T00:00:00.000000000",
          "2024-10-10T00:00:00.000000000",
          "2024-10-11T00:00:00.000000000",
          "2024-10-14T00:00:00.000000000",
          "2024-10-15T00:00:00.000000000",
          "2024-10-16T00:00:00.000000000",
          "2024-10-17T00:00:00.000000000",
          "2024-10-18T00:00:00.000000000",
          "2024-10-21T00:00:00.000000000",
          "2024-10-22T00:00:00.000000000",
          "2024-10-23T00:00:00.000000000",
          "2024-10-24T00:00:00.000000000",
          "2024-10-25T00:00:00.000000000",
          "2024-10-28T00:00:00.000000000",
          "2024-10-29T00:00:00.000000000",
          "2024-10-30T00:00:00.000000000",
          "2024-10-31T00:00:00.000000000",
          "2024-11-01T00:00:00.000000000",
          "2024-11-04T00:00:00.000000000",
          "2024-11-05T00:00:00.000000000",
          "2024-11-06T00:00:00.000000000",
          "2024-11-07T00:00:00.000000000",
          "2024-11-08T00:00:00.000000000",
          "2024-11-11T00:00:00.000000000",
          "2024-11-12T00:00:00.000000000",
          "2024-11-13T00:00:00.000000000",
          "2024-11-14T00:00:00.000000000",
          "2024-11-15T00:00:00.000000000",
          "2024-11-18T00:00:00.000000000",
          "2024-11-19T00:00:00.000000000",
          "2024-11-20T00:00:00.000000000",
          "2024-11-21T00:00:00.000000000",
          "2024-11-22T00:00:00.000000000",
          "2024-11-25T00:00:00.000000000",
          "2024-11-26T00:00:00.000000000",
          "2024-11-27T00:00:00.000000000",
          "2024-11-29T00:00:00.000000000",
          "2024-12-02T00:00:00.000000000",
          "2024-12-03T00:00:00.000000000",
          "2024-12-04T00:00:00.000000000",
          "2024-12-05T00:00:00.000000000",
          "2024-12-06T00:00:00.000000000",
          "2024-12-09T00:00:00.000000000",
          "2024-12-10T00:00:00.000000000",
          "2024-12-11T00:00:00.000000000",
          "2024-12-12T00:00:00.000000000",
          "2024-12-13T00:00:00.000000000",
          "2024-12-16T00:00:00.000000000",
          "2024-12-17T00:00:00.000000000",
          "2024-12-18T00:00:00.000000000",
          "2024-12-19T00:00:00.000000000",
          "2024-12-20T00:00:00.000000000",
          "2024-12-23T00:00:00.000000000",
          "2024-12-24T00:00:00.000000000",
          "2024-12-26T00:00:00.000000000",
          "2024-12-27T00:00:00.000000000",
          "2024-12-30T00:00:00.000000000",
          "2024-12-31T00:00:00.000000000",
          "2025-01-02T00:00:00.000000000",
          "2025-01-03T00:00:00.000000000",
          "2025-01-06T00:00:00.000000000",
          "2025-01-07T00:00:00.000000000",
          "2025-01-08T00:00:00.000000000",
          "2025-01-10T00:00:00.000000000",
          "2025-01-13T00:00:00.000000000",
          "2025-01-14T00:00:00.000000000",
          "2025-01-15T00:00:00.000000000",
          "2025-01-16T00:00:00.000000000",
          "2025-01-17T00:00:00.000000000",
          "2025-01-21T00:00:00.000000000",
          "2025-01-22T00:00:00.000000000",
          "2025-01-23T00:00:00.000000000",
          "2025-01-24T00:00:00.000000000",
          "2025-01-27T00:00:00.000000000",
          "2025-01-28T00:00:00.000000000",
          "2025-01-29T00:00:00.000000000"
         ]
        }
       ],
       "layout": {
        "template": {
         "data": {
          "bar": [
           {
            "error_x": {
             "color": "#f2f5fa"
            },
            "error_y": {
             "color": "#f2f5fa"
            },
            "marker": {
             "line": {
              "color": "rgb(17,17,17)",
              "width": 0.5
             },
             "pattern": {
              "fillmode": "overlay",
              "size": 10,
              "solidity": 0.2
             }
            },
            "type": "bar"
           }
          ],
          "barpolar": [
           {
            "marker": {
             "line": {
              "color": "rgb(17,17,17)",
              "width": 0.5
             },
             "pattern": {
              "fillmode": "overlay",
              "size": 10,
              "solidity": 0.2
             }
            },
            "type": "barpolar"
           }
          ],
          "carpet": [
           {
            "aaxis": {
             "endlinecolor": "#A2B1C6",
             "gridcolor": "#506784",
             "linecolor": "#506784",
             "minorgridcolor": "#506784",
             "startlinecolor": "#A2B1C6"
            },
            "baxis": {
             "endlinecolor": "#A2B1C6",
             "gridcolor": "#506784",
             "linecolor": "#506784",
             "minorgridcolor": "#506784",
             "startlinecolor": "#A2B1C6"
            },
            "type": "carpet"
           }
          ],
          "choropleth": [
           {
            "colorbar": {
             "outlinewidth": 0,
             "ticks": ""
            },
            "type": "choropleth"
           }
          ],
          "contour": [
           {
            "colorbar": {
             "outlinewidth": 0,
             "ticks": ""
            },
            "colorscale": [
             [
              0,
              "#0d0887"
             ],
             [
              0.1111111111111111,
              "#46039f"
             ],
             [
              0.2222222222222222,
              "#7201a8"
             ],
             [
              0.3333333333333333,
              "#9c179e"
             ],
             [
              0.4444444444444444,
              "#bd3786"
             ],
             [
              0.5555555555555556,
              "#d8576b"
             ],
             [
              0.6666666666666666,
              "#ed7953"
             ],
             [
              0.7777777777777778,
              "#fb9f3a"
             ],
             [
              0.8888888888888888,
              "#fdca26"
             ],
             [
              1,
              "#f0f921"
             ]
            ],
            "type": "contour"
           }
          ],
          "contourcarpet": [
           {
            "colorbar": {
             "outlinewidth": 0,
             "ticks": ""
            },
            "type": "contourcarpet"
           }
          ],
          "heatmap": [
           {
            "colorbar": {
             "outlinewidth": 0,
             "ticks": ""
            },
            "colorscale": [
             [
              0,
              "#0d0887"
             ],
             [
              0.1111111111111111,
              "#46039f"
             ],
             [
              0.2222222222222222,
              "#7201a8"
             ],
             [
              0.3333333333333333,
              "#9c179e"
             ],
             [
              0.4444444444444444,
              "#bd3786"
             ],
             [
              0.5555555555555556,
              "#d8576b"
             ],
             [
              0.6666666666666666,
              "#ed7953"
             ],
             [
              0.7777777777777778,
              "#fb9f3a"
             ],
             [
              0.8888888888888888,
              "#fdca26"
             ],
             [
              1,
              "#f0f921"
             ]
            ],
            "type": "heatmap"
           }
          ],
          "histogram": [
           {
            "marker": {
             "pattern": {
              "fillmode": "overlay",
              "size": 10,
              "solidity": 0.2
             }
            },
            "type": "histogram"
           }
          ],
          "histogram2d": [
           {
            "colorbar": {
             "outlinewidth": 0,
             "ticks": ""
            },
            "colorscale": [
             [
              0,
              "#0d0887"
             ],
             [
              0.1111111111111111,
              "#46039f"
             ],
             [
              0.2222222222222222,
              "#7201a8"
             ],
             [
              0.3333333333333333,
              "#9c179e"
             ],
             [
              0.4444444444444444,
              "#bd3786"
             ],
             [
              0.5555555555555556,
              "#d8576b"
             ],
             [
              0.6666666666666666,
              "#ed7953"
             ],
             [
              0.7777777777777778,
              "#fb9f3a"
             ],
             [
              0.8888888888888888,
              "#fdca26"
             ],
             [
              1,
              "#f0f921"
             ]
            ],
            "type": "histogram2d"
           }
          ],
          "histogram2dcontour": [
           {
            "colorbar": {
             "outlinewidth": 0,
             "ticks": ""
            },
            "colorscale": [
             [
              0,
              "#0d0887"
             ],
             [
              0.1111111111111111,
              "#46039f"
             ],
             [
              0.2222222222222222,
              "#7201a8"
             ],
             [
              0.3333333333333333,
              "#9c179e"
             ],
             [
              0.4444444444444444,
              "#bd3786"
             ],
             [
              0.5555555555555556,
              "#d8576b"
             ],
             [
              0.6666666666666666,
              "#ed7953"
             ],
             [
              0.7777777777777778,
              "#fb9f3a"
             ],
             [
              0.8888888888888888,
              "#fdca26"
             ],
             [
              1,
              "#f0f921"
             ]
            ],
            "type": "histogram2dcontour"
           }
          ],
          "mesh3d": [
           {
            "colorbar": {
             "outlinewidth": 0,
             "ticks": ""
            },
            "type": "mesh3d"
           }
          ],
          "parcoords": [
           {
            "line": {
             "colorbar": {
              "outlinewidth": 0,
              "ticks": ""
             }
            },
            "type": "parcoords"
           }
          ],
          "pie": [
           {
            "automargin": true,
            "type": "pie"
           }
          ],
          "scatter": [
           {
            "marker": {
             "line": {
              "color": "#283442"
             }
            },
            "type": "scatter"
           }
          ],
          "scatter3d": [
           {
            "line": {
             "colorbar": {
              "outlinewidth": 0,
              "ticks": ""
             }
            },
            "marker": {
             "colorbar": {
              "outlinewidth": 0,
              "ticks": ""
             }
            },
            "type": "scatter3d"
           }
          ],
          "scattercarpet": [
           {
            "marker": {
             "colorbar": {
              "outlinewidth": 0,
              "ticks": ""
             }
            },
            "type": "scattercarpet"
           }
          ],
          "scattergeo": [
           {
            "marker": {
             "colorbar": {
              "outlinewidth": 0,
              "ticks": ""
             }
            },
            "type": "scattergeo"
           }
          ],
          "scattergl": [
           {
            "marker": {
             "line": {
              "color": "#283442"
             }
            },
            "type": "scattergl"
           }
          ],
          "scattermap": [
           {
            "marker": {
             "colorbar": {
              "outlinewidth": 0,
              "ticks": ""
             }
            },
            "type": "scattermap"
           }
          ],
          "scattermapbox": [
           {
            "marker": {
             "colorbar": {
              "outlinewidth": 0,
              "ticks": ""
             }
            },
            "type": "scattermapbox"
           }
          ],
          "scatterpolar": [
           {
            "marker": {
             "colorbar": {
              "outlinewidth": 0,
              "ticks": ""
             }
            },
            "type": "scatterpolar"
           }
          ],
          "scatterpolargl": [
           {
            "marker": {
             "colorbar": {
              "outlinewidth": 0,
              "ticks": ""
             }
            },
            "type": "scatterpolargl"
           }
          ],
          "scatterternary": [
           {
            "marker": {
             "colorbar": {
              "outlinewidth": 0,
              "ticks": ""
             }
            },
            "type": "scatterternary"
           }
          ],
          "surface": [
           {
            "colorbar": {
             "outlinewidth": 0,
             "ticks": ""
            },
            "colorscale": [
             [
              0,
              "#0d0887"
             ],
             [
              0.1111111111111111,
              "#46039f"
             ],
             [
              0.2222222222222222,
              "#7201a8"
             ],
             [
              0.3333333333333333,
              "#9c179e"
             ],
             [
              0.4444444444444444,
              "#bd3786"
             ],
             [
              0.5555555555555556,
              "#d8576b"
             ],
             [
              0.6666666666666666,
              "#ed7953"
             ],
             [
              0.7777777777777778,
              "#fb9f3a"
             ],
             [
              0.8888888888888888,
              "#fdca26"
             ],
             [
              1,
              "#f0f921"
             ]
            ],
            "type": "surface"
           }
          ],
          "table": [
           {
            "cells": {
             "fill": {
              "color": "#506784"
             },
             "line": {
              "color": "rgb(17,17,17)"
             }
            },
            "header": {
             "fill": {
              "color": "#2a3f5f"
             },
             "line": {
              "color": "rgb(17,17,17)"
             }
            },
            "type": "table"
           }
          ]
         },
         "layout": {
          "annotationdefaults": {
           "arrowcolor": "#f2f5fa",
           "arrowhead": 0,
           "arrowwidth": 1
          },
          "autotypenumbers": "strict",
          "coloraxis": {
           "colorbar": {
            "outlinewidth": 0,
            "ticks": ""
           }
          },
          "colorscale": {
           "diverging": [
            [
             0,
             "#8e0152"
            ],
            [
             0.1,
             "#c51b7d"
            ],
            [
             0.2,
             "#de77ae"
            ],
            [
             0.3,
             "#f1b6da"
            ],
            [
             0.4,
             "#fde0ef"
            ],
            [
             0.5,
             "#f7f7f7"
            ],
            [
             0.6,
             "#e6f5d0"
            ],
            [
             0.7,
             "#b8e186"
            ],
            [
             0.8,
             "#7fbc41"
            ],
            [
             0.9,
             "#4d9221"
            ],
            [
             1,
             "#276419"
            ]
           ],
           "sequential": [
            [
             0,
             "#0d0887"
            ],
            [
             0.1111111111111111,
             "#46039f"
            ],
            [
             0.2222222222222222,
             "#7201a8"
            ],
            [
             0.3333333333333333,
             "#9c179e"
            ],
            [
             0.4444444444444444,
             "#bd3786"
            ],
            [
             0.5555555555555556,
             "#d8576b"
            ],
            [
             0.6666666666666666,
             "#ed7953"
            ],
            [
             0.7777777777777778,
             "#fb9f3a"
            ],
            [
             0.8888888888888888,
             "#fdca26"
            ],
            [
             1,
             "#f0f921"
            ]
           ],
           "sequentialminus": [
            [
             0,
             "#0d0887"
            ],
            [
             0.1111111111111111,
             "#46039f"
            ],
            [
             0.2222222222222222,
             "#7201a8"
            ],
            [
             0.3333333333333333,
             "#9c179e"
            ],
            [
             0.4444444444444444,
             "#bd3786"
            ],
            [
             0.5555555555555556,
             "#d8576b"
            ],
            [
             0.6666666666666666,
             "#ed7953"
            ],
            [
             0.7777777777777778,
             "#fb9f3a"
            ],
            [
             0.8888888888888888,
             "#fdca26"
            ],
            [
             1,
             "#f0f921"
            ]
           ]
          },
          "colorway": [
           "#636efa",
           "#EF553B",
           "#00cc96",
           "#ab63fa",
           "#FFA15A",
           "#19d3f3",
           "#FF6692",
           "#B6E880",
           "#FF97FF",
           "#FECB52"
          ],
          "font": {
           "color": "#f2f5fa"
          },
          "geo": {
           "bgcolor": "rgb(17,17,17)",
           "lakecolor": "rgb(17,17,17)",
           "landcolor": "rgb(17,17,17)",
           "showlakes": true,
           "showland": true,
           "subunitcolor": "#506784"
          },
          "hoverlabel": {
           "align": "left"
          },
          "hovermode": "closest",
          "mapbox": {
           "style": "dark"
          },
          "paper_bgcolor": "rgb(17,17,17)",
          "plot_bgcolor": "rgb(17,17,17)",
          "polar": {
           "angularaxis": {
            "gridcolor": "#506784",
            "linecolor": "#506784",
            "ticks": ""
           },
           "bgcolor": "rgb(17,17,17)",
           "radialaxis": {
            "gridcolor": "#506784",
            "linecolor": "#506784",
            "ticks": ""
           }
          },
          "scene": {
           "xaxis": {
            "backgroundcolor": "rgb(17,17,17)",
            "gridcolor": "#506784",
            "gridwidth": 2,
            "linecolor": "#506784",
            "showbackground": true,
            "ticks": "",
            "zerolinecolor": "#C8D4E3"
           },
           "yaxis": {
            "backgroundcolor": "rgb(17,17,17)",
            "gridcolor": "#506784",
            "gridwidth": 2,
            "linecolor": "#506784",
            "showbackground": true,
            "ticks": "",
            "zerolinecolor": "#C8D4E3"
           },
           "zaxis": {
            "backgroundcolor": "rgb(17,17,17)",
            "gridcolor": "#506784",
            "gridwidth": 2,
            "linecolor": "#506784",
            "showbackground": true,
            "ticks": "",
            "zerolinecolor": "#C8D4E3"
           }
          },
          "shapedefaults": {
           "line": {
            "color": "#f2f5fa"
           }
          },
          "sliderdefaults": {
           "bgcolor": "#C8D4E3",
           "bordercolor": "rgb(17,17,17)",
           "borderwidth": 1,
           "tickwidth": 0
          },
          "ternary": {
           "aaxis": {
            "gridcolor": "#506784",
            "linecolor": "#506784",
            "ticks": ""
           },
           "baxis": {
            "gridcolor": "#506784",
            "linecolor": "#506784",
            "ticks": ""
           },
           "bgcolor": "rgb(17,17,17)",
           "caxis": {
            "gridcolor": "#506784",
            "linecolor": "#506784",
            "ticks": ""
           }
          },
          "title": {
           "x": 0.05
          },
          "updatemenudefaults": {
           "bgcolor": "#506784",
           "borderwidth": 0
          },
          "xaxis": {
           "automargin": true,
           "gridcolor": "#283442",
           "linecolor": "#506784",
           "ticks": "",
           "title": {
            "standoff": 15
           },
           "zerolinecolor": "#283442",
           "zerolinewidth": 2
          },
          "yaxis": {
           "automargin": true,
           "gridcolor": "#283442",
           "linecolor": "#506784",
           "ticks": "",
           "title": {
            "standoff": 15
           },
           "zerolinecolor": "#283442",
           "zerolinewidth": 2
          }
         }
        },
        "title": {
         "text": "VIX Candlestick Chart"
        },
        "xaxis": {
         "rangeslider": {
          "visible": false
         },
         "title": {
          "text": "Date"
         }
        },
        "yaxis": {
         "title": {
          "text": "Price"
         }
        }
       }
      }
     },
     "metadata": {},
     "output_type": "display_data"
    },
    {
     "data": {
      "application/vnd.plotly.v1+json": {
       "config": {
        "plotlyServerURL": "https://plot.ly"
       },
       "data": [
        {
         "close": {
          "bdata": "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",
          "dtype": "f8"
         },
         "decreasing": {
          "line": {
           "color": "red"
          }
         },
         "high": {
          "bdata": "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",
          "dtype": "f8"
         },
         "increasing": {
          "line": {
           "color": "green"
          }
         },
         "low": {
          "bdata": "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",
          "dtype": "f8"
         },
         "open": {
          "bdata": "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",
          "dtype": "f8"
         },
         "type": "candlestick",
         "x": [
          "2024-01-02T00:00:00.000000000",
          "2024-01-03T00:00:00.000000000",
          "2024-01-04T00:00:00.000000000",
          "2024-01-05T00:00:00.000000000",
          "2024-01-08T00:00:00.000000000",
          "2024-01-09T00:00:00.000000000",
          "2024-01-10T00:00:00.000000000",
          "2024-01-11T00:00:00.000000000",
          "2024-01-12T00:00:00.000000000",
          "2024-01-16T00:00:00.000000000",
          "2024-01-17T00:00:00.000000000",
          "2024-01-18T00:00:00.000000000",
          "2024-01-19T00:00:00.000000000",
          "2024-01-22T00:00:00.000000000",
          "2024-01-23T00:00:00.000000000",
          "2024-01-24T00:00:00.000000000",
          "2024-01-25T00:00:00.000000000",
          "2024-01-26T00:00:00.000000000",
          "2024-01-29T00:00:00.000000000",
          "2024-01-30T00:00:00.000000000",
          "2024-01-31T00:00:00.000000000",
          "2024-02-01T00:00:00.000000000",
          "2024-02-02T00:00:00.000000000",
          "2024-02-05T00:00:00.000000000",
          "2024-02-06T00:00:00.000000000",
          "2024-02-07T00:00:00.000000000",
          "2024-02-08T00:00:00.000000000",
          "2024-02-09T00:00:00.000000000",
          "2024-02-12T00:00:00.000000000",
          "2024-02-13T00:00:00.000000000",
          "2024-02-14T00:00:00.000000000",
          "2024-02-15T00:00:00.000000000",
          "2024-02-16T00:00:00.000000000",
          "2024-02-20T00:00:00.000000000",
          "2024-02-21T00:00:00.000000000",
          "2024-02-22T00:00:00.000000000",
          "2024-02-23T00:00:00.000000000",
          "2024-02-26T00:00:00.000000000",
          "2024-02-27T00:00:00.000000000",
          "2024-02-28T00:00:00.000000000",
          "2024-02-29T00:00:00.000000000",
          "2024-03-01T00:00:00.000000000",
          "2024-03-04T00:00:00.000000000",
          "2024-03-05T00:00:00.000000000",
          "2024-03-06T00:00:00.000000000",
          "2024-03-07T00:00:00.000000000",
          "2024-03-08T00:00:00.000000000",
          "2024-03-11T00:00:00.000000000",
          "2024-03-12T00:00:00.000000000",
          "2024-03-13T00:00:00.000000000",
          "2024-03-14T00:00:00.000000000",
          "2024-03-15T00:00:00.000000000",
          "2024-03-18T00:00:00.000000000",
          "2024-03-19T00:00:00.000000000",
          "2024-03-20T00:00:00.000000000",
          "2024-03-21T00:00:00.000000000",
          "2024-03-22T00:00:00.000000000",
          "2024-03-25T00:00:00.000000000",
          "2024-03-26T00:00:00.000000000",
          "2024-03-27T00:00:00.000000000",
          "2024-03-28T00:00:00.000000000",
          "2024-04-01T00:00:00.000000000",
          "2024-04-02T00:00:00.000000000",
          "2024-04-03T00:00:00.000000000",
          "2024-04-04T00:00:00.000000000",
          "2024-04-05T00:00:00.000000000",
          "2024-04-08T00:00:00.000000000",
          "2024-04-09T00:00:00.000000000",
          "2024-04-10T00:00:00.000000000",
          "2024-04-11T00:00:00.000000000",
          "2024-04-12T00:00:00.000000000",
          "2024-04-15T00:00:00.000000000",
          "2024-04-16T00:00:00.000000000",
          "2024-04-17T00:00:00.000000000",
          "2024-04-18T00:00:00.000000000",
          "2024-04-19T00:00:00.000000000",
          "2024-04-22T00:00:00.000000000",
          "2024-04-23T00:00:00.000000000",
          "2024-04-24T00:00:00.000000000",
          "2024-04-25T00:00:00.000000000",
          "2024-04-26T00:00:00.000000000",
          "2024-04-29T00:00:00.000000000",
          "2024-04-30T00:00:00.000000000",
          "2024-05-01T00:00:00.000000000",
          "2024-05-02T00:00:00.000000000",
          "2024-05-03T00:00:00.000000000",
          "2024-05-06T00:00:00.000000000",
          "2024-05-07T00:00:00.000000000",
          "2024-05-08T00:00:00.000000000",
          "2024-05-09T00:00:00.000000000",
          "2024-05-10T00:00:00.000000000",
          "2024-05-13T00:00:00.000000000",
          "2024-05-14T00:00:00.000000000",
          "2024-05-15T00:00:00.000000000",
          "2024-05-16T00:00:00.000000000",
          "2024-05-17T00:00:00.000000000",
          "2024-05-20T00:00:00.000000000",
          "2024-05-21T00:00:00.000000000",
          "2024-05-22T00:00:00.000000000",
          "2024-05-23T00:00:00.000000000",
          "2024-05-24T00:00:00.000000000",
          "2024-05-28T00:00:00.000000000",
          "2024-05-29T00:00:00.000000000",
          "2024-05-30T00:00:00.000000000",
          "2024-05-31T00:00:00.000000000",
          "2024-06-03T00:00:00.000000000",
          "2024-06-04T00:00:00.000000000",
          "2024-06-05T00:00:00.000000000",
          "2024-06-06T00:00:00.000000000",
          "2024-06-07T00:00:00.000000000",
          "2024-06-10T00:00:00.000000000",
          "2024-06-11T00:00:00.000000000",
          "2024-06-12T00:00:00.000000000",
          "2024-06-13T00:00:00.000000000",
          "2024-06-14T00:00:00.000000000",
          "2024-06-17T00:00:00.000000000",
          "2024-06-18T00:00:00.000000000",
          "2024-06-20T00:00:00.000000000",
          "2024-06-21T00:00:00.000000000",
          "2024-06-24T00:00:00.000000000",
          "2024-06-25T00:00:00.000000000",
          "2024-06-26T00:00:00.000000000",
          "2024-06-27T00:00:00.000000000",
          "2024-06-28T00:00:00.000000000",
          "2024-07-01T00:00:00.000000000",
          "2024-07-02T00:00:00.000000000",
          "2024-07-03T00:00:00.000000000",
          "2024-07-05T00:00:00.000000000",
          "2024-07-08T00:00:00.000000000",
          "2024-07-09T00:00:00.000000000",
          "2024-07-10T00:00:00.000000000",
          "2024-07-11T00:00:00.000000000",
          "2024-07-12T00:00:00.000000000",
          "2024-07-15T00:00:00.000000000",
          "2024-07-16T00:00:00.000000000",
          "2024-07-17T00:00:00.000000000",
          "2024-07-18T00:00:00.000000000",
          "2024-07-19T00:00:00.000000000",
          "2024-07-22T00:00:00.000000000",
          "2024-07-23T00:00:00.000000000",
          "2024-07-24T00:00:00.000000000",
          "2024-07-25T00:00:00.000000000",
          "2024-07-26T00:00:00.000000000",
          "2024-07-29T00:00:00.000000000",
          "2024-07-30T00:00:00.000000000",
          "2024-07-31T00:00:00.000000000",
          "2024-08-01T00:00:00.000000000",
          "2024-08-02T00:00:00.000000000",
          "2024-08-05T00:00:00.000000000",
          "2024-08-06T00:00:00.000000000",
          "2024-08-07T00:00:00.000000000",
          "2024-08-08T00:00:00.000000000",
          "2024-08-09T00:00:00.000000000",
          "2024-08-12T00:00:00.000000000",
          "2024-08-13T00:00:00.000000000",
          "2024-08-14T00:00:00.000000000",
          "2024-08-15T00:00:00.000000000",
          "2024-08-16T00:00:00.000000000",
          "2024-08-19T00:00:00.000000000",
          "2024-08-20T00:00:00.000000000",
          "2024-08-21T00:00:00.000000000",
          "2024-08-22T00:00:00.000000000",
          "2024-08-23T00:00:00.000000000",
          "2024-08-26T00:00:00.000000000",
          "2024-08-27T00:00:00.000000000",
          "2024-08-28T00:00:00.000000000",
          "2024-08-29T00:00:00.000000000",
          "2024-08-30T00:00:00.000000000",
          "2024-09-03T00:00:00.000000000",
          "2024-09-04T00:00:00.000000000",
          "2024-09-05T00:00:00.000000000",
          "2024-09-06T00:00:00.000000000",
          "2024-09-09T00:00:00.000000000",
          "2024-09-10T00:00:00.000000000",
          "2024-09-11T00:00:00.000000000",
          "2024-09-12T00:00:00.000000000",
          "2024-09-13T00:00:00.000000000",
          "2024-09-16T00:00:00.000000000",
          "2024-09-17T00:00:00.000000000",
          "2024-09-18T00:00:00.000000000",
          "2024-09-19T00:00:00.000000000",
          "2024-09-20T00:00:00.000000000",
          "2024-09-23T00:00:00.000000000",
          "2024-09-24T00:00:00.000000000",
          "2024-09-25T00:00:00.000000000",
          "2024-09-26T00:00:00.000000000",
          "2024-09-27T00:00:00.000000000",
          "2024-09-30T00:00:00.000000000",
          "2024-10-01T00:00:00.000000000",
          "2024-10-02T00:00:00.000000000",
          "2024-10-03T00:00:00.000000000",
          "2024-10-04T00:00:00.000000000",
          "2024-10-07T00:00:00.000000000",
          "2024-10-08T00:00:00.000000000",
          "2024-10-09T00:00:00.000000000",
          "2024-10-10T00:00:00.000000000",
          "2024-10-11T00:00:00.000000000",
          "2024-10-14T00:00:00.000000000",
          "2024-10-15T00:00:00.000000000",
          "2024-10-16T00:00:00.000000000",
          "2024-10-17T00:00:00.000000000",
          "2024-10-18T00:00:00.000000000",
          "2024-10-21T00:00:00.000000000",
          "2024-10-22T00:00:00.000000000",
          "2024-10-23T00:00:00.000000000",
          "2024-10-24T00:00:00.000000000",
          "2024-10-25T00:00:00.000000000",
          "2024-10-28T00:00:00.000000000",
          "2024-10-29T00:00:00.000000000",
          "2024-10-30T00:00:00.000000000",
          "2024-10-31T00:00:00.000000000",
          "2024-11-01T00:00:00.000000000",
          "2024-11-04T00:00:00.000000000",
          "2024-11-05T00:00:00.000000000",
          "2024-11-06T00:00:00.000000000",
          "2024-11-07T00:00:00.000000000",
          "2024-11-08T00:00:00.000000000",
          "2024-11-11T00:00:00.000000000",
          "2024-11-12T00:00:00.000000000",
          "2024-11-13T00:00:00.000000000",
          "2024-11-14T00:00:00.000000000",
          "2024-11-15T00:00:00.000000000",
          "2024-11-18T00:00:00.000000000",
          "2024-11-19T00:00:00.000000000",
          "2024-11-20T00:00:00.000000000",
          "2024-11-21T00:00:00.000000000",
          "2024-11-22T00:00:00.000000000",
          "2024-11-25T00:00:00.000000000",
          "2024-11-26T00:00:00.000000000",
          "2024-11-27T00:00:00.000000000",
          "2024-11-29T00:00:00.000000000",
          "2024-12-02T00:00:00.000000000",
          "2024-12-03T00:00:00.000000000",
          "2024-12-04T00:00:00.000000000",
          "2024-12-05T00:00:00.000000000",
          "2024-12-06T00:00:00.000000000",
          "2024-12-09T00:00:00.000000000",
          "2024-12-10T00:00:00.000000000",
          "2024-12-11T00:00:00.000000000",
          "2024-12-12T00:00:00.000000000",
          "2024-12-13T00:00:00.000000000",
          "2024-12-16T00:00:00.000000000",
          "2024-12-17T00:00:00.000000000",
          "2024-12-18T00:00:00.000000000",
          "2024-12-19T00:00:00.000000000",
          "2024-12-20T00:00:00.000000000",
          "2024-12-23T00:00:00.000000000",
          "2024-12-24T00:00:00.000000000",
          "2024-12-26T00:00:00.000000000",
          "2024-12-27T00:00:00.000000000",
          "2024-12-30T00:00:00.000000000",
          "2024-12-31T00:00:00.000000000",
          "2025-01-02T00:00:00.000000000",
          "2025-01-03T00:00:00.000000000",
          "2025-01-06T00:00:00.000000000",
          "2025-01-07T00:00:00.000000000",
          "2025-01-08T00:00:00.000000000",
          "2025-01-10T00:00:00.000000000",
          "2025-01-13T00:00:00.000000000",
          "2025-01-14T00:00:00.000000000",
          "2025-01-15T00:00:00.000000000",
          "2025-01-16T00:00:00.000000000",
          "2025-01-17T00:00:00.000000000",
          "2025-01-21T00:00:00.000000000",
          "2025-01-22T00:00:00.000000000",
          "2025-01-23T00:00:00.000000000",
          "2025-01-24T00:00:00.000000000",
          "2025-01-27T00:00:00.000000000",
          "2025-01-28T00:00:00.000000000",
          "2025-01-29T00:00:00.000000000"
         ]
        }
       ],
       "layout": {
        "template": {
         "data": {
          "bar": [
           {
            "error_x": {
             "color": "#f2f5fa"
            },
            "error_y": {
             "color": "#f2f5fa"
            },
            "marker": {
             "line": {
              "color": "rgb(17,17,17)",
              "width": 0.5
             },
             "pattern": {
              "fillmode": "overlay",
              "size": 10,
              "solidity": 0.2
             }
            },
            "type": "bar"
           }
          ],
          "barpolar": [
           {
            "marker": {
             "line": {
              "color": "rgb(17,17,17)",
              "width": 0.5
             },
             "pattern": {
              "fillmode": "overlay",
              "size": 10,
              "solidity": 0.2
             }
            },
            "type": "barpolar"
           }
          ],
          "carpet": [
           {
            "aaxis": {
             "endlinecolor": "#A2B1C6",
             "gridcolor": "#506784",
             "linecolor": "#506784",
             "minorgridcolor": "#506784",
             "startlinecolor": "#A2B1C6"
            },
            "baxis": {
             "endlinecolor": "#A2B1C6",
             "gridcolor": "#506784",
             "linecolor": "#506784",
             "minorgridcolor": "#506784",
             "startlinecolor": "#A2B1C6"
            },
            "type": "carpet"
           }
          ],
          "choropleth": [
           {
            "colorbar": {
             "outlinewidth": 0,
             "ticks": ""
            },
            "type": "choropleth"
           }
          ],
          "contour": [
           {
            "colorbar": {
             "outlinewidth": 0,
             "ticks": ""
            },
            "colorscale": [
             [
              0,
              "#0d0887"
             ],
             [
              0.1111111111111111,
              "#46039f"
             ],
             [
              0.2222222222222222,
              "#7201a8"
             ],
             [
              0.3333333333333333,
              "#9c179e"
             ],
             [
              0.4444444444444444,
              "#bd3786"
             ],
             [
              0.5555555555555556,
              "#d8576b"
             ],
             [
              0.6666666666666666,
              "#ed7953"
             ],
             [
              0.7777777777777778,
              "#fb9f3a"
             ],
             [
              0.8888888888888888,
              "#fdca26"
             ],
             [
              1,
              "#f0f921"
             ]
            ],
            "type": "contour"
           }
          ],
          "contourcarpet": [
           {
            "colorbar": {
             "outlinewidth": 0,
             "ticks": ""
            },
            "type": "contourcarpet"
           }
          ],
          "heatmap": [
           {
            "colorbar": {
             "outlinewidth": 0,
             "ticks": ""
            },
            "colorscale": [
             [
              0,
              "#0d0887"
             ],
             [
              0.1111111111111111,
              "#46039f"
             ],
             [
              0.2222222222222222,
              "#7201a8"
             ],
             [
              0.3333333333333333,
              "#9c179e"
             ],
             [
              0.4444444444444444,
              "#bd3786"
             ],
             [
              0.5555555555555556,
              "#d8576b"
             ],
             [
              0.6666666666666666,
              "#ed7953"
             ],
             [
              0.7777777777777778,
              "#fb9f3a"
             ],
             [
              0.8888888888888888,
              "#fdca26"
             ],
             [
              1,
              "#f0f921"
             ]
            ],
            "type": "heatmap"
           }
          ],
          "histogram": [
           {
            "marker": {
             "pattern": {
              "fillmode": "overlay",
              "size": 10,
              "solidity": 0.2
             }
            },
            "type": "histogram"
           }
          ],
          "histogram2d": [
           {
            "colorbar": {
             "outlinewidth": 0,
             "ticks": ""
            },
            "colorscale": [
             [
              0,
              "#0d0887"
             ],
             [
              0.1111111111111111,
              "#46039f"
             ],
             [
              0.2222222222222222,
              "#7201a8"
             ],
             [
              0.3333333333333333,
              "#9c179e"
             ],
             [
              0.4444444444444444,
              "#bd3786"
             ],
             [
              0.5555555555555556,
              "#d8576b"
             ],
             [
              0.6666666666666666,
              "#ed7953"
             ],
             [
              0.7777777777777778,
              "#fb9f3a"
             ],
             [
              0.8888888888888888,
              "#fdca26"
             ],
             [
              1,
              "#f0f921"
             ]
            ],
            "type": "histogram2d"
           }
          ],
          "histogram2dcontour": [
           {
            "colorbar": {
             "outlinewidth": 0,
             "ticks": ""
            },
            "colorscale": [
             [
              0,
              "#0d0887"
             ],
             [
              0.1111111111111111,
              "#46039f"
             ],
             [
              0.2222222222222222,
              "#7201a8"
             ],
             [
              0.3333333333333333,
              "#9c179e"
             ],
             [
              0.4444444444444444,
              "#bd3786"
             ],
             [
              0.5555555555555556,
              "#d8576b"
             ],
             [
              0.6666666666666666,
              "#ed7953"
             ],
             [
              0.7777777777777778,
              "#fb9f3a"
             ],
             [
              0.8888888888888888,
              "#fdca26"
             ],
             [
              1,
              "#f0f921"
             ]
            ],
            "type": "histogram2dcontour"
           }
          ],
          "mesh3d": [
           {
            "colorbar": {
             "outlinewidth": 0,
             "ticks": ""
            },
            "type": "mesh3d"
           }
          ],
          "parcoords": [
           {
            "line": {
             "colorbar": {
              "outlinewidth": 0,
              "ticks": ""
             }
            },
            "type": "parcoords"
           }
          ],
          "pie": [
           {
            "automargin": true,
            "type": "pie"
           }
          ],
          "scatter": [
           {
            "marker": {
             "line": {
              "color": "#283442"
             }
            },
            "type": "scatter"
           }
          ],
          "scatter3d": [
           {
            "line": {
             "colorbar": {
              "outlinewidth": 0,
              "ticks": ""
             }
            },
            "marker": {
             "colorbar": {
              "outlinewidth": 0,
              "ticks": ""
             }
            },
            "type": "scatter3d"
           }
          ],
          "scattercarpet": [
           {
            "marker": {
             "colorbar": {
              "outlinewidth": 0,
              "ticks": ""
             }
            },
            "type": "scattercarpet"
           }
          ],
          "scattergeo": [
           {
            "marker": {
             "colorbar": {
              "outlinewidth": 0,
              "ticks": ""
             }
            },
            "type": "scattergeo"
           }
          ],
          "scattergl": [
           {
            "marker": {
             "line": {
              "color": "#283442"
             }
            },
            "type": "scattergl"
           }
          ],
          "scattermap": [
           {
            "marker": {
             "colorbar": {
              "outlinewidth": 0,
              "ticks": ""
             }
            },
            "type": "scattermap"
           }
          ],
          "scattermapbox": [
           {
            "marker": {
             "colorbar": {
              "outlinewidth": 0,
              "ticks": ""
             }
            },
            "type": "scattermapbox"
           }
          ],
          "scatterpolar": [
           {
            "marker": {
             "colorbar": {
              "outlinewidth": 0,
              "ticks": ""
             }
            },
            "type": "scatterpolar"
           }
          ],
          "scatterpolargl": [
           {
            "marker": {
             "colorbar": {
              "outlinewidth": 0,
              "ticks": ""
             }
            },
            "type": "scatterpolargl"
           }
          ],
          "scatterternary": [
           {
            "marker": {
             "colorbar": {
              "outlinewidth": 0,
              "ticks": ""
             }
            },
            "type": "scatterternary"
           }
          ],
          "surface": [
           {
            "colorbar": {
             "outlinewidth": 0,
             "ticks": ""
            },
            "colorscale": [
             [
              0,
              "#0d0887"
             ],
             [
              0.1111111111111111,
              "#46039f"
             ],
             [
              0.2222222222222222,
              "#7201a8"
             ],
             [
              0.3333333333333333,
              "#9c179e"
             ],
             [
              0.4444444444444444,
              "#bd3786"
             ],
             [
              0.5555555555555556,
              "#d8576b"
             ],
             [
              0.6666666666666666,
              "#ed7953"
             ],
             [
              0.7777777777777778,
              "#fb9f3a"
             ],
             [
              0.8888888888888888,
              "#fdca26"
             ],
             [
              1,
              "#f0f921"
             ]
            ],
            "type": "surface"
           }
          ],
          "table": [
           {
            "cells": {
             "fill": {
              "color": "#506784"
             },
             "line": {
              "color": "rgb(17,17,17)"
             }
            },
            "header": {
             "fill": {
              "color": "#2a3f5f"
             },
             "line": {
              "color": "rgb(17,17,17)"
             }
            },
            "type": "table"
           }
          ]
         },
         "layout": {
          "annotationdefaults": {
           "arrowcolor": "#f2f5fa",
           "arrowhead": 0,
           "arrowwidth": 1
          },
          "autotypenumbers": "strict",
          "coloraxis": {
           "colorbar": {
            "outlinewidth": 0,
            "ticks": ""
           }
          },
          "colorscale": {
           "diverging": [
            [
             0,
             "#8e0152"
            ],
            [
             0.1,
             "#c51b7d"
            ],
            [
             0.2,
             "#de77ae"
            ],
            [
             0.3,
             "#f1b6da"
            ],
            [
             0.4,
             "#fde0ef"
            ],
            [
             0.5,
             "#f7f7f7"
            ],
            [
             0.6,
             "#e6f5d0"
            ],
            [
             0.7,
             "#b8e186"
            ],
            [
             0.8,
             "#7fbc41"
            ],
            [
             0.9,
             "#4d9221"
            ],
            [
             1,
             "#276419"
            ]
           ],
           "sequential": [
            [
             0,
             "#0d0887"
            ],
            [
             0.1111111111111111,
             "#46039f"
            ],
            [
             0.2222222222222222,
             "#7201a8"
            ],
            [
             0.3333333333333333,
             "#9c179e"
            ],
            [
             0.4444444444444444,
             "#bd3786"
            ],
            [
             0.5555555555555556,
             "#d8576b"
            ],
            [
             0.6666666666666666,
             "#ed7953"
            ],
            [
             0.7777777777777778,
             "#fb9f3a"
            ],
            [
             0.8888888888888888,
             "#fdca26"
            ],
            [
             1,
             "#f0f921"
            ]
           ],
           "sequentialminus": [
            [
             0,
             "#0d0887"
            ],
            [
             0.1111111111111111,
             "#46039f"
            ],
            [
             0.2222222222222222,
             "#7201a8"
            ],
            [
             0.3333333333333333,
             "#9c179e"
            ],
            [
             0.4444444444444444,
             "#bd3786"
            ],
            [
             0.5555555555555556,
             "#d8576b"
            ],
            [
             0.6666666666666666,
             "#ed7953"
            ],
            [
             0.7777777777777778,
             "#fb9f3a"
            ],
            [
             0.8888888888888888,
             "#fdca26"
            ],
            [
             1,
             "#f0f921"
            ]
           ]
          },
          "colorway": [
           "#636efa",
           "#EF553B",
           "#00cc96",
           "#ab63fa",
           "#FFA15A",
           "#19d3f3",
           "#FF6692",
           "#B6E880",
           "#FF97FF",
           "#FECB52"
          ],
          "font": {
           "color": "#f2f5fa"
          },
          "geo": {
           "bgcolor": "rgb(17,17,17)",
           "lakecolor": "rgb(17,17,17)",
           "landcolor": "rgb(17,17,17)",
           "showlakes": true,
           "showland": true,
           "subunitcolor": "#506784"
          },
          "hoverlabel": {
           "align": "left"
          },
          "hovermode": "closest",
          "mapbox": {
           "style": "dark"
          },
          "paper_bgcolor": "rgb(17,17,17)",
          "plot_bgcolor": "rgb(17,17,17)",
          "polar": {
           "angularaxis": {
            "gridcolor": "#506784",
            "linecolor": "#506784",
            "ticks": ""
           },
           "bgcolor": "rgb(17,17,17)",
           "radialaxis": {
            "gridcolor": "#506784",
            "linecolor": "#506784",
            "ticks": ""
           }
          },
          "scene": {
           "xaxis": {
            "backgroundcolor": "rgb(17,17,17)",
            "gridcolor": "#506784",
            "gridwidth": 2,
            "linecolor": "#506784",
            "showbackground": true,
            "ticks": "",
            "zerolinecolor": "#C8D4E3"
           },
           "yaxis": {
            "backgroundcolor": "rgb(17,17,17)",
            "gridcolor": "#506784",
            "gridwidth": 2,
            "linecolor": "#506784",
            "showbackground": true,
            "ticks": "",
            "zerolinecolor": "#C8D4E3"
           },
           "zaxis": {
            "backgroundcolor": "rgb(17,17,17)",
            "gridcolor": "#506784",
            "gridwidth": 2,
            "linecolor": "#506784",
            "showbackground": true,
            "ticks": "",
            "zerolinecolor": "#C8D4E3"
           }
          },
          "shapedefaults": {
           "line": {
            "color": "#f2f5fa"
           }
          },
          "sliderdefaults": {
           "bgcolor": "#C8D4E3",
           "bordercolor": "rgb(17,17,17)",
           "borderwidth": 1,
           "tickwidth": 0
          },
          "ternary": {
           "aaxis": {
            "gridcolor": "#506784",
            "linecolor": "#506784",
            "ticks": ""
           },
           "baxis": {
            "gridcolor": "#506784",
            "linecolor": "#506784",
            "ticks": ""
           },
           "bgcolor": "rgb(17,17,17)",
           "caxis": {
            "gridcolor": "#506784",
            "linecolor": "#506784",
            "ticks": ""
           }
          },
          "title": {
           "x": 0.05
          },
          "updatemenudefaults": {
           "bgcolor": "#506784",
           "borderwidth": 0
          },
          "xaxis": {
           "automargin": true,
           "gridcolor": "#283442",
           "linecolor": "#506784",
           "ticks": "",
           "title": {
            "standoff": 15
           },
           "zerolinecolor": "#283442",
           "zerolinewidth": 2
          },
          "yaxis": {
           "automargin": true,
           "gridcolor": "#283442",
           "linecolor": "#506784",
           "ticks": "",
           "title": {
            "standoff": 15
           },
           "zerolinecolor": "#283442",
           "zerolinewidth": 2
          }
         }
        },
        "title": {
         "text": "VVIX Candlestick Chart"
        },
        "xaxis": {
         "rangeslider": {
          "visible": false
         },
         "title": {
          "text": "Date"
         }
        },
        "yaxis": {
         "title": {
          "text": "Price"
         }
        }
       }
      }
     },
     "metadata": {},
     "output_type": "display_data"
    },
    {
     "data": {
      "application/vnd.plotly.v1+json": {
       "config": {
        "plotlyServerURL": "https://plot.ly"
       },
       "data": [
        {
         "close": {
          "bdata": "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",
          "dtype": "f8"
         },
         "decreasing": {
          "line": {
           "color": "red"
          }
         },
         "high": {
          "bdata": "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",
          "dtype": "f8"
         },
         "increasing": {
          "line": {
           "color": "green"
          }
         },
         "low": {
          "bdata": "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",
          "dtype": "f8"
         },
         "open": {
          "bdata": "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",
          "dtype": "f8"
         },
         "type": "candlestick",
         "x": [
          "2024-01-02T00:00:00.000000000",
          "2024-01-03T00:00:00.000000000",
          "2024-01-04T00:00:00.000000000",
          "2024-01-05T00:00:00.000000000",
          "2024-01-08T00:00:00.000000000",
          "2024-01-09T00:00:00.000000000",
          "2024-01-10T00:00:00.000000000",
          "2024-01-11T00:00:00.000000000",
          "2024-01-12T00:00:00.000000000",
          "2024-01-16T00:00:00.000000000",
          "2024-01-17T00:00:00.000000000",
          "2024-01-18T00:00:00.000000000",
          "2024-01-19T00:00:00.000000000",
          "2024-01-22T00:00:00.000000000",
          "2024-01-23T00:00:00.000000000",
          "2024-01-24T00:00:00.000000000",
          "2024-01-25T00:00:00.000000000",
          "2024-01-26T00:00:00.000000000",
          "2024-01-29T00:00:00.000000000",
          "2024-01-30T00:00:00.000000000",
          "2024-01-31T00:00:00.000000000",
          "2024-02-01T00:00:00.000000000",
          "2024-02-02T00:00:00.000000000",
          "2024-02-05T00:00:00.000000000",
          "2024-02-06T00:00:00.000000000",
          "2024-02-07T00:00:00.000000000",
          "2024-02-08T00:00:00.000000000",
          "2024-02-09T00:00:00.000000000",
          "2024-02-12T00:00:00.000000000",
          "2024-02-13T00:00:00.000000000",
          "2024-02-14T00:00:00.000000000",
          "2024-02-15T00:00:00.000000000",
          "2024-02-16T00:00:00.000000000",
          "2024-02-20T00:00:00.000000000",
          "2024-02-21T00:00:00.000000000",
          "2024-02-22T00:00:00.000000000",
          "2024-02-23T00:00:00.000000000",
          "2024-02-26T00:00:00.000000000",
          "2024-02-27T00:00:00.000000000",
          "2024-02-28T00:00:00.000000000",
          "2024-02-29T00:00:00.000000000",
          "2024-03-01T00:00:00.000000000",
          "2024-03-04T00:00:00.000000000",
          "2024-03-05T00:00:00.000000000",
          "2024-03-06T00:00:00.000000000",
          "2024-03-07T00:00:00.000000000",
          "2024-03-08T00:00:00.000000000",
          "2024-03-11T00:00:00.000000000",
          "2024-03-12T00:00:00.000000000",
          "2024-03-13T00:00:00.000000000",
          "2024-03-14T00:00:00.000000000",
          "2024-03-15T00:00:00.000000000",
          "2024-03-18T00:00:00.000000000",
          "2024-03-19T00:00:00.000000000",
          "2024-03-20T00:00:00.000000000",
          "2024-03-21T00:00:00.000000000",
          "2024-03-22T00:00:00.000000000",
          "2024-03-25T00:00:00.000000000",
          "2024-03-26T00:00:00.000000000",
          "2024-03-27T00:00:00.000000000",
          "2024-03-28T00:00:00.000000000",
          "2024-04-01T00:00:00.000000000",
          "2024-04-02T00:00:00.000000000",
          "2024-04-03T00:00:00.000000000",
          "2024-04-04T00:00:00.000000000",
          "2024-04-05T00:00:00.000000000",
          "2024-04-08T00:00:00.000000000",
          "2024-04-09T00:00:00.000000000",
          "2024-04-10T00:00:00.000000000",
          "2024-04-11T00:00:00.000000000",
          "2024-04-12T00:00:00.000000000",
          "2024-04-15T00:00:00.000000000",
          "2024-04-16T00:00:00.000000000",
          "2024-04-17T00:00:00.000000000",
          "2024-04-18T00:00:00.000000000",
          "2024-04-19T00:00:00.000000000",
          "2024-04-22T00:00:00.000000000",
          "2024-04-23T00:00:00.000000000",
          "2024-04-24T00:00:00.000000000",
          "2024-04-25T00:00:00.000000000",
          "2024-04-26T00:00:00.000000000",
          "2024-04-29T00:00:00.000000000",
          "2024-04-30T00:00:00.000000000",
          "2024-05-01T00:00:00.000000000",
          "2024-05-02T00:00:00.000000000",
          "2024-05-03T00:00:00.000000000",
          "2024-05-06T00:00:00.000000000",
          "2024-05-07T00:00:00.000000000",
          "2024-05-08T00:00:00.000000000",
          "2024-05-09T00:00:00.000000000",
          "2024-05-10T00:00:00.000000000",
          "2024-05-13T00:00:00.000000000",
          "2024-05-14T00:00:00.000000000",
          "2024-05-15T00:00:00.000000000",
          "2024-05-16T00:00:00.000000000",
          "2024-05-17T00:00:00.000000000",
          "2024-05-20T00:00:00.000000000",
          "2024-05-21T00:00:00.000000000",
          "2024-05-22T00:00:00.000000000",
          "2024-05-23T00:00:00.000000000",
          "2024-05-24T00:00:00.000000000",
          "2024-05-28T00:00:00.000000000",
          "2024-05-29T00:00:00.000000000",
          "2024-05-30T00:00:00.000000000",
          "2024-05-31T00:00:00.000000000",
          "2024-06-03T00:00:00.000000000",
          "2024-06-04T00:00:00.000000000",
          "2024-06-05T00:00:00.000000000",
          "2024-06-06T00:00:00.000000000",
          "2024-06-07T00:00:00.000000000",
          "2024-06-10T00:00:00.000000000",
          "2024-06-11T00:00:00.000000000",
          "2024-06-12T00:00:00.000000000",
          "2024-06-13T00:00:00.000000000",
          "2024-06-14T00:00:00.000000000",
          "2024-06-17T00:00:00.000000000",
          "2024-06-18T00:00:00.000000000",
          "2024-06-20T00:00:00.000000000",
          "2024-06-21T00:00:00.000000000",
          "2024-06-24T00:00:00.000000000",
          "2024-06-25T00:00:00.000000000",
          "2024-06-26T00:00:00.000000000",
          "2024-06-27T00:00:00.000000000",
          "2024-06-28T00:00:00.000000000",
          "2024-07-01T00:00:00.000000000",
          "2024-07-02T00:00:00.000000000",
          "2024-07-03T00:00:00.000000000",
          "2024-07-05T00:00:00.000000000",
          "2024-07-08T00:00:00.000000000",
          "2024-07-09T00:00:00.000000000",
          "2024-07-10T00:00:00.000000000",
          "2024-07-11T00:00:00.000000000",
          "2024-07-12T00:00:00.000000000",
          "2024-07-15T00:00:00.000000000",
          "2024-07-16T00:00:00.000000000",
          "2024-07-17T00:00:00.000000000",
          "2024-07-18T00:00:00.000000000",
          "2024-07-19T00:00:00.000000000",
          "2024-07-22T00:00:00.000000000",
          "2024-07-23T00:00:00.000000000",
          "2024-07-24T00:00:00.000000000",
          "2024-07-25T00:00:00.000000000",
          "2024-07-26T00:00:00.000000000",
          "2024-07-29T00:00:00.000000000",
          "2024-07-30T00:00:00.000000000",
          "2024-07-31T00:00:00.000000000",
          "2024-08-01T00:00:00.000000000",
          "2024-08-02T00:00:00.000000000",
          "2024-08-05T00:00:00.000000000",
          "2024-08-06T00:00:00.000000000",
          "2024-08-07T00:00:00.000000000",
          "2024-08-08T00:00:00.000000000",
          "2024-08-09T00:00:00.000000000",
          "2024-08-12T00:00:00.000000000",
          "2024-08-13T00:00:00.000000000",
          "2024-08-14T00:00:00.000000000",
          "2024-08-15T00:00:00.000000000",
          "2024-08-16T00:00:00.000000000",
          "2024-08-19T00:00:00.000000000",
          "2024-08-20T00:00:00.000000000",
          "2024-08-21T00:00:00.000000000",
          "2024-08-22T00:00:00.000000000",
          "2024-08-23T00:00:00.000000000",
          "2024-08-26T00:00:00.000000000",
          "2024-08-27T00:00:00.000000000",
          "2024-08-28T00:00:00.000000000",
          "2024-08-29T00:00:00.000000000",
          "2024-08-30T00:00:00.000000000",
          "2024-09-03T00:00:00.000000000",
          "2024-09-04T00:00:00.000000000",
          "2024-09-05T00:00:00.000000000",
          "2024-09-06T00:00:00.000000000",
          "2024-09-09T00:00:00.000000000",
          "2024-09-10T00:00:00.000000000",
          "2024-09-11T00:00:00.000000000",
          "2024-09-12T00:00:00.000000000",
          "2024-09-13T00:00:00.000000000",
          "2024-09-16T00:00:00.000000000",
          "2024-09-17T00:00:00.000000000",
          "2024-09-18T00:00:00.000000000",
          "2024-09-19T00:00:00.000000000",
          "2024-09-20T00:00:00.000000000",
          "2024-09-23T00:00:00.000000000",
          "2024-09-24T00:00:00.000000000",
          "2024-09-25T00:00:00.000000000",
          "2024-09-26T00:00:00.000000000",
          "2024-09-27T00:00:00.000000000",
          "2024-09-30T00:00:00.000000000",
          "2024-10-01T00:00:00.000000000",
          "2024-10-02T00:00:00.000000000",
          "2024-10-03T00:00:00.000000000",
          "2024-10-04T00:00:00.000000000",
          "2024-10-07T00:00:00.000000000",
          "2024-10-08T00:00:00.000000000",
          "2024-10-09T00:00:00.000000000",
          "2024-10-10T00:00:00.000000000",
          "2024-10-11T00:00:00.000000000",
          "2024-10-14T00:00:00.000000000",
          "2024-10-15T00:00:00.000000000",
          "2024-10-16T00:00:00.000000000",
          "2024-10-17T00:00:00.000000000",
          "2024-10-18T00:00:00.000000000",
          "2024-10-21T00:00:00.000000000",
          "2024-10-22T00:00:00.000000000",
          "2024-10-23T00:00:00.000000000",
          "2024-10-24T00:00:00.000000000",
          "2024-10-25T00:00:00.000000000",
          "2024-10-28T00:00:00.000000000",
          "2024-10-29T00:00:00.000000000",
          "2024-10-30T00:00:00.000000000",
          "2024-10-31T00:00:00.000000000",
          "2024-11-01T00:00:00.000000000",
          "2024-11-04T00:00:00.000000000",
          "2024-11-05T00:00:00.000000000",
          "2024-11-06T00:00:00.000000000",
          "2024-11-07T00:00:00.000000000",
          "2024-11-08T00:00:00.000000000",
          "2024-11-11T00:00:00.000000000",
          "2024-11-12T00:00:00.000000000",
          "2024-11-13T00:00:00.000000000",
          "2024-11-14T00:00:00.000000000",
          "2024-11-15T00:00:00.000000000",
          "2024-11-18T00:00:00.000000000",
          "2024-11-19T00:00:00.000000000",
          "2024-11-20T00:00:00.000000000",
          "2024-11-21T00:00:00.000000000",
          "2024-11-22T00:00:00.000000000",
          "2024-11-25T00:00:00.000000000",
          "2024-11-26T00:00:00.000000000",
          "2024-11-27T00:00:00.000000000",
          "2024-11-29T00:00:00.000000000",
          "2024-12-02T00:00:00.000000000",
          "2024-12-03T00:00:00.000000000",
          "2024-12-04T00:00:00.000000000",
          "2024-12-05T00:00:00.000000000",
          "2024-12-06T00:00:00.000000000",
          "2024-12-09T00:00:00.000000000",
          "2024-12-10T00:00:00.000000000",
          "2024-12-11T00:00:00.000000000",
          "2024-12-12T00:00:00.000000000",
          "2024-12-13T00:00:00.000000000",
          "2024-12-16T00:00:00.000000000",
          "2024-12-17T00:00:00.000000000",
          "2024-12-18T00:00:00.000000000",
          "2024-12-19T00:00:00.000000000",
          "2024-12-20T00:00:00.000000000",
          "2024-12-23T00:00:00.000000000",
          "2024-12-24T00:00:00.000000000",
          "2024-12-26T00:00:00.000000000",
          "2024-12-27T00:00:00.000000000",
          "2024-12-30T00:00:00.000000000",
          "2024-12-31T00:00:00.000000000",
          "2025-01-02T00:00:00.000000000",
          "2025-01-03T00:00:00.000000000",
          "2025-01-06T00:00:00.000000000",
          "2025-01-07T00:00:00.000000000",
          "2025-01-08T00:00:00.000000000",
          "2025-01-10T00:00:00.000000000",
          "2025-01-13T00:00:00.000000000",
          "2025-01-14T00:00:00.000000000",
          "2025-01-15T00:00:00.000000000",
          "2025-01-16T00:00:00.000000000",
          "2025-01-17T00:00:00.000000000",
          "2025-01-21T00:00:00.000000000",
          "2025-01-22T00:00:00.000000000",
          "2025-01-23T00:00:00.000000000",
          "2025-01-24T00:00:00.000000000",
          "2025-01-27T00:00:00.000000000",
          "2025-01-28T00:00:00.000000000",
          "2025-01-29T00:00:00.000000000"
         ]
        }
       ],
       "layout": {
        "template": {
         "data": {
          "bar": [
           {
            "error_x": {
             "color": "#f2f5fa"
            },
            "error_y": {
             "color": "#f2f5fa"
            },
            "marker": {
             "line": {
              "color": "rgb(17,17,17)",
              "width": 0.5
             },
             "pattern": {
              "fillmode": "overlay",
              "size": 10,
              "solidity": 0.2
             }
            },
            "type": "bar"
           }
          ],
          "barpolar": [
           {
            "marker": {
             "line": {
              "color": "rgb(17,17,17)",
              "width": 0.5
             },
             "pattern": {
              "fillmode": "overlay",
              "size": 10,
              "solidity": 0.2
             }
            },
            "type": "barpolar"
           }
          ],
          "carpet": [
           {
            "aaxis": {
             "endlinecolor": "#A2B1C6",
             "gridcolor": "#506784",
             "linecolor": "#506784",
             "minorgridcolor": "#506784",
             "startlinecolor": "#A2B1C6"
            },
            "baxis": {
             "endlinecolor": "#A2B1C6",
             "gridcolor": "#506784",
             "linecolor": "#506784",
             "minorgridcolor": "#506784",
             "startlinecolor": "#A2B1C6"
            },
            "type": "carpet"
           }
          ],
          "choropleth": [
           {
            "colorbar": {
             "outlinewidth": 0,
             "ticks": ""
            },
            "type": "choropleth"
           }
          ],
          "contour": [
           {
            "colorbar": {
             "outlinewidth": 0,
             "ticks": ""
            },
            "colorscale": [
             [
              0,
              "#0d0887"
             ],
             [
              0.1111111111111111,
              "#46039f"
             ],
             [
              0.2222222222222222,
              "#7201a8"
             ],
             [
              0.3333333333333333,
              "#9c179e"
             ],
             [
              0.4444444444444444,
              "#bd3786"
             ],
             [
              0.5555555555555556,
              "#d8576b"
             ],
             [
              0.6666666666666666,
              "#ed7953"
             ],
             [
              0.7777777777777778,
              "#fb9f3a"
             ],
             [
              0.8888888888888888,
              "#fdca26"
             ],
             [
              1,
              "#f0f921"
             ]
            ],
            "type": "contour"
           }
          ],
          "contourcarpet": [
           {
            "colorbar": {
             "outlinewidth": 0,
             "ticks": ""
            },
            "type": "contourcarpet"
           }
          ],
          "heatmap": [
           {
            "colorbar": {
             "outlinewidth": 0,
             "ticks": ""
            },
            "colorscale": [
             [
              0,
              "#0d0887"
             ],
             [
              0.1111111111111111,
              "#46039f"
             ],
             [
              0.2222222222222222,
              "#7201a8"
             ],
             [
              0.3333333333333333,
              "#9c179e"
             ],
             [
              0.4444444444444444,
              "#bd3786"
             ],
             [
              0.5555555555555556,
              "#d8576b"
             ],
             [
              0.6666666666666666,
              "#ed7953"
             ],
             [
              0.7777777777777778,
              "#fb9f3a"
             ],
             [
              0.8888888888888888,
              "#fdca26"
             ],
             [
              1,
              "#f0f921"
             ]
            ],
            "type": "heatmap"
           }
          ],
          "histogram": [
           {
            "marker": {
             "pattern": {
              "fillmode": "overlay",
              "size": 10,
              "solidity": 0.2
             }
            },
            "type": "histogram"
           }
          ],
          "histogram2d": [
           {
            "colorbar": {
             "outlinewidth": 0,
             "ticks": ""
            },
            "colorscale": [
             [
              0,
              "#0d0887"
             ],
             [
              0.1111111111111111,
              "#46039f"
             ],
             [
              0.2222222222222222,
              "#7201a8"
             ],
             [
              0.3333333333333333,
              "#9c179e"
             ],
             [
              0.4444444444444444,
              "#bd3786"
             ],
             [
              0.5555555555555556,
              "#d8576b"
             ],
             [
              0.6666666666666666,
              "#ed7953"
             ],
             [
              0.7777777777777778,
              "#fb9f3a"
             ],
             [
              0.8888888888888888,
              "#fdca26"
             ],
             [
              1,
              "#f0f921"
             ]
            ],
            "type": "histogram2d"
           }
          ],
          "histogram2dcontour": [
           {
            "colorbar": {
             "outlinewidth": 0,
             "ticks": ""
            },
            "colorscale": [
             [
              0,
              "#0d0887"
             ],
             [
              0.1111111111111111,
              "#46039f"
             ],
             [
              0.2222222222222222,
              "#7201a8"
             ],
             [
              0.3333333333333333,
              "#9c179e"
             ],
             [
              0.4444444444444444,
              "#bd3786"
             ],
             [
              0.5555555555555556,
              "#d8576b"
             ],
             [
              0.6666666666666666,
              "#ed7953"
             ],
             [
              0.7777777777777778,
              "#fb9f3a"
             ],
             [
              0.8888888888888888,
              "#fdca26"
             ],
             [
              1,
              "#f0f921"
             ]
            ],
            "type": "histogram2dcontour"
           }
          ],
          "mesh3d": [
           {
            "colorbar": {
             "outlinewidth": 0,
             "ticks": ""
            },
            "type": "mesh3d"
           }
          ],
          "parcoords": [
           {
            "line": {
             "colorbar": {
              "outlinewidth": 0,
              "ticks": ""
             }
            },
            "type": "parcoords"
           }
          ],
          "pie": [
           {
            "automargin": true,
            "type": "pie"
           }
          ],
          "scatter": [
           {
            "marker": {
             "line": {
              "color": "#283442"
             }
            },
            "type": "scatter"
           }
          ],
          "scatter3d": [
           {
            "line": {
             "colorbar": {
              "outlinewidth": 0,
              "ticks": ""
             }
            },
            "marker": {
             "colorbar": {
              "outlinewidth": 0,
              "ticks": ""
             }
            },
            "type": "scatter3d"
           }
          ],
          "scattercarpet": [
           {
            "marker": {
             "colorbar": {
              "outlinewidth": 0,
              "ticks": ""
             }
            },
            "type": "scattercarpet"
           }
          ],
          "scattergeo": [
           {
            "marker": {
             "colorbar": {
              "outlinewidth": 0,
              "ticks": ""
             }
            },
            "type": "scattergeo"
           }
          ],
          "scattergl": [
           {
            "marker": {
             "line": {
              "color": "#283442"
             }
            },
            "type": "scattergl"
           }
          ],
          "scattermap": [
           {
            "marker": {
             "colorbar": {
              "outlinewidth": 0,
              "ticks": ""
             }
            },
            "type": "scattermap"
           }
          ],
          "scattermapbox": [
           {
            "marker": {
             "colorbar": {
              "outlinewidth": 0,
              "ticks": ""
             }
            },
            "type": "scattermapbox"
           }
          ],
          "scatterpolar": [
           {
            "marker": {
             "colorbar": {
              "outlinewidth": 0,
              "ticks": ""
             }
            },
            "type": "scatterpolar"
           }
          ],
          "scatterpolargl": [
           {
            "marker": {
             "colorbar": {
              "outlinewidth": 0,
              "ticks": ""
             }
            },
            "type": "scatterpolargl"
           }
          ],
          "scatterternary": [
           {
            "marker": {
             "colorbar": {
              "outlinewidth": 0,
              "ticks": ""
             }
            },
            "type": "scatterternary"
           }
          ],
          "surface": [
           {
            "colorbar": {
             "outlinewidth": 0,
             "ticks": ""
            },
            "colorscale": [
             [
              0,
              "#0d0887"
             ],
             [
              0.1111111111111111,
              "#46039f"
             ],
             [
              0.2222222222222222,
              "#7201a8"
             ],
             [
              0.3333333333333333,
              "#9c179e"
             ],
             [
              0.4444444444444444,
              "#bd3786"
             ],
             [
              0.5555555555555556,
              "#d8576b"
             ],
             [
              0.6666666666666666,
              "#ed7953"
             ],
             [
              0.7777777777777778,
              "#fb9f3a"
             ],
             [
              0.8888888888888888,
              "#fdca26"
             ],
             [
              1,
              "#f0f921"
             ]
            ],
            "type": "surface"
           }
          ],
          "table": [
           {
            "cells": {
             "fill": {
              "color": "#506784"
             },
             "line": {
              "color": "rgb(17,17,17)"
             }
            },
            "header": {
             "fill": {
              "color": "#2a3f5f"
             },
             "line": {
              "color": "rgb(17,17,17)"
             }
            },
            "type": "table"
           }
          ]
         },
         "layout": {
          "annotationdefaults": {
           "arrowcolor": "#f2f5fa",
           "arrowhead": 0,
           "arrowwidth": 1
          },
          "autotypenumbers": "strict",
          "coloraxis": {
           "colorbar": {
            "outlinewidth": 0,
            "ticks": ""
           }
          },
          "colorscale": {
           "diverging": [
            [
             0,
             "#8e0152"
            ],
            [
             0.1,
             "#c51b7d"
            ],
            [
             0.2,
             "#de77ae"
            ],
            [
             0.3,
             "#f1b6da"
            ],
            [
             0.4,
             "#fde0ef"
            ],
            [
             0.5,
             "#f7f7f7"
            ],
            [
             0.6,
             "#e6f5d0"
            ],
            [
             0.7,
             "#b8e186"
            ],
            [
             0.8,
             "#7fbc41"
            ],
            [
             0.9,
             "#4d9221"
            ],
            [
             1,
             "#276419"
            ]
           ],
           "sequential": [
            [
             0,
             "#0d0887"
            ],
            [
             0.1111111111111111,
             "#46039f"
            ],
            [
             0.2222222222222222,
             "#7201a8"
            ],
            [
             0.3333333333333333,
             "#9c179e"
            ],
            [
             0.4444444444444444,
             "#bd3786"
            ],
            [
             0.5555555555555556,
             "#d8576b"
            ],
            [
             0.6666666666666666,
             "#ed7953"
            ],
            [
             0.7777777777777778,
             "#fb9f3a"
            ],
            [
             0.8888888888888888,
             "#fdca26"
            ],
            [
             1,
             "#f0f921"
            ]
           ],
           "sequentialminus": [
            [
             0,
             "#0d0887"
            ],
            [
             0.1111111111111111,
             "#46039f"
            ],
            [
             0.2222222222222222,
             "#7201a8"
            ],
            [
             0.3333333333333333,
             "#9c179e"
            ],
            [
             0.4444444444444444,
             "#bd3786"
            ],
            [
             0.5555555555555556,
             "#d8576b"
            ],
            [
             0.6666666666666666,
             "#ed7953"
            ],
            [
             0.7777777777777778,
             "#fb9f3a"
            ],
            [
             0.8888888888888888,
             "#fdca26"
            ],
            [
             1,
             "#f0f921"
            ]
           ]
          },
          "colorway": [
           "#636efa",
           "#EF553B",
           "#00cc96",
           "#ab63fa",
           "#FFA15A",
           "#19d3f3",
           "#FF6692",
           "#B6E880",
           "#FF97FF",
           "#FECB52"
          ],
          "font": {
           "color": "#f2f5fa"
          },
          "geo": {
           "bgcolor": "rgb(17,17,17)",
           "lakecolor": "rgb(17,17,17)",
           "landcolor": "rgb(17,17,17)",
           "showlakes": true,
           "showland": true,
           "subunitcolor": "#506784"
          },
          "hoverlabel": {
           "align": "left"
          },
          "hovermode": "closest",
          "mapbox": {
           "style": "dark"
          },
          "paper_bgcolor": "rgb(17,17,17)",
          "plot_bgcolor": "rgb(17,17,17)",
          "polar": {
           "angularaxis": {
            "gridcolor": "#506784",
            "linecolor": "#506784",
            "ticks": ""
           },
           "bgcolor": "rgb(17,17,17)",
           "radialaxis": {
            "gridcolor": "#506784",
            "linecolor": "#506784",
            "ticks": ""
           }
          },
          "scene": {
           "xaxis": {
            "backgroundcolor": "rgb(17,17,17)",
            "gridcolor": "#506784",
            "gridwidth": 2,
            "linecolor": "#506784",
            "showbackground": true,
            "ticks": "",
            "zerolinecolor": "#C8D4E3"
           },
           "yaxis": {
            "backgroundcolor": "rgb(17,17,17)",
            "gridcolor": "#506784",
            "gridwidth": 2,
            "linecolor": "#506784",
            "showbackground": true,
            "ticks": "",
            "zerolinecolor": "#C8D4E3"
           },
           "zaxis": {
            "backgroundcolor": "rgb(17,17,17)",
            "gridcolor": "#506784",
            "gridwidth": 2,
            "linecolor": "#506784",
            "showbackground": true,
            "ticks": "",
            "zerolinecolor": "#C8D4E3"
           }
          },
          "shapedefaults": {
           "line": {
            "color": "#f2f5fa"
           }
          },
          "sliderdefaults": {
           "bgcolor": "#C8D4E3",
           "bordercolor": "rgb(17,17,17)",
           "borderwidth": 1,
           "tickwidth": 0
          },
          "ternary": {
           "aaxis": {
            "gridcolor": "#506784",
            "linecolor": "#506784",
            "ticks": ""
           },
           "baxis": {
            "gridcolor": "#506784",
            "linecolor": "#506784",
            "ticks": ""
           },
           "bgcolor": "rgb(17,17,17)",
           "caxis": {
            "gridcolor": "#506784",
            "linecolor": "#506784",
            "ticks": ""
           }
          },
          "title": {
           "x": 0.05
          },
          "updatemenudefaults": {
           "bgcolor": "#506784",
           "borderwidth": 0
          },
          "xaxis": {
           "automargin": true,
           "gridcolor": "#283442",
           "linecolor": "#506784",
           "ticks": "",
           "title": {
            "standoff": 15
           },
           "zerolinecolor": "#283442",
           "zerolinewidth": 2
          },
          "yaxis": {
           "automargin": true,
           "gridcolor": "#283442",
           "linecolor": "#506784",
           "ticks": "",
           "title": {
            "standoff": 15
           },
           "zerolinecolor": "#283442",
           "zerolinewidth": 2
          }
         }
        },
        "title": {
         "text": "QQQ Candlestick Chart"
        },
        "xaxis": {
         "rangeslider": {
          "visible": false
         },
         "title": {
          "text": "Date"
         }
        },
        "yaxis": {
         "title": {
          "text": "Price"
         }
        }
       }
      }
     },
     "metadata": {},
     "output_type": "display_data"
    }
   ],
   "source": [
    "# Function to create candlestick chart\n",
    "def create_candlestick_chart(df, title):\n",
    "    df.index = pd.to_datetime(df.index)  # Ensure index is datetime\n",
    "    fig = go.Figure(data=[\n",
    "        go.Candlestick(\n",
    "            x=df.index, \n",
    "            open=df['Open'], \n",
    "            high=df['High'], \n",
    "            low=df['Low'], \n",
    "            close=df['Close'], \n",
    "            increasing_line_color='green', \n",
    "            decreasing_line_color='red'\n",
    "        )\n",
    "    ])\n",
    "    \n",
    "    # Customize Layout\n",
    "    fig.update_layout(\n",
    "        title=title,\n",
    "        xaxis_title=\"Date\",\n",
    "        yaxis_title=\"Price\",\n",
    "        xaxis_rangeslider_visible=False,  # Hide range slider\n",
    "        template=\"plotly_dark\",  # Dark theme for visualization\n",
    "    )\n",
    "    \n",
    "    fig.show()  # Show the chart\n",
    "\n",
    "# Create charts for each asset\n",
    "create_candlestick_chart(VIX, \"VIX Candlestick Chart\")\n",
    "create_candlestick_chart(VVIX, \"VVIX Candlestick Chart\")\n",
    "create_candlestick_chart(QQQ, \"QQQ Candlestick Chart\")\n"
   ]
  },
  {
   "cell_type": "code",
   "execution_count": 153,
   "metadata": {},
   "outputs": [
    {
     "data": {
      "text/html": [
       "<div>\n",
       "<style scoped>\n",
       "    .dataframe tbody tr th:only-of-type {\n",
       "        vertical-align: middle;\n",
       "    }\n",
       "\n",
       "    .dataframe tbody tr th {\n",
       "        vertical-align: top;\n",
       "    }\n",
       "\n",
       "    .dataframe thead th {\n",
       "        text-align: right;\n",
       "    }\n",
       "</style>\n",
       "<table border=\"1\" class=\"dataframe\">\n",
       "  <thead>\n",
       "    <tr style=\"text-align: right;\">\n",
       "      <th></th>\n",
       "      <th>YMAX</th>\n",
       "      <th>YMAG</th>\n",
       "      <th>VIX</th>\n",
       "      <th>VVIX</th>\n",
       "      <th>QQQ</th>\n",
       "    </tr>\n",
       "    <tr>\n",
       "      <th>Date</th>\n",
       "      <th></th>\n",
       "      <th></th>\n",
       "      <th></th>\n",
       "      <th></th>\n",
       "      <th></th>\n",
       "    </tr>\n",
       "  </thead>\n",
       "  <tbody>\n",
       "    <tr>\n",
       "      <th>2024-01-31</th>\n",
       "      <td>20.20</td>\n",
       "      <td>19.49</td>\n",
       "      <td>14.35</td>\n",
       "      <td>87.559998</td>\n",
       "      <td>414.506744</td>\n",
       "    </tr>\n",
       "    <tr>\n",
       "      <th>2024-02-01</th>\n",
       "      <td>20.39</td>\n",
       "      <td>19.75</td>\n",
       "      <td>13.88</td>\n",
       "      <td>84.830002</td>\n",
       "      <td>419.387695</td>\n",
       "    </tr>\n",
       "    <tr>\n",
       "      <th>2024-02-02</th>\n",
       "      <td>20.70</td>\n",
       "      <td>20.30</td>\n",
       "      <td>13.85</td>\n",
       "      <td>83.309998</td>\n",
       "      <td>426.475616</td>\n",
       "    </tr>\n",
       "    <tr>\n",
       "      <th>2024-02-05</th>\n",
       "      <td>20.44</td>\n",
       "      <td>20.19</td>\n",
       "      <td>13.67</td>\n",
       "      <td>79.580002</td>\n",
       "      <td>425.918945</td>\n",
       "    </tr>\n",
       "    <tr>\n",
       "      <th>2024-02-06</th>\n",
       "      <td>20.61</td>\n",
       "      <td>20.20</td>\n",
       "      <td>13.06</td>\n",
       "      <td>76.970001</td>\n",
       "      <td>425.063995</td>\n",
       "    </tr>\n",
       "    <tr>\n",
       "      <th>...</th>\n",
       "      <td>...</td>\n",
       "      <td>...</td>\n",
       "      <td>...</td>\n",
       "      <td>...</td>\n",
       "      <td>...</td>\n",
       "    </tr>\n",
       "    <tr>\n",
       "      <th>2025-01-22</th>\n",
       "      <td>17.03</td>\n",
       "      <td>19.06</td>\n",
       "      <td>15.10</td>\n",
       "      <td>100.559998</td>\n",
       "      <td>531.510010</td>\n",
       "    </tr>\n",
       "    <tr>\n",
       "      <th>2025-01-23</th>\n",
       "      <td>16.96</td>\n",
       "      <td>18.94</td>\n",
       "      <td>15.02</td>\n",
       "      <td>99.519997</td>\n",
       "      <td>532.640015</td>\n",
       "    </tr>\n",
       "    <tr>\n",
       "      <th>2025-01-24</th>\n",
       "      <td>16.89</td>\n",
       "      <td>18.93</td>\n",
       "      <td>14.85</td>\n",
       "      <td>100.410004</td>\n",
       "      <td>529.630005</td>\n",
       "    </tr>\n",
       "    <tr>\n",
       "      <th>2025-01-27</th>\n",
       "      <td>16.40</td>\n",
       "      <td>18.39</td>\n",
       "      <td>17.90</td>\n",
       "      <td>110.309998</td>\n",
       "      <td>514.210022</td>\n",
       "    </tr>\n",
       "    <tr>\n",
       "      <th>2025-01-28</th>\n",
       "      <td>16.72</td>\n",
       "      <td>18.81</td>\n",
       "      <td>16.41</td>\n",
       "      <td>103.739998</td>\n",
       "      <td>521.809998</td>\n",
       "    </tr>\n",
       "  </tbody>\n",
       "</table>\n",
       "<p>249 rows × 5 columns</p>\n",
       "</div>"
      ],
      "text/plain": [
       "             YMAX   YMAG    VIX        VVIX         QQQ\n",
       "Date                                                   \n",
       "2024-01-31  20.20  19.49  14.35   87.559998  414.506744\n",
       "2024-02-01  20.39  19.75  13.88   84.830002  419.387695\n",
       "2024-02-02  20.70  20.30  13.85   83.309998  426.475616\n",
       "2024-02-05  20.44  20.19  13.67   79.580002  425.918945\n",
       "2024-02-06  20.61  20.20  13.06   76.970001  425.063995\n",
       "...           ...    ...    ...         ...         ...\n",
       "2025-01-22  17.03  19.06  15.10  100.559998  531.510010\n",
       "2025-01-23  16.96  18.94  15.02   99.519997  532.640015\n",
       "2025-01-24  16.89  18.93  14.85  100.410004  529.630005\n",
       "2025-01-27  16.40  18.39  17.90  110.309998  514.210022\n",
       "2025-01-28  16.72  18.81  16.41  103.739998  521.809998\n",
       "\n",
       "[249 rows x 5 columns]"
      ]
     },
     "execution_count": 153,
     "metadata": {},
     "output_type": "execute_result"
    }
   ],
   "source": [
    "# Rename \"Close\" column and drop other columns\n",
    "VIX = VIX[['Close']].rename(columns={'Close': 'VIX'})\n",
    "VVIX = VVIX[['Close']].rename(columns={'Close': 'VVIX'})\n",
    "QQQ = QQQ[['Close']].rename(columns={'Close': 'QQQ'})\n",
    "\n",
    "# Merge VIX, VVIX, and QQQ DataFrames on the Date index\n",
    "merged_vix_vvix_qqq_df = VIX \\\n",
    "    .merge(VVIX, left_index=True, right_index=True, how='outer') \\\n",
    "    .merge(QQQ, left_index=True, right_index=True, how='outer')\n",
    "\n",
    "# Merge the VIX, VVIX, and QQQ DataFrames with the YMAX_YMAG_merged DataFrame\n",
    "merged_df = YMAX_YMAG_merged.merge(\n",
    "    merged_vix_vvix_qqq_df, left_index=True, right_index=True, how='outer'\n",
    ")\n",
    "\n",
    "#Drop the NaN values\n",
    "merged_df = merged_df.dropna()\n",
    "merged_df"
   ]
  },
  {
   "cell_type": "code",
   "execution_count": 161,
   "metadata": {},
   "outputs": [],
   "source": [
    "# Exporting the prices to a csv\n",
    "merged_df.to_csv('All assets Prices.csv', index=False)"
   ]
  },
  {
   "cell_type": "code",
   "execution_count": 160,
   "metadata": {},
   "outputs": [
    {
     "data": {
      "application/vnd.plotly.v1+json": {
       "config": {
        "plotlyServerURL": "https://plot.ly"
       },
       "data": [
        {
         "line": {
          "color": "blue"
         },
         "mode": "lines",
         "name": "YMAX",
         "type": "scatter",
         "x": [
          "2024-01-31T00:00:00.000000000",
          "2024-02-01T00:00:00.000000000",
          "2024-02-02T00:00:00.000000000",
          "2024-02-05T00:00:00.000000000",
          "2024-02-06T00:00:00.000000000",
          "2024-02-07T00:00:00.000000000",
          "2024-02-08T00:00:00.000000000",
          "2024-02-09T00:00:00.000000000",
          "2024-02-12T00:00:00.000000000",
          "2024-02-13T00:00:00.000000000",
          "2024-02-14T00:00:00.000000000",
          "2024-02-15T00:00:00.000000000",
          "2024-02-16T00:00:00.000000000",
          "2024-02-20T00:00:00.000000000",
          "2024-02-21T00:00:00.000000000",
          "2024-02-22T00:00:00.000000000",
          "2024-02-23T00:00:00.000000000",
          "2024-02-26T00:00:00.000000000",
          "2024-02-27T00:00:00.000000000",
          "2024-02-28T00:00:00.000000000",
          "2024-02-29T00:00:00.000000000",
          "2024-03-01T00:00:00.000000000",
          "2024-03-04T00:00:00.000000000",
          "2024-03-05T00:00:00.000000000",
          "2024-03-06T00:00:00.000000000",
          "2024-03-07T00:00:00.000000000",
          "2024-03-08T00:00:00.000000000",
          "2024-03-11T00:00:00.000000000",
          "2024-03-12T00:00:00.000000000",
          "2024-03-13T00:00:00.000000000",
          "2024-03-14T00:00:00.000000000",
          "2024-03-15T00:00:00.000000000",
          "2024-03-18T00:00:00.000000000",
          "2024-03-19T00:00:00.000000000",
          "2024-03-20T00:00:00.000000000",
          "2024-03-21T00:00:00.000000000",
          "2024-03-22T00:00:00.000000000",
          "2024-03-25T00:00:00.000000000",
          "2024-03-26T00:00:00.000000000",
          "2024-03-27T00:00:00.000000000",
          "2024-03-28T00:00:00.000000000",
          "2024-04-01T00:00:00.000000000",
          "2024-04-02T00:00:00.000000000",
          "2024-04-03T00:00:00.000000000",
          "2024-04-04T00:00:00.000000000",
          "2024-04-05T00:00:00.000000000",
          "2024-04-08T00:00:00.000000000",
          "2024-04-09T00:00:00.000000000",
          "2024-04-10T00:00:00.000000000",
          "2024-04-11T00:00:00.000000000",
          "2024-04-12T00:00:00.000000000",
          "2024-04-15T00:00:00.000000000",
          "2024-04-16T00:00:00.000000000",
          "2024-04-17T00:00:00.000000000",
          "2024-04-18T00:00:00.000000000",
          "2024-04-19T00:00:00.000000000",
          "2024-04-22T00:00:00.000000000",
          "2024-04-23T00:00:00.000000000",
          "2024-04-24T00:00:00.000000000",
          "2024-04-25T00:00:00.000000000",
          "2024-04-26T00:00:00.000000000",
          "2024-04-29T00:00:00.000000000",
          "2024-04-30T00:00:00.000000000",
          "2024-05-01T00:00:00.000000000",
          "2024-05-02T00:00:00.000000000",
          "2024-05-03T00:00:00.000000000",
          "2024-05-06T00:00:00.000000000",
          "2024-05-07T00:00:00.000000000",
          "2024-05-08T00:00:00.000000000",
          "2024-05-09T00:00:00.000000000",
          "2024-05-10T00:00:00.000000000",
          "2024-05-13T00:00:00.000000000",
          "2024-05-14T00:00:00.000000000",
          "2024-05-15T00:00:00.000000000",
          "2024-05-16T00:00:00.000000000",
          "2024-05-17T00:00:00.000000000",
          "2024-05-20T00:00:00.000000000",
          "2024-05-21T00:00:00.000000000",
          "2024-05-22T00:00:00.000000000",
          "2024-05-23T00:00:00.000000000",
          "2024-05-24T00:00:00.000000000",
          "2024-05-28T00:00:00.000000000",
          "2024-05-29T00:00:00.000000000",
          "2024-05-30T00:00:00.000000000",
          "2024-05-31T00:00:00.000000000",
          "2024-06-03T00:00:00.000000000",
          "2024-06-04T00:00:00.000000000",
          "2024-06-05T00:00:00.000000000",
          "2024-06-06T00:00:00.000000000",
          "2024-06-07T00:00:00.000000000",
          "2024-06-10T00:00:00.000000000",
          "2024-06-11T00:00:00.000000000",
          "2024-06-12T00:00:00.000000000",
          "2024-06-13T00:00:00.000000000",
          "2024-06-14T00:00:00.000000000",
          "2024-06-17T00:00:00.000000000",
          "2024-06-18T00:00:00.000000000",
          "2024-06-20T00:00:00.000000000",
          "2024-06-21T00:00:00.000000000",
          "2024-06-24T00:00:00.000000000",
          "2024-06-25T00:00:00.000000000",
          "2024-06-26T00:00:00.000000000",
          "2024-06-27T00:00:00.000000000",
          "2024-06-28T00:00:00.000000000",
          "2024-07-01T00:00:00.000000000",
          "2024-07-02T00:00:00.000000000",
          "2024-07-03T00:00:00.000000000",
          "2024-07-05T00:00:00.000000000",
          "2024-07-08T00:00:00.000000000",
          "2024-07-09T00:00:00.000000000",
          "2024-07-10T00:00:00.000000000",
          "2024-07-11T00:00:00.000000000",
          "2024-07-12T00:00:00.000000000",
          "2024-07-15T00:00:00.000000000",
          "2024-07-16T00:00:00.000000000",
          "2024-07-17T00:00:00.000000000",
          "2024-07-18T00:00:00.000000000",
          "2024-07-19T00:00:00.000000000",
          "2024-07-22T00:00:00.000000000",
          "2024-07-23T00:00:00.000000000",
          "2024-07-24T00:00:00.000000000",
          "2024-07-25T00:00:00.000000000",
          "2024-07-26T00:00:00.000000000",
          "2024-07-29T00:00:00.000000000",
          "2024-07-30T00:00:00.000000000",
          "2024-07-31T00:00:00.000000000",
          "2024-08-01T00:00:00.000000000",
          "2024-08-02T00:00:00.000000000",
          "2024-08-05T00:00:00.000000000",
          "2024-08-06T00:00:00.000000000",
          "2024-08-07T00:00:00.000000000",
          "2024-08-08T00:00:00.000000000",
          "2024-08-09T00:00:00.000000000",
          "2024-08-12T00:00:00.000000000",
          "2024-08-13T00:00:00.000000000",
          "2024-08-14T00:00:00.000000000",
          "2024-08-15T00:00:00.000000000",
          "2024-08-16T00:00:00.000000000",
          "2024-08-19T00:00:00.000000000",
          "2024-08-20T00:00:00.000000000",
          "2024-08-21T00:00:00.000000000",
          "2024-08-22T00:00:00.000000000",
          "2024-08-23T00:00:00.000000000",
          "2024-08-26T00:00:00.000000000",
          "2024-08-27T00:00:00.000000000",
          "2024-08-28T00:00:00.000000000",
          "2024-08-29T00:00:00.000000000",
          "2024-08-30T00:00:00.000000000",
          "2024-09-03T00:00:00.000000000",
          "2024-09-04T00:00:00.000000000",
          "2024-09-05T00:00:00.000000000",
          "2024-09-06T00:00:00.000000000",
          "2024-09-09T00:00:00.000000000",
          "2024-09-10T00:00:00.000000000",
          "2024-09-11T00:00:00.000000000",
          "2024-09-12T00:00:00.000000000",
          "2024-09-13T00:00:00.000000000",
          "2024-09-16T00:00:00.000000000",
          "2024-09-17T00:00:00.000000000",
          "2024-09-18T00:00:00.000000000",
          "2024-09-19T00:00:00.000000000",
          "2024-09-20T00:00:00.000000000",
          "2024-09-23T00:00:00.000000000",
          "2024-09-24T00:00:00.000000000",
          "2024-09-25T00:00:00.000000000",
          "2024-09-26T00:00:00.000000000",
          "2024-09-27T00:00:00.000000000",
          "2024-09-30T00:00:00.000000000",
          "2024-10-01T00:00:00.000000000",
          "2024-10-02T00:00:00.000000000",
          "2024-10-03T00:00:00.000000000",
          "2024-10-04T00:00:00.000000000",
          "2024-10-07T00:00:00.000000000",
          "2024-10-08T00:00:00.000000000",
          "2024-10-09T00:00:00.000000000",
          "2024-10-10T00:00:00.000000000",
          "2024-10-11T00:00:00.000000000",
          "2024-10-14T00:00:00.000000000",
          "2024-10-15T00:00:00.000000000",
          "2024-10-16T00:00:00.000000000",
          "2024-10-17T00:00:00.000000000",
          "2024-10-18T00:00:00.000000000",
          "2024-10-21T00:00:00.000000000",
          "2024-10-22T00:00:00.000000000",
          "2024-10-23T00:00:00.000000000",
          "2024-10-24T00:00:00.000000000",
          "2024-10-25T00:00:00.000000000",
          "2024-10-28T00:00:00.000000000",
          "2024-10-29T00:00:00.000000000",
          "2024-10-30T00:00:00.000000000",
          "2024-10-31T00:00:00.000000000",
          "2024-11-01T00:00:00.000000000",
          "2024-11-04T00:00:00.000000000",
          "2024-11-05T00:00:00.000000000",
          "2024-11-06T00:00:00.000000000",
          "2024-11-07T00:00:00.000000000",
          "2024-11-08T00:00:00.000000000",
          "2024-11-11T00:00:00.000000000",
          "2024-11-12T00:00:00.000000000",
          "2024-11-13T00:00:00.000000000",
          "2024-11-14T00:00:00.000000000",
          "2024-11-15T00:00:00.000000000",
          "2024-11-18T00:00:00.000000000",
          "2024-11-19T00:00:00.000000000",
          "2024-11-20T00:00:00.000000000",
          "2024-11-21T00:00:00.000000000",
          "2024-11-22T00:00:00.000000000",
          "2024-11-25T00:00:00.000000000",
          "2024-11-26T00:00:00.000000000",
          "2024-11-27T00:00:00.000000000",
          "2024-11-29T00:00:00.000000000",
          "2024-12-02T00:00:00.000000000",
          "2024-12-03T00:00:00.000000000",
          "2024-12-04T00:00:00.000000000",
          "2024-12-05T00:00:00.000000000",
          "2024-12-06T00:00:00.000000000",
          "2024-12-09T00:00:00.000000000",
          "2024-12-10T00:00:00.000000000",
          "2024-12-11T00:00:00.000000000",
          "2024-12-12T00:00:00.000000000",
          "2024-12-13T00:00:00.000000000",
          "2024-12-16T00:00:00.000000000",
          "2024-12-17T00:00:00.000000000",
          "2024-12-18T00:00:00.000000000",
          "2024-12-19T00:00:00.000000000",
          "2024-12-20T00:00:00.000000000",
          "2024-12-23T00:00:00.000000000",
          "2024-12-24T00:00:00.000000000",
          "2024-12-26T00:00:00.000000000",
          "2024-12-27T00:00:00.000000000",
          "2024-12-30T00:00:00.000000000",
          "2024-12-31T00:00:00.000000000",
          "2025-01-02T00:00:00.000000000",
          "2025-01-03T00:00:00.000000000",
          "2025-01-06T00:00:00.000000000",
          "2025-01-07T00:00:00.000000000",
          "2025-01-08T00:00:00.000000000",
          "2025-01-10T00:00:00.000000000",
          "2025-01-13T00:00:00.000000000",
          "2025-01-14T00:00:00.000000000",
          "2025-01-15T00:00:00.000000000",
          "2025-01-16T00:00:00.000000000",
          "2025-01-17T00:00:00.000000000",
          "2025-01-21T00:00:00.000000000",
          "2025-01-22T00:00:00.000000000",
          "2025-01-23T00:00:00.000000000",
          "2025-01-24T00:00:00.000000000",
          "2025-01-27T00:00:00.000000000",
          "2025-01-28T00:00:00.000000000"
         ],
         "y": {
          "bdata": "MzMzMzMzNECkcD0K12M0QDMzMzMzszRAcT0K16NwNEBcj8L1KJw0QEjhehSuxzRAzczMzMzMNEBI4XoUrsc0QK5H4XoU7jRAUrgeheuRNEDD9ShcjwI1QHE9CtejsDRA16NwPQqXNEAzMzMzMzM0QFK4HoXrETRAAAAAAADANEApXI/C9eg0QHsUrkfh+jRArkfhehQuNUC4HoXrUTg1QM3MzMzMjDVA7FG4HoWrNUCamZmZmZk1QOxRuB6FKzVA4XoUrkdhNUBmZmZmZqY1QB+F61G4njVAmpmZmZmZNUAfhetRuN41QI/C9ShczzVAZmZmZmbmNEBxPQrXo/A0QClcj8L1KDVAXI/C9SgcNUCPwvUoXE81QHE9CtejcDVArkfhehRuNUBmZmZmZqY1QB+F61G4njVApHA9CtejNUCuR+F6FK41QJqZmZmZmTVAKVyPwvVoNUC4HoXrUXg1QOxRuB6FKzVA16NwPQpXNUA9CtejcH01QIXrUbgehTVArkfhehRuNUCuR+F6FK41QEjhehSuRzVAj8L1KFzPNEB7FK5H4bo0QOxRuB6F6zNAmpmZmZnZM0DhehSuR2EzQHE9CtejsDNAw/UoXI8CNECPwvUoXA80QPYoXI/C9TNAuB6F61E4NECPwvUoXE80QOxRuB6F6zNACtejcD3KM0D2KFyPwjU0QPYoXI/CdTRArkfhehSuNECF61G4HoU0QDMzMzMzczRAw/UoXI+CNEAK16NwPUo0QDMzMzMzczRA4XoUrkehNECPwvUoXA80QEjhehSuBzRA7FG4HoUrNEDXo3A9Clc0QB+F61G4XjRAuB6F61E4NEBxPQrXo/AzQMP1KFyPQjRAzczMzMxMNEBxPQrXozA0QDMzMzMzMzRAXI/C9SgcNED2KFyPwjU0QMP1KFyPQjRAMzMzMzNzNECF61G4HoU0QOxRuB6FazRAw/UoXI+CNEBxPQrXo3A0QB+F61G4njRA7FG4HoVrNEDXo3A9CpczQOxRuB6FqzNACtejcD2KM0AUrkfhepQzQFK4HoXrkTNApHA9CtdjM0ApXI/C9agzQFK4HoXrkTNAMzMzMzOzM0DD9Shcj4IzQBSuR+F6lDNArkfhehSuM0A9CtejcL0zQOF6FK5H4TNApHA9CtfjM0AfhetRuN4zQD0K16Nw/TNAH4XrUbjeM0C4HoXrUfgzQDMzMzMzMzRArkfhehQuNED2KFyPwjUzQDMzMzMz8zJAPQrXo3D9MkA9CtejcD0zQGZmZmZmJjNAPQrXo3B9MkAUrkfhelQyQBSuR+F6lDJAXI/C9SicMkDD9Shcj4IyQFK4HoXr0TJAMzMzMzMzMkAAAAAAAMAxQM3MzMzMDDFAKVyPwvVoMUCuR+F6FC4xQAAAAAAAwDFAXI/C9SjcMUDXo3A9CtcxQKRwPQrXIzJA4XoUrkchMkBmZmZmZqYxQFK4HoXr0TFArkfhehTuMUApXI/C9egxQM3MzMzMDDJAMzMzMzOzMUAfhetRuN4xQOxRuB6F6zFAmpmZmZnZMUBSuB6F65ExQJqZmZmZmTFAPQrXo3C9MUB7FK5H4ToxQAAAAAAAQDFA9ihcj8I1MUD2KFyPwrUwQEjhehSuBzFA7FG4HoUrMUCamZmZmVkxQHE9CtejcDFAw/UoXI+CMUAAAAAAAIAxQFyPwvUonDFAmpmZmZmZMUC4HoXrUbgxQKRwPQrXozFAw/UoXI/CMUApXI/C9egxQB+F61G43jFAj8L1KFzPMUCkcD0K1+MxQBSuR+F61DFAUrgeheuRMUDNzMzMzIwxQM3MzMzMTDFAmpmZmZmZMUCF61G4HoUxQNejcD0KlzFApHA9CtejMUCuR+F6FG4xQFyPwvUonDFAcT0K16OwMUA9CtejcH0xQNejcD0KlzFAFK5H4XpUMUBSuB6F65ExQB+F61G4njFASOF6FK6HMUBSuB6F61ExQFK4HoXrUTFAXI/C9ShcMUDNzMzMzIwxQGZmZmZmpjFAw/UoXI+CMUDsUbgeheswQHE9Ctej8DBAKVyPwvXoMEAfhetRuB4xQDMzMzMzszFA9ihcj8K1MUC4HoXrUbgxQB+F61G4HjJAmpmZmZkZMkBxPQrXo/AxQB+F61G4njFA16NwPQqXMUBcj8L1KNwxQLgehetRODJAcT0K16MwMkDhehSuRyEyQJqZmZmZWTJAMzMzMzNzMkA9CtejcD0yQJqZmZmZWTJAH4XrUbgeMkAfhetRuF4yQHE9CtejcDJAZmZmZmamMkBmZmZmZmYyQGZmZmZmpjJAAAAAAACAMkDD9Shcj0IyQPYoXI/CdTJAAAAAAABAMkCuR+F6FC4yQM3MzMzMTDJAw/UoXI9CMkAAAAAAAIAxQArXo3A9SjFASOF6FK6HMUAK16NwPYoxQJqZmZmZ2TFACtejcD3KMUDNzMzMzEwxQBSuR+F6FDFAMzMzMzPzMEAK16NwPQoxQAAAAAAAQDFAuB6F61F4MUBcj8L1KBwxQHsUrkfhujBAhetRuB6FMEAAAAAAAEAwQI/C9ShcTzBA7FG4HoWrMEDD9Shcj4IwQIXrUbgexTBA4XoUrkfhMEBI4XoUrgcxQPYoXI/C9TBApHA9CtfjMEBmZmZmZmYwQLgehetRuDBA",
          "dtype": "f8"
         }
        },
        {
         "line": {
          "color": "green"
         },
         "mode": "lines",
         "name": "YMAG",
         "type": "scatter",
         "x": [
          "2024-01-31T00:00:00.000000000",
          "2024-02-01T00:00:00.000000000",
          "2024-02-02T00:00:00.000000000",
          "2024-02-05T00:00:00.000000000",
          "2024-02-06T00:00:00.000000000",
          "2024-02-07T00:00:00.000000000",
          "2024-02-08T00:00:00.000000000",
          "2024-02-09T00:00:00.000000000",
          "2024-02-12T00:00:00.000000000",
          "2024-02-13T00:00:00.000000000",
          "2024-02-14T00:00:00.000000000",
          "2024-02-15T00:00:00.000000000",
          "2024-02-16T00:00:00.000000000",
          "2024-02-20T00:00:00.000000000",
          "2024-02-21T00:00:00.000000000",
          "2024-02-22T00:00:00.000000000",
          "2024-02-23T00:00:00.000000000",
          "2024-02-26T00:00:00.000000000",
          "2024-02-27T00:00:00.000000000",
          "2024-02-28T00:00:00.000000000",
          "2024-02-29T00:00:00.000000000",
          "2024-03-01T00:00:00.000000000",
          "2024-03-04T00:00:00.000000000",
          "2024-03-05T00:00:00.000000000",
          "2024-03-06T00:00:00.000000000",
          "2024-03-07T00:00:00.000000000",
          "2024-03-08T00:00:00.000000000",
          "2024-03-11T00:00:00.000000000",
          "2024-03-12T00:00:00.000000000",
          "2024-03-13T00:00:00.000000000",
          "2024-03-14T00:00:00.000000000",
          "2024-03-15T00:00:00.000000000",
          "2024-03-18T00:00:00.000000000",
          "2024-03-19T00:00:00.000000000",
          "2024-03-20T00:00:00.000000000",
          "2024-03-21T00:00:00.000000000",
          "2024-03-22T00:00:00.000000000",
          "2024-03-25T00:00:00.000000000",
          "2024-03-26T00:00:00.000000000",
          "2024-03-27T00:00:00.000000000",
          "2024-03-28T00:00:00.000000000",
          "2024-04-01T00:00:00.000000000",
          "2024-04-02T00:00:00.000000000",
          "2024-04-03T00:00:00.000000000",
          "2024-04-04T00:00:00.000000000",
          "2024-04-05T00:00:00.000000000",
          "2024-04-08T00:00:00.000000000",
          "2024-04-09T00:00:00.000000000",
          "2024-04-10T00:00:00.000000000",
          "2024-04-11T00:00:00.000000000",
          "2024-04-12T00:00:00.000000000",
          "2024-04-15T00:00:00.000000000",
          "2024-04-16T00:00:00.000000000",
          "2024-04-17T00:00:00.000000000",
          "2024-04-18T00:00:00.000000000",
          "2024-04-19T00:00:00.000000000",
          "2024-04-22T00:00:00.000000000",
          "2024-04-23T00:00:00.000000000",
          "2024-04-24T00:00:00.000000000",
          "2024-04-25T00:00:00.000000000",
          "2024-04-26T00:00:00.000000000",
          "2024-04-29T00:00:00.000000000",
          "2024-04-30T00:00:00.000000000",
          "2024-05-01T00:00:00.000000000",
          "2024-05-02T00:00:00.000000000",
          "2024-05-03T00:00:00.000000000",
          "2024-05-06T00:00:00.000000000",
          "2024-05-07T00:00:00.000000000",
          "2024-05-08T00:00:00.000000000",
          "2024-05-09T00:00:00.000000000",
          "2024-05-10T00:00:00.000000000",
          "2024-05-13T00:00:00.000000000",
          "2024-05-14T00:00:00.000000000",
          "2024-05-15T00:00:00.000000000",
          "2024-05-16T00:00:00.000000000",
          "2024-05-17T00:00:00.000000000",
          "2024-05-20T00:00:00.000000000",
          "2024-05-21T00:00:00.000000000",
          "2024-05-22T00:00:00.000000000",
          "2024-05-23T00:00:00.000000000",
          "2024-05-24T00:00:00.000000000",
          "2024-05-28T00:00:00.000000000",
          "2024-05-29T00:00:00.000000000",
          "2024-05-30T00:00:00.000000000",
          "2024-05-31T00:00:00.000000000",
          "2024-06-03T00:00:00.000000000",
          "2024-06-04T00:00:00.000000000",
          "2024-06-05T00:00:00.000000000",
          "2024-06-06T00:00:00.000000000",
          "2024-06-07T00:00:00.000000000",
          "2024-06-10T00:00:00.000000000",
          "2024-06-11T00:00:00.000000000",
          "2024-06-12T00:00:00.000000000",
          "2024-06-13T00:00:00.000000000",
          "2024-06-14T00:00:00.000000000",
          "2024-06-17T00:00:00.000000000",
          "2024-06-18T00:00:00.000000000",
          "2024-06-20T00:00:00.000000000",
          "2024-06-21T00:00:00.000000000",
          "2024-06-24T00:00:00.000000000",
          "2024-06-25T00:00:00.000000000",
          "2024-06-26T00:00:00.000000000",
          "2024-06-27T00:00:00.000000000",
          "2024-06-28T00:00:00.000000000",
          "2024-07-01T00:00:00.000000000",
          "2024-07-02T00:00:00.000000000",
          "2024-07-03T00:00:00.000000000",
          "2024-07-05T00:00:00.000000000",
          "2024-07-08T00:00:00.000000000",
          "2024-07-09T00:00:00.000000000",
          "2024-07-10T00:00:00.000000000",
          "2024-07-11T00:00:00.000000000",
          "2024-07-12T00:00:00.000000000",
          "2024-07-15T00:00:00.000000000",
          "2024-07-16T00:00:00.000000000",
          "2024-07-17T00:00:00.000000000",
          "2024-07-18T00:00:00.000000000",
          "2024-07-19T00:00:00.000000000",
          "2024-07-22T00:00:00.000000000",
          "2024-07-23T00:00:00.000000000",
          "2024-07-24T00:00:00.000000000",
          "2024-07-25T00:00:00.000000000",
          "2024-07-26T00:00:00.000000000",
          "2024-07-29T00:00:00.000000000",
          "2024-07-30T00:00:00.000000000",
          "2024-07-31T00:00:00.000000000",
          "2024-08-01T00:00:00.000000000",
          "2024-08-02T00:00:00.000000000",
          "2024-08-05T00:00:00.000000000",
          "2024-08-06T00:00:00.000000000",
          "2024-08-07T00:00:00.000000000",
          "2024-08-08T00:00:00.000000000",
          "2024-08-09T00:00:00.000000000",
          "2024-08-12T00:00:00.000000000",
          "2024-08-13T00:00:00.000000000",
          "2024-08-14T00:00:00.000000000",
          "2024-08-15T00:00:00.000000000",
          "2024-08-16T00:00:00.000000000",
          "2024-08-19T00:00:00.000000000",
          "2024-08-20T00:00:00.000000000",
          "2024-08-21T00:00:00.000000000",
          "2024-08-22T00:00:00.000000000",
          "2024-08-23T00:00:00.000000000",
          "2024-08-26T00:00:00.000000000",
          "2024-08-27T00:00:00.000000000",
          "2024-08-28T00:00:00.000000000",
          "2024-08-29T00:00:00.000000000",
          "2024-08-30T00:00:00.000000000",
          "2024-09-03T00:00:00.000000000",
          "2024-09-04T00:00:00.000000000",
          "2024-09-05T00:00:00.000000000",
          "2024-09-06T00:00:00.000000000",
          "2024-09-09T00:00:00.000000000",
          "2024-09-10T00:00:00.000000000",
          "2024-09-11T00:00:00.000000000",
          "2024-09-12T00:00:00.000000000",
          "2024-09-13T00:00:00.000000000",
          "2024-09-16T00:00:00.000000000",
          "2024-09-17T00:00:00.000000000",
          "2024-09-18T00:00:00.000000000",
          "2024-09-19T00:00:00.000000000",
          "2024-09-20T00:00:00.000000000",
          "2024-09-23T00:00:00.000000000",
          "2024-09-24T00:00:00.000000000",
          "2024-09-25T00:00:00.000000000",
          "2024-09-26T00:00:00.000000000",
          "2024-09-27T00:00:00.000000000",
          "2024-09-30T00:00:00.000000000",
          "2024-10-01T00:00:00.000000000",
          "2024-10-02T00:00:00.000000000",
          "2024-10-03T00:00:00.000000000",
          "2024-10-04T00:00:00.000000000",
          "2024-10-07T00:00:00.000000000",
          "2024-10-08T00:00:00.000000000",
          "2024-10-09T00:00:00.000000000",
          "2024-10-10T00:00:00.000000000",
          "2024-10-11T00:00:00.000000000",
          "2024-10-14T00:00:00.000000000",
          "2024-10-15T00:00:00.000000000",
          "2024-10-16T00:00:00.000000000",
          "2024-10-17T00:00:00.000000000",
          "2024-10-18T00:00:00.000000000",
          "2024-10-21T00:00:00.000000000",
          "2024-10-22T00:00:00.000000000",
          "2024-10-23T00:00:00.000000000",
          "2024-10-24T00:00:00.000000000",
          "2024-10-25T00:00:00.000000000",
          "2024-10-28T00:00:00.000000000",
          "2024-10-29T00:00:00.000000000",
          "2024-10-30T00:00:00.000000000",
          "2024-10-31T00:00:00.000000000",
          "2024-11-01T00:00:00.000000000",
          "2024-11-04T00:00:00.000000000",
          "2024-11-05T00:00:00.000000000",
          "2024-11-06T00:00:00.000000000",
          "2024-11-07T00:00:00.000000000",
          "2024-11-08T00:00:00.000000000",
          "2024-11-11T00:00:00.000000000",
          "2024-11-12T00:00:00.000000000",
          "2024-11-13T00:00:00.000000000",
          "2024-11-14T00:00:00.000000000",
          "2024-11-15T00:00:00.000000000",
          "2024-11-18T00:00:00.000000000",
          "2024-11-19T00:00:00.000000000",
          "2024-11-20T00:00:00.000000000",
          "2024-11-21T00:00:00.000000000",
          "2024-11-22T00:00:00.000000000",
          "2024-11-25T00:00:00.000000000",
          "2024-11-26T00:00:00.000000000",
          "2024-11-27T00:00:00.000000000",
          "2024-11-29T00:00:00.000000000",
          "2024-12-02T00:00:00.000000000",
          "2024-12-03T00:00:00.000000000",
          "2024-12-04T00:00:00.000000000",
          "2024-12-05T00:00:00.000000000",
          "2024-12-06T00:00:00.000000000",
          "2024-12-09T00:00:00.000000000",
          "2024-12-10T00:00:00.000000000",
          "2024-12-11T00:00:00.000000000",
          "2024-12-12T00:00:00.000000000",
          "2024-12-13T00:00:00.000000000",
          "2024-12-16T00:00:00.000000000",
          "2024-12-17T00:00:00.000000000",
          "2024-12-18T00:00:00.000000000",
          "2024-12-19T00:00:00.000000000",
          "2024-12-20T00:00:00.000000000",
          "2024-12-23T00:00:00.000000000",
          "2024-12-24T00:00:00.000000000",
          "2024-12-26T00:00:00.000000000",
          "2024-12-27T00:00:00.000000000",
          "2024-12-30T00:00:00.000000000",
          "2024-12-31T00:00:00.000000000",
          "2025-01-02T00:00:00.000000000",
          "2025-01-03T00:00:00.000000000",
          "2025-01-06T00:00:00.000000000",
          "2025-01-07T00:00:00.000000000",
          "2025-01-08T00:00:00.000000000",
          "2025-01-10T00:00:00.000000000",
          "2025-01-13T00:00:00.000000000",
          "2025-01-14T00:00:00.000000000",
          "2025-01-15T00:00:00.000000000",
          "2025-01-16T00:00:00.000000000",
          "2025-01-17T00:00:00.000000000",
          "2025-01-21T00:00:00.000000000",
          "2025-01-22T00:00:00.000000000",
          "2025-01-23T00:00:00.000000000",
          "2025-01-24T00:00:00.000000000",
          "2025-01-27T00:00:00.000000000",
          "2025-01-28T00:00:00.000000000"
         ],
         "y": {
          "bdata": "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",
          "dtype": "f8"
         }
        },
        {
         "line": {
          "color": "red"
         },
         "mode": "lines",
         "name": "VIX",
         "type": "scatter",
         "x": [
          "2024-01-31T00:00:00.000000000",
          "2024-02-01T00:00:00.000000000",
          "2024-02-02T00:00:00.000000000",
          "2024-02-05T00:00:00.000000000",
          "2024-02-06T00:00:00.000000000",
          "2024-02-07T00:00:00.000000000",
          "2024-02-08T00:00:00.000000000",
          "2024-02-09T00:00:00.000000000",
          "2024-02-12T00:00:00.000000000",
          "2024-02-13T00:00:00.000000000",
          "2024-02-14T00:00:00.000000000",
          "2024-02-15T00:00:00.000000000",
          "2024-02-16T00:00:00.000000000",
          "2024-02-20T00:00:00.000000000",
          "2024-02-21T00:00:00.000000000",
          "2024-02-22T00:00:00.000000000",
          "2024-02-23T00:00:00.000000000",
          "2024-02-26T00:00:00.000000000",
          "2024-02-27T00:00:00.000000000",
          "2024-02-28T00:00:00.000000000",
          "2024-02-29T00:00:00.000000000",
          "2024-03-01T00:00:00.000000000",
          "2024-03-04T00:00:00.000000000",
          "2024-03-05T00:00:00.000000000",
          "2024-03-06T00:00:00.000000000",
          "2024-03-07T00:00:00.000000000",
          "2024-03-08T00:00:00.000000000",
          "2024-03-11T00:00:00.000000000",
          "2024-03-12T00:00:00.000000000",
          "2024-03-13T00:00:00.000000000",
          "2024-03-14T00:00:00.000000000",
          "2024-03-15T00:00:00.000000000",
          "2024-03-18T00:00:00.000000000",
          "2024-03-19T00:00:00.000000000",
          "2024-03-20T00:00:00.000000000",
          "2024-03-21T00:00:00.000000000",
          "2024-03-22T00:00:00.000000000",
          "2024-03-25T00:00:00.000000000",
          "2024-03-26T00:00:00.000000000",
          "2024-03-27T00:00:00.000000000",
          "2024-03-28T00:00:00.000000000",
          "2024-04-01T00:00:00.000000000",
          "2024-04-02T00:00:00.000000000",
          "2024-04-03T00:00:00.000000000",
          "2024-04-04T00:00:00.000000000",
          "2024-04-05T00:00:00.000000000",
          "2024-04-08T00:00:00.000000000",
          "2024-04-09T00:00:00.000000000",
          "2024-04-10T00:00:00.000000000",
          "2024-04-11T00:00:00.000000000",
          "2024-04-12T00:00:00.000000000",
          "2024-04-15T00:00:00.000000000",
          "2024-04-16T00:00:00.000000000",
          "2024-04-17T00:00:00.000000000",
          "2024-04-18T00:00:00.000000000",
          "2024-04-19T00:00:00.000000000",
          "2024-04-22T00:00:00.000000000",
          "2024-04-23T00:00:00.000000000",
          "2024-04-24T00:00:00.000000000",
          "2024-04-25T00:00:00.000000000",
          "2024-04-26T00:00:00.000000000",
          "2024-04-29T00:00:00.000000000",
          "2024-04-30T00:00:00.000000000",
          "2024-05-01T00:00:00.000000000",
          "2024-05-02T00:00:00.000000000",
          "2024-05-03T00:00:00.000000000",
          "2024-05-06T00:00:00.000000000",
          "2024-05-07T00:00:00.000000000",
          "2024-05-08T00:00:00.000000000",
          "2024-05-09T00:00:00.000000000",
          "2024-05-10T00:00:00.000000000",
          "2024-05-13T00:00:00.000000000",
          "2024-05-14T00:00:00.000000000",
          "2024-05-15T00:00:00.000000000",
          "2024-05-16T00:00:00.000000000",
          "2024-05-17T00:00:00.000000000",
          "2024-05-20T00:00:00.000000000",
          "2024-05-21T00:00:00.000000000",
          "2024-05-22T00:00:00.000000000",
          "2024-05-23T00:00:00.000000000",
          "2024-05-24T00:00:00.000000000",
          "2024-05-28T00:00:00.000000000",
          "2024-05-29T00:00:00.000000000",
          "2024-05-30T00:00:00.000000000",
          "2024-05-31T00:00:00.000000000",
          "2024-06-03T00:00:00.000000000",
          "2024-06-04T00:00:00.000000000",
          "2024-06-05T00:00:00.000000000",
          "2024-06-06T00:00:00.000000000",
          "2024-06-07T00:00:00.000000000",
          "2024-06-10T00:00:00.000000000",
          "2024-06-11T00:00:00.000000000",
          "2024-06-12T00:00:00.000000000",
          "2024-06-13T00:00:00.000000000",
          "2024-06-14T00:00:00.000000000",
          "2024-06-17T00:00:00.000000000",
          "2024-06-18T00:00:00.000000000",
          "2024-06-20T00:00:00.000000000",
          "2024-06-21T00:00:00.000000000",
          "2024-06-24T00:00:00.000000000",
          "2024-06-25T00:00:00.000000000",
          "2024-06-26T00:00:00.000000000",
          "2024-06-27T00:00:00.000000000",
          "2024-06-28T00:00:00.000000000",
          "2024-07-01T00:00:00.000000000",
          "2024-07-02T00:00:00.000000000",
          "2024-07-03T00:00:00.000000000",
          "2024-07-05T00:00:00.000000000",
          "2024-07-08T00:00:00.000000000",
          "2024-07-09T00:00:00.000000000",
          "2024-07-10T00:00:00.000000000",
          "2024-07-11T00:00:00.000000000",
          "2024-07-12T00:00:00.000000000",
          "2024-07-15T00:00:00.000000000",
          "2024-07-16T00:00:00.000000000",
          "2024-07-17T00:00:00.000000000",
          "2024-07-18T00:00:00.000000000",
          "2024-07-19T00:00:00.000000000",
          "2024-07-22T00:00:00.000000000",
          "2024-07-23T00:00:00.000000000",
          "2024-07-24T00:00:00.000000000",
          "2024-07-25T00:00:00.000000000",
          "2024-07-26T00:00:00.000000000",
          "2024-07-29T00:00:00.000000000",
          "2024-07-30T00:00:00.000000000",
          "2024-07-31T00:00:00.000000000",
          "2024-08-01T00:00:00.000000000",
          "2024-08-02T00:00:00.000000000",
          "2024-08-05T00:00:00.000000000",
          "2024-08-06T00:00:00.000000000",
          "2024-08-07T00:00:00.000000000",
          "2024-08-08T00:00:00.000000000",
          "2024-08-09T00:00:00.000000000",
          "2024-08-12T00:00:00.000000000",
          "2024-08-13T00:00:00.000000000",
          "2024-08-14T00:00:00.000000000",
          "2024-08-15T00:00:00.000000000",
          "2024-08-16T00:00:00.000000000",
          "2024-08-19T00:00:00.000000000",
          "2024-08-20T00:00:00.000000000",
          "2024-08-21T00:00:00.000000000",
          "2024-08-22T00:00:00.000000000",
          "2024-08-23T00:00:00.000000000",
          "2024-08-26T00:00:00.000000000",
          "2024-08-27T00:00:00.000000000",
          "2024-08-28T00:00:00.000000000",
          "2024-08-29T00:00:00.000000000",
          "2024-08-30T00:00:00.000000000",
          "2024-09-03T00:00:00.000000000",
          "2024-09-04T00:00:00.000000000",
          "2024-09-05T00:00:00.000000000",
          "2024-09-06T00:00:00.000000000",
          "2024-09-09T00:00:00.000000000",
          "2024-09-10T00:00:00.000000000",
          "2024-09-11T00:00:00.000000000",
          "2024-09-12T00:00:00.000000000",
          "2024-09-13T00:00:00.000000000",
          "2024-09-16T00:00:00.000000000",
          "2024-09-17T00:00:00.000000000",
          "2024-09-18T00:00:00.000000000",
          "2024-09-19T00:00:00.000000000",
          "2024-09-20T00:00:00.000000000",
          "2024-09-23T00:00:00.000000000",
          "2024-09-24T00:00:00.000000000",
          "2024-09-25T00:00:00.000000000",
          "2024-09-26T00:00:00.000000000",
          "2024-09-27T00:00:00.000000000",
          "2024-09-30T00:00:00.000000000",
          "2024-10-01T00:00:00.000000000",
          "2024-10-02T00:00:00.000000000",
          "2024-10-03T00:00:00.000000000",
          "2024-10-04T00:00:00.000000000",
          "2024-10-07T00:00:00.000000000",
          "2024-10-08T00:00:00.000000000",
          "2024-10-09T00:00:00.000000000",
          "2024-10-10T00:00:00.000000000",
          "2024-10-11T00:00:00.000000000",
          "2024-10-14T00:00:00.000000000",
          "2024-10-15T00:00:00.000000000",
          "2024-10-16T00:00:00.000000000",
          "2024-10-17T00:00:00.000000000",
          "2024-10-18T00:00:00.000000000",
          "2024-10-21T00:00:00.000000000",
          "2024-10-22T00:00:00.000000000",
          "2024-10-23T00:00:00.000000000",
          "2024-10-24T00:00:00.000000000",
          "2024-10-25T00:00:00.000000000",
          "2024-10-28T00:00:00.000000000",
          "2024-10-29T00:00:00.000000000",
          "2024-10-30T00:00:00.000000000",
          "2024-10-31T00:00:00.000000000",
          "2024-11-01T00:00:00.000000000",
          "2024-11-04T00:00:00.000000000",
          "2024-11-05T00:00:00.000000000",
          "2024-11-06T00:00:00.000000000",
          "2024-11-07T00:00:00.000000000",
          "2024-11-08T00:00:00.000000000",
          "2024-11-11T00:00:00.000000000",
          "2024-11-12T00:00:00.000000000",
          "2024-11-13T00:00:00.000000000",
          "2024-11-14T00:00:00.000000000",
          "2024-11-15T00:00:00.000000000",
          "2024-11-18T00:00:00.000000000",
          "2024-11-19T00:00:00.000000000",
          "2024-11-20T00:00:00.000000000",
          "2024-11-21T00:00:00.000000000",
          "2024-11-22T00:00:00.000000000",
          "2024-11-25T00:00:00.000000000",
          "2024-11-26T00:00:00.000000000",
          "2024-11-27T00:00:00.000000000",
          "2024-11-29T00:00:00.000000000",
          "2024-12-02T00:00:00.000000000",
          "2024-12-03T00:00:00.000000000",
          "2024-12-04T00:00:00.000000000",
          "2024-12-05T00:00:00.000000000",
          "2024-12-06T00:00:00.000000000",
          "2024-12-09T00:00:00.000000000",
          "2024-12-10T00:00:00.000000000",
          "2024-12-11T00:00:00.000000000",
          "2024-12-12T00:00:00.000000000",
          "2024-12-13T00:00:00.000000000",
          "2024-12-16T00:00:00.000000000",
          "2024-12-17T00:00:00.000000000",
          "2024-12-18T00:00:00.000000000",
          "2024-12-19T00:00:00.000000000",
          "2024-12-20T00:00:00.000000000",
          "2024-12-23T00:00:00.000000000",
          "2024-12-24T00:00:00.000000000",
          "2024-12-26T00:00:00.000000000",
          "2024-12-27T00:00:00.000000000",
          "2024-12-30T00:00:00.000000000",
          "2024-12-31T00:00:00.000000000",
          "2025-01-02T00:00:00.000000000",
          "2025-01-03T00:00:00.000000000",
          "2025-01-06T00:00:00.000000000",
          "2025-01-07T00:00:00.000000000",
          "2025-01-08T00:00:00.000000000",
          "2025-01-10T00:00:00.000000000",
          "2025-01-13T00:00:00.000000000",
          "2025-01-14T00:00:00.000000000",
          "2025-01-15T00:00:00.000000000",
          "2025-01-16T00:00:00.000000000",
          "2025-01-17T00:00:00.000000000",
          "2025-01-21T00:00:00.000000000",
          "2025-01-22T00:00:00.000000000",
          "2025-01-23T00:00:00.000000000",
          "2025-01-24T00:00:00.000000000",
          "2025-01-27T00:00:00.000000000",
          "2025-01-28T00:00:00.000000000"
         ],
         "y": {
          "bdata": "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",
          "dtype": "f8"
         }
        }
       ],
       "layout": {
        "legend": {
         "x": 0,
         "y": 1
        },
        "template": {
         "data": {
          "bar": [
           {
            "error_x": {
             "color": "#f2f5fa"
            },
            "error_y": {
             "color": "#f2f5fa"
            },
            "marker": {
             "line": {
              "color": "rgb(17,17,17)",
              "width": 0.5
             },
             "pattern": {
              "fillmode": "overlay",
              "size": 10,
              "solidity": 0.2
             }
            },
            "type": "bar"
           }
          ],
          "barpolar": [
           {
            "marker": {
             "line": {
              "color": "rgb(17,17,17)",
              "width": 0.5
             },
             "pattern": {
              "fillmode": "overlay",
              "size": 10,
              "solidity": 0.2
             }
            },
            "type": "barpolar"
           }
          ],
          "carpet": [
           {
            "aaxis": {
             "endlinecolor": "#A2B1C6",
             "gridcolor": "#506784",
             "linecolor": "#506784",
             "minorgridcolor": "#506784",
             "startlinecolor": "#A2B1C6"
            },
            "baxis": {
             "endlinecolor": "#A2B1C6",
             "gridcolor": "#506784",
             "linecolor": "#506784",
             "minorgridcolor": "#506784",
             "startlinecolor": "#A2B1C6"
            },
            "type": "carpet"
           }
          ],
          "choropleth": [
           {
            "colorbar": {
             "outlinewidth": 0,
             "ticks": ""
            },
            "type": "choropleth"
           }
          ],
          "contour": [
           {
            "colorbar": {
             "outlinewidth": 0,
             "ticks": ""
            },
            "colorscale": [
             [
              0,
              "#0d0887"
             ],
             [
              0.1111111111111111,
              "#46039f"
             ],
             [
              0.2222222222222222,
              "#7201a8"
             ],
             [
              0.3333333333333333,
              "#9c179e"
             ],
             [
              0.4444444444444444,
              "#bd3786"
             ],
             [
              0.5555555555555556,
              "#d8576b"
             ],
             [
              0.6666666666666666,
              "#ed7953"
             ],
             [
              0.7777777777777778,
              "#fb9f3a"
             ],
             [
              0.8888888888888888,
              "#fdca26"
             ],
             [
              1,
              "#f0f921"
             ]
            ],
            "type": "contour"
           }
          ],
          "contourcarpet": [
           {
            "colorbar": {
             "outlinewidth": 0,
             "ticks": ""
            },
            "type": "contourcarpet"
           }
          ],
          "heatmap": [
           {
            "colorbar": {
             "outlinewidth": 0,
             "ticks": ""
            },
            "colorscale": [
             [
              0,
              "#0d0887"
             ],
             [
              0.1111111111111111,
              "#46039f"
             ],
             [
              0.2222222222222222,
              "#7201a8"
             ],
             [
              0.3333333333333333,
              "#9c179e"
             ],
             [
              0.4444444444444444,
              "#bd3786"
             ],
             [
              0.5555555555555556,
              "#d8576b"
             ],
             [
              0.6666666666666666,
              "#ed7953"
             ],
             [
              0.7777777777777778,
              "#fb9f3a"
             ],
             [
              0.8888888888888888,
              "#fdca26"
             ],
             [
              1,
              "#f0f921"
             ]
            ],
            "type": "heatmap"
           }
          ],
          "histogram": [
           {
            "marker": {
             "pattern": {
              "fillmode": "overlay",
              "size": 10,
              "solidity": 0.2
             }
            },
            "type": "histogram"
           }
          ],
          "histogram2d": [
           {
            "colorbar": {
             "outlinewidth": 0,
             "ticks": ""
            },
            "colorscale": [
             [
              0,
              "#0d0887"
             ],
             [
              0.1111111111111111,
              "#46039f"
             ],
             [
              0.2222222222222222,
              "#7201a8"
             ],
             [
              0.3333333333333333,
              "#9c179e"
             ],
             [
              0.4444444444444444,
              "#bd3786"
             ],
             [
              0.5555555555555556,
              "#d8576b"
             ],
             [
              0.6666666666666666,
              "#ed7953"
             ],
             [
              0.7777777777777778,
              "#fb9f3a"
             ],
             [
              0.8888888888888888,
              "#fdca26"
             ],
             [
              1,
              "#f0f921"
             ]
            ],
            "type": "histogram2d"
           }
          ],
          "histogram2dcontour": [
           {
            "colorbar": {
             "outlinewidth": 0,
             "ticks": ""
            },
            "colorscale": [
             [
              0,
              "#0d0887"
             ],
             [
              0.1111111111111111,
              "#46039f"
             ],
             [
              0.2222222222222222,
              "#7201a8"
             ],
             [
              0.3333333333333333,
              "#9c179e"
             ],
             [
              0.4444444444444444,
              "#bd3786"
             ],
             [
              0.5555555555555556,
              "#d8576b"
             ],
             [
              0.6666666666666666,
              "#ed7953"
             ],
             [
              0.7777777777777778,
              "#fb9f3a"
             ],
             [
              0.8888888888888888,
              "#fdca26"
             ],
             [
              1,
              "#f0f921"
             ]
            ],
            "type": "histogram2dcontour"
           }
          ],
          "mesh3d": [
           {
            "colorbar": {
             "outlinewidth": 0,
             "ticks": ""
            },
            "type": "mesh3d"
           }
          ],
          "parcoords": [
           {
            "line": {
             "colorbar": {
              "outlinewidth": 0,
              "ticks": ""
             }
            },
            "type": "parcoords"
           }
          ],
          "pie": [
           {
            "automargin": true,
            "type": "pie"
           }
          ],
          "scatter": [
           {
            "marker": {
             "line": {
              "color": "#283442"
             }
            },
            "type": "scatter"
           }
          ],
          "scatter3d": [
           {
            "line": {
             "colorbar": {
              "outlinewidth": 0,
              "ticks": ""
             }
            },
            "marker": {
             "colorbar": {
              "outlinewidth": 0,
              "ticks": ""
             }
            },
            "type": "scatter3d"
           }
          ],
          "scattercarpet": [
           {
            "marker": {
             "colorbar": {
              "outlinewidth": 0,
              "ticks": ""
             }
            },
            "type": "scattercarpet"
           }
          ],
          "scattergeo": [
           {
            "marker": {
             "colorbar": {
              "outlinewidth": 0,
              "ticks": ""
             }
            },
            "type": "scattergeo"
           }
          ],
          "scattergl": [
           {
            "marker": {
             "line": {
              "color": "#283442"
             }
            },
            "type": "scattergl"
           }
          ],
          "scattermap": [
           {
            "marker": {
             "colorbar": {
              "outlinewidth": 0,
              "ticks": ""
             }
            },
            "type": "scattermap"
           }
          ],
          "scattermapbox": [
           {
            "marker": {
             "colorbar": {
              "outlinewidth": 0,
              "ticks": ""
             }
            },
            "type": "scattermapbox"
           }
          ],
          "scatterpolar": [
           {
            "marker": {
             "colorbar": {
              "outlinewidth": 0,
              "ticks": ""
             }
            },
            "type": "scatterpolar"
           }
          ],
          "scatterpolargl": [
           {
            "marker": {
             "colorbar": {
              "outlinewidth": 0,
              "ticks": ""
             }
            },
            "type": "scatterpolargl"
           }
          ],
          "scatterternary": [
           {
            "marker": {
             "colorbar": {
              "outlinewidth": 0,
              "ticks": ""
             }
            },
            "type": "scatterternary"
           }
          ],
          "surface": [
           {
            "colorbar": {
             "outlinewidth": 0,
             "ticks": ""
            },
            "colorscale": [
             [
              0,
              "#0d0887"
             ],
             [
              0.1111111111111111,
              "#46039f"
             ],
             [
              0.2222222222222222,
              "#7201a8"
             ],
             [
              0.3333333333333333,
              "#9c179e"
             ],
             [
              0.4444444444444444,
              "#bd3786"
             ],
             [
              0.5555555555555556,
              "#d8576b"
             ],
             [
              0.6666666666666666,
              "#ed7953"
             ],
             [
              0.7777777777777778,
              "#fb9f3a"
             ],
             [
              0.8888888888888888,
              "#fdca26"
             ],
             [
              1,
              "#f0f921"
             ]
            ],
            "type": "surface"
           }
          ],
          "table": [
           {
            "cells": {
             "fill": {
              "color": "#506784"
             },
             "line": {
              "color": "rgb(17,17,17)"
             }
            },
            "header": {
             "fill": {
              "color": "#2a3f5f"
             },
             "line": {
              "color": "rgb(17,17,17)"
             }
            },
            "type": "table"
           }
          ]
         },
         "layout": {
          "annotationdefaults": {
           "arrowcolor": "#f2f5fa",
           "arrowhead": 0,
           "arrowwidth": 1
          },
          "autotypenumbers": "strict",
          "coloraxis": {
           "colorbar": {
            "outlinewidth": 0,
            "ticks": ""
           }
          },
          "colorscale": {
           "diverging": [
            [
             0,
             "#8e0152"
            ],
            [
             0.1,
             "#c51b7d"
            ],
            [
             0.2,
             "#de77ae"
            ],
            [
             0.3,
             "#f1b6da"
            ],
            [
             0.4,
             "#fde0ef"
            ],
            [
             0.5,
             "#f7f7f7"
            ],
            [
             0.6,
             "#e6f5d0"
            ],
            [
             0.7,
             "#b8e186"
            ],
            [
             0.8,
             "#7fbc41"
            ],
            [
             0.9,
             "#4d9221"
            ],
            [
             1,
             "#276419"
            ]
           ],
           "sequential": [
            [
             0,
             "#0d0887"
            ],
            [
             0.1111111111111111,
             "#46039f"
            ],
            [
             0.2222222222222222,
             "#7201a8"
            ],
            [
             0.3333333333333333,
             "#9c179e"
            ],
            [
             0.4444444444444444,
             "#bd3786"
            ],
            [
             0.5555555555555556,
             "#d8576b"
            ],
            [
             0.6666666666666666,
             "#ed7953"
            ],
            [
             0.7777777777777778,
             "#fb9f3a"
            ],
            [
             0.8888888888888888,
             "#fdca26"
            ],
            [
             1,
             "#f0f921"
            ]
           ],
           "sequentialminus": [
            [
             0,
             "#0d0887"
            ],
            [
             0.1111111111111111,
             "#46039f"
            ],
            [
             0.2222222222222222,
             "#7201a8"
            ],
            [
             0.3333333333333333,
             "#9c179e"
            ],
            [
             0.4444444444444444,
             "#bd3786"
            ],
            [
             0.5555555555555556,
             "#d8576b"
            ],
            [
             0.6666666666666666,
             "#ed7953"
            ],
            [
             0.7777777777777778,
             "#fb9f3a"
            ],
            [
             0.8888888888888888,
             "#fdca26"
            ],
            [
             1,
             "#f0f921"
            ]
           ]
          },
          "colorway": [
           "#636efa",
           "#EF553B",
           "#00cc96",
           "#ab63fa",
           "#FFA15A",
           "#19d3f3",
           "#FF6692",
           "#B6E880",
           "#FF97FF",
           "#FECB52"
          ],
          "font": {
           "color": "#f2f5fa"
          },
          "geo": {
           "bgcolor": "rgb(17,17,17)",
           "lakecolor": "rgb(17,17,17)",
           "landcolor": "rgb(17,17,17)",
           "showlakes": true,
           "showland": true,
           "subunitcolor": "#506784"
          },
          "hoverlabel": {
           "align": "left"
          },
          "hovermode": "closest",
          "mapbox": {
           "style": "dark"
          },
          "paper_bgcolor": "rgb(17,17,17)",
          "plot_bgcolor": "rgb(17,17,17)",
          "polar": {
           "angularaxis": {
            "gridcolor": "#506784",
            "linecolor": "#506784",
            "ticks": ""
           },
           "bgcolor": "rgb(17,17,17)",
           "radialaxis": {
            "gridcolor": "#506784",
            "linecolor": "#506784",
            "ticks": ""
           }
          },
          "scene": {
           "xaxis": {
            "backgroundcolor": "rgb(17,17,17)",
            "gridcolor": "#506784",
            "gridwidth": 2,
            "linecolor": "#506784",
            "showbackground": true,
            "ticks": "",
            "zerolinecolor": "#C8D4E3"
           },
           "yaxis": {
            "backgroundcolor": "rgb(17,17,17)",
            "gridcolor": "#506784",
            "gridwidth": 2,
            "linecolor": "#506784",
            "showbackground": true,
            "ticks": "",
            "zerolinecolor": "#C8D4E3"
           },
           "zaxis": {
            "backgroundcolor": "rgb(17,17,17)",
            "gridcolor": "#506784",
            "gridwidth": 2,
            "linecolor": "#506784",
            "showbackground": true,
            "ticks": "",
            "zerolinecolor": "#C8D4E3"
           }
          },
          "shapedefaults": {
           "line": {
            "color": "#f2f5fa"
           }
          },
          "sliderdefaults": {
           "bgcolor": "#C8D4E3",
           "bordercolor": "rgb(17,17,17)",
           "borderwidth": 1,
           "tickwidth": 0
          },
          "ternary": {
           "aaxis": {
            "gridcolor": "#506784",
            "linecolor": "#506784",
            "ticks": ""
           },
           "baxis": {
            "gridcolor": "#506784",
            "linecolor": "#506784",
            "ticks": ""
           },
           "bgcolor": "rgb(17,17,17)",
           "caxis": {
            "gridcolor": "#506784",
            "linecolor": "#506784",
            "ticks": ""
           }
          },
          "title": {
           "x": 0.05
          },
          "updatemenudefaults": {
           "bgcolor": "#506784",
           "borderwidth": 0
          },
          "xaxis": {
           "automargin": true,
           "gridcolor": "#283442",
           "linecolor": "#506784",
           "ticks": "",
           "title": {
            "standoff": 15
           },
           "zerolinecolor": "#283442",
           "zerolinewidth": 2
          },
          "yaxis": {
           "automargin": true,
           "gridcolor": "#283442",
           "linecolor": "#506784",
           "ticks": "",
           "title": {
            "standoff": 15
           },
           "zerolinecolor": "#283442",
           "zerolinewidth": 2
          }
         }
        },
        "title": {
         "text": "YMAX, YMAG and VIX Price Trends"
        },
        "xaxis": {
         "tickangle": -45,
         "title": {
          "text": "Date"
         }
        },
        "yaxis": {
         "title": {
          "text": "Price"
         }
        }
       }
      }
     },
     "metadata": {},
     "output_type": "display_data"
    }
   ],
   "source": [
    "# Create a figure\n",
    "fig = go.Figure()\n",
    "\n",
    "# Add YMAX Line (Blue)\n",
    "fig.add_trace(go.Scatter(x=merged_df.index, y=merged_df[\"YMAX\"], mode=\"lines\", name=\"YMAX\", line=dict(color=\"blue\")))\n",
    "\n",
    "# Add YMAG Line (Green)\n",
    "fig.add_trace(go.Scatter(x=merged_df.index, y=merged_df[\"YMAG\"], mode=\"lines\", name=\"YMAG\", line=dict(color=\"green\")))\n",
    "\n",
    "# Add VIX Line (Red)\n",
    "fig.add_trace(go.Scatter(x=merged_df.index, y=merged_df[\"VIX\"], mode=\"lines\", name=\"VIX\", line=dict(color=\"red\")))\n",
    "\n",
    "# Add VVIX Line (Purple)\n",
    "# fig.add_trace(go.Scatter(x=merged_df.index, y=merged_df[\"VVIX\"], mode=\"lines\", name=\"VVIX\", line=dict(color=\"purple\")))\n",
    "\n",
    "# Add QQQ Line (Orange)\n",
    "# fig.add_trace(go.Scatter(x=merged_df.index, y=merged_df[\"QQQ\"], mode=\"lines\", name=\"QQQ\", line=dict(color=\"orange\")))\n",
    "\n",
    "# Customize Layout\n",
    "fig.update_layout(\n",
    "    title=\"YMAX, YMAG and VIX Price Trends\",\n",
    "    xaxis_title=\"Date\",\n",
    "    yaxis_title=\"Price\",\n",
    "    xaxis=dict(tickangle=-45),\n",
    "    template=\"plotly_dark\",\n",
    "    legend=dict(x=0, y=1)\n",
    ")\n",
    "\n",
    "# Show the interactive plot\n",
    "fig.show()\n"
   ]
  },
  {
   "cell_type": "code",
   "execution_count": 155,
   "metadata": {},
   "outputs": [
    {
     "data": {
      "text/html": [
       "<div>\n",
       "<style scoped>\n",
       "    .dataframe tbody tr th:only-of-type {\n",
       "        vertical-align: middle;\n",
       "    }\n",
       "\n",
       "    .dataframe tbody tr th {\n",
       "        vertical-align: top;\n",
       "    }\n",
       "\n",
       "    .dataframe thead th {\n",
       "        text-align: right;\n",
       "    }\n",
       "</style>\n",
       "<table border=\"1\" class=\"dataframe\">\n",
       "  <thead>\n",
       "    <tr style=\"text-align: right;\">\n",
       "      <th></th>\n",
       "      <th>YMAX Volatility</th>\n",
       "      <th>YMAG Volatility</th>\n",
       "      <th>VIX Volatility</th>\n",
       "      <th>VVIX Volatility</th>\n",
       "      <th>QQQ Volatility</th>\n",
       "      <th>YMAX-VIX Correlation</th>\n",
       "      <th>YMAX-VVIX Correlation</th>\n",
       "      <th>YMAG-VIX Correlation</th>\n",
       "      <th>YMAG-VVIX Correlation</th>\n",
       "    </tr>\n",
       "    <tr>\n",
       "      <th>Date</th>\n",
       "      <th></th>\n",
       "      <th></th>\n",
       "      <th></th>\n",
       "      <th></th>\n",
       "      <th></th>\n",
       "      <th></th>\n",
       "      <th></th>\n",
       "      <th></th>\n",
       "      <th></th>\n",
       "    </tr>\n",
       "  </thead>\n",
       "  <tbody>\n",
       "    <tr>\n",
       "      <th>2024-03-01</th>\n",
       "      <td>0.013069</td>\n",
       "      <td>0.013785</td>\n",
       "      <td>0.051710</td>\n",
       "      <td>0.043429</td>\n",
       "      <td>0.010393</td>\n",
       "      <td>-0.626499</td>\n",
       "      <td>-0.549622</td>\n",
       "      <td>-0.508677</td>\n",
       "      <td>-0.456559</td>\n",
       "    </tr>\n",
       "    <tr>\n",
       "      <th>2024-03-04</th>\n",
       "      <td>0.013071</td>\n",
       "      <td>0.014021</td>\n",
       "      <td>0.051693</td>\n",
       "      <td>0.043371</td>\n",
       "      <td>0.010300</td>\n",
       "      <td>-0.626533</td>\n",
       "      <td>-0.549422</td>\n",
       "      <td>-0.510632</td>\n",
       "      <td>-0.458702</td>\n",
       "    </tr>\n",
       "    <tr>\n",
       "      <th>2024-03-05</th>\n",
       "      <td>0.013642</td>\n",
       "      <td>0.013287</td>\n",
       "      <td>0.054021</td>\n",
       "      <td>0.045045</td>\n",
       "      <td>0.010663</td>\n",
       "      <td>-0.675417</td>\n",
       "      <td>-0.589907</td>\n",
       "      <td>-0.593275</td>\n",
       "      <td>-0.510036</td>\n",
       "    </tr>\n",
       "    <tr>\n",
       "      <th>2024-03-06</th>\n",
       "      <td>0.013392</td>\n",
       "      <td>0.013233</td>\n",
       "      <td>0.053891</td>\n",
       "      <td>0.043883</td>\n",
       "      <td>0.010716</td>\n",
       "      <td>-0.706867</td>\n",
       "      <td>-0.681932</td>\n",
       "      <td>-0.603820</td>\n",
       "      <td>-0.546858</td>\n",
       "    </tr>\n",
       "    <tr>\n",
       "      <th>2024-03-07</th>\n",
       "      <td>0.013522</td>\n",
       "      <td>0.013545</td>\n",
       "      <td>0.052771</td>\n",
       "      <td>0.043262</td>\n",
       "      <td>0.011108</td>\n",
       "      <td>-0.700723</td>\n",
       "      <td>-0.679942</td>\n",
       "      <td>-0.611949</td>\n",
       "      <td>-0.559811</td>\n",
       "    </tr>\n",
       "    <tr>\n",
       "      <th>...</th>\n",
       "      <td>...</td>\n",
       "      <td>...</td>\n",
       "      <td>...</td>\n",
       "      <td>...</td>\n",
       "      <td>...</td>\n",
       "      <td>...</td>\n",
       "      <td>...</td>\n",
       "      <td>...</td>\n",
       "      <td>...</td>\n",
       "    </tr>\n",
       "    <tr>\n",
       "      <th>2025-01-22</th>\n",
       "      <td>0.014590</td>\n",
       "      <td>0.012203</td>\n",
       "      <td>0.091306</td>\n",
       "      <td>0.073777</td>\n",
       "      <td>0.011819</td>\n",
       "      <td>-0.647490</td>\n",
       "      <td>-0.617914</td>\n",
       "      <td>-0.637645</td>\n",
       "      <td>-0.556642</td>\n",
       "    </tr>\n",
       "    <tr>\n",
       "      <th>2025-01-23</th>\n",
       "      <td>0.014398</td>\n",
       "      <td>0.012251</td>\n",
       "      <td>0.088211</td>\n",
       "      <td>0.072508</td>\n",
       "      <td>0.011740</td>\n",
       "      <td>-0.727224</td>\n",
       "      <td>-0.605098</td>\n",
       "      <td>-0.658971</td>\n",
       "      <td>-0.565712</td>\n",
       "    </tr>\n",
       "    <tr>\n",
       "      <th>2025-01-24</th>\n",
       "      <td>0.014010</td>\n",
       "      <td>0.012234</td>\n",
       "      <td>0.072461</td>\n",
       "      <td>0.063766</td>\n",
       "      <td>0.011736</td>\n",
       "      <td>-0.742413</td>\n",
       "      <td>-0.578384</td>\n",
       "      <td>-0.763446</td>\n",
       "      <td>-0.611782</td>\n",
       "    </tr>\n",
       "    <tr>\n",
       "      <th>2025-01-27</th>\n",
       "      <td>0.015209</td>\n",
       "      <td>0.013090</td>\n",
       "      <td>0.083700</td>\n",
       "      <td>0.063355</td>\n",
       "      <td>0.013274</td>\n",
       "      <td>-0.797578</td>\n",
       "      <td>-0.655731</td>\n",
       "      <td>-0.800995</td>\n",
       "      <td>-0.632679</td>\n",
       "    </tr>\n",
       "    <tr>\n",
       "      <th>2025-01-28</th>\n",
       "      <td>0.015339</td>\n",
       "      <td>0.013632</td>\n",
       "      <td>0.078617</td>\n",
       "      <td>0.059570</td>\n",
       "      <td>0.013342</td>\n",
       "      <td>-0.791915</td>\n",
       "      <td>-0.640601</td>\n",
       "      <td>-0.783334</td>\n",
       "      <td>-0.608870</td>\n",
       "    </tr>\n",
       "  </tbody>\n",
       "</table>\n",
       "<p>228 rows × 9 columns</p>\n",
       "</div>"
      ],
      "text/plain": [
       "            YMAX Volatility  YMAG Volatility  VIX Volatility  VVIX Volatility  \\\n",
       "Date                                                                            \n",
       "2024-03-01         0.013069         0.013785        0.051710         0.043429   \n",
       "2024-03-04         0.013071         0.014021        0.051693         0.043371   \n",
       "2024-03-05         0.013642         0.013287        0.054021         0.045045   \n",
       "2024-03-06         0.013392         0.013233        0.053891         0.043883   \n",
       "2024-03-07         0.013522         0.013545        0.052771         0.043262   \n",
       "...                     ...              ...             ...              ...   \n",
       "2025-01-22         0.014590         0.012203        0.091306         0.073777   \n",
       "2025-01-23         0.014398         0.012251        0.088211         0.072508   \n",
       "2025-01-24         0.014010         0.012234        0.072461         0.063766   \n",
       "2025-01-27         0.015209         0.013090        0.083700         0.063355   \n",
       "2025-01-28         0.015339         0.013632        0.078617         0.059570   \n",
       "\n",
       "            QQQ Volatility  YMAX-VIX Correlation  YMAX-VVIX Correlation  \\\n",
       "Date                                                                      \n",
       "2024-03-01        0.010393             -0.626499              -0.549622   \n",
       "2024-03-04        0.010300             -0.626533              -0.549422   \n",
       "2024-03-05        0.010663             -0.675417              -0.589907   \n",
       "2024-03-06        0.010716             -0.706867              -0.681932   \n",
       "2024-03-07        0.011108             -0.700723              -0.679942   \n",
       "...                    ...                   ...                    ...   \n",
       "2025-01-22        0.011819             -0.647490              -0.617914   \n",
       "2025-01-23        0.011740             -0.727224              -0.605098   \n",
       "2025-01-24        0.011736             -0.742413              -0.578384   \n",
       "2025-01-27        0.013274             -0.797578              -0.655731   \n",
       "2025-01-28        0.013342             -0.791915              -0.640601   \n",
       "\n",
       "            YMAG-VIX Correlation  YMAG-VVIX Correlation  \n",
       "Date                                                     \n",
       "2024-03-01             -0.508677              -0.456559  \n",
       "2024-03-04             -0.510632              -0.458702  \n",
       "2024-03-05             -0.593275              -0.510036  \n",
       "2024-03-06             -0.603820              -0.546858  \n",
       "2024-03-07             -0.611949              -0.559811  \n",
       "...                          ...                    ...  \n",
       "2025-01-22             -0.637645              -0.556642  \n",
       "2025-01-23             -0.658971              -0.565712  \n",
       "2025-01-24             -0.763446              -0.611782  \n",
       "2025-01-27             -0.800995              -0.632679  \n",
       "2025-01-28             -0.783334              -0.608870  \n",
       "\n",
       "[228 rows x 9 columns]"
      ]
     },
     "execution_count": 155,
     "metadata": {},
     "output_type": "execute_result"
    }
   ],
   "source": [
    "# Define rolling window size (e.g., 21 days)\n",
    "window_size = 21\n",
    "\n",
    "# Compute daily returns for each asset in merged_df\n",
    "returns = merged_df.pct_change().dropna()\n",
    "\n",
    "# Initialize stats_df with rolling volatilities\n",
    "stats_df = pd.DataFrame(index=returns.index)\n",
    "\n",
    "# Compute rolling volatilities (standard deviation of returns) for each asset\n",
    "for column in merged_df.columns:\n",
    "    stats_df[f\"{column} Volatility\"] = returns[column].rolling(window=window_size).std()\n",
    "\n",
    "# Compute rolling correlations\n",
    "stats_df[\"YMAX-VIX Correlation\"] = returns[\"YMAX\"].rolling(window=window_size).corr(returns[\"VIX\"])\n",
    "stats_df[\"YMAX-VVIX Correlation\"] = returns[\"YMAX\"].rolling(window=window_size).corr(returns[\"VVIX\"])\n",
    "stats_df[\"YMAG-VIX Correlation\"] = returns[\"YMAG\"].rolling(window=window_size).corr(returns[\"VIX\"])\n",
    "stats_df[\"YMAG-VVIX Correlation\"] = returns[\"YMAG\"].rolling(window=window_size).corr(returns[\"VVIX\"])\n",
    "\n",
    "# Drop NaN values resulting from rolling calculations\n",
    "stats_df = stats_df.dropna()\n",
    "stats_df"
   ]
  },
  {
   "cell_type": "code",
   "execution_count": 156,
   "metadata": {},
   "outputs": [
    {
     "data": {
      "application/vnd.plotly.v1+json": {
       "config": {
        "plotlyServerURL": "https://plot.ly"
       },
       "data": [
        {
         "line": {
          "color": "blue"
         },
         "mode": "lines",
         "name": "YMAX Volatility",
         "type": "scatter",
         "x": [
          "2024-03-01T00:00:00.000000000",
          "2024-03-04T00:00:00.000000000",
          "2024-03-05T00:00:00.000000000",
          "2024-03-06T00:00:00.000000000",
          "2024-03-07T00:00:00.000000000",
          "2024-03-08T00:00:00.000000000",
          "2024-03-11T00:00:00.000000000",
          "2024-03-12T00:00:00.000000000",
          "2024-03-13T00:00:00.000000000",
          "2024-03-14T00:00:00.000000000",
          "2024-03-15T00:00:00.000000000",
          "2024-03-18T00:00:00.000000000",
          "2024-03-19T00:00:00.000000000",
          "2024-03-20T00:00:00.000000000",
          "2024-03-21T00:00:00.000000000",
          "2024-03-22T00:00:00.000000000",
          "2024-03-25T00:00:00.000000000",
          "2024-03-26T00:00:00.000000000",
          "2024-03-27T00:00:00.000000000",
          "2024-03-28T00:00:00.000000000",
          "2024-04-01T00:00:00.000000000",
          "2024-04-02T00:00:00.000000000",
          "2024-04-03T00:00:00.000000000",
          "2024-04-04T00:00:00.000000000",
          "2024-04-05T00:00:00.000000000",
          "2024-04-08T00:00:00.000000000",
          "2024-04-09T00:00:00.000000000",
          "2024-04-10T00:00:00.000000000",
          "2024-04-11T00:00:00.000000000",
          "2024-04-12T00:00:00.000000000",
          "2024-04-15T00:00:00.000000000",
          "2024-04-16T00:00:00.000000000",
          "2024-04-17T00:00:00.000000000",
          "2024-04-18T00:00:00.000000000",
          "2024-04-19T00:00:00.000000000",
          "2024-04-22T00:00:00.000000000",
          "2024-04-23T00:00:00.000000000",
          "2024-04-24T00:00:00.000000000",
          "2024-04-25T00:00:00.000000000",
          "2024-04-26T00:00:00.000000000",
          "2024-04-29T00:00:00.000000000",
          "2024-04-30T00:00:00.000000000",
          "2024-05-01T00:00:00.000000000",
          "2024-05-02T00:00:00.000000000",
          "2024-05-03T00:00:00.000000000",
          "2024-05-06T00:00:00.000000000",
          "2024-05-07T00:00:00.000000000",
          "2024-05-08T00:00:00.000000000",
          "2024-05-09T00:00:00.000000000",
          "2024-05-10T00:00:00.000000000",
          "2024-05-13T00:00:00.000000000",
          "2024-05-14T00:00:00.000000000",
          "2024-05-15T00:00:00.000000000",
          "2024-05-16T00:00:00.000000000",
          "2024-05-17T00:00:00.000000000",
          "2024-05-20T00:00:00.000000000",
          "2024-05-21T00:00:00.000000000",
          "2024-05-22T00:00:00.000000000",
          "2024-05-23T00:00:00.000000000",
          "2024-05-24T00:00:00.000000000",
          "2024-05-28T00:00:00.000000000",
          "2024-05-29T00:00:00.000000000",
          "2024-05-30T00:00:00.000000000",
          "2024-05-31T00:00:00.000000000",
          "2024-06-03T00:00:00.000000000",
          "2024-06-04T00:00:00.000000000",
          "2024-06-05T00:00:00.000000000",
          "2024-06-06T00:00:00.000000000",
          "2024-06-07T00:00:00.000000000",
          "2024-06-10T00:00:00.000000000",
          "2024-06-11T00:00:00.000000000",
          "2024-06-12T00:00:00.000000000",
          "2024-06-13T00:00:00.000000000",
          "2024-06-14T00:00:00.000000000",
          "2024-06-17T00:00:00.000000000",
          "2024-06-18T00:00:00.000000000",
          "2024-06-20T00:00:00.000000000",
          "2024-06-21T00:00:00.000000000",
          "2024-06-24T00:00:00.000000000",
          "2024-06-25T00:00:00.000000000",
          "2024-06-26T00:00:00.000000000",
          "2024-06-27T00:00:00.000000000",
          "2024-06-28T00:00:00.000000000",
          "2024-07-01T00:00:00.000000000",
          "2024-07-02T00:00:00.000000000",
          "2024-07-03T00:00:00.000000000",
          "2024-07-05T00:00:00.000000000",
          "2024-07-08T00:00:00.000000000",
          "2024-07-09T00:00:00.000000000",
          "2024-07-10T00:00:00.000000000",
          "2024-07-11T00:00:00.000000000",
          "2024-07-12T00:00:00.000000000",
          "2024-07-15T00:00:00.000000000",
          "2024-07-16T00:00:00.000000000",
          "2024-07-17T00:00:00.000000000",
          "2024-07-18T00:00:00.000000000",
          "2024-07-19T00:00:00.000000000",
          "2024-07-22T00:00:00.000000000",
          "2024-07-23T00:00:00.000000000",
          "2024-07-24T00:00:00.000000000",
          "2024-07-25T00:00:00.000000000",
          "2024-07-26T00:00:00.000000000",
          "2024-07-29T00:00:00.000000000",
          "2024-07-30T00:00:00.000000000",
          "2024-07-31T00:00:00.000000000",
          "2024-08-01T00:00:00.000000000",
          "2024-08-02T00:00:00.000000000",
          "2024-08-05T00:00:00.000000000",
          "2024-08-06T00:00:00.000000000",
          "2024-08-07T00:00:00.000000000",
          "2024-08-08T00:00:00.000000000",
          "2024-08-09T00:00:00.000000000",
          "2024-08-12T00:00:00.000000000",
          "2024-08-13T00:00:00.000000000",
          "2024-08-14T00:00:00.000000000",
          "2024-08-15T00:00:00.000000000",
          "2024-08-16T00:00:00.000000000",
          "2024-08-19T00:00:00.000000000",
          "2024-08-20T00:00:00.000000000",
          "2024-08-21T00:00:00.000000000",
          "2024-08-22T00:00:00.000000000",
          "2024-08-23T00:00:00.000000000",
          "2024-08-26T00:00:00.000000000",
          "2024-08-27T00:00:00.000000000",
          "2024-08-28T00:00:00.000000000",
          "2024-08-29T00:00:00.000000000",
          "2024-08-30T00:00:00.000000000",
          "2024-09-03T00:00:00.000000000",
          "2024-09-04T00:00:00.000000000",
          "2024-09-05T00:00:00.000000000",
          "2024-09-06T00:00:00.000000000",
          "2024-09-09T00:00:00.000000000",
          "2024-09-10T00:00:00.000000000",
          "2024-09-11T00:00:00.000000000",
          "2024-09-12T00:00:00.000000000",
          "2024-09-13T00:00:00.000000000",
          "2024-09-16T00:00:00.000000000",
          "2024-09-17T00:00:00.000000000",
          "2024-09-18T00:00:00.000000000",
          "2024-09-19T00:00:00.000000000",
          "2024-09-20T00:00:00.000000000",
          "2024-09-23T00:00:00.000000000",
          "2024-09-24T00:00:00.000000000",
          "2024-09-25T00:00:00.000000000",
          "2024-09-26T00:00:00.000000000",
          "2024-09-27T00:00:00.000000000",
          "2024-09-30T00:00:00.000000000",
          "2024-10-01T00:00:00.000000000",
          "2024-10-02T00:00:00.000000000",
          "2024-10-03T00:00:00.000000000",
          "2024-10-04T00:00:00.000000000",
          "2024-10-07T00:00:00.000000000",
          "2024-10-08T00:00:00.000000000",
          "2024-10-09T00:00:00.000000000",
          "2024-10-10T00:00:00.000000000",
          "2024-10-11T00:00:00.000000000",
          "2024-10-14T00:00:00.000000000",
          "2024-10-15T00:00:00.000000000",
          "2024-10-16T00:00:00.000000000",
          "2024-10-17T00:00:00.000000000",
          "2024-10-18T00:00:00.000000000",
          "2024-10-21T00:00:00.000000000",
          "2024-10-22T00:00:00.000000000",
          "2024-10-23T00:00:00.000000000",
          "2024-10-24T00:00:00.000000000",
          "2024-10-25T00:00:00.000000000",
          "2024-10-28T00:00:00.000000000",
          "2024-10-29T00:00:00.000000000",
          "2024-10-30T00:00:00.000000000",
          "2024-10-31T00:00:00.000000000",
          "2024-11-01T00:00:00.000000000",
          "2024-11-04T00:00:00.000000000",
          "2024-11-05T00:00:00.000000000",
          "2024-11-06T00:00:00.000000000",
          "2024-11-07T00:00:00.000000000",
          "2024-11-08T00:00:00.000000000",
          "2024-11-11T00:00:00.000000000",
          "2024-11-12T00:00:00.000000000",
          "2024-11-13T00:00:00.000000000",
          "2024-11-14T00:00:00.000000000",
          "2024-11-15T00:00:00.000000000",
          "2024-11-18T00:00:00.000000000",
          "2024-11-19T00:00:00.000000000",
          "2024-11-20T00:00:00.000000000",
          "2024-11-21T00:00:00.000000000",
          "2024-11-22T00:00:00.000000000",
          "2024-11-25T00:00:00.000000000",
          "2024-11-26T00:00:00.000000000",
          "2024-11-27T00:00:00.000000000",
          "2024-11-29T00:00:00.000000000",
          "2024-12-02T00:00:00.000000000",
          "2024-12-03T00:00:00.000000000",
          "2024-12-04T00:00:00.000000000",
          "2024-12-05T00:00:00.000000000",
          "2024-12-06T00:00:00.000000000",
          "2024-12-09T00:00:00.000000000",
          "2024-12-10T00:00:00.000000000",
          "2024-12-11T00:00:00.000000000",
          "2024-12-12T00:00:00.000000000",
          "2024-12-13T00:00:00.000000000",
          "2024-12-16T00:00:00.000000000",
          "2024-12-17T00:00:00.000000000",
          "2024-12-18T00:00:00.000000000",
          "2024-12-19T00:00:00.000000000",
          "2024-12-20T00:00:00.000000000",
          "2024-12-23T00:00:00.000000000",
          "2024-12-24T00:00:00.000000000",
          "2024-12-26T00:00:00.000000000",
          "2024-12-27T00:00:00.000000000",
          "2024-12-30T00:00:00.000000000",
          "2024-12-31T00:00:00.000000000",
          "2025-01-02T00:00:00.000000000",
          "2025-01-03T00:00:00.000000000",
          "2025-01-06T00:00:00.000000000",
          "2025-01-07T00:00:00.000000000",
          "2025-01-08T00:00:00.000000000",
          "2025-01-10T00:00:00.000000000",
          "2025-01-13T00:00:00.000000000",
          "2025-01-14T00:00:00.000000000",
          "2025-01-15T00:00:00.000000000",
          "2025-01-16T00:00:00.000000000",
          "2025-01-17T00:00:00.000000000",
          "2025-01-21T00:00:00.000000000",
          "2025-01-22T00:00:00.000000000",
          "2025-01-23T00:00:00.000000000",
          "2025-01-24T00:00:00.000000000",
          "2025-01-27T00:00:00.000000000",
          "2025-01-28T00:00:00.000000000"
         ],
         "y": {
          "bdata": "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",
          "dtype": "f8"
         }
        },
        {
         "line": {
          "color": "green"
         },
         "mode": "lines",
         "name": "YMAG Volatility",
         "type": "scatter",
         "x": [
          "2024-03-01T00:00:00.000000000",
          "2024-03-04T00:00:00.000000000",
          "2024-03-05T00:00:00.000000000",
          "2024-03-06T00:00:00.000000000",
          "2024-03-07T00:00:00.000000000",
          "2024-03-08T00:00:00.000000000",
          "2024-03-11T00:00:00.000000000",
          "2024-03-12T00:00:00.000000000",
          "2024-03-13T00:00:00.000000000",
          "2024-03-14T00:00:00.000000000",
          "2024-03-15T00:00:00.000000000",
          "2024-03-18T00:00:00.000000000",
          "2024-03-19T00:00:00.000000000",
          "2024-03-20T00:00:00.000000000",
          "2024-03-21T00:00:00.000000000",
          "2024-03-22T00:00:00.000000000",
          "2024-03-25T00:00:00.000000000",
          "2024-03-26T00:00:00.000000000",
          "2024-03-27T00:00:00.000000000",
          "2024-03-28T00:00:00.000000000",
          "2024-04-01T00:00:00.000000000",
          "2024-04-02T00:00:00.000000000",
          "2024-04-03T00:00:00.000000000",
          "2024-04-04T00:00:00.000000000",
          "2024-04-05T00:00:00.000000000",
          "2024-04-08T00:00:00.000000000",
          "2024-04-09T00:00:00.000000000",
          "2024-04-10T00:00:00.000000000",
          "2024-04-11T00:00:00.000000000",
          "2024-04-12T00:00:00.000000000",
          "2024-04-15T00:00:00.000000000",
          "2024-04-16T00:00:00.000000000",
          "2024-04-17T00:00:00.000000000",
          "2024-04-18T00:00:00.000000000",
          "2024-04-19T00:00:00.000000000",
          "2024-04-22T00:00:00.000000000",
          "2024-04-23T00:00:00.000000000",
          "2024-04-24T00:00:00.000000000",
          "2024-04-25T00:00:00.000000000",
          "2024-04-26T00:00:00.000000000",
          "2024-04-29T00:00:00.000000000",
          "2024-04-30T00:00:00.000000000",
          "2024-05-01T00:00:00.000000000",
          "2024-05-02T00:00:00.000000000",
          "2024-05-03T00:00:00.000000000",
          "2024-05-06T00:00:00.000000000",
          "2024-05-07T00:00:00.000000000",
          "2024-05-08T00:00:00.000000000",
          "2024-05-09T00:00:00.000000000",
          "2024-05-10T00:00:00.000000000",
          "2024-05-13T00:00:00.000000000",
          "2024-05-14T00:00:00.000000000",
          "2024-05-15T00:00:00.000000000",
          "2024-05-16T00:00:00.000000000",
          "2024-05-17T00:00:00.000000000",
          "2024-05-20T00:00:00.000000000",
          "2024-05-21T00:00:00.000000000",
          "2024-05-22T00:00:00.000000000",
          "2024-05-23T00:00:00.000000000",
          "2024-05-24T00:00:00.000000000",
          "2024-05-28T00:00:00.000000000",
          "2024-05-29T00:00:00.000000000",
          "2024-05-30T00:00:00.000000000",
          "2024-05-31T00:00:00.000000000",
          "2024-06-03T00:00:00.000000000",
          "2024-06-04T00:00:00.000000000",
          "2024-06-05T00:00:00.000000000",
          "2024-06-06T00:00:00.000000000",
          "2024-06-07T00:00:00.000000000",
          "2024-06-10T00:00:00.000000000",
          "2024-06-11T00:00:00.000000000",
          "2024-06-12T00:00:00.000000000",
          "2024-06-13T00:00:00.000000000",
          "2024-06-14T00:00:00.000000000",
          "2024-06-17T00:00:00.000000000",
          "2024-06-18T00:00:00.000000000",
          "2024-06-20T00:00:00.000000000",
          "2024-06-21T00:00:00.000000000",
          "2024-06-24T00:00:00.000000000",
          "2024-06-25T00:00:00.000000000",
          "2024-06-26T00:00:00.000000000",
          "2024-06-27T00:00:00.000000000",
          "2024-06-28T00:00:00.000000000",
          "2024-07-01T00:00:00.000000000",
          "2024-07-02T00:00:00.000000000",
          "2024-07-03T00:00:00.000000000",
          "2024-07-05T00:00:00.000000000",
          "2024-07-08T00:00:00.000000000",
          "2024-07-09T00:00:00.000000000",
          "2024-07-10T00:00:00.000000000",
          "2024-07-11T00:00:00.000000000",
          "2024-07-12T00:00:00.000000000",
          "2024-07-15T00:00:00.000000000",
          "2024-07-16T00:00:00.000000000",
          "2024-07-17T00:00:00.000000000",
          "2024-07-18T00:00:00.000000000",
          "2024-07-19T00:00:00.000000000",
          "2024-07-22T00:00:00.000000000",
          "2024-07-23T00:00:00.000000000",
          "2024-07-24T00:00:00.000000000",
          "2024-07-25T00:00:00.000000000",
          "2024-07-26T00:00:00.000000000",
          "2024-07-29T00:00:00.000000000",
          "2024-07-30T00:00:00.000000000",
          "2024-07-31T00:00:00.000000000",
          "2024-08-01T00:00:00.000000000",
          "2024-08-02T00:00:00.000000000",
          "2024-08-05T00:00:00.000000000",
          "2024-08-06T00:00:00.000000000",
          "2024-08-07T00:00:00.000000000",
          "2024-08-08T00:00:00.000000000",
          "2024-08-09T00:00:00.000000000",
          "2024-08-12T00:00:00.000000000",
          "2024-08-13T00:00:00.000000000",
          "2024-08-14T00:00:00.000000000",
          "2024-08-15T00:00:00.000000000",
          "2024-08-16T00:00:00.000000000",
          "2024-08-19T00:00:00.000000000",
          "2024-08-20T00:00:00.000000000",
          "2024-08-21T00:00:00.000000000",
          "2024-08-22T00:00:00.000000000",
          "2024-08-23T00:00:00.000000000",
          "2024-08-26T00:00:00.000000000",
          "2024-08-27T00:00:00.000000000",
          "2024-08-28T00:00:00.000000000",
          "2024-08-29T00:00:00.000000000",
          "2024-08-30T00:00:00.000000000",
          "2024-09-03T00:00:00.000000000",
          "2024-09-04T00:00:00.000000000",
          "2024-09-05T00:00:00.000000000",
          "2024-09-06T00:00:00.000000000",
          "2024-09-09T00:00:00.000000000",
          "2024-09-10T00:00:00.000000000",
          "2024-09-11T00:00:00.000000000",
          "2024-09-12T00:00:00.000000000",
          "2024-09-13T00:00:00.000000000",
          "2024-09-16T00:00:00.000000000",
          "2024-09-17T00:00:00.000000000",
          "2024-09-18T00:00:00.000000000",
          "2024-09-19T00:00:00.000000000",
          "2024-09-20T00:00:00.000000000",
          "2024-09-23T00:00:00.000000000",
          "2024-09-24T00:00:00.000000000",
          "2024-09-25T00:00:00.000000000",
          "2024-09-26T00:00:00.000000000",
          "2024-09-27T00:00:00.000000000",
          "2024-09-30T00:00:00.000000000",
          "2024-10-01T00:00:00.000000000",
          "2024-10-02T00:00:00.000000000",
          "2024-10-03T00:00:00.000000000",
          "2024-10-04T00:00:00.000000000",
          "2024-10-07T00:00:00.000000000",
          "2024-10-08T00:00:00.000000000",
          "2024-10-09T00:00:00.000000000",
          "2024-10-10T00:00:00.000000000",
          "2024-10-11T00:00:00.000000000",
          "2024-10-14T00:00:00.000000000",
          "2024-10-15T00:00:00.000000000",
          "2024-10-16T00:00:00.000000000",
          "2024-10-17T00:00:00.000000000",
          "2024-10-18T00:00:00.000000000",
          "2024-10-21T00:00:00.000000000",
          "2024-10-22T00:00:00.000000000",
          "2024-10-23T00:00:00.000000000",
          "2024-10-24T00:00:00.000000000",
          "2024-10-25T00:00:00.000000000",
          "2024-10-28T00:00:00.000000000",
          "2024-10-29T00:00:00.000000000",
          "2024-10-30T00:00:00.000000000",
          "2024-10-31T00:00:00.000000000",
          "2024-11-01T00:00:00.000000000",
          "2024-11-04T00:00:00.000000000",
          "2024-11-05T00:00:00.000000000",
          "2024-11-06T00:00:00.000000000",
          "2024-11-07T00:00:00.000000000",
          "2024-11-08T00:00:00.000000000",
          "2024-11-11T00:00:00.000000000",
          "2024-11-12T00:00:00.000000000",
          "2024-11-13T00:00:00.000000000",
          "2024-11-14T00:00:00.000000000",
          "2024-11-15T00:00:00.000000000",
          "2024-11-18T00:00:00.000000000",
          "2024-11-19T00:00:00.000000000",
          "2024-11-20T00:00:00.000000000",
          "2024-11-21T00:00:00.000000000",
          "2024-11-22T00:00:00.000000000",
          "2024-11-25T00:00:00.000000000",
          "2024-11-26T00:00:00.000000000",
          "2024-11-27T00:00:00.000000000",
          "2024-11-29T00:00:00.000000000",
          "2024-12-02T00:00:00.000000000",
          "2024-12-03T00:00:00.000000000",
          "2024-12-04T00:00:00.000000000",
          "2024-12-05T00:00:00.000000000",
          "2024-12-06T00:00:00.000000000",
          "2024-12-09T00:00:00.000000000",
          "2024-12-10T00:00:00.000000000",
          "2024-12-11T00:00:00.000000000",
          "2024-12-12T00:00:00.000000000",
          "2024-12-13T00:00:00.000000000",
          "2024-12-16T00:00:00.000000000",
          "2024-12-17T00:00:00.000000000",
          "2024-12-18T00:00:00.000000000",
          "2024-12-19T00:00:00.000000000",
          "2024-12-20T00:00:00.000000000",
          "2024-12-23T00:00:00.000000000",
          "2024-12-24T00:00:00.000000000",
          "2024-12-26T00:00:00.000000000",
          "2024-12-27T00:00:00.000000000",
          "2024-12-30T00:00:00.000000000",
          "2024-12-31T00:00:00.000000000",
          "2025-01-02T00:00:00.000000000",
          "2025-01-03T00:00:00.000000000",
          "2025-01-06T00:00:00.000000000",
          "2025-01-07T00:00:00.000000000",
          "2025-01-08T00:00:00.000000000",
          "2025-01-10T00:00:00.000000000",
          "2025-01-13T00:00:00.000000000",
          "2025-01-14T00:00:00.000000000",
          "2025-01-15T00:00:00.000000000",
          "2025-01-16T00:00:00.000000000",
          "2025-01-17T00:00:00.000000000",
          "2025-01-21T00:00:00.000000000",
          "2025-01-22T00:00:00.000000000",
          "2025-01-23T00:00:00.000000000",
          "2025-01-24T00:00:00.000000000",
          "2025-01-27T00:00:00.000000000",
          "2025-01-28T00:00:00.000000000"
         ],
         "y": {
          "bdata": "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",
          "dtype": "f8"
         }
        },
        {
         "line": {
          "color": "red"
         },
         "mode": "lines",
         "name": "VIX Volatility",
         "type": "scatter",
         "x": [
          "2024-03-01T00:00:00.000000000",
          "2024-03-04T00:00:00.000000000",
          "2024-03-05T00:00:00.000000000",
          "2024-03-06T00:00:00.000000000",
          "2024-03-07T00:00:00.000000000",
          "2024-03-08T00:00:00.000000000",
          "2024-03-11T00:00:00.000000000",
          "2024-03-12T00:00:00.000000000",
          "2024-03-13T00:00:00.000000000",
          "2024-03-14T00:00:00.000000000",
          "2024-03-15T00:00:00.000000000",
          "2024-03-18T00:00:00.000000000",
          "2024-03-19T00:00:00.000000000",
          "2024-03-20T00:00:00.000000000",
          "2024-03-21T00:00:00.000000000",
          "2024-03-22T00:00:00.000000000",
          "2024-03-25T00:00:00.000000000",
          "2024-03-26T00:00:00.000000000",
          "2024-03-27T00:00:00.000000000",
          "2024-03-28T00:00:00.000000000",
          "2024-04-01T00:00:00.000000000",
          "2024-04-02T00:00:00.000000000",
          "2024-04-03T00:00:00.000000000",
          "2024-04-04T00:00:00.000000000",
          "2024-04-05T00:00:00.000000000",
          "2024-04-08T00:00:00.000000000",
          "2024-04-09T00:00:00.000000000",
          "2024-04-10T00:00:00.000000000",
          "2024-04-11T00:00:00.000000000",
          "2024-04-12T00:00:00.000000000",
          "2024-04-15T00:00:00.000000000",
          "2024-04-16T00:00:00.000000000",
          "2024-04-17T00:00:00.000000000",
          "2024-04-18T00:00:00.000000000",
          "2024-04-19T00:00:00.000000000",
          "2024-04-22T00:00:00.000000000",
          "2024-04-23T00:00:00.000000000",
          "2024-04-24T00:00:00.000000000",
          "2024-04-25T00:00:00.000000000",
          "2024-04-26T00:00:00.000000000",
          "2024-04-29T00:00:00.000000000",
          "2024-04-30T00:00:00.000000000",
          "2024-05-01T00:00:00.000000000",
          "2024-05-02T00:00:00.000000000",
          "2024-05-03T00:00:00.000000000",
          "2024-05-06T00:00:00.000000000",
          "2024-05-07T00:00:00.000000000",
          "2024-05-08T00:00:00.000000000",
          "2024-05-09T00:00:00.000000000",
          "2024-05-10T00:00:00.000000000",
          "2024-05-13T00:00:00.000000000",
          "2024-05-14T00:00:00.000000000",
          "2024-05-15T00:00:00.000000000",
          "2024-05-16T00:00:00.000000000",
          "2024-05-17T00:00:00.000000000",
          "2024-05-20T00:00:00.000000000",
          "2024-05-21T00:00:00.000000000",
          "2024-05-22T00:00:00.000000000",
          "2024-05-23T00:00:00.000000000",
          "2024-05-24T00:00:00.000000000",
          "2024-05-28T00:00:00.000000000",
          "2024-05-29T00:00:00.000000000",
          "2024-05-30T00:00:00.000000000",
          "2024-05-31T00:00:00.000000000",
          "2024-06-03T00:00:00.000000000",
          "2024-06-04T00:00:00.000000000",
          "2024-06-05T00:00:00.000000000",
          "2024-06-06T00:00:00.000000000",
          "2024-06-07T00:00:00.000000000",
          "2024-06-10T00:00:00.000000000",
          "2024-06-11T00:00:00.000000000",
          "2024-06-12T00:00:00.000000000",
          "2024-06-13T00:00:00.000000000",
          "2024-06-14T00:00:00.000000000",
          "2024-06-17T00:00:00.000000000",
          "2024-06-18T00:00:00.000000000",
          "2024-06-20T00:00:00.000000000",
          "2024-06-21T00:00:00.000000000",
          "2024-06-24T00:00:00.000000000",
          "2024-06-25T00:00:00.000000000",
          "2024-06-26T00:00:00.000000000",
          "2024-06-27T00:00:00.000000000",
          "2024-06-28T00:00:00.000000000",
          "2024-07-01T00:00:00.000000000",
          "2024-07-02T00:00:00.000000000",
          "2024-07-03T00:00:00.000000000",
          "2024-07-05T00:00:00.000000000",
          "2024-07-08T00:00:00.000000000",
          "2024-07-09T00:00:00.000000000",
          "2024-07-10T00:00:00.000000000",
          "2024-07-11T00:00:00.000000000",
          "2024-07-12T00:00:00.000000000",
          "2024-07-15T00:00:00.000000000",
          "2024-07-16T00:00:00.000000000",
          "2024-07-17T00:00:00.000000000",
          "2024-07-18T00:00:00.000000000",
          "2024-07-19T00:00:00.000000000",
          "2024-07-22T00:00:00.000000000",
          "2024-07-23T00:00:00.000000000",
          "2024-07-24T00:00:00.000000000",
          "2024-07-25T00:00:00.000000000",
          "2024-07-26T00:00:00.000000000",
          "2024-07-29T00:00:00.000000000",
          "2024-07-30T00:00:00.000000000",
          "2024-07-31T00:00:00.000000000",
          "2024-08-01T00:00:00.000000000",
          "2024-08-02T00:00:00.000000000",
          "2024-08-05T00:00:00.000000000",
          "2024-08-06T00:00:00.000000000",
          "2024-08-07T00:00:00.000000000",
          "2024-08-08T00:00:00.000000000",
          "2024-08-09T00:00:00.000000000",
          "2024-08-12T00:00:00.000000000",
          "2024-08-13T00:00:00.000000000",
          "2024-08-14T00:00:00.000000000",
          "2024-08-15T00:00:00.000000000",
          "2024-08-16T00:00:00.000000000",
          "2024-08-19T00:00:00.000000000",
          "2024-08-20T00:00:00.000000000",
          "2024-08-21T00:00:00.000000000",
          "2024-08-22T00:00:00.000000000",
          "2024-08-23T00:00:00.000000000",
          "2024-08-26T00:00:00.000000000",
          "2024-08-27T00:00:00.000000000",
          "2024-08-28T00:00:00.000000000",
          "2024-08-29T00:00:00.000000000",
          "2024-08-30T00:00:00.000000000",
          "2024-09-03T00:00:00.000000000",
          "2024-09-04T00:00:00.000000000",
          "2024-09-05T00:00:00.000000000",
          "2024-09-06T00:00:00.000000000",
          "2024-09-09T00:00:00.000000000",
          "2024-09-10T00:00:00.000000000",
          "2024-09-11T00:00:00.000000000",
          "2024-09-12T00:00:00.000000000",
          "2024-09-13T00:00:00.000000000",
          "2024-09-16T00:00:00.000000000",
          "2024-09-17T00:00:00.000000000",
          "2024-09-18T00:00:00.000000000",
          "2024-09-19T00:00:00.000000000",
          "2024-09-20T00:00:00.000000000",
          "2024-09-23T00:00:00.000000000",
          "2024-09-24T00:00:00.000000000",
          "2024-09-25T00:00:00.000000000",
          "2024-09-26T00:00:00.000000000",
          "2024-09-27T00:00:00.000000000",
          "2024-09-30T00:00:00.000000000",
          "2024-10-01T00:00:00.000000000",
          "2024-10-02T00:00:00.000000000",
          "2024-10-03T00:00:00.000000000",
          "2024-10-04T00:00:00.000000000",
          "2024-10-07T00:00:00.000000000",
          "2024-10-08T00:00:00.000000000",
          "2024-10-09T00:00:00.000000000",
          "2024-10-10T00:00:00.000000000",
          "2024-10-11T00:00:00.000000000",
          "2024-10-14T00:00:00.000000000",
          "2024-10-15T00:00:00.000000000",
          "2024-10-16T00:00:00.000000000",
          "2024-10-17T00:00:00.000000000",
          "2024-10-18T00:00:00.000000000",
          "2024-10-21T00:00:00.000000000",
          "2024-10-22T00:00:00.000000000",
          "2024-10-23T00:00:00.000000000",
          "2024-10-24T00:00:00.000000000",
          "2024-10-25T00:00:00.000000000",
          "2024-10-28T00:00:00.000000000",
          "2024-10-29T00:00:00.000000000",
          "2024-10-30T00:00:00.000000000",
          "2024-10-31T00:00:00.000000000",
          "2024-11-01T00:00:00.000000000",
          "2024-11-04T00:00:00.000000000",
          "2024-11-05T00:00:00.000000000",
          "2024-11-06T00:00:00.000000000",
          "2024-11-07T00:00:00.000000000",
          "2024-11-08T00:00:00.000000000",
          "2024-11-11T00:00:00.000000000",
          "2024-11-12T00:00:00.000000000",
          "2024-11-13T00:00:00.000000000",
          "2024-11-14T00:00:00.000000000",
          "2024-11-15T00:00:00.000000000",
          "2024-11-18T00:00:00.000000000",
          "2024-11-19T00:00:00.000000000",
          "2024-11-20T00:00:00.000000000",
          "2024-11-21T00:00:00.000000000",
          "2024-11-22T00:00:00.000000000",
          "2024-11-25T00:00:00.000000000",
          "2024-11-26T00:00:00.000000000",
          "2024-11-27T00:00:00.000000000",
          "2024-11-29T00:00:00.000000000",
          "2024-12-02T00:00:00.000000000",
          "2024-12-03T00:00:00.000000000",
          "2024-12-04T00:00:00.000000000",
          "2024-12-05T00:00:00.000000000",
          "2024-12-06T00:00:00.000000000",
          "2024-12-09T00:00:00.000000000",
          "2024-12-10T00:00:00.000000000",
          "2024-12-11T00:00:00.000000000",
          "2024-12-12T00:00:00.000000000",
          "2024-12-13T00:00:00.000000000",
          "2024-12-16T00:00:00.000000000",
          "2024-12-17T00:00:00.000000000",
          "2024-12-18T00:00:00.000000000",
          "2024-12-19T00:00:00.000000000",
          "2024-12-20T00:00:00.000000000",
          "2024-12-23T00:00:00.000000000",
          "2024-12-24T00:00:00.000000000",
          "2024-12-26T00:00:00.000000000",
          "2024-12-27T00:00:00.000000000",
          "2024-12-30T00:00:00.000000000",
          "2024-12-31T00:00:00.000000000",
          "2025-01-02T00:00:00.000000000",
          "2025-01-03T00:00:00.000000000",
          "2025-01-06T00:00:00.000000000",
          "2025-01-07T00:00:00.000000000",
          "2025-01-08T00:00:00.000000000",
          "2025-01-10T00:00:00.000000000",
          "2025-01-13T00:00:00.000000000",
          "2025-01-14T00:00:00.000000000",
          "2025-01-15T00:00:00.000000000",
          "2025-01-16T00:00:00.000000000",
          "2025-01-17T00:00:00.000000000",
          "2025-01-21T00:00:00.000000000",
          "2025-01-22T00:00:00.000000000",
          "2025-01-23T00:00:00.000000000",
          "2025-01-24T00:00:00.000000000",
          "2025-01-27T00:00:00.000000000",
          "2025-01-28T00:00:00.000000000"
         ],
         "y": {
          "bdata": "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",
          "dtype": "f8"
         }
        },
        {
         "line": {
          "color": "purple"
         },
         "mode": "lines",
         "name": "VVIX Volatility",
         "type": "scatter",
         "x": [
          "2024-03-01T00:00:00.000000000",
          "2024-03-04T00:00:00.000000000",
          "2024-03-05T00:00:00.000000000",
          "2024-03-06T00:00:00.000000000",
          "2024-03-07T00:00:00.000000000",
          "2024-03-08T00:00:00.000000000",
          "2024-03-11T00:00:00.000000000",
          "2024-03-12T00:00:00.000000000",
          "2024-03-13T00:00:00.000000000",
          "2024-03-14T00:00:00.000000000",
          "2024-03-15T00:00:00.000000000",
          "2024-03-18T00:00:00.000000000",
          "2024-03-19T00:00:00.000000000",
          "2024-03-20T00:00:00.000000000",
          "2024-03-21T00:00:00.000000000",
          "2024-03-22T00:00:00.000000000",
          "2024-03-25T00:00:00.000000000",
          "2024-03-26T00:00:00.000000000",
          "2024-03-27T00:00:00.000000000",
          "2024-03-28T00:00:00.000000000",
          "2024-04-01T00:00:00.000000000",
          "2024-04-02T00:00:00.000000000",
          "2024-04-03T00:00:00.000000000",
          "2024-04-04T00:00:00.000000000",
          "2024-04-05T00:00:00.000000000",
          "2024-04-08T00:00:00.000000000",
          "2024-04-09T00:00:00.000000000",
          "2024-04-10T00:00:00.000000000",
          "2024-04-11T00:00:00.000000000",
          "2024-04-12T00:00:00.000000000",
          "2024-04-15T00:00:00.000000000",
          "2024-04-16T00:00:00.000000000",
          "2024-04-17T00:00:00.000000000",
          "2024-04-18T00:00:00.000000000",
          "2024-04-19T00:00:00.000000000",
          "2024-04-22T00:00:00.000000000",
          "2024-04-23T00:00:00.000000000",
          "2024-04-24T00:00:00.000000000",
          "2024-04-25T00:00:00.000000000",
          "2024-04-26T00:00:00.000000000",
          "2024-04-29T00:00:00.000000000",
          "2024-04-30T00:00:00.000000000",
          "2024-05-01T00:00:00.000000000",
          "2024-05-02T00:00:00.000000000",
          "2024-05-03T00:00:00.000000000",
          "2024-05-06T00:00:00.000000000",
          "2024-05-07T00:00:00.000000000",
          "2024-05-08T00:00:00.000000000",
          "2024-05-09T00:00:00.000000000",
          "2024-05-10T00:00:00.000000000",
          "2024-05-13T00:00:00.000000000",
          "2024-05-14T00:00:00.000000000",
          "2024-05-15T00:00:00.000000000",
          "2024-05-16T00:00:00.000000000",
          "2024-05-17T00:00:00.000000000",
          "2024-05-20T00:00:00.000000000",
          "2024-05-21T00:00:00.000000000",
          "2024-05-22T00:00:00.000000000",
          "2024-05-23T00:00:00.000000000",
          "2024-05-24T00:00:00.000000000",
          "2024-05-28T00:00:00.000000000",
          "2024-05-29T00:00:00.000000000",
          "2024-05-30T00:00:00.000000000",
          "2024-05-31T00:00:00.000000000",
          "2024-06-03T00:00:00.000000000",
          "2024-06-04T00:00:00.000000000",
          "2024-06-05T00:00:00.000000000",
          "2024-06-06T00:00:00.000000000",
          "2024-06-07T00:00:00.000000000",
          "2024-06-10T00:00:00.000000000",
          "2024-06-11T00:00:00.000000000",
          "2024-06-12T00:00:00.000000000",
          "2024-06-13T00:00:00.000000000",
          "2024-06-14T00:00:00.000000000",
          "2024-06-17T00:00:00.000000000",
          "2024-06-18T00:00:00.000000000",
          "2024-06-20T00:00:00.000000000",
          "2024-06-21T00:00:00.000000000",
          "2024-06-24T00:00:00.000000000",
          "2024-06-25T00:00:00.000000000",
          "2024-06-26T00:00:00.000000000",
          "2024-06-27T00:00:00.000000000",
          "2024-06-28T00:00:00.000000000",
          "2024-07-01T00:00:00.000000000",
          "2024-07-02T00:00:00.000000000",
          "2024-07-03T00:00:00.000000000",
          "2024-07-05T00:00:00.000000000",
          "2024-07-08T00:00:00.000000000",
          "2024-07-09T00:00:00.000000000",
          "2024-07-10T00:00:00.000000000",
          "2024-07-11T00:00:00.000000000",
          "2024-07-12T00:00:00.000000000",
          "2024-07-15T00:00:00.000000000",
          "2024-07-16T00:00:00.000000000",
          "2024-07-17T00:00:00.000000000",
          "2024-07-18T00:00:00.000000000",
          "2024-07-19T00:00:00.000000000",
          "2024-07-22T00:00:00.000000000",
          "2024-07-23T00:00:00.000000000",
          "2024-07-24T00:00:00.000000000",
          "2024-07-25T00:00:00.000000000",
          "2024-07-26T00:00:00.000000000",
          "2024-07-29T00:00:00.000000000",
          "2024-07-30T00:00:00.000000000",
          "2024-07-31T00:00:00.000000000",
          "2024-08-01T00:00:00.000000000",
          "2024-08-02T00:00:00.000000000",
          "2024-08-05T00:00:00.000000000",
          "2024-08-06T00:00:00.000000000",
          "2024-08-07T00:00:00.000000000",
          "2024-08-08T00:00:00.000000000",
          "2024-08-09T00:00:00.000000000",
          "2024-08-12T00:00:00.000000000",
          "2024-08-13T00:00:00.000000000",
          "2024-08-14T00:00:00.000000000",
          "2024-08-15T00:00:00.000000000",
          "2024-08-16T00:00:00.000000000",
          "2024-08-19T00:00:00.000000000",
          "2024-08-20T00:00:00.000000000",
          "2024-08-21T00:00:00.000000000",
          "2024-08-22T00:00:00.000000000",
          "2024-08-23T00:00:00.000000000",
          "2024-08-26T00:00:00.000000000",
          "2024-08-27T00:00:00.000000000",
          "2024-08-28T00:00:00.000000000",
          "2024-08-29T00:00:00.000000000",
          "2024-08-30T00:00:00.000000000",
          "2024-09-03T00:00:00.000000000",
          "2024-09-04T00:00:00.000000000",
          "2024-09-05T00:00:00.000000000",
          "2024-09-06T00:00:00.000000000",
          "2024-09-09T00:00:00.000000000",
          "2024-09-10T00:00:00.000000000",
          "2024-09-11T00:00:00.000000000",
          "2024-09-12T00:00:00.000000000",
          "2024-09-13T00:00:00.000000000",
          "2024-09-16T00:00:00.000000000",
          "2024-09-17T00:00:00.000000000",
          "2024-09-18T00:00:00.000000000",
          "2024-09-19T00:00:00.000000000",
          "2024-09-20T00:00:00.000000000",
          "2024-09-23T00:00:00.000000000",
          "2024-09-24T00:00:00.000000000",
          "2024-09-25T00:00:00.000000000",
          "2024-09-26T00:00:00.000000000",
          "2024-09-27T00:00:00.000000000",
          "2024-09-30T00:00:00.000000000",
          "2024-10-01T00:00:00.000000000",
          "2024-10-02T00:00:00.000000000",
          "2024-10-03T00:00:00.000000000",
          "2024-10-04T00:00:00.000000000",
          "2024-10-07T00:00:00.000000000",
          "2024-10-08T00:00:00.000000000",
          "2024-10-09T00:00:00.000000000",
          "2024-10-10T00:00:00.000000000",
          "2024-10-11T00:00:00.000000000",
          "2024-10-14T00:00:00.000000000",
          "2024-10-15T00:00:00.000000000",
          "2024-10-16T00:00:00.000000000",
          "2024-10-17T00:00:00.000000000",
          "2024-10-18T00:00:00.000000000",
          "2024-10-21T00:00:00.000000000",
          "2024-10-22T00:00:00.000000000",
          "2024-10-23T00:00:00.000000000",
          "2024-10-24T00:00:00.000000000",
          "2024-10-25T00:00:00.000000000",
          "2024-10-28T00:00:00.000000000",
          "2024-10-29T00:00:00.000000000",
          "2024-10-30T00:00:00.000000000",
          "2024-10-31T00:00:00.000000000",
          "2024-11-01T00:00:00.000000000",
          "2024-11-04T00:00:00.000000000",
          "2024-11-05T00:00:00.000000000",
          "2024-11-06T00:00:00.000000000",
          "2024-11-07T00:00:00.000000000",
          "2024-11-08T00:00:00.000000000",
          "2024-11-11T00:00:00.000000000",
          "2024-11-12T00:00:00.000000000",
          "2024-11-13T00:00:00.000000000",
          "2024-11-14T00:00:00.000000000",
          "2024-11-15T00:00:00.000000000",
          "2024-11-18T00:00:00.000000000",
          "2024-11-19T00:00:00.000000000",
          "2024-11-20T00:00:00.000000000",
          "2024-11-21T00:00:00.000000000",
          "2024-11-22T00:00:00.000000000",
          "2024-11-25T00:00:00.000000000",
          "2024-11-26T00:00:00.000000000",
          "2024-11-27T00:00:00.000000000",
          "2024-11-29T00:00:00.000000000",
          "2024-12-02T00:00:00.000000000",
          "2024-12-03T00:00:00.000000000",
          "2024-12-04T00:00:00.000000000",
          "2024-12-05T00:00:00.000000000",
          "2024-12-06T00:00:00.000000000",
          "2024-12-09T00:00:00.000000000",
          "2024-12-10T00:00:00.000000000",
          "2024-12-11T00:00:00.000000000",
          "2024-12-12T00:00:00.000000000",
          "2024-12-13T00:00:00.000000000",
          "2024-12-16T00:00:00.000000000",
          "2024-12-17T00:00:00.000000000",
          "2024-12-18T00:00:00.000000000",
          "2024-12-19T00:00:00.000000000",
          "2024-12-20T00:00:00.000000000",
          "2024-12-23T00:00:00.000000000",
          "2024-12-24T00:00:00.000000000",
          "2024-12-26T00:00:00.000000000",
          "2024-12-27T00:00:00.000000000",
          "2024-12-30T00:00:00.000000000",
          "2024-12-31T00:00:00.000000000",
          "2025-01-02T00:00:00.000000000",
          "2025-01-03T00:00:00.000000000",
          "2025-01-06T00:00:00.000000000",
          "2025-01-07T00:00:00.000000000",
          "2025-01-08T00:00:00.000000000",
          "2025-01-10T00:00:00.000000000",
          "2025-01-13T00:00:00.000000000",
          "2025-01-14T00:00:00.000000000",
          "2025-01-15T00:00:00.000000000",
          "2025-01-16T00:00:00.000000000",
          "2025-01-17T00:00:00.000000000",
          "2025-01-21T00:00:00.000000000",
          "2025-01-22T00:00:00.000000000",
          "2025-01-23T00:00:00.000000000",
          "2025-01-24T00:00:00.000000000",
          "2025-01-27T00:00:00.000000000",
          "2025-01-28T00:00:00.000000000"
         ],
         "y": {
          "bdata": "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",
          "dtype": "f8"
         }
        },
        {
         "line": {
          "color": "orange"
         },
         "mode": "lines",
         "name": "QQQ Volatility",
         "type": "scatter",
         "x": [
          "2024-03-01T00:00:00.000000000",
          "2024-03-04T00:00:00.000000000",
          "2024-03-05T00:00:00.000000000",
          "2024-03-06T00:00:00.000000000",
          "2024-03-07T00:00:00.000000000",
          "2024-03-08T00:00:00.000000000",
          "2024-03-11T00:00:00.000000000",
          "2024-03-12T00:00:00.000000000",
          "2024-03-13T00:00:00.000000000",
          "2024-03-14T00:00:00.000000000",
          "2024-03-15T00:00:00.000000000",
          "2024-03-18T00:00:00.000000000",
          "2024-03-19T00:00:00.000000000",
          "2024-03-20T00:00:00.000000000",
          "2024-03-21T00:00:00.000000000",
          "2024-03-22T00:00:00.000000000",
          "2024-03-25T00:00:00.000000000",
          "2024-03-26T00:00:00.000000000",
          "2024-03-27T00:00:00.000000000",
          "2024-03-28T00:00:00.000000000",
          "2024-04-01T00:00:00.000000000",
          "2024-04-02T00:00:00.000000000",
          "2024-04-03T00:00:00.000000000",
          "2024-04-04T00:00:00.000000000",
          "2024-04-05T00:00:00.000000000",
          "2024-04-08T00:00:00.000000000",
          "2024-04-09T00:00:00.000000000",
          "2024-04-10T00:00:00.000000000",
          "2024-04-11T00:00:00.000000000",
          "2024-04-12T00:00:00.000000000",
          "2024-04-15T00:00:00.000000000",
          "2024-04-16T00:00:00.000000000",
          "2024-04-17T00:00:00.000000000",
          "2024-04-18T00:00:00.000000000",
          "2024-04-19T00:00:00.000000000",
          "2024-04-22T00:00:00.000000000",
          "2024-04-23T00:00:00.000000000",
          "2024-04-24T00:00:00.000000000",
          "2024-04-25T00:00:00.000000000",
          "2024-04-26T00:00:00.000000000",
          "2024-04-29T00:00:00.000000000",
          "2024-04-30T00:00:00.000000000",
          "2024-05-01T00:00:00.000000000",
          "2024-05-02T00:00:00.000000000",
          "2024-05-03T00:00:00.000000000",
          "2024-05-06T00:00:00.000000000",
          "2024-05-07T00:00:00.000000000",
          "2024-05-08T00:00:00.000000000",
          "2024-05-09T00:00:00.000000000",
          "2024-05-10T00:00:00.000000000",
          "2024-05-13T00:00:00.000000000",
          "2024-05-14T00:00:00.000000000",
          "2024-05-15T00:00:00.000000000",
          "2024-05-16T00:00:00.000000000",
          "2024-05-17T00:00:00.000000000",
          "2024-05-20T00:00:00.000000000",
          "2024-05-21T00:00:00.000000000",
          "2024-05-22T00:00:00.000000000",
          "2024-05-23T00:00:00.000000000",
          "2024-05-24T00:00:00.000000000",
          "2024-05-28T00:00:00.000000000",
          "2024-05-29T00:00:00.000000000",
          "2024-05-30T00:00:00.000000000",
          "2024-05-31T00:00:00.000000000",
          "2024-06-03T00:00:00.000000000",
          "2024-06-04T00:00:00.000000000",
          "2024-06-05T00:00:00.000000000",
          "2024-06-06T00:00:00.000000000",
          "2024-06-07T00:00:00.000000000",
          "2024-06-10T00:00:00.000000000",
          "2024-06-11T00:00:00.000000000",
          "2024-06-12T00:00:00.000000000",
          "2024-06-13T00:00:00.000000000",
          "2024-06-14T00:00:00.000000000",
          "2024-06-17T00:00:00.000000000",
          "2024-06-18T00:00:00.000000000",
          "2024-06-20T00:00:00.000000000",
          "2024-06-21T00:00:00.000000000",
          "2024-06-24T00:00:00.000000000",
          "2024-06-25T00:00:00.000000000",
          "2024-06-26T00:00:00.000000000",
          "2024-06-27T00:00:00.000000000",
          "2024-06-28T00:00:00.000000000",
          "2024-07-01T00:00:00.000000000",
          "2024-07-02T00:00:00.000000000",
          "2024-07-03T00:00:00.000000000",
          "2024-07-05T00:00:00.000000000",
          "2024-07-08T00:00:00.000000000",
          "2024-07-09T00:00:00.000000000",
          "2024-07-10T00:00:00.000000000",
          "2024-07-11T00:00:00.000000000",
          "2024-07-12T00:00:00.000000000",
          "2024-07-15T00:00:00.000000000",
          "2024-07-16T00:00:00.000000000",
          "2024-07-17T00:00:00.000000000",
          "2024-07-18T00:00:00.000000000",
          "2024-07-19T00:00:00.000000000",
          "2024-07-22T00:00:00.000000000",
          "2024-07-23T00:00:00.000000000",
          "2024-07-24T00:00:00.000000000",
          "2024-07-25T00:00:00.000000000",
          "2024-07-26T00:00:00.000000000",
          "2024-07-29T00:00:00.000000000",
          "2024-07-30T00:00:00.000000000",
          "2024-07-31T00:00:00.000000000",
          "2024-08-01T00:00:00.000000000",
          "2024-08-02T00:00:00.000000000",
          "2024-08-05T00:00:00.000000000",
          "2024-08-06T00:00:00.000000000",
          "2024-08-07T00:00:00.000000000",
          "2024-08-08T00:00:00.000000000",
          "2024-08-09T00:00:00.000000000",
          "2024-08-12T00:00:00.000000000",
          "2024-08-13T00:00:00.000000000",
          "2024-08-14T00:00:00.000000000",
          "2024-08-15T00:00:00.000000000",
          "2024-08-16T00:00:00.000000000",
          "2024-08-19T00:00:00.000000000",
          "2024-08-20T00:00:00.000000000",
          "2024-08-21T00:00:00.000000000",
          "2024-08-22T00:00:00.000000000",
          "2024-08-23T00:00:00.000000000",
          "2024-08-26T00:00:00.000000000",
          "2024-08-27T00:00:00.000000000",
          "2024-08-28T00:00:00.000000000",
          "2024-08-29T00:00:00.000000000",
          "2024-08-30T00:00:00.000000000",
          "2024-09-03T00:00:00.000000000",
          "2024-09-04T00:00:00.000000000",
          "2024-09-05T00:00:00.000000000",
          "2024-09-06T00:00:00.000000000",
          "2024-09-09T00:00:00.000000000",
          "2024-09-10T00:00:00.000000000",
          "2024-09-11T00:00:00.000000000",
          "2024-09-12T00:00:00.000000000",
          "2024-09-13T00:00:00.000000000",
          "2024-09-16T00:00:00.000000000",
          "2024-09-17T00:00:00.000000000",
          "2024-09-18T00:00:00.000000000",
          "2024-09-19T00:00:00.000000000",
          "2024-09-20T00:00:00.000000000",
          "2024-09-23T00:00:00.000000000",
          "2024-09-24T00:00:00.000000000",
          "2024-09-25T00:00:00.000000000",
          "2024-09-26T00:00:00.000000000",
          "2024-09-27T00:00:00.000000000",
          "2024-09-30T00:00:00.000000000",
          "2024-10-01T00:00:00.000000000",
          "2024-10-02T00:00:00.000000000",
          "2024-10-03T00:00:00.000000000",
          "2024-10-04T00:00:00.000000000",
          "2024-10-07T00:00:00.000000000",
          "2024-10-08T00:00:00.000000000",
          "2024-10-09T00:00:00.000000000",
          "2024-10-10T00:00:00.000000000",
          "2024-10-11T00:00:00.000000000",
          "2024-10-14T00:00:00.000000000",
          "2024-10-15T00:00:00.000000000",
          "2024-10-16T00:00:00.000000000",
          "2024-10-17T00:00:00.000000000",
          "2024-10-18T00:00:00.000000000",
          "2024-10-21T00:00:00.000000000",
          "2024-10-22T00:00:00.000000000",
          "2024-10-23T00:00:00.000000000",
          "2024-10-24T00:00:00.000000000",
          "2024-10-25T00:00:00.000000000",
          "2024-10-28T00:00:00.000000000",
          "2024-10-29T00:00:00.000000000",
          "2024-10-30T00:00:00.000000000",
          "2024-10-31T00:00:00.000000000",
          "2024-11-01T00:00:00.000000000",
          "2024-11-04T00:00:00.000000000",
          "2024-11-05T00:00:00.000000000",
          "2024-11-06T00:00:00.000000000",
          "2024-11-07T00:00:00.000000000",
          "2024-11-08T00:00:00.000000000",
          "2024-11-11T00:00:00.000000000",
          "2024-11-12T00:00:00.000000000",
          "2024-11-13T00:00:00.000000000",
          "2024-11-14T00:00:00.000000000",
          "2024-11-15T00:00:00.000000000",
          "2024-11-18T00:00:00.000000000",
          "2024-11-19T00:00:00.000000000",
          "2024-11-20T00:00:00.000000000",
          "2024-11-21T00:00:00.000000000",
          "2024-11-22T00:00:00.000000000",
          "2024-11-25T00:00:00.000000000",
          "2024-11-26T00:00:00.000000000",
          "2024-11-27T00:00:00.000000000",
          "2024-11-29T00:00:00.000000000",
          "2024-12-02T00:00:00.000000000",
          "2024-12-03T00:00:00.000000000",
          "2024-12-04T00:00:00.000000000",
          "2024-12-05T00:00:00.000000000",
          "2024-12-06T00:00:00.000000000",
          "2024-12-09T00:00:00.000000000",
          "2024-12-10T00:00:00.000000000",
          "2024-12-11T00:00:00.000000000",
          "2024-12-12T00:00:00.000000000",
          "2024-12-13T00:00:00.000000000",
          "2024-12-16T00:00:00.000000000",
          "2024-12-17T00:00:00.000000000",
          "2024-12-18T00:00:00.000000000",
          "2024-12-19T00:00:00.000000000",
          "2024-12-20T00:00:00.000000000",
          "2024-12-23T00:00:00.000000000",
          "2024-12-24T00:00:00.000000000",
          "2024-12-26T00:00:00.000000000",
          "2024-12-27T00:00:00.000000000",
          "2024-12-30T00:00:00.000000000",
          "2024-12-31T00:00:00.000000000",
          "2025-01-02T00:00:00.000000000",
          "2025-01-03T00:00:00.000000000",
          "2025-01-06T00:00:00.000000000",
          "2025-01-07T00:00:00.000000000",
          "2025-01-08T00:00:00.000000000",
          "2025-01-10T00:00:00.000000000",
          "2025-01-13T00:00:00.000000000",
          "2025-01-14T00:00:00.000000000",
          "2025-01-15T00:00:00.000000000",
          "2025-01-16T00:00:00.000000000",
          "2025-01-17T00:00:00.000000000",
          "2025-01-21T00:00:00.000000000",
          "2025-01-22T00:00:00.000000000",
          "2025-01-23T00:00:00.000000000",
          "2025-01-24T00:00:00.000000000",
          "2025-01-27T00:00:00.000000000",
          "2025-01-28T00:00:00.000000000"
         ],
         "y": {
          "bdata": "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",
          "dtype": "f8"
         }
        }
       ],
       "layout": {
        "legend": {
         "x": 0,
         "y": 1
        },
        "template": {
         "data": {
          "bar": [
           {
            "error_x": {
             "color": "#f2f5fa"
            },
            "error_y": {
             "color": "#f2f5fa"
            },
            "marker": {
             "line": {
              "color": "rgb(17,17,17)",
              "width": 0.5
             },
             "pattern": {
              "fillmode": "overlay",
              "size": 10,
              "solidity": 0.2
             }
            },
            "type": "bar"
           }
          ],
          "barpolar": [
           {
            "marker": {
             "line": {
              "color": "rgb(17,17,17)",
              "width": 0.5
             },
             "pattern": {
              "fillmode": "overlay",
              "size": 10,
              "solidity": 0.2
             }
            },
            "type": "barpolar"
           }
          ],
          "carpet": [
           {
            "aaxis": {
             "endlinecolor": "#A2B1C6",
             "gridcolor": "#506784",
             "linecolor": "#506784",
             "minorgridcolor": "#506784",
             "startlinecolor": "#A2B1C6"
            },
            "baxis": {
             "endlinecolor": "#A2B1C6",
             "gridcolor": "#506784",
             "linecolor": "#506784",
             "minorgridcolor": "#506784",
             "startlinecolor": "#A2B1C6"
            },
            "type": "carpet"
           }
          ],
          "choropleth": [
           {
            "colorbar": {
             "outlinewidth": 0,
             "ticks": ""
            },
            "type": "choropleth"
           }
          ],
          "contour": [
           {
            "colorbar": {
             "outlinewidth": 0,
             "ticks": ""
            },
            "colorscale": [
             [
              0,
              "#0d0887"
             ],
             [
              0.1111111111111111,
              "#46039f"
             ],
             [
              0.2222222222222222,
              "#7201a8"
             ],
             [
              0.3333333333333333,
              "#9c179e"
             ],
             [
              0.4444444444444444,
              "#bd3786"
             ],
             [
              0.5555555555555556,
              "#d8576b"
             ],
             [
              0.6666666666666666,
              "#ed7953"
             ],
             [
              0.7777777777777778,
              "#fb9f3a"
             ],
             [
              0.8888888888888888,
              "#fdca26"
             ],
             [
              1,
              "#f0f921"
             ]
            ],
            "type": "contour"
           }
          ],
          "contourcarpet": [
           {
            "colorbar": {
             "outlinewidth": 0,
             "ticks": ""
            },
            "type": "contourcarpet"
           }
          ],
          "heatmap": [
           {
            "colorbar": {
             "outlinewidth": 0,
             "ticks": ""
            },
            "colorscale": [
             [
              0,
              "#0d0887"
             ],
             [
              0.1111111111111111,
              "#46039f"
             ],
             [
              0.2222222222222222,
              "#7201a8"
             ],
             [
              0.3333333333333333,
              "#9c179e"
             ],
             [
              0.4444444444444444,
              "#bd3786"
             ],
             [
              0.5555555555555556,
              "#d8576b"
             ],
             [
              0.6666666666666666,
              "#ed7953"
             ],
             [
              0.7777777777777778,
              "#fb9f3a"
             ],
             [
              0.8888888888888888,
              "#fdca26"
             ],
             [
              1,
              "#f0f921"
             ]
            ],
            "type": "heatmap"
           }
          ],
          "histogram": [
           {
            "marker": {
             "pattern": {
              "fillmode": "overlay",
              "size": 10,
              "solidity": 0.2
             }
            },
            "type": "histogram"
           }
          ],
          "histogram2d": [
           {
            "colorbar": {
             "outlinewidth": 0,
             "ticks": ""
            },
            "colorscale": [
             [
              0,
              "#0d0887"
             ],
             [
              0.1111111111111111,
              "#46039f"
             ],
             [
              0.2222222222222222,
              "#7201a8"
             ],
             [
              0.3333333333333333,
              "#9c179e"
             ],
             [
              0.4444444444444444,
              "#bd3786"
             ],
             [
              0.5555555555555556,
              "#d8576b"
             ],
             [
              0.6666666666666666,
              "#ed7953"
             ],
             [
              0.7777777777777778,
              "#fb9f3a"
             ],
             [
              0.8888888888888888,
              "#fdca26"
             ],
             [
              1,
              "#f0f921"
             ]
            ],
            "type": "histogram2d"
           }
          ],
          "histogram2dcontour": [
           {
            "colorbar": {
             "outlinewidth": 0,
             "ticks": ""
            },
            "colorscale": [
             [
              0,
              "#0d0887"
             ],
             [
              0.1111111111111111,
              "#46039f"
             ],
             [
              0.2222222222222222,
              "#7201a8"
             ],
             [
              0.3333333333333333,
              "#9c179e"
             ],
             [
              0.4444444444444444,
              "#bd3786"
             ],
             [
              0.5555555555555556,
              "#d8576b"
             ],
             [
              0.6666666666666666,
              "#ed7953"
             ],
             [
              0.7777777777777778,
              "#fb9f3a"
             ],
             [
              0.8888888888888888,
              "#fdca26"
             ],
             [
              1,
              "#f0f921"
             ]
            ],
            "type": "histogram2dcontour"
           }
          ],
          "mesh3d": [
           {
            "colorbar": {
             "outlinewidth": 0,
             "ticks": ""
            },
            "type": "mesh3d"
           }
          ],
          "parcoords": [
           {
            "line": {
             "colorbar": {
              "outlinewidth": 0,
              "ticks": ""
             }
            },
            "type": "parcoords"
           }
          ],
          "pie": [
           {
            "automargin": true,
            "type": "pie"
           }
          ],
          "scatter": [
           {
            "marker": {
             "line": {
              "color": "#283442"
             }
            },
            "type": "scatter"
           }
          ],
          "scatter3d": [
           {
            "line": {
             "colorbar": {
              "outlinewidth": 0,
              "ticks": ""
             }
            },
            "marker": {
             "colorbar": {
              "outlinewidth": 0,
              "ticks": ""
             }
            },
            "type": "scatter3d"
           }
          ],
          "scattercarpet": [
           {
            "marker": {
             "colorbar": {
              "outlinewidth": 0,
              "ticks": ""
             }
            },
            "type": "scattercarpet"
           }
          ],
          "scattergeo": [
           {
            "marker": {
             "colorbar": {
              "outlinewidth": 0,
              "ticks": ""
             }
            },
            "type": "scattergeo"
           }
          ],
          "scattergl": [
           {
            "marker": {
             "line": {
              "color": "#283442"
             }
            },
            "type": "scattergl"
           }
          ],
          "scattermap": [
           {
            "marker": {
             "colorbar": {
              "outlinewidth": 0,
              "ticks": ""
             }
            },
            "type": "scattermap"
           }
          ],
          "scattermapbox": [
           {
            "marker": {
             "colorbar": {
              "outlinewidth": 0,
              "ticks": ""
             }
            },
            "type": "scattermapbox"
           }
          ],
          "scatterpolar": [
           {
            "marker": {
             "colorbar": {
              "outlinewidth": 0,
              "ticks": ""
             }
            },
            "type": "scatterpolar"
           }
          ],
          "scatterpolargl": [
           {
            "marker": {
             "colorbar": {
              "outlinewidth": 0,
              "ticks": ""
             }
            },
            "type": "scatterpolargl"
           }
          ],
          "scatterternary": [
           {
            "marker": {
             "colorbar": {
              "outlinewidth": 0,
              "ticks": ""
             }
            },
            "type": "scatterternary"
           }
          ],
          "surface": [
           {
            "colorbar": {
             "outlinewidth": 0,
             "ticks": ""
            },
            "colorscale": [
             [
              0,
              "#0d0887"
             ],
             [
              0.1111111111111111,
              "#46039f"
             ],
             [
              0.2222222222222222,
              "#7201a8"
             ],
             [
              0.3333333333333333,
              "#9c179e"
             ],
             [
              0.4444444444444444,
              "#bd3786"
             ],
             [
              0.5555555555555556,
              "#d8576b"
             ],
             [
              0.6666666666666666,
              "#ed7953"
             ],
             [
              0.7777777777777778,
              "#fb9f3a"
             ],
             [
              0.8888888888888888,
              "#fdca26"
             ],
             [
              1,
              "#f0f921"
             ]
            ],
            "type": "surface"
           }
          ],
          "table": [
           {
            "cells": {
             "fill": {
              "color": "#506784"
             },
             "line": {
              "color": "rgb(17,17,17)"
             }
            },
            "header": {
             "fill": {
              "color": "#2a3f5f"
             },
             "line": {
              "color": "rgb(17,17,17)"
             }
            },
            "type": "table"
           }
          ]
         },
         "layout": {
          "annotationdefaults": {
           "arrowcolor": "#f2f5fa",
           "arrowhead": 0,
           "arrowwidth": 1
          },
          "autotypenumbers": "strict",
          "coloraxis": {
           "colorbar": {
            "outlinewidth": 0,
            "ticks": ""
           }
          },
          "colorscale": {
           "diverging": [
            [
             0,
             "#8e0152"
            ],
            [
             0.1,
             "#c51b7d"
            ],
            [
             0.2,
             "#de77ae"
            ],
            [
             0.3,
             "#f1b6da"
            ],
            [
             0.4,
             "#fde0ef"
            ],
            [
             0.5,
             "#f7f7f7"
            ],
            [
             0.6,
             "#e6f5d0"
            ],
            [
             0.7,
             "#b8e186"
            ],
            [
             0.8,
             "#7fbc41"
            ],
            [
             0.9,
             "#4d9221"
            ],
            [
             1,
             "#276419"
            ]
           ],
           "sequential": [
            [
             0,
             "#0d0887"
            ],
            [
             0.1111111111111111,
             "#46039f"
            ],
            [
             0.2222222222222222,
             "#7201a8"
            ],
            [
             0.3333333333333333,
             "#9c179e"
            ],
            [
             0.4444444444444444,
             "#bd3786"
            ],
            [
             0.5555555555555556,
             "#d8576b"
            ],
            [
             0.6666666666666666,
             "#ed7953"
            ],
            [
             0.7777777777777778,
             "#fb9f3a"
            ],
            [
             0.8888888888888888,
             "#fdca26"
            ],
            [
             1,
             "#f0f921"
            ]
           ],
           "sequentialminus": [
            [
             0,
             "#0d0887"
            ],
            [
             0.1111111111111111,
             "#46039f"
            ],
            [
             0.2222222222222222,
             "#7201a8"
            ],
            [
             0.3333333333333333,
             "#9c179e"
            ],
            [
             0.4444444444444444,
             "#bd3786"
            ],
            [
             0.5555555555555556,
             "#d8576b"
            ],
            [
             0.6666666666666666,
             "#ed7953"
            ],
            [
             0.7777777777777778,
             "#fb9f3a"
            ],
            [
             0.8888888888888888,
             "#fdca26"
            ],
            [
             1,
             "#f0f921"
            ]
           ]
          },
          "colorway": [
           "#636efa",
           "#EF553B",
           "#00cc96",
           "#ab63fa",
           "#FFA15A",
           "#19d3f3",
           "#FF6692",
           "#B6E880",
           "#FF97FF",
           "#FECB52"
          ],
          "font": {
           "color": "#f2f5fa"
          },
          "geo": {
           "bgcolor": "rgb(17,17,17)",
           "lakecolor": "rgb(17,17,17)",
           "landcolor": "rgb(17,17,17)",
           "showlakes": true,
           "showland": true,
           "subunitcolor": "#506784"
          },
          "hoverlabel": {
           "align": "left"
          },
          "hovermode": "closest",
          "mapbox": {
           "style": "dark"
          },
          "paper_bgcolor": "rgb(17,17,17)",
          "plot_bgcolor": "rgb(17,17,17)",
          "polar": {
           "angularaxis": {
            "gridcolor": "#506784",
            "linecolor": "#506784",
            "ticks": ""
           },
           "bgcolor": "rgb(17,17,17)",
           "radialaxis": {
            "gridcolor": "#506784",
            "linecolor": "#506784",
            "ticks": ""
           }
          },
          "scene": {
           "xaxis": {
            "backgroundcolor": "rgb(17,17,17)",
            "gridcolor": "#506784",
            "gridwidth": 2,
            "linecolor": "#506784",
            "showbackground": true,
            "ticks": "",
            "zerolinecolor": "#C8D4E3"
           },
           "yaxis": {
            "backgroundcolor": "rgb(17,17,17)",
            "gridcolor": "#506784",
            "gridwidth": 2,
            "linecolor": "#506784",
            "showbackground": true,
            "ticks": "",
            "zerolinecolor": "#C8D4E3"
           },
           "zaxis": {
            "backgroundcolor": "rgb(17,17,17)",
            "gridcolor": "#506784",
            "gridwidth": 2,
            "linecolor": "#506784",
            "showbackground": true,
            "ticks": "",
            "zerolinecolor": "#C8D4E3"
           }
          },
          "shapedefaults": {
           "line": {
            "color": "#f2f5fa"
           }
          },
          "sliderdefaults": {
           "bgcolor": "#C8D4E3",
           "bordercolor": "rgb(17,17,17)",
           "borderwidth": 1,
           "tickwidth": 0
          },
          "ternary": {
           "aaxis": {
            "gridcolor": "#506784",
            "linecolor": "#506784",
            "ticks": ""
           },
           "baxis": {
            "gridcolor": "#506784",
            "linecolor": "#506784",
            "ticks": ""
           },
           "bgcolor": "rgb(17,17,17)",
           "caxis": {
            "gridcolor": "#506784",
            "linecolor": "#506784",
            "ticks": ""
           }
          },
          "title": {
           "x": 0.05
          },
          "updatemenudefaults": {
           "bgcolor": "#506784",
           "borderwidth": 0
          },
          "xaxis": {
           "automargin": true,
           "gridcolor": "#283442",
           "linecolor": "#506784",
           "ticks": "",
           "title": {
            "standoff": 15
           },
           "zerolinecolor": "#283442",
           "zerolinewidth": 2
          },
          "yaxis": {
           "automargin": true,
           "gridcolor": "#283442",
           "linecolor": "#506784",
           "ticks": "",
           "title": {
            "standoff": 15
           },
           "zerolinecolor": "#283442",
           "zerolinewidth": 2
          }
         }
        },
        "title": {
         "text": "Rolling Volatilities of YMAX, YMAG, VIX, VVIX, and QQQ"
        },
        "xaxis": {
         "title": {
          "text": "Date"
         }
        },
        "yaxis": {
         "title": {
          "text": "Volatility"
         }
        }
       }
      }
     },
     "metadata": {},
     "output_type": "display_data"
    }
   ],
   "source": [
    "# Create a figure for rolling volatilities\n",
    "fig_vol = go.Figure()\n",
    "\n",
    "# Add each asset's rolling volatility to the plot\n",
    "colors = {\"YMAX\": \"blue\", \"YMAG\": \"green\", \"VIX\": \"red\", \"VVIX\": \"purple\", \"QQQ\": \"orange\"}\n",
    "\n",
    "for column, color in colors.items():\n",
    "    fig_vol.add_trace(go.Scatter(\n",
    "        x=stats_df.index, \n",
    "        y=stats_df[f\"{column} Volatility\"], \n",
    "        mode=\"lines\", \n",
    "        name=f\"{column} Volatility\",\n",
    "        line=dict(color=color)\n",
    "    ))\n",
    "\n",
    "# Customize layout\n",
    "fig_vol.update_layout(\n",
    "    title=\"Rolling Volatilities of YMAX, YMAG, VIX, VVIX, and QQQ\",\n",
    "    xaxis_title=\"Date\",\n",
    "    yaxis_title=\"Volatility\",\n",
    "    template=\"plotly_dark\",\n",
    "    legend=dict(x=0, y=1)\n",
    ")\n",
    "\n",
    "# Show the interactive plot\n",
    "fig_vol.show()\n"
   ]
  },
  {
   "cell_type": "code",
   "execution_count": 157,
   "metadata": {},
   "outputs": [
    {
     "data": {
      "application/vnd.plotly.v1+json": {
       "config": {
        "plotlyServerURL": "https://plot.ly"
       },
       "data": [
        {
         "line": {
          "color": "blue"
         },
         "mode": "lines",
         "name": "YMAX-VIX Correlation",
         "type": "scatter",
         "x": [
          "2024-03-01T00:00:00.000000000",
          "2024-03-04T00:00:00.000000000",
          "2024-03-05T00:00:00.000000000",
          "2024-03-06T00:00:00.000000000",
          "2024-03-07T00:00:00.000000000",
          "2024-03-08T00:00:00.000000000",
          "2024-03-11T00:00:00.000000000",
          "2024-03-12T00:00:00.000000000",
          "2024-03-13T00:00:00.000000000",
          "2024-03-14T00:00:00.000000000",
          "2024-03-15T00:00:00.000000000",
          "2024-03-18T00:00:00.000000000",
          "2024-03-19T00:00:00.000000000",
          "2024-03-20T00:00:00.000000000",
          "2024-03-21T00:00:00.000000000",
          "2024-03-22T00:00:00.000000000",
          "2024-03-25T00:00:00.000000000",
          "2024-03-26T00:00:00.000000000",
          "2024-03-27T00:00:00.000000000",
          "2024-03-28T00:00:00.000000000",
          "2024-04-01T00:00:00.000000000",
          "2024-04-02T00:00:00.000000000",
          "2024-04-03T00:00:00.000000000",
          "2024-04-04T00:00:00.000000000",
          "2024-04-05T00:00:00.000000000",
          "2024-04-08T00:00:00.000000000",
          "2024-04-09T00:00:00.000000000",
          "2024-04-10T00:00:00.000000000",
          "2024-04-11T00:00:00.000000000",
          "2024-04-12T00:00:00.000000000",
          "2024-04-15T00:00:00.000000000",
          "2024-04-16T00:00:00.000000000",
          "2024-04-17T00:00:00.000000000",
          "2024-04-18T00:00:00.000000000",
          "2024-04-19T00:00:00.000000000",
          "2024-04-22T00:00:00.000000000",
          "2024-04-23T00:00:00.000000000",
          "2024-04-24T00:00:00.000000000",
          "2024-04-25T00:00:00.000000000",
          "2024-04-26T00:00:00.000000000",
          "2024-04-29T00:00:00.000000000",
          "2024-04-30T00:00:00.000000000",
          "2024-05-01T00:00:00.000000000",
          "2024-05-02T00:00:00.000000000",
          "2024-05-03T00:00:00.000000000",
          "2024-05-06T00:00:00.000000000",
          "2024-05-07T00:00:00.000000000",
          "2024-05-08T00:00:00.000000000",
          "2024-05-09T00:00:00.000000000",
          "2024-05-10T00:00:00.000000000",
          "2024-05-13T00:00:00.000000000",
          "2024-05-14T00:00:00.000000000",
          "2024-05-15T00:00:00.000000000",
          "2024-05-16T00:00:00.000000000",
          "2024-05-17T00:00:00.000000000",
          "2024-05-20T00:00:00.000000000",
          "2024-05-21T00:00:00.000000000",
          "2024-05-22T00:00:00.000000000",
          "2024-05-23T00:00:00.000000000",
          "2024-05-24T00:00:00.000000000",
          "2024-05-28T00:00:00.000000000",
          "2024-05-29T00:00:00.000000000",
          "2024-05-30T00:00:00.000000000",
          "2024-05-31T00:00:00.000000000",
          "2024-06-03T00:00:00.000000000",
          "2024-06-04T00:00:00.000000000",
          "2024-06-05T00:00:00.000000000",
          "2024-06-06T00:00:00.000000000",
          "2024-06-07T00:00:00.000000000",
          "2024-06-10T00:00:00.000000000",
          "2024-06-11T00:00:00.000000000",
          "2024-06-12T00:00:00.000000000",
          "2024-06-13T00:00:00.000000000",
          "2024-06-14T00:00:00.000000000",
          "2024-06-17T00:00:00.000000000",
          "2024-06-18T00:00:00.000000000",
          "2024-06-20T00:00:00.000000000",
          "2024-06-21T00:00:00.000000000",
          "2024-06-24T00:00:00.000000000",
          "2024-06-25T00:00:00.000000000",
          "2024-06-26T00:00:00.000000000",
          "2024-06-27T00:00:00.000000000",
          "2024-06-28T00:00:00.000000000",
          "2024-07-01T00:00:00.000000000",
          "2024-07-02T00:00:00.000000000",
          "2024-07-03T00:00:00.000000000",
          "2024-07-05T00:00:00.000000000",
          "2024-07-08T00:00:00.000000000",
          "2024-07-09T00:00:00.000000000",
          "2024-07-10T00:00:00.000000000",
          "2024-07-11T00:00:00.000000000",
          "2024-07-12T00:00:00.000000000",
          "2024-07-15T00:00:00.000000000",
          "2024-07-16T00:00:00.000000000",
          "2024-07-17T00:00:00.000000000",
          "2024-07-18T00:00:00.000000000",
          "2024-07-19T00:00:00.000000000",
          "2024-07-22T00:00:00.000000000",
          "2024-07-23T00:00:00.000000000",
          "2024-07-24T00:00:00.000000000",
          "2024-07-25T00:00:00.000000000",
          "2024-07-26T00:00:00.000000000",
          "2024-07-29T00:00:00.000000000",
          "2024-07-30T00:00:00.000000000",
          "2024-07-31T00:00:00.000000000",
          "2024-08-01T00:00:00.000000000",
          "2024-08-02T00:00:00.000000000",
          "2024-08-05T00:00:00.000000000",
          "2024-08-06T00:00:00.000000000",
          "2024-08-07T00:00:00.000000000",
          "2024-08-08T00:00:00.000000000",
          "2024-08-09T00:00:00.000000000",
          "2024-08-12T00:00:00.000000000",
          "2024-08-13T00:00:00.000000000",
          "2024-08-14T00:00:00.000000000",
          "2024-08-15T00:00:00.000000000",
          "2024-08-16T00:00:00.000000000",
          "2024-08-19T00:00:00.000000000",
          "2024-08-20T00:00:00.000000000",
          "2024-08-21T00:00:00.000000000",
          "2024-08-22T00:00:00.000000000",
          "2024-08-23T00:00:00.000000000",
          "2024-08-26T00:00:00.000000000",
          "2024-08-27T00:00:00.000000000",
          "2024-08-28T00:00:00.000000000",
          "2024-08-29T00:00:00.000000000",
          "2024-08-30T00:00:00.000000000",
          "2024-09-03T00:00:00.000000000",
          "2024-09-04T00:00:00.000000000",
          "2024-09-05T00:00:00.000000000",
          "2024-09-06T00:00:00.000000000",
          "2024-09-09T00:00:00.000000000",
          "2024-09-10T00:00:00.000000000",
          "2024-09-11T00:00:00.000000000",
          "2024-09-12T00:00:00.000000000",
          "2024-09-13T00:00:00.000000000",
          "2024-09-16T00:00:00.000000000",
          "2024-09-17T00:00:00.000000000",
          "2024-09-18T00:00:00.000000000",
          "2024-09-19T00:00:00.000000000",
          "2024-09-20T00:00:00.000000000",
          "2024-09-23T00:00:00.000000000",
          "2024-09-24T00:00:00.000000000",
          "2024-09-25T00:00:00.000000000",
          "2024-09-26T00:00:00.000000000",
          "2024-09-27T00:00:00.000000000",
          "2024-09-30T00:00:00.000000000",
          "2024-10-01T00:00:00.000000000",
          "2024-10-02T00:00:00.000000000",
          "2024-10-03T00:00:00.000000000",
          "2024-10-04T00:00:00.000000000",
          "2024-10-07T00:00:00.000000000",
          "2024-10-08T00:00:00.000000000",
          "2024-10-09T00:00:00.000000000",
          "2024-10-10T00:00:00.000000000",
          "2024-10-11T00:00:00.000000000",
          "2024-10-14T00:00:00.000000000",
          "2024-10-15T00:00:00.000000000",
          "2024-10-16T00:00:00.000000000",
          "2024-10-17T00:00:00.000000000",
          "2024-10-18T00:00:00.000000000",
          "2024-10-21T00:00:00.000000000",
          "2024-10-22T00:00:00.000000000",
          "2024-10-23T00:00:00.000000000",
          "2024-10-24T00:00:00.000000000",
          "2024-10-25T00:00:00.000000000",
          "2024-10-28T00:00:00.000000000",
          "2024-10-29T00:00:00.000000000",
          "2024-10-30T00:00:00.000000000",
          "2024-10-31T00:00:00.000000000",
          "2024-11-01T00:00:00.000000000",
          "2024-11-04T00:00:00.000000000",
          "2024-11-05T00:00:00.000000000",
          "2024-11-06T00:00:00.000000000",
          "2024-11-07T00:00:00.000000000",
          "2024-11-08T00:00:00.000000000",
          "2024-11-11T00:00:00.000000000",
          "2024-11-12T00:00:00.000000000",
          "2024-11-13T00:00:00.000000000",
          "2024-11-14T00:00:00.000000000",
          "2024-11-15T00:00:00.000000000",
          "2024-11-18T00:00:00.000000000",
          "2024-11-19T00:00:00.000000000",
          "2024-11-20T00:00:00.000000000",
          "2024-11-21T00:00:00.000000000",
          "2024-11-22T00:00:00.000000000",
          "2024-11-25T00:00:00.000000000",
          "2024-11-26T00:00:00.000000000",
          "2024-11-27T00:00:00.000000000",
          "2024-11-29T00:00:00.000000000",
          "2024-12-02T00:00:00.000000000",
          "2024-12-03T00:00:00.000000000",
          "2024-12-04T00:00:00.000000000",
          "2024-12-05T00:00:00.000000000",
          "2024-12-06T00:00:00.000000000",
          "2024-12-09T00:00:00.000000000",
          "2024-12-10T00:00:00.000000000",
          "2024-12-11T00:00:00.000000000",
          "2024-12-12T00:00:00.000000000",
          "2024-12-13T00:00:00.000000000",
          "2024-12-16T00:00:00.000000000",
          "2024-12-17T00:00:00.000000000",
          "2024-12-18T00:00:00.000000000",
          "2024-12-19T00:00:00.000000000",
          "2024-12-20T00:00:00.000000000",
          "2024-12-23T00:00:00.000000000",
          "2024-12-24T00:00:00.000000000",
          "2024-12-26T00:00:00.000000000",
          "2024-12-27T00:00:00.000000000",
          "2024-12-30T00:00:00.000000000",
          "2024-12-31T00:00:00.000000000",
          "2025-01-02T00:00:00.000000000",
          "2025-01-03T00:00:00.000000000",
          "2025-01-06T00:00:00.000000000",
          "2025-01-07T00:00:00.000000000",
          "2025-01-08T00:00:00.000000000",
          "2025-01-10T00:00:00.000000000",
          "2025-01-13T00:00:00.000000000",
          "2025-01-14T00:00:00.000000000",
          "2025-01-15T00:00:00.000000000",
          "2025-01-16T00:00:00.000000000",
          "2025-01-17T00:00:00.000000000",
          "2025-01-21T00:00:00.000000000",
          "2025-01-22T00:00:00.000000000",
          "2025-01-23T00:00:00.000000000",
          "2025-01-24T00:00:00.000000000",
          "2025-01-27T00:00:00.000000000",
          "2025-01-28T00:00:00.000000000"
         ],
         "y": {
          "bdata": "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",
          "dtype": "f8"
         }
        },
        {
         "line": {
          "color": "red"
         },
         "mode": "lines",
         "name": "YMAX-VVIX Correlation",
         "type": "scatter",
         "x": [
          "2024-03-01T00:00:00.000000000",
          "2024-03-04T00:00:00.000000000",
          "2024-03-05T00:00:00.000000000",
          "2024-03-06T00:00:00.000000000",
          "2024-03-07T00:00:00.000000000",
          "2024-03-08T00:00:00.000000000",
          "2024-03-11T00:00:00.000000000",
          "2024-03-12T00:00:00.000000000",
          "2024-03-13T00:00:00.000000000",
          "2024-03-14T00:00:00.000000000",
          "2024-03-15T00:00:00.000000000",
          "2024-03-18T00:00:00.000000000",
          "2024-03-19T00:00:00.000000000",
          "2024-03-20T00:00:00.000000000",
          "2024-03-21T00:00:00.000000000",
          "2024-03-22T00:00:00.000000000",
          "2024-03-25T00:00:00.000000000",
          "2024-03-26T00:00:00.000000000",
          "2024-03-27T00:00:00.000000000",
          "2024-03-28T00:00:00.000000000",
          "2024-04-01T00:00:00.000000000",
          "2024-04-02T00:00:00.000000000",
          "2024-04-03T00:00:00.000000000",
          "2024-04-04T00:00:00.000000000",
          "2024-04-05T00:00:00.000000000",
          "2024-04-08T00:00:00.000000000",
          "2024-04-09T00:00:00.000000000",
          "2024-04-10T00:00:00.000000000",
          "2024-04-11T00:00:00.000000000",
          "2024-04-12T00:00:00.000000000",
          "2024-04-15T00:00:00.000000000",
          "2024-04-16T00:00:00.000000000",
          "2024-04-17T00:00:00.000000000",
          "2024-04-18T00:00:00.000000000",
          "2024-04-19T00:00:00.000000000",
          "2024-04-22T00:00:00.000000000",
          "2024-04-23T00:00:00.000000000",
          "2024-04-24T00:00:00.000000000",
          "2024-04-25T00:00:00.000000000",
          "2024-04-26T00:00:00.000000000",
          "2024-04-29T00:00:00.000000000",
          "2024-04-30T00:00:00.000000000",
          "2024-05-01T00:00:00.000000000",
          "2024-05-02T00:00:00.000000000",
          "2024-05-03T00:00:00.000000000",
          "2024-05-06T00:00:00.000000000",
          "2024-05-07T00:00:00.000000000",
          "2024-05-08T00:00:00.000000000",
          "2024-05-09T00:00:00.000000000",
          "2024-05-10T00:00:00.000000000",
          "2024-05-13T00:00:00.000000000",
          "2024-05-14T00:00:00.000000000",
          "2024-05-15T00:00:00.000000000",
          "2024-05-16T00:00:00.000000000",
          "2024-05-17T00:00:00.000000000",
          "2024-05-20T00:00:00.000000000",
          "2024-05-21T00:00:00.000000000",
          "2024-05-22T00:00:00.000000000",
          "2024-05-23T00:00:00.000000000",
          "2024-05-24T00:00:00.000000000",
          "2024-05-28T00:00:00.000000000",
          "2024-05-29T00:00:00.000000000",
          "2024-05-30T00:00:00.000000000",
          "2024-05-31T00:00:00.000000000",
          "2024-06-03T00:00:00.000000000",
          "2024-06-04T00:00:00.000000000",
          "2024-06-05T00:00:00.000000000",
          "2024-06-06T00:00:00.000000000",
          "2024-06-07T00:00:00.000000000",
          "2024-06-10T00:00:00.000000000",
          "2024-06-11T00:00:00.000000000",
          "2024-06-12T00:00:00.000000000",
          "2024-06-13T00:00:00.000000000",
          "2024-06-14T00:00:00.000000000",
          "2024-06-17T00:00:00.000000000",
          "2024-06-18T00:00:00.000000000",
          "2024-06-20T00:00:00.000000000",
          "2024-06-21T00:00:00.000000000",
          "2024-06-24T00:00:00.000000000",
          "2024-06-25T00:00:00.000000000",
          "2024-06-26T00:00:00.000000000",
          "2024-06-27T00:00:00.000000000",
          "2024-06-28T00:00:00.000000000",
          "2024-07-01T00:00:00.000000000",
          "2024-07-02T00:00:00.000000000",
          "2024-07-03T00:00:00.000000000",
          "2024-07-05T00:00:00.000000000",
          "2024-07-08T00:00:00.000000000",
          "2024-07-09T00:00:00.000000000",
          "2024-07-10T00:00:00.000000000",
          "2024-07-11T00:00:00.000000000",
          "2024-07-12T00:00:00.000000000",
          "2024-07-15T00:00:00.000000000",
          "2024-07-16T00:00:00.000000000",
          "2024-07-17T00:00:00.000000000",
          "2024-07-18T00:00:00.000000000",
          "2024-07-19T00:00:00.000000000",
          "2024-07-22T00:00:00.000000000",
          "2024-07-23T00:00:00.000000000",
          "2024-07-24T00:00:00.000000000",
          "2024-07-25T00:00:00.000000000",
          "2024-07-26T00:00:00.000000000",
          "2024-07-29T00:00:00.000000000",
          "2024-07-30T00:00:00.000000000",
          "2024-07-31T00:00:00.000000000",
          "2024-08-01T00:00:00.000000000",
          "2024-08-02T00:00:00.000000000",
          "2024-08-05T00:00:00.000000000",
          "2024-08-06T00:00:00.000000000",
          "2024-08-07T00:00:00.000000000",
          "2024-08-08T00:00:00.000000000",
          "2024-08-09T00:00:00.000000000",
          "2024-08-12T00:00:00.000000000",
          "2024-08-13T00:00:00.000000000",
          "2024-08-14T00:00:00.000000000",
          "2024-08-15T00:00:00.000000000",
          "2024-08-16T00:00:00.000000000",
          "2024-08-19T00:00:00.000000000",
          "2024-08-20T00:00:00.000000000",
          "2024-08-21T00:00:00.000000000",
          "2024-08-22T00:00:00.000000000",
          "2024-08-23T00:00:00.000000000",
          "2024-08-26T00:00:00.000000000",
          "2024-08-27T00:00:00.000000000",
          "2024-08-28T00:00:00.000000000",
          "2024-08-29T00:00:00.000000000",
          "2024-08-30T00:00:00.000000000",
          "2024-09-03T00:00:00.000000000",
          "2024-09-04T00:00:00.000000000",
          "2024-09-05T00:00:00.000000000",
          "2024-09-06T00:00:00.000000000",
          "2024-09-09T00:00:00.000000000",
          "2024-09-10T00:00:00.000000000",
          "2024-09-11T00:00:00.000000000",
          "2024-09-12T00:00:00.000000000",
          "2024-09-13T00:00:00.000000000",
          "2024-09-16T00:00:00.000000000",
          "2024-09-17T00:00:00.000000000",
          "2024-09-18T00:00:00.000000000",
          "2024-09-19T00:00:00.000000000",
          "2024-09-20T00:00:00.000000000",
          "2024-09-23T00:00:00.000000000",
          "2024-09-24T00:00:00.000000000",
          "2024-09-25T00:00:00.000000000",
          "2024-09-26T00:00:00.000000000",
          "2024-09-27T00:00:00.000000000",
          "2024-09-30T00:00:00.000000000",
          "2024-10-01T00:00:00.000000000",
          "2024-10-02T00:00:00.000000000",
          "2024-10-03T00:00:00.000000000",
          "2024-10-04T00:00:00.000000000",
          "2024-10-07T00:00:00.000000000",
          "2024-10-08T00:00:00.000000000",
          "2024-10-09T00:00:00.000000000",
          "2024-10-10T00:00:00.000000000",
          "2024-10-11T00:00:00.000000000",
          "2024-10-14T00:00:00.000000000",
          "2024-10-15T00:00:00.000000000",
          "2024-10-16T00:00:00.000000000",
          "2024-10-17T00:00:00.000000000",
          "2024-10-18T00:00:00.000000000",
          "2024-10-21T00:00:00.000000000",
          "2024-10-22T00:00:00.000000000",
          "2024-10-23T00:00:00.000000000",
          "2024-10-24T00:00:00.000000000",
          "2024-10-25T00:00:00.000000000",
          "2024-10-28T00:00:00.000000000",
          "2024-10-29T00:00:00.000000000",
          "2024-10-30T00:00:00.000000000",
          "2024-10-31T00:00:00.000000000",
          "2024-11-01T00:00:00.000000000",
          "2024-11-04T00:00:00.000000000",
          "2024-11-05T00:00:00.000000000",
          "2024-11-06T00:00:00.000000000",
          "2024-11-07T00:00:00.000000000",
          "2024-11-08T00:00:00.000000000",
          "2024-11-11T00:00:00.000000000",
          "2024-11-12T00:00:00.000000000",
          "2024-11-13T00:00:00.000000000",
          "2024-11-14T00:00:00.000000000",
          "2024-11-15T00:00:00.000000000",
          "2024-11-18T00:00:00.000000000",
          "2024-11-19T00:00:00.000000000",
          "2024-11-20T00:00:00.000000000",
          "2024-11-21T00:00:00.000000000",
          "2024-11-22T00:00:00.000000000",
          "2024-11-25T00:00:00.000000000",
          "2024-11-26T00:00:00.000000000",
          "2024-11-27T00:00:00.000000000",
          "2024-11-29T00:00:00.000000000",
          "2024-12-02T00:00:00.000000000",
          "2024-12-03T00:00:00.000000000",
          "2024-12-04T00:00:00.000000000",
          "2024-12-05T00:00:00.000000000",
          "2024-12-06T00:00:00.000000000",
          "2024-12-09T00:00:00.000000000",
          "2024-12-10T00:00:00.000000000",
          "2024-12-11T00:00:00.000000000",
          "2024-12-12T00:00:00.000000000",
          "2024-12-13T00:00:00.000000000",
          "2024-12-16T00:00:00.000000000",
          "2024-12-17T00:00:00.000000000",
          "2024-12-18T00:00:00.000000000",
          "2024-12-19T00:00:00.000000000",
          "2024-12-20T00:00:00.000000000",
          "2024-12-23T00:00:00.000000000",
          "2024-12-24T00:00:00.000000000",
          "2024-12-26T00:00:00.000000000",
          "2024-12-27T00:00:00.000000000",
          "2024-12-30T00:00:00.000000000",
          "2024-12-31T00:00:00.000000000",
          "2025-01-02T00:00:00.000000000",
          "2025-01-03T00:00:00.000000000",
          "2025-01-06T00:00:00.000000000",
          "2025-01-07T00:00:00.000000000",
          "2025-01-08T00:00:00.000000000",
          "2025-01-10T00:00:00.000000000",
          "2025-01-13T00:00:00.000000000",
          "2025-01-14T00:00:00.000000000",
          "2025-01-15T00:00:00.000000000",
          "2025-01-16T00:00:00.000000000",
          "2025-01-17T00:00:00.000000000",
          "2025-01-21T00:00:00.000000000",
          "2025-01-22T00:00:00.000000000",
          "2025-01-23T00:00:00.000000000",
          "2025-01-24T00:00:00.000000000",
          "2025-01-27T00:00:00.000000000",
          "2025-01-28T00:00:00.000000000"
         ],
         "y": {
          "bdata": "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",
          "dtype": "f8"
         }
        }
       ],
       "layout": {
        "legend": {
         "x": 0,
         "y": 1
        },
        "template": {
         "data": {
          "bar": [
           {
            "error_x": {
             "color": "#f2f5fa"
            },
            "error_y": {
             "color": "#f2f5fa"
            },
            "marker": {
             "line": {
              "color": "rgb(17,17,17)",
              "width": 0.5
             },
             "pattern": {
              "fillmode": "overlay",
              "size": 10,
              "solidity": 0.2
             }
            },
            "type": "bar"
           }
          ],
          "barpolar": [
           {
            "marker": {
             "line": {
              "color": "rgb(17,17,17)",
              "width": 0.5
             },
             "pattern": {
              "fillmode": "overlay",
              "size": 10,
              "solidity": 0.2
             }
            },
            "type": "barpolar"
           }
          ],
          "carpet": [
           {
            "aaxis": {
             "endlinecolor": "#A2B1C6",
             "gridcolor": "#506784",
             "linecolor": "#506784",
             "minorgridcolor": "#506784",
             "startlinecolor": "#A2B1C6"
            },
            "baxis": {
             "endlinecolor": "#A2B1C6",
             "gridcolor": "#506784",
             "linecolor": "#506784",
             "minorgridcolor": "#506784",
             "startlinecolor": "#A2B1C6"
            },
            "type": "carpet"
           }
          ],
          "choropleth": [
           {
            "colorbar": {
             "outlinewidth": 0,
             "ticks": ""
            },
            "type": "choropleth"
           }
          ],
          "contour": [
           {
            "colorbar": {
             "outlinewidth": 0,
             "ticks": ""
            },
            "colorscale": [
             [
              0,
              "#0d0887"
             ],
             [
              0.1111111111111111,
              "#46039f"
             ],
             [
              0.2222222222222222,
              "#7201a8"
             ],
             [
              0.3333333333333333,
              "#9c179e"
             ],
             [
              0.4444444444444444,
              "#bd3786"
             ],
             [
              0.5555555555555556,
              "#d8576b"
             ],
             [
              0.6666666666666666,
              "#ed7953"
             ],
             [
              0.7777777777777778,
              "#fb9f3a"
             ],
             [
              0.8888888888888888,
              "#fdca26"
             ],
             [
              1,
              "#f0f921"
             ]
            ],
            "type": "contour"
           }
          ],
          "contourcarpet": [
           {
            "colorbar": {
             "outlinewidth": 0,
             "ticks": ""
            },
            "type": "contourcarpet"
           }
          ],
          "heatmap": [
           {
            "colorbar": {
             "outlinewidth": 0,
             "ticks": ""
            },
            "colorscale": [
             [
              0,
              "#0d0887"
             ],
             [
              0.1111111111111111,
              "#46039f"
             ],
             [
              0.2222222222222222,
              "#7201a8"
             ],
             [
              0.3333333333333333,
              "#9c179e"
             ],
             [
              0.4444444444444444,
              "#bd3786"
             ],
             [
              0.5555555555555556,
              "#d8576b"
             ],
             [
              0.6666666666666666,
              "#ed7953"
             ],
             [
              0.7777777777777778,
              "#fb9f3a"
             ],
             [
              0.8888888888888888,
              "#fdca26"
             ],
             [
              1,
              "#f0f921"
             ]
            ],
            "type": "heatmap"
           }
          ],
          "histogram": [
           {
            "marker": {
             "pattern": {
              "fillmode": "overlay",
              "size": 10,
              "solidity": 0.2
             }
            },
            "type": "histogram"
           }
          ],
          "histogram2d": [
           {
            "colorbar": {
             "outlinewidth": 0,
             "ticks": ""
            },
            "colorscale": [
             [
              0,
              "#0d0887"
             ],
             [
              0.1111111111111111,
              "#46039f"
             ],
             [
              0.2222222222222222,
              "#7201a8"
             ],
             [
              0.3333333333333333,
              "#9c179e"
             ],
             [
              0.4444444444444444,
              "#bd3786"
             ],
             [
              0.5555555555555556,
              "#d8576b"
             ],
             [
              0.6666666666666666,
              "#ed7953"
             ],
             [
              0.7777777777777778,
              "#fb9f3a"
             ],
             [
              0.8888888888888888,
              "#fdca26"
             ],
             [
              1,
              "#f0f921"
             ]
            ],
            "type": "histogram2d"
           }
          ],
          "histogram2dcontour": [
           {
            "colorbar": {
             "outlinewidth": 0,
             "ticks": ""
            },
            "colorscale": [
             [
              0,
              "#0d0887"
             ],
             [
              0.1111111111111111,
              "#46039f"
             ],
             [
              0.2222222222222222,
              "#7201a8"
             ],
             [
              0.3333333333333333,
              "#9c179e"
             ],
             [
              0.4444444444444444,
              "#bd3786"
             ],
             [
              0.5555555555555556,
              "#d8576b"
             ],
             [
              0.6666666666666666,
              "#ed7953"
             ],
             [
              0.7777777777777778,
              "#fb9f3a"
             ],
             [
              0.8888888888888888,
              "#fdca26"
             ],
             [
              1,
              "#f0f921"
             ]
            ],
            "type": "histogram2dcontour"
           }
          ],
          "mesh3d": [
           {
            "colorbar": {
             "outlinewidth": 0,
             "ticks": ""
            },
            "type": "mesh3d"
           }
          ],
          "parcoords": [
           {
            "line": {
             "colorbar": {
              "outlinewidth": 0,
              "ticks": ""
             }
            },
            "type": "parcoords"
           }
          ],
          "pie": [
           {
            "automargin": true,
            "type": "pie"
           }
          ],
          "scatter": [
           {
            "marker": {
             "line": {
              "color": "#283442"
             }
            },
            "type": "scatter"
           }
          ],
          "scatter3d": [
           {
            "line": {
             "colorbar": {
              "outlinewidth": 0,
              "ticks": ""
             }
            },
            "marker": {
             "colorbar": {
              "outlinewidth": 0,
              "ticks": ""
             }
            },
            "type": "scatter3d"
           }
          ],
          "scattercarpet": [
           {
            "marker": {
             "colorbar": {
              "outlinewidth": 0,
              "ticks": ""
             }
            },
            "type": "scattercarpet"
           }
          ],
          "scattergeo": [
           {
            "marker": {
             "colorbar": {
              "outlinewidth": 0,
              "ticks": ""
             }
            },
            "type": "scattergeo"
           }
          ],
          "scattergl": [
           {
            "marker": {
             "line": {
              "color": "#283442"
             }
            },
            "type": "scattergl"
           }
          ],
          "scattermap": [
           {
            "marker": {
             "colorbar": {
              "outlinewidth": 0,
              "ticks": ""
             }
            },
            "type": "scattermap"
           }
          ],
          "scattermapbox": [
           {
            "marker": {
             "colorbar": {
              "outlinewidth": 0,
              "ticks": ""
             }
            },
            "type": "scattermapbox"
           }
          ],
          "scatterpolar": [
           {
            "marker": {
             "colorbar": {
              "outlinewidth": 0,
              "ticks": ""
             }
            },
            "type": "scatterpolar"
           }
          ],
          "scatterpolargl": [
           {
            "marker": {
             "colorbar": {
              "outlinewidth": 0,
              "ticks": ""
             }
            },
            "type": "scatterpolargl"
           }
          ],
          "scatterternary": [
           {
            "marker": {
             "colorbar": {
              "outlinewidth": 0,
              "ticks": ""
             }
            },
            "type": "scatterternary"
           }
          ],
          "surface": [
           {
            "colorbar": {
             "outlinewidth": 0,
             "ticks": ""
            },
            "colorscale": [
             [
              0,
              "#0d0887"
             ],
             [
              0.1111111111111111,
              "#46039f"
             ],
             [
              0.2222222222222222,
              "#7201a8"
             ],
             [
              0.3333333333333333,
              "#9c179e"
             ],
             [
              0.4444444444444444,
              "#bd3786"
             ],
             [
              0.5555555555555556,
              "#d8576b"
             ],
             [
              0.6666666666666666,
              "#ed7953"
             ],
             [
              0.7777777777777778,
              "#fb9f3a"
             ],
             [
              0.8888888888888888,
              "#fdca26"
             ],
             [
              1,
              "#f0f921"
             ]
            ],
            "type": "surface"
           }
          ],
          "table": [
           {
            "cells": {
             "fill": {
              "color": "#506784"
             },
             "line": {
              "color": "rgb(17,17,17)"
             }
            },
            "header": {
             "fill": {
              "color": "#2a3f5f"
             },
             "line": {
              "color": "rgb(17,17,17)"
             }
            },
            "type": "table"
           }
          ]
         },
         "layout": {
          "annotationdefaults": {
           "arrowcolor": "#f2f5fa",
           "arrowhead": 0,
           "arrowwidth": 1
          },
          "autotypenumbers": "strict",
          "coloraxis": {
           "colorbar": {
            "outlinewidth": 0,
            "ticks": ""
           }
          },
          "colorscale": {
           "diverging": [
            [
             0,
             "#8e0152"
            ],
            [
             0.1,
             "#c51b7d"
            ],
            [
             0.2,
             "#de77ae"
            ],
            [
             0.3,
             "#f1b6da"
            ],
            [
             0.4,
             "#fde0ef"
            ],
            [
             0.5,
             "#f7f7f7"
            ],
            [
             0.6,
             "#e6f5d0"
            ],
            [
             0.7,
             "#b8e186"
            ],
            [
             0.8,
             "#7fbc41"
            ],
            [
             0.9,
             "#4d9221"
            ],
            [
             1,
             "#276419"
            ]
           ],
           "sequential": [
            [
             0,
             "#0d0887"
            ],
            [
             0.1111111111111111,
             "#46039f"
            ],
            [
             0.2222222222222222,
             "#7201a8"
            ],
            [
             0.3333333333333333,
             "#9c179e"
            ],
            [
             0.4444444444444444,
             "#bd3786"
            ],
            [
             0.5555555555555556,
             "#d8576b"
            ],
            [
             0.6666666666666666,
             "#ed7953"
            ],
            [
             0.7777777777777778,
             "#fb9f3a"
            ],
            [
             0.8888888888888888,
             "#fdca26"
            ],
            [
             1,
             "#f0f921"
            ]
           ],
           "sequentialminus": [
            [
             0,
             "#0d0887"
            ],
            [
             0.1111111111111111,
             "#46039f"
            ],
            [
             0.2222222222222222,
             "#7201a8"
            ],
            [
             0.3333333333333333,
             "#9c179e"
            ],
            [
             0.4444444444444444,
             "#bd3786"
            ],
            [
             0.5555555555555556,
             "#d8576b"
            ],
            [
             0.6666666666666666,
             "#ed7953"
            ],
            [
             0.7777777777777778,
             "#fb9f3a"
            ],
            [
             0.8888888888888888,
             "#fdca26"
            ],
            [
             1,
             "#f0f921"
            ]
           ]
          },
          "colorway": [
           "#636efa",
           "#EF553B",
           "#00cc96",
           "#ab63fa",
           "#FFA15A",
           "#19d3f3",
           "#FF6692",
           "#B6E880",
           "#FF97FF",
           "#FECB52"
          ],
          "font": {
           "color": "#f2f5fa"
          },
          "geo": {
           "bgcolor": "rgb(17,17,17)",
           "lakecolor": "rgb(17,17,17)",
           "landcolor": "rgb(17,17,17)",
           "showlakes": true,
           "showland": true,
           "subunitcolor": "#506784"
          },
          "hoverlabel": {
           "align": "left"
          },
          "hovermode": "closest",
          "mapbox": {
           "style": "dark"
          },
          "paper_bgcolor": "rgb(17,17,17)",
          "plot_bgcolor": "rgb(17,17,17)",
          "polar": {
           "angularaxis": {
            "gridcolor": "#506784",
            "linecolor": "#506784",
            "ticks": ""
           },
           "bgcolor": "rgb(17,17,17)",
           "radialaxis": {
            "gridcolor": "#506784",
            "linecolor": "#506784",
            "ticks": ""
           }
          },
          "scene": {
           "xaxis": {
            "backgroundcolor": "rgb(17,17,17)",
            "gridcolor": "#506784",
            "gridwidth": 2,
            "linecolor": "#506784",
            "showbackground": true,
            "ticks": "",
            "zerolinecolor": "#C8D4E3"
           },
           "yaxis": {
            "backgroundcolor": "rgb(17,17,17)",
            "gridcolor": "#506784",
            "gridwidth": 2,
            "linecolor": "#506784",
            "showbackground": true,
            "ticks": "",
            "zerolinecolor": "#C8D4E3"
           },
           "zaxis": {
            "backgroundcolor": "rgb(17,17,17)",
            "gridcolor": "#506784",
            "gridwidth": 2,
            "linecolor": "#506784",
            "showbackground": true,
            "ticks": "",
            "zerolinecolor": "#C8D4E3"
           }
          },
          "shapedefaults": {
           "line": {
            "color": "#f2f5fa"
           }
          },
          "sliderdefaults": {
           "bgcolor": "#C8D4E3",
           "bordercolor": "rgb(17,17,17)",
           "borderwidth": 1,
           "tickwidth": 0
          },
          "ternary": {
           "aaxis": {
            "gridcolor": "#506784",
            "linecolor": "#506784",
            "ticks": ""
           },
           "baxis": {
            "gridcolor": "#506784",
            "linecolor": "#506784",
            "ticks": ""
           },
           "bgcolor": "rgb(17,17,17)",
           "caxis": {
            "gridcolor": "#506784",
            "linecolor": "#506784",
            "ticks": ""
           }
          },
          "title": {
           "x": 0.05
          },
          "updatemenudefaults": {
           "bgcolor": "#506784",
           "borderwidth": 0
          },
          "xaxis": {
           "automargin": true,
           "gridcolor": "#283442",
           "linecolor": "#506784",
           "ticks": "",
           "title": {
            "standoff": 15
           },
           "zerolinecolor": "#283442",
           "zerolinewidth": 2
          },
          "yaxis": {
           "automargin": true,
           "gridcolor": "#283442",
           "linecolor": "#506784",
           "ticks": "",
           "title": {
            "standoff": 15
           },
           "zerolinecolor": "#283442",
           "zerolinewidth": 2
          }
         }
        },
        "title": {
         "text": "Rolling Correlations of YMAX with VIX and VVIX"
        },
        "xaxis": {
         "title": {
          "text": "Date"
         }
        },
        "yaxis": {
         "title": {
          "text": "Correlation"
         }
        }
       }
      }
     },
     "metadata": {},
     "output_type": "display_data"
    },
    {
     "data": {
      "application/vnd.plotly.v1+json": {
       "config": {
        "plotlyServerURL": "https://plot.ly"
       },
       "data": [
        {
         "line": {
          "color": "green"
         },
         "mode": "lines",
         "name": "YMAG-VIX Correlation",
         "type": "scatter",
         "x": [
          "2024-03-01T00:00:00.000000000",
          "2024-03-04T00:00:00.000000000",
          "2024-03-05T00:00:00.000000000",
          "2024-03-06T00:00:00.000000000",
          "2024-03-07T00:00:00.000000000",
          "2024-03-08T00:00:00.000000000",
          "2024-03-11T00:00:00.000000000",
          "2024-03-12T00:00:00.000000000",
          "2024-03-13T00:00:00.000000000",
          "2024-03-14T00:00:00.000000000",
          "2024-03-15T00:00:00.000000000",
          "2024-03-18T00:00:00.000000000",
          "2024-03-19T00:00:00.000000000",
          "2024-03-20T00:00:00.000000000",
          "2024-03-21T00:00:00.000000000",
          "2024-03-22T00:00:00.000000000",
          "2024-03-25T00:00:00.000000000",
          "2024-03-26T00:00:00.000000000",
          "2024-03-27T00:00:00.000000000",
          "2024-03-28T00:00:00.000000000",
          "2024-04-01T00:00:00.000000000",
          "2024-04-02T00:00:00.000000000",
          "2024-04-03T00:00:00.000000000",
          "2024-04-04T00:00:00.000000000",
          "2024-04-05T00:00:00.000000000",
          "2024-04-08T00:00:00.000000000",
          "2024-04-09T00:00:00.000000000",
          "2024-04-10T00:00:00.000000000",
          "2024-04-11T00:00:00.000000000",
          "2024-04-12T00:00:00.000000000",
          "2024-04-15T00:00:00.000000000",
          "2024-04-16T00:00:00.000000000",
          "2024-04-17T00:00:00.000000000",
          "2024-04-18T00:00:00.000000000",
          "2024-04-19T00:00:00.000000000",
          "2024-04-22T00:00:00.000000000",
          "2024-04-23T00:00:00.000000000",
          "2024-04-24T00:00:00.000000000",
          "2024-04-25T00:00:00.000000000",
          "2024-04-26T00:00:00.000000000",
          "2024-04-29T00:00:00.000000000",
          "2024-04-30T00:00:00.000000000",
          "2024-05-01T00:00:00.000000000",
          "2024-05-02T00:00:00.000000000",
          "2024-05-03T00:00:00.000000000",
          "2024-05-06T00:00:00.000000000",
          "2024-05-07T00:00:00.000000000",
          "2024-05-08T00:00:00.000000000",
          "2024-05-09T00:00:00.000000000",
          "2024-05-10T00:00:00.000000000",
          "2024-05-13T00:00:00.000000000",
          "2024-05-14T00:00:00.000000000",
          "2024-05-15T00:00:00.000000000",
          "2024-05-16T00:00:00.000000000",
          "2024-05-17T00:00:00.000000000",
          "2024-05-20T00:00:00.000000000",
          "2024-05-21T00:00:00.000000000",
          "2024-05-22T00:00:00.000000000",
          "2024-05-23T00:00:00.000000000",
          "2024-05-24T00:00:00.000000000",
          "2024-05-28T00:00:00.000000000",
          "2024-05-29T00:00:00.000000000",
          "2024-05-30T00:00:00.000000000",
          "2024-05-31T00:00:00.000000000",
          "2024-06-03T00:00:00.000000000",
          "2024-06-04T00:00:00.000000000",
          "2024-06-05T00:00:00.000000000",
          "2024-06-06T00:00:00.000000000",
          "2024-06-07T00:00:00.000000000",
          "2024-06-10T00:00:00.000000000",
          "2024-06-11T00:00:00.000000000",
          "2024-06-12T00:00:00.000000000",
          "2024-06-13T00:00:00.000000000",
          "2024-06-14T00:00:00.000000000",
          "2024-06-17T00:00:00.000000000",
          "2024-06-18T00:00:00.000000000",
          "2024-06-20T00:00:00.000000000",
          "2024-06-21T00:00:00.000000000",
          "2024-06-24T00:00:00.000000000",
          "2024-06-25T00:00:00.000000000",
          "2024-06-26T00:00:00.000000000",
          "2024-06-27T00:00:00.000000000",
          "2024-06-28T00:00:00.000000000",
          "2024-07-01T00:00:00.000000000",
          "2024-07-02T00:00:00.000000000",
          "2024-07-03T00:00:00.000000000",
          "2024-07-05T00:00:00.000000000",
          "2024-07-08T00:00:00.000000000",
          "2024-07-09T00:00:00.000000000",
          "2024-07-10T00:00:00.000000000",
          "2024-07-11T00:00:00.000000000",
          "2024-07-12T00:00:00.000000000",
          "2024-07-15T00:00:00.000000000",
          "2024-07-16T00:00:00.000000000",
          "2024-07-17T00:00:00.000000000",
          "2024-07-18T00:00:00.000000000",
          "2024-07-19T00:00:00.000000000",
          "2024-07-22T00:00:00.000000000",
          "2024-07-23T00:00:00.000000000",
          "2024-07-24T00:00:00.000000000",
          "2024-07-25T00:00:00.000000000",
          "2024-07-26T00:00:00.000000000",
          "2024-07-29T00:00:00.000000000",
          "2024-07-30T00:00:00.000000000",
          "2024-07-31T00:00:00.000000000",
          "2024-08-01T00:00:00.000000000",
          "2024-08-02T00:00:00.000000000",
          "2024-08-05T00:00:00.000000000",
          "2024-08-06T00:00:00.000000000",
          "2024-08-07T00:00:00.000000000",
          "2024-08-08T00:00:00.000000000",
          "2024-08-09T00:00:00.000000000",
          "2024-08-12T00:00:00.000000000",
          "2024-08-13T00:00:00.000000000",
          "2024-08-14T00:00:00.000000000",
          "2024-08-15T00:00:00.000000000",
          "2024-08-16T00:00:00.000000000",
          "2024-08-19T00:00:00.000000000",
          "2024-08-20T00:00:00.000000000",
          "2024-08-21T00:00:00.000000000",
          "2024-08-22T00:00:00.000000000",
          "2024-08-23T00:00:00.000000000",
          "2024-08-26T00:00:00.000000000",
          "2024-08-27T00:00:00.000000000",
          "2024-08-28T00:00:00.000000000",
          "2024-08-29T00:00:00.000000000",
          "2024-08-30T00:00:00.000000000",
          "2024-09-03T00:00:00.000000000",
          "2024-09-04T00:00:00.000000000",
          "2024-09-05T00:00:00.000000000",
          "2024-09-06T00:00:00.000000000",
          "2024-09-09T00:00:00.000000000",
          "2024-09-10T00:00:00.000000000",
          "2024-09-11T00:00:00.000000000",
          "2024-09-12T00:00:00.000000000",
          "2024-09-13T00:00:00.000000000",
          "2024-09-16T00:00:00.000000000",
          "2024-09-17T00:00:00.000000000",
          "2024-09-18T00:00:00.000000000",
          "2024-09-19T00:00:00.000000000",
          "2024-09-20T00:00:00.000000000",
          "2024-09-23T00:00:00.000000000",
          "2024-09-24T00:00:00.000000000",
          "2024-09-25T00:00:00.000000000",
          "2024-09-26T00:00:00.000000000",
          "2024-09-27T00:00:00.000000000",
          "2024-09-30T00:00:00.000000000",
          "2024-10-01T00:00:00.000000000",
          "2024-10-02T00:00:00.000000000",
          "2024-10-03T00:00:00.000000000",
          "2024-10-04T00:00:00.000000000",
          "2024-10-07T00:00:00.000000000",
          "2024-10-08T00:00:00.000000000",
          "2024-10-09T00:00:00.000000000",
          "2024-10-10T00:00:00.000000000",
          "2024-10-11T00:00:00.000000000",
          "2024-10-14T00:00:00.000000000",
          "2024-10-15T00:00:00.000000000",
          "2024-10-16T00:00:00.000000000",
          "2024-10-17T00:00:00.000000000",
          "2024-10-18T00:00:00.000000000",
          "2024-10-21T00:00:00.000000000",
          "2024-10-22T00:00:00.000000000",
          "2024-10-23T00:00:00.000000000",
          "2024-10-24T00:00:00.000000000",
          "2024-10-25T00:00:00.000000000",
          "2024-10-28T00:00:00.000000000",
          "2024-10-29T00:00:00.000000000",
          "2024-10-30T00:00:00.000000000",
          "2024-10-31T00:00:00.000000000",
          "2024-11-01T00:00:00.000000000",
          "2024-11-04T00:00:00.000000000",
          "2024-11-05T00:00:00.000000000",
          "2024-11-06T00:00:00.000000000",
          "2024-11-07T00:00:00.000000000",
          "2024-11-08T00:00:00.000000000",
          "2024-11-11T00:00:00.000000000",
          "2024-11-12T00:00:00.000000000",
          "2024-11-13T00:00:00.000000000",
          "2024-11-14T00:00:00.000000000",
          "2024-11-15T00:00:00.000000000",
          "2024-11-18T00:00:00.000000000",
          "2024-11-19T00:00:00.000000000",
          "2024-11-20T00:00:00.000000000",
          "2024-11-21T00:00:00.000000000",
          "2024-11-22T00:00:00.000000000",
          "2024-11-25T00:00:00.000000000",
          "2024-11-26T00:00:00.000000000",
          "2024-11-27T00:00:00.000000000",
          "2024-11-29T00:00:00.000000000",
          "2024-12-02T00:00:00.000000000",
          "2024-12-03T00:00:00.000000000",
          "2024-12-04T00:00:00.000000000",
          "2024-12-05T00:00:00.000000000",
          "2024-12-06T00:00:00.000000000",
          "2024-12-09T00:00:00.000000000",
          "2024-12-10T00:00:00.000000000",
          "2024-12-11T00:00:00.000000000",
          "2024-12-12T00:00:00.000000000",
          "2024-12-13T00:00:00.000000000",
          "2024-12-16T00:00:00.000000000",
          "2024-12-17T00:00:00.000000000",
          "2024-12-18T00:00:00.000000000",
          "2024-12-19T00:00:00.000000000",
          "2024-12-20T00:00:00.000000000",
          "2024-12-23T00:00:00.000000000",
          "2024-12-24T00:00:00.000000000",
          "2024-12-26T00:00:00.000000000",
          "2024-12-27T00:00:00.000000000",
          "2024-12-30T00:00:00.000000000",
          "2024-12-31T00:00:00.000000000",
          "2025-01-02T00:00:00.000000000",
          "2025-01-03T00:00:00.000000000",
          "2025-01-06T00:00:00.000000000",
          "2025-01-07T00:00:00.000000000",
          "2025-01-08T00:00:00.000000000",
          "2025-01-10T00:00:00.000000000",
          "2025-01-13T00:00:00.000000000",
          "2025-01-14T00:00:00.000000000",
          "2025-01-15T00:00:00.000000000",
          "2025-01-16T00:00:00.000000000",
          "2025-01-17T00:00:00.000000000",
          "2025-01-21T00:00:00.000000000",
          "2025-01-22T00:00:00.000000000",
          "2025-01-23T00:00:00.000000000",
          "2025-01-24T00:00:00.000000000",
          "2025-01-27T00:00:00.000000000",
          "2025-01-28T00:00:00.000000000"
         ],
         "y": {
          "bdata": "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",
          "dtype": "f8"
         }
        },
        {
         "line": {
          "color": "purple"
         },
         "mode": "lines",
         "name": "YMAG-VVIX Correlation",
         "type": "scatter",
         "x": [
          "2024-03-01T00:00:00.000000000",
          "2024-03-04T00:00:00.000000000",
          "2024-03-05T00:00:00.000000000",
          "2024-03-06T00:00:00.000000000",
          "2024-03-07T00:00:00.000000000",
          "2024-03-08T00:00:00.000000000",
          "2024-03-11T00:00:00.000000000",
          "2024-03-12T00:00:00.000000000",
          "2024-03-13T00:00:00.000000000",
          "2024-03-14T00:00:00.000000000",
          "2024-03-15T00:00:00.000000000",
          "2024-03-18T00:00:00.000000000",
          "2024-03-19T00:00:00.000000000",
          "2024-03-20T00:00:00.000000000",
          "2024-03-21T00:00:00.000000000",
          "2024-03-22T00:00:00.000000000",
          "2024-03-25T00:00:00.000000000",
          "2024-03-26T00:00:00.000000000",
          "2024-03-27T00:00:00.000000000",
          "2024-03-28T00:00:00.000000000",
          "2024-04-01T00:00:00.000000000",
          "2024-04-02T00:00:00.000000000",
          "2024-04-03T00:00:00.000000000",
          "2024-04-04T00:00:00.000000000",
          "2024-04-05T00:00:00.000000000",
          "2024-04-08T00:00:00.000000000",
          "2024-04-09T00:00:00.000000000",
          "2024-04-10T00:00:00.000000000",
          "2024-04-11T00:00:00.000000000",
          "2024-04-12T00:00:00.000000000",
          "2024-04-15T00:00:00.000000000",
          "2024-04-16T00:00:00.000000000",
          "2024-04-17T00:00:00.000000000",
          "2024-04-18T00:00:00.000000000",
          "2024-04-19T00:00:00.000000000",
          "2024-04-22T00:00:00.000000000",
          "2024-04-23T00:00:00.000000000",
          "2024-04-24T00:00:00.000000000",
          "2024-04-25T00:00:00.000000000",
          "2024-04-26T00:00:00.000000000",
          "2024-04-29T00:00:00.000000000",
          "2024-04-30T00:00:00.000000000",
          "2024-05-01T00:00:00.000000000",
          "2024-05-02T00:00:00.000000000",
          "2024-05-03T00:00:00.000000000",
          "2024-05-06T00:00:00.000000000",
          "2024-05-07T00:00:00.000000000",
          "2024-05-08T00:00:00.000000000",
          "2024-05-09T00:00:00.000000000",
          "2024-05-10T00:00:00.000000000",
          "2024-05-13T00:00:00.000000000",
          "2024-05-14T00:00:00.000000000",
          "2024-05-15T00:00:00.000000000",
          "2024-05-16T00:00:00.000000000",
          "2024-05-17T00:00:00.000000000",
          "2024-05-20T00:00:00.000000000",
          "2024-05-21T00:00:00.000000000",
          "2024-05-22T00:00:00.000000000",
          "2024-05-23T00:00:00.000000000",
          "2024-05-24T00:00:00.000000000",
          "2024-05-28T00:00:00.000000000",
          "2024-05-29T00:00:00.000000000",
          "2024-05-30T00:00:00.000000000",
          "2024-05-31T00:00:00.000000000",
          "2024-06-03T00:00:00.000000000",
          "2024-06-04T00:00:00.000000000",
          "2024-06-05T00:00:00.000000000",
          "2024-06-06T00:00:00.000000000",
          "2024-06-07T00:00:00.000000000",
          "2024-06-10T00:00:00.000000000",
          "2024-06-11T00:00:00.000000000",
          "2024-06-12T00:00:00.000000000",
          "2024-06-13T00:00:00.000000000",
          "2024-06-14T00:00:00.000000000",
          "2024-06-17T00:00:00.000000000",
          "2024-06-18T00:00:00.000000000",
          "2024-06-20T00:00:00.000000000",
          "2024-06-21T00:00:00.000000000",
          "2024-06-24T00:00:00.000000000",
          "2024-06-25T00:00:00.000000000",
          "2024-06-26T00:00:00.000000000",
          "2024-06-27T00:00:00.000000000",
          "2024-06-28T00:00:00.000000000",
          "2024-07-01T00:00:00.000000000",
          "2024-07-02T00:00:00.000000000",
          "2024-07-03T00:00:00.000000000",
          "2024-07-05T00:00:00.000000000",
          "2024-07-08T00:00:00.000000000",
          "2024-07-09T00:00:00.000000000",
          "2024-07-10T00:00:00.000000000",
          "2024-07-11T00:00:00.000000000",
          "2024-07-12T00:00:00.000000000",
          "2024-07-15T00:00:00.000000000",
          "2024-07-16T00:00:00.000000000",
          "2024-07-17T00:00:00.000000000",
          "2024-07-18T00:00:00.000000000",
          "2024-07-19T00:00:00.000000000",
          "2024-07-22T00:00:00.000000000",
          "2024-07-23T00:00:00.000000000",
          "2024-07-24T00:00:00.000000000",
          "2024-07-25T00:00:00.000000000",
          "2024-07-26T00:00:00.000000000",
          "2024-07-29T00:00:00.000000000",
          "2024-07-30T00:00:00.000000000",
          "2024-07-31T00:00:00.000000000",
          "2024-08-01T00:00:00.000000000",
          "2024-08-02T00:00:00.000000000",
          "2024-08-05T00:00:00.000000000",
          "2024-08-06T00:00:00.000000000",
          "2024-08-07T00:00:00.000000000",
          "2024-08-08T00:00:00.000000000",
          "2024-08-09T00:00:00.000000000",
          "2024-08-12T00:00:00.000000000",
          "2024-08-13T00:00:00.000000000",
          "2024-08-14T00:00:00.000000000",
          "2024-08-15T00:00:00.000000000",
          "2024-08-16T00:00:00.000000000",
          "2024-08-19T00:00:00.000000000",
          "2024-08-20T00:00:00.000000000",
          "2024-08-21T00:00:00.000000000",
          "2024-08-22T00:00:00.000000000",
          "2024-08-23T00:00:00.000000000",
          "2024-08-26T00:00:00.000000000",
          "2024-08-27T00:00:00.000000000",
          "2024-08-28T00:00:00.000000000",
          "2024-08-29T00:00:00.000000000",
          "2024-08-30T00:00:00.000000000",
          "2024-09-03T00:00:00.000000000",
          "2024-09-04T00:00:00.000000000",
          "2024-09-05T00:00:00.000000000",
          "2024-09-06T00:00:00.000000000",
          "2024-09-09T00:00:00.000000000",
          "2024-09-10T00:00:00.000000000",
          "2024-09-11T00:00:00.000000000",
          "2024-09-12T00:00:00.000000000",
          "2024-09-13T00:00:00.000000000",
          "2024-09-16T00:00:00.000000000",
          "2024-09-17T00:00:00.000000000",
          "2024-09-18T00:00:00.000000000",
          "2024-09-19T00:00:00.000000000",
          "2024-09-20T00:00:00.000000000",
          "2024-09-23T00:00:00.000000000",
          "2024-09-24T00:00:00.000000000",
          "2024-09-25T00:00:00.000000000",
          "2024-09-26T00:00:00.000000000",
          "2024-09-27T00:00:00.000000000",
          "2024-09-30T00:00:00.000000000",
          "2024-10-01T00:00:00.000000000",
          "2024-10-02T00:00:00.000000000",
          "2024-10-03T00:00:00.000000000",
          "2024-10-04T00:00:00.000000000",
          "2024-10-07T00:00:00.000000000",
          "2024-10-08T00:00:00.000000000",
          "2024-10-09T00:00:00.000000000",
          "2024-10-10T00:00:00.000000000",
          "2024-10-11T00:00:00.000000000",
          "2024-10-14T00:00:00.000000000",
          "2024-10-15T00:00:00.000000000",
          "2024-10-16T00:00:00.000000000",
          "2024-10-17T00:00:00.000000000",
          "2024-10-18T00:00:00.000000000",
          "2024-10-21T00:00:00.000000000",
          "2024-10-22T00:00:00.000000000",
          "2024-10-23T00:00:00.000000000",
          "2024-10-24T00:00:00.000000000",
          "2024-10-25T00:00:00.000000000",
          "2024-10-28T00:00:00.000000000",
          "2024-10-29T00:00:00.000000000",
          "2024-10-30T00:00:00.000000000",
          "2024-10-31T00:00:00.000000000",
          "2024-11-01T00:00:00.000000000",
          "2024-11-04T00:00:00.000000000",
          "2024-11-05T00:00:00.000000000",
          "2024-11-06T00:00:00.000000000",
          "2024-11-07T00:00:00.000000000",
          "2024-11-08T00:00:00.000000000",
          "2024-11-11T00:00:00.000000000",
          "2024-11-12T00:00:00.000000000",
          "2024-11-13T00:00:00.000000000",
          "2024-11-14T00:00:00.000000000",
          "2024-11-15T00:00:00.000000000",
          "2024-11-18T00:00:00.000000000",
          "2024-11-19T00:00:00.000000000",
          "2024-11-20T00:00:00.000000000",
          "2024-11-21T00:00:00.000000000",
          "2024-11-22T00:00:00.000000000",
          "2024-11-25T00:00:00.000000000",
          "2024-11-26T00:00:00.000000000",
          "2024-11-27T00:00:00.000000000",
          "2024-11-29T00:00:00.000000000",
          "2024-12-02T00:00:00.000000000",
          "2024-12-03T00:00:00.000000000",
          "2024-12-04T00:00:00.000000000",
          "2024-12-05T00:00:00.000000000",
          "2024-12-06T00:00:00.000000000",
          "2024-12-09T00:00:00.000000000",
          "2024-12-10T00:00:00.000000000",
          "2024-12-11T00:00:00.000000000",
          "2024-12-12T00:00:00.000000000",
          "2024-12-13T00:00:00.000000000",
          "2024-12-16T00:00:00.000000000",
          "2024-12-17T00:00:00.000000000",
          "2024-12-18T00:00:00.000000000",
          "2024-12-19T00:00:00.000000000",
          "2024-12-20T00:00:00.000000000",
          "2024-12-23T00:00:00.000000000",
          "2024-12-24T00:00:00.000000000",
          "2024-12-26T00:00:00.000000000",
          "2024-12-27T00:00:00.000000000",
          "2024-12-30T00:00:00.000000000",
          "2024-12-31T00:00:00.000000000",
          "2025-01-02T00:00:00.000000000",
          "2025-01-03T00:00:00.000000000",
          "2025-01-06T00:00:00.000000000",
          "2025-01-07T00:00:00.000000000",
          "2025-01-08T00:00:00.000000000",
          "2025-01-10T00:00:00.000000000",
          "2025-01-13T00:00:00.000000000",
          "2025-01-14T00:00:00.000000000",
          "2025-01-15T00:00:00.000000000",
          "2025-01-16T00:00:00.000000000",
          "2025-01-17T00:00:00.000000000",
          "2025-01-21T00:00:00.000000000",
          "2025-01-22T00:00:00.000000000",
          "2025-01-23T00:00:00.000000000",
          "2025-01-24T00:00:00.000000000",
          "2025-01-27T00:00:00.000000000",
          "2025-01-28T00:00:00.000000000"
         ],
         "y": {
          "bdata": "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",
          "dtype": "f8"
         }
        }
       ],
       "layout": {
        "legend": {
         "x": 0,
         "y": 1
        },
        "template": {
         "data": {
          "bar": [
           {
            "error_x": {
             "color": "#f2f5fa"
            },
            "error_y": {
             "color": "#f2f5fa"
            },
            "marker": {
             "line": {
              "color": "rgb(17,17,17)",
              "width": 0.5
             },
             "pattern": {
              "fillmode": "overlay",
              "size": 10,
              "solidity": 0.2
             }
            },
            "type": "bar"
           }
          ],
          "barpolar": [
           {
            "marker": {
             "line": {
              "color": "rgb(17,17,17)",
              "width": 0.5
             },
             "pattern": {
              "fillmode": "overlay",
              "size": 10,
              "solidity": 0.2
             }
            },
            "type": "barpolar"
           }
          ],
          "carpet": [
           {
            "aaxis": {
             "endlinecolor": "#A2B1C6",
             "gridcolor": "#506784",
             "linecolor": "#506784",
             "minorgridcolor": "#506784",
             "startlinecolor": "#A2B1C6"
            },
            "baxis": {
             "endlinecolor": "#A2B1C6",
             "gridcolor": "#506784",
             "linecolor": "#506784",
             "minorgridcolor": "#506784",
             "startlinecolor": "#A2B1C6"
            },
            "type": "carpet"
           }
          ],
          "choropleth": [
           {
            "colorbar": {
             "outlinewidth": 0,
             "ticks": ""
            },
            "type": "choropleth"
           }
          ],
          "contour": [
           {
            "colorbar": {
             "outlinewidth": 0,
             "ticks": ""
            },
            "colorscale": [
             [
              0,
              "#0d0887"
             ],
             [
              0.1111111111111111,
              "#46039f"
             ],
             [
              0.2222222222222222,
              "#7201a8"
             ],
             [
              0.3333333333333333,
              "#9c179e"
             ],
             [
              0.4444444444444444,
              "#bd3786"
             ],
             [
              0.5555555555555556,
              "#d8576b"
             ],
             [
              0.6666666666666666,
              "#ed7953"
             ],
             [
              0.7777777777777778,
              "#fb9f3a"
             ],
             [
              0.8888888888888888,
              "#fdca26"
             ],
             [
              1,
              "#f0f921"
             ]
            ],
            "type": "contour"
           }
          ],
          "contourcarpet": [
           {
            "colorbar": {
             "outlinewidth": 0,
             "ticks": ""
            },
            "type": "contourcarpet"
           }
          ],
          "heatmap": [
           {
            "colorbar": {
             "outlinewidth": 0,
             "ticks": ""
            },
            "colorscale": [
             [
              0,
              "#0d0887"
             ],
             [
              0.1111111111111111,
              "#46039f"
             ],
             [
              0.2222222222222222,
              "#7201a8"
             ],
             [
              0.3333333333333333,
              "#9c179e"
             ],
             [
              0.4444444444444444,
              "#bd3786"
             ],
             [
              0.5555555555555556,
              "#d8576b"
             ],
             [
              0.6666666666666666,
              "#ed7953"
             ],
             [
              0.7777777777777778,
              "#fb9f3a"
             ],
             [
              0.8888888888888888,
              "#fdca26"
             ],
             [
              1,
              "#f0f921"
             ]
            ],
            "type": "heatmap"
           }
          ],
          "histogram": [
           {
            "marker": {
             "pattern": {
              "fillmode": "overlay",
              "size": 10,
              "solidity": 0.2
             }
            },
            "type": "histogram"
           }
          ],
          "histogram2d": [
           {
            "colorbar": {
             "outlinewidth": 0,
             "ticks": ""
            },
            "colorscale": [
             [
              0,
              "#0d0887"
             ],
             [
              0.1111111111111111,
              "#46039f"
             ],
             [
              0.2222222222222222,
              "#7201a8"
             ],
             [
              0.3333333333333333,
              "#9c179e"
             ],
             [
              0.4444444444444444,
              "#bd3786"
             ],
             [
              0.5555555555555556,
              "#d8576b"
             ],
             [
              0.6666666666666666,
              "#ed7953"
             ],
             [
              0.7777777777777778,
              "#fb9f3a"
             ],
             [
              0.8888888888888888,
              "#fdca26"
             ],
             [
              1,
              "#f0f921"
             ]
            ],
            "type": "histogram2d"
           }
          ],
          "histogram2dcontour": [
           {
            "colorbar": {
             "outlinewidth": 0,
             "ticks": ""
            },
            "colorscale": [
             [
              0,
              "#0d0887"
             ],
             [
              0.1111111111111111,
              "#46039f"
             ],
             [
              0.2222222222222222,
              "#7201a8"
             ],
             [
              0.3333333333333333,
              "#9c179e"
             ],
             [
              0.4444444444444444,
              "#bd3786"
             ],
             [
              0.5555555555555556,
              "#d8576b"
             ],
             [
              0.6666666666666666,
              "#ed7953"
             ],
             [
              0.7777777777777778,
              "#fb9f3a"
             ],
             [
              0.8888888888888888,
              "#fdca26"
             ],
             [
              1,
              "#f0f921"
             ]
            ],
            "type": "histogram2dcontour"
           }
          ],
          "mesh3d": [
           {
            "colorbar": {
             "outlinewidth": 0,
             "ticks": ""
            },
            "type": "mesh3d"
           }
          ],
          "parcoords": [
           {
            "line": {
             "colorbar": {
              "outlinewidth": 0,
              "ticks": ""
             }
            },
            "type": "parcoords"
           }
          ],
          "pie": [
           {
            "automargin": true,
            "type": "pie"
           }
          ],
          "scatter": [
           {
            "marker": {
             "line": {
              "color": "#283442"
             }
            },
            "type": "scatter"
           }
          ],
          "scatter3d": [
           {
            "line": {
             "colorbar": {
              "outlinewidth": 0,
              "ticks": ""
             }
            },
            "marker": {
             "colorbar": {
              "outlinewidth": 0,
              "ticks": ""
             }
            },
            "type": "scatter3d"
           }
          ],
          "scattercarpet": [
           {
            "marker": {
             "colorbar": {
              "outlinewidth": 0,
              "ticks": ""
             }
            },
            "type": "scattercarpet"
           }
          ],
          "scattergeo": [
           {
            "marker": {
             "colorbar": {
              "outlinewidth": 0,
              "ticks": ""
             }
            },
            "type": "scattergeo"
           }
          ],
          "scattergl": [
           {
            "marker": {
             "line": {
              "color": "#283442"
             }
            },
            "type": "scattergl"
           }
          ],
          "scattermap": [
           {
            "marker": {
             "colorbar": {
              "outlinewidth": 0,
              "ticks": ""
             }
            },
            "type": "scattermap"
           }
          ],
          "scattermapbox": [
           {
            "marker": {
             "colorbar": {
              "outlinewidth": 0,
              "ticks": ""
             }
            },
            "type": "scattermapbox"
           }
          ],
          "scatterpolar": [
           {
            "marker": {
             "colorbar": {
              "outlinewidth": 0,
              "ticks": ""
             }
            },
            "type": "scatterpolar"
           }
          ],
          "scatterpolargl": [
           {
            "marker": {
             "colorbar": {
              "outlinewidth": 0,
              "ticks": ""
             }
            },
            "type": "scatterpolargl"
           }
          ],
          "scatterternary": [
           {
            "marker": {
             "colorbar": {
              "outlinewidth": 0,
              "ticks": ""
             }
            },
            "type": "scatterternary"
           }
          ],
          "surface": [
           {
            "colorbar": {
             "outlinewidth": 0,
             "ticks": ""
            },
            "colorscale": [
             [
              0,
              "#0d0887"
             ],
             [
              0.1111111111111111,
              "#46039f"
             ],
             [
              0.2222222222222222,
              "#7201a8"
             ],
             [
              0.3333333333333333,
              "#9c179e"
             ],
             [
              0.4444444444444444,
              "#bd3786"
             ],
             [
              0.5555555555555556,
              "#d8576b"
             ],
             [
              0.6666666666666666,
              "#ed7953"
             ],
             [
              0.7777777777777778,
              "#fb9f3a"
             ],
             [
              0.8888888888888888,
              "#fdca26"
             ],
             [
              1,
              "#f0f921"
             ]
            ],
            "type": "surface"
           }
          ],
          "table": [
           {
            "cells": {
             "fill": {
              "color": "#506784"
             },
             "line": {
              "color": "rgb(17,17,17)"
             }
            },
            "header": {
             "fill": {
              "color": "#2a3f5f"
             },
             "line": {
              "color": "rgb(17,17,17)"
             }
            },
            "type": "table"
           }
          ]
         },
         "layout": {
          "annotationdefaults": {
           "arrowcolor": "#f2f5fa",
           "arrowhead": 0,
           "arrowwidth": 1
          },
          "autotypenumbers": "strict",
          "coloraxis": {
           "colorbar": {
            "outlinewidth": 0,
            "ticks": ""
           }
          },
          "colorscale": {
           "diverging": [
            [
             0,
             "#8e0152"
            ],
            [
             0.1,
             "#c51b7d"
            ],
            [
             0.2,
             "#de77ae"
            ],
            [
             0.3,
             "#f1b6da"
            ],
            [
             0.4,
             "#fde0ef"
            ],
            [
             0.5,
             "#f7f7f7"
            ],
            [
             0.6,
             "#e6f5d0"
            ],
            [
             0.7,
             "#b8e186"
            ],
            [
             0.8,
             "#7fbc41"
            ],
            [
             0.9,
             "#4d9221"
            ],
            [
             1,
             "#276419"
            ]
           ],
           "sequential": [
            [
             0,
             "#0d0887"
            ],
            [
             0.1111111111111111,
             "#46039f"
            ],
            [
             0.2222222222222222,
             "#7201a8"
            ],
            [
             0.3333333333333333,
             "#9c179e"
            ],
            [
             0.4444444444444444,
             "#bd3786"
            ],
            [
             0.5555555555555556,
             "#d8576b"
            ],
            [
             0.6666666666666666,
             "#ed7953"
            ],
            [
             0.7777777777777778,
             "#fb9f3a"
            ],
            [
             0.8888888888888888,
             "#fdca26"
            ],
            [
             1,
             "#f0f921"
            ]
           ],
           "sequentialminus": [
            [
             0,
             "#0d0887"
            ],
            [
             0.1111111111111111,
             "#46039f"
            ],
            [
             0.2222222222222222,
             "#7201a8"
            ],
            [
             0.3333333333333333,
             "#9c179e"
            ],
            [
             0.4444444444444444,
             "#bd3786"
            ],
            [
             0.5555555555555556,
             "#d8576b"
            ],
            [
             0.6666666666666666,
             "#ed7953"
            ],
            [
             0.7777777777777778,
             "#fb9f3a"
            ],
            [
             0.8888888888888888,
             "#fdca26"
            ],
            [
             1,
             "#f0f921"
            ]
           ]
          },
          "colorway": [
           "#636efa",
           "#EF553B",
           "#00cc96",
           "#ab63fa",
           "#FFA15A",
           "#19d3f3",
           "#FF6692",
           "#B6E880",
           "#FF97FF",
           "#FECB52"
          ],
          "font": {
           "color": "#f2f5fa"
          },
          "geo": {
           "bgcolor": "rgb(17,17,17)",
           "lakecolor": "rgb(17,17,17)",
           "landcolor": "rgb(17,17,17)",
           "showlakes": true,
           "showland": true,
           "subunitcolor": "#506784"
          },
          "hoverlabel": {
           "align": "left"
          },
          "hovermode": "closest",
          "mapbox": {
           "style": "dark"
          },
          "paper_bgcolor": "rgb(17,17,17)",
          "plot_bgcolor": "rgb(17,17,17)",
          "polar": {
           "angularaxis": {
            "gridcolor": "#506784",
            "linecolor": "#506784",
            "ticks": ""
           },
           "bgcolor": "rgb(17,17,17)",
           "radialaxis": {
            "gridcolor": "#506784",
            "linecolor": "#506784",
            "ticks": ""
           }
          },
          "scene": {
           "xaxis": {
            "backgroundcolor": "rgb(17,17,17)",
            "gridcolor": "#506784",
            "gridwidth": 2,
            "linecolor": "#506784",
            "showbackground": true,
            "ticks": "",
            "zerolinecolor": "#C8D4E3"
           },
           "yaxis": {
            "backgroundcolor": "rgb(17,17,17)",
            "gridcolor": "#506784",
            "gridwidth": 2,
            "linecolor": "#506784",
            "showbackground": true,
            "ticks": "",
            "zerolinecolor": "#C8D4E3"
           },
           "zaxis": {
            "backgroundcolor": "rgb(17,17,17)",
            "gridcolor": "#506784",
            "gridwidth": 2,
            "linecolor": "#506784",
            "showbackground": true,
            "ticks": "",
            "zerolinecolor": "#C8D4E3"
           }
          },
          "shapedefaults": {
           "line": {
            "color": "#f2f5fa"
           }
          },
          "sliderdefaults": {
           "bgcolor": "#C8D4E3",
           "bordercolor": "rgb(17,17,17)",
           "borderwidth": 1,
           "tickwidth": 0
          },
          "ternary": {
           "aaxis": {
            "gridcolor": "#506784",
            "linecolor": "#506784",
            "ticks": ""
           },
           "baxis": {
            "gridcolor": "#506784",
            "linecolor": "#506784",
            "ticks": ""
           },
           "bgcolor": "rgb(17,17,17)",
           "caxis": {
            "gridcolor": "#506784",
            "linecolor": "#506784",
            "ticks": ""
           }
          },
          "title": {
           "x": 0.05
          },
          "updatemenudefaults": {
           "bgcolor": "#506784",
           "borderwidth": 0
          },
          "xaxis": {
           "automargin": true,
           "gridcolor": "#283442",
           "linecolor": "#506784",
           "ticks": "",
           "title": {
            "standoff": 15
           },
           "zerolinecolor": "#283442",
           "zerolinewidth": 2
          },
          "yaxis": {
           "automargin": true,
           "gridcolor": "#283442",
           "linecolor": "#506784",
           "ticks": "",
           "title": {
            "standoff": 15
           },
           "zerolinecolor": "#283442",
           "zerolinewidth": 2
          }
         }
        },
        "title": {
         "text": "Rolling Correlations of YMAG with VIX and VVIX"
        },
        "xaxis": {
         "title": {
          "text": "Date"
         }
        },
        "yaxis": {
         "title": {
          "text": "Correlation"
         }
        }
       }
      }
     },
     "metadata": {},
     "output_type": "display_data"
    }
   ],
   "source": [
    "# Create figure for YMAX correlations\n",
    "fig_ymax_corr = go.Figure()\n",
    "\n",
    "# Add YMAX-VIX Correlation (Blue)\n",
    "fig_ymax_corr.add_trace(go.Scatter(\n",
    "    x=stats_df.index, \n",
    "    y=stats_df[\"YMAX-VIX Correlation\"], \n",
    "    mode=\"lines\", \n",
    "    name=\"YMAX-VIX Correlation\",\n",
    "    line=dict(color=\"blue\")\n",
    "))\n",
    "\n",
    "# Add YMAX-VVIX Correlation (Red)\n",
    "fig_ymax_corr.add_trace(go.Scatter(\n",
    "    x=stats_df.index, \n",
    "    y=stats_df[\"YMAX-VVIX Correlation\"], \n",
    "    mode=\"lines\", \n",
    "    name=\"YMAX-VVIX Correlation\",\n",
    "    line=dict(color=\"red\")\n",
    "))\n",
    "\n",
    "# Customize layout for YMAX correlation plot\n",
    "fig_ymax_corr.update_layout(\n",
    "    title=\"Rolling Correlations of YMAX with VIX and VVIX\",\n",
    "    xaxis_title=\"Date\",\n",
    "    yaxis_title=\"Correlation\",\n",
    "    template=\"plotly_dark\",\n",
    "    legend=dict(x=0, y=1)\n",
    ")\n",
    "\n",
    "# Create figure for YMAG correlations\n",
    "fig_ymag_corr = go.Figure()\n",
    "\n",
    "# Add YMAG-VIX Correlation (Green)\n",
    "fig_ymag_corr.add_trace(go.Scatter(\n",
    "    x=stats_df.index, \n",
    "    y=stats_df[\"YMAG-VIX Correlation\"], \n",
    "    mode=\"lines\", \n",
    "    name=\"YMAG-VIX Correlation\",\n",
    "    line=dict(color=\"green\")\n",
    "))\n",
    "\n",
    "# Add YMAG-VVIX Correlation (Purple)\n",
    "fig_ymag_corr.add_trace(go.Scatter(\n",
    "    x=stats_df.index, \n",
    "    y=stats_df[\"YMAG-VVIX Correlation\"], \n",
    "    mode=\"lines\", \n",
    "    name=\"YMAG-VVIX Correlation\",\n",
    "    line=dict(color=\"purple\")\n",
    "))\n",
    "\n",
    "# Customize layout for YMAG correlation plot\n",
    "fig_ymag_corr.update_layout(\n",
    "    title=\"Rolling Correlations of YMAG with VIX and VVIX\",\n",
    "    xaxis_title=\"Date\",\n",
    "    yaxis_title=\"Correlation\",\n",
    "    template=\"plotly_dark\",\n",
    "    legend=dict(x=0, y=1)\n",
    ")\n",
    "\n",
    "# Show the plots\n",
    "fig_ymax_corr.show()\n",
    "fig_ymag_corr.show()\n"
   ]
  },
  {
   "cell_type": "code",
   "execution_count": 158,
   "metadata": {},
   "outputs": [
    {
     "data": {
      "text/html": [
       "<div>\n",
       "<style scoped>\n",
       "    .dataframe tbody tr th:only-of-type {\n",
       "        vertical-align: middle;\n",
       "    }\n",
       "\n",
       "    .dataframe tbody tr th {\n",
       "        vertical-align: top;\n",
       "    }\n",
       "\n",
       "    .dataframe thead th {\n",
       "        text-align: right;\n",
       "    }\n",
       "</style>\n",
       "<table border=\"1\" class=\"dataframe\">\n",
       "  <thead>\n",
       "    <tr style=\"text-align: right;\">\n",
       "      <th></th>\n",
       "      <th>YMAX</th>\n",
       "      <th>YMAG</th>\n",
       "      <th>VIX</th>\n",
       "      <th>VVIX</th>\n",
       "      <th>QQQ</th>\n",
       "    </tr>\n",
       "  </thead>\n",
       "  <tbody>\n",
       "    <tr>\n",
       "      <th>YMAX</th>\n",
       "      <td>1.000000</td>\n",
       "      <td>0.797942</td>\n",
       "      <td>-0.595510</td>\n",
       "      <td>-0.733907</td>\n",
       "      <td>-0.700428</td>\n",
       "    </tr>\n",
       "    <tr>\n",
       "      <th>YMAG</th>\n",
       "      <td>0.797942</td>\n",
       "      <td>1.000000</td>\n",
       "      <td>-0.705460</td>\n",
       "      <td>-0.742475</td>\n",
       "      <td>-0.230507</td>\n",
       "    </tr>\n",
       "    <tr>\n",
       "      <th>VIX</th>\n",
       "      <td>-0.595510</td>\n",
       "      <td>-0.705460</td>\n",
       "      <td>1.000000</td>\n",
       "      <td>0.938882</td>\n",
       "      <td>0.083769</td>\n",
       "    </tr>\n",
       "    <tr>\n",
       "      <th>VVIX</th>\n",
       "      <td>-0.733907</td>\n",
       "      <td>-0.742475</td>\n",
       "      <td>0.938882</td>\n",
       "      <td>1.000000</td>\n",
       "      <td>0.278904</td>\n",
       "    </tr>\n",
       "    <tr>\n",
       "      <th>QQQ</th>\n",
       "      <td>-0.700428</td>\n",
       "      <td>-0.230507</td>\n",
       "      <td>0.083769</td>\n",
       "      <td>0.278904</td>\n",
       "      <td>1.000000</td>\n",
       "    </tr>\n",
       "  </tbody>\n",
       "</table>\n",
       "</div>"
      ],
      "text/plain": [
       "          YMAX      YMAG       VIX      VVIX       QQQ\n",
       "YMAX  1.000000  0.797942 -0.595510 -0.733907 -0.700428\n",
       "YMAG  0.797942  1.000000 -0.705460 -0.742475 -0.230507\n",
       "VIX  -0.595510 -0.705460  1.000000  0.938882  0.083769\n",
       "VVIX -0.733907 -0.742475  0.938882  1.000000  0.278904\n",
       "QQQ  -0.700428 -0.230507  0.083769  0.278904  1.000000"
      ]
     },
     "execution_count": 158,
     "metadata": {},
     "output_type": "execute_result"
    }
   ],
   "source": [
    "# correlation of them all against each other\n",
    "merged_df.corr()"
   ]
  },
  {
   "cell_type": "markdown",
   "metadata": {},
   "source": [
    "The above analysis presents visualizations of the volatilities and correlations of the assets. We have both the overall correlations and the rolling correlations, the rolling correlations help track how asset relationships change over time, revealing shifts in market dynamics and risk exposure. Unlike static correlations, they adapt to different market conditions, aiding in diversification and hedging strategies. A sudden rise in correlation may signal market stress, while a drop can indicate idiosyncratic movements."
   ]
  },
  {
   "cell_type": "markdown",
   "metadata": {},
   "source": []
  },
  {
   "cell_type": "markdown",
   "metadata": {},
   "source": []
  }
 ],
 "metadata": {
  "kernelspec": {
   "display_name": "Python 3",
   "language": "python",
   "name": "python3"
  },
  "language_info": {
   "codemirror_mode": {
    "name": "ipython",
    "version": 3
   },
   "file_extension": ".py",
   "mimetype": "text/x-python",
   "name": "python",
   "nbconvert_exporter": "python",
   "pygments_lexer": "ipython3",
   "version": "3.12.3"
  }
 },
 "nbformat": 4,
 "nbformat_minor": 2
}
