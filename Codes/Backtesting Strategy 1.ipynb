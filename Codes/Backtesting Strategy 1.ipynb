{
 "cells": [
  {
   "cell_type": "code",
   "execution_count": 1,
   "metadata": {},
   "outputs": [],
   "source": [
    "import pandas as pd\n",
    "import numpy as np\n",
    "import os"
   ]
  },
  {
   "cell_type": "code",
   "execution_count": null,
   "metadata": {},
   "outputs": [],
   "source": [
    "\n",
    "import matplotlib.pyplot as plt\n",
    "import seaborn as sns\n",
    "from mplfinance.original_flavor import candlestick_ohlc\n",
    "import matplotlib.dates as mdates\n",
    "import matplotlib.ticker as mticker"
   ]
  },
  {
   "cell_type": "code",
   "execution_count": 3,
   "metadata": {},
   "outputs": [],
   "source": [
    "import warnings\n",
    "\n",
    "# Suppress all warnings\n",
    "warnings.simplefilter(action='ignore', category=Warning)"
   ]
  },
  {
   "cell_type": "code",
   "execution_count": 4,
   "metadata": {},
   "outputs": [],
   "source": [
    "# Set the working directory\n",
    "os.chdir(r\"D:\\Benson\\aUpWork\\Douglas Backtester Algo\\Backtester Algorithm\\Data\")"
   ]
  },
  {
   "cell_type": "code",
   "execution_count": 5,
   "metadata": {},
   "outputs": [
    {
     "name": "stdout",
     "output_type": "stream",
     "text": [
      "Display set to show all rows and columns.\n",
      "Display options reset to default.\n"
     ]
    }
   ],
   "source": [
    "# Function to view all rows and columns\n",
    "def view_all():\n",
    "    pd.set_option('display.max_rows', None)  # Show all rows\n",
    "    pd.set_option('display.max_columns', None)  # Show all columns\n",
    "    print(\"Display set to show all rows and columns.\")\n",
    "\n",
    "# Function to reset display options to default\n",
    "def reset_display():\n",
    "    pd.reset_option('display.max_rows')\n",
    "    pd.reset_option('display.max_columns')\n",
    "    print(\"Display options reset to default.\")\n",
    "\n",
    "# Example Usage\n",
    "view_all()  # Set to view all rows and columns\n",
    "reset_display()  # Reset to default display settings\n"
   ]
  },
  {
   "cell_type": "code",
   "execution_count": 6,
   "metadata": {},
   "outputs": [
    {
     "data": {
      "application/vnd.microsoft.datawrangler.viewer.v0+json": {
       "columns": [
        {
         "name": "index",
         "rawType": "int64",
         "type": "integer"
        },
        {
         "name": "Date",
         "rawType": "datetime64[ns]",
         "type": "datetime"
        },
        {
         "name": "Price",
         "rawType": "float64",
         "type": "float"
        },
        {
         "name": "Open",
         "rawType": "float64",
         "type": "float"
        },
        {
         "name": "High",
         "rawType": "float64",
         "type": "float"
        },
        {
         "name": "Low",
         "rawType": "float64",
         "type": "float"
        }
       ],
       "conversionMethod": "pd.DataFrame",
       "ref": "387dff7f-85a0-4924-8b6c-6d1eb6605a99",
       "rows": [
        [
         "0",
         "2025-02-13 00:00:00",
         "0.05",
         null,
         null,
         null
        ],
        [
         "1",
         "2025-02-13 00:00:00",
         "18.19",
         "18.05",
         "18.2",
         "18.0"
        ],
        [
         "2",
         "2025-02-12 00:00:00",
         "18.04",
         "17.91",
         "18.08",
         "17.85"
        ],
        [
         "3",
         "2025-02-11 00:00:00",
         "18.01",
         "18.07",
         "18.12",
         "17.95"
        ],
        [
         "4",
         "2025-02-10 00:00:00",
         "18.07",
         "18.13",
         "18.21",
         "18.07"
        ],
        [
         "5",
         "2025-02-07 00:00:00",
         "18.07",
         "18.24",
         "18.34",
         "18.0"
        ],
        [
         "6",
         "2025-02-06 00:00:00",
         "0.19",
         null,
         null,
         null
        ],
        [
         "7",
         "2025-02-06 00:00:00",
         "18.29",
         "18.21",
         "18.29",
         "18.14"
        ],
        [
         "8",
         "2025-02-05 00:00:00",
         "18.4",
         "18.37",
         "18.4",
         "18.24"
        ],
        [
         "9",
         "2025-02-04 00:00:00",
         "18.55",
         "18.37",
         "18.55",
         "18.29"
        ],
        [
         "10",
         "2025-02-03 00:00:00",
         "18.29",
         "18.18",
         "18.34",
         "18.03"
        ],
        [
         "11",
         "2025-01-31 00:00:00",
         "18.57",
         "18.65",
         "18.81",
         "18.46"
        ],
        [
         "12",
         "2025-01-30 00:00:00",
         "0.19",
         null,
         null,
         null
        ],
        [
         "13",
         "2025-01-30 00:00:00",
         "18.55",
         "18.64",
         "18.64",
         "18.25"
        ],
        [
         "14",
         "2025-01-29 00:00:00",
         "18.72",
         "18.77",
         "18.79",
         "18.51"
        ],
        [
         "15",
         "2025-01-28 00:00:00",
         "18.81",
         "18.48",
         "18.83",
         "18.35"
        ],
        [
         "16",
         "2025-01-27 00:00:00",
         "18.39",
         "18.27",
         "18.53",
         "18.18"
        ],
        [
         "17",
         "2025-01-24 00:00:00",
         "18.93",
         "19.0",
         "19.07",
         "18.83"
        ],
        [
         "18",
         "2025-01-23 00:00:00",
         "0.1",
         null,
         null,
         null
        ],
        [
         "19",
         "2025-01-23 00:00:00",
         "18.94",
         "18.94",
         "18.97",
         "18.85"
        ],
        [
         "20",
         "2025-01-22 00:00:00",
         "19.06",
         "18.94",
         "19.09",
         "18.9"
        ],
        [
         "21",
         "2025-01-21 00:00:00",
         "18.9",
         "18.99",
         "18.99",
         "18.64"
        ],
        [
         "22",
         "2025-01-17 00:00:00",
         "18.79",
         "18.8",
         "18.91",
         "18.74"
        ],
        [
         "23",
         "2025-01-16 00:00:00",
         "0.05",
         null,
         null,
         null
        ],
        [
         "24",
         "2025-01-16 00:00:00",
         "18.59",
         "18.85",
         "18.85",
         "18.55"
        ],
        [
         "25",
         "2025-01-15 00:00:00",
         "18.85",
         "18.67",
         "18.9",
         "18.59"
        ],
        [
         "26",
         "2025-01-14 00:00:00",
         "18.44",
         "18.7",
         "18.7",
         "18.29"
        ],
        [
         "27",
         "2025-01-13 00:00:00",
         "18.6",
         "18.36",
         "18.6",
         "18.25"
        ],
        [
         "28",
         "2025-01-10 00:00:00",
         "18.71",
         "18.79",
         "18.8",
         "18.42"
        ],
        [
         "29",
         "2025-01-08 00:00:00",
         "0.16",
         null,
         null,
         null
        ],
        [
         "30",
         "2025-01-08 00:00:00",
         "18.84",
         "18.93",
         "18.99",
         "18.71"
        ],
        [
         "31",
         "2025-01-07 00:00:00",
         "19.09",
         "19.48",
         "19.51",
         "18.96"
        ],
        [
         "32",
         "2025-01-06 00:00:00",
         "19.45",
         "19.4",
         "19.5",
         "19.31"
        ],
        [
         "33",
         "2025-01-03 00:00:00",
         "0.31",
         null,
         null,
         null
        ],
        [
         "34",
         "2025-01-03 00:00:00",
         "19.2",
         "19.0",
         "19.2",
         "18.93"
        ],
        [
         "35",
         "2025-01-02 00:00:00",
         "19.18",
         "19.33",
         "19.35",
         "18.95"
        ],
        [
         "36",
         "2024-12-31 00:00:00",
         "19.25",
         "19.58",
         "19.58",
         "19.19"
        ],
        [
         "37",
         "2024-12-30 00:00:00",
         "19.51",
         "19.43",
         "19.58",
         "19.33"
        ],
        [
         "38",
         "2024-12-27 00:00:00",
         "0.17",
         null,
         null,
         null
        ],
        [
         "39",
         "2024-12-27 00:00:00",
         "19.72",
         "19.92",
         "19.92",
         "19.45"
        ],
        [
         "40",
         "2024-12-26 00:00:00",
         "20.18",
         "20.21",
         "20.21",
         "20.05"
        ],
        [
         "41",
         "2024-12-24 00:00:00",
         "20.21",
         "20.0",
         "20.21",
         "19.93"
        ],
        [
         "42",
         "2024-12-23 00:00:00",
         "19.88",
         "19.8",
         "19.89",
         "19.56"
        ],
        [
         "43",
         "2024-12-20 00:00:00",
         "19.63",
         "19.34",
         "19.91",
         "19.26"
        ],
        [
         "44",
         "2024-12-19 00:00:00",
         "0.06",
         null,
         null,
         null
        ],
        [
         "45",
         "2024-12-19 00:00:00",
         "19.6",
         "19.87",
         "19.87",
         "19.58"
        ],
        [
         "46",
         "2024-12-18 00:00:00",
         "19.62",
         "20.34",
         "20.41",
         "19.51"
        ],
        [
         "47",
         "2024-12-17 00:00:00",
         "20.35",
         "20.31",
         "20.35",
         "20.14"
        ],
        [
         "48",
         "2024-12-16 00:00:00",
         "20.31",
         "20.16",
         "20.33",
         "20.08"
        ],
        [
         "49",
         "2024-12-13 00:00:00",
         "20.0",
         "20.08",
         "20.12",
         "19.9"
        ]
       ],
       "shape": {
        "columns": 5,
        "rows": 289
       }
      },
      "text/html": [
       "<div>\n",
       "<style scoped>\n",
       "    .dataframe tbody tr th:only-of-type {\n",
       "        vertical-align: middle;\n",
       "    }\n",
       "\n",
       "    .dataframe tbody tr th {\n",
       "        vertical-align: top;\n",
       "    }\n",
       "\n",
       "    .dataframe thead th {\n",
       "        text-align: right;\n",
       "    }\n",
       "</style>\n",
       "<table border=\"1\" class=\"dataframe\">\n",
       "  <thead>\n",
       "    <tr style=\"text-align: right;\">\n",
       "      <th></th>\n",
       "      <th>Date</th>\n",
       "      <th>Price</th>\n",
       "      <th>Open</th>\n",
       "      <th>High</th>\n",
       "      <th>Low</th>\n",
       "    </tr>\n",
       "  </thead>\n",
       "  <tbody>\n",
       "    <tr>\n",
       "      <th>0</th>\n",
       "      <td>2025-02-13</td>\n",
       "      <td>0.05</td>\n",
       "      <td>NaN</td>\n",
       "      <td>NaN</td>\n",
       "      <td>NaN</td>\n",
       "    </tr>\n",
       "    <tr>\n",
       "      <th>1</th>\n",
       "      <td>2025-02-13</td>\n",
       "      <td>18.19</td>\n",
       "      <td>18.05</td>\n",
       "      <td>18.20</td>\n",
       "      <td>18.00</td>\n",
       "    </tr>\n",
       "    <tr>\n",
       "      <th>2</th>\n",
       "      <td>2025-02-12</td>\n",
       "      <td>18.04</td>\n",
       "      <td>17.91</td>\n",
       "      <td>18.08</td>\n",
       "      <td>17.85</td>\n",
       "    </tr>\n",
       "    <tr>\n",
       "      <th>3</th>\n",
       "      <td>2025-02-11</td>\n",
       "      <td>18.01</td>\n",
       "      <td>18.07</td>\n",
       "      <td>18.12</td>\n",
       "      <td>17.95</td>\n",
       "    </tr>\n",
       "    <tr>\n",
       "      <th>4</th>\n",
       "      <td>2025-02-10</td>\n",
       "      <td>18.07</td>\n",
       "      <td>18.13</td>\n",
       "      <td>18.21</td>\n",
       "      <td>18.07</td>\n",
       "    </tr>\n",
       "    <tr>\n",
       "      <th>...</th>\n",
       "      <td>...</td>\n",
       "      <td>...</td>\n",
       "      <td>...</td>\n",
       "      <td>...</td>\n",
       "      <td>...</td>\n",
       "    </tr>\n",
       "    <tr>\n",
       "      <th>284</th>\n",
       "      <td>2024-02-06</td>\n",
       "      <td>20.20</td>\n",
       "      <td>20.16</td>\n",
       "      <td>20.28</td>\n",
       "      <td>20.05</td>\n",
       "    </tr>\n",
       "    <tr>\n",
       "      <th>285</th>\n",
       "      <td>2024-02-05</td>\n",
       "      <td>20.19</td>\n",
       "      <td>20.34</td>\n",
       "      <td>20.34</td>\n",
       "      <td>19.95</td>\n",
       "    </tr>\n",
       "    <tr>\n",
       "      <th>286</th>\n",
       "      <td>2024-02-02</td>\n",
       "      <td>20.30</td>\n",
       "      <td>20.18</td>\n",
       "      <td>20.32</td>\n",
       "      <td>19.99</td>\n",
       "    </tr>\n",
       "    <tr>\n",
       "      <th>287</th>\n",
       "      <td>2024-02-01</td>\n",
       "      <td>19.75</td>\n",
       "      <td>19.68</td>\n",
       "      <td>19.76</td>\n",
       "      <td>19.60</td>\n",
       "    </tr>\n",
       "    <tr>\n",
       "      <th>288</th>\n",
       "      <td>2024-01-31</td>\n",
       "      <td>19.49</td>\n",
       "      <td>19.69</td>\n",
       "      <td>19.69</td>\n",
       "      <td>19.45</td>\n",
       "    </tr>\n",
       "  </tbody>\n",
       "</table>\n",
       "<p>289 rows × 5 columns</p>\n",
       "</div>"
      ],
      "text/plain": [
       "          Date  Price   Open   High    Low\n",
       "0   2025-02-13   0.05    NaN    NaN    NaN\n",
       "1   2025-02-13  18.19  18.05  18.20  18.00\n",
       "2   2025-02-12  18.04  17.91  18.08  17.85\n",
       "3   2025-02-11  18.01  18.07  18.12  17.95\n",
       "4   2025-02-10  18.07  18.13  18.21  18.07\n",
       "..         ...    ...    ...    ...    ...\n",
       "284 2024-02-06  20.20  20.16  20.28  20.05\n",
       "285 2024-02-05  20.19  20.34  20.34  19.95\n",
       "286 2024-02-02  20.30  20.18  20.32  19.99\n",
       "287 2024-02-01  19.75  19.68  19.76  19.60\n",
       "288 2024-01-31  19.49  19.69  19.69  19.45\n",
       "\n",
       "[289 rows x 5 columns]"
      ]
     },
     "execution_count": 6,
     "metadata": {},
     "output_type": "execute_result"
    }
   ],
   "source": [
    "# Load the excel data file\n",
    "file_path = r\"YMAG ETF Price & Dividends.xlsx\"\n",
    "YMAG = pd.read_excel(file_path)\n",
    "\n",
    "# Convert 'Date' column to datetime\n",
    "YMAG[\"Date\"] = pd.to_datetime(YMAG[\"Date\"])\n",
    "\n",
    "# Drop unnecessary columns\n",
    "YMAG = YMAG.drop(columns=['Vol.', 'Change %'])\n",
    "\n",
    "# Display the first few rows\n",
    "YMAG"
   ]
  },
  {
   "cell_type": "code",
   "execution_count": 7,
   "metadata": {},
   "outputs": [
    {
     "data": {
      "text/plain": [
       "Date      0\n",
       "Price     0\n",
       "Open     28\n",
       "High     28\n",
       "Low      28\n",
       "dtype: int64"
      ]
     },
     "execution_count": 7,
     "metadata": {},
     "output_type": "execute_result"
    }
   ],
   "source": [
    "# check for missing values in YMAX\n",
    "YMAG.isnull().sum()"
   ]
  },
  {
   "cell_type": "code",
   "execution_count": 8,
   "metadata": {},
   "outputs": [
    {
     "data": {
      "application/vnd.microsoft.datawrangler.viewer.v0+json": {
       "columns": [
        {
         "name": "index",
         "rawType": "int64",
         "type": "integer"
        },
        {
         "name": "Date",
         "rawType": "datetime64[ns]",
         "type": "datetime"
        },
        {
         "name": "Price",
         "rawType": "float64",
         "type": "float"
        },
        {
         "name": "Open",
         "rawType": "float64",
         "type": "float"
        },
        {
         "name": "High",
         "rawType": "float64",
         "type": "float"
        },
        {
         "name": "Low",
         "rawType": "float64",
         "type": "float"
        }
       ],
       "conversionMethod": "pd.DataFrame",
       "ref": "02a02e4c-6af9-432e-a5d7-ddca3dddd639",
       "rows": [
        [
         "0",
         "2025-02-13 00:00:00",
         "0.15",
         null,
         null,
         null
        ],
        [
         "1",
         "2025-02-13 00:00:00",
         "16.64",
         "16.47",
         "16.64",
         "16.38"
        ],
        [
         "2",
         "2025-02-12 00:00:00",
         "16.6",
         "16.39",
         "16.62",
         "16.33"
        ],
        [
         "3",
         "2025-02-11 00:00:00",
         "16.41",
         "16.57",
         "16.63",
         "16.39"
        ],
        [
         "4",
         "2025-02-10 00:00:00",
         "16.67",
         "16.53",
         "16.68",
         "16.53"
        ],
        [
         "5",
         "2025-02-07 00:00:00",
         "16.44",
         "16.51",
         "16.69",
         "16.4"
        ],
        [
         "6",
         "2025-02-06 00:00:00",
         "0.19",
         null,
         null,
         null
        ],
        [
         "7",
         "2025-02-06 00:00:00",
         "16.48",
         "16.49",
         "16.51",
         "16.36"
        ],
        [
         "8",
         "2025-02-05 00:00:00",
         "16.57",
         "16.68",
         "16.69",
         "16.54"
        ],
        [
         "9",
         "2025-02-04 00:00:00",
         "16.68",
         "16.58",
         "16.73",
         "16.56"
        ],
        [
         "10",
         "2025-02-03 00:00:00",
         "16.43",
         "16.17",
         "16.53",
         "16.16"
        ],
        [
         "11",
         "2025-01-31 00:00:00",
         "16.6",
         "16.79",
         "16.9",
         "16.55"
        ],
        [
         "12",
         "2025-01-30 00:00:00",
         "0.15",
         null,
         null,
         null
        ],
        [
         "13",
         "2025-01-30 00:00:00",
         "16.71",
         "16.63",
         "16.8",
         "16.61"
        ],
        [
         "14",
         "2025-01-29 00:00:00",
         "16.7",
         "16.79",
         "16.8",
         "16.55"
        ],
        [
         "15",
         "2025-01-28 00:00:00",
         "16.72",
         "16.57",
         "16.73",
         "16.33"
        ],
        [
         "16",
         "2025-01-27 00:00:00",
         "16.4",
         "16.44",
         "16.62",
         "16.23"
        ],
        [
         "17",
         "2025-01-24 00:00:00",
         "16.89",
         "17.0",
         "17.08",
         "16.86"
        ],
        [
         "18",
         "2025-01-23 00:00:00",
         "0.17",
         null,
         null,
         null
        ],
        [
         "19",
         "2025-01-23 00:00:00",
         "16.96",
         "16.8",
         "16.97",
         "16.77"
        ],
        [
         "20",
         "2025-01-22 00:00:00",
         "17.03",
         "17.04",
         "17.09",
         "16.97"
        ],
        [
         "21",
         "2025-01-21 00:00:00",
         "16.88",
         "17.08",
         "17.08",
         "16.72"
        ],
        [
         "22",
         "2025-01-17 00:00:00",
         "16.77",
         "16.68",
         "16.8",
         "16.64"
        ],
        [
         "23",
         "2025-01-16 00:00:00",
         "0.11",
         null,
         null,
         null
        ],
        [
         "24",
         "2025-01-16 00:00:00",
         "16.51",
         "16.57",
         "16.64",
         "16.5"
        ],
        [
         "25",
         "2025-01-15 00:00:00",
         "16.67",
         "16.64",
         "16.74",
         "16.52"
        ],
        [
         "26",
         "2025-01-14 00:00:00",
         "16.31",
         "16.45",
         "16.5",
         "16.22"
        ],
        [
         "27",
         "2025-01-13 00:00:00",
         "16.25",
         "16.1",
         "16.26",
         "15.99"
        ],
        [
         "28",
         "2025-01-10 00:00:00",
         "16.52",
         "16.65",
         "16.67",
         "16.33"
        ],
        [
         "29",
         "2025-01-08 00:00:00",
         "0.14",
         null,
         null,
         null
        ],
        [
         "30",
         "2025-01-08 00:00:00",
         "16.73",
         "16.96",
         "16.96",
         "16.53"
        ],
        [
         "31",
         "2025-01-07 00:00:00",
         "17.11",
         "17.51",
         "17.53",
         "17.01"
        ],
        [
         "32",
         "2025-01-06 00:00:00",
         "17.47",
         "17.46",
         "17.52",
         "17.38"
        ],
        [
         "33",
         "2025-01-03 00:00:00",
         "0.18",
         null,
         null,
         null
        ],
        [
         "34",
         "2025-01-03 00:00:00",
         "17.25",
         "16.97",
         "17.25",
         "16.93"
        ],
        [
         "35",
         "2025-01-02 00:00:00",
         "17.04",
         "17.12",
         "17.18",
         "16.88"
        ],
        [
         "36",
         "2024-12-31 00:00:00",
         "16.95",
         "17.19",
         "17.19",
         "16.88"
        ],
        [
         "37",
         "2024-12-30 00:00:00",
         "17.08",
         "17.18",
         "17.18",
         "16.88"
        ],
        [
         "38",
         "2024-12-27 00:00:00",
         "0.25",
         null,
         null,
         null
        ],
        [
         "39",
         "2024-12-27 00:00:00",
         "17.3",
         "17.53",
         "17.54",
         "17.15"
        ],
        [
         "40",
         "2024-12-26 00:00:00",
         "17.79",
         "17.88",
         "17.88",
         "17.7"
        ],
        [
         "41",
         "2024-12-24 00:00:00",
         "17.85",
         "17.68",
         "17.85",
         "17.61"
        ],
        [
         "42",
         "2024-12-23 00:00:00",
         "17.54",
         "17.6",
         "17.6",
         "17.34"
        ],
        [
         "43",
         "2024-12-20 00:00:00",
         "17.53",
         "17.1",
         "17.63",
         "17.05"
        ],
        [
         "44",
         "2024-12-19 00:00:00",
         "0.14",
         null,
         null,
         null
        ],
        [
         "45",
         "2024-12-19 00:00:00",
         "17.29",
         "17.61",
         "17.68",
         "17.25"
        ],
        [
         "46",
         "2024-12-18 00:00:00",
         "17.5",
         "18.3",
         "18.31",
         "17.39"
        ],
        [
         "47",
         "2024-12-17 00:00:00",
         "18.26",
         "18.32",
         "18.33",
         "18.16"
        ],
        [
         "48",
         "2024-12-16 00:00:00",
         "18.3",
         "18.19",
         "18.3",
         "18.17"
        ],
        [
         "49",
         "2024-12-13 00:00:00",
         "18.18",
         "18.3",
         "18.32",
         "18.01"
        ]
       ],
       "shape": {
        "columns": 5,
        "rows": 299
       }
      },
      "text/html": [
       "<div>\n",
       "<style scoped>\n",
       "    .dataframe tbody tr th:only-of-type {\n",
       "        vertical-align: middle;\n",
       "    }\n",
       "\n",
       "    .dataframe tbody tr th {\n",
       "        vertical-align: top;\n",
       "    }\n",
       "\n",
       "    .dataframe thead th {\n",
       "        text-align: right;\n",
       "    }\n",
       "</style>\n",
       "<table border=\"1\" class=\"dataframe\">\n",
       "  <thead>\n",
       "    <tr style=\"text-align: right;\">\n",
       "      <th></th>\n",
       "      <th>Date</th>\n",
       "      <th>Price</th>\n",
       "      <th>Open</th>\n",
       "      <th>High</th>\n",
       "      <th>Low</th>\n",
       "    </tr>\n",
       "  </thead>\n",
       "  <tbody>\n",
       "    <tr>\n",
       "      <th>0</th>\n",
       "      <td>2025-02-13</td>\n",
       "      <td>0.15</td>\n",
       "      <td>NaN</td>\n",
       "      <td>NaN</td>\n",
       "      <td>NaN</td>\n",
       "    </tr>\n",
       "    <tr>\n",
       "      <th>1</th>\n",
       "      <td>2025-02-13</td>\n",
       "      <td>16.64</td>\n",
       "      <td>16.47</td>\n",
       "      <td>16.64</td>\n",
       "      <td>16.38</td>\n",
       "    </tr>\n",
       "    <tr>\n",
       "      <th>2</th>\n",
       "      <td>2025-02-12</td>\n",
       "      <td>16.60</td>\n",
       "      <td>16.39</td>\n",
       "      <td>16.62</td>\n",
       "      <td>16.33</td>\n",
       "    </tr>\n",
       "    <tr>\n",
       "      <th>3</th>\n",
       "      <td>2025-02-11</td>\n",
       "      <td>16.41</td>\n",
       "      <td>16.57</td>\n",
       "      <td>16.63</td>\n",
       "      <td>16.39</td>\n",
       "    </tr>\n",
       "    <tr>\n",
       "      <th>4</th>\n",
       "      <td>2025-02-10</td>\n",
       "      <td>16.67</td>\n",
       "      <td>16.53</td>\n",
       "      <td>16.68</td>\n",
       "      <td>16.53</td>\n",
       "    </tr>\n",
       "    <tr>\n",
       "      <th>...</th>\n",
       "      <td>...</td>\n",
       "      <td>...</td>\n",
       "      <td>...</td>\n",
       "      <td>...</td>\n",
       "      <td>...</td>\n",
       "    </tr>\n",
       "    <tr>\n",
       "      <th>294</th>\n",
       "      <td>2024-01-24</td>\n",
       "      <td>20.36</td>\n",
       "      <td>20.51</td>\n",
       "      <td>20.53</td>\n",
       "      <td>20.35</td>\n",
       "    </tr>\n",
       "    <tr>\n",
       "      <th>295</th>\n",
       "      <td>2024-01-23</td>\n",
       "      <td>20.27</td>\n",
       "      <td>20.21</td>\n",
       "      <td>20.28</td>\n",
       "      <td>20.17</td>\n",
       "    </tr>\n",
       "    <tr>\n",
       "      <th>296</th>\n",
       "      <td>2024-01-22</td>\n",
       "      <td>20.18</td>\n",
       "      <td>20.13</td>\n",
       "      <td>20.31</td>\n",
       "      <td>20.11</td>\n",
       "    </tr>\n",
       "    <tr>\n",
       "      <th>297</th>\n",
       "      <td>2024-01-19</td>\n",
       "      <td>20.12</td>\n",
       "      <td>20.03</td>\n",
       "      <td>20.12</td>\n",
       "      <td>19.88</td>\n",
       "    </tr>\n",
       "    <tr>\n",
       "      <th>298</th>\n",
       "      <td>2024-01-18</td>\n",
       "      <td>19.92</td>\n",
       "      <td>21.00</td>\n",
       "      <td>21.35</td>\n",
       "      <td>19.82</td>\n",
       "    </tr>\n",
       "  </tbody>\n",
       "</table>\n",
       "<p>299 rows × 5 columns</p>\n",
       "</div>"
      ],
      "text/plain": [
       "          Date  Price   Open   High    Low\n",
       "0   2025-02-13   0.15    NaN    NaN    NaN\n",
       "1   2025-02-13  16.64  16.47  16.64  16.38\n",
       "2   2025-02-12  16.60  16.39  16.62  16.33\n",
       "3   2025-02-11  16.41  16.57  16.63  16.39\n",
       "4   2025-02-10  16.67  16.53  16.68  16.53\n",
       "..         ...    ...    ...    ...    ...\n",
       "294 2024-01-24  20.36  20.51  20.53  20.35\n",
       "295 2024-01-23  20.27  20.21  20.28  20.17\n",
       "296 2024-01-22  20.18  20.13  20.31  20.11\n",
       "297 2024-01-19  20.12  20.03  20.12  19.88\n",
       "298 2024-01-18  19.92  21.00  21.35  19.82\n",
       "\n",
       "[299 rows x 5 columns]"
      ]
     },
     "execution_count": 8,
     "metadata": {},
     "output_type": "execute_result"
    }
   ],
   "source": [
    "# Load the Excel data file\n",
    "file_path = r\"YMAX ETF Price & Dividends.xlsx\"\n",
    "YMAX = pd.read_excel(file_path)\n",
    "\n",
    "# Convert 'Date' column to datetime\n",
    "YMAX[\"Date\"] = pd.to_datetime(YMAX[\"Date\"])\n",
    "\n",
    "# Drop unnecessary columns\n",
    "YMAX = YMAX.drop(columns=['Vol.', 'Change %'])\n",
    "\n",
    "# Display the first few rows\n",
    "YMAX"
   ]
  },
  {
   "cell_type": "code",
   "execution_count": 9,
   "metadata": {},
   "outputs": [
    {
     "data": {
      "text/plain": [
       "Date      0\n",
       "Price     0\n",
       "Open     29\n",
       "High     29\n",
       "Low      29\n",
       "dtype: int64"
      ]
     },
     "execution_count": 9,
     "metadata": {},
     "output_type": "execute_result"
    }
   ],
   "source": [
    "# Check for missing values in YMAX\n",
    "YMAX.isnull().sum()"
   ]
  },
  {
   "cell_type": "code",
   "execution_count": 10,
   "metadata": {},
   "outputs": [
    {
     "data": {
      "application/vnd.microsoft.datawrangler.viewer.v0+json": {
       "columns": [
        {
         "name": "index",
         "rawType": "int64",
         "type": "integer"
        },
        {
         "name": "Date",
         "rawType": "datetime64[ns]",
         "type": "datetime"
        },
        {
         "name": "YMAX Dividends",
         "rawType": "float64",
         "type": "float"
        }
       ],
       "conversionMethod": "pd.DataFrame",
       "ref": "2cbfb9b3-f656-40d9-876e-d63a6e1703a4",
       "rows": [
        [
         "0",
         "2025-02-13 00:00:00",
         "0.15"
        ],
        [
         "6",
         "2025-02-06 00:00:00",
         "0.19"
        ],
        [
         "12",
         "2025-01-30 00:00:00",
         "0.15"
        ],
        [
         "18",
         "2025-01-23 00:00:00",
         "0.17"
        ],
        [
         "23",
         "2025-01-16 00:00:00",
         "0.11"
        ],
        [
         "29",
         "2025-01-08 00:00:00",
         "0.14"
        ],
        [
         "33",
         "2025-01-03 00:00:00",
         "0.18"
        ],
        [
         "38",
         "2024-12-27 00:00:00",
         "0.25"
        ],
        [
         "44",
         "2024-12-19 00:00:00",
         "0.14"
        ],
        [
         "50",
         "2024-12-12 00:00:00",
         "0.12"
        ],
        [
         "56",
         "2024-12-05 00:00:00",
         "0.24"
        ],
        [
         "61",
         "2024-11-29 00:00:00",
         "0.31"
        ],
        [
         "67",
         "2024-11-21 00:00:00",
         "0.24"
        ],
        [
         "73",
         "2024-11-14 00:00:00",
         "0.15"
        ],
        [
         "79",
         "2024-11-07 00:00:00",
         "0.12"
        ],
        [
         "85",
         "2024-10-31 00:00:00",
         "0.23"
        ],
        [
         "91",
         "2024-10-24 00:00:00",
         "0.23"
        ],
        [
         "97",
         "2024-10-17 00:00:00",
         "0.18"
        ],
        [
         "103",
         "2024-10-10 00:00:00",
         "0.2"
        ],
        [
         "109",
         "2024-10-03 00:00:00",
         "0.21"
        ],
        [
         "115",
         "2024-09-26 00:00:00",
         "0.22"
        ],
        [
         "121",
         "2024-09-19 00:00:00",
         "0.23"
        ],
        [
         "146",
         "2024-08-15 00:00:00",
         "0.59"
        ],
        [
         "168",
         "2024-07-17 00:00:00",
         "0.65"
        ],
        [
         "190",
         "2024-06-14 00:00:00",
         "0.73"
        ],
        [
         "212",
         "2024-05-15 00:00:00",
         "0.73"
        ],
        [
         "233",
         "2024-04-17 00:00:00",
         "0.63"
        ],
        [
         "257",
         "2024-03-14 00:00:00",
         "0.57"
        ],
        [
         "277",
         "2024-02-15 00:00:00",
         "0.53"
        ]
       ],
       "shape": {
        "columns": 2,
        "rows": 29
       }
      },
      "text/html": [
       "<div>\n",
       "<style scoped>\n",
       "    .dataframe tbody tr th:only-of-type {\n",
       "        vertical-align: middle;\n",
       "    }\n",
       "\n",
       "    .dataframe tbody tr th {\n",
       "        vertical-align: top;\n",
       "    }\n",
       "\n",
       "    .dataframe thead th {\n",
       "        text-align: right;\n",
       "    }\n",
       "</style>\n",
       "<table border=\"1\" class=\"dataframe\">\n",
       "  <thead>\n",
       "    <tr style=\"text-align: right;\">\n",
       "      <th></th>\n",
       "      <th>Date</th>\n",
       "      <th>YMAX Dividends</th>\n",
       "    </tr>\n",
       "  </thead>\n",
       "  <tbody>\n",
       "    <tr>\n",
       "      <th>0</th>\n",
       "      <td>2025-02-13</td>\n",
       "      <td>0.15</td>\n",
       "    </tr>\n",
       "    <tr>\n",
       "      <th>6</th>\n",
       "      <td>2025-02-06</td>\n",
       "      <td>0.19</td>\n",
       "    </tr>\n",
       "    <tr>\n",
       "      <th>12</th>\n",
       "      <td>2025-01-30</td>\n",
       "      <td>0.15</td>\n",
       "    </tr>\n",
       "    <tr>\n",
       "      <th>18</th>\n",
       "      <td>2025-01-23</td>\n",
       "      <td>0.17</td>\n",
       "    </tr>\n",
       "    <tr>\n",
       "      <th>23</th>\n",
       "      <td>2025-01-16</td>\n",
       "      <td>0.11</td>\n",
       "    </tr>\n",
       "    <tr>\n",
       "      <th>29</th>\n",
       "      <td>2025-01-08</td>\n",
       "      <td>0.14</td>\n",
       "    </tr>\n",
       "    <tr>\n",
       "      <th>33</th>\n",
       "      <td>2025-01-03</td>\n",
       "      <td>0.18</td>\n",
       "    </tr>\n",
       "    <tr>\n",
       "      <th>38</th>\n",
       "      <td>2024-12-27</td>\n",
       "      <td>0.25</td>\n",
       "    </tr>\n",
       "    <tr>\n",
       "      <th>44</th>\n",
       "      <td>2024-12-19</td>\n",
       "      <td>0.14</td>\n",
       "    </tr>\n",
       "    <tr>\n",
       "      <th>50</th>\n",
       "      <td>2024-12-12</td>\n",
       "      <td>0.12</td>\n",
       "    </tr>\n",
       "    <tr>\n",
       "      <th>56</th>\n",
       "      <td>2024-12-05</td>\n",
       "      <td>0.24</td>\n",
       "    </tr>\n",
       "    <tr>\n",
       "      <th>61</th>\n",
       "      <td>2024-11-29</td>\n",
       "      <td>0.31</td>\n",
       "    </tr>\n",
       "    <tr>\n",
       "      <th>67</th>\n",
       "      <td>2024-11-21</td>\n",
       "      <td>0.24</td>\n",
       "    </tr>\n",
       "    <tr>\n",
       "      <th>73</th>\n",
       "      <td>2024-11-14</td>\n",
       "      <td>0.15</td>\n",
       "    </tr>\n",
       "    <tr>\n",
       "      <th>79</th>\n",
       "      <td>2024-11-07</td>\n",
       "      <td>0.12</td>\n",
       "    </tr>\n",
       "    <tr>\n",
       "      <th>85</th>\n",
       "      <td>2024-10-31</td>\n",
       "      <td>0.23</td>\n",
       "    </tr>\n",
       "    <tr>\n",
       "      <th>91</th>\n",
       "      <td>2024-10-24</td>\n",
       "      <td>0.23</td>\n",
       "    </tr>\n",
       "    <tr>\n",
       "      <th>97</th>\n",
       "      <td>2024-10-17</td>\n",
       "      <td>0.18</td>\n",
       "    </tr>\n",
       "    <tr>\n",
       "      <th>103</th>\n",
       "      <td>2024-10-10</td>\n",
       "      <td>0.20</td>\n",
       "    </tr>\n",
       "    <tr>\n",
       "      <th>109</th>\n",
       "      <td>2024-10-03</td>\n",
       "      <td>0.21</td>\n",
       "    </tr>\n",
       "    <tr>\n",
       "      <th>115</th>\n",
       "      <td>2024-09-26</td>\n",
       "      <td>0.22</td>\n",
       "    </tr>\n",
       "    <tr>\n",
       "      <th>121</th>\n",
       "      <td>2024-09-19</td>\n",
       "      <td>0.23</td>\n",
       "    </tr>\n",
       "    <tr>\n",
       "      <th>146</th>\n",
       "      <td>2024-08-15</td>\n",
       "      <td>0.59</td>\n",
       "    </tr>\n",
       "    <tr>\n",
       "      <th>168</th>\n",
       "      <td>2024-07-17</td>\n",
       "      <td>0.65</td>\n",
       "    </tr>\n",
       "    <tr>\n",
       "      <th>190</th>\n",
       "      <td>2024-06-14</td>\n",
       "      <td>0.73</td>\n",
       "    </tr>\n",
       "    <tr>\n",
       "      <th>212</th>\n",
       "      <td>2024-05-15</td>\n",
       "      <td>0.73</td>\n",
       "    </tr>\n",
       "    <tr>\n",
       "      <th>233</th>\n",
       "      <td>2024-04-17</td>\n",
       "      <td>0.63</td>\n",
       "    </tr>\n",
       "    <tr>\n",
       "      <th>257</th>\n",
       "      <td>2024-03-14</td>\n",
       "      <td>0.57</td>\n",
       "    </tr>\n",
       "    <tr>\n",
       "      <th>277</th>\n",
       "      <td>2024-02-15</td>\n",
       "      <td>0.53</td>\n",
       "    </tr>\n",
       "  </tbody>\n",
       "</table>\n",
       "</div>"
      ],
      "text/plain": [
       "          Date  YMAX Dividends\n",
       "0   2025-02-13            0.15\n",
       "6   2025-02-06            0.19\n",
       "12  2025-01-30            0.15\n",
       "18  2025-01-23            0.17\n",
       "23  2025-01-16            0.11\n",
       "29  2025-01-08            0.14\n",
       "33  2025-01-03            0.18\n",
       "38  2024-12-27            0.25\n",
       "44  2024-12-19            0.14\n",
       "50  2024-12-12            0.12\n",
       "56  2024-12-05            0.24\n",
       "61  2024-11-29            0.31\n",
       "67  2024-11-21            0.24\n",
       "73  2024-11-14            0.15\n",
       "79  2024-11-07            0.12\n",
       "85  2024-10-31            0.23\n",
       "91  2024-10-24            0.23\n",
       "97  2024-10-17            0.18\n",
       "103 2024-10-10            0.20\n",
       "109 2024-10-03            0.21\n",
       "115 2024-09-26            0.22\n",
       "121 2024-09-19            0.23\n",
       "146 2024-08-15            0.59\n",
       "168 2024-07-17            0.65\n",
       "190 2024-06-14            0.73\n",
       "212 2024-05-15            0.73\n",
       "233 2024-04-17            0.63\n",
       "257 2024-03-14            0.57\n",
       "277 2024-02-15            0.53"
      ]
     },
     "execution_count": 10,
     "metadata": {},
     "output_type": "execute_result"
    }
   ],
   "source": [
    "#Extracting the Dividends data\n",
    "# Create a new DataFrame with only rows where 'Open' is NaN\n",
    "YMAX_Dividends = YMAX[YMAX['Open'].isna()].copy()\n",
    "\n",
    "# Drop unnecessary columns\n",
    "YMAX_Dividends = YMAX_Dividends.drop(columns=['Open', 'High', 'Low'])\n",
    "\n",
    "# Rename 'Price' column to 'Dividends'\n",
    "YMAX_Dividends = YMAX_Dividends.rename(columns={'Price': 'YMAX Dividends'})\n",
    "\n",
    "# Display the new DataFrame\n",
    "YMAX_Dividends\n"
   ]
  },
  {
   "cell_type": "code",
   "execution_count": 11,
   "metadata": {},
   "outputs": [
    {
     "data": {
      "application/vnd.microsoft.datawrangler.viewer.v0+json": {
       "columns": [
        {
         "name": "index",
         "rawType": "int64",
         "type": "integer"
        },
        {
         "name": "Date",
         "rawType": "datetime64[ns]",
         "type": "datetime"
        },
        {
         "name": "YMAG Dividends",
         "rawType": "float64",
         "type": "float"
        }
       ],
       "conversionMethod": "pd.DataFrame",
       "ref": "8cd2c439-621d-47fe-940f-a82bb8be57b3",
       "rows": [
        [
         "0",
         "2025-02-13 00:00:00",
         "0.05"
        ],
        [
         "6",
         "2025-02-06 00:00:00",
         "0.19"
        ],
        [
         "12",
         "2025-01-30 00:00:00",
         "0.19"
        ],
        [
         "18",
         "2025-01-23 00:00:00",
         "0.1"
        ],
        [
         "23",
         "2025-01-16 00:00:00",
         "0.05"
        ],
        [
         "29",
         "2025-01-08 00:00:00",
         "0.16"
        ],
        [
         "33",
         "2025-01-03 00:00:00",
         "0.31"
        ],
        [
         "38",
         "2024-12-27 00:00:00",
         "0.17"
        ],
        [
         "44",
         "2024-12-19 00:00:00",
         "0.06"
        ],
        [
         "55",
         "2024-12-05 00:00:00",
         "0.28"
        ],
        [
         "60",
         "2024-11-29 00:00:00",
         "0.2"
        ],
        [
         "66",
         "2024-11-21 00:00:00",
         "0.06"
        ],
        [
         "72",
         "2024-11-14 00:00:00",
         "0.21"
        ],
        [
         "78",
         "2024-11-07 00:00:00",
         "0.21"
        ],
        [
         "84",
         "2024-10-31 00:00:00",
         "0.15"
        ],
        [
         "90",
         "2024-10-24 00:00:00",
         "0.06"
        ],
        [
         "96",
         "2024-10-17 00:00:00",
         "0.23"
        ],
        [
         "102",
         "2024-10-10 00:00:00",
         "0.28"
        ],
        [
         "108",
         "2024-10-03 00:00:00",
         "0.16"
        ],
        [
         "114",
         "2024-09-26 00:00:00",
         "0.17"
        ],
        [
         "120",
         "2024-09-19 00:00:00",
         "0.2"
        ],
        [
         "145",
         "2024-08-15 00:00:00",
         "0.58"
        ],
        [
         "167",
         "2024-07-17 00:00:00",
         "0.64"
        ],
        [
         "189",
         "2024-06-14 00:00:00",
         "0.68"
        ],
        [
         "211",
         "2024-05-15 00:00:00",
         "0.64"
        ],
        [
         "232",
         "2024-04-17 00:00:00",
         "0.62"
        ],
        [
         "256",
         "2024-03-14 00:00:00",
         "0.59"
        ],
        [
         "276",
         "2024-02-15 00:00:00",
         "0.43"
        ]
       ],
       "shape": {
        "columns": 2,
        "rows": 28
       }
      },
      "text/html": [
       "<div>\n",
       "<style scoped>\n",
       "    .dataframe tbody tr th:only-of-type {\n",
       "        vertical-align: middle;\n",
       "    }\n",
       "\n",
       "    .dataframe tbody tr th {\n",
       "        vertical-align: top;\n",
       "    }\n",
       "\n",
       "    .dataframe thead th {\n",
       "        text-align: right;\n",
       "    }\n",
       "</style>\n",
       "<table border=\"1\" class=\"dataframe\">\n",
       "  <thead>\n",
       "    <tr style=\"text-align: right;\">\n",
       "      <th></th>\n",
       "      <th>Date</th>\n",
       "      <th>YMAG Dividends</th>\n",
       "    </tr>\n",
       "  </thead>\n",
       "  <tbody>\n",
       "    <tr>\n",
       "      <th>0</th>\n",
       "      <td>2025-02-13</td>\n",
       "      <td>0.05</td>\n",
       "    </tr>\n",
       "    <tr>\n",
       "      <th>6</th>\n",
       "      <td>2025-02-06</td>\n",
       "      <td>0.19</td>\n",
       "    </tr>\n",
       "    <tr>\n",
       "      <th>12</th>\n",
       "      <td>2025-01-30</td>\n",
       "      <td>0.19</td>\n",
       "    </tr>\n",
       "    <tr>\n",
       "      <th>18</th>\n",
       "      <td>2025-01-23</td>\n",
       "      <td>0.10</td>\n",
       "    </tr>\n",
       "    <tr>\n",
       "      <th>23</th>\n",
       "      <td>2025-01-16</td>\n",
       "      <td>0.05</td>\n",
       "    </tr>\n",
       "    <tr>\n",
       "      <th>29</th>\n",
       "      <td>2025-01-08</td>\n",
       "      <td>0.16</td>\n",
       "    </tr>\n",
       "    <tr>\n",
       "      <th>33</th>\n",
       "      <td>2025-01-03</td>\n",
       "      <td>0.31</td>\n",
       "    </tr>\n",
       "    <tr>\n",
       "      <th>38</th>\n",
       "      <td>2024-12-27</td>\n",
       "      <td>0.17</td>\n",
       "    </tr>\n",
       "    <tr>\n",
       "      <th>44</th>\n",
       "      <td>2024-12-19</td>\n",
       "      <td>0.06</td>\n",
       "    </tr>\n",
       "    <tr>\n",
       "      <th>55</th>\n",
       "      <td>2024-12-05</td>\n",
       "      <td>0.28</td>\n",
       "    </tr>\n",
       "    <tr>\n",
       "      <th>60</th>\n",
       "      <td>2024-11-29</td>\n",
       "      <td>0.20</td>\n",
       "    </tr>\n",
       "    <tr>\n",
       "      <th>66</th>\n",
       "      <td>2024-11-21</td>\n",
       "      <td>0.06</td>\n",
       "    </tr>\n",
       "    <tr>\n",
       "      <th>72</th>\n",
       "      <td>2024-11-14</td>\n",
       "      <td>0.21</td>\n",
       "    </tr>\n",
       "    <tr>\n",
       "      <th>78</th>\n",
       "      <td>2024-11-07</td>\n",
       "      <td>0.21</td>\n",
       "    </tr>\n",
       "    <tr>\n",
       "      <th>84</th>\n",
       "      <td>2024-10-31</td>\n",
       "      <td>0.15</td>\n",
       "    </tr>\n",
       "    <tr>\n",
       "      <th>90</th>\n",
       "      <td>2024-10-24</td>\n",
       "      <td>0.06</td>\n",
       "    </tr>\n",
       "    <tr>\n",
       "      <th>96</th>\n",
       "      <td>2024-10-17</td>\n",
       "      <td>0.23</td>\n",
       "    </tr>\n",
       "    <tr>\n",
       "      <th>102</th>\n",
       "      <td>2024-10-10</td>\n",
       "      <td>0.28</td>\n",
       "    </tr>\n",
       "    <tr>\n",
       "      <th>108</th>\n",
       "      <td>2024-10-03</td>\n",
       "      <td>0.16</td>\n",
       "    </tr>\n",
       "    <tr>\n",
       "      <th>114</th>\n",
       "      <td>2024-09-26</td>\n",
       "      <td>0.17</td>\n",
       "    </tr>\n",
       "    <tr>\n",
       "      <th>120</th>\n",
       "      <td>2024-09-19</td>\n",
       "      <td>0.20</td>\n",
       "    </tr>\n",
       "    <tr>\n",
       "      <th>145</th>\n",
       "      <td>2024-08-15</td>\n",
       "      <td>0.58</td>\n",
       "    </tr>\n",
       "    <tr>\n",
       "      <th>167</th>\n",
       "      <td>2024-07-17</td>\n",
       "      <td>0.64</td>\n",
       "    </tr>\n",
       "    <tr>\n",
       "      <th>189</th>\n",
       "      <td>2024-06-14</td>\n",
       "      <td>0.68</td>\n",
       "    </tr>\n",
       "    <tr>\n",
       "      <th>211</th>\n",
       "      <td>2024-05-15</td>\n",
       "      <td>0.64</td>\n",
       "    </tr>\n",
       "    <tr>\n",
       "      <th>232</th>\n",
       "      <td>2024-04-17</td>\n",
       "      <td>0.62</td>\n",
       "    </tr>\n",
       "    <tr>\n",
       "      <th>256</th>\n",
       "      <td>2024-03-14</td>\n",
       "      <td>0.59</td>\n",
       "    </tr>\n",
       "    <tr>\n",
       "      <th>276</th>\n",
       "      <td>2024-02-15</td>\n",
       "      <td>0.43</td>\n",
       "    </tr>\n",
       "  </tbody>\n",
       "</table>\n",
       "</div>"
      ],
      "text/plain": [
       "          Date  YMAG Dividends\n",
       "0   2025-02-13            0.05\n",
       "6   2025-02-06            0.19\n",
       "12  2025-01-30            0.19\n",
       "18  2025-01-23            0.10\n",
       "23  2025-01-16            0.05\n",
       "29  2025-01-08            0.16\n",
       "33  2025-01-03            0.31\n",
       "38  2024-12-27            0.17\n",
       "44  2024-12-19            0.06\n",
       "55  2024-12-05            0.28\n",
       "60  2024-11-29            0.20\n",
       "66  2024-11-21            0.06\n",
       "72  2024-11-14            0.21\n",
       "78  2024-11-07            0.21\n",
       "84  2024-10-31            0.15\n",
       "90  2024-10-24            0.06\n",
       "96  2024-10-17            0.23\n",
       "102 2024-10-10            0.28\n",
       "108 2024-10-03            0.16\n",
       "114 2024-09-26            0.17\n",
       "120 2024-09-19            0.20\n",
       "145 2024-08-15            0.58\n",
       "167 2024-07-17            0.64\n",
       "189 2024-06-14            0.68\n",
       "211 2024-05-15            0.64\n",
       "232 2024-04-17            0.62\n",
       "256 2024-03-14            0.59\n",
       "276 2024-02-15            0.43"
      ]
     },
     "execution_count": 11,
     "metadata": {},
     "output_type": "execute_result"
    }
   ],
   "source": [
    "#Extracting the Dividends data\n",
    "# Create a new DataFrame with only rows where 'Open' is NaN\n",
    "YMAG_Dividends = YMAG[YMAG['Open'].isna()].copy()\n",
    "\n",
    "# Drop unnecessary columns\n",
    "YMAG_Dividends = YMAG_Dividends.drop(columns=['Open', 'High', 'Low'])\n",
    "\n",
    "# Rename 'Price' column to 'Dividends'\n",
    "YMAG_Dividends = YMAG_Dividends.rename(columns={'Price': 'YMAG Dividends'})\n",
    "\n",
    "# Display the new DataFrame\n",
    "YMAG_Dividends\n"
   ]
  },
  {
   "cell_type": "code",
   "execution_count": 12,
   "metadata": {},
   "outputs": [
    {
     "data": {
      "text/plain": [
       "Date              0\n",
       "YMAG Dividends    0\n",
       "dtype: int64"
      ]
     },
     "execution_count": 12,
     "metadata": {},
     "output_type": "execute_result"
    }
   ],
   "source": [
    "#check for missing values in YMAG_Dividends\n",
    "YMAG_Dividends.isnull().sum()"
   ]
  },
  {
   "cell_type": "code",
   "execution_count": 13,
   "metadata": {},
   "outputs": [
    {
     "name": "stdout",
     "output_type": "stream",
     "text": [
      "        Date  Price   Open   High    Low  YMAX Dividends\n",
      "0 2025-02-13  16.64  16.47  16.64  16.38            0.15\n",
      "1 2025-02-12  16.60  16.39  16.62  16.33            0.00\n",
      "2 2025-02-11  16.41  16.57  16.63  16.39            0.00\n",
      "3 2025-02-10  16.67  16.53  16.68  16.53            0.00\n",
      "4 2025-02-07  16.44  16.51  16.69  16.40            0.00\n",
      "        Date  Price   Open   High    Low  YMAG Dividends\n",
      "0 2025-02-13  18.19  18.05  18.20  18.00            0.05\n",
      "1 2025-02-12  18.04  17.91  18.08  17.85            0.00\n",
      "2 2025-02-11  18.01  18.07  18.12  17.95            0.00\n",
      "3 2025-02-10  18.07  18.13  18.21  18.07            0.00\n",
      "4 2025-02-07  18.07  18.24  18.34  18.00            0.00\n"
     ]
    }
   ],
   "source": [
    "# Drop all rows with NaN values in YMAX and YMAG, to remove the duplicate rows where dividends were\n",
    "YMAX = YMAX.dropna()\n",
    "YMAG = YMAG.dropna()\n",
    "\n",
    "# Merge dividends with YMAX price data\n",
    "YMAX = YMAX.merge(YMAX_Dividends, on=\"Date\", how=\"left\")\n",
    "YMAX[\"YMAX Dividends\"].fillna(0, inplace=True)  # Fill missing dividends with 0\n",
    "\n",
    "# Merge dividends with YMAG price data\n",
    "YMAG = YMAG.merge(YMAG_Dividends, on=\"Date\", how=\"left\")\n",
    "YMAG[\"YMAG Dividends\"].fillna(0, inplace=True)  # Fill missing dividends with 0\n",
    "\n",
    "# Display merged data\n",
    "print(YMAX.head())\n",
    "print(YMAG.head())\n"
   ]
  },
  {
   "cell_type": "code",
   "execution_count": 14,
   "metadata": {},
   "outputs": [
    {
     "name": "stdout",
     "output_type": "stream",
     "text": [
      "Date              0\n",
      "Price             0\n",
      "Open              0\n",
      "High              0\n",
      "Low               0\n",
      "YMAX Dividends    0\n",
      "dtype: int64\n",
      "Date              0\n",
      "Price             0\n",
      "Open              0\n",
      "High              0\n",
      "Low               0\n",
      "YMAG Dividends    0\n",
      "dtype: int64\n"
     ]
    }
   ],
   "source": [
    "# check and print sum of missing values in YMAX\n",
    "print(YMAX.isnull().sum())\n",
    "\n",
    "# check and print sum of missing values in YMAG\n",
    "print(YMAG.isnull().sum())"
   ]
  },
  {
   "cell_type": "code",
   "execution_count": 15,
   "metadata": {},
   "outputs": [
    {
     "name": "stdout",
     "output_type": "stream",
     "text": [
      "Date              0\n",
      "YMAX Dividends    0\n",
      "YMAG Dividends    9\n",
      "dtype: int64\n",
      "sum of missing values after filling with 0\n",
      "Date              0\n",
      "YMAX Dividends    0\n",
      "YMAG Dividends    0\n",
      "dtype: int64\n"
     ]
    },
    {
     "data": {
      "application/vnd.microsoft.datawrangler.viewer.v0+json": {
       "columns": [
        {
         "name": "index",
         "rawType": "int64",
         "type": "integer"
        },
        {
         "name": "Date",
         "rawType": "datetime64[ns]",
         "type": "datetime"
        },
        {
         "name": "YMAX Dividends",
         "rawType": "float64",
         "type": "float"
        },
        {
         "name": "YMAG Dividends",
         "rawType": "float64",
         "type": "float"
        }
       ],
       "conversionMethod": "pd.DataFrame",
       "ref": "e78f3f65-1fe2-4314-8ad1-ca7aa0155249",
       "rows": [
        [
         "0",
         "2025-02-13 00:00:00",
         "0.15",
         "0.05"
        ],
        [
         "1",
         "2025-02-12 00:00:00",
         "0.0",
         "0.0"
        ],
        [
         "2",
         "2025-02-11 00:00:00",
         "0.0",
         "0.0"
        ],
        [
         "3",
         "2025-02-10 00:00:00",
         "0.0",
         "0.0"
        ],
        [
         "4",
         "2025-02-07 00:00:00",
         "0.0",
         "0.0"
        ],
        [
         "5",
         "2025-02-06 00:00:00",
         "0.19",
         "0.19"
        ],
        [
         "6",
         "2025-02-05 00:00:00",
         "0.0",
         "0.0"
        ],
        [
         "7",
         "2025-02-04 00:00:00",
         "0.0",
         "0.0"
        ],
        [
         "8",
         "2025-02-03 00:00:00",
         "0.0",
         "0.0"
        ],
        [
         "9",
         "2025-01-31 00:00:00",
         "0.0",
         "0.0"
        ],
        [
         "10",
         "2025-01-30 00:00:00",
         "0.15",
         "0.19"
        ],
        [
         "11",
         "2025-01-29 00:00:00",
         "0.0",
         "0.0"
        ],
        [
         "12",
         "2025-01-28 00:00:00",
         "0.0",
         "0.0"
        ],
        [
         "13",
         "2025-01-27 00:00:00",
         "0.0",
         "0.0"
        ],
        [
         "14",
         "2025-01-24 00:00:00",
         "0.0",
         "0.0"
        ],
        [
         "15",
         "2025-01-23 00:00:00",
         "0.17",
         "0.1"
        ],
        [
         "16",
         "2025-01-22 00:00:00",
         "0.0",
         "0.0"
        ],
        [
         "17",
         "2025-01-21 00:00:00",
         "0.0",
         "0.0"
        ],
        [
         "18",
         "2025-01-17 00:00:00",
         "0.0",
         "0.0"
        ],
        [
         "19",
         "2025-01-16 00:00:00",
         "0.11",
         "0.05"
        ],
        [
         "20",
         "2025-01-15 00:00:00",
         "0.0",
         "0.0"
        ],
        [
         "21",
         "2025-01-14 00:00:00",
         "0.0",
         "0.0"
        ],
        [
         "22",
         "2025-01-13 00:00:00",
         "0.0",
         "0.0"
        ],
        [
         "23",
         "2025-01-10 00:00:00",
         "0.0",
         "0.0"
        ],
        [
         "24",
         "2025-01-08 00:00:00",
         "0.14",
         "0.16"
        ],
        [
         "25",
         "2025-01-07 00:00:00",
         "0.0",
         "0.0"
        ],
        [
         "26",
         "2025-01-06 00:00:00",
         "0.0",
         "0.0"
        ],
        [
         "27",
         "2025-01-03 00:00:00",
         "0.18",
         "0.31"
        ],
        [
         "28",
         "2025-01-02 00:00:00",
         "0.0",
         "0.0"
        ],
        [
         "29",
         "2024-12-31 00:00:00",
         "0.0",
         "0.0"
        ],
        [
         "30",
         "2024-12-30 00:00:00",
         "0.0",
         "0.0"
        ],
        [
         "31",
         "2024-12-27 00:00:00",
         "0.25",
         "0.17"
        ],
        [
         "32",
         "2024-12-26 00:00:00",
         "0.0",
         "0.0"
        ],
        [
         "33",
         "2024-12-24 00:00:00",
         "0.0",
         "0.0"
        ],
        [
         "34",
         "2024-12-23 00:00:00",
         "0.0",
         "0.0"
        ],
        [
         "35",
         "2024-12-20 00:00:00",
         "0.0",
         "0.0"
        ],
        [
         "36",
         "2024-12-19 00:00:00",
         "0.14",
         "0.06"
        ],
        [
         "37",
         "2024-12-18 00:00:00",
         "0.0",
         "0.0"
        ],
        [
         "38",
         "2024-12-17 00:00:00",
         "0.0",
         "0.0"
        ],
        [
         "39",
         "2024-12-16 00:00:00",
         "0.0",
         "0.0"
        ],
        [
         "40",
         "2024-12-13 00:00:00",
         "0.0",
         "0.0"
        ],
        [
         "41",
         "2024-12-12 00:00:00",
         "0.12",
         "0.0"
        ],
        [
         "42",
         "2024-12-11 00:00:00",
         "0.0",
         "0.0"
        ],
        [
         "43",
         "2024-12-10 00:00:00",
         "0.0",
         "0.0"
        ],
        [
         "44",
         "2024-12-09 00:00:00",
         "0.0",
         "0.0"
        ],
        [
         "45",
         "2024-12-06 00:00:00",
         "0.0",
         "0.0"
        ],
        [
         "46",
         "2024-12-05 00:00:00",
         "0.24",
         "0.28"
        ],
        [
         "47",
         "2024-12-04 00:00:00",
         "0.0",
         "0.0"
        ],
        [
         "48",
         "2024-12-03 00:00:00",
         "0.0",
         "0.0"
        ],
        [
         "49",
         "2024-12-02 00:00:00",
         "0.0",
         "0.0"
        ]
       ],
       "shape": {
        "columns": 3,
        "rows": 270
       }
      },
      "text/html": [
       "<div>\n",
       "<style scoped>\n",
       "    .dataframe tbody tr th:only-of-type {\n",
       "        vertical-align: middle;\n",
       "    }\n",
       "\n",
       "    .dataframe tbody tr th {\n",
       "        vertical-align: top;\n",
       "    }\n",
       "\n",
       "    .dataframe thead th {\n",
       "        text-align: right;\n",
       "    }\n",
       "</style>\n",
       "<table border=\"1\" class=\"dataframe\">\n",
       "  <thead>\n",
       "    <tr style=\"text-align: right;\">\n",
       "      <th></th>\n",
       "      <th>Date</th>\n",
       "      <th>YMAX Dividends</th>\n",
       "      <th>YMAG Dividends</th>\n",
       "    </tr>\n",
       "  </thead>\n",
       "  <tbody>\n",
       "    <tr>\n",
       "      <th>0</th>\n",
       "      <td>2025-02-13</td>\n",
       "      <td>0.15</td>\n",
       "      <td>0.05</td>\n",
       "    </tr>\n",
       "    <tr>\n",
       "      <th>1</th>\n",
       "      <td>2025-02-12</td>\n",
       "      <td>0.00</td>\n",
       "      <td>0.00</td>\n",
       "    </tr>\n",
       "    <tr>\n",
       "      <th>2</th>\n",
       "      <td>2025-02-11</td>\n",
       "      <td>0.00</td>\n",
       "      <td>0.00</td>\n",
       "    </tr>\n",
       "    <tr>\n",
       "      <th>3</th>\n",
       "      <td>2025-02-10</td>\n",
       "      <td>0.00</td>\n",
       "      <td>0.00</td>\n",
       "    </tr>\n",
       "    <tr>\n",
       "      <th>4</th>\n",
       "      <td>2025-02-07</td>\n",
       "      <td>0.00</td>\n",
       "      <td>0.00</td>\n",
       "    </tr>\n",
       "    <tr>\n",
       "      <th>...</th>\n",
       "      <td>...</td>\n",
       "      <td>...</td>\n",
       "      <td>...</td>\n",
       "    </tr>\n",
       "    <tr>\n",
       "      <th>265</th>\n",
       "      <td>2024-01-24</td>\n",
       "      <td>0.00</td>\n",
       "      <td>0.00</td>\n",
       "    </tr>\n",
       "    <tr>\n",
       "      <th>266</th>\n",
       "      <td>2024-01-23</td>\n",
       "      <td>0.00</td>\n",
       "      <td>0.00</td>\n",
       "    </tr>\n",
       "    <tr>\n",
       "      <th>267</th>\n",
       "      <td>2024-01-22</td>\n",
       "      <td>0.00</td>\n",
       "      <td>0.00</td>\n",
       "    </tr>\n",
       "    <tr>\n",
       "      <th>268</th>\n",
       "      <td>2024-01-19</td>\n",
       "      <td>0.00</td>\n",
       "      <td>0.00</td>\n",
       "    </tr>\n",
       "    <tr>\n",
       "      <th>269</th>\n",
       "      <td>2024-01-18</td>\n",
       "      <td>0.00</td>\n",
       "      <td>0.00</td>\n",
       "    </tr>\n",
       "  </tbody>\n",
       "</table>\n",
       "<p>270 rows × 3 columns</p>\n",
       "</div>"
      ],
      "text/plain": [
       "          Date  YMAX Dividends  YMAG Dividends\n",
       "0   2025-02-13            0.15            0.05\n",
       "1   2025-02-12            0.00            0.00\n",
       "2   2025-02-11            0.00            0.00\n",
       "3   2025-02-10            0.00            0.00\n",
       "4   2025-02-07            0.00            0.00\n",
       "..         ...             ...             ...\n",
       "265 2024-01-24            0.00            0.00\n",
       "266 2024-01-23            0.00            0.00\n",
       "267 2024-01-22            0.00            0.00\n",
       "268 2024-01-19            0.00            0.00\n",
       "269 2024-01-18            0.00            0.00\n",
       "\n",
       "[270 rows x 3 columns]"
      ]
     },
     "execution_count": 15,
     "metadata": {},
     "output_type": "execute_result"
    }
   ],
   "source": [
    "# Merge dividends with YMAX price data\n",
    "Divs = YMAX[[\"Date\", \"YMAX Dividends\"]].merge(YMAG[[\"Date\", \"YMAG Dividends\"]], on=\"Date\", how=\"left\")\n",
    "\n",
    "#check and print the sum of missing values\n",
    "print(Divs.isna().sum())\n",
    "\n",
    "# Fill missing values with 0\n",
    "Divs.fillna(0, inplace=True)\n",
    "print(\"sum of missing values after filling with 0\")\n",
    "print(Divs.isna().sum())\n",
    "\n",
    "# Display the first few rows\n",
    "Divs"
   ]
  },
  {
   "cell_type": "code",
   "execution_count": 16,
   "metadata": {},
   "outputs": [
    {
     "name": "stdout",
     "output_type": "stream",
     "text": [
      "The sum of missing values in each column:\n",
      "YMAX              0\n",
      "YMAG              0\n",
      "VIX               0\n",
      "VVIX              0\n",
      "QQQ               0\n",
      "YMAX Dividends    0\n",
      "YMAG Dividends    0\n",
      "dtype: int64\n",
      "<class 'pandas.core.frame.DataFrame'>\n",
      "DatetimeIndex: 261 entries, 2024-01-31 to 2025-02-13\n",
      "Data columns (total 7 columns):\n",
      " #   Column          Non-Null Count  Dtype  \n",
      "---  ------          --------------  -----  \n",
      " 0   YMAX            261 non-null    float64\n",
      " 1   YMAG            261 non-null    float64\n",
      " 2   VIX             261 non-null    float64\n",
      " 3   VVIX            261 non-null    float64\n",
      " 4   QQQ             261 non-null    float64\n",
      " 5   YMAX Dividends  261 non-null    float64\n",
      " 6   YMAG Dividends  261 non-null    float64\n",
      "dtypes: float64(7)\n",
      "memory usage: 16.3 KB\n"
     ]
    },
    {
     "data": {
      "application/vnd.microsoft.datawrangler.viewer.v0+json": {
       "columns": [
        {
         "name": "Date",
         "rawType": "datetime64[ns]",
         "type": "datetime"
        },
        {
         "name": "YMAX",
         "rawType": "float64",
         "type": "float"
        },
        {
         "name": "YMAG",
         "rawType": "float64",
         "type": "float"
        },
        {
         "name": "VIX",
         "rawType": "float64",
         "type": "float"
        },
        {
         "name": "VVIX",
         "rawType": "float64",
         "type": "float"
        },
        {
         "name": "QQQ",
         "rawType": "float64",
         "type": "float"
        },
        {
         "name": "YMAX Dividends",
         "rawType": "float64",
         "type": "float"
        },
        {
         "name": "YMAG Dividends",
         "rawType": "float64",
         "type": "float"
        }
       ],
       "conversionMethod": "pd.DataFrame",
       "ref": "9979d326-84f2-42ca-905a-897bcd1db4d9",
       "rows": [
        [
         "2024-01-31 00:00:00",
         "20.2",
         "19.49",
         "14.350000381469728",
         "87.55999755859375",
         "414.5067443847656",
         "0.0",
         "0.0"
        ],
        [
         "2024-02-01 00:00:00",
         "20.39",
         "19.75",
         "13.880000114440918",
         "84.83000183105469",
         "419.3877258300781",
         "0.0",
         "0.0"
        ],
        [
         "2024-02-02 00:00:00",
         "20.7",
         "20.3",
         "13.850000381469728",
         "83.30999755859375",
         "426.4755859375",
         "0.0",
         "0.0"
        ],
        [
         "2024-02-05 00:00:00",
         "20.44",
         "20.19",
         "13.670000076293944",
         "79.58000183105469",
         "425.9189453125",
         "0.0",
         "0.0"
        ],
        [
         "2024-02-06 00:00:00",
         "20.61",
         "20.2",
         "13.0600004196167",
         "76.97000122070312",
         "425.0639953613281",
         "0.0",
         "0.0"
        ]
       ],
       "shape": {
        "columns": 7,
        "rows": 5
       }
      },
      "text/html": [
       "<div>\n",
       "<style scoped>\n",
       "    .dataframe tbody tr th:only-of-type {\n",
       "        vertical-align: middle;\n",
       "    }\n",
       "\n",
       "    .dataframe tbody tr th {\n",
       "        vertical-align: top;\n",
       "    }\n",
       "\n",
       "    .dataframe thead th {\n",
       "        text-align: right;\n",
       "    }\n",
       "</style>\n",
       "<table border=\"1\" class=\"dataframe\">\n",
       "  <thead>\n",
       "    <tr style=\"text-align: right;\">\n",
       "      <th></th>\n",
       "      <th>YMAX</th>\n",
       "      <th>YMAG</th>\n",
       "      <th>VIX</th>\n",
       "      <th>VVIX</th>\n",
       "      <th>QQQ</th>\n",
       "      <th>YMAX Dividends</th>\n",
       "      <th>YMAG Dividends</th>\n",
       "    </tr>\n",
       "    <tr>\n",
       "      <th>Date</th>\n",
       "      <th></th>\n",
       "      <th></th>\n",
       "      <th></th>\n",
       "      <th></th>\n",
       "      <th></th>\n",
       "      <th></th>\n",
       "      <th></th>\n",
       "    </tr>\n",
       "  </thead>\n",
       "  <tbody>\n",
       "    <tr>\n",
       "      <th>2024-01-31</th>\n",
       "      <td>20.20</td>\n",
       "      <td>19.49</td>\n",
       "      <td>14.35</td>\n",
       "      <td>87.559998</td>\n",
       "      <td>414.506744</td>\n",
       "      <td>0.0</td>\n",
       "      <td>0.0</td>\n",
       "    </tr>\n",
       "    <tr>\n",
       "      <th>2024-02-01</th>\n",
       "      <td>20.39</td>\n",
       "      <td>19.75</td>\n",
       "      <td>13.88</td>\n",
       "      <td>84.830002</td>\n",
       "      <td>419.387726</td>\n",
       "      <td>0.0</td>\n",
       "      <td>0.0</td>\n",
       "    </tr>\n",
       "    <tr>\n",
       "      <th>2024-02-02</th>\n",
       "      <td>20.70</td>\n",
       "      <td>20.30</td>\n",
       "      <td>13.85</td>\n",
       "      <td>83.309998</td>\n",
       "      <td>426.475586</td>\n",
       "      <td>0.0</td>\n",
       "      <td>0.0</td>\n",
       "    </tr>\n",
       "    <tr>\n",
       "      <th>2024-02-05</th>\n",
       "      <td>20.44</td>\n",
       "      <td>20.19</td>\n",
       "      <td>13.67</td>\n",
       "      <td>79.580002</td>\n",
       "      <td>425.918945</td>\n",
       "      <td>0.0</td>\n",
       "      <td>0.0</td>\n",
       "    </tr>\n",
       "    <tr>\n",
       "      <th>2024-02-06</th>\n",
       "      <td>20.61</td>\n",
       "      <td>20.20</td>\n",
       "      <td>13.06</td>\n",
       "      <td>76.970001</td>\n",
       "      <td>425.063995</td>\n",
       "      <td>0.0</td>\n",
       "      <td>0.0</td>\n",
       "    </tr>\n",
       "  </tbody>\n",
       "</table>\n",
       "</div>"
      ],
      "text/plain": [
       "             YMAX   YMAG    VIX       VVIX         QQQ  YMAX Dividends  \\\n",
       "Date                                                                     \n",
       "2024-01-31  20.20  19.49  14.35  87.559998  414.506744             0.0   \n",
       "2024-02-01  20.39  19.75  13.88  84.830002  419.387726             0.0   \n",
       "2024-02-02  20.70  20.30  13.85  83.309998  426.475586             0.0   \n",
       "2024-02-05  20.44  20.19  13.67  79.580002  425.918945             0.0   \n",
       "2024-02-06  20.61  20.20  13.06  76.970001  425.063995             0.0   \n",
       "\n",
       "            YMAG Dividends  \n",
       "Date                        \n",
       "2024-01-31             0.0  \n",
       "2024-02-01             0.0  \n",
       "2024-02-02             0.0  \n",
       "2024-02-05             0.0  \n",
       "2024-02-06             0.0  "
      ]
     },
     "execution_count": 16,
     "metadata": {},
     "output_type": "execute_result"
    }
   ],
   "source": [
    "# Load the CSV file with all assets prices\n",
    "file_path = 'All assets Prices.csv'\n",
    "data = pd.read_csv(file_path)\n",
    "\n",
    "# Ensure 'Date' is in datetime format\n",
    "data['Date'] = pd.to_datetime(data['Date'])\n",
    "\n",
    "# Merge the data with Divs on 'Date'\n",
    "All_Assets = data.merge(Divs, on='Date', how='left')\n",
    "\n",
    "# Sort the DataFrame by 'Date' in descending order\n",
    "All_Assets = All_Assets.sort_values(by='Date', ascending=True)\n",
    "\n",
    "# Set 'Date' as the index\n",
    "All_Assets.set_index('Date', inplace=True)\n",
    "\n",
    "# Print the sum of missing values in each column\n",
    "print(\"The sum of missing values in each column:\")\n",
    "print(All_Assets.isnull().sum())\n",
    "\n",
    "# print rhe info of the merged DataFrame\n",
    "All_Assets.info()\n",
    "\n",
    "# Display the first few rows of the merged DataFrame\n",
    "All_Assets.head()\n"
   ]
  },
  {
   "cell_type": "code",
   "execution_count": 17,
   "metadata": {},
   "outputs": [],
   "source": [
    "# Save the merged DataFrame to a CSV file\n",
    "All_Assets.to_csv(\"All Assets and Dividends.csv\", index=True)"
   ]
  },
  {
   "cell_type": "code",
   "execution_count": 18,
   "metadata": {},
   "outputs": [
    {
     "data": {
      "application/vnd.microsoft.datawrangler.viewer.v0+json": {
       "columns": [
        {
         "name": "index",
         "rawType": "int64",
         "type": "integer"
        },
        {
         "name": "Date",
         "rawType": "datetime64[ns]",
         "type": "datetime"
        },
        {
         "name": "YMAX",
         "rawType": "float64",
         "type": "float"
        },
        {
         "name": "YMAG",
         "rawType": "float64",
         "type": "float"
        },
        {
         "name": "VIX",
         "rawType": "float64",
         "type": "float"
        },
        {
         "name": "VVIX",
         "rawType": "float64",
         "type": "float"
        },
        {
         "name": "QQQ",
         "rawType": "float64",
         "type": "float"
        },
        {
         "name": "YMAX Dividends",
         "rawType": "float64",
         "type": "float"
        },
        {
         "name": "YMAG Dividends",
         "rawType": "float64",
         "type": "float"
        },
        {
         "name": "YMAX-VIX Correlation",
         "rawType": "float64",
         "type": "float"
        },
        {
         "name": "YMAX-VVIX Correlation",
         "rawType": "float64",
         "type": "float"
        },
        {
         "name": "YMAG-VIX Correlation",
         "rawType": "float64",
         "type": "float"
        },
        {
         "name": "YMAG-VVIX Correlation",
         "rawType": "float64",
         "type": "float"
        }
       ],
       "conversionMethod": "pd.DataFrame",
       "ref": "1c87ddec-ed54-42bf-bd60-b6f677b696de",
       "rows": [
        [
         "0",
         "2024-02-21 00:00:00",
         "20.07",
         "19.79",
         "15.34000015258789",
         "84.66000366210938",
         "423.09564208984375",
         "0.0",
         "0.0",
         "-0.592271532726669",
         "-0.512387458425977",
         "-0.48501059913685146",
         "-0.39573617617008383"
        ],
        [
         "1",
         "2024-02-22 00:00:00",
         "20.75",
         "20.62",
         "14.539999961853027",
         "80.87999725341797",
         "435.4820861816406",
         "0.0",
         "0.0",
         "-0.6060397598876708",
         "-0.5268378043670272",
         "-0.5088864523406496",
         "-0.42431426711799897"
        ],
        [
         "2",
         "2024-02-23 00:00:00",
         "20.91",
         "20.62",
         "13.75",
         "78.86000061035156",
         "434.1996765136719",
         "0.0",
         "0.0",
         "-0.6262110609974748",
         "-0.5314454042781587",
         "-0.5241154879552623",
         "-0.42352844304333653"
        ],
        [
         "3",
         "2024-02-26 00:00:00",
         "20.98",
         "20.51",
         "13.739999771118164",
         "80.5",
         "433.9710083007813",
         "0.0",
         "0.0",
         "-0.666707731433105",
         "-0.6234017123926209",
         "-0.5322726164576981",
         "-0.4790420771476997"
        ],
        [
         "4",
         "2024-02-27 00:00:00",
         "21.18",
         "20.64",
         "13.43000030517578",
         "78.54000091552734",
         "435.0148620605469",
         "0.0",
         "0.0",
         "-0.6663839287145205",
         "-0.6243532005437811",
         "-0.5534972035316467",
         "-0.4982128091664486"
        ],
        [
         "5",
         "2024-02-28 00:00:00",
         "21.22",
         "20.56",
         "13.84000015258789",
         "80.36000061035156",
         "432.6986083984375",
         "0.0",
         "0.0",
         "-0.6576222881250374",
         "-0.6760161034100128",
         "-0.5518018026843348",
         "-0.595291763050745"
        ],
        [
         "6",
         "2024-02-29 00:00:00",
         "21.55",
         "20.8",
         "13.399999618530272",
         "77.44999694824219",
         "436.4066162109375",
         "0.0",
         "0.0",
         "-0.6716343124942371",
         "-0.6990576944432548",
         "-0.5674858693063594",
         "-0.622952738291413"
        ],
        [
         "7",
         "2024-03-01 00:00:00",
         "21.67",
         "21.0",
         "13.109999656677246",
         "77.68000030517578",
         "442.9775085449219",
         "0.0",
         "0.0",
         "-0.6718892482916443",
         "-0.7031066812730138",
         "-0.5805242977379379",
         "-0.6076196619583043"
        ],
        [
         "8",
         "2024-03-04 00:00:00",
         "21.6",
         "20.74",
         "13.489999771118164",
         "79.41000366210938",
         "441.39691162109375",
         "0.0",
         "0.0",
         "-0.7512706456030558",
         "-0.742309491270701",
         "-0.5903232060470878",
         "-0.6124814830713614"
        ],
        [
         "9",
         "2024-03-05 00:00:00",
         "21.17",
         "20.41",
         "14.460000038146973",
         "83.91000366210938",
         "433.4739990234375",
         "0.0",
         "0.0",
         "-0.7803439160131319",
         "-0.7568215439494906",
         "-0.6198139922363545",
         "-0.6339205104294668"
        ],
        [
         "10",
         "2024-03-06 00:00:00",
         "21.38",
         "20.37",
         "14.5",
         "83.11000061035156",
         "436.1978454589844",
         "0.0",
         "0.0",
         "-0.7309436146926167",
         "-0.7587685223142399",
         "-0.6160216764063088",
         "-0.7001791097838008"
        ],
        [
         "11",
         "2024-03-07 00:00:00",
         "21.65",
         "20.65",
         "14.4399995803833",
         "82.12999725341797",
         "442.8185119628906",
         "0.0",
         "0.0",
         "-0.8477141593074056",
         "-0.841022228120887",
         "-0.7278587380977682",
         "-0.7830496270145281"
        ],
        [
         "12",
         "2024-03-08 00:00:00",
         "21.62",
         "20.44",
         "14.739999771118164",
         "86.55999755859375",
         "436.4264831542969",
         "0.0",
         "0.0",
         "-0.8493953435255028",
         "-0.8051170305443901",
         "-0.7285164394148338",
         "-0.7883249703463401"
        ],
        [
         "13",
         "2024-03-11 00:00:00",
         "21.6",
         "20.32",
         "15.220000267028809",
         "88.97000122070312",
         "434.8061218261719",
         "0.0",
         "0.0",
         "-0.8014232851091773",
         "-0.7829281997569713",
         "-0.7465265054854903",
         "-0.7804739444511231"
        ],
        [
         "14",
         "2024-03-12 00:00:00",
         "21.87",
         "20.77",
         "13.84000015258789",
         "83.76000213623047",
         "441.0390930175781",
         "0.0",
         "0.0",
         "-0.7716143323350032",
         "-0.8330342960279215",
         "-0.7754441150697864",
         "-0.826929629593735"
        ],
        [
         "15",
         "2024-03-13 00:00:00",
         "21.81",
         "20.66",
         "13.75",
         "86.2699966430664",
         "437.6492004394531",
         "0.0",
         "0.0",
         "-0.7765820926781482",
         "-0.858450171398386",
         "-0.8211608579581096",
         "-0.8744062131857359"
        ],
        [
         "16",
         "2024-03-14 00:00:00",
         "20.9",
         "19.94",
         "14.399999618530272",
         "88.75",
         "436.5457763671875",
         "0.57",
         "0.59",
         "-0.7003859197142767",
         "-0.6464872735606002",
         "-0.8403564625529069",
         "-0.7892130953395072"
        ],
        [
         "17",
         "2024-03-15 00:00:00",
         "20.94",
         "19.86",
         "14.40999984741211",
         "92.16999816894533",
         "431.3566284179688",
         "0.0",
         "0.0",
         "-0.7002417751050695",
         "-0.6294058807949964",
         "-0.8427814005771439",
         "-0.7740710137557294"
        ],
        [
         "18",
         "2024-03-18 00:00:00",
         "21.16",
         "20.11",
         "14.329999923706056",
         "86.77999877929688",
         "435.47064208984375",
         "0.0",
         "0.0",
         "-0.689264078823664",
         "-0.6191013643532958",
         "-0.8241433920273022",
         "-0.77809633998449"
        ],
        [
         "19",
         "2024-03-19 00:00:00",
         "21.11",
         "20.24",
         "13.81999969482422",
         "83.9000015258789",
         "436.55560302734375",
         "0.0",
         "0.0",
         "-0.6728359248265463",
         "-0.5928147013267004",
         "-0.8319109816881993",
         "-0.7812419911302896"
        ],
        [
         "20",
         "2024-03-20 00:00:00",
         "21.31",
         "20.4",
         "13.039999961853027",
         "78.87000274658203",
         "441.7317199707031",
         "0.0",
         "0.0",
         "-0.6648044591833078",
         "-0.5750433769926236",
         "-0.8162089862216767",
         "-0.7568329522642259"
        ],
        [
         "21",
         "2024-03-21 00:00:00",
         "21.44",
         "20.42",
         "12.920000076293944",
         "77.30000305175781",
         "443.8220825195313",
         "0.0",
         "0.0",
         "-0.6601780968494629",
         "-0.5879453627168972",
         "-0.8134643962039269",
         "-0.7750853193109277"
        ],
        [
         "22",
         "2024-03-22 00:00:00",
         "21.43",
         "20.59",
         "13.0600004196167",
         "76.48999786376953",
         "444.3297424316406",
         "0.0",
         "0.0",
         "-0.6620115494590505",
         "-0.5867282445313292",
         "-0.7744616430718115",
         "-0.7664098491059289"
        ],
        [
         "23",
         "2024-03-25 00:00:00",
         "21.65",
         "20.55",
         "13.1899995803833",
         "76.5999984741211",
         "442.7171630859375",
         "0.0",
         "0.0",
         "-0.5502869931920139",
         "-0.4924031466250573",
         "-0.7534505821781347",
         "-0.7376955963074091"
        ],
        [
         "24",
         "2024-03-26 00:00:00",
         "21.62",
         "20.47",
         "13.239999771118164",
         "76.7699966430664",
         "441.2837829589844",
         "0.0",
         "0.0",
         "-0.5736716687476892",
         "-0.4964064829981465",
         "-0.7543343977888118",
         "-0.7413542990886388"
        ],
        [
         "25",
         "2024-03-27 00:00:00",
         "21.64",
         "20.49",
         "12.779999732971191",
         "76.0",
         "442.786865234375",
         "0.0",
         "0.0",
         "-0.5862918278918855",
         "-0.5001488775341775",
         "-0.7784894224895209",
         "-0.7585493727310714"
        ],
        [
         "26",
         "2024-03-28 00:00:00",
         "21.68",
         "20.46",
         "13.010000228881836",
         "76.56999969482422",
         "441.97064208984375",
         "0.0",
         "0.0",
         "-0.5745193654078775",
         "-0.5338904798807479",
         "-0.7573372927049075",
         "-0.7565198683637299"
        ],
        [
         "27",
         "2024-04-01 00:00:00",
         "21.6",
         "20.54",
         "13.649999618530272",
         "78.44999694824219",
         "442.9063415527344",
         "0.0",
         "0.0",
         "-0.5743109543758107",
         "-0.5511687162141768",
         "-0.6565911340307792",
         "-0.7066612388239892"
        ],
        [
         "28",
         "2024-04-02 00:00:00",
         "21.41",
         "20.38",
         "14.609999656677246",
         "82.76000213623047",
         "439.08392333984375",
         "0.0",
         "0.0",
         "-0.5374920882722487",
         "-0.5141312362955635",
         "-0.5182224504873117",
         "-0.6304910621938391"
        ],
        [
         "29",
         "2024-04-03 00:00:00",
         "21.47",
         "20.42",
         "14.329999923706056",
         "81.08000183105469",
         "440.06939697265625",
         "0.0",
         "0.0",
         "-0.5470609607109053",
         "-0.5287436304729767",
         "-0.5348100455693086",
         "-0.6303084760021581"
        ],
        [
         "30",
         "2024-04-04 00:00:00",
         "21.17",
         "20.33",
         "16.350000381469727",
         "90.04000091552734",
         "433.3404541015625",
         "0.0",
         "0.0",
         "-0.7520707839637674",
         "-0.8093662238420934",
         "-0.521254965199267",
         "-0.7639248685300759"
        ],
        [
         "31",
         "2024-04-05 00:00:00",
         "21.34",
         "20.46",
         "16.030000686645508",
         "90.58000183105467",
         "438.4468994140625",
         "0.0",
         "0.0",
         "-0.7580622881729442",
         "-0.8011316154087647",
         "-0.5713357757480402",
         "-0.7221123907673654"
        ],
        [
         "32",
         "2024-04-08 00:00:00",
         "21.49",
         "20.61",
         "15.1899995803833",
         "86.26000213623047",
         "438.5762939453125",
         "0.0",
         "0.0",
         "-0.7983981279949232",
         "-0.7849937340397375",
         "-0.6588202893839451",
         "-0.6971285260608961"
        ],
        [
         "33",
         "2024-04-09 00:00:00",
         "21.52",
         "20.64",
         "14.979999542236328",
         "84.44999694824219",
         "440.1987915039063",
         "0.0",
         "0.0",
         "-0.8549676843036129",
         "-0.8380213578626063",
         "-0.6343535443136403",
         "-0.6712085350306809"
        ],
        [
         "34",
         "2024-04-10 00:00:00",
         "21.43",
         "20.63",
         "15.800000190734863",
         "91.76000213623048",
         "436.3565368652344",
         "0.0",
         "0.0",
         "-0.8428217800124744",
         "-0.794364507066944",
         "-0.5804792162378627",
         "-0.5706503498697777"
        ],
        [
         "35",
         "2024-04-11 00:00:00",
         "21.68",
         "20.95",
         "14.90999984741211",
         "89.4000015258789",
         "443.3243713378906",
         "0.0",
         "0.0",
         "-0.8652153718880616",
         "-0.7895964543543346",
         "-0.651840566859206",
         "-0.5854617519282391"
        ],
        [
         "36",
         "2024-04-12 00:00:00",
         "21.28",
         "20.68",
         "17.309999465942383",
         "102.72000122070312",
         "436.2569885253906",
         "0.0",
         "0.0",
         "-0.9133638814234141",
         "-0.8768938639274869",
         "-0.7865139752004371",
         "-0.7206288242377795"
        ],
        [
         "37",
         "2024-04-15 00:00:00",
         "20.81",
         "20.36",
         "19.229999542236328",
         "109.63999938964844",
         "429.0801086425781",
         "0.0",
         "0.0",
         "-0.9340672198009091",
         "-0.843839406347885",
         "-0.8134024580973759",
         "-0.7197728183392927"
        ],
        [
         "38",
         "2024-04-16 00:00:00",
         "20.73",
         "20.27",
         "18.399999618530277",
         "99.25",
         "429.1199340820313",
         "0.0",
         "0.0",
         "-0.8927302860397798",
         "-0.7194639152788553",
         "-0.7604201366734024",
         "-0.5729770673087097"
        ],
        [
         "39",
         "2024-04-17 00:00:00",
         "19.92",
         "19.46",
         "18.209999084472656",
         "98.76000213623048",
         "423.8840637207031",
         "0.63",
         "0.62",
         "-0.5306401850230966",
         "-0.4327775863394919",
         "-0.34498119830651847",
         "-0.25903767029262054"
        ],
        [
         "40",
         "2024-04-18 00:00:00",
         "19.85",
         "19.34",
         "18.0",
         "95.98999786376952",
         "421.4652404785156",
         "0.0",
         "0.0",
         "-0.5332271872981534",
         "-0.4317533703488406",
         "-0.3323698126261342",
         "-0.2420345822528174"
        ],
        [
         "41",
         "2024-04-19 00:00:00",
         "19.38",
         "18.78",
         "18.709999084472656",
         "99.08999633789062",
         "412.7454833984375",
         "0.0",
         "0.0",
         "-0.530051570441813",
         "-0.428590892008971",
         "-0.34256574988915045",
         "-0.2491365373792401"
        ],
        [
         "42",
         "2024-04-22 00:00:00",
         "19.69",
         "18.94",
         "16.940000534057617",
         "89.54000091552734",
         "416.8963317871094",
         "0.0",
         "0.0",
         "-0.6095263735153832",
         "-0.5241833143947235",
         "-0.4075345471785351",
         "-0.32477343385442986"
        ],
        [
         "43",
         "2024-04-23 00:00:00",
         "20.01",
         "19.26",
         "15.6899995803833",
         "82.36000061035156",
         "423.11761474609375",
         "0.0",
         "0.0",
         "-0.6440022186334384",
         "-0.5713433658039665",
         "-0.463328323536788",
         "-0.394775754670906"
        ],
        [
         "44",
         "2024-04-24 00:00:00",
         "20.06",
         "19.5",
         "15.970000267028809",
         "83.61000061035156",
         "424.5509948730469",
         "0.0",
         "0.0",
         "-0.6410432895845133",
         "-0.5489312879855912",
         "-0.48353420999322916",
         "-0.3922910185975881"
        ],
        [
         "45",
         "2024-04-25 00:00:00",
         "19.96",
         "19.19",
         "15.369999885559082",
         "82.54000091552734",
         "422.5005187988281",
         "0.0",
         "0.0",
         "-0.6320611275478211",
         "-0.5683432465206687",
         "-0.43486470509847014",
         "-0.38873839223561185"
        ],
        [
         "46",
         "2024-04-26 00:00:00",
         "20.22",
         "19.6",
         "15.029999732971191",
         "79.55999755859375",
         "429.0203857421875",
         "0.0",
         "0.0",
         "-0.6133502403426218",
         "-0.5621966369949504",
         "-0.41301377780518395",
         "-0.3863844251070093"
        ],
        [
         "47",
         "2024-04-29 00:00:00",
         "20.31",
         "19.78",
         "14.670000076293944",
         "78.22000122070312",
         "430.7623596191406",
         "0.0",
         "0.0",
         "-0.6164149824843498",
         "-0.5606259541081207",
         "-0.41975918494682696",
         "-0.3860089170454814"
        ],
        [
         "48",
         "2024-04-30 00:00:00",
         "19.92",
         "19.48",
         "15.649999618530272",
         "81.81999969482422",
         "422.6398010253906",
         "0.0",
         "0.0",
         "-0.6537872990762569",
         "-0.6235221799054517",
         "-0.46295489223223457",
         "-0.4527943814666373"
        ],
        [
         "49",
         "2024-05-01 00:00:00",
         "19.79",
         "19.54",
         "15.390000343322754",
         "81.93000030517578",
         "419.58392333984375",
         "0.0",
         "0.0",
         "-0.627779699064801",
         "-0.626992968363219",
         "-0.42951141001675225",
         "-0.4428682747061897"
        ]
       ],
       "shape": {
        "columns": 12,
        "rows": 247
       }
      },
      "text/html": [
       "<div>\n",
       "<style scoped>\n",
       "    .dataframe tbody tr th:only-of-type {\n",
       "        vertical-align: middle;\n",
       "    }\n",
       "\n",
       "    .dataframe tbody tr th {\n",
       "        vertical-align: top;\n",
       "    }\n",
       "\n",
       "    .dataframe thead th {\n",
       "        text-align: right;\n",
       "    }\n",
       "</style>\n",
       "<table border=\"1\" class=\"dataframe\">\n",
       "  <thead>\n",
       "    <tr style=\"text-align: right;\">\n",
       "      <th></th>\n",
       "      <th>Date</th>\n",
       "      <th>YMAX</th>\n",
       "      <th>YMAG</th>\n",
       "      <th>VIX</th>\n",
       "      <th>VVIX</th>\n",
       "      <th>QQQ</th>\n",
       "      <th>YMAX Dividends</th>\n",
       "      <th>YMAG Dividends</th>\n",
       "      <th>YMAX-VIX Correlation</th>\n",
       "      <th>YMAX-VVIX Correlation</th>\n",
       "      <th>YMAG-VIX Correlation</th>\n",
       "      <th>YMAG-VVIX Correlation</th>\n",
       "    </tr>\n",
       "  </thead>\n",
       "  <tbody>\n",
       "    <tr>\n",
       "      <th>0</th>\n",
       "      <td>2024-02-21</td>\n",
       "      <td>20.07</td>\n",
       "      <td>19.79</td>\n",
       "      <td>15.340000</td>\n",
       "      <td>84.660004</td>\n",
       "      <td>423.095642</td>\n",
       "      <td>0.00</td>\n",
       "      <td>0.00</td>\n",
       "      <td>-0.592272</td>\n",
       "      <td>-0.512387</td>\n",
       "      <td>-0.485011</td>\n",
       "      <td>-0.395736</td>\n",
       "    </tr>\n",
       "    <tr>\n",
       "      <th>1</th>\n",
       "      <td>2024-02-22</td>\n",
       "      <td>20.75</td>\n",
       "      <td>20.62</td>\n",
       "      <td>14.540000</td>\n",
       "      <td>80.879997</td>\n",
       "      <td>435.482086</td>\n",
       "      <td>0.00</td>\n",
       "      <td>0.00</td>\n",
       "      <td>-0.606040</td>\n",
       "      <td>-0.526838</td>\n",
       "      <td>-0.508886</td>\n",
       "      <td>-0.424314</td>\n",
       "    </tr>\n",
       "    <tr>\n",
       "      <th>2</th>\n",
       "      <td>2024-02-23</td>\n",
       "      <td>20.91</td>\n",
       "      <td>20.62</td>\n",
       "      <td>13.750000</td>\n",
       "      <td>78.860001</td>\n",
       "      <td>434.199677</td>\n",
       "      <td>0.00</td>\n",
       "      <td>0.00</td>\n",
       "      <td>-0.626211</td>\n",
       "      <td>-0.531445</td>\n",
       "      <td>-0.524115</td>\n",
       "      <td>-0.423528</td>\n",
       "    </tr>\n",
       "    <tr>\n",
       "      <th>3</th>\n",
       "      <td>2024-02-26</td>\n",
       "      <td>20.98</td>\n",
       "      <td>20.51</td>\n",
       "      <td>13.740000</td>\n",
       "      <td>80.500000</td>\n",
       "      <td>433.971008</td>\n",
       "      <td>0.00</td>\n",
       "      <td>0.00</td>\n",
       "      <td>-0.666708</td>\n",
       "      <td>-0.623402</td>\n",
       "      <td>-0.532273</td>\n",
       "      <td>-0.479042</td>\n",
       "    </tr>\n",
       "    <tr>\n",
       "      <th>4</th>\n",
       "      <td>2024-02-27</td>\n",
       "      <td>21.18</td>\n",
       "      <td>20.64</td>\n",
       "      <td>13.430000</td>\n",
       "      <td>78.540001</td>\n",
       "      <td>435.014862</td>\n",
       "      <td>0.00</td>\n",
       "      <td>0.00</td>\n",
       "      <td>-0.666384</td>\n",
       "      <td>-0.624353</td>\n",
       "      <td>-0.553497</td>\n",
       "      <td>-0.498213</td>\n",
       "    </tr>\n",
       "    <tr>\n",
       "      <th>...</th>\n",
       "      <td>...</td>\n",
       "      <td>...</td>\n",
       "      <td>...</td>\n",
       "      <td>...</td>\n",
       "      <td>...</td>\n",
       "      <td>...</td>\n",
       "      <td>...</td>\n",
       "      <td>...</td>\n",
       "      <td>...</td>\n",
       "      <td>...</td>\n",
       "      <td>...</td>\n",
       "      <td>...</td>\n",
       "    </tr>\n",
       "    <tr>\n",
       "      <th>242</th>\n",
       "      <td>2025-02-07</td>\n",
       "      <td>16.44</td>\n",
       "      <td>18.07</td>\n",
       "      <td>16.540001</td>\n",
       "      <td>101.489998</td>\n",
       "      <td>522.919983</td>\n",
       "      <td>0.00</td>\n",
       "      <td>0.00</td>\n",
       "      <td>-0.784350</td>\n",
       "      <td>-0.776437</td>\n",
       "      <td>-0.751345</td>\n",
       "      <td>-0.725197</td>\n",
       "    </tr>\n",
       "    <tr>\n",
       "      <th>243</th>\n",
       "      <td>2025-02-10</td>\n",
       "      <td>16.67</td>\n",
       "      <td>18.07</td>\n",
       "      <td>15.810000</td>\n",
       "      <td>99.150002</td>\n",
       "      <td>529.250000</td>\n",
       "      <td>0.00</td>\n",
       "      <td>0.00</td>\n",
       "      <td>-0.777234</td>\n",
       "      <td>-0.763149</td>\n",
       "      <td>-0.740033</td>\n",
       "      <td>-0.715489</td>\n",
       "    </tr>\n",
       "    <tr>\n",
       "      <th>244</th>\n",
       "      <td>2025-02-11</td>\n",
       "      <td>16.41</td>\n",
       "      <td>18.01</td>\n",
       "      <td>16.020000</td>\n",
       "      <td>99.820000</td>\n",
       "      <td>527.989990</td>\n",
       "      <td>0.00</td>\n",
       "      <td>0.00</td>\n",
       "      <td>-0.765138</td>\n",
       "      <td>-0.792415</td>\n",
       "      <td>-0.762529</td>\n",
       "      <td>-0.780399</td>\n",
       "    </tr>\n",
       "    <tr>\n",
       "      <th>245</th>\n",
       "      <td>2025-02-12</td>\n",
       "      <td>16.60</td>\n",
       "      <td>18.04</td>\n",
       "      <td>15.890000</td>\n",
       "      <td>98.739998</td>\n",
       "      <td>528.299988</td>\n",
       "      <td>0.00</td>\n",
       "      <td>0.00</td>\n",
       "      <td>-0.750199</td>\n",
       "      <td>-0.781231</td>\n",
       "      <td>-0.766567</td>\n",
       "      <td>-0.787296</td>\n",
       "    </tr>\n",
       "    <tr>\n",
       "      <th>246</th>\n",
       "      <td>2025-02-13</td>\n",
       "      <td>16.64</td>\n",
       "      <td>18.19</td>\n",
       "      <td>15.100000</td>\n",
       "      <td>95.480003</td>\n",
       "      <td>535.900024</td>\n",
       "      <td>0.15</td>\n",
       "      <td>0.05</td>\n",
       "      <td>-0.755332</td>\n",
       "      <td>-0.779298</td>\n",
       "      <td>-0.774684</td>\n",
       "      <td>-0.800215</td>\n",
       "    </tr>\n",
       "  </tbody>\n",
       "</table>\n",
       "<p>247 rows × 12 columns</p>\n",
       "</div>"
      ],
      "text/plain": [
       "          Date   YMAX   YMAG        VIX        VVIX         QQQ  \\\n",
       "0   2024-02-21  20.07  19.79  15.340000   84.660004  423.095642   \n",
       "1   2024-02-22  20.75  20.62  14.540000   80.879997  435.482086   \n",
       "2   2024-02-23  20.91  20.62  13.750000   78.860001  434.199677   \n",
       "3   2024-02-26  20.98  20.51  13.740000   80.500000  433.971008   \n",
       "4   2024-02-27  21.18  20.64  13.430000   78.540001  435.014862   \n",
       "..         ...    ...    ...        ...         ...         ...   \n",
       "242 2025-02-07  16.44  18.07  16.540001  101.489998  522.919983   \n",
       "243 2025-02-10  16.67  18.07  15.810000   99.150002  529.250000   \n",
       "244 2025-02-11  16.41  18.01  16.020000   99.820000  527.989990   \n",
       "245 2025-02-12  16.60  18.04  15.890000   98.739998  528.299988   \n",
       "246 2025-02-13  16.64  18.19  15.100000   95.480003  535.900024   \n",
       "\n",
       "     YMAX Dividends  YMAG Dividends  YMAX-VIX Correlation  \\\n",
       "0              0.00            0.00             -0.592272   \n",
       "1              0.00            0.00             -0.606040   \n",
       "2              0.00            0.00             -0.626211   \n",
       "3              0.00            0.00             -0.666708   \n",
       "4              0.00            0.00             -0.666384   \n",
       "..              ...             ...                   ...   \n",
       "242            0.00            0.00             -0.784350   \n",
       "243            0.00            0.00             -0.777234   \n",
       "244            0.00            0.00             -0.765138   \n",
       "245            0.00            0.00             -0.750199   \n",
       "246            0.15            0.05             -0.755332   \n",
       "\n",
       "     YMAX-VVIX Correlation  YMAG-VIX Correlation  YMAG-VVIX Correlation  \n",
       "0                -0.512387             -0.485011              -0.395736  \n",
       "1                -0.526838             -0.508886              -0.424314  \n",
       "2                -0.531445             -0.524115              -0.423528  \n",
       "3                -0.623402             -0.532273              -0.479042  \n",
       "4                -0.624353             -0.553497              -0.498213  \n",
       "..                     ...                   ...                    ...  \n",
       "242              -0.776437             -0.751345              -0.725197  \n",
       "243              -0.763149             -0.740033              -0.715489  \n",
       "244              -0.792415             -0.762529              -0.780399  \n",
       "245              -0.781231             -0.766567              -0.787296  \n",
       "246              -0.779298             -0.774684              -0.800215  \n",
       "\n",
       "[247 rows x 12 columns]"
      ]
     },
     "execution_count": 18,
     "metadata": {},
     "output_type": "execute_result"
    }
   ],
   "source": [
    "# Define rolling window size (e.g., 14 days)\n",
    "window_size = 14\n",
    "\n",
    "# Compute daily returns for each asset in All_Assets, excluding dividends columns\n",
    "returns = All_Assets.loc[:, ~All_Assets.columns.str.contains('Dividends')].pct_change().dropna()\n",
    "\n",
    "# Initialize stats_df with rolling volatilities\n",
    "Prices_and_stats_df = pd.DataFrame(index=returns.index)\n",
    "\n",
    "# Compute rolling correlations\n",
    "Prices_and_stats_df[\"YMAX-VIX Correlation\"] = returns[\"YMAX\"].rolling(window=window_size).corr(returns[\"VIX\"])\n",
    "Prices_and_stats_df[\"YMAX-VVIX Correlation\"] = returns[\"YMAX\"].rolling(window=window_size).corr(returns[\"VVIX\"])\n",
    "Prices_and_stats_df[\"YMAG-VIX Correlation\"] = returns[\"YMAG\"].rolling(window=window_size).corr(returns[\"VIX\"])\n",
    "Prices_and_stats_df[\"YMAG-VVIX Correlation\"] = returns[\"YMAG\"].rolling(window=window_size).corr(returns[\"VVIX\"])\n",
    "\n",
    "#Merge the prices and stats data\n",
    "Prices_and_stats_df = All_Assets.merge(Prices_and_stats_df, left_index=True, right_index=True)\n",
    "\n",
    "# Drop NaN values resulting from rolling calculations\n",
    "Prices_and_stats_df = Prices_and_stats_df.dropna()\n",
    "\n",
    "# Rest the prices and stats data index\n",
    "Prices_and_stats_df.reset_index(inplace=True)\n",
    "\n",
    "# Display the first and last few rows of Prices_and_stats_df\n",
    "Prices_and_stats_df"
   ]
  },
  {
   "cell_type": "markdown",
   "metadata": {},
   "source": [
    "## BACKTESTING THE INVESTMENT RULES"
   ]
  },
  {
   "cell_type": "markdown",
   "metadata": {},
   "source": [
    "### Strategy 1 Investment Rules:\n",
    "1. **Rule 1**: If VIX < 20 and VVIX < 100 → Long YMAX/YMAG (no hedge).\n",
    "2. **Rule 2**: If VIX ≥ 20 or VVIX ≥ 100 → Long YMAX/YMAG and short an equal dollar amount of QQQ.\n",
    "3. **Rule 3**: If VIX ≥ 20 or VVIX ≥ 100 and correlation of YMAX/YMAG with VIX/VVIX < -0.3 → No investment."
   ]
  },
  {
   "cell_type": "markdown",
   "metadata": {},
   "source": [
    "#### YMAX BACKTEST"
   ]
  },
  {
   "cell_type": "code",
   "execution_count": 19,
   "metadata": {},
   "outputs": [],
   "source": [
    "# Create a separate dataframe for YMAX backtesting\n",
    "ymax_df = Prices_and_stats_df.copy()\n",
    "\n",
    "# Define initial portfolio value\n",
    "initial_investment = 10000  # $10,000 starting capital\n",
    "\n",
    "# Function to determine strategy for YMAX only\n",
    "def determine_strategy_ymax(row):\n",
    "    if row[\"VIX\"] < 20 and row[\"VVIX\"] < 100:\n",
    "        return \"Long YMAX (No Hedge)\"\n",
    "    elif row[\"VIX\"] >= 20 or row[\"VVIX\"] >= 100:\n",
    "        if row[\"YMAX-VIX Correlation\"] < -0.3 or row[\"YMAX-VVIX Correlation\"] < -0.3:\n",
    "            return \"No Investment\"\n",
    "        return \"Long YMAX + Short QQQ\"\n",
    "    return \"No Investment\"\n",
    "\n",
    "# Apply the strategy to YMAX data\n",
    "ymax_df[\"Strategy\"] = ymax_df.apply(determine_strategy_ymax, axis=1)\n",
    "\n",
    "# Initialize tracking columns\n",
    "ymax_df[\"Portfolio_Value\"] = initial_investment\n",
    "\n",
    "# Initialize a column to track QQQ shorted shares\n",
    "ymax_df[\"QQQ_Shares_Short\"] = 0\n",
    "\n",
    "\n",
    "# Iterate over rows to simulate performance\n",
    "for i in range(1, len(ymax_df)):\n",
    "    prev_value = ymax_df.loc[i-1, \"Portfolio_Value\"]\n",
    "    strategy = ymax_df.loc[i, \"Strategy\"]\n",
    "    \n",
    "    if strategy == \"Long YMAX (No Hedge)\":\n",
    "        # Calculate the number of shares held\n",
    "        shares_held = prev_value / ymax_df.loc[i-1, \"YMAX\"]\n",
    "\n",
    "        # Get today's price and dividends per share\n",
    "        today_price = ymax_df.loc[i, \"YMAX\"]\n",
    "        today_dividend = ymax_df.loc[i, \"YMAX Dividends\"]\n",
    "\n",
    "        # Compute new portfolio value\n",
    "        ymax_df.loc[i, \"Portfolio_Value\"] = shares_held * (today_price + today_dividend)\n",
    "\n",
    "    elif strategy == \"Long YMAX + Short QQQ\":\n",
    "        # Calculate the number of YMAX shares held\n",
    "        shares_held = prev_value / ymax_df.loc[i-1, \"YMAX\"]\n",
    "\n",
    "        # Get today's price and dividends per share\n",
    "        today_price = ymax_df.loc[i, \"YMAX\"]\n",
    "        today_dividend = ymax_df.loc[i, \"YMAX Dividends\"]\n",
    "\n",
    "        # Handle QQQ Hedge\n",
    "        if ymax_df.loc[i-1, \"Strategy\"] != \"Long YMAX + Short QQQ\":\n",
    "            # First time hedge is applied → Short QQQ\n",
    "            ymax_df.loc[i, \"QQQ_Shares_Short\"] = prev_value / ymax_df.loc[i-1, \"QQQ\"]\n",
    "        else:\n",
    "            # Continue holding the short position\n",
    "            ymax_df.loc[i, \"QQQ_Shares_Short\"] = ymax_df.loc[i-1, \"QQQ_Shares_Short\"]\n",
    "\n",
    "        # Compute hedge loss\n",
    "        hedge_loss = ymax_df.loc[i, \"QQQ_Shares_Short\"] * (ymax_df.loc[i, \"QQQ\"] - ymax_df.loc[i-1, \"QQQ\"])\n",
    "\n",
    "        # Store hedge loss\n",
    "        ymax_df.loc[i, \"QQQ_Short_Loss\"] = hedge_loss\n",
    "\n",
    "        # Compute new portfolio value\n",
    "        ymax_df.loc[i, \"Portfolio_Value\"] = (shares_held * (today_price + today_dividend)) - hedge_loss\n",
    "\n",
    "    elif strategy == \"No Investment\":\n",
    "        ymax_df.loc[i, \"Portfolio_Value\"] = prev_value  # Stay in cash\n",
    "\n"
   ]
  },
  {
   "cell_type": "code",
   "execution_count": 20,
   "metadata": {},
   "outputs": [
    {
     "data": {
      "image/png": "[encoded data removed]",
      "text/plain": [
       "<Figure size 1200x600 with 1 Axes>"
      ]
     },
     "metadata": {},
     "output_type": "display_data"
    },
    {
     "data": {
      "image/png": "[encoded data removed]",
      "text/plain": [
       "<Figure size 1200x400 with 1 Axes>"
      ]
     },
     "metadata": {},
     "output_type": "display_data"
    }
   ],
   "source": [
    "# Set Seaborn style for a clean aesthetic\n",
    "sns.set_style(\"whitegrid\")\n",
    "\n",
    "# 1️⃣ **Plot Portfolio Performance for YMAX**\n",
    "plt.figure(figsize=(12, 6))\n",
    "ax = sns.lineplot(x=ymax_df[\"Date\"], y=ymax_df[\"Portfolio_Value\"], color=\"blue\", linewidth=2.5, label=\"Portfolio Value (YMAX)\")\n",
    "\n",
    "# Format X-axis to display months\n",
    "ax.xaxis.set_major_locator(mdates.MonthLocator())  \n",
    "ax.xaxis.set_major_formatter(mdates.DateFormatter(\"%Y-%m\"))  \n",
    "\n",
    "# Improve labels and title\n",
    "plt.xlabel(\"Date\", fontsize=14, fontweight=\"bold\")\n",
    "plt.ylabel(\"Portfolio Value ($)\", fontsize=14, fontweight=\"bold\")\n",
    "plt.title(\"📈 Portfolio Performance for YMAX Over Time\", fontsize=16, fontweight=\"bold\", color=\"darkblue\")\n",
    "\n",
    "# Rotate X-axis labels for better readability\n",
    "plt.xticks(rotation=45, fontsize=12)\n",
    "plt.yticks(fontsize=12)\n",
    "\n",
    "# Add THICKER grid lines with color\n",
    "plt.grid(True, linestyle=\"--\", linewidth=1.2, color=\"gray\")\n",
    "\n",
    "# Add legend with improved styling\n",
    "plt.legend(fontsize=12, loc=\"upper left\", frameon=True, shadow=True, edgecolor=\"black\")\n",
    "\n",
    "# Show plot\n",
    "plt.show()\n",
    "\n",
    "# 2️⃣ **Plot Strategy Usage Over Time for YMAX**\n",
    "plt.figure(figsize=(12, 4))\n",
    "ax = sns.barplot(x=ymax_df[\"Strategy\"].value_counts().index, y=ymax_df[\"Strategy\"].value_counts().values, palette=[\"royalblue\", \"red\", \"green\"])\n",
    "\n",
    "# Improve labels and title\n",
    "plt.xlabel(\"Strategy\", fontsize=14, fontweight=\"bold\")\n",
    "plt.ylabel(\"Number of Days\", fontsize=14, fontweight=\"bold\")\n",
    "plt.title(\"📊 Strategy Distribution Over Time (YMAX)\", fontsize=16, fontweight=\"bold\", color=\"navy\")\n",
    "\n",
    "# Rotate X-axis labels for better readability\n",
    "plt.xticks(rotation=45, fontsize=12)\n",
    "\n",
    "# Add THICKER grid lines with color\n",
    "plt.grid(axis=\"y\", linestyle=\"--\", linewidth=1.2, color=\"gray\")\n",
    "\n",
    "# Show plot\n",
    "plt.show()\n"
   ]
  },
  {
   "cell_type": "markdown",
   "metadata": {},
   "source": [
    "##### PERFORMANCE MEASURES OF THE STRATEGY ON YMAX"
   ]
  },
  {
   "cell_type": "code",
   "execution_count": 21,
   "metadata": {},
   "outputs": [],
   "source": [
    "import numpy as np\n",
    "import pandas as pd\n",
    "\n",
    "# Compute daily returns from portfolio value for YMAX\n",
    "ymax_df[\"Portfolio_Return\"] = ymax_df[\"Portfolio_Value\"].pct_change()\n",
    "\n",
    "# 1️⃣ **Compute Key Performance Metrics for YMAX**\n",
    "performance_metrics_ymax = {}\n",
    "\n",
    "# **Total Return (%)**\n",
    "performance_metrics_ymax[\"Total Return (%)\"] = (ymax_df[\"Portfolio_Value\"].iloc[-1] / ymax_df[\"Portfolio_Value\"].iloc[0] - 1) * 100\n",
    "\n",
    "# **CAGR (Compounded Annual Growth Rate)**\n",
    "num_days = (ymax_df[\"Date\"].iloc[-1] - ymax_df[\"Date\"].iloc[0]).days\n",
    "years = num_days / 365\n",
    "performance_metrics_ymax[\"CAGR (%)\"] = ((ymax_df[\"Portfolio_Value\"].iloc[-1] / ymax_df[\"Portfolio_Value\"].iloc[0]) ** (1 / years) - 1) * 100\n",
    "\n",
    "# **Annualized Volatility (%)**\n",
    "performance_metrics_ymax[\"Annualized Volatility (%)\"] = ymax_df[\"Portfolio_Return\"].std() * np.sqrt(252) * 100\n",
    "\n",
    "# **Sharpe Ratio** (assuming risk-free rate = 2%)\n",
    "risk_free_rate = 0.02\n",
    "sharpe_ratio_ymax = (performance_metrics_ymax[\"CAGR (%)\"] / 100 - risk_free_rate) / (performance_metrics_ymax[\"Annualized Volatility (%)\"] / 100)\n",
    "performance_metrics_ymax[\"Sharpe Ratio\"] = sharpe_ratio_ymax\n",
    "\n",
    "# **Max Drawdown (%) - Corrected**\n",
    "rolling_max_ymax = ymax_df[\"Portfolio_Value\"].cummax()\n",
    "drawdown_ymax = (ymax_df[\"Portfolio_Value\"] / rolling_max_ymax) - 1  # This gives drawdowns as decimals\n",
    "\n",
    "# Convert drawdowns to percentage for display\n",
    "drawdown_ymax_percentage = drawdown_ymax * 100\n",
    "\n",
    "# Correct max drawdown calculation\n",
    "performance_metrics_ymax[\"Max Drawdown (%)\"] = drawdown_ymax_percentage.min()  # Already in percentage\n",
    "\n",
    "# **Calmar Ratio** (CAGR / Absolute Max Drawdown)\n",
    "max_drawdown_abs_ymax = abs(performance_metrics_ymax[\"Max Drawdown (%)\"])\n",
    "performance_metrics_ymax[\"Calmar Ratio\"] = performance_metrics_ymax[\"CAGR (%)\"] / max_drawdown_abs_ymax if max_drawdown_abs_ymax != 0 else np.nan\n",
    "\n",
    "# Convert performance metrics to DataFrame\n",
    "performance_df = pd.DataFrame(performance_metrics_ymax, index=[\"YMAX Strategy\"])"
   ]
  },
  {
   "cell_type": "code",
   "execution_count": 22,
   "metadata": {},
   "outputs": [
    {
     "data": {
      "image/png": "[encoded data removed]",
      "text/plain": [
       "<Figure size 1200x600 with 1 Axes>"
      ]
     },
     "metadata": {},
     "output_type": "display_data"
    }
   ],
   "source": [
    "# 2️⃣ **Plot Portfolio Drawdowns for YMAX - Fixed to Show % Drawdowns**\n",
    "sns.set_style(\"darkgrid\")\n",
    "plt.figure(figsize=(12, 6))\n",
    "\n",
    "# Plot Drawdowns with improved styling\n",
    "ax = sns.lineplot(x=ymax_df[\"Date\"], y=drawdown_ymax_percentage, color=\"red\", linewidth=2, label=\"Drawdown (%)\")\n",
    "\n",
    "# Fill area under the drawdown curve for better visualization\n",
    "plt.fill_between(ymax_df[\"Date\"], drawdown_ymax_percentage, color=\"red\", alpha=0.3)\n",
    "\n",
    "# Format Y-axis labels as percentages\n",
    "ax.yaxis.set_major_formatter(mticker.FuncFormatter(lambda y, _: f\"{y:.2f}%\"))\n",
    "\n",
    "# Format X-axis labels to show **one tick per month**\n",
    "ax.xaxis.set_major_locator(mdates.MonthLocator())  # Show ticks at the start of every month\n",
    "ax.xaxis.set_major_formatter(mdates.DateFormatter(\"%Y-%m\"))  # Format as YYYY-MM (e.g., 2024-03)\n",
    "\n",
    "# Customize labels and title\n",
    "plt.xlabel(\"Date\", fontsize=12, fontweight=\"bold\")\n",
    "plt.ylabel(\"Drawdown (%)\", fontsize=12, fontweight=\"bold\")\n",
    "plt.title(\"📉 Drawdowns of YMAX Strategy Over Time\", fontsize=14, fontweight=\"bold\", color=\"darkred\")\n",
    "\n",
    "# Adjust tick parameters for better readability\n",
    "plt.xticks(rotation=45, fontsize=10)\n",
    "plt.yticks(fontsize=10)\n",
    "\n",
    "# Add legend\n",
    "plt.legend(fontsize=11, loc=\"lower left\")\n",
    "\n",
    "# Show plot\n",
    "plt.show()"
   ]
  },
  {
   "cell_type": "code",
   "execution_count": 23,
   "metadata": {},
   "outputs": [
    {
     "data": {
      "application/vnd.microsoft.datawrangler.viewer.v0+json": {
       "columns": [
        {
         "name": "index",
         "rawType": "object",
         "type": "string"
        },
        {
         "name": "Total Return (%)",
         "rawType": "float64",
         "type": "float"
        },
        {
         "name": "CAGR (%)",
         "rawType": "float64",
         "type": "float"
        },
        {
         "name": "Annualized Volatility (%)",
         "rawType": "float64",
         "type": "float"
        },
        {
         "name": "Sharpe Ratio",
         "rawType": "float64",
         "type": "float"
        },
        {
         "name": "Max Drawdown (%)",
         "rawType": "float64",
         "type": "float"
        },
        {
         "name": "Calmar Ratio",
         "rawType": "float64",
         "type": "float"
        }
       ],
       "conversionMethod": "pd.DataFrame",
       "ref": "ff9bea26-0b5e-42ff-9b5a-0b1ad59e2591",
       "rows": [
        [
         "YMAX Strategy",
         "58.69",
         "60.13",
         "12.82",
         "4.54",
         "-3.93",
         "15.31"
        ]
       ],
       "shape": {
        "columns": 6,
        "rows": 1
       }
      },
      "text/html": [
       "<div>\n",
       "<style scoped>\n",
       "    .dataframe tbody tr th:only-of-type {\n",
       "        vertical-align: middle;\n",
       "    }\n",
       "\n",
       "    .dataframe tbody tr th {\n",
       "        vertical-align: top;\n",
       "    }\n",
       "\n",
       "    .dataframe thead th {\n",
       "        text-align: right;\n",
       "    }\n",
       "</style>\n",
       "<table border=\"1\" class=\"dataframe\">\n",
       "  <thead>\n",
       "    <tr style=\"text-align: right;\">\n",
       "      <th></th>\n",
       "      <th>Total Return (%)</th>\n",
       "      <th>CAGR (%)</th>\n",
       "      <th>Annualized Volatility (%)</th>\n",
       "      <th>Sharpe Ratio</th>\n",
       "      <th>Max Drawdown (%)</th>\n",
       "      <th>Calmar Ratio</th>\n",
       "    </tr>\n",
       "  </thead>\n",
       "  <tbody>\n",
       "    <tr>\n",
       "      <th>YMAX Strategy</th>\n",
       "      <td>58.69</td>\n",
       "      <td>60.13</td>\n",
       "      <td>12.82</td>\n",
       "      <td>4.54</td>\n",
       "      <td>-3.93</td>\n",
       "      <td>15.31</td>\n",
       "    </tr>\n",
       "  </tbody>\n",
       "</table>\n",
       "</div>"
      ],
      "text/plain": [
       "               Total Return (%)  CAGR (%)  Annualized Volatility (%)  \\\n",
       "YMAX Strategy             58.69     60.13                      12.82   \n",
       "\n",
       "               Sharpe Ratio  Max Drawdown (%)  Calmar Ratio  \n",
       "YMAX Strategy          4.54             -3.93         15.31  "
      ]
     },
     "execution_count": 23,
     "metadata": {},
     "output_type": "execute_result"
    }
   ],
   "source": [
    "# Display the performance metrics for YMAX\n",
    "performance_df_ymax = performance_df\n",
    "performance_df_ymax = performance_df_ymax.round(2)\n",
    "performance_df_ymax\n"
   ]
  },
  {
   "cell_type": "markdown",
   "metadata": {},
   "source": [
    "#### YMAG BACKTEST"
   ]
  },
  {
   "cell_type": "code",
   "execution_count": 24,
   "metadata": {},
   "outputs": [],
   "source": [
    "# Create a separate dataframe for YMAG backtesting\n",
    "ymag_df = Prices_and_stats_df.copy()\n",
    "\n",
    "# Define initial portfolio value\n",
    "initial_investment = 10000  # $10,000 starting capital\n",
    "\n",
    "# Function to determine strategy for YMAG only\n",
    "def determine_strategy_ymag(row):\n",
    "    if row[\"VIX\"] < 20 and row[\"VVIX\"] < 100:\n",
    "        return \"Long YMAG (No Hedge)\"\n",
    "    elif row[\"VIX\"] >= 20 or row[\"VVIX\"] >= 100:\n",
    "        if row[\"YMAG-VIX Correlation\"] < -0.3 or row[\"YMAG-VVIX Correlation\"] < -0.3:\n",
    "            return \"No Investment\"\n",
    "        return \"Long YMAG + Short QQQ\"\n",
    "    return \"No Investment\"\n",
    "\n",
    "# Apply the strategy to YMAG data\n",
    "ymag_df[\"Strategy\"] = ymag_df.apply(determine_strategy_ymag, axis=1)\n",
    "\n",
    "# Initialize tracking columns\n",
    "ymag_df[\"Portfolio_Value\"] = initial_investment\n",
    "\n",
    "# Initialize a column to track QQQ shorted shares\n",
    "ymag_df[\"QQQ_Shares_Short\"] = 0\n",
    "\n",
    "# Iterate over rows to simulate performance\n",
    "for i in range(1, len(ymag_df)):\n",
    "    prev_value = ymag_df.loc[i-1, \"Portfolio_Value\"]\n",
    "    strategy = ymag_df.loc[i, \"Strategy\"]\n",
    "    \n",
    "    if strategy == \"Long YMAG (No Hedge)\":\n",
    "        # Calculate the number of shares held\n",
    "        shares_held = prev_value / ymag_df.loc[i-1, \"YMAG\"]\n",
    "\n",
    "        # Get today's price and dividends per share\n",
    "        today_price = ymag_df.loc[i, \"YMAG\"]\n",
    "        today_dividend = ymag_df.loc[i, \"YMAG Dividends\"]\n",
    "\n",
    "        # Compute new portfolio value\n",
    "        ymag_df.loc[i, \"Portfolio_Value\"] = shares_held * (today_price + today_dividend)\n",
    "\n",
    "    elif strategy == \"Long YMAG + Short QQQ\":\n",
    "        # Calculate the number of YMAG shares held\n",
    "        shares_held = prev_value / ymag_df.loc[i-1, \"YMAG\"]\n",
    "\n",
    "        # Get today's price and dividends per share\n",
    "        today_price = ymag_df.loc[i, \"YMAG\"]\n",
    "        today_dividend = ymag_df.loc[i, \"YMAG Dividends\"]\n",
    "\n",
    "        # Handle QQQ Hedge\n",
    "        if ymag_df.loc[i-1, \"Strategy\"] != \"Long YMAG + Short QQQ\":\n",
    "            # First time hedge is applied → Short QQQ\n",
    "            ymag_df.loc[i, \"QQQ_Shares_Short\"] = prev_value / ymag_df.loc[i-1, \"QQQ\"]\n",
    "        else:\n",
    "            # Continue holding the short position\n",
    "            ymag_df.loc[i, \"QQQ_Shares_Short\"] = ymag_df.loc[i-1, \"QQQ_Shares_Short\"]\n",
    "\n",
    "        # Compute hedge loss\n",
    "        hedge_loss = ymag_df.loc[i, \"QQQ_Shares_Short\"] * (ymag_df.loc[i, \"QQQ\"] - ymag_df.loc[i-1, \"QQQ\"])\n",
    "\n",
    "        # Store hedge loss\n",
    "        ymag_df.loc[i, \"QQQ_Short_Loss\"] = hedge_loss\n",
    "\n",
    "        # Compute new portfolio value\n",
    "        ymag_df.loc[i, \"Portfolio_Value\"] = (shares_held * (today_price + today_dividend)) - hedge_loss\n",
    "\n",
    "    elif strategy == \"No Investment\":\n",
    "        ymag_df.loc[i, \"Portfolio_Value\"] = prev_value  # Stay in cash\n"
   ]
  },
  {
   "cell_type": "code",
   "execution_count": 25,
   "metadata": {},
   "outputs": [
    {
     "data": {
      "image/png": "[encoded data removed]",
      "text/plain": [
       "<Figure size 1200x600 with 1 Axes>"
      ]
     },
     "metadata": {},
     "output_type": "display_data"
    },
    {
     "data": {
      "image/png": "[encoded data removed]",
      "text/plain": [
       "<Figure size 1200x400 with 1 Axes>"
      ]
     },
     "metadata": {},
     "output_type": "display_data"
    }
   ],
   "source": [
    "import seaborn as sns\n",
    "import matplotlib.pyplot as plt\n",
    "import matplotlib.dates as mdates\n",
    "\n",
    "# Set Seaborn style for a clean aesthetic\n",
    "sns.set_style(\"whitegrid\")\n",
    "\n",
    "# 1️⃣ **Plot Portfolio Performance for YMAG**\n",
    "plt.figure(figsize=(12, 6))\n",
    "ax = sns.lineplot(x=ymag_df[\"Date\"], y=ymag_df[\"Portfolio_Value\"], color=\"green\", linewidth=2.5, label=\"Portfolio Value (YMAG)\")\n",
    "\n",
    "# Format X-axis to display months\n",
    "ax.xaxis.set_major_locator(mdates.MonthLocator())  \n",
    "ax.xaxis.set_major_formatter(mdates.DateFormatter(\"%Y-%m\"))  \n",
    "\n",
    "# Improve labels and title\n",
    "plt.xlabel(\"Date\", fontsize=14, fontweight=\"bold\")\n",
    "plt.ylabel(\"Portfolio Value ($)\", fontsize=14, fontweight=\"bold\")\n",
    "plt.title(\"📈 Portfolio Performance for YMAG Over Time\", fontsize=16, fontweight=\"bold\", color=\"darkgreen\")\n",
    "\n",
    "# Rotate X-axis labels for better readability\n",
    "plt.xticks(rotation=45, fontsize=12)\n",
    "plt.yticks(fontsize=12)\n",
    "\n",
    "# Add THICKER grid lines with color\n",
    "plt.grid(True, linestyle=\"--\", linewidth=1.2, color=\"gray\")\n",
    "\n",
    "# Add legend with improved styling\n",
    "plt.legend(fontsize=12, loc=\"upper left\", frameon=True, shadow=True, edgecolor=\"black\")\n",
    "\n",
    "# Show plot\n",
    "plt.show()\n",
    "\n",
    "# 2️⃣ **Plot Strategy Usage Over Time for YMAG**\n",
    "plt.figure(figsize=(12, 4))\n",
    "ax = sns.barplot(x=ymag_df[\"Strategy\"].value_counts().index, y=ymag_df[\"Strategy\"].value_counts().values, palette=[\"darkgreen\", \"red\", \"royalblue\"])\n",
    "\n",
    "# Improve labels and title\n",
    "plt.xlabel(\"Strategy\", fontsize=14, fontweight=\"bold\")\n",
    "plt.ylabel(\"Number of Days\", fontsize=14, fontweight=\"bold\")\n",
    "plt.title(\"📊 Strategy Distribution Over Time (YMAG)\", fontsize=16, fontweight=\"bold\", color=\"navy\")\n",
    "\n",
    "# Rotate X-axis labels for better readability\n",
    "plt.xticks(rotation=45, fontsize=12)\n",
    "\n",
    "# Add THICKER grid lines with color\n",
    "plt.grid(axis=\"y\", linestyle=\"--\", linewidth=1.2, color=\"gray\")\n",
    "\n",
    "# Show plot\n",
    "plt.show()\n"
   ]
  },
  {
   "cell_type": "markdown",
   "metadata": {},
   "source": [
    "##### PERFORMANCE MEASURES OF THE STRATEGY FOR YMAG"
   ]
  },
  {
   "cell_type": "code",
   "execution_count": 26,
   "metadata": {},
   "outputs": [],
   "source": [
    "# Compute daily returns from portfolio value\n",
    "ymag_df[\"Portfolio_Return\"] = ymag_df[\"Portfolio_Value\"].pct_change()\n",
    "\n",
    "# 1️⃣ **Compute Key Performance Metrics**\n",
    "performance_metrics = {}\n",
    "\n",
    "# **Total Return (%)**\n",
    "performance_metrics[\"Total Return (%)\"] = (ymag_df[\"Portfolio_Value\"].iloc[-1] / ymag_df[\"Portfolio_Value\"].iloc[0] - 1) * 100\n",
    "\n",
    "# **CAGR (Compounded Annual Growth Rate)**\n",
    "num_days = (ymag_df[\"Date\"].iloc[-1] - ymag_df[\"Date\"].iloc[0]).days\n",
    "years = num_days / 365\n",
    "performance_metrics[\"CAGR (%)\"] = ((ymag_df[\"Portfolio_Value\"].iloc[-1] / ymag_df[\"Portfolio_Value\"].iloc[0]) ** (1 / years) - 1) * 100\n",
    "\n",
    "# **Annualized Volatility (%)**\n",
    "performance_metrics[\"Annualized Volatility (%)\"] = ymag_df[\"Portfolio_Return\"].std() * np.sqrt(252) * 100\n",
    "\n",
    "# **Sharpe Ratio** (assuming risk-free rate = 2%)\n",
    "risk_free_rate = 0.02\n",
    "sharpe_ratio = (performance_metrics[\"CAGR (%)\"] / 100 - risk_free_rate) / (performance_metrics[\"Annualized Volatility (%)\"] / 100)\n",
    "performance_metrics[\"Sharpe Ratio\"] = sharpe_ratio\n",
    "\n",
    "# **Max Drawdown (%) - Corrected**\n",
    "rolling_max = ymag_df[\"Portfolio_Value\"].cummax()\n",
    "drawdown = (ymag_df[\"Portfolio_Value\"] / rolling_max) - 1  # This gives drawdowns as decimals\n",
    "\n",
    "# Convert drawdowns to percentage for display\n",
    "drawdown_percentage = drawdown * 100\n",
    "\n",
    "# Correct max drawdown calculation\n",
    "performance_metrics[\"Max Drawdown (%)\"] = drawdown_percentage.min()  # Already in percentage\n",
    "\n",
    "# **Calmar Ratio** (CAGR / Absolute Max Drawdown)\n",
    "max_drawdown_abs = abs(performance_metrics[\"Max Drawdown (%)\"])\n",
    "performance_metrics[\"Calmar Ratio\"] = performance_metrics[\"CAGR (%)\"] / max_drawdown_abs if max_drawdown_abs != 0 else np.nan\n",
    "\n",
    "# Convert performance metrics to DataFrame\n",
    "performance_df = pd.DataFrame(performance_metrics, index=[\"YMAG Strategy\"])\n"
   ]
  },
  {
   "cell_type": "code",
   "execution_count": 27,
   "metadata": {},
   "outputs": [
    {
     "data": {
      "image/png": "[encoded data removed]",
      "text/plain": [
       "<Figure size 1200x600 with 1 Axes>"
      ]
     },
     "metadata": {},
     "output_type": "display_data"
    }
   ],
   "source": [
    "# Set Seaborn theme for better aesthetics\n",
    "sns.set_style(\"darkgrid\")\n",
    "plt.figure(figsize=(12, 6))\n",
    "\n",
    "# Plot Drawdowns with improved styling\n",
    "ax = sns.lineplot(x=ymag_df[\"Date\"], y=drawdown_percentage, color=\"red\", linewidth=2, label=\"Drawdown (%)\")\n",
    "\n",
    "# Fill area under the drawdown curve for better visualization\n",
    "plt.fill_between(ymag_df[\"Date\"], drawdown_percentage, color=\"red\", alpha=0.3)\n",
    "\n",
    "# Format Y-axis labels as percentages\n",
    "ax.yaxis.set_major_formatter(mticker.FuncFormatter(lambda y, _: f\"{y:.2f}%\"))\n",
    "\n",
    "# Format X-axis labels to show **one tick per month**\n",
    "ax.xaxis.set_major_locator(mdates.MonthLocator())  # Show ticks at the start of every month\n",
    "ax.xaxis.set_major_formatter(mdates.DateFormatter(\"%Y-%m\"))  # Format as YYYY-MM (e.g., 2024-03)\n",
    "\n",
    "# Customize labels and title\n",
    "plt.xlabel(\"Date\", fontsize=12, fontweight=\"bold\")\n",
    "plt.ylabel(\"Drawdown (%)\", fontsize=12, fontweight=\"bold\")\n",
    "plt.title(\"📉 Drawdowns of YMAG Strategy Over Time\", fontsize=14, fontweight=\"bold\", color=\"darkred\")\n",
    "\n",
    "# Adjust tick parameters for better readability\n",
    "plt.xticks(rotation=45, fontsize=10)\n",
    "plt.yticks(fontsize=10)\n",
    "\n",
    "# Add legend\n",
    "plt.legend(fontsize=11, loc=\"lower left\")\n",
    "\n",
    "# Show plot\n",
    "plt.show()"
   ]
  },
  {
   "cell_type": "code",
   "execution_count": 28,
   "metadata": {},
   "outputs": [
    {
     "data": {
      "application/vnd.microsoft.datawrangler.viewer.v0+json": {
       "columns": [
        {
         "name": "index",
         "rawType": "object",
         "type": "string"
        },
        {
         "name": "Total Return (%)",
         "rawType": "float64",
         "type": "float"
        },
        {
         "name": "CAGR (%)",
         "rawType": "float64",
         "type": "float"
        },
        {
         "name": "Annualized Volatility (%)",
         "rawType": "float64",
         "type": "float"
        },
        {
         "name": "Sharpe Ratio",
         "rawType": "float64",
         "type": "float"
        },
        {
         "name": "Max Drawdown (%)",
         "rawType": "float64",
         "type": "float"
        },
        {
         "name": "Calmar Ratio",
         "rawType": "float64",
         "type": "float"
        }
       ],
       "conversionMethod": "pd.DataFrame",
       "ref": "5ff1861a-fdce-4f48-8d66-b108343df71c",
       "rows": [
        [
         "YMAG Strategy",
         "65.51",
         "67.15",
         "13.57",
         "4.8",
         "-6.58",
         "10.21"
        ]
       ],
       "shape": {
        "columns": 6,
        "rows": 1
       }
      },
      "text/html": [
       "<div>\n",
       "<style scoped>\n",
       "    .dataframe tbody tr th:only-of-type {\n",
       "        vertical-align: middle;\n",
       "    }\n",
       "\n",
       "    .dataframe tbody tr th {\n",
       "        vertical-align: top;\n",
       "    }\n",
       "\n",
       "    .dataframe thead th {\n",
       "        text-align: right;\n",
       "    }\n",
       "</style>\n",
       "<table border=\"1\" class=\"dataframe\">\n",
       "  <thead>\n",
       "    <tr style=\"text-align: right;\">\n",
       "      <th></th>\n",
       "      <th>Total Return (%)</th>\n",
       "      <th>CAGR (%)</th>\n",
       "      <th>Annualized Volatility (%)</th>\n",
       "      <th>Sharpe Ratio</th>\n",
       "      <th>Max Drawdown (%)</th>\n",
       "      <th>Calmar Ratio</th>\n",
       "    </tr>\n",
       "  </thead>\n",
       "  <tbody>\n",
       "    <tr>\n",
       "      <th>YMAG Strategy</th>\n",
       "      <td>65.51</td>\n",
       "      <td>67.15</td>\n",
       "      <td>13.57</td>\n",
       "      <td>4.8</td>\n",
       "      <td>-6.58</td>\n",
       "      <td>10.21</td>\n",
       "    </tr>\n",
       "  </tbody>\n",
       "</table>\n",
       "</div>"
      ],
      "text/plain": [
       "               Total Return (%)  CAGR (%)  Annualized Volatility (%)  \\\n",
       "YMAG Strategy             65.51     67.15                      13.57   \n",
       "\n",
       "               Sharpe Ratio  Max Drawdown (%)  Calmar Ratio  \n",
       "YMAG Strategy           4.8             -6.58         10.21  "
      ]
     },
     "execution_count": 28,
     "metadata": {},
     "output_type": "execute_result"
    }
   ],
   "source": [
    "#View the performance metrics DataFrame\n",
    "performance_df_ymag = performance_df\n",
    "performance_df_ymag = performance_df_ymag.round(2)\n",
    "performance_df_ymag"
   ]
  },
  {
   "cell_type": "code",
   "execution_count": 29,
   "metadata": {},
   "outputs": [
    {
     "name": "stdout",
     "output_type": "stream",
     "text": [
      "✅ Performance DataFrames successfully saved to 'Prices_and_stats_df.xlsx'\n"
     ]
    }
   ],
   "source": [
    "# Convert portfolio returns to percentage format of 2 decimal places\n",
    "ymax_df[\"Portfolio_Return\"] = (ymax_df[\"Portfolio_Return\"] * 100).round(2)\n",
    "ymag_df[\"Portfolio_Return\"] = (ymag_df[\"Portfolio_Return\"] * 100).round(2)\n",
    "\n",
    "# Rename the 'Portfolio_Return' column to 'Portfolio_Return (%)'\n",
    "ymag_df.rename(columns={\"Portfolio_Return\": \"Portfolio_Return (%)\"}, inplace=True)\n",
    "ymax_df.rename(columns={\"Portfolio_Return\": \"Portfolio_Return (%)\"}, inplace=True)\n",
    "\n",
    "# Export the data to excel\n",
    "# Create a Pandas Excel writer using XlsxWriter as the engine\n",
    "with pd.ExcelWriter('Prices_and_stats_df.xlsx', engine='xlsxwriter') as writer:\n",
    "    # Write Prices_and_stats_df to the first sheet\n",
    "    Prices_and_stats_df.to_excel(writer, sheet_name='Sheet1', index=False)\n",
    "    \n",
    "    # Write ymax_df to the second sheet\n",
    "    ymax_df.to_excel(writer, sheet_name='Ymax Trading Results', index=False)\n",
    "    \n",
    "    # Write ymag_df to the third sheet\n",
    "    ymag_df.to_excel(writer, sheet_name='YMAG Trading Results', index=False)\n",
    "    \n",
    "    # Export YMAX Performance Metrics to the 3rd sheet\n",
    "    performance_df_ymax.to_excel(writer, sheet_name=\"YMAX Performance\", index=True)\n",
    "\n",
    "    # Export YMAG Performance Metrics to the 4th sheet\n",
    "    performance_df_ymag.to_excel(writer, sheet_name=\"YMAG Performance\", index=True)\n",
    "    \n",
    "print(f\"✅ Performance DataFrames successfully saved to 'Prices_and_stats_df.xlsx'\")"
   ]
  },
  {
   "cell_type": "markdown",
   "metadata": {},
   "source": [
    "# 🚀 Handling Different Trading Strategies\n",
    "\n",
    "Each trading strategy affects the **portfolio value** differently. We now handle **three scenarios** based on the chosen strategy for each day.\n",
    "\n",
    "---\n",
    "\n",
    "## 🟢 1️⃣ Case 1: Long YMAG (No Hedge)\n",
    "### **Condition:**\n",
    "- If **VIX < 20** and **VVIX < 100**, we go **fully long on YMAG (without hedging QQQ).**\n",
    "\n",
    "### **Portfolio Update Formula:**\n",
    "$$\n",
    "\\text{Portfolio Value}_t = \\text{Shares Held} \\times (\\text{YMAG Price}_t + \\text{YMAG Dividend}_t)\n",
    "$$\n",
    "\n",
    "Where:\n",
    "- **Shares Held** = Number of shares purchased using the previous day's portfolio value:\n",
    "  $$\n",
    "  \\text{Shares Held} = \\frac{\\text{Portfolio Value}_{t-1}}{\\text{YMAG Price}_{t-1}}\n",
    "  $$\n",
    "- **YMAG Price** = The price of YMAG at time $t$.\n",
    "- **YMAG Dividend** = Dividend per share distributed at time $t$.\n",
    "\n",
    "### ✅ Example Calculation:\n",
    "- **Yesterday’s Portfolio Value:** $10,000  \n",
    "- **YMAG Price Yesterday:** $20.00  \n",
    "- **Shares Purchased:** $10,000 / $20.00 = **500 shares**  \n",
    "- **Today’s YMAG Price:** $20.50  \n",
    "- **Dividend Today:** $0.50 per share  \n",
    "\n",
    "$$\n",
    "\\text{Portfolio Value}_t = 500 \\times (20.50 + 0.50) = 500 \\times 21.00 = 10,500\n",
    "$$\n",
    "\n",
    "---\n",
    "\n",
    "## 🔵 2️⃣ Case 2: Long YMAG + Short QQQ (Hedged)\n",
    "### **Condition:**\n",
    "- If **VIX ≥ 20** or **VVIX ≥ 100**, we go **long YMAG and hedge by shorting QQQ**.\n",
    "- Shorting QQQ means that **when QQQ goes up, we lose money**, and **when QQQ goes down, we gain money**.\n",
    "\n",
    "### **Portfolio Update Formula:**\n",
    "$$\n",
    "\\text{Portfolio Value}_t = (\\text{Shares Held} \\times (\\text{YMAG Price}_t + \\text{YMAG Dividend}_t)) - \\text{QQQ Hedge PnL}_t\n",
    "$$\n",
    "\n",
    "Where:\n",
    "- **Shares Held** = Same as in Case 1:\n",
    "  $$\n",
    "  \\text{Shares Held} = \\frac{\\text{Portfolio Value}_{t-1}}{\\text{YMAG Price}_{t-1}}\n",
    "  $$\n",
    "- **QQQ Hedge Profit/Loss (PnL):**\n",
    "  $$\n",
    "  \\text{QQQ Hedge PnL}_t = \\text{QQQ Shares Shorted} \\times (\\text{QQQ Price}_{t-1} - \\text{QQQ Price}_t)\n",
    "  $$\n",
    "\n",
    "- **QQQ Shares Shorted:** (Calculated only when the hedge is first applied)\n",
    "  $$\n",
    "  \\text{QQQ Shares Shorted} = \\frac{\\text{Portfolio Value}_{t-1}}{\\text{QQQ Price}_{t-1}}\n",
    "  $$\n",
    "\n",
    "### ✅ Example Calculation:\n",
    "- **Yesterday’s Portfolio Value:** $10,000  \n",
    "- **YMAG Price Yesterday:** $20.00  \n",
    "- **Shares Purchased:** $10,000 / $20.00 = **500 shares**  \n",
    "- **Today’s YMAG Price:** $20.60  \n",
    "- **Dividend Today:** $0.50 per share  \n",
    "- **QQQ Price Yesterday:** $400 → **Today:** $405  \n",
    "\n",
    "#### **Step 1: Calculate Hedge PnL**\n",
    "- **QQQ Shares Shorted:**\n",
    "  $$\n",
    "  \\frac{10,000}{400} = 25 \\text{ shares}\n",
    "  $$\n",
    "- **QQQ Hedge Loss:**\n",
    "  $$\n",
    "  25 \\times (400 - 405) = 25 \\times (-5) = -125\n",
    "  $$\n",
    "\n",
    "#### **Step 2: Update Portfolio Value**\n",
    "$$\n",
    "\\text{Portfolio Value}_t = (500 \\times (20.60 + 0.50)) - (-125)\n",
    "$$\n",
    "\n",
    "$$\n",
    "= (500 \\times 21.10) - (-125) = 10,550 + 125 = 10,675\n",
    "$$\n",
    "\n",
    "---\n",
    "\n",
    "## 🔴 3️⃣ Case 3: No Investment (Stay in Cash)\n",
    "### **Condition:**\n",
    "- If **VIX ≥ 20 or VVIX ≥ 100** and **correlation of YMAG with VIX or VVIX < -0.3**, we **do not invest**.\n",
    "- The **portfolio remains unchanged**.\n",
    "\n",
    "### **Portfolio Update Formula:**\n",
    "$$\n",
    "\\text{Portfolio Value}_t = \\text{Portfolio Value}_{t-1}\n",
    "$$\n",
    "\n",
    "### ✅ Example Calculation:\n",
    "- **Yesterday’s Portfolio:** $10,000  \n",
    "- **Today’s Strategy:** `\"No Investment\"`  \n",
    "- **Portfolio Value Stays the Same:**  \n",
    "  $$\n",
    "  \\text{Portfolio Value}_t = 10,000\n",
    "  $$\n",
    "\n",
    "---\n",
    "\n",
    "## 📌 **Summary Table**\n",
    "\n",
    "| **Strategy**                     | **Formula Used** |\n",
    "|-----------------------------------|------------------|\n",
    "| **Long YMAG (No Hedge)**          | $ \\text{Portfolio Value}_t = \\text{Shares Held} \\times (\\text{YMAG Price}_t + \\text{YMAG Dividend}_t) $ |\n",
    "| **Long YMAG + Short QQQ**         | $ \\text{Portfolio Value}_t = (\\text{Shares Held} \\times (\\text{YMAG Price}_t + \\text{YMAG Dividend}_t)) - \\text{QQQ Hedge PnL}_t $ |\n",
    "| **No Investment (Stay in Cash)**  | $ \\text{Portfolio Value}_t = \\text{Portfolio Value}_{t-1} $ |\n",
    "\n",
    "This breakdown ensures the correct handling of **portfolio value updates under each trading strategy**, including the **correct hedge profit/loss for QQQ shorting**. 🚀\n"
   ]
  }
 ],
 "metadata": {
  "kernelspec": {
   "display_name": "Python 3",
   "language": "python",
   "name": "python3"
  },
  "language_info": {
   "codemirror_mode": {
    "name": "ipython",
    "version": 3
   },
   "file_extension": ".py",
   "mimetype": "text/x-python",
   "name": "python",
   "nbconvert_exporter": "python",
   "pygments_lexer": "ipython3",
   "version": "3.13.2"
  }
 },
 "nbformat": 4,
 "nbformat_minor": 2
}
